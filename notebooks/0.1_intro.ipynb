{
 "cells": [
  {
   "cell_type": "markdown",
   "id": "pressing-sauce",
   "metadata": {},
   "source": [
    "# 0.1_intro"
   ]
  },
  {
   "cell_type": "code",
   "execution_count": 1,
   "id": "heated-bumper",
   "metadata": {
    "execution": {
     "iopub.execute_input": "2021-01-25T07:34:34.794107Z",
     "iopub.status.busy": "2021-01-25T07:34:34.793901Z",
     "iopub.status.idle": "2021-01-25T07:34:40.623947Z",
     "shell.execute_reply": "2021-01-25T07:34:40.623246Z",
     "shell.execute_reply.started": "2021-01-25T07:34:34.794055Z"
    }
   },
   "outputs": [],
   "source": [
    "%load_ext autoreload\n",
    "%autoreload 2\n",
    "%matplotlib inline\n",
    "%load_ext blackcellmagic\n",
    "\n",
    "import pandas as pd\n",
    "import numpy as np\n",
    "import seaborn as sns\n",
    "import matplotlib.pyplot as plt"
   ]
  },
  {
   "cell_type": "code",
   "execution_count": null,
   "id": "chief-vermont",
   "metadata": {},
   "outputs": [],
   "source": []
  },
  {
   "cell_type": "code",
   "execution_count": null,
   "id": "packed-password",
   "metadata": {},
   "outputs": [],
   "source": []
  }
 ],
 "metadata": {
  "kernelspec": {
   "display_name": "Python 3",
   "language": "python",
   "name": "python3"
  },
  "language_info": {
   "codemirror_mode": {
    "name": "ipython",
    "version": 3
   },
   "file_extension": ".py",
   "mimetype": "text/x-python",
   "name": "python",
   "nbconvert_exporter": "python",
   "pygments_lexer": "ipython3",
   "version": "3.9.0"
  }
 },
 "nbformat": 4,
 "nbformat_minor": 5
}
