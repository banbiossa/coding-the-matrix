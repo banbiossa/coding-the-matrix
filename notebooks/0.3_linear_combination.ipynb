{
 "cells": [
  {
   "cell_type": "markdown",
   "id": "missing-module",
   "metadata": {},
   "source": [
    "# 0.3_linear_combination"
   ]
  },
  {
   "cell_type": "code",
   "execution_count": 33,
   "id": "social-thong",
   "metadata": {
    "execution": {
     "iopub.execute_input": "2021-02-02T13:30:38.584865Z",
     "iopub.status.busy": "2021-02-02T13:30:38.584617Z",
     "iopub.status.idle": "2021-02-02T13:30:38.620496Z",
     "shell.execute_reply": "2021-02-02T13:30:38.619531Z",
     "shell.execute_reply.started": "2021-02-02T13:30:38.584838Z"
    }
   },
   "outputs": [
    {
     "name": "stdout",
     "output_type": "stream",
     "text": [
      "The autoreload extension is already loaded. To reload it, use:\n",
      "  %reload_ext autoreload\n",
      "The blackcellmagic extension is already loaded. To reload it, use:\n",
      "  %reload_ext blackcellmagic\n"
     ]
    }
   ],
   "source": [
    "%load_ext autoreload\n",
    "%autoreload 2\n",
    "%matplotlib inline\n",
    "%load_ext blackcellmagic\n",
    "\n",
    "import pandas as pd\n",
    "import numpy as np\n",
    "import seaborn as sns\n",
    "import matplotlib.pyplot as plt\n",
    "\n",
    "def nrows(n):\n",
    "    pd.options.display.max_rows = n\n",
    "\n",
    "nrows(5)\n",
    "\n",
    "from coding_the_matrix.Vec import Vec\n",
    "from coding_the_matrix.vecutil import zero_vec\n",
    "from coding_the_matrix.GF2 import one"
   ]
  },
  {
   "cell_type": "code",
   "execution_count": 42,
   "id": "individual-battery",
   "metadata": {
    "execution": {
     "iopub.execute_input": "2021-02-02T13:31:45.713075Z",
     "iopub.status.busy": "2021-02-02T13:31:45.712833Z",
     "iopub.status.idle": "2021-02-02T13:31:45.741886Z",
     "shell.execute_reply": "2021-02-02T13:31:45.741015Z",
     "shell.execute_reply.started": "2021-02-02T13:31:45.713047Z"
    }
   },
   "outputs": [],
   "source": [
    "def list2vec(L):\n",
    "    \"\"\"Vec with domain {0, 1, ..., len(L)} and v[i] = L[i]\n",
    "    \"\"\"\n",
    "    return Vec({i for i in range(len(L))}, {i: L[i] for i in range(len(L))})\n",
    "\n",
    "\n",
    "n = [[0, one, 0], [0, one, one], [0, 0, 0]]\n",
    "b = [7, 4, 12]\n",
    "vecs = [list2vec(L) for L in n]"
   ]
  },
  {
   "cell_type": "code",
   "execution_count": 43,
   "id": "unlikely-helicopter",
   "metadata": {
    "execution": {
     "iopub.execute_input": "2021-02-02T13:31:46.285076Z",
     "iopub.status.busy": "2021-02-02T13:31:46.284825Z",
     "iopub.status.idle": "2021-02-02T13:31:46.311648Z",
     "shell.execute_reply": "2021-02-02T13:31:46.310957Z",
     "shell.execute_reply.started": "2021-02-02T13:31:46.285048Z"
    }
   },
   "outputs": [
    {
     "data": {
      "text/plain": [
       "[Vec({0, 1, 2}, {0: 0, 1: 1, 2: 0}),\n",
       " Vec({0, 1, 2}, {0: 0, 1: 1, 2: 1}),\n",
       " Vec({0, 1, 2}, {0: 0, 1: 0, 2: 0})]"
      ]
     },
     "execution_count": 43,
     "metadata": {},
     "output_type": "execute_result"
    }
   ],
   "source": [
    "vecs"
   ]
  },
  {
   "cell_type": "code",
   "execution_count": 44,
   "id": "refined-recorder",
   "metadata": {
    "execution": {
     "iopub.execute_input": "2021-02-02T13:31:47.273884Z",
     "iopub.status.busy": "2021-02-02T13:31:47.273627Z",
     "iopub.status.idle": "2021-02-02T13:31:47.299853Z",
     "shell.execute_reply": "2021-02-02T13:31:47.299082Z",
     "shell.execute_reply.started": "2021-02-02T13:31:47.273856Z"
    }
   },
   "outputs": [],
   "source": [
    "D = vecs[0].D"
   ]
  },
  {
   "cell_type": "code",
   "execution_count": 45,
   "id": "vulnerable-tablet",
   "metadata": {
    "execution": {
     "iopub.execute_input": "2021-02-02T13:31:47.466550Z",
     "iopub.status.busy": "2021-02-02T13:31:47.466310Z",
     "iopub.status.idle": "2021-02-02T13:31:47.491807Z",
     "shell.execute_reply": "2021-02-02T13:31:47.491153Z",
     "shell.execute_reply.started": "2021-02-02T13:31:47.466523Z"
    }
   },
   "outputs": [],
   "source": [
    "L = vecs"
   ]
  },
  {
   "cell_type": "code",
   "execution_count": 46,
   "id": "owned-store",
   "metadata": {
    "execution": {
     "iopub.execute_input": "2021-02-02T13:31:47.724484Z",
     "iopub.status.busy": "2021-02-02T13:31:47.724238Z",
     "iopub.status.idle": "2021-02-02T13:31:47.750608Z",
     "shell.execute_reply": "2021-02-02T13:31:47.749930Z",
     "shell.execute_reply.started": "2021-02-02T13:31:47.724457Z"
    }
   },
   "outputs": [],
   "source": [
    "def vec_sum(veclist: list[Vec], D: set):\n",
    "    \"\"\"the vector sum of the vectors in veclist\n",
    "    \"\"\"\n",
    "    return sum(veclist, zero_vec(D))"
   ]
  },
  {
   "cell_type": "code",
   "execution_count": 59,
   "id": "looking-vacuum",
   "metadata": {
    "execution": {
     "iopub.execute_input": "2021-02-02T13:36:01.219876Z",
     "iopub.status.busy": "2021-02-02T13:36:01.219630Z",
     "iopub.status.idle": "2021-02-02T13:36:01.247079Z",
     "shell.execute_reply": "2021-02-02T13:36:01.246355Z",
     "shell.execute_reply.started": "2021-02-02T13:36:01.219847Z"
    }
   },
   "outputs": [],
   "source": [
    "def GF2_span(D, L: list[Vec]):\n",
    "    span = []\n",
    "    # number of spans\n",
    "    for i in range(2**len(L)):\n",
    "        representation = f\"{i:b}\".zfill(len(L))\n",
    "        vectors = [L[j] for j, c in enumerate(representation) if c == '1']\n",
    "        span.append(vec_sum(vectors, D).copy())\n",
    "    return list(set(span))"
   ]
  },
  {
   "cell_type": "code",
   "execution_count": 66,
   "id": "broke-raise",
   "metadata": {
    "execution": {
     "iopub.execute_input": "2021-02-02T13:37:44.738583Z",
     "iopub.status.busy": "2021-02-02T13:37:44.738193Z",
     "iopub.status.idle": "2021-02-02T13:37:44.767560Z",
     "shell.execute_reply": "2021-02-02T13:37:44.766887Z",
     "shell.execute_reply.started": "2021-02-02T13:37:44.738539Z"
    }
   },
   "outputs": [
    {
     "data": {
      "text/plain": [
       "[Vec({0, 1, 2}, {0: 0, 1: 0, 2: 0})]"
      ]
     },
     "execution_count": 66,
     "metadata": {},
     "output_type": "execute_result"
    }
   ],
   "source": [
    "GF2_span(D, [])"
   ]
  },
  {
   "cell_type": "code",
   "execution_count": 63,
   "id": "handmade-soldier",
   "metadata": {
    "execution": {
     "iopub.execute_input": "2021-02-02T13:36:57.917999Z",
     "iopub.status.busy": "2021-02-02T13:36:57.917756Z",
     "iopub.status.idle": "2021-02-02T13:36:57.945894Z",
     "shell.execute_reply": "2021-02-02T13:36:57.945019Z",
     "shell.execute_reply.started": "2021-02-02T13:36:57.917972Z"
    }
   },
   "outputs": [
    {
     "data": {
      "text/plain": [
       "[Vec({0, 1, 2}, {0: 0, 1: 1, 2: 0}),\n",
       " Vec({0, 1, 2}, {0: 0, 1: 0, 2: 1}),\n",
       " Vec({0, 1, 2}, {0: 0, 1: 0, 2: 0}),\n",
       " Vec({0, 1, 2}, {0: 0, 1: 1, 2: 1})]"
      ]
     },
     "execution_count": 63,
     "metadata": {},
     "output_type": "execute_result"
    }
   ],
   "source": [
    "n = [[0, one, 0], [0, one, one], [0, 0, 0]]\n",
    "vecs = [list2vec(L) for L in n]\n",
    "GF2_span(D, vecs)"
   ]
  },
  {
   "cell_type": "code",
   "execution_count": 64,
   "id": "suited-ranch",
   "metadata": {
    "execution": {
     "iopub.execute_input": "2021-02-02T13:36:58.681904Z",
     "iopub.status.busy": "2021-02-02T13:36:58.681672Z",
     "iopub.status.idle": "2021-02-02T13:36:58.711471Z",
     "shell.execute_reply": "2021-02-02T13:36:58.710683Z",
     "shell.execute_reply.started": "2021-02-02T13:36:58.681878Z"
    }
   },
   "outputs": [
    {
     "data": {
      "text/plain": [
       "[Vec({0, 1, 2}, {0: 0, 1: 0, 2: 0}),\n",
       " Vec({0, 1, 2}, {0: 1, 1: 0, 2: 0}),\n",
       " Vec({0, 1, 2}, {0: 0, 1: 1, 2: 0}),\n",
       " Vec({0, 1, 2}, {0: 0, 1: 0, 2: 1}),\n",
       " Vec({0, 1, 2}, {0: 0, 1: 1, 2: 1}),\n",
       " Vec({0, 1, 2}, {0: 1, 1: 1, 2: 0}),\n",
       " Vec({0, 1, 2}, {0: 1, 1: 0, 2: 1}),\n",
       " Vec({0, 1, 2}, {0: 1, 1: 1, 2: 1})]"
      ]
     },
     "execution_count": 64,
     "metadata": {},
     "output_type": "execute_result"
    }
   ],
   "source": [
    "n = [[0, one, 0], [0, one, one], [one, 0, 0]]\n",
    "vecs = [list2vec(L) for L in n]\n",
    "GF2_span(D, vecs)"
   ]
  },
  {
   "cell_type": "code",
   "execution_count": null,
   "id": "dependent-stranger",
   "metadata": {},
   "outputs": [],
   "source": []
  },
  {
   "cell_type": "code",
   "execution_count": null,
   "id": "actual-price",
   "metadata": {},
   "outputs": [],
   "source": []
  },
  {
   "cell_type": "code",
   "execution_count": null,
   "id": "swedish-atmosphere",
   "metadata": {},
   "outputs": [],
   "source": []
  },
  {
   "cell_type": "code",
   "execution_count": null,
   "id": "destroyed-drive",
   "metadata": {},
   "outputs": [],
   "source": []
  },
  {
   "cell_type": "code",
   "execution_count": 60,
   "id": "small-cliff",
   "metadata": {
    "execution": {
     "iopub.execute_input": "2021-02-02T13:36:15.260366Z",
     "iopub.status.busy": "2021-02-02T13:36:15.260122Z",
     "iopub.status.idle": "2021-02-02T13:36:15.287464Z",
     "shell.execute_reply": "2021-02-02T13:36:15.286484Z",
     "shell.execute_reply.started": "2021-02-02T13:36:15.260339Z"
    }
   },
   "outputs": [
    {
     "data": {
      "text/plain": [
       "[Vec({0, 1, 2}, {0: 0, 1: 1, 2: 0}),\n",
       " Vec({0, 1, 2}, {0: 0, 1: 1, 2: 1}),\n",
       " Vec({0, 1, 2}, {0: 0, 1: 0, 2: 0})]"
      ]
     },
     "execution_count": 60,
     "metadata": {},
     "output_type": "execute_result"
    }
   ],
   "source": [
    "[L[i] for i, c in enumerate(representation) if c == '1']"
   ]
  },
  {
   "cell_type": "code",
   "execution_count": 48,
   "id": "polished-emerald",
   "metadata": {
    "execution": {
     "iopub.execute_input": "2021-02-02T13:31:49.224127Z",
     "iopub.status.busy": "2021-02-02T13:31:49.223858Z",
     "iopub.status.idle": "2021-02-02T13:31:49.251396Z",
     "shell.execute_reply": "2021-02-02T13:31:49.250641Z",
     "shell.execute_reply.started": "2021-02-02T13:31:49.224099Z"
    }
   },
   "outputs": [],
   "source": [
    "# number of spans\n",
    "span = []\n",
    "for i in range(2**len(L)):\n",
    "    representation = f\"{i:b}\".zfill(len(L))\n",
    "    selection = [range(len(L))[i] for i, c in enumerate(representation) if c == '1']\n",
    "    vectors = [L[i] for i in selection]\n",
    "    span.append(vec_sum(vectors, D).copy())"
   ]
  },
  {
   "cell_type": "code",
   "execution_count": 49,
   "id": "corrected-suite",
   "metadata": {
    "execution": {
     "iopub.execute_input": "2021-02-02T13:31:49.736752Z",
     "iopub.status.busy": "2021-02-02T13:31:49.736502Z",
     "iopub.status.idle": "2021-02-02T13:31:49.772824Z",
     "shell.execute_reply": "2021-02-02T13:31:49.772155Z",
     "shell.execute_reply.started": "2021-02-02T13:31:49.736724Z"
    }
   },
   "outputs": [
    {
     "data": {
      "text/plain": [
       "{Vec({0, 1, 2}, {0: 0, 1: 0, 2: 0}),\n",
       " Vec({0, 1, 2}, {0: 0, 1: 0, 2: 1}),\n",
       " Vec({0, 1, 2}, {0: 0, 1: 1, 2: 0}),\n",
       " Vec({0, 1, 2}, {0: 0, 1: 1, 2: 1})}"
      ]
     },
     "execution_count": 49,
     "metadata": {},
     "output_type": "execute_result"
    }
   ],
   "source": [
    "set(span)"
   ]
  },
  {
   "cell_type": "code",
   "execution_count": 26,
   "id": "polar-search",
   "metadata": {
    "execution": {
     "iopub.execute_input": "2021-02-02T13:28:22.073469Z",
     "iopub.status.busy": "2021-02-02T13:28:22.073227Z",
     "iopub.status.idle": "2021-02-02T13:28:22.099229Z",
     "shell.execute_reply": "2021-02-02T13:28:22.098497Z",
     "shell.execute_reply.started": "2021-02-02T13:28:22.073441Z"
    }
   },
   "outputs": [],
   "source": []
  },
  {
   "cell_type": "code",
   "execution_count": 27,
   "id": "alert-blank",
   "metadata": {
    "execution": {
     "iopub.execute_input": "2021-02-02T13:28:24.405732Z",
     "iopub.status.busy": "2021-02-02T13:28:24.405490Z",
     "iopub.status.idle": "2021-02-02T13:28:24.430920Z",
     "shell.execute_reply": "2021-02-02T13:28:24.430238Z",
     "shell.execute_reply.started": "2021-02-02T13:28:24.405705Z"
    }
   },
   "outputs": [
    {
     "data": {
      "text/plain": [
       "[0, 1, 2]"
      ]
     },
     "execution_count": 27,
     "metadata": {},
     "output_type": "execute_result"
    }
   ],
   "source": [
    "selection"
   ]
  },
  {
   "cell_type": "code",
   "execution_count": null,
   "id": "asian-standard",
   "metadata": {},
   "outputs": [],
   "source": []
  },
  {
   "cell_type": "code",
   "execution_count": null,
   "id": "critical-pricing",
   "metadata": {},
   "outputs": [],
   "source": [
    "def find_all_combinations(alphabet_to_vector):\n",
    "    for_df = []\n",
    "    for i in range(2**len(alphabet_to_vector)):\n",
    "        # find representation (the selection of a to f)\n",
    "        representation = f\"{i:06b}\"\n",
    "        #  select alphabets\n",
    "        selection = ['abcdef'[i] for i, c in enumerate(representation) if c == '1']\n",
    "        # get vectors as strings\n",
    "        strings = [alphabet_to_vector[c] for c in selection]\n",
    "        # vectors to GF(2)\n",
    "        vectors = [list2gf(i) for i in strings]\n",
    "        # find sum\n",
    "        sum_vector = reduce(lambda x, y: x + y, vectors, zero_vec(set(range(7))))\n",
    "        # sum as str (a vector of 7 digits)\n",
    "        sum_str = ''.join([str(i) for i in sum_vector.f.values()])\n",
    "        # add to answer\n",
    "        for_df.append({\n",
    "            'representation': representation,\n",
    "            'selection': selection,\n",
    "            'total': sum_vector,\n",
    "            'sum_str': sum_str,\n",
    "        }.copy())\n",
    "    df = pd.DataFrame(for_df)\n",
    "    return df"
   ]
  },
  {
   "cell_type": "code",
   "execution_count": null,
   "id": "billion-links",
   "metadata": {},
   "outputs": [],
   "source": []
  },
  {
   "cell_type": "code",
   "execution_count": null,
   "id": "portable-celebration",
   "metadata": {},
   "outputs": [],
   "source": []
  },
  {
   "cell_type": "code",
   "execution_count": 78,
   "id": "desperate-serbia",
   "metadata": {
    "execution": {
     "iopub.execute_input": "2021-01-31T08:58:45.677409Z",
     "iopub.status.busy": "2021-01-31T08:58:45.677211Z",
     "iopub.status.idle": "2021-01-31T08:58:45.827231Z",
     "shell.execute_reply": "2021-01-31T08:58:45.825817Z",
     "shell.execute_reply.started": "2021-01-31T08:58:45.677387Z"
    }
   },
   "outputs": [],
   "source": [
    "v = Vec({'metal', 'concrete'}, {'metal': 1.3, 'concrete': 2})"
   ]
  },
  {
   "cell_type": "code",
   "execution_count": 79,
   "id": "corrected-villa",
   "metadata": {
    "execution": {
     "iopub.execute_input": "2021-01-31T08:58:45.916819Z",
     "iopub.status.busy": "2021-01-31T08:58:45.916620Z",
     "iopub.status.idle": "2021-01-31T08:58:45.939749Z",
     "shell.execute_reply": "2021-01-31T08:58:45.939211Z",
     "shell.execute_reply.started": "2021-01-31T08:58:45.916798Z"
    }
   },
   "outputs": [
    {
     "data": {
      "text/plain": [
       "Vec({'concrete', 'metal'}, {'metal': 1.3, 'concrete': 2})"
      ]
     },
     "execution_count": 79,
     "metadata": {},
     "output_type": "execute_result"
    }
   ],
   "source": [
    "v"
   ]
  },
  {
   "cell_type": "code",
   "execution_count": 83,
   "id": "vocational-horizontal",
   "metadata": {
    "execution": {
     "iopub.execute_input": "2021-01-31T08:58:58.416690Z",
     "iopub.status.busy": "2021-01-31T08:58:58.416459Z",
     "iopub.status.idle": "2021-01-31T08:58:58.603359Z",
     "shell.execute_reply": "2021-01-31T08:58:58.602484Z",
     "shell.execute_reply.started": "2021-01-31T08:58:58.416665Z"
    }
   },
   "outputs": [
    {
     "name": "stdout",
     "output_type": "stream",
     "text": [
      " metal  concrete\n",
      "   1.3       2.0\n"
     ]
    }
   ],
   "source": [
    "print(v)"
   ]
  },
  {
   "cell_type": "code",
   "execution_count": 86,
   "id": "billion-spyware",
   "metadata": {
    "execution": {
     "iopub.execute_input": "2021-01-31T08:59:07.700871Z",
     "iopub.status.busy": "2021-01-31T08:59:07.700635Z",
     "iopub.status.idle": "2021-01-31T08:59:07.905932Z",
     "shell.execute_reply": "2021-01-31T08:59:07.904930Z",
     "shell.execute_reply.started": "2021-01-31T08:59:07.700845Z"
    }
   },
   "outputs": [],
   "source": [
    "def lin_conb(vlist, clist):\n",
    "    return sum(v*c for v,c in zip(vlist, clist))"
   ]
  },
  {
   "cell_type": "code",
   "execution_count": 87,
   "id": "hundred-drunk",
   "metadata": {
    "execution": {
     "iopub.execute_input": "2021-01-31T08:59:07.908142Z",
     "iopub.status.busy": "2021-01-31T08:59:07.907787Z",
     "iopub.status.idle": "2021-01-31T08:59:07.937438Z",
     "shell.execute_reply": "2021-01-31T08:59:07.936645Z",
     "shell.execute_reply.started": "2021-01-31T08:59:07.908105Z"
    }
   },
   "outputs": [
    {
     "data": {
      "text/plain": [
       "Vec({'concrete', 'metal'}, {'concrete': 6, 'metal': 3.9000000000000004})"
      ]
     },
     "execution_count": 87,
     "metadata": {},
     "output_type": "execute_result"
    }
   ],
   "source": [
    "lin_conb([v, v], [1, 2])"
   ]
  },
  {
   "cell_type": "code",
   "execution_count": 88,
   "id": "innocent-editing",
   "metadata": {
    "execution": {
     "iopub.execute_input": "2021-01-31T08:59:09.323873Z",
     "iopub.status.busy": "2021-01-31T08:59:09.323627Z",
     "iopub.status.idle": "2021-01-31T08:59:09.351129Z",
     "shell.execute_reply": "2021-01-31T08:59:09.350408Z",
     "shell.execute_reply.started": "2021-01-31T08:59:09.323846Z"
    }
   },
   "outputs": [
    {
     "data": {
      "text/plain": [
       "Vec({'concrete', 'metal'}, {'metal': 3.9000000000000004, 'concrete': 6})"
      ]
     },
     "execution_count": 88,
     "metadata": {},
     "output_type": "execute_result"
    }
   ],
   "source": [
    "v * 3"
   ]
  },
  {
   "cell_type": "code",
   "execution_count": 89,
   "id": "waiting-white",
   "metadata": {
    "execution": {
     "iopub.execute_input": "2021-01-31T08:59:09.488953Z",
     "iopub.status.busy": "2021-01-31T08:59:09.488678Z",
     "iopub.status.idle": "2021-01-31T08:59:09.516554Z",
     "shell.execute_reply": "2021-01-31T08:59:09.515704Z",
     "shell.execute_reply.started": "2021-01-31T08:59:09.488922Z"
    }
   },
   "outputs": [
    {
     "data": {
      "text/plain": [
       "Vec({'concrete', 'metal'}, {'metal': 3.9000000000000004, 'concrete': 6})"
      ]
     },
     "execution_count": 89,
     "metadata": {},
     "output_type": "execute_result"
    }
   ],
   "source": [
    "3 * v"
   ]
  },
  {
   "cell_type": "code",
   "execution_count": 90,
   "id": "reduced-equivalent",
   "metadata": {
    "execution": {
     "iopub.execute_input": "2021-01-31T09:06:57.472735Z",
     "iopub.status.busy": "2021-01-31T09:06:57.472495Z",
     "iopub.status.idle": "2021-01-31T09:06:57.499172Z",
     "shell.execute_reply": "2021-01-31T09:06:57.498458Z",
     "shell.execute_reply.started": "2021-01-31T09:06:57.472709Z"
    }
   },
   "outputs": [],
   "source": [
    "def standard(D, one):\n",
    "    return [Vec(D, {k: one}) for k in D]"
   ]
  },
  {
   "cell_type": "code",
   "execution_count": 93,
   "id": "selective-visit",
   "metadata": {
    "execution": {
     "iopub.execute_input": "2021-01-31T09:07:24.004127Z",
     "iopub.status.busy": "2021-01-31T09:07:24.003885Z",
     "iopub.status.idle": "2021-01-31T09:07:24.032308Z",
     "shell.execute_reply": "2021-01-31T09:07:24.031511Z",
     "shell.execute_reply.started": "2021-01-31T09:07:24.004101Z"
    }
   },
   "outputs": [
    {
     "data": {
      "text/plain": [
       "[Vec({'one', 'two'}, {'one': 1}), Vec({'one', 'two'}, {'two': 1})]"
      ]
     },
     "execution_count": 93,
     "metadata": {},
     "output_type": "execute_result"
    }
   ],
   "source": [
    "standard({'one', 'two'}, one)"
   ]
  },
  {
   "cell_type": "code",
   "execution_count": 99,
   "id": "favorite-warren",
   "metadata": {
    "execution": {
     "iopub.execute_input": "2021-02-02T03:17:14.635367Z",
     "iopub.status.busy": "2021-02-02T03:17:14.635126Z",
     "iopub.status.idle": "2021-02-02T03:17:14.663623Z",
     "shell.execute_reply": "2021-02-02T03:17:14.662911Z",
     "shell.execute_reply.started": "2021-02-02T03:17:14.635341Z"
    }
   },
   "outputs": [],
   "source": [
    "def vec_select(veclist: list[Vec], k, value=0):\n",
    "    \"\"\"\n",
    "    \n",
    "    Args:\n",
    "        veclist:\n",
    "        k: element of domain\n",
    "    Returns:\n",
    "        the sublist of veclist consisting of the vectors v in veclist where v[k] == 0\n",
    "    \"\"\"\n",
    "    return [vec for vec in veclist if vec[k] == value]"
   ]
  },
  {
   "cell_type": "code",
   "execution_count": 100,
   "id": "brown-central",
   "metadata": {
    "execution": {
     "iopub.execute_input": "2021-02-02T03:17:15.099529Z",
     "iopub.status.busy": "2021-02-02T03:17:15.099267Z",
     "iopub.status.idle": "2021-02-02T03:17:15.127166Z",
     "shell.execute_reply": "2021-02-02T03:17:15.126446Z",
     "shell.execute_reply.started": "2021-02-02T03:17:15.099501Z"
    }
   },
   "outputs": [],
   "source": [
    "def list2vec(L):\n",
    "    \"\"\"Vec with domain {0, 1, ..., len(L)} and v[i] = L[i]\n",
    "    \"\"\"\n",
    "    return Vec({i for i in range(len(L))}, {i: L[i] for i in range(len(L))})\n",
    "\n",
    "\n",
    "n = [[1, -3, -2], [0, 2, 4], [0, 0, -10]]\n",
    "b = [7, 4, 12]\n",
    "vecs = [list2vec(L) for L in n]"
   ]
  },
  {
   "cell_type": "code",
   "execution_count": 101,
   "id": "flying-bleeding",
   "metadata": {
    "execution": {
     "iopub.execute_input": "2021-02-02T03:17:15.360405Z",
     "iopub.status.busy": "2021-02-02T03:17:15.360165Z",
     "iopub.status.idle": "2021-02-02T03:17:15.387977Z",
     "shell.execute_reply": "2021-02-02T03:17:15.387232Z",
     "shell.execute_reply.started": "2021-02-02T03:17:15.360380Z"
    }
   },
   "outputs": [
    {
     "data": {
      "text/plain": [
       "[Vec({0, 1, 2}, {0: 1, 1: -3, 2: -2}),\n",
       " Vec({0, 1, 2}, {0: 0, 1: 2, 2: 4}),\n",
       " Vec({0, 1, 2}, {0: 0, 1: 0, 2: -10})]"
      ]
     },
     "execution_count": 101,
     "metadata": {},
     "output_type": "execute_result"
    }
   ],
   "source": [
    "vecs"
   ]
  },
  {
   "cell_type": "code",
   "execution_count": 102,
   "id": "western-button",
   "metadata": {
    "execution": {
     "iopub.execute_input": "2021-02-02T03:17:15.595484Z",
     "iopub.status.busy": "2021-02-02T03:17:15.595236Z",
     "iopub.status.idle": "2021-02-02T03:17:15.624473Z",
     "shell.execute_reply": "2021-02-02T03:17:15.623650Z",
     "shell.execute_reply.started": "2021-02-02T03:17:15.595457Z"
    }
   },
   "outputs": [
    {
     "data": {
      "text/plain": [
       "[Vec({0, 1, 2}, {0: 0, 1: 2, 2: 4}), Vec({0, 1, 2}, {0: 0, 1: 0, 2: -10})]"
      ]
     },
     "execution_count": 102,
     "metadata": {},
     "output_type": "execute_result"
    }
   ],
   "source": [
    "vec_select(vecs, 0)"
   ]
  },
  {
   "cell_type": "code",
   "execution_count": 105,
   "id": "everyday-maximum",
   "metadata": {
    "execution": {
     "iopub.execute_input": "2021-02-02T03:22:37.591907Z",
     "iopub.status.busy": "2021-02-02T03:22:37.591512Z",
     "iopub.status.idle": "2021-02-02T03:22:37.618948Z",
     "shell.execute_reply": "2021-02-02T03:22:37.618202Z",
     "shell.execute_reply.started": "2021-02-02T03:22:37.591863Z"
    }
   },
   "outputs": [],
   "source": [
    "def vec_sum(veclist: list[Vec], D: set):\n",
    "    \"\"\"the vector sum of the vectors in veclist\n",
    "    \"\"\"\n",
    "    return sum(veclist, zero_vec(D))"
   ]
  },
  {
   "cell_type": "code",
   "execution_count": 104,
   "id": "relevant-single",
   "metadata": {
    "execution": {
     "iopub.execute_input": "2021-02-02T03:22:34.707506Z",
     "iopub.status.busy": "2021-02-02T03:22:34.707251Z",
     "iopub.status.idle": "2021-02-02T03:22:34.734123Z",
     "shell.execute_reply": "2021-02-02T03:22:34.733226Z",
     "shell.execute_reply.started": "2021-02-02T03:22:34.707479Z"
    }
   },
   "outputs": [],
   "source": [
    "from coding_the_matrix.vecutil import zero_vec"
   ]
  },
  {
   "cell_type": "code",
   "execution_count": 107,
   "id": "inappropriate-track",
   "metadata": {
    "execution": {
     "iopub.execute_input": "2021-02-02T03:22:52.555886Z",
     "iopub.status.busy": "2021-02-02T03:22:52.555649Z",
     "iopub.status.idle": "2021-02-02T03:22:52.583965Z",
     "shell.execute_reply": "2021-02-02T03:22:52.583173Z",
     "shell.execute_reply.started": "2021-02-02T03:22:52.555860Z"
    }
   },
   "outputs": [
    {
     "data": {
      "text/plain": [
       "Vec({0, 1, 2}, {0: 0, 1: 0, 2: 0})"
      ]
     },
     "execution_count": 107,
     "metadata": {},
     "output_type": "execute_result"
    }
   ],
   "source": [
    "vec_sum([], vecs[0].D)"
   ]
  },
  {
   "cell_type": "code",
   "execution_count": 109,
   "id": "nominated-extent",
   "metadata": {
    "execution": {
     "iopub.execute_input": "2021-02-02T03:23:12.975876Z",
     "iopub.status.busy": "2021-02-02T03:23:12.975617Z",
     "iopub.status.idle": "2021-02-02T03:23:13.004930Z",
     "shell.execute_reply": "2021-02-02T03:23:13.004075Z",
     "shell.execute_reply.started": "2021-02-02T03:23:12.975847Z"
    }
   },
   "outputs": [
    {
     "data": {
      "text/plain": [
       "Vec({0, 1, 2}, {0: 1, 1: -1, 2: -8})"
      ]
     },
     "execution_count": 109,
     "metadata": {},
     "output_type": "execute_result"
    }
   ],
   "source": [
    "vec_sum(vecs, vecs[0].D)"
   ]
  },
  {
   "cell_type": "code",
   "execution_count": 110,
   "id": "fixed-passport",
   "metadata": {
    "execution": {
     "iopub.execute_input": "2021-02-02T03:23:15.285559Z",
     "iopub.status.busy": "2021-02-02T03:23:15.285147Z",
     "iopub.status.idle": "2021-02-02T03:23:15.313015Z",
     "shell.execute_reply": "2021-02-02T03:23:15.312244Z",
     "shell.execute_reply.started": "2021-02-02T03:23:15.285511Z"
    }
   },
   "outputs": [
    {
     "data": {
      "text/plain": [
       "[Vec({0, 1, 2}, {0: 1, 1: -3, 2: -2}),\n",
       " Vec({0, 1, 2}, {0: 0, 1: 2, 2: 4}),\n",
       " Vec({0, 1, 2}, {0: 0, 1: 0, 2: -10})]"
      ]
     },
     "execution_count": 110,
     "metadata": {},
     "output_type": "execute_result"
    }
   ],
   "source": [
    "vecs"
   ]
  },
  {
   "cell_type": "code",
   "execution_count": 116,
   "id": "suspected-language",
   "metadata": {
    "execution": {
     "iopub.execute_input": "2021-02-02T05:53:04.409845Z",
     "iopub.status.busy": "2021-02-02T05:53:04.409604Z",
     "iopub.status.idle": "2021-02-02T05:53:04.437113Z",
     "shell.execute_reply": "2021-02-02T05:53:04.436168Z",
     "shell.execute_reply.started": "2021-02-02T05:53:04.409818Z"
    }
   },
   "outputs": [],
   "source": [
    "our_str = \"a.and@b\"\n",
    "#.replace('[.@]', '_')"
   ]
  },
  {
   "cell_type": "code",
   "execution_count": 119,
   "id": "developing-apartment",
   "metadata": {
    "execution": {
     "iopub.execute_input": "2021-02-02T05:53:22.283286Z",
     "iopub.status.busy": "2021-02-02T05:53:22.283041Z",
     "iopub.status.idle": "2021-02-02T05:53:22.311091Z",
     "shell.execute_reply": "2021-02-02T05:53:22.310295Z",
     "shell.execute_reply.started": "2021-02-02T05:53:22.283259Z"
    }
   },
   "outputs": [
    {
     "data": {
      "text/plain": [
       "'a_and_b'"
      ]
     },
     "execution_count": 119,
     "metadata": {},
     "output_type": "execute_result"
    }
   ],
   "source": [
    "our_str.replace('.', '_').replace('@','_')"
   ]
  },
  {
   "cell_type": "code",
   "execution_count": 111,
   "id": "quarterly-reasoning",
   "metadata": {
    "execution": {
     "iopub.execute_input": "2021-02-02T03:25:36.704410Z",
     "iopub.status.busy": "2021-02-02T03:25:36.704150Z",
     "iopub.status.idle": "2021-02-02T03:25:36.732586Z",
     "shell.execute_reply": "2021-02-02T03:25:36.731689Z",
     "shell.execute_reply.started": "2021-02-02T03:25:36.704383Z"
    }
   },
   "outputs": [],
   "source": [
    "def vec_select_sum(D: set, veclist: list[Vec], k, value=0):\n",
    "    \"\"\"\n",
    "    the sum of all the vectors v in veclist where v[k] is zero\n",
    "    k is a domain in D\n",
    "    \"\"\"\n",
    "    assert k in D\n",
    "    return vec_sum(vec_select(veclist, k, value), D)"
   ]
  },
  {
   "cell_type": "code",
   "execution_count": 112,
   "id": "dental-boutique",
   "metadata": {
    "execution": {
     "iopub.execute_input": "2021-02-02T03:25:55.172924Z",
     "iopub.status.busy": "2021-02-02T03:25:55.172654Z",
     "iopub.status.idle": "2021-02-02T03:25:55.201103Z",
     "shell.execute_reply": "2021-02-02T03:25:55.200272Z",
     "shell.execute_reply.started": "2021-02-02T03:25:55.172894Z"
    }
   },
   "outputs": [],
   "source": [
    "D = vecs[0].D"
   ]
  },
  {
   "cell_type": "code",
   "execution_count": 113,
   "id": "chief-heavy",
   "metadata": {
    "execution": {
     "iopub.execute_input": "2021-02-02T03:25:56.807393Z",
     "iopub.status.busy": "2021-02-02T03:25:56.807130Z",
     "iopub.status.idle": "2021-02-02T03:25:56.836171Z",
     "shell.execute_reply": "2021-02-02T03:25:56.835196Z",
     "shell.execute_reply.started": "2021-02-02T03:25:56.807364Z"
    }
   },
   "outputs": [
    {
     "data": {
      "text/plain": [
       "Vec({0, 1, 2}, {0: 0, 1: 2, 2: -6})"
      ]
     },
     "execution_count": 113,
     "metadata": {},
     "output_type": "execute_result"
    }
   ],
   "source": [
    "vec_select_sum(D, vecs, 0)"
   ]
  },
  {
   "cell_type": "code",
   "execution_count": 114,
   "id": "exclusive-antibody",
   "metadata": {
    "execution": {
     "iopub.execute_input": "2021-02-02T03:25:59.657504Z",
     "iopub.status.busy": "2021-02-02T03:25:59.657232Z",
     "iopub.status.idle": "2021-02-02T03:25:59.684666Z",
     "shell.execute_reply": "2021-02-02T03:25:59.683924Z",
     "shell.execute_reply.started": "2021-02-02T03:25:59.657475Z"
    }
   },
   "outputs": [
    {
     "data": {
      "text/plain": [
       "[Vec({0, 1, 2}, {0: 1, 1: -3, 2: -2}),\n",
       " Vec({0, 1, 2}, {0: 0, 1: 2, 2: 4}),\n",
       " Vec({0, 1, 2}, {0: 0, 1: 0, 2: -10})]"
      ]
     },
     "execution_count": 114,
     "metadata": {},
     "output_type": "execute_result"
    }
   ],
   "source": [
    "vecs"
   ]
  },
  {
   "cell_type": "code",
   "execution_count": null,
   "id": "pursuant-salvation",
   "metadata": {},
   "outputs": [],
   "source": []
  }
 ],
 "metadata": {
  "kernelspec": {
   "display_name": "Python 3",
   "language": "python",
   "name": "python3"
  },
  "language_info": {
   "codemirror_mode": {
    "name": "ipython",
    "version": 3
   },
   "file_extension": ".py",
   "mimetype": "text/x-python",
   "name": "python",
   "nbconvert_exporter": "python",
   "pygments_lexer": "ipython3",
   "version": "3.9.0"
  }
 },
 "nbformat": 4,
 "nbformat_minor": 5
}
