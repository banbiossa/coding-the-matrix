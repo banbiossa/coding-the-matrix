{
 "cells": [
  {
   "cell_type": "markdown",
   "id": "special-awareness",
   "metadata": {},
   "source": [
    "# 0.4_matrix"
   ]
  },
  {
   "cell_type": "code",
   "execution_count": 31,
   "id": "conservative-diameter",
   "metadata": {
    "execution": {
     "iopub.execute_input": "2021-02-17T15:24:16.489931Z",
     "iopub.status.busy": "2021-02-17T15:24:16.489645Z",
     "iopub.status.idle": "2021-02-17T15:24:16.529389Z",
     "shell.execute_reply": "2021-02-17T15:24:16.528646Z",
     "shell.execute_reply.started": "2021-02-17T15:24:16.489898Z"
    }
   },
   "outputs": [
    {
     "name": "stdout",
     "output_type": "stream",
     "text": [
      "The autoreload extension is already loaded. To reload it, use:\n",
      "  %reload_ext autoreload\n",
      "The blackcellmagic extension is already loaded. To reload it, use:\n",
      "  %reload_ext blackcellmagic\n"
     ]
    }
   ],
   "source": [
    "%load_ext autoreload\n",
    "%autoreload 2\n",
    "%matplotlib inline\n",
    "%load_ext blackcellmagic\n",
    "\n",
    "import pandas as pd\n",
    "import numpy as np\n",
    "import seaborn as sns\n",
    "import matplotlib.pyplot as plt\n",
    "\n",
    "import logging\n",
    "logging.basicConfig(level=logging.INFO)\n",
    "logger = logging.getLogger()\n",
    "logger.setLevel(logging.INFO)\n",
    "\n",
    "def nrows(n):\n",
    "    pd.options.display.max_rows = n\n",
    "\n",
    "nrows(5)\n",
    "from tqdm import tqdm\n",
    "\n",
    "import itertools\n",
    "from coding_the_matrix.Vec import Vec\n",
    "from coding_the_matrix.Mat import Mat\n",
    "from coding_the_matrix.matutil import listlist2mat, value, keys, coldict2mat, rowdict2mat, mat2rowdict, mat2coldict\n",
    "from coding_the_matrix.vecutil import *\n",
    "from coding_the_matrix.GF2 import *\n",
    "from coding_the_matrix.solve import solve\n",
    "from coding_the_matrix.bitutil import str2bits, bits2str, bits2mat, mat2bits, noise"
   ]
  },
  {
   "cell_type": "code",
   "execution_count": 3,
   "id": "sitting-parks",
   "metadata": {
    "execution": {
     "iopub.execute_input": "2021-02-17T15:08:49.373755Z",
     "iopub.status.busy": "2021-02-17T15:08:49.373519Z",
     "iopub.status.idle": "2021-02-17T15:08:49.402102Z",
     "shell.execute_reply": "2021-02-17T15:08:49.401371Z",
     "shell.execute_reply.started": "2021-02-17T15:08:49.373729Z"
    }
   },
   "outputs": [
    {
     "data": {
      "text/plain": [
       "97"
      ]
     },
     "execution_count": 3,
     "metadata": {},
     "output_type": "execute_result"
    }
   ],
   "source": [
    "ord('a')"
   ]
  },
  {
   "cell_type": "code",
   "execution_count": 4,
   "id": "legendary-tampa",
   "metadata": {
    "execution": {
     "iopub.execute_input": "2021-02-17T15:08:54.074557Z",
     "iopub.status.busy": "2021-02-17T15:08:54.074308Z",
     "iopub.status.idle": "2021-02-17T15:08:54.101504Z",
     "shell.execute_reply": "2021-02-17T15:08:54.100764Z",
     "shell.execute_reply.started": "2021-02-17T15:08:54.074528Z"
    }
   },
   "outputs": [
    {
     "data": {
      "text/plain": [
       "65"
      ]
     },
     "execution_count": 4,
     "metadata": {},
     "output_type": "execute_result"
    }
   ],
   "source": [
    "ord('A')"
   ]
  },
  {
   "cell_type": "code",
   "execution_count": 5,
   "id": "fundamental-genre",
   "metadata": {
    "execution": {
     "iopub.execute_input": "2021-02-17T15:09:00.164611Z",
     "iopub.status.busy": "2021-02-17T15:09:00.164334Z",
     "iopub.status.idle": "2021-02-17T15:09:00.192574Z",
     "shell.execute_reply": "2021-02-17T15:09:00.191889Z",
     "shell.execute_reply.started": "2021-02-17T15:09:00.164575Z"
    }
   },
   "outputs": [
    {
     "data": {
      "text/plain": [
       "32"
      ]
     },
     "execution_count": 5,
     "metadata": {},
     "output_type": "execute_result"
    }
   ],
   "source": [
    "ord(' ')"
   ]
  },
  {
   "cell_type": "code",
   "execution_count": 8,
   "id": "intense-radar",
   "metadata": {
    "execution": {
     "iopub.execute_input": "2021-02-17T15:09:31.197226Z",
     "iopub.status.busy": "2021-02-17T15:09:31.196992Z",
     "iopub.status.idle": "2021-02-17T15:09:31.223717Z",
     "shell.execute_reply": "2021-02-17T15:09:31.222818Z",
     "shell.execute_reply.started": "2021-02-17T15:09:31.197200Z"
    }
   },
   "outputs": [
    {
     "name": "stdout",
     "output_type": "stream",
     "text": [
      "\u0000\u0001\u0002\u0003\u0004\u0005\u0006\t\n",
      "\u000e\u000f\u0010\u0011\u0012\u0013\u0014\u0015\u0016\u0017\u0018\u0019\u001a\u001b\u001c",
      "\u001d",
      "\u001e",
      "\u001f !\"#$%&'()*+,-./0123456789:;<=>?@ABCDEFGHIJKLMNOPQRSTUVWXYZ[\\]^_`abcdefghijklmnopqrstuvwxyz{|}~",
      " ¡¢£¤¥¦§¨©ª«¬­®¯°±²³´µ¶·¸¹º»¼½¾¿ÀÁÂÃÄÅÆÇÈÉÊËÌÍÎÏÐÑÒÓÔÕÖ×ØÙÚÛÜÝÞßàáâãäåæçèéêëìíîïðñòóôõö÷øùúûüýþÿ\n"
     ]
    }
   ],
   "source": [
    "s = ''.join([chr(i) for i in range(256)])\n",
    "print(s)"
   ]
  },
  {
   "cell_type": "code",
   "execution_count": 11,
   "id": "brown-chrome",
   "metadata": {
    "execution": {
     "iopub.execute_input": "2021-02-17T15:14:04.719977Z",
     "iopub.status.busy": "2021-02-17T15:14:04.719740Z",
     "iopub.status.idle": "2021-02-17T15:14:04.745498Z",
     "shell.execute_reply": "2021-02-17T15:14:04.744755Z",
     "shell.execute_reply.started": "2021-02-17T15:14:04.719950Z"
    }
   },
   "outputs": [],
   "source": [
    "a = str2bits(s)"
   ]
  },
  {
   "cell_type": "code",
   "execution_count": 13,
   "id": "specified-leather",
   "metadata": {
    "execution": {
     "iopub.execute_input": "2021-02-17T15:14:17.708697Z",
     "iopub.status.busy": "2021-02-17T15:14:17.708454Z",
     "iopub.status.idle": "2021-02-17T15:14:17.734966Z",
     "shell.execute_reply": "2021-02-17T15:14:17.734118Z",
     "shell.execute_reply.started": "2021-02-17T15:14:17.708671Z"
    }
   },
   "outputs": [
    {
     "name": "stdout",
     "output_type": "stream",
     "text": [
      "\u0000\u0001\u0002\u0003\u0004\u0005\u0006\t\n",
      "\u000e\u000f\u0010\u0011\u0012\u0013\u0014\u0015\u0016\u0017\u0018\u0019\u001a\u001b\u001c",
      "\u001d",
      "\u001e",
      "\u001f !\"#$%&'()*+,-./0123456789:;<=>?@ABCDEFGHIJKLMNOPQRSTUVWXYZ[\\]^_`abcdefghijklmnopqrstuvwxyz{|}~",
      " ¡¢£¤¥¦§¨©ª«¬­®¯°±²³´µ¶·¸¹º»¼½¾¿ÀÁÂÃÄÅÆÇÈÉÊËÌÍÎÏÐÑÒÓÔÕÖ×ØÙÚÛÜÝÞßàáâãäåæçèéêëìíîïðñòóôõö÷øùúûüýþÿ\n"
     ]
    }
   ],
   "source": [
    "print(bits2str(a))"
   ]
  },
  {
   "cell_type": "code",
   "execution_count": 14,
   "id": "comparable-savage",
   "metadata": {
    "execution": {
     "iopub.execute_input": "2021-02-17T15:16:48.747687Z",
     "iopub.status.busy": "2021-02-17T15:16:48.747440Z",
     "iopub.status.idle": "2021-02-17T15:16:48.773653Z",
     "shell.execute_reply": "2021-02-17T15:16:48.772995Z",
     "shell.execute_reply.started": "2021-02-17T15:16:48.747660Z"
    }
   },
   "outputs": [],
   "source": [
    "word = 'string'"
   ]
  },
  {
   "cell_type": "code",
   "execution_count": 15,
   "id": "crazy-romania",
   "metadata": {
    "execution": {
     "iopub.execute_input": "2021-02-17T15:17:06.320129Z",
     "iopub.status.busy": "2021-02-17T15:17:06.319886Z",
     "iopub.status.idle": "2021-02-17T15:17:06.345728Z",
     "shell.execute_reply": "2021-02-17T15:17:06.344826Z",
     "shell.execute_reply.started": "2021-02-17T15:17:06.320103Z"
    }
   },
   "outputs": [],
   "source": [
    "bits = str2bits(word)"
   ]
  },
  {
   "cell_type": "code",
   "execution_count": 17,
   "id": "greek-trainer",
   "metadata": {
    "execution": {
     "iopub.execute_input": "2021-02-17T15:18:01.025125Z",
     "iopub.status.busy": "2021-02-17T15:18:01.024920Z",
     "iopub.status.idle": "2021-02-17T15:18:01.049995Z",
     "shell.execute_reply": "2021-02-17T15:18:01.049280Z",
     "shell.execute_reply.started": "2021-02-17T15:18:01.025102Z"
    }
   },
   "outputs": [],
   "source": [
    "p = bits2mat(bits)"
   ]
  },
  {
   "cell_type": "code",
   "execution_count": 19,
   "id": "corresponding-pendant",
   "metadata": {
    "execution": {
     "iopub.execute_input": "2021-02-17T15:18:12.268957Z",
     "iopub.status.busy": "2021-02-17T15:18:12.268720Z",
     "iopub.status.idle": "2021-02-17T15:18:12.311346Z",
     "shell.execute_reply": "2021-02-17T15:18:12.310746Z",
     "shell.execute_reply.started": "2021-02-17T15:18:12.268930Z"
    }
   },
   "outputs": [
    {
     "name": "stdout",
     "output_type": "stream",
     "text": [
      "  0  1  2  3  4  5  6  7  8  9  10 11\n",
      "0  1  1  0  1  0  1  1  0  0  0  1  0\n",
      "1  1  1  0  1  1  1  0  1  1  1  1  1\n",
      "2  0  1  1  1  0  1  0  1  1  1  1  1\n",
      "3  0  0  0  0  0  0  1  0  1  0  0  0\n"
     ]
    }
   ],
   "source": [
    "print(p)"
   ]
  },
  {
   "cell_type": "code",
   "execution_count": 21,
   "id": "fleet-supply",
   "metadata": {
    "execution": {
     "iopub.execute_input": "2021-02-17T15:18:39.126556Z",
     "iopub.status.busy": "2021-02-17T15:18:39.126311Z",
     "iopub.status.idle": "2021-02-17T15:18:39.155722Z",
     "shell.execute_reply": "2021-02-17T15:18:39.154918Z",
     "shell.execute_reply.started": "2021-02-17T15:18:39.126529Z"
    }
   },
   "outputs": [],
   "source": [
    "b_bits = mat2bits(p)"
   ]
  },
  {
   "cell_type": "code",
   "execution_count": 22,
   "id": "macro-meter",
   "metadata": {
    "execution": {
     "iopub.execute_input": "2021-02-17T15:18:49.821753Z",
     "iopub.status.busy": "2021-02-17T15:18:49.821545Z",
     "iopub.status.idle": "2021-02-17T15:18:49.845120Z",
     "shell.execute_reply": "2021-02-17T15:18:49.844534Z",
     "shell.execute_reply.started": "2021-02-17T15:18:49.821731Z"
    }
   },
   "outputs": [
    {
     "data": {
      "text/plain": [
       "'string'"
      ]
     },
     "execution_count": 22,
     "metadata": {},
     "output_type": "execute_result"
    }
   ],
   "source": [
    "bits2str(b_bits)"
   ]
  },
  {
   "cell_type": "code",
   "execution_count": 24,
   "id": "deadly-president",
   "metadata": {
    "execution": {
     "iopub.execute_input": "2021-02-17T15:22:46.026574Z",
     "iopub.status.busy": "2021-02-17T15:22:46.026329Z",
     "iopub.status.idle": "2021-02-17T15:22:46.052007Z",
     "shell.execute_reply": "2021-02-17T15:22:46.051134Z",
     "shell.execute_reply.started": "2021-02-17T15:22:46.026547Z"
    }
   },
   "outputs": [],
   "source": [
    "sentence = \"\"\"I'm trying to free your mind, Neo. But I can only show you the door. You're the one that has to walk through it.\"\"\""
   ]
  },
  {
   "cell_type": "code",
   "execution_count": 29,
   "id": "periodic-bangkok",
   "metadata": {
    "execution": {
     "iopub.execute_input": "2021-02-17T15:23:39.068841Z",
     "iopub.status.busy": "2021-02-17T15:23:39.068579Z",
     "iopub.status.idle": "2021-02-17T15:23:39.095705Z",
     "shell.execute_reply": "2021-02-17T15:23:39.094837Z",
     "shell.execute_reply.started": "2021-02-17T15:23:39.068811Z"
    }
   },
   "outputs": [],
   "source": [
    "P = bits2mat(str2bits(sentence))"
   ]
  },
  {
   "cell_type": "code",
   "execution_count": 30,
   "id": "focused-gibraltar",
   "metadata": {
    "execution": {
     "iopub.execute_input": "2021-02-17T15:23:39.253553Z",
     "iopub.status.busy": "2021-02-17T15:23:39.253311Z",
     "iopub.status.idle": "2021-02-17T15:23:39.368076Z",
     "shell.execute_reply": "2021-02-17T15:23:39.367236Z",
     "shell.execute_reply.started": "2021-02-17T15:23:39.253526Z"
    }
   },
   "outputs": [
    {
     "name": "stdout",
     "output_type": "stream",
     "text": [
      "  0   1   2   3   4   5    6   7   8   9   10  11  12  13  14  15  16  17  18  19   20  21  22  23  24  25   26  27  28  29  30  31  32  33  34  35   36  37  38  39  40  41  42  43  44  45   46  47  48  49  50  51  52  53  54  55  56  57   58  59  60  61  62  63  64  65  66  67   68  69  70  71  72  73  74  75   76  77  78  79   80  81  82  83  84  85  86  87   88  89  90  91  92  93  94  95  96  97   98  99  100 101 102 103 104 105 106 107  108 109 110 111 112 113 114 115  116 117 118 119 120 121 122 123  124 125 126 127 128 129 130 131 132 133 134 135  136 137 138 139 140 141 142 143 144 145 146 147 148 149  150 151 152 153 154 155 156 157  158 159 160 161 162 163 164 165  166 167 168 169 170 171 172 173 174 175  176 177 178 179 180 181 182 183  184 185 186 187 188 189  190 191 192 193 194 195 196 197 198 199  200 201 202 203 204 205 206 207 208 209 210 211 212 213 214 215  216 217 218 219 220 221 222 223\n",
      "0   1   0   1   0   1   0    0   0   0   1   0   1   1   1   1   0   0   0   1   0    0   0   0   1   1   0    0   0   0   0   0   1   1   0   1   0    0   0   1   1   1   0   1   1   0   1    0   0   1   0   1   0   0   0   0   0   0   0    0   0   0   0   1   0   1   0   0   0    0   0   0   0   1   1   0   1    0   0   1   0    0   0   1   0   1   0   0   0    0   0   1   0   0   0   0   0   1   1    0   0   1   1   0   0   1   0   1   1    0   0   1   1   1   0   1   1    0   0   0   1   0   0   1   0    0   0   0   0   1   0   1   0   0   1   0   0    0   0   1   1   1   0   1   1   1   0   0   1   1   0    0   0   0   1   0   0   1   0    0   0   1   0   0   0   1   0    0   0   0   1   0   0   1   0   0   1    0   0   0   0   1   0   1   1    0   0   0   1   1   0    0   0   1   1   1   0   0   0   1   0    0   0   0   1   0   0   0   1   1   0   1   1   1   0   0   0    0   0   1   0   0   1   0   0\n",
      "1   0   0   1   1   0   1    0   1   0   1   1   1   0   1   0   1   1   1   1   1    0   1   0   1   1   1    0   1   1   1   1   1   0   1   0   1    0   1   0   1   1   1   0   1   1   1    0   1   0   1   0   1   1   1   0   1   0   1    0   1   1   0   0   1   1   1   1   1    0   1   1   0   0   1   0   1    0   1   0   0    0   1   1   1   0   1   1   1    0   1   1   1   1   1   0   1   0   1    0   1   1   1   0   1   1   1   1   1    0   1   0   1   1   1   0   1    0   1   0   1   0   1   0   1    0   1   0   1   1   1   1   1   1   1   1   1    0   1   0   0   1   1   0   1   1   1   1   1   0   1    0   1   0   1   0   1   0   1    0   1   1   1   1   1   0   1    0   1   0   1   0   1   0   1   0   1    0   1   0   1   0   1   1   1    0   1   0   1   1   1    0   1   1   1   0   1   0   1   1   1    0   1   0   1   0   1   1   1   1   1   0   1   1   1   0   1    0   1   0   1   0   1   1   1\n",
      "2   0   1   1   0   1   1    0   0   1   1   0   1   0   1   0   1   1   1   1   1    0   0   1   1   1   1    0   0   1   1   0   1   1   1   1   1    0   0   0   1   1   1   1   1   0   1    0   0   1   1   0   1   1   1   1   1   1   0    0   0   1   1   1   1   1   1   1   0    0   0   0   1   1   1   1   1    0   0   0   1    0   0   0   1   0   1   1   1    0   0   1   1   1   1   1   1   0   1    0   0   0   1   0   1   1   1   1   1    0   0   0   1   1   1   1   1    0   0   1   1   0   1   1   1    0   0   1   1   1   1   1   1   0   1   1   0    0   0   0   1   1   1   1   1   1   0   0   1   1   1    0   0   1   1   0   1   1   1    0   0   1   1   1   1   1   1    0   0   1   1   0   1   0   1   1   1    0   0   0   1   0   1   0   1    0   0   1   1   1   1    0   0   1   1   0   1   1   1   0   1    0   0   1   1   0   1   0   1   1   1   1   1   1   1   0   1    0   0   0   1   1   1   1   0\n",
      "3   1   0   0   0   1   0    0   0   0   0   0   0   1   0   1   0   1   0   0   0    0   0   0   0   1   0    0   0   0   0   0   0   0   0   0   0    0   0   1   0   1   0   0   0   0   0    0   0   1   0   1   0   1   0   0   0   1   0    0   0   1   0   0   0   1   0   1   0    0   0   0   0   0   0   0   0    0   0   1   0    0   0   0   0   0   0   1   0    0   0   1   0   1   0   1   0   1   0    0   0   0   0   1   0   1   0   0   0    0   0   1   0   1   0   0   0    0   0   0   0   1   0   0   0    0   0   0   0   1   0   1   0   0   0   1   0    0   0   1   0   1   0   0   0   0   0   0   0   0   0    0   0   0   0   1   0   0   0    0   0   1   0   1   0   0   0    0   0   0   0   1   0   0   0   0   0    0   0   1   0   0   0   0   0    0   0   0   0   1   0    0   0   0   0   0   0   1   0   1   0    0   0   0   0   1   0   0   0   1   0   0   0   0   0   1   0    0   0   1   0   0   0   1   0\n"
     ]
    }
   ],
   "source": [
    "print(P)"
   ]
  },
  {
   "cell_type": "code",
   "execution_count": 33,
   "id": "sweet-darwin",
   "metadata": {
    "execution": {
     "iopub.execute_input": "2021-02-17T15:24:35.224922Z",
     "iopub.status.busy": "2021-02-17T15:24:35.224663Z",
     "iopub.status.idle": "2021-02-17T15:24:35.251105Z",
     "shell.execute_reply": "2021-02-17T15:24:35.250232Z",
     "shell.execute_reply.started": "2021-02-17T15:24:35.224893Z"
    }
   },
   "outputs": [],
   "source": [
    "E = noise(P, .02)"
   ]
  },
  {
   "cell_type": "code",
   "execution_count": 35,
   "id": "altered-greek",
   "metadata": {
    "execution": {
     "iopub.execute_input": "2021-02-17T15:28:43.907956Z",
     "iopub.status.busy": "2021-02-17T15:28:43.907717Z",
     "iopub.status.idle": "2021-02-17T15:28:43.972337Z",
     "shell.execute_reply": "2021-02-17T15:28:43.971606Z",
     "shell.execute_reply.started": "2021-02-17T15:28:43.907930Z"
    }
   },
   "outputs": [
    {
     "data": {
      "text/plain": [
       "\"I'm trying to`free your mind, Neo. But I can only show you The door. You%re the one tèat has tg ualk(tirough it.\""
      ]
     },
     "execution_count": 35,
     "metadata": {},
     "output_type": "execute_result"
    }
   ],
   "source": [
    "bits2str(mat2bits(E+P))"
   ]
  },
  {
   "cell_type": "code",
   "execution_count": 58,
   "id": "outstanding-negative",
   "metadata": {
    "execution": {
     "iopub.execute_input": "2021-02-17T15:50:34.520012Z",
     "iopub.status.busy": "2021-02-17T15:50:34.519771Z",
     "iopub.status.idle": "2021-02-17T15:50:34.547560Z",
     "shell.execute_reply": "2021-02-17T15:50:34.546766Z",
     "shell.execute_reply.started": "2021-02-17T15:50:34.519986Z"
    }
   },
   "outputs": [
    {
     "data": {
      "text/plain": [
       "(4, 224)"
      ]
     },
     "execution_count": 58,
     "metadata": {},
     "output_type": "execute_result"
    }
   ],
   "source": [
    "P.shape"
   ]
  },
  {
   "cell_type": "code",
   "execution_count": 45,
   "id": "ranking-calgary",
   "metadata": {
    "execution": {
     "iopub.execute_input": "2021-02-17T15:44:54.303371Z",
     "iopub.status.busy": "2021-02-17T15:44:54.303108Z",
     "iopub.status.idle": "2021-02-17T15:44:54.331229Z",
     "shell.execute_reply": "2021-02-17T15:44:54.330394Z",
     "shell.execute_reply.started": "2021-02-17T15:44:54.303342Z"
    }
   },
   "outputs": [],
   "source": [
    "G = listlist2mat([\n",
    "    [one, 0, one, one],\n",
    "    [one, one, 0, one],\n",
    "    [0, 0, 0, one],\n",
    "    [one, one, one, 0],\n",
    "    [0, 0, one, 0],\n",
    "    [0, one, 0, 0],\n",
    "    [one, 0, 0, 0],\n",
    "])"
   ]
  },
  {
   "cell_type": "code",
   "execution_count": 46,
   "id": "disturbed-status",
   "metadata": {
    "execution": {
     "iopub.execute_input": "2021-02-17T15:44:54.629682Z",
     "iopub.status.busy": "2021-02-17T15:44:54.629449Z",
     "iopub.status.idle": "2021-02-17T15:44:54.655962Z",
     "shell.execute_reply": "2021-02-17T15:44:54.655189Z",
     "shell.execute_reply.started": "2021-02-17T15:44:54.629656Z"
    }
   },
   "outputs": [
    {
     "data": {
      "text/plain": [
       "(7, 4)"
      ]
     },
     "execution_count": 46,
     "metadata": {},
     "output_type": "execute_result"
    }
   ],
   "source": [
    "G.shape"
   ]
  },
  {
   "cell_type": "code",
   "execution_count": 48,
   "id": "preceding-discovery",
   "metadata": {
    "execution": {
     "iopub.execute_input": "2021-02-17T15:45:06.591057Z",
     "iopub.status.busy": "2021-02-17T15:45:06.590790Z",
     "iopub.status.idle": "2021-02-17T15:45:06.633183Z",
     "shell.execute_reply": "2021-02-17T15:45:06.632436Z",
     "shell.execute_reply.started": "2021-02-17T15:45:06.591028Z"
    }
   },
   "outputs": [],
   "source": [
    "C = G * P"
   ]
  },
  {
   "cell_type": "code",
   "execution_count": 49,
   "id": "south-layer",
   "metadata": {
    "execution": {
     "iopub.execute_input": "2021-02-17T15:45:09.404508Z",
     "iopub.status.busy": "2021-02-17T15:45:09.404259Z",
     "iopub.status.idle": "2021-02-17T15:45:09.431307Z",
     "shell.execute_reply": "2021-02-17T15:45:09.430633Z",
     "shell.execute_reply.started": "2021-02-17T15:45:09.404481Z"
    }
   },
   "outputs": [
    {
     "data": {
      "text/plain": [
       "(7, 224)"
      ]
     },
     "execution_count": 49,
     "metadata": {},
     "output_type": "execute_result"
    }
   ],
   "source": [
    "C.shape"
   ]
  },
  {
   "cell_type": "code",
   "execution_count": 50,
   "id": "composed-guyana",
   "metadata": {
    "execution": {
     "iopub.execute_input": "2021-02-17T15:48:09.729493Z",
     "iopub.status.busy": "2021-02-17T15:48:09.729244Z",
     "iopub.status.idle": "2021-02-17T15:48:09.756640Z",
     "shell.execute_reply": "2021-02-17T15:48:09.755784Z",
     "shell.execute_reply.started": "2021-02-17T15:48:09.729465Z"
    }
   },
   "outputs": [],
   "source": [
    "E = noise(C, .02)"
   ]
  },
  {
   "cell_type": "code",
   "execution_count": 128,
   "id": "republican-poker",
   "metadata": {
    "execution": {
     "iopub.execute_input": "2021-02-18T03:04:08.606770Z",
     "iopub.status.busy": "2021-02-18T03:04:08.606530Z",
     "iopub.status.idle": "2021-02-18T03:04:08.634649Z",
     "shell.execute_reply": "2021-02-18T03:04:08.633672Z",
     "shell.execute_reply.started": "2021-02-18T03:04:08.606743Z"
    }
   },
   "outputs": [],
   "source": [
    "def change_error_rate(C, error_rate):\n",
    "    E = noise(C, error_rate)\n",
    "    C_tilde = C + E\n",
    "    message_made = correct(C_tilde)\n",
    "    # want to see 224 sums\n",
    "    coldict = mat2coldict(E)\n",
    "    num_errors = pd.Series([vec.non_null() for vec in coldict.values()]).value_counts()\n",
    "    return bits2str(mat2bits(message_made)), num_errors"
   ]
  },
  {
   "cell_type": "code",
   "execution_count": 129,
   "id": "documented-prophet",
   "metadata": {
    "execution": {
     "iopub.execute_input": "2021-02-18T03:04:08.915466Z",
     "iopub.status.busy": "2021-02-18T03:04:08.915232Z",
     "iopub.status.idle": "2021-02-18T03:04:08.942151Z",
     "shell.execute_reply": "2021-02-18T03:04:08.941473Z",
     "shell.execute_reply.started": "2021-02-18T03:04:08.915441Z"
    }
   },
   "outputs": [
    {
     "data": {
      "text/plain": [
       "array([0.  , 0.01, 0.02, 0.03, 0.04, 0.05, 0.06, 0.07, 0.08, 0.09, 0.1 ])"
      ]
     },
     "execution_count": 129,
     "metadata": {},
     "output_type": "execute_result"
    }
   ],
   "source": [
    "np.linspace(0, .1, 11)"
   ]
  },
  {
   "cell_type": "code",
   "execution_count": 130,
   "id": "important-deployment",
   "metadata": {
    "execution": {
     "iopub.execute_input": "2021-02-18T03:04:09.017580Z",
     "iopub.status.busy": "2021-02-18T03:04:09.017335Z",
     "iopub.status.idle": "2021-02-18T03:04:09.463877Z",
     "shell.execute_reply": "2021-02-18T03:04:09.463168Z",
     "shell.execute_reply.started": "2021-02-18T03:04:09.017553Z"
    }
   },
   "outputs": [
    {
     "name": "stdout",
     "output_type": "stream",
     "text": [
      "0.0 (\"I'm trying to free your mind, Neo. But I can only show you the door. You're the one that has to walk through it.\", 0    224\n",
      "dtype: int64)\n",
      "0.01 (\"I'm trying to free your mind, Neo. But I can only show you the door. You're the one that has to walk through it.\", 0    205\n",
      "1     19\n",
      "dtype: int64)\n",
      "0.02 (\"I'm tr{ing to free your mind, Neo. But I can only show`you the door. You're the one that has to walk through it.\", 0    189\n",
      "1     33\n",
      "2      2\n",
      "dtype: int64)\n",
      "0.03 (\"I'm trying to free yo{r mind, Ngo. Lut I can only show you the door. You're the one that(has to walk through iT.\", 0    175\n",
      "1     44\n",
      "2      5\n",
      "dtype: int64)\n",
      "0.04 (\"I'm tryiNg to frne*your iind, Neo. But I mag only sh/w you the(door. You're the one that has to\\x10walk $èroug` it.\", 0    160\n",
      "1     52\n",
      "2     10\n",
      "3      2\n",
      "dtype: int64)\n",
      "0.05 (\"Igm trzing to frfe your mind, Nmo. But I can only show you the door. You're the on\\x85 that `as t/ ralk thâou7h it.\", 0    159\n",
      "1     55\n",
      "2     10\n",
      "dtype: int64)\n",
      "0.06 (\"I'm trying to free your mind,`Nao. But I can onlw`show you the doar. You'rU thõ one that (as to walk \\x94hrough it.\", 0    148\n",
      "1     67\n",
      "2      8\n",
      "3      1\n",
      "dtype: int64)\n",
      "0.07 (\"I'm tryimn to fuee°your mmnd, Neo. Bu4 I con o.ly phow yoE qhe door. You'\\x7fe the one phaô has\\x00to wa\\\\k through\\xa0it.\", 0    145\n",
      "1     62\n",
      "2     15\n",
      "3      2\n",
      "dtype: int64)\n",
      "0.08 (\"É'm }rying to free)yïur cind, Neo. Bu$ I han ondù sh/w \\x7fou$tme\\x10dÿor. You·re thf-one that\\x00hbs to°walk tèrounh\\x80it.\", 0    121\n",
      "1     79\n",
      "2     17\n",
      "3      6\n",
      "4      1\n",
      "dtype: int64)\n",
      "0.09 (\"I'm t{ying%to\\x15öreg)ymur mifd, Neo. Bpt I cÿn\\xa0only\\xa0ãhow y/\\x95°the dmor. Yo|'re $he$one ¶hat.has*tÿ walk ähqough i~.\", 0    103\n",
      "1     91\n",
      "2     25\n",
      "3      4\n",
      "4      1\n",
      "dtype: int64)\n",
      "0.1 ('I\\'m#}ryi^W to\"crle ymqr mild, Nkf. B|t G\\xa0San oÞ<I show yiu thm dooB. Yo|\\'re#the one ähav has ô? waük\\x10throuÇh i4.', 0    117\n",
      "1     75\n",
      "2     27\n",
      "3      3\n",
      "4      2\n",
      "dtype: int64)\n"
     ]
    }
   ],
   "source": [
    "for error_rate in np.linspace(0, .1, 11):\n",
    "    print(error_rate, change_error_rate(C, error_rate))"
   ]
  },
  {
   "cell_type": "code",
   "execution_count": 131,
   "id": "successful-multiple",
   "metadata": {
    "execution": {
     "iopub.execute_input": "2021-02-18T03:04:09.465577Z",
     "iopub.status.busy": "2021-02-18T03:04:09.465377Z",
     "iopub.status.idle": "2021-02-18T03:04:09.491258Z",
     "shell.execute_reply": "2021-02-18T03:04:09.490463Z",
     "shell.execute_reply.started": "2021-02-18T03:04:09.465553Z"
    }
   },
   "outputs": [
    {
     "data": {
      "text/plain": [
       "(7, 224)"
      ]
     },
     "execution_count": 131,
     "metadata": {},
     "output_type": "execute_result"
    }
   ],
   "source": [
    "E.shape"
   ]
  },
  {
   "cell_type": "code",
   "execution_count": 118,
   "id": "located-acrobat",
   "metadata": {
    "execution": {
     "iopub.execute_input": "2021-02-18T02:58:57.422859Z",
     "iopub.status.busy": "2021-02-18T02:58:57.422615Z",
     "iopub.status.idle": "2021-02-18T02:58:57.515311Z",
     "shell.execute_reply": "2021-02-18T02:58:57.514498Z",
     "shell.execute_reply.started": "2021-02-18T02:58:57.422832Z"
    }
   },
   "outputs": [
    {
     "data": {
      "text/plain": [
       "0    194\n",
       "1     28\n",
       "2      2\n",
       "dtype: int64"
      ]
     },
     "execution_count": 118,
     "metadata": {},
     "output_type": "execute_result"
    }
   ],
   "source": [
    "# want to see 224 sums\n",
    "coldict = mat2coldict(E)\n",
    "pd.Series([vec.non_null() for vec in coldict.values()]).value_counts()"
   ]
  },
  {
   "cell_type": "code",
   "execution_count": null,
   "id": "gorgeous-lawrence",
   "metadata": {},
   "outputs": [],
   "source": []
  },
  {
   "cell_type": "code",
   "execution_count": 51,
   "id": "timely-oriental",
   "metadata": {
    "execution": {
     "iopub.execute_input": "2021-02-17T15:48:31.847889Z",
     "iopub.status.busy": "2021-02-17T15:48:31.847579Z",
     "iopub.status.idle": "2021-02-17T15:48:31.876857Z",
     "shell.execute_reply": "2021-02-17T15:48:31.876099Z",
     "shell.execute_reply.started": "2021-02-17T15:48:31.847856Z"
    }
   },
   "outputs": [],
   "source": [
    "C_tilde = C + E"
   ]
  },
  {
   "cell_type": "code",
   "execution_count": 53,
   "id": "herbal-cylinder",
   "metadata": {
    "execution": {
     "iopub.execute_input": "2021-02-17T15:49:52.552910Z",
     "iopub.status.busy": "2021-02-17T15:49:52.552650Z",
     "iopub.status.idle": "2021-02-17T15:49:52.579939Z",
     "shell.execute_reply": "2021-02-17T15:49:52.579114Z",
     "shell.execute_reply.started": "2021-02-17T15:49:52.552880Z"
    }
   },
   "outputs": [],
   "source": [
    "H = listlist2mat([\n",
    "    [0, 0, 0, one, one, one, one],\n",
    "    [0, one, one, 0, 0, one, one],\n",
    "    [one, 0, one, 0, one, 0, one],\n",
    "])"
   ]
  },
  {
   "cell_type": "code",
   "execution_count": 64,
   "id": "adjustable-investor",
   "metadata": {
    "execution": {
     "iopub.execute_input": "2021-02-17T15:57:54.642884Z",
     "iopub.status.busy": "2021-02-17T15:57:54.642652Z",
     "iopub.status.idle": "2021-02-17T15:57:54.668445Z",
     "shell.execute_reply": "2021-02-17T15:57:54.667744Z",
     "shell.execute_reply.started": "2021-02-17T15:57:54.642860Z"
    }
   },
   "outputs": [],
   "source": [
    "R = listlist2mat([\n",
    "    [0, 0, 0, 0, 0, 0, one],\n",
    "    [0, 0, 0, 0, 0, one, 0],\n",
    "    [0, 0, 0, 0, one, 0, 0],\n",
    "    [0, 0, one, 0, 0, 0, 0],\n",
    "])"
   ]
  },
  {
   "cell_type": "code",
   "execution_count": 65,
   "id": "tamil-factory",
   "metadata": {
    "execution": {
     "iopub.execute_input": "2021-02-17T15:57:55.504287Z",
     "iopub.status.busy": "2021-02-17T15:57:55.504056Z",
     "iopub.status.idle": "2021-02-17T15:57:55.533792Z",
     "shell.execute_reply": "2021-02-17T15:57:55.533112Z",
     "shell.execute_reply.started": "2021-02-17T15:57:55.504262Z"
    }
   },
   "outputs": [
    {
     "data": {
      "text/plain": [
       "(4, 7)"
      ]
     },
     "execution_count": 65,
     "metadata": {},
     "output_type": "execute_result"
    }
   ],
   "source": [
    "R.shape"
   ]
  },
  {
   "cell_type": "code",
   "execution_count": 55,
   "id": "operational-wichita",
   "metadata": {
    "execution": {
     "iopub.execute_input": "2021-02-17T15:50:00.591481Z",
     "iopub.status.busy": "2021-02-17T15:50:00.591230Z",
     "iopub.status.idle": "2021-02-17T15:50:00.618820Z",
     "shell.execute_reply": "2021-02-17T15:50:00.618200Z",
     "shell.execute_reply.started": "2021-02-17T15:50:00.591453Z"
    }
   },
   "outputs": [
    {
     "data": {
      "text/plain": [
       "(7, 224)"
      ]
     },
     "execution_count": 55,
     "metadata": {},
     "output_type": "execute_result"
    }
   ],
   "source": [
    "C_tilde.shape"
   ]
  },
  {
   "cell_type": "code",
   "execution_count": 66,
   "id": "accessory-tobago",
   "metadata": {
    "execution": {
     "iopub.execute_input": "2021-02-17T15:58:12.069521Z",
     "iopub.status.busy": "2021-02-17T15:58:12.069282Z",
     "iopub.status.idle": "2021-02-17T15:58:12.109489Z",
     "shell.execute_reply": "2021-02-17T15:58:12.108780Z",
     "shell.execute_reply.started": "2021-02-17T15:58:12.069495Z"
    }
   },
   "outputs": [
    {
     "data": {
      "text/plain": [
       "'I\\x0fm trqifg to free\"your mind, Neo.`But I can ojly\\x02show\\x00xou tHe door, You\\'ra thE one ôhat has tO walk T(rough$it.'"
      ]
     },
     "execution_count": 66,
     "metadata": {},
     "output_type": "execute_result"
    }
   ],
   "source": [
    "bits2str(mat2bits(R * C_tilde))"
   ]
  },
  {
   "cell_type": "code",
   "execution_count": 103,
   "id": "realistic-investment",
   "metadata": {
    "execution": {
     "iopub.execute_input": "2021-02-18T02:52:51.372102Z",
     "iopub.status.busy": "2021-02-18T02:52:51.371839Z",
     "iopub.status.idle": "2021-02-18T02:52:51.398869Z",
     "shell.execute_reply": "2021-02-18T02:52:51.398107Z",
     "shell.execute_reply.started": "2021-02-18T02:52:51.372073Z"
    }
   },
   "outputs": [],
   "source": [
    "from coding_the_matrix.hamming import correct"
   ]
  },
  {
   "cell_type": "code",
   "execution_count": 105,
   "id": "veterinary-china",
   "metadata": {
    "execution": {
     "iopub.execute_input": "2021-02-18T02:53:11.226847Z",
     "iopub.status.busy": "2021-02-18T02:53:11.226588Z",
     "iopub.status.idle": "2021-02-18T02:53:11.289715Z",
     "shell.execute_reply": "2021-02-18T02:53:11.288985Z",
     "shell.execute_reply.started": "2021-02-18T02:53:11.226818Z"
    }
   },
   "outputs": [],
   "source": [
    "message_made = correct(C_tilde)"
   ]
  },
  {
   "cell_type": "code",
   "execution_count": 106,
   "id": "fallen-decade",
   "metadata": {
    "execution": {
     "iopub.execute_input": "2021-02-18T02:53:27.229998Z",
     "iopub.status.busy": "2021-02-18T02:53:27.229729Z",
     "iopub.status.idle": "2021-02-18T02:53:27.258937Z",
     "shell.execute_reply": "2021-02-18T02:53:27.258226Z",
     "shell.execute_reply.started": "2021-02-18T02:53:27.229967Z"
    }
   },
   "outputs": [
    {
     "data": {
      "text/plain": [
       "\"I'm trping to free your mind, Neo. But I can only show you tXe door. You're the one that has to walk through it.\""
      ]
     },
     "execution_count": 106,
     "metadata": {},
     "output_type": "execute_result"
    }
   ],
   "source": [
    "bits2str(mat2bits(message_made))"
   ]
  },
  {
   "cell_type": "code",
   "execution_count": 68,
   "id": "decimal-french",
   "metadata": {
    "execution": {
     "iopub.execute_input": "2021-02-18T02:22:39.679525Z",
     "iopub.status.busy": "2021-02-18T02:22:39.679255Z",
     "iopub.status.idle": "2021-02-18T02:22:39.706062Z",
     "shell.execute_reply": "2021-02-18T02:22:39.705399Z",
     "shell.execute_reply.started": "2021-02-18T02:22:39.679492Z"
    }
   },
   "outputs": [],
   "source": [
    "A = C_tilde.copy()"
   ]
  },
  {
   "cell_type": "code",
   "execution_count": 72,
   "id": "identical-sharp",
   "metadata": {
    "execution": {
     "iopub.execute_input": "2021-02-18T02:23:30.364432Z",
     "iopub.status.busy": "2021-02-18T02:23:30.364225Z",
     "iopub.status.idle": "2021-02-18T02:23:30.413086Z",
     "shell.execute_reply": "2021-02-18T02:23:30.412499Z",
     "shell.execute_reply.started": "2021-02-18T02:23:30.364410Z"
    }
   },
   "outputs": [],
   "source": [
    "from coding_the_matrix.hamming import find_error_matrix"
   ]
  },
  {
   "cell_type": "code",
   "execution_count": 75,
   "id": "moderate-jason",
   "metadata": {
    "execution": {
     "iopub.execute_input": "2021-02-18T02:23:59.045192Z",
     "iopub.status.busy": "2021-02-18T02:23:59.044960Z",
     "iopub.status.idle": "2021-02-18T02:23:59.075989Z",
     "shell.execute_reply": "2021-02-18T02:23:59.075053Z",
     "shell.execute_reply.started": "2021-02-18T02:23:59.045166Z"
    }
   },
   "outputs": [
    {
     "data": {
      "text/plain": [
       "(7, 224)"
      ]
     },
     "execution_count": 75,
     "metadata": {},
     "output_type": "execute_result"
    }
   ],
   "source": [
    "A.shape"
   ]
  },
  {
   "cell_type": "code",
   "execution_count": null,
   "id": "governing-victoria",
   "metadata": {},
   "outputs": [],
   "source": []
  },
  {
   "cell_type": "code",
   "execution_count": 82,
   "id": "micro-donna",
   "metadata": {
    "execution": {
     "iopub.execute_input": "2021-02-18T02:33:45.756076Z",
     "iopub.status.busy": "2021-02-18T02:33:45.755836Z",
     "iopub.status.idle": "2021-02-18T02:33:45.792101Z",
     "shell.execute_reply": "2021-02-18T02:33:45.791428Z",
     "shell.execute_reply.started": "2021-02-18T02:33:45.756050Z"
    }
   },
   "outputs": [],
   "source": [
    "decoded_matrix = H * A"
   ]
  },
  {
   "cell_type": "code",
   "execution_count": 84,
   "id": "incredible-party",
   "metadata": {
    "execution": {
     "iopub.execute_input": "2021-02-18T02:33:54.705340Z",
     "iopub.status.busy": "2021-02-18T02:33:54.705080Z",
     "iopub.status.idle": "2021-02-18T02:33:54.733058Z",
     "shell.execute_reply": "2021-02-18T02:33:54.732281Z",
     "shell.execute_reply.started": "2021-02-18T02:33:54.705311Z"
    }
   },
   "outputs": [
    {
     "data": {
      "text/plain": [
       "(3, 224)"
      ]
     },
     "execution_count": 84,
     "metadata": {},
     "output_type": "execute_result"
    }
   ],
   "source": [
    "decoded_matrix.shape"
   ]
  },
  {
   "cell_type": "code",
   "execution_count": 86,
   "id": "liked-touch",
   "metadata": {
    "execution": {
     "iopub.execute_input": "2021-02-18T02:34:02.733326Z",
     "iopub.status.busy": "2021-02-18T02:34:02.733062Z",
     "iopub.status.idle": "2021-02-18T02:34:02.771540Z",
     "shell.execute_reply": "2021-02-18T02:34:02.770895Z",
     "shell.execute_reply.started": "2021-02-18T02:34:02.733298Z"
    }
   },
   "outputs": [],
   "source": [
    "error_matrix = find_error_matrix(decoded_matrix)"
   ]
  },
  {
   "cell_type": "code",
   "execution_count": 87,
   "id": "ecological-malaysia",
   "metadata": {
    "execution": {
     "iopub.execute_input": "2021-02-18T02:34:08.035699Z",
     "iopub.status.busy": "2021-02-18T02:34:08.035455Z",
     "iopub.status.idle": "2021-02-18T02:34:08.063141Z",
     "shell.execute_reply": "2021-02-18T02:34:08.062476Z",
     "shell.execute_reply.started": "2021-02-18T02:34:08.035672Z"
    }
   },
   "outputs": [
    {
     "data": {
      "text/plain": [
       "(7, 224)"
      ]
     },
     "execution_count": 87,
     "metadata": {},
     "output_type": "execute_result"
    }
   ],
   "source": [
    "error_matrix.shape"
   ]
  },
  {
   "cell_type": "code",
   "execution_count": 93,
   "id": "metallic-silly",
   "metadata": {
    "execution": {
     "iopub.execute_input": "2021-02-18T02:38:53.257396Z",
     "iopub.status.busy": "2021-02-18T02:38:53.257146Z",
     "iopub.status.idle": "2021-02-18T02:38:53.334639Z",
     "shell.execute_reply": "2021-02-18T02:38:53.333752Z",
     "shell.execute_reply.started": "2021-02-18T02:38:53.257368Z"
    }
   },
   "outputs": [],
   "source": [
    "corrected_matrix = A - error_matrix"
   ]
  },
  {
   "cell_type": "code",
   "execution_count": 99,
   "id": "brazilian-boston",
   "metadata": {
    "execution": {
     "iopub.execute_input": "2021-02-18T02:39:53.122845Z",
     "iopub.status.busy": "2021-02-18T02:39:53.122574Z",
     "iopub.status.idle": "2021-02-18T02:39:53.161461Z",
     "shell.execute_reply": "2021-02-18T02:39:53.160822Z",
     "shell.execute_reply.started": "2021-02-18T02:39:53.122817Z"
    }
   },
   "outputs": [],
   "source": [
    "message_matrix = R * corrected_matrix"
   ]
  },
  {
   "cell_type": "code",
   "execution_count": 101,
   "id": "prostate-impossible",
   "metadata": {
    "execution": {
     "iopub.execute_input": "2021-02-18T02:40:02.879520Z",
     "iopub.status.busy": "2021-02-18T02:40:02.879241Z",
     "iopub.status.idle": "2021-02-18T02:40:02.907602Z",
     "shell.execute_reply": "2021-02-18T02:40:02.906955Z",
     "shell.execute_reply.started": "2021-02-18T02:40:02.879486Z"
    }
   },
   "outputs": [
    {
     "data": {
      "text/plain": [
       "\"I'm trping to free your mind, Neo. But I can only show you tXe door. You're the one that has to walk through it.\""
      ]
     },
     "execution_count": 101,
     "metadata": {},
     "output_type": "execute_result"
    }
   ],
   "source": [
    "bits2str(mat2bits(message_matrix))"
   ]
  },
  {
   "cell_type": "code",
   "execution_count": null,
   "id": "facial-weather",
   "metadata": {},
   "outputs": [],
   "source": []
  },
  {
   "cell_type": "code",
   "execution_count": 95,
   "id": "wired-august",
   "metadata": {
    "execution": {
     "iopub.execute_input": "2021-02-18T02:39:00.426239Z",
     "iopub.status.busy": "2021-02-18T02:39:00.425966Z",
     "iopub.status.idle": "2021-02-18T02:39:00.454925Z",
     "shell.execute_reply": "2021-02-18T02:39:00.454097Z",
     "shell.execute_reply.started": "2021-02-18T02:39:00.426209Z"
    }
   },
   "outputs": [
    {
     "name": "stdout",
     "output_type": "stream",
     "text": [
      "Ì\f",
      "^U\u0001T\u0019¼\n",
      "\u000fÀ3g´\u0019~\u0006Peðÿ\u0019@5©ðÒt\u0006P1ñÿ\u0014¯Â\u0003TÕ\u0019sFef\u001e",
      "\u0015@EËHgÿ\u0019M\u0005P©2R|\u0006\u000fP13\u0000Ux¶Ñf\u0000ÕFyfL<@\u0015Æ\u001ffÿ\u0019\u001e",
      "\u000fP1ñÿ\u0014\u000fPeð\u0007©t\u0006PefÿÙ¦ÂÓT\u0000\u0015SúIñx\n",
      "/\u0001T\u0019üa&\u0001Tÿ\u0019m&\u0001T\u0019üa¶eð\u0000Õa¶",
      "ñ\u0000U\u0006ÿ\u0001Txüræg\u0000U\u0006©ðÿ\u0014\u001d",
      "f\u0000\u0015sÁÓT\n"
     ]
    }
   ],
   "source": [
    "print(bits2str(mat2bits(corrected_matrix)))"
   ]
  },
  {
   "cell_type": "code",
   "execution_count": null,
   "id": "changed-picnic",
   "metadata": {},
   "outputs": [],
   "source": [
    "A_tilda = A - "
   ]
  },
  {
   "cell_type": "code",
   "execution_count": null,
   "id": "selected-celebrity",
   "metadata": {},
   "outputs": [],
   "source": []
  },
  {
   "cell_type": "code",
   "execution_count": null,
   "id": "incorporated-warning",
   "metadata": {},
   "outputs": [],
   "source": []
  },
  {
   "cell_type": "code",
   "execution_count": null,
   "id": "optical-married",
   "metadata": {},
   "outputs": [],
   "source": []
  },
  {
   "cell_type": "code",
   "execution_count": 6,
   "id": "prompt-cemetery",
   "metadata": {
    "execution": {
     "iopub.execute_input": "2021-02-17T01:09:45.298719Z",
     "iopub.status.busy": "2021-02-17T01:09:45.298491Z",
     "iopub.status.idle": "2021-02-17T01:09:45.324984Z",
     "shell.execute_reply": "2021-02-17T01:09:45.324293Z",
     "shell.execute_reply.started": "2021-02-17T01:09:45.298693Z"
    }
   },
   "outputs": [],
   "source": [
    "message = list2vec([one, 0, 0, one])"
   ]
  },
  {
   "cell_type": "code",
   "execution_count": 11,
   "id": "close-worse",
   "metadata": {
    "execution": {
     "iopub.execute_input": "2021-02-17T01:16:24.181163Z",
     "iopub.status.busy": "2021-02-17T01:16:24.180923Z",
     "iopub.status.idle": "2021-02-17T01:16:24.208403Z",
     "shell.execute_reply": "2021-02-17T01:16:24.207515Z",
     "shell.execute_reply.started": "2021-02-17T01:16:24.181137Z"
    }
   },
   "outputs": [],
   "source": [
    "encoded = (G * message)"
   ]
  },
  {
   "cell_type": "code",
   "execution_count": 13,
   "id": "painted-profession",
   "metadata": {
    "execution": {
     "iopub.execute_input": "2021-02-17T01:16:31.571310Z",
     "iopub.status.busy": "2021-02-17T01:16:31.571058Z",
     "iopub.status.idle": "2021-02-17T01:16:31.611029Z",
     "shell.execute_reply": "2021-02-17T01:16:31.598263Z",
     "shell.execute_reply.started": "2021-02-17T01:16:31.571282Z"
    }
   },
   "outputs": [
    {
     "data": {
      "text/plain": [
       "dict_values([0, 0, 1, 1, 0, 0, 1])"
      ]
     },
     "execution_count": 13,
     "metadata": {},
     "output_type": "execute_result"
    }
   ],
   "source": [
    "encoded.f.values()"
   ]
  },
  {
   "cell_type": "code",
   "execution_count": 10,
   "id": "skilled-airport",
   "metadata": {
    "execution": {
     "iopub.execute_input": "2021-02-17T01:10:52.622384Z",
     "iopub.status.busy": "2021-02-17T01:10:52.622154Z",
     "iopub.status.idle": "2021-02-17T01:10:52.650236Z",
     "shell.execute_reply": "2021-02-17T01:10:52.649388Z",
     "shell.execute_reply.started": "2021-02-17T01:10:52.622358Z"
    }
   },
   "outputs": [
    {
     "data": {
      "text/plain": [
       "dict_values([0, 1, 1, 1, 1, 0, 0])"
      ]
     },
     "execution_count": 10,
     "metadata": {},
     "output_type": "execute_result"
    }
   ],
   "source": [
    "(G * list2vec([0, 0, 1, 1])).f.values()"
   ]
  },
  {
   "cell_type": "code",
   "execution_count": 26,
   "id": "olive-denver",
   "metadata": {
    "execution": {
     "iopub.execute_input": "2021-02-17T01:18:35.656018Z",
     "iopub.status.busy": "2021-02-17T01:18:35.655779Z",
     "iopub.status.idle": "2021-02-17T01:18:35.682632Z",
     "shell.execute_reply": "2021-02-17T01:18:35.681652Z",
     "shell.execute_reply.started": "2021-02-17T01:18:35.655992Z"
    }
   },
   "outputs": [],
   "source": [
    "R = listlist2mat([\n",
    "    [0, 0, 0, 0, 0, 0, one],\n",
    "    [0, 0, 0, 0, 0, one, 0],\n",
    "    [0, 0, 0, 0, one, 0, 0],\n",
    "    [0, 0, one, 0, 0, 0, 0],\n",
    "])"
   ]
  },
  {
   "cell_type": "code",
   "execution_count": 27,
   "id": "social-hydrogen",
   "metadata": {
    "execution": {
     "iopub.execute_input": "2021-02-17T01:18:36.192311Z",
     "iopub.status.busy": "2021-02-17T01:18:36.192059Z",
     "iopub.status.idle": "2021-02-17T01:18:36.219485Z",
     "shell.execute_reply": "2021-02-17T01:18:36.218777Z",
     "shell.execute_reply.started": "2021-02-17T01:18:36.192283Z"
    }
   },
   "outputs": [
    {
     "data": {
      "text/plain": [
       "Vec(self.D, {2: 1, 3: 1, 6: 1})"
      ]
     },
     "execution_count": 27,
     "metadata": {},
     "output_type": "execute_result"
    }
   ],
   "source": [
    "encoded"
   ]
  },
  {
   "cell_type": "code",
   "execution_count": 28,
   "id": "bright-easter",
   "metadata": {
    "execution": {
     "iopub.execute_input": "2021-02-17T01:18:36.331865Z",
     "iopub.status.busy": "2021-02-17T01:18:36.331618Z",
     "iopub.status.idle": "2021-02-17T01:18:36.358920Z",
     "shell.execute_reply": "2021-02-17T01:18:36.357988Z",
     "shell.execute_reply.started": "2021-02-17T01:18:36.331839Z"
    }
   },
   "outputs": [
    {
     "data": {
      "text/plain": [
       "Vec(self.D, {0: 1, 3: 1})"
      ]
     },
     "execution_count": 28,
     "metadata": {},
     "output_type": "execute_result"
    }
   ],
   "source": [
    "message"
   ]
  },
  {
   "cell_type": "code",
   "execution_count": 29,
   "id": "regulated-logistics",
   "metadata": {
    "execution": {
     "iopub.execute_input": "2021-02-17T01:18:36.483890Z",
     "iopub.status.busy": "2021-02-17T01:18:36.483648Z",
     "iopub.status.idle": "2021-02-17T01:18:36.510638Z",
     "shell.execute_reply": "2021-02-17T01:18:36.509838Z",
     "shell.execute_reply.started": "2021-02-17T01:18:36.483864Z"
    }
   },
   "outputs": [
    {
     "data": {
      "text/plain": [
       "Vec(self.D, {0: 1, 3: 1})"
      ]
     },
     "execution_count": 29,
     "metadata": {},
     "output_type": "execute_result"
    }
   ],
   "source": [
    "R * encoded"
   ]
  },
  {
   "cell_type": "code",
   "execution_count": 32,
   "id": "weighted-industry",
   "metadata": {
    "execution": {
     "iopub.execute_input": "2021-02-17T01:48:09.588434Z",
     "iopub.status.busy": "2021-02-17T01:48:09.588191Z",
     "iopub.status.idle": "2021-02-17T01:48:09.628447Z",
     "shell.execute_reply": "2021-02-17T01:48:09.627814Z",
     "shell.execute_reply.started": "2021-02-17T01:48:09.588407Z"
    }
   },
   "outputs": [
    {
     "name": "stdout",
     "output_type": "stream",
     "text": [
      "   0  1  2  3\n",
      "0  1  0  0  0\n",
      "1  0  1  0  0\n",
      "2  0  0  1  0\n",
      "3  0  0  0  1\n"
     ]
    }
   ],
   "source": [
    "print(R*G)"
   ]
  },
  {
   "cell_type": "code",
   "execution_count": 73,
   "id": "sophisticated-solution",
   "metadata": {
    "execution": {
     "iopub.execute_input": "2021-02-17T02:26:38.204974Z",
     "iopub.status.busy": "2021-02-17T02:26:38.204695Z",
     "iopub.status.idle": "2021-02-17T02:26:38.231379Z",
     "shell.execute_reply": "2021-02-17T02:26:38.230600Z",
     "shell.execute_reply.started": "2021-02-17T02:26:38.204942Z"
    }
   },
   "outputs": [],
   "source": [
    "H = listlist2mat([\n",
    "    [0, 0, 0, one, one, one, one],\n",
    "    [0, one, one, 0, 0, one, one],\n",
    "    [one, 0, one, 0, one, 0, one],\n",
    "])"
   ]
  },
  {
   "cell_type": "code",
   "execution_count": 74,
   "id": "desperate-pressure",
   "metadata": {
    "execution": {
     "iopub.execute_input": "2021-02-17T02:26:40.233049Z",
     "iopub.status.busy": "2021-02-17T02:26:40.232808Z",
     "iopub.status.idle": "2021-02-17T02:26:40.262185Z",
     "shell.execute_reply": "2021-02-17T02:26:40.261272Z",
     "shell.execute_reply.started": "2021-02-17T02:26:40.233022Z"
    }
   },
   "outputs": [
    {
     "name": "stdout",
     "output_type": "stream",
     "text": [
      "   0  1  2  3\n",
      "0  0  0  0  0\n",
      "1  0  0  0  0\n",
      "2  0  0  0  0\n"
     ]
    }
   ],
   "source": [
    "print(H * G)"
   ]
  },
  {
   "cell_type": "code",
   "execution_count": 40,
   "id": "revised-blast",
   "metadata": {
    "execution": {
     "iopub.execute_input": "2021-02-17T01:52:46.403584Z",
     "iopub.status.busy": "2021-02-17T01:52:46.403342Z",
     "iopub.status.idle": "2021-02-17T01:52:46.429327Z",
     "shell.execute_reply": "2021-02-17T01:52:46.428389Z",
     "shell.execute_reply.started": "2021-02-17T01:52:46.403558Z"
    }
   },
   "outputs": [],
   "source": [
    "e = list2vec([0, 0, 0, 0, 0, 0, 1])"
   ]
  },
  {
   "cell_type": "code",
   "execution_count": 42,
   "id": "brazilian-handbook",
   "metadata": {
    "execution": {
     "iopub.execute_input": "2021-02-17T01:59:06.094144Z",
     "iopub.status.busy": "2021-02-17T01:59:06.093946Z",
     "iopub.status.idle": "2021-02-17T01:59:06.135750Z",
     "shell.execute_reply": "2021-02-17T01:59:06.135058Z",
     "shell.execute_reply.started": "2021-02-17T01:59:06.094123Z"
    }
   },
   "outputs": [],
   "source": [
    "zeros = [0 for i in range(7)]"
   ]
  },
  {
   "cell_type": "code",
   "execution_count": 45,
   "id": "quantitative-seafood",
   "metadata": {
    "execution": {
     "iopub.execute_input": "2021-02-17T01:59:48.030456Z",
     "iopub.status.busy": "2021-02-17T01:59:48.030186Z",
     "iopub.status.idle": "2021-02-17T01:59:48.061259Z",
     "shell.execute_reply": "2021-02-17T01:59:48.060512Z",
     "shell.execute_reply.started": "2021-02-17T01:59:48.030423Z"
    }
   },
   "outputs": [],
   "source": [
    "E = []\n",
    "for i in range(7):\n",
    "    zeros = [0 for i in range(7)]\n",
    "    zeros[i] = 1\n",
    "    E.append(zeros.copy())"
   ]
  },
  {
   "cell_type": "code",
   "execution_count": 49,
   "id": "inclusive-spouse",
   "metadata": {
    "execution": {
     "iopub.execute_input": "2021-02-17T02:00:20.501380Z",
     "iopub.status.busy": "2021-02-17T02:00:20.501147Z",
     "iopub.status.idle": "2021-02-17T02:00:20.554405Z",
     "shell.execute_reply": "2021-02-17T02:00:20.553865Z",
     "shell.execute_reply.started": "2021-02-17T02:00:20.501357Z"
    }
   },
   "outputs": [
    {
     "name": "stdout",
     "output_type": "stream",
     "text": [
      "   0  1  2  3  4  5  6\n",
      "0  0  0  0  1  1  1  1\n",
      "1  0  1  1  0  0  1  1\n",
      "2  1  0  1  0  1  0  1\n"
     ]
    }
   ],
   "source": [
    "print(H * listlist2mat(E))"
   ]
  },
  {
   "cell_type": "code",
   "execution_count": 105,
   "id": "signal-house",
   "metadata": {
    "execution": {
     "iopub.execute_input": "2021-02-17T02:45:53.074460Z",
     "iopub.status.busy": "2021-02-17T02:45:53.074192Z",
     "iopub.status.idle": "2021-02-17T02:45:53.101761Z",
     "shell.execute_reply": "2021-02-17T02:45:53.100970Z",
     "shell.execute_reply.started": "2021-02-17T02:45:53.074431Z"
    }
   },
   "outputs": [],
   "source": [
    "def find_error(error_syndrome):\n",
    "    coldict = mat2coldict(H)\n",
    "    for i, col in coldict.items():\n",
    "        if error_syndrome == col:\n",
    "            zeros = [0 for i in range(7)]\n",
    "            zeros[i] = one\n",
    "            return list2vec(zeros)"
   ]
  },
  {
   "cell_type": "code",
   "execution_count": 41,
   "id": "bacterial-introduction",
   "metadata": {
    "execution": {
     "iopub.execute_input": "2021-02-17T01:52:46.755858Z",
     "iopub.status.busy": "2021-02-17T01:52:46.755626Z",
     "iopub.status.idle": "2021-02-17T01:52:46.782594Z",
     "shell.execute_reply": "2021-02-17T01:52:46.781821Z",
     "shell.execute_reply.started": "2021-02-17T01:52:46.755832Z"
    }
   },
   "outputs": [
    {
     "data": {
      "text/plain": [
       "Vec(self.D, {0: 1, 1: 1, 2: 1})"
      ]
     },
     "execution_count": 41,
     "metadata": {},
     "output_type": "execute_result"
    }
   ],
   "source": [
    "H * e"
   ]
  },
  {
   "cell_type": "code",
   "execution_count": 86,
   "id": "european-namibia",
   "metadata": {
    "execution": {
     "iopub.execute_input": "2021-02-17T02:31:01.848800Z",
     "iopub.status.busy": "2021-02-17T02:31:01.848552Z",
     "iopub.status.idle": "2021-02-17T02:31:01.920219Z",
     "shell.execute_reply": "2021-02-17T02:31:01.919046Z",
     "shell.execute_reply.started": "2021-02-17T02:31:01.848773Z"
    }
   },
   "outputs": [],
   "source": [
    "message = list2vec([one, 0, one, one, 0, one, one])"
   ]
  },
  {
   "cell_type": "code",
   "execution_count": 87,
   "id": "occasional-president",
   "metadata": {
    "execution": {
     "iopub.execute_input": "2021-02-17T02:31:02.030425Z",
     "iopub.status.busy": "2021-02-17T02:31:02.030184Z",
     "iopub.status.idle": "2021-02-17T02:31:02.057769Z",
     "shell.execute_reply": "2021-02-17T02:31:02.056908Z",
     "shell.execute_reply.started": "2021-02-17T02:31:02.030398Z"
    }
   },
   "outputs": [
    {
     "data": {
      "text/plain": [
       "7"
      ]
     },
     "execution_count": 87,
     "metadata": {},
     "output_type": "execute_result"
    }
   ],
   "source": [
    "len(message)"
   ]
  },
  {
   "cell_type": "code",
   "execution_count": 91,
   "id": "third-elder",
   "metadata": {
    "execution": {
     "iopub.execute_input": "2021-02-17T02:33:59.058436Z",
     "iopub.status.busy": "2021-02-17T02:33:59.058193Z",
     "iopub.status.idle": "2021-02-17T02:33:59.129970Z",
     "shell.execute_reply": "2021-02-17T02:33:59.129117Z",
     "shell.execute_reply.started": "2021-02-17T02:33:59.058409Z"
    }
   },
   "outputs": [],
   "source": [
    "error_syndrome = H * message"
   ]
  },
  {
   "cell_type": "code",
   "execution_count": 137,
   "id": "proved-award",
   "metadata": {
    "execution": {
     "iopub.execute_input": "2021-02-17T03:30:01.365458Z",
     "iopub.status.busy": "2021-02-17T03:30:01.365208Z",
     "iopub.status.idle": "2021-02-17T03:30:01.392897Z",
     "shell.execute_reply": "2021-02-17T03:30:01.391932Z",
     "shell.execute_reply.started": "2021-02-17T03:30:01.365430Z"
    }
   },
   "outputs": [
    {
     "data": {
      "text/plain": [
       "Vec(self.D, {0: 1, 1: 1, 2: 1})"
      ]
     },
     "execution_count": 137,
     "metadata": {},
     "output_type": "execute_result"
    }
   ],
   "source": [
    "error_syndrome"
   ]
  },
  {
   "cell_type": "code",
   "execution_count": 99,
   "id": "single-excerpt",
   "metadata": {
    "execution": {
     "iopub.execute_input": "2021-02-17T02:44:43.038567Z",
     "iopub.status.busy": "2021-02-17T02:44:43.038299Z",
     "iopub.status.idle": "2021-02-17T02:44:43.066606Z",
     "shell.execute_reply": "2021-02-17T02:44:43.065827Z",
     "shell.execute_reply.started": "2021-02-17T02:44:43.038537Z"
    }
   },
   "outputs": [
    {
     "data": {
      "text/plain": [
       "Mat(({0, 1, 2}, {0, 1, 2, 3, 4, 5, 6}), {(0, 0): 0, (0, 1): 0, (0, 2): 0, (0, 3): 1, (0, 4): 1, (0, 5): 1, (0, 6): 1, (1, 0): 0, (1, 1): 1, (1, 2): 1, (1, 3): 0, (1, 4): 0, (1, 5): 1, (1, 6): 1, (2, 0): 1, (2, 1): 0, (2, 2): 1, (2, 3): 0, (2, 4): 1, (2, 5): 0, (2, 6): 1})"
      ]
     },
     "execution_count": 99,
     "metadata": {},
     "output_type": "execute_result"
    }
   ],
   "source": [
    "H"
   ]
  },
  {
   "cell_type": "code",
   "execution_count": 106,
   "id": "fixed-adapter",
   "metadata": {
    "execution": {
     "iopub.execute_input": "2021-02-17T02:45:55.167764Z",
     "iopub.status.busy": "2021-02-17T02:45:55.167524Z",
     "iopub.status.idle": "2021-02-17T02:45:55.195125Z",
     "shell.execute_reply": "2021-02-17T02:45:55.194355Z",
     "shell.execute_reply.started": "2021-02-17T02:45:55.167737Z"
    }
   },
   "outputs": [
    {
     "data": {
      "text/plain": [
       "Vec(self.D, {6: 1})"
      ]
     },
     "execution_count": 106,
     "metadata": {},
     "output_type": "execute_result"
    }
   ],
   "source": [
    "e = find_error(error_syndrome)\n",
    "e"
   ]
  },
  {
   "cell_type": "code",
   "execution_count": 108,
   "id": "numerous-memory",
   "metadata": {
    "execution": {
     "iopub.execute_input": "2021-02-17T02:46:01.213879Z",
     "iopub.status.busy": "2021-02-17T02:46:01.213638Z",
     "iopub.status.idle": "2021-02-17T02:46:01.240719Z",
     "shell.execute_reply": "2021-02-17T02:46:01.240024Z",
     "shell.execute_reply.started": "2021-02-17T02:46:01.213852Z"
    }
   },
   "outputs": [],
   "source": [
    "clean_message = message + e"
   ]
  },
  {
   "cell_type": "code",
   "execution_count": 110,
   "id": "detailed-impression",
   "metadata": {
    "execution": {
     "iopub.execute_input": "2021-02-17T02:46:23.211963Z",
     "iopub.status.busy": "2021-02-17T02:46:23.211713Z",
     "iopub.status.idle": "2021-02-17T02:46:23.242663Z",
     "shell.execute_reply": "2021-02-17T02:46:23.241890Z",
     "shell.execute_reply.started": "2021-02-17T02:46:23.211935Z"
    }
   },
   "outputs": [
    {
     "name": "stdout",
     "output_type": "stream",
     "text": [
      "0 1 2 3\n",
      "0 1 0 1\n"
     ]
    }
   ],
   "source": [
    "print(R * clean_message)"
   ]
  },
  {
   "cell_type": "code",
   "execution_count": 136,
   "id": "incorrect-campaign",
   "metadata": {
    "execution": {
     "iopub.execute_input": "2021-02-17T03:29:54.653727Z",
     "iopub.status.busy": "2021-02-17T03:29:54.653499Z",
     "iopub.status.idle": "2021-02-17T03:29:54.679332Z",
     "shell.execute_reply": "2021-02-17T03:29:54.678478Z",
     "shell.execute_reply.started": "2021-02-17T03:29:54.653702Z"
    }
   },
   "outputs": [],
   "source": [
    "def find_error_matrix(S):\n",
    "    \"\"\"\n",
    "    Args:\n",
    "        S: columns are error syndromes\n",
    "    Returns:\n",
    "        a matrix whose column is the error coressponding to the column of S\n",
    "    \"\"\"\n",
    "    coldict = mat2coldict(S)\n",
    "    errors = {k: find_error(v) for k, v in coldict.items()}\n",
    "    return coldict2mat(errors)"
   ]
  },
  {
   "cell_type": "code",
   "execution_count": 151,
   "id": "smart-christopher",
   "metadata": {
    "execution": {
     "iopub.execute_input": "2021-02-17T03:31:48.030148Z",
     "iopub.status.busy": "2021-02-17T03:31:48.029887Z",
     "iopub.status.idle": "2021-02-17T03:31:48.061669Z",
     "shell.execute_reply": "2021-02-17T03:31:48.060952Z",
     "shell.execute_reply.started": "2021-02-17T03:31:48.030120Z"
    }
   },
   "outputs": [],
   "source": [
    "M = listlist2mat(\n",
    "    [\n",
    "        [\n",
    "            one,\n",
    "            one,\n",
    "            one,\n",
    "        ],\n",
    "        [0, 0, one],\n",
    "    ]\n",
    ").transpose()"
   ]
  },
  {
   "cell_type": "code",
   "execution_count": 144,
   "id": "handmade-estimate",
   "metadata": {
    "execution": {
     "iopub.execute_input": "2021-02-17T03:31:14.721103Z",
     "iopub.status.busy": "2021-02-17T03:31:14.720851Z",
     "iopub.status.idle": "2021-02-17T03:31:14.750739Z",
     "shell.execute_reply": "2021-02-17T03:31:14.749720Z",
     "shell.execute_reply.started": "2021-02-17T03:31:14.721075Z"
    }
   },
   "outputs": [
    {
     "name": "stdout",
     "output_type": "stream",
     "text": [
      "   0  1\n",
      "0  1  0\n",
      "1  1  0\n",
      "2  1  1\n"
     ]
    }
   ],
   "source": [
    "print(M)"
   ]
  },
  {
   "cell_type": "code",
   "execution_count": 145,
   "id": "naval-fountain",
   "metadata": {
    "execution": {
     "iopub.execute_input": "2021-02-17T03:31:15.071114Z",
     "iopub.status.busy": "2021-02-17T03:31:15.070884Z",
     "iopub.status.idle": "2021-02-17T03:31:15.097166Z",
     "shell.execute_reply": "2021-02-17T03:31:15.096299Z",
     "shell.execute_reply.started": "2021-02-17T03:31:15.071088Z"
    }
   },
   "outputs": [],
   "source": [
    "coldict = mat2coldict(M)"
   ]
  },
  {
   "cell_type": "code",
   "execution_count": 149,
   "id": "nominated-physiology",
   "metadata": {
    "execution": {
     "iopub.execute_input": "2021-02-17T03:31:28.966781Z",
     "iopub.status.busy": "2021-02-17T03:31:28.966543Z",
     "iopub.status.idle": "2021-02-17T03:31:28.993022Z",
     "shell.execute_reply": "2021-02-17T03:31:28.992164Z",
     "shell.execute_reply.started": "2021-02-17T03:31:28.966755Z"
    }
   },
   "outputs": [],
   "source": [
    "EM = find_error_matrix(M)"
   ]
  },
  {
   "cell_type": "code",
   "execution_count": 150,
   "id": "color-painting",
   "metadata": {
    "execution": {
     "iopub.execute_input": "2021-02-17T03:31:30.901241Z",
     "iopub.status.busy": "2021-02-17T03:31:30.900959Z",
     "iopub.status.idle": "2021-02-17T03:31:30.930771Z",
     "shell.execute_reply": "2021-02-17T03:31:30.930054Z",
     "shell.execute_reply.started": "2021-02-17T03:31:30.901211Z"
    }
   },
   "outputs": [
    {
     "name": "stdout",
     "output_type": "stream",
     "text": [
      "   0  1\n",
      "0  0  1\n",
      "1  0  0\n",
      "2  0  0\n",
      "3  0  0\n",
      "4  0  0\n",
      "5  0  0\n",
      "6  1  0\n"
     ]
    }
   ],
   "source": [
    "print(EM)"
   ]
  },
  {
   "cell_type": "code",
   "execution_count": null,
   "id": "right-breach",
   "metadata": {},
   "outputs": [],
   "source": []
  },
  {
   "cell_type": "code",
   "execution_count": null,
   "id": "transsexual-ethnic",
   "metadata": {},
   "outputs": [],
   "source": []
  },
  {
   "cell_type": "code",
   "execution_count": null,
   "id": "hybrid-failure",
   "metadata": {},
   "outputs": [],
   "source": []
  },
  {
   "cell_type": "code",
   "execution_count": null,
   "id": "structural-henry",
   "metadata": {},
   "outputs": [],
   "source": []
  },
  {
   "cell_type": "code",
   "execution_count": null,
   "id": "interested-transportation",
   "metadata": {},
   "outputs": [],
   "source": []
  },
  {
   "cell_type": "code",
   "execution_count": 22,
   "id": "dominant-healthcare",
   "metadata": {
    "execution": {
     "iopub.execute_input": "2021-02-14T03:42:22.094271Z",
     "iopub.status.busy": "2021-02-14T03:42:22.094026Z",
     "iopub.status.idle": "2021-02-14T03:42:22.147276Z",
     "shell.execute_reply": "2021-02-14T03:42:22.146490Z",
     "shell.execute_reply.started": "2021-02-14T03:42:22.094244Z"
    }
   },
   "outputs": [],
   "source": [
    "A = Mat(\n",
    "    (\n",
    "        {'a', 'b', 'c'}, {'#', '@', '?'}\n",
    "    ),\n",
    "    {\n",
    "        ('a', '#'): 2,\n",
    "        ('a', '?'): 3,\n",
    "        ('b', '@'): 10,\n",
    "        ('b', '#'): 20,\n",
    "        ('b', '?'): 30,\n",
    "        ('c', '#'): 35,\n",
    "    }\n",
    ")"
   ]
  },
  {
   "cell_type": "code",
   "execution_count": 23,
   "id": "considered-series",
   "metadata": {
    "execution": {
     "iopub.execute_input": "2021-02-14T03:42:22.250859Z",
     "iopub.status.busy": "2021-02-14T03:42:22.250621Z",
     "iopub.status.idle": "2021-02-14T03:42:22.278332Z",
     "shell.execute_reply": "2021-02-14T03:42:22.277667Z",
     "shell.execute_reply.started": "2021-02-14T03:42:22.250832Z"
    }
   },
   "outputs": [
    {
     "name": "stdout",
     "output_type": "stream",
     "text": [
      "    #   ?   @\n",
      "a   2   3   0\n",
      "c  35   0   0\n",
      "b  20  30  10\n"
     ]
    }
   ],
   "source": [
    "print(A)"
   ]
  },
  {
   "cell_type": "code",
   "execution_count": 24,
   "id": "greek-inspiration",
   "metadata": {
    "execution": {
     "iopub.execute_input": "2021-02-14T03:42:22.835227Z",
     "iopub.status.busy": "2021-02-14T03:42:22.834990Z",
     "iopub.status.idle": "2021-02-14T03:42:22.877000Z",
     "shell.execute_reply": "2021-02-14T03:42:22.876322Z",
     "shell.execute_reply.started": "2021-02-14T03:42:22.835201Z"
    }
   },
   "outputs": [
    {
     "data": {
      "text/html": [
       "<div>\n",
       "<style scoped>\n",
       "    .dataframe tbody tr th:only-of-type {\n",
       "        vertical-align: middle;\n",
       "    }\n",
       "\n",
       "    .dataframe tbody tr th {\n",
       "        vertical-align: top;\n",
       "    }\n",
       "\n",
       "    .dataframe thead th {\n",
       "        text-align: right;\n",
       "    }\n",
       "</style>\n",
       "<table border=\"1\" class=\"dataframe\">\n",
       "  <thead>\n",
       "    <tr style=\"text-align: right;\">\n",
       "      <th></th>\n",
       "      <th>@</th>\n",
       "      <th>?</th>\n",
       "      <th>#</th>\n",
       "    </tr>\n",
       "  </thead>\n",
       "  <tbody>\n",
       "    <tr>\n",
       "      <th>b</th>\n",
       "      <td>10</td>\n",
       "      <td>30</td>\n",
       "      <td>20</td>\n",
       "    </tr>\n",
       "    <tr>\n",
       "      <th>a</th>\n",
       "      <td>0</td>\n",
       "      <td>3</td>\n",
       "      <td>2</td>\n",
       "    </tr>\n",
       "    <tr>\n",
       "      <th>c</th>\n",
       "      <td>0</td>\n",
       "      <td>0</td>\n",
       "      <td>35</td>\n",
       "    </tr>\n",
       "  </tbody>\n",
       "</table>\n",
       "</div>"
      ],
      "text/plain": [
       "    @   ?   #\n",
       "b  10  30  20\n",
       "a   0   3   2\n",
       "c   0   0  35"
      ]
     },
     "execution_count": 24,
     "metadata": {},
     "output_type": "execute_result"
    }
   ],
   "source": [
    "A.pprint(['b', 'a', 'c'], ['@', '?', '#'])"
   ]
  },
  {
   "cell_type": "code",
   "execution_count": 88,
   "id": "bibliographic-belgium",
   "metadata": {
    "execution": {
     "iopub.execute_input": "2021-02-14T11:16:58.909711Z",
     "iopub.status.busy": "2021-02-14T11:16:58.909485Z",
     "iopub.status.idle": "2021-02-14T11:16:58.937116Z",
     "shell.execute_reply": "2021-02-14T11:16:58.936338Z",
     "shell.execute_reply.started": "2021-02-14T11:16:58.909686Z"
    }
   },
   "outputs": [],
   "source": [
    "def is_triangular(M):\n",
    "    R_orig, C_orig = M.D\n",
    "    # for a certain R -> C mapping\n",
    "    for R, C in tqdm(itertools.product(itertools.permutations(R_orig), itertools.permutations(C_orig))):\n",
    "        # if f == 0 for all j > i, return True\n",
    "        if all(\n",
    "            [\n",
    "                M[(R[i], C[j])] == 0\n",
    "                for (i, j) in itertools.product(range(len(R)), range(len(C)))\n",
    "                if i > j\n",
    "            ]\n",
    "        ):\n",
    "            return True, R, C\n",
    "    return False, None, None"
   ]
  },
  {
   "cell_type": "code",
   "execution_count": 89,
   "id": "declared-drill",
   "metadata": {
    "execution": {
     "iopub.execute_input": "2021-02-14T11:17:05.753910Z",
     "iopub.status.busy": "2021-02-14T11:17:05.753630Z",
     "iopub.status.idle": "2021-02-14T11:17:05.784076Z",
     "shell.execute_reply": "2021-02-14T11:17:05.783486Z",
     "shell.execute_reply.started": "2021-02-14T11:17:05.753880Z"
    }
   },
   "outputs": [
    {
     "name": "stderr",
     "output_type": "stream",
     "text": [
      "29it [00:00, 137440.47it/s]\n"
     ]
    },
    {
     "data": {
      "text/plain": [
       "(True, ('b', 'a', 'c'), ('@', '?', '#'))"
      ]
     },
     "execution_count": 89,
     "metadata": {},
     "output_type": "execute_result"
    }
   ],
   "source": [
    "is_triangular(M)"
   ]
  },
  {
   "cell_type": "code",
   "execution_count": 85,
   "id": "cellular-sound",
   "metadata": {
    "execution": {
     "iopub.execute_input": "2021-02-14T11:09:56.905235Z",
     "iopub.status.busy": "2021-02-14T11:09:56.904994Z",
     "iopub.status.idle": "2021-02-14T11:09:56.931629Z",
     "shell.execute_reply": "2021-02-14T11:09:56.930699Z",
     "shell.execute_reply.started": "2021-02-14T11:09:56.905209Z"
    }
   },
   "outputs": [],
   "source": [
    "C = ['@', '?', '#'] \n",
    "C = ['?', '@', '#']"
   ]
  },
  {
   "cell_type": "code",
   "execution_count": 86,
   "id": "structural-montgomery",
   "metadata": {
    "execution": {
     "iopub.execute_input": "2021-02-14T11:09:57.113389Z",
     "iopub.status.busy": "2021-02-14T11:09:57.113158Z",
     "iopub.status.idle": "2021-02-14T11:09:57.139489Z",
     "shell.execute_reply": "2021-02-14T11:09:57.138785Z",
     "shell.execute_reply.started": "2021-02-14T11:09:57.113363Z"
    }
   },
   "outputs": [],
   "source": [
    "R = ['b', 'a', 'c']\n",
    "R = ['a', 'b', 'c']"
   ]
  },
  {
   "cell_type": "code",
   "execution_count": 87,
   "id": "centered-segment",
   "metadata": {
    "execution": {
     "iopub.execute_input": "2021-02-14T11:09:57.543545Z",
     "iopub.status.busy": "2021-02-14T11:09:57.543298Z",
     "iopub.status.idle": "2021-02-14T11:09:57.572546Z",
     "shell.execute_reply": "2021-02-14T11:09:57.571643Z",
     "shell.execute_reply.started": "2021-02-14T11:09:57.543518Z"
    }
   },
   "outputs": [
    {
     "data": {
      "text/plain": [
       "False"
      ]
     },
     "execution_count": 87,
     "metadata": {},
     "output_type": "execute_result"
    }
   ],
   "source": [
    "all([M[(R[i], C[j])] == 0 for (i, j) in itertools.product(range(len(R)), range(len(C))) if i > j])"
   ]
  },
  {
   "cell_type": "code",
   "execution_count": 84,
   "id": "expanded-steal",
   "metadata": {
    "execution": {
     "iopub.execute_input": "2021-02-14T11:09:32.957325Z",
     "iopub.status.busy": "2021-02-14T11:09:32.957064Z",
     "iopub.status.idle": "2021-02-14T11:09:32.985771Z",
     "shell.execute_reply": "2021-02-14T11:09:32.984951Z",
     "shell.execute_reply.started": "2021-02-14T11:09:32.957297Z"
    }
   },
   "outputs": [
    {
     "data": {
      "text/plain": [
       "[('@', '?', '#'),\n",
       " ('@', '#', '?'),\n",
       " ('?', '@', '#'),\n",
       " ('?', '#', '@'),\n",
       " ('#', '@', '?'),\n",
       " ('#', '?', '@')]"
      ]
     },
     "execution_count": 84,
     "metadata": {},
     "output_type": "execute_result"
    }
   ],
   "source": [
    "[c for c in itertools.permutations(C)]"
   ]
  },
  {
   "cell_type": "code",
   "execution_count": 65,
   "id": "outside-cyprus",
   "metadata": {
    "execution": {
     "iopub.execute_input": "2021-02-14T11:04:40.318042Z",
     "iopub.status.busy": "2021-02-14T11:04:40.317806Z",
     "iopub.status.idle": "2021-02-14T11:04:40.343505Z",
     "shell.execute_reply": "2021-02-14T11:04:40.342830Z",
     "shell.execute_reply.started": "2021-02-14T11:04:40.318016Z"
    }
   },
   "outputs": [],
   "source": []
  },
  {
   "cell_type": "code",
   "execution_count": 66,
   "id": "restricted-supervision",
   "metadata": {
    "execution": {
     "iopub.execute_input": "2021-02-14T11:04:40.498448Z",
     "iopub.status.busy": "2021-02-14T11:04:40.498244Z",
     "iopub.status.idle": "2021-02-14T11:04:40.521186Z",
     "shell.execute_reply": "2021-02-14T11:04:40.520557Z",
     "shell.execute_reply.started": "2021-02-14T11:04:40.498427Z"
    }
   },
   "outputs": [
    {
     "data": {
      "text/plain": [
       "Mat(({'a', 'c', 'b'}, {'#', '?', '@'}), {('a', '#'): 2, ('a', '?'): 3, ('b', '@'): 10, ('b', '#'): 20, ('b', '?'): 30, ('c', '#'): 35})"
      ]
     },
     "execution_count": 66,
     "metadata": {},
     "output_type": "execute_result"
    }
   ],
   "source": [
    "M"
   ]
  },
  {
   "cell_type": "code",
   "execution_count": 67,
   "id": "tough-world",
   "metadata": {
    "execution": {
     "iopub.execute_input": "2021-02-14T11:04:40.744759Z",
     "iopub.status.busy": "2021-02-14T11:04:40.744507Z",
     "iopub.status.idle": "2021-02-14T11:04:40.819647Z",
     "shell.execute_reply": "2021-02-14T11:04:40.818791Z",
     "shell.execute_reply.started": "2021-02-14T11:04:40.744732Z"
    }
   },
   "outputs": [
    {
     "name": "stderr",
     "output_type": "stream",
     "text": [
      "6it [00:00, 12342.24it/s]\n"
     ]
    },
    {
     "data": {
      "text/plain": [
       "(False, None, None)"
      ]
     },
     "execution_count": 67,
     "metadata": {},
     "output_type": "execute_result"
    }
   ],
   "source": [
    "is_triangular(M)"
   ]
  },
  {
   "cell_type": "code",
   "execution_count": 30,
   "id": "muslim-taxation",
   "metadata": {
    "execution": {
     "iopub.execute_input": "2021-02-14T10:53:08.969571Z",
     "iopub.status.busy": "2021-02-14T10:53:08.969325Z",
     "iopub.status.idle": "2021-02-14T10:53:08.996016Z",
     "shell.execute_reply": "2021-02-14T10:53:08.995311Z",
     "shell.execute_reply.started": "2021-02-14T10:53:08.969544Z"
    }
   },
   "outputs": [],
   "source": [
    "M = A.copy()"
   ]
  },
  {
   "cell_type": "code",
   "execution_count": 31,
   "id": "meaningful-cornwall",
   "metadata": {
    "execution": {
     "iopub.execute_input": "2021-02-14T10:53:10.924685Z",
     "iopub.status.busy": "2021-02-14T10:53:10.924442Z",
     "iopub.status.idle": "2021-02-14T10:53:10.950513Z",
     "shell.execute_reply": "2021-02-14T10:53:10.949884Z",
     "shell.execute_reply.started": "2021-02-14T10:53:10.924658Z"
    }
   },
   "outputs": [],
   "source": [
    "R, C = M.D"
   ]
  },
  {
   "cell_type": "code",
   "execution_count": 34,
   "id": "consistent-norman",
   "metadata": {
    "execution": {
     "iopub.execute_input": "2021-02-14T10:53:26.654576Z",
     "iopub.status.busy": "2021-02-14T10:53:26.654326Z",
     "iopub.status.idle": "2021-02-14T10:53:26.681110Z",
     "shell.execute_reply": "2021-02-14T10:53:26.680130Z",
     "shell.execute_reply.started": "2021-02-14T10:53:26.654550Z"
    }
   },
   "outputs": [],
   "source": [
    "R = sorted(list(R))"
   ]
  },
  {
   "cell_type": "code",
   "execution_count": 36,
   "id": "representative-facing",
   "metadata": {
    "execution": {
     "iopub.execute_input": "2021-02-14T10:53:41.971689Z",
     "iopub.status.busy": "2021-02-14T10:53:41.971457Z",
     "iopub.status.idle": "2021-02-14T10:53:41.999223Z",
     "shell.execute_reply": "2021-02-14T10:53:41.998487Z",
     "shell.execute_reply.started": "2021-02-14T10:53:41.971664Z"
    }
   },
   "outputs": [],
   "source": [
    "C = sorted(list(C))"
   ]
  },
  {
   "cell_type": "code",
   "execution_count": 40,
   "id": "healthy-prophet",
   "metadata": {
    "execution": {
     "iopub.execute_input": "2021-02-14T10:54:02.566668Z",
     "iopub.status.busy": "2021-02-14T10:54:02.566428Z",
     "iopub.status.idle": "2021-02-14T10:54:02.594460Z",
     "shell.execute_reply": "2021-02-14T10:54:02.593825Z",
     "shell.execute_reply.started": "2021-02-14T10:54:02.566642Z"
    }
   },
   "outputs": [
    {
     "data": {
      "text/plain": [
       "[('#', '?', '@'),\n",
       " ('#', '@', '?'),\n",
       " ('?', '#', '@'),\n",
       " ('?', '@', '#'),\n",
       " ('@', '#', '?'),\n",
       " ('@', '?', '#')]"
      ]
     },
     "execution_count": 40,
     "metadata": {},
     "output_type": "execute_result"
    }
   ],
   "source": [
    "[c for c in itertools.permutations(C)]"
   ]
  },
  {
   "cell_type": "code",
   "execution_count": 43,
   "id": "norwegian-offset",
   "metadata": {
    "execution": {
     "iopub.execute_input": "2021-02-14T10:56:29.162816Z",
     "iopub.status.busy": "2021-02-14T10:56:29.162568Z",
     "iopub.status.idle": "2021-02-14T10:56:29.190628Z",
     "shell.execute_reply": "2021-02-14T10:56:29.189790Z",
     "shell.execute_reply.started": "2021-02-14T10:56:29.162789Z"
    }
   },
   "outputs": [
    {
     "data": {
      "text/plain": [
       "(['a', 'b', 'c'], ['#', '?', '@'])"
      ]
     },
     "execution_count": 43,
     "metadata": {},
     "output_type": "execute_result"
    }
   ],
   "source": [
    "R, C"
   ]
  },
  {
   "cell_type": "code",
   "execution_count": 55,
   "id": "blessed-deadline",
   "metadata": {
    "execution": {
     "iopub.execute_input": "2021-02-14T11:01:01.898507Z",
     "iopub.status.busy": "2021-02-14T11:01:01.898267Z",
     "iopub.status.idle": "2021-02-14T11:01:01.926468Z",
     "shell.execute_reply": "2021-02-14T11:01:01.925632Z",
     "shell.execute_reply.started": "2021-02-14T11:01:01.898481Z"
    }
   },
   "outputs": [
    {
     "data": {
      "text/plain": [
       "False"
      ]
     },
     "execution_count": 55,
     "metadata": {},
     "output_type": "execute_result"
    }
   ],
   "source": [
    "if all(\n",
    "    [\n",
    "        M[(R[i], C[j])] == 0\n",
    "        for (i, j) in itertools.product(range(len(R)), range(len(C)))\n",
    "        if j > i\n",
    "    ]\n",
    "):\n",
    "    return True"
   ]
  },
  {
   "cell_type": "code",
   "execution_count": 51,
   "id": "eight-selling",
   "metadata": {
    "execution": {
     "iopub.execute_input": "2021-02-14T11:00:33.761582Z",
     "iopub.status.busy": "2021-02-14T11:00:33.761339Z",
     "iopub.status.idle": "2021-02-14T11:00:33.788538Z",
     "shell.execute_reply": "2021-02-14T11:00:33.787631Z",
     "shell.execute_reply.started": "2021-02-14T11:00:33.761556Z"
    }
   },
   "outputs": [
    {
     "data": {
      "text/plain": [
       "0"
      ]
     },
     "execution_count": 51,
     "metadata": {},
     "output_type": "execute_result"
    }
   ],
   "source": [
    "M[('a', '@')]"
   ]
  },
  {
   "cell_type": "code",
   "execution_count": null,
   "id": "occupied-compact",
   "metadata": {},
   "outputs": [],
   "source": []
  },
  {
   "cell_type": "code",
   "execution_count": 25,
   "id": "uniform-motivation",
   "metadata": {
    "execution": {
     "iopub.execute_input": "2021-02-14T04:25:57.068419Z",
     "iopub.status.busy": "2021-02-14T04:25:57.068180Z",
     "iopub.status.idle": "2021-02-14T04:25:57.115248Z",
     "shell.execute_reply": "2021-02-14T04:25:57.114611Z",
     "shell.execute_reply.started": "2021-02-14T04:25:57.068394Z"
    }
   },
   "outputs": [
    {
     "data": {
      "text/plain": [
       "Mat(({'a', 'c', 'b'}, {'#', '?', '@'}), {('a', '#'): 2, ('a', '?'): 3, ('b', '@'): 10, ('b', '#'): 20, ('b', '?'): 30, ('c', '#'): 35})"
      ]
     },
     "execution_count": 25,
     "metadata": {},
     "output_type": "execute_result"
    }
   ],
   "source": [
    "A"
   ]
  },
  {
   "cell_type": "code",
   "execution_count": null,
   "id": "dirty-association",
   "metadata": {},
   "outputs": [],
   "source": []
  },
  {
   "cell_type": "code",
   "execution_count": 2,
   "id": "under-lawsuit",
   "metadata": {
    "execution": {
     "iopub.execute_input": "2021-02-14T03:07:54.748902Z",
     "iopub.status.busy": "2021-02-14T03:07:54.748672Z",
     "iopub.status.idle": "2021-02-14T03:07:54.775172Z",
     "shell.execute_reply": "2021-02-14T03:07:54.774499Z",
     "shell.execute_reply.started": "2021-02-14T03:07:54.748877Z"
    }
   },
   "outputs": [],
   "source": [
    "D = {'radio', 'sensor', 'memory', 'CPU'}\n",
    "v0 = Vec(D, {'radio': .1, 'CPU': .3})\n",
    "v1 = Vec(D, {'sensor': .2, 'CPU': .4})\n",
    "v2 = Vec(D, {'memory': .3, 'CPU': .1})\n",
    "v3 = Vec(D, {'memory': .5, 'CPU': .4})\n",
    "v4 = Vec(D, {'radio': .2, 'CPU': .5})"
   ]
  },
  {
   "cell_type": "code",
   "execution_count": 10,
   "id": "renewable-february",
   "metadata": {
    "execution": {
     "iopub.execute_input": "2021-02-14T03:10:33.265281Z",
     "iopub.status.busy": "2021-02-14T03:10:33.265041Z",
     "iopub.status.idle": "2021-02-14T03:10:33.290559Z",
     "shell.execute_reply": "2021-02-14T03:10:33.289697Z",
     "shell.execute_reply.started": "2021-02-14T03:10:33.265255Z"
    }
   },
   "outputs": [],
   "source": [
    "b = Vec(set(range(5)), {0: 140., 1: 170., 2: 60., 3: 170., 4:250.})"
   ]
  },
  {
   "cell_type": "code",
   "execution_count": 4,
   "id": "guided-contest",
   "metadata": {
    "execution": {
     "iopub.execute_input": "2021-02-14T03:09:04.022755Z",
     "iopub.status.busy": "2021-02-14T03:09:04.022483Z",
     "iopub.status.idle": "2021-02-14T03:09:04.049637Z",
     "shell.execute_reply": "2021-02-14T03:09:04.048709Z",
     "shell.execute_reply.started": "2021-02-14T03:09:04.022725Z"
    }
   },
   "outputs": [],
   "source": [
    "A = rowdict2mat([v0, v1, v2, v3, v4])"
   ]
  },
  {
   "cell_type": "code",
   "execution_count": 6,
   "id": "egyptian-address",
   "metadata": {
    "execution": {
     "iopub.execute_input": "2021-02-14T03:09:09.861931Z",
     "iopub.status.busy": "2021-02-14T03:09:09.861690Z",
     "iopub.status.idle": "2021-02-14T03:09:09.895523Z",
     "shell.execute_reply": "2021-02-14T03:09:09.894808Z",
     "shell.execute_reply.started": "2021-02-14T03:09:09.861905Z"
    }
   },
   "outputs": [
    {
     "name": "stdout",
     "output_type": "stream",
     "text": [
      "   CPU  radio  memory  sensor\n",
      "0  0.3    0.1     0.0     0.0\n",
      "1  0.4    0.0     0.0     0.2\n",
      "2  0.1    0.0     0.3     0.0\n",
      "3  0.4    0.0     0.5     0.0\n",
      "4  0.5    0.2     0.0     0.0\n"
     ]
    }
   ],
   "source": [
    "print(A)"
   ]
  },
  {
   "cell_type": "code",
   "execution_count": 12,
   "id": "large-above",
   "metadata": {
    "execution": {
     "iopub.execute_input": "2021-02-14T03:10:41.216823Z",
     "iopub.status.busy": "2021-02-14T03:10:41.216583Z",
     "iopub.status.idle": "2021-02-14T03:10:41.300587Z",
     "shell.execute_reply": "2021-02-14T03:10:41.299366Z",
     "shell.execute_reply.started": "2021-02-14T03:10:41.216798Z"
    }
   },
   "outputs": [
    {
     "ename": "AssertionError",
     "evalue": "",
     "output_type": "error",
     "traceback": [
      "\u001b[0;31m---------------------------------------------------------------------------\u001b[0m",
      "\u001b[0;31mAssertionError\u001b[0m                            Traceback (most recent call last)",
      "\u001b[0;32m<ipython-input-12-6544a5a4e2aa>\u001b[0m in \u001b[0;36m<module>\u001b[0;34m\u001b[0m\n\u001b[0;32m----> 1\u001b[0;31m \u001b[0mrate\u001b[0m \u001b[0;34m=\u001b[0m \u001b[0msolve\u001b[0m\u001b[0;34m(\u001b[0m\u001b[0mA\u001b[0m\u001b[0;34m,\u001b[0m \u001b[0mb\u001b[0m\u001b[0;34m)\u001b[0m\u001b[0;34m\u001b[0m\u001b[0;34m\u001b[0m\u001b[0m\n\u001b[0m",
      "\u001b[0;32m~/github.com/banbiossa/coding-the-matrix/coding_the_matrix/solve.py\u001b[0m in \u001b[0;36msolve\u001b[0;34m(M, b, eps)\u001b[0m\n\u001b[1;32m    101\u001b[0m     \u001b[0;31m# map the vectors to the right domain\u001b[0m\u001b[0;34m\u001b[0m\u001b[0;34m\u001b[0m\u001b[0;34m\u001b[0m\u001b[0m\n\u001b[1;32m    102\u001b[0m     \u001b[0;31m# map the row -> value to col -> value as the final vector\u001b[0m\u001b[0;34m\u001b[0m\u001b[0;34m\u001b[0m\u001b[0;34m\u001b[0m\u001b[0m\n\u001b[0;32m--> 103\u001b[0;31m     \u001b[0;32massert\u001b[0m \u001b[0mset\u001b[0m\u001b[0;34m(\u001b[0m\u001b[0mused\u001b[0m\u001b[0;34m.\u001b[0m\u001b[0mkeys\u001b[0m\u001b[0;34m(\u001b[0m\u001b[0;34m)\u001b[0m\u001b[0;34m)\u001b[0m \u001b[0;34m==\u001b[0m \u001b[0mA\u001b[0m\u001b[0;34m.\u001b[0m\u001b[0mD\u001b[0m\u001b[0;34m[\u001b[0m\u001b[0;36m0\u001b[0m\u001b[0;34m]\u001b[0m\u001b[0;34m\u001b[0m\u001b[0;34m\u001b[0m\u001b[0m\n\u001b[0m\u001b[1;32m    104\u001b[0m     \u001b[0;32massert\u001b[0m \u001b[0mset\u001b[0m\u001b[0;34m(\u001b[0m\u001b[0mused\u001b[0m\u001b[0;34m.\u001b[0m\u001b[0mvalues\u001b[0m\u001b[0;34m(\u001b[0m\u001b[0;34m)\u001b[0m\u001b[0;34m)\u001b[0m \u001b[0;34m==\u001b[0m \u001b[0mA\u001b[0m\u001b[0;34m.\u001b[0m\u001b[0mD\u001b[0m\u001b[0;34m[\u001b[0m\u001b[0;36m1\u001b[0m\u001b[0;34m]\u001b[0m\u001b[0;34m\u001b[0m\u001b[0;34m\u001b[0m\u001b[0m\n\u001b[1;32m    105\u001b[0m     \u001b[0mx\u001b[0m \u001b[0;34m=\u001b[0m \u001b[0mVec\u001b[0m\u001b[0;34m.\u001b[0m\u001b[0mVec\u001b[0m\u001b[0;34m(\u001b[0m\u001b[0mA\u001b[0m\u001b[0;34m.\u001b[0m\u001b[0mD\u001b[0m\u001b[0;34m[\u001b[0m\u001b[0;36m1\u001b[0m\u001b[0;34m]\u001b[0m\u001b[0;34m,\u001b[0m \u001b[0;34m{\u001b[0m\u001b[0mused\u001b[0m\u001b[0;34m[\u001b[0m\u001b[0mk\u001b[0m\u001b[0;34m]\u001b[0m\u001b[0;34m:\u001b[0m \u001b[0mv\u001b[0m \u001b[0;32mfor\u001b[0m \u001b[0mk\u001b[0m\u001b[0;34m,\u001b[0m \u001b[0mv\u001b[0m \u001b[0;32min\u001b[0m \u001b[0mb\u001b[0m\u001b[0;34m.\u001b[0m\u001b[0mf\u001b[0m\u001b[0;34m.\u001b[0m\u001b[0mitems\u001b[0m\u001b[0;34m(\u001b[0m\u001b[0;34m)\u001b[0m\u001b[0;34m}\u001b[0m\u001b[0;34m)\u001b[0m\u001b[0;34m\u001b[0m\u001b[0;34m\u001b[0m\u001b[0m\n",
      "\u001b[0;31mAssertionError\u001b[0m: "
     ]
    }
   ],
   "source": [
    "rate = solve(A, b)"
   ]
  },
  {
   "cell_type": "code",
   "execution_count": 13,
   "id": "generous-catholic",
   "metadata": {
    "execution": {
     "iopub.execute_input": "2021-02-14T03:10:42.984974Z",
     "iopub.status.busy": "2021-02-14T03:10:42.984727Z",
     "iopub.status.idle": "2021-02-14T03:10:43.012863Z",
     "shell.execute_reply": "2021-02-14T03:10:43.012124Z",
     "shell.execute_reply.started": "2021-02-14T03:10:42.984947Z"
    }
   },
   "outputs": [
    {
     "data": {
      "text/plain": [
       "{0, 1, 2, 3, 4}"
      ]
     },
     "execution_count": 13,
     "metadata": {},
     "output_type": "execute_result"
    }
   ],
   "source": [
    "b.D"
   ]
  },
  {
   "cell_type": "code",
   "execution_count": 16,
   "id": "posted-rachel",
   "metadata": {
    "execution": {
     "iopub.execute_input": "2021-02-14T03:10:53.454709Z",
     "iopub.status.busy": "2021-02-14T03:10:53.454472Z",
     "iopub.status.idle": "2021-02-14T03:10:53.481771Z",
     "shell.execute_reply": "2021-02-14T03:10:53.481128Z",
     "shell.execute_reply.started": "2021-02-14T03:10:53.454683Z"
    }
   },
   "outputs": [
    {
     "data": {
      "text/plain": [
       "True"
      ]
     },
     "execution_count": 16,
     "metadata": {},
     "output_type": "execute_result"
    }
   ],
   "source": [
    "A.D[0] == b.D"
   ]
  },
  {
   "cell_type": "code",
   "execution_count": null,
   "id": "different-rendering",
   "metadata": {},
   "outputs": [],
   "source": []
  },
  {
   "cell_type": "code",
   "execution_count": null,
   "id": "municipal-biodiversity",
   "metadata": {},
   "outputs": [],
   "source": []
  },
  {
   "cell_type": "code",
   "execution_count": null,
   "id": "dense-dating",
   "metadata": {},
   "outputs": [],
   "source": []
  },
  {
   "cell_type": "code",
   "execution_count": null,
   "id": "colored-local",
   "metadata": {},
   "outputs": [],
   "source": []
  },
  {
   "cell_type": "code",
   "execution_count": null,
   "id": "personalized-payroll",
   "metadata": {},
   "outputs": [],
   "source": []
  },
  {
   "cell_type": "code",
   "execution_count": null,
   "id": "plain-pricing",
   "metadata": {},
   "outputs": [],
   "source": []
  },
  {
   "cell_type": "code",
   "execution_count": 2,
   "id": "preliminary-richards",
   "metadata": {
    "execution": {
     "iopub.execute_input": "2021-02-13T02:54:24.810334Z",
     "iopub.status.busy": "2021-02-13T02:54:24.810093Z",
     "iopub.status.idle": "2021-02-13T02:54:24.836460Z",
     "shell.execute_reply": "2021-02-13T02:54:24.835638Z",
     "shell.execute_reply.started": "2021-02-13T02:54:24.810308Z"
    }
   },
   "outputs": [],
   "source": [
    "A = listlist2mat([[10, 20, 30, 40], [50, 60, 70, 80]])"
   ]
  },
  {
   "cell_type": "code",
   "execution_count": 3,
   "id": "freelance-things",
   "metadata": {
    "execution": {
     "iopub.execute_input": "2021-02-13T02:54:25.081990Z",
     "iopub.status.busy": "2021-02-13T02:54:25.081750Z",
     "iopub.status.idle": "2021-02-13T02:54:25.112739Z",
     "shell.execute_reply": "2021-02-13T02:54:25.111995Z",
     "shell.execute_reply.started": "2021-02-13T02:54:25.081963Z"
    }
   },
   "outputs": [
    {
     "name": "stdout",
     "output_type": "stream",
     "text": [
      "    0   1   2   3\n",
      "0  10  20  30  40\n",
      "1  50  60  70  80\n"
     ]
    }
   ],
   "source": [
    "print(A)"
   ]
  },
  {
   "cell_type": "code",
   "execution_count": 4,
   "id": "knowing-israel",
   "metadata": {
    "execution": {
     "iopub.execute_input": "2021-02-13T02:54:25.740885Z",
     "iopub.status.busy": "2021-02-13T02:54:25.740647Z",
     "iopub.status.idle": "2021-02-13T02:54:25.766694Z",
     "shell.execute_reply": "2021-02-13T02:54:25.765964Z",
     "shell.execute_reply.started": "2021-02-13T02:54:25.740859Z"
    }
   },
   "outputs": [],
   "source": [
    "def mat2Vec(M):\n",
    "    R, C = M.D\n",
    "    return Vec({(r,c) for r in R for c in C}, M.f) "
   ]
  },
  {
   "cell_type": "code",
   "execution_count": 5,
   "id": "decent-lightweight",
   "metadata": {
    "execution": {
     "iopub.execute_input": "2021-02-13T02:54:26.097744Z",
     "iopub.status.busy": "2021-02-13T02:54:26.097506Z",
     "iopub.status.idle": "2021-02-13T02:54:26.122662Z",
     "shell.execute_reply": "2021-02-13T02:54:26.121948Z",
     "shell.execute_reply.started": "2021-02-13T02:54:26.097719Z"
    }
   },
   "outputs": [],
   "source": [
    "def tranpose(M):\n",
    "    R, C = M.D\n",
    "    D = (C, R)\n",
    "    f = {(c, r): v for (r, c), v in M.f.items()}\n",
    "    return Mat(D, f)"
   ]
  },
  {
   "cell_type": "code",
   "execution_count": 6,
   "id": "rocky-valve",
   "metadata": {
    "execution": {
     "iopub.execute_input": "2021-02-13T02:54:26.375876Z",
     "iopub.status.busy": "2021-02-13T02:54:26.375637Z",
     "iopub.status.idle": "2021-02-13T02:54:26.404050Z",
     "shell.execute_reply": "2021-02-13T02:54:26.403190Z",
     "shell.execute_reply.started": "2021-02-13T02:54:26.375850Z"
    }
   },
   "outputs": [
    {
     "name": "stdout",
     "output_type": "stream",
     "text": [
      "    0   1\n",
      "0  10  50\n",
      "1  20  60\n",
      "2  30  70\n",
      "3  40  80\n"
     ]
    }
   ],
   "source": [
    "print(tranpose(A))"
   ]
  },
  {
   "cell_type": "code",
   "execution_count": 7,
   "id": "beginning-strength",
   "metadata": {
    "execution": {
     "iopub.execute_input": "2021-02-13T02:54:26.701139Z",
     "iopub.status.busy": "2021-02-13T02:54:26.700842Z",
     "iopub.status.idle": "2021-02-13T02:54:26.734401Z",
     "shell.execute_reply": "2021-02-13T02:54:26.733417Z",
     "shell.execute_reply.started": "2021-02-13T02:54:26.701108Z"
    }
   },
   "outputs": [],
   "source": [
    "def button_vectors(n):\n",
    "    D = {(x, y) for x, y in itertools.product(range(n), range(n))}\n",
    "    vecdict = {\n",
    "        (i, j): Vec(\n",
    "            D,\n",
    "            dict([((x, j), one) for x in range(max(i - 1, 0), min(i + 2, n))]+\n",
    "            [((i, y), one) for y in range(max(j - 1, 0), min(j + 2, n))]),\n",
    "        )\n",
    "        for (i, j) in D\n",
    "    }\n",
    "    return vecdict"
   ]
  },
  {
   "cell_type": "code",
   "execution_count": 10,
   "id": "equal-hearing",
   "metadata": {
    "execution": {
     "iopub.execute_input": "2021-02-13T02:54:30.556728Z",
     "iopub.status.busy": "2021-02-13T02:54:30.556490Z",
     "iopub.status.idle": "2021-02-13T02:54:30.582696Z",
     "shell.execute_reply": "2021-02-13T02:54:30.581837Z",
     "shell.execute_reply.started": "2021-02-13T02:54:30.556702Z"
    }
   },
   "outputs": [],
   "source": [
    "vectors = button_vectors(5)"
   ]
  },
  {
   "cell_type": "code",
   "execution_count": 11,
   "id": "heavy-necklace",
   "metadata": {
    "execution": {
     "iopub.execute_input": "2021-02-13T02:54:31.099070Z",
     "iopub.status.busy": "2021-02-13T02:54:31.098821Z",
     "iopub.status.idle": "2021-02-13T02:54:31.124535Z",
     "shell.execute_reply": "2021-02-13T02:54:31.123856Z",
     "shell.execute_reply.started": "2021-02-13T02:54:31.099043Z"
    }
   },
   "outputs": [],
   "source": [
    "b = value(vectors)"
   ]
  },
  {
   "cell_type": "code",
   "execution_count": 12,
   "id": "soviet-percentage",
   "metadata": {
    "execution": {
     "iopub.execute_input": "2021-02-13T02:54:31.649749Z",
     "iopub.status.busy": "2021-02-13T02:54:31.649494Z",
     "iopub.status.idle": "2021-02-13T02:54:31.675769Z",
     "shell.execute_reply": "2021-02-13T02:54:31.675117Z",
     "shell.execute_reply.started": "2021-02-13T02:54:31.649719Z"
    }
   },
   "outputs": [],
   "source": [
    "s = Vec(b.D, {(2, 2): one})"
   ]
  },
  {
   "cell_type": "code",
   "execution_count": 13,
   "id": "uniform-montgomery",
   "metadata": {
    "execution": {
     "iopub.execute_input": "2021-02-13T02:54:32.370685Z",
     "iopub.status.busy": "2021-02-13T02:54:32.370446Z",
     "iopub.status.idle": "2021-02-13T02:54:32.396496Z",
     "shell.execute_reply": "2021-02-13T02:54:32.395493Z",
     "shell.execute_reply.started": "2021-02-13T02:54:32.370659Z"
    }
   },
   "outputs": [],
   "source": [
    "M = rowdict2mat(vectors)"
   ]
  },
  {
   "cell_type": "code",
   "execution_count": 33,
   "id": "virtual-functionality",
   "metadata": {
    "execution": {
     "iopub.execute_input": "2021-02-13T03:36:41.779151Z",
     "iopub.status.busy": "2021-02-13T03:36:41.778910Z",
     "iopub.status.idle": "2021-02-13T03:36:49.865549Z",
     "shell.execute_reply": "2021-02-13T03:36:49.864619Z",
     "shell.execute_reply.started": "2021-02-13T03:36:41.779124Z"
    }
   },
   "outputs": [
    {
     "name": "stderr",
     "output_type": "stream",
     "text": [
      "ERROR:coding_the_matrix.solve:rowvec=Vec({(4, 0), (3, 4), (4, 3), (3, 1), (0, 2), (2, 2), (1, 0), (1, 3), (4, 2), (3, 0), (3, 3), (0, 1), (2, 4), (1, 2), (0, 4), (2, 1), (3, 2), (4, 1), (4, 4), (0, 0), (1, 1), (0, 3), (2, 0), (1, 4), (2, 3)}, {(4, 0): 0, (3, 4): 0, (4, 3): 0, (3, 1): 0, (0, 2): 0, (2, 2): 0, (1, 0): 0, (1, 3): 0, (4, 2): 0, (3, 0): 0, (3, 3): 0, (0, 1): 0, (2, 4): 0, (1, 2): 0, (0, 4): 0, (2, 1): 0, (3, 2): 0, (4, 1): 0, (4, 4): 0, (0, 0): 0, (1, 1): 0, (0, 3): 0, (2, 0): 0, (1, 4): 0, (2, 3): 0}) has zero at col=(1, 4)\n",
      "ERROR:coding_the_matrix.solve:rowvec=Vec({(4, 0), (3, 4), (4, 3), (3, 1), (0, 2), (2, 2), (1, 0), (1, 3), (4, 2), (3, 0), (3, 3), (0, 1), (2, 4), (1, 2), (0, 4), (2, 1), (3, 2), (4, 1), (4, 4), (0, 0), (1, 1), (0, 3), (2, 0), (1, 4), (2, 3)}, {(4, 0): 0, (3, 4): 0, (4, 3): 0, (3, 1): 0, (0, 2): 0, (2, 2): 0, (1, 0): 0, (1, 3): 0, (4, 2): 0, (3, 0): 0, (3, 3): 0, (0, 1): 0, (2, 4): 0, (1, 2): 0, (0, 4): 0, (2, 1): 0, (3, 2): 0, (4, 1): 0, (4, 4): 0, (0, 0): 0, (1, 1): 0, (0, 3): 0, (2, 0): 0, (1, 4): 0, (2, 3): 0}) has zero at col=(2, 3)\n"
     ]
    }
   ],
   "source": [
    "sol, A = solve(M, s)"
   ]
  },
  {
   "cell_type": "code",
   "execution_count": 41,
   "id": "banner-lindsay",
   "metadata": {
    "execution": {
     "iopub.execute_input": "2021-02-13T03:45:59.960888Z",
     "iopub.status.busy": "2021-02-13T03:45:59.960647Z",
     "iopub.status.idle": "2021-02-13T03:45:59.989059Z",
     "shell.execute_reply": "2021-02-13T03:45:59.988227Z",
     "shell.execute_reply.started": "2021-02-13T03:45:59.960862Z"
    }
   },
   "outputs": [
    {
     "data": {
      "text/plain": [
       "45"
      ]
     },
     "execution_count": 41,
     "metadata": {},
     "output_type": "execute_result"
    }
   ],
   "source": [
    "len([(k, v) for k, v in A.f.items() if v != 0])"
   ]
  },
  {
   "cell_type": "code",
   "execution_count": 42,
   "id": "extensive-applicant",
   "metadata": {
    "execution": {
     "iopub.execute_input": "2021-02-13T03:46:06.316762Z",
     "iopub.status.busy": "2021-02-13T03:46:06.316511Z",
     "iopub.status.idle": "2021-02-13T03:46:06.350415Z",
     "shell.execute_reply": "2021-02-13T03:46:06.349643Z",
     "shell.execute_reply.started": "2021-02-13T03:46:06.316736Z"
    }
   },
   "outputs": [
    {
     "data": {
      "text/plain": [
       "[(((4, 3), (0, 3)), 1),\n",
       " (((4, 3), (2, 3)), 1),\n",
       " (((3, 1), (2, 0)), 1),\n",
       " (((3, 1), (2, 3)), 1),\n",
       " (((0, 2), (1, 1)), 1),\n",
       " (((2, 2), (4, 4)), 1),\n",
       " (((2, 2), (1, 4)), 1),\n",
       " (((2, 2), (2, 3)), 1),\n",
       " (((1, 0), (4, 1)), 1),\n",
       " (((1, 0), (2, 3)), 1),\n",
       " (((1, 3), (3, 2)), 1),\n",
       " (((1, 3), (1, 4)), 1),\n",
       " (((4, 2), (0, 0)), 1),\n",
       " (((4, 2), (1, 4)), 1),\n",
       " (((4, 2), (2, 3)), 1),\n",
       " (((3, 0), (2, 4)), 1),\n",
       " (((3, 0), (2, 3)), 1),\n",
       " (((3, 3), (2, 1)), 1),\n",
       " (((3, 3), (2, 3)), 1),\n",
       " (((0, 1), (0, 1)), 1),\n",
       " (((0, 1), (2, 3)), 1),\n",
       " (((2, 4), (4, 3)), 1),\n",
       " (((2, 4), (2, 3)), 1),\n",
       " (((1, 2), (3, 3)), 1),\n",
       " (((0, 4), (0, 4)), 1),\n",
       " (((0, 4), (1, 4)), 1),\n",
       " (((0, 4), (2, 3)), 1),\n",
       " (((2, 1), (4, 2)), 1),\n",
       " (((2, 1), (1, 4)), 1),\n",
       " (((3, 2), (3, 1)), 1),\n",
       " (((4, 1), (4, 0)), 1),\n",
       " (((4, 1), (1, 4)), 1),\n",
       " (((4, 1), (2, 3)), 1),\n",
       " (((4, 4), (3, 4)), 1),\n",
       " (((4, 4), (1, 4)), 1),\n",
       " (((0, 0), (1, 2)), 1),\n",
       " (((0, 0), (1, 4)), 1),\n",
       " (((1, 1), (3, 0)), 1),\n",
       " (((1, 1), (1, 4)), 1),\n",
       " (((0, 3), (0, 2)), 1),\n",
       " (((0, 3), (1, 4)), 1),\n",
       " (((2, 0), (1, 0)), 1),\n",
       " (((2, 0), (1, 4)), 1),\n",
       " (((1, 4), (1, 3)), 1),\n",
       " (((2, 3), (2, 2)), 1)]"
      ]
     },
     "execution_count": 42,
     "metadata": {},
     "output_type": "execute_result"
    }
   ],
   "source": [
    "[(k, v) for k, v in A.f.items() if v != 0]"
   ]
  },
  {
   "cell_type": "code",
   "execution_count": 32,
   "id": "opponent-investor",
   "metadata": {
    "execution": {
     "iopub.execute_input": "2021-02-13T03:31:16.013200Z",
     "iopub.status.busy": "2021-02-13T03:31:16.012994Z",
     "iopub.status.idle": "2021-02-13T03:31:16.037315Z",
     "shell.execute_reply": "2021-02-13T03:31:16.036686Z",
     "shell.execute_reply.started": "2021-02-13T03:31:16.013183Z"
    }
   },
   "outputs": [
    {
     "data": {
      "text/plain": [
       "False"
      ]
     },
     "execution_count": 32,
     "metadata": {},
     "output_type": "execute_result"
    }
   ],
   "source": [
    "M*sol == s"
   ]
  },
  {
   "cell_type": "code",
   "execution_count": 10,
   "id": "intensive-assist",
   "metadata": {
    "execution": {
     "iopub.execute_input": "2021-02-07T06:57:57.821040Z",
     "iopub.status.busy": "2021-02-07T06:57:57.820855Z",
     "iopub.status.idle": "2021-02-07T06:57:57.849836Z",
     "shell.execute_reply": "2021-02-07T06:57:57.849237Z",
     "shell.execute_reply.started": "2021-02-07T06:57:57.821019Z"
    }
   },
   "outputs": [
    {
     "data": {
      "text/plain": [
       "Vec({(4, 0), (3, 4), (4, 3), (3, 1), (0, 2), (2, 2), (1, 0), (1, 3), (4, 2), (3, 0), (3, 3), (0, 1), (2, 4), (1, 2), (0, 4), (2, 1), (3, 2), (4, 1), (4, 4), (0, 0), (1, 1), (0, 3), (2, 0), (1, 4), (2, 3)}, {(3, 0): 1, (4, 0): 1, (4, 1): 1})"
      ]
     },
     "execution_count": 10,
     "metadata": {},
     "output_type": "execute_result"
    }
   ],
   "source": [
    "value(vectors)"
   ]
  },
  {
   "cell_type": "code",
   "execution_count": 11,
   "id": "checked-field",
   "metadata": {
    "execution": {
     "iopub.execute_input": "2021-02-07T06:57:57.851287Z",
     "iopub.status.busy": "2021-02-07T06:57:57.850985Z",
     "iopub.status.idle": "2021-02-07T06:57:57.877708Z",
     "shell.execute_reply": "2021-02-07T06:57:57.877045Z",
     "shell.execute_reply.started": "2021-02-07T06:57:57.851257Z"
    }
   },
   "outputs": [
    {
     "data": {
      "text/plain": [
       "dict_keys([(4, 0), (3, 4), (4, 3), (3, 1), (0, 2), (2, 2), (1, 0), (1, 3), (4, 2), (3, 0), (3, 3), (0, 1), (2, 4), (1, 2), (0, 4), (2, 1), (3, 2), (4, 1), (4, 4), (0, 0), (1, 1), (0, 3), (2, 0), (1, 4), (2, 3)])"
      ]
     },
     "execution_count": 11,
     "metadata": {},
     "output_type": "execute_result"
    }
   ],
   "source": [
    "keys(vectors)"
   ]
  },
  {
   "cell_type": "code",
   "execution_count": 12,
   "id": "raising-future",
   "metadata": {
    "execution": {
     "iopub.execute_input": "2021-02-07T06:57:57.879080Z",
     "iopub.status.busy": "2021-02-07T06:57:57.878871Z",
     "iopub.status.idle": "2021-02-07T06:57:57.903113Z",
     "shell.execute_reply": "2021-02-07T06:57:57.902589Z",
     "shell.execute_reply.started": "2021-02-07T06:57:57.879056Z"
    }
   },
   "outputs": [
    {
     "data": {
      "text/plain": [
       "25"
      ]
     },
     "execution_count": 12,
     "metadata": {},
     "output_type": "execute_result"
    }
   ],
   "source": [
    "len(vectors)"
   ]
  },
  {
   "cell_type": "code",
   "execution_count": 13,
   "id": "prospective-stability",
   "metadata": {
    "execution": {
     "iopub.execute_input": "2021-02-07T06:57:57.904196Z",
     "iopub.status.busy": "2021-02-07T06:57:57.904022Z",
     "iopub.status.idle": "2021-02-07T06:57:57.926325Z",
     "shell.execute_reply": "2021-02-07T06:57:57.925805Z",
     "shell.execute_reply.started": "2021-02-07T06:57:57.904176Z"
    }
   },
   "outputs": [],
   "source": [
    "b = vectors[(0, 0)]"
   ]
  },
  {
   "cell_type": "code",
   "execution_count": 14,
   "id": "minute-connection",
   "metadata": {
    "execution": {
     "iopub.execute_input": "2021-02-07T06:57:57.927257Z",
     "iopub.status.busy": "2021-02-07T06:57:57.927095Z",
     "iopub.status.idle": "2021-02-07T06:57:57.950406Z",
     "shell.execute_reply": "2021-02-07T06:57:57.949701Z",
     "shell.execute_reply.started": "2021-02-07T06:57:57.927238Z"
    }
   },
   "outputs": [
    {
     "data": {
      "text/plain": [
       "{4: 1}"
      ]
     },
     "execution_count": 14,
     "metadata": {},
     "output_type": "execute_result"
    }
   ],
   "source": [
    "dict([(4, 3)] + [(4, 1)])"
   ]
  },
  {
   "cell_type": "code",
   "execution_count": 15,
   "id": "representative-powell",
   "metadata": {
    "execution": {
     "iopub.execute_input": "2021-02-07T06:57:57.951946Z",
     "iopub.status.busy": "2021-02-07T06:57:57.951730Z",
     "iopub.status.idle": "2021-02-07T06:57:57.978042Z",
     "shell.execute_reply": "2021-02-07T06:57:57.977349Z",
     "shell.execute_reply.started": "2021-02-07T06:57:57.951920Z"
    }
   },
   "outputs": [],
   "source": [
    "B = coldict2mat(button_vectors(5))"
   ]
  },
  {
   "cell_type": "code",
   "execution_count": 16,
   "id": "comfortable-opposition",
   "metadata": {
    "execution": {
     "iopub.execute_input": "2021-02-07T06:57:57.979402Z",
     "iopub.status.busy": "2021-02-07T06:57:57.979197Z",
     "iopub.status.idle": "2021-02-07T06:57:58.004765Z",
     "shell.execute_reply": "2021-02-07T06:57:58.003926Z",
     "shell.execute_reply.started": "2021-02-07T06:57:57.979379Z"
    }
   },
   "outputs": [],
   "source": [
    "s = Vec(b.D, {(2, 2): one})"
   ]
  },
  {
   "cell_type": "markdown",
   "id": "swiss-vampire",
   "metadata": {},
   "source": [
    "## Gnome"
   ]
  },
  {
   "cell_type": "code",
   "execution_count": 17,
   "id": "uniform-gabriel",
   "metadata": {
    "execution": {
     "iopub.execute_input": "2021-02-07T06:57:58.006402Z",
     "iopub.status.busy": "2021-02-07T06:57:58.006143Z",
     "iopub.status.idle": "2021-02-07T06:57:58.034134Z",
     "shell.execute_reply": "2021-02-07T06:57:58.033331Z",
     "shell.execute_reply.started": "2021-02-07T06:57:58.006370Z"
    }
   },
   "outputs": [],
   "source": [
    "D = {'metal', 'concrete', 'plastic', 'water', 'electricity'}\n",
    "v_gnome = Vec(D, {'concrete': 1.3, 'plastic': .2, 'water': .8, 'electricity': .4})\n",
    "v_hoop = Vec(D, {'plastic': 1.5, 'water': .4, 'electricity': .3})\n",
    "v_slinky = Vec(D, {'metal': .25, 'water': .2, 'electricity': .7})\n",
    "v_putty = Vec(D, {'plastic': .3, 'water': .7, 'electricity': .5})\n",
    "v_shooter = Vec(D, {'metal': .15, 'plastic': .5, 'water': .4, 'electricity': .8})"
   ]
  },
  {
   "cell_type": "code",
   "execution_count": 18,
   "id": "horizontal-weather",
   "metadata": {
    "execution": {
     "iopub.execute_input": "2021-02-07T06:57:58.035428Z",
     "iopub.status.busy": "2021-02-07T06:57:58.035212Z",
     "iopub.status.idle": "2021-02-07T06:57:58.061730Z",
     "shell.execute_reply": "2021-02-07T06:57:58.060994Z",
     "shell.execute_reply.started": "2021-02-07T06:57:58.035402Z"
    }
   },
   "outputs": [
    {
     "data": {
      "text/plain": [
       "Vec({'water', 'concrete', 'plastic', 'metal', 'electricity'}, {'concrete': 312.0, 'plastic': 130.5, 'electricity': 112.5, 'water': 214.0})"
      ]
     },
     "execution_count": 18,
     "metadata": {},
     "output_type": "execute_result"
    }
   ],
   "source": [
    "240*v_gnome + 55 * v_hoop"
   ]
  },
  {
   "cell_type": "code",
   "execution_count": 19,
   "id": "brazilian-treasurer",
   "metadata": {
    "execution": {
     "iopub.execute_input": "2021-02-07T06:57:58.063091Z",
     "iopub.status.busy": "2021-02-07T06:57:58.062767Z",
     "iopub.status.idle": "2021-02-07T06:57:58.088688Z",
     "shell.execute_reply": "2021-02-07T06:57:58.088035Z",
     "shell.execute_reply.started": "2021-02-07T06:57:58.063066Z"
    }
   },
   "outputs": [],
   "source": [
    "rowdict = {\n",
    "    'gnome': v_gnome,\n",
    "    'hoop': v_hoop,\n",
    "    'slinky': v_slinky,\n",
    "    'putty': v_putty,\n",
    "    'shooter': v_shooter,\n",
    "}"
   ]
  },
  {
   "cell_type": "code",
   "execution_count": 20,
   "id": "specified-belarus",
   "metadata": {
    "execution": {
     "iopub.execute_input": "2021-02-07T06:57:58.090277Z",
     "iopub.status.busy": "2021-02-07T06:57:58.089935Z",
     "iopub.status.idle": "2021-02-07T06:57:58.115175Z",
     "shell.execute_reply": "2021-02-07T06:57:58.114417Z",
     "shell.execute_reply.started": "2021-02-07T06:57:58.090245Z"
    }
   },
   "outputs": [],
   "source": [
    "M = rowdict2mat(rowdict)"
   ]
  },
  {
   "cell_type": "code",
   "execution_count": 21,
   "id": "light-moscow",
   "metadata": {
    "execution": {
     "iopub.execute_input": "2021-02-07T06:57:58.116616Z",
     "iopub.status.busy": "2021-02-07T06:57:58.116334Z",
     "iopub.status.idle": "2021-02-07T06:57:58.144949Z",
     "shell.execute_reply": "2021-02-07T06:57:58.144321Z",
     "shell.execute_reply.started": "2021-02-07T06:57:58.116570Z"
    }
   },
   "outputs": [
    {
     "name": "stdout",
     "output_type": "stream",
     "text": [
      "         water  concrete  plastic  metal  electricity\n",
      "slinky     0.2       0.0      0.0   0.25          0.7\n",
      "hoop       0.4       0.0      1.5   0.00          0.3\n",
      "putty      0.7       0.0      0.3   0.00          0.5\n",
      "gnome      0.8       1.3      0.2   0.00          0.4\n",
      "shooter    0.4       0.0      0.5   0.15          0.8\n"
     ]
    }
   ],
   "source": [
    "print(M)"
   ]
  },
  {
   "cell_type": "code",
   "execution_count": 22,
   "id": "sophisticated-button",
   "metadata": {
    "execution": {
     "iopub.execute_input": "2021-02-07T06:57:58.146222Z",
     "iopub.status.busy": "2021-02-07T06:57:58.146002Z",
     "iopub.status.idle": "2021-02-07T06:57:58.170351Z",
     "shell.execute_reply": "2021-02-07T06:57:58.169567Z",
     "shell.execute_reply.started": "2021-02-07T06:57:58.146199Z"
    }
   },
   "outputs": [],
   "source": [
    "R = set(rowdict.keys())"
   ]
  },
  {
   "cell_type": "code",
   "execution_count": 23,
   "id": "grateful-beads",
   "metadata": {
    "execution": {
     "iopub.execute_input": "2021-02-07T06:57:58.171876Z",
     "iopub.status.busy": "2021-02-07T06:57:58.171623Z",
     "iopub.status.idle": "2021-02-07T06:57:58.197948Z",
     "shell.execute_reply": "2021-02-07T06:57:58.197247Z",
     "shell.execute_reply.started": "2021-02-07T06:57:58.171841Z"
    }
   },
   "outputs": [],
   "source": [
    "C = M.D[1]"
   ]
  },
  {
   "cell_type": "code",
   "execution_count": 24,
   "id": "registered-monday",
   "metadata": {
    "execution": {
     "iopub.execute_input": "2021-02-07T06:57:58.203644Z",
     "iopub.status.busy": "2021-02-07T06:57:58.203418Z",
     "iopub.status.idle": "2021-02-07T06:57:58.228409Z",
     "shell.execute_reply": "2021-02-07T06:57:58.227753Z",
     "shell.execute_reply.started": "2021-02-07T06:57:58.203619Z"
    }
   },
   "outputs": [],
   "source": [
    "u = Vec(R, {'putty': 133, 'gnome': 240, 'slinky': 150, 'hoop': 55, 'shooter': 90})"
   ]
  },
  {
   "cell_type": "code",
   "execution_count": 25,
   "id": "needed-sussex",
   "metadata": {
    "execution": {
     "iopub.execute_input": "2021-02-07T06:57:58.230311Z",
     "iopub.status.busy": "2021-02-07T06:57:58.230035Z",
     "iopub.status.idle": "2021-02-07T06:57:58.256032Z",
     "shell.execute_reply": "2021-02-07T06:57:58.255397Z",
     "shell.execute_reply.started": "2021-02-07T06:57:58.230281Z"
    }
   },
   "outputs": [
    {
     "data": {
      "text/plain": [
       "({'gnome', 'hoop', 'putty', 'shooter', 'slinky'},\n",
       " {'concrete', 'electricity', 'metal', 'plastic', 'water'})"
      ]
     },
     "execution_count": 25,
     "metadata": {},
     "output_type": "execute_result"
    }
   ],
   "source": [
    "M.D"
   ]
  },
  {
   "cell_type": "markdown",
   "id": "dimensional-graham",
   "metadata": {
    "execution": {
     "iopub.execute_input": "2021-02-06T08:48:29.173620Z",
     "iopub.status.busy": "2021-02-06T08:48:29.173381Z",
     "iopub.status.idle": "2021-02-06T08:48:29.199990Z",
     "shell.execute_reply": "2021-02-06T08:48:29.199165Z",
     "shell.execute_reply.started": "2021-02-06T08:48:29.173598Z"
    }
   },
   "source": [
    "Vec(M.D[1], {k: u * vec for k, vec in mat2coldict(M).items()})"
   ]
  },
  {
   "cell_type": "code",
   "execution_count": 26,
   "id": "passive-retirement",
   "metadata": {
    "execution": {
     "iopub.execute_input": "2021-02-07T06:57:58.257328Z",
     "iopub.status.busy": "2021-02-07T06:57:58.257034Z",
     "iopub.status.idle": "2021-02-07T06:57:58.284122Z",
     "shell.execute_reply": "2021-02-07T06:57:58.283320Z",
     "shell.execute_reply.started": "2021-02-07T06:57:58.257302Z"
    }
   },
   "outputs": [
    {
     "data": {
      "text/plain": [
       "{'gnome', 'hoop', 'putty', 'shooter', 'slinky'}"
      ]
     },
     "execution_count": 26,
     "metadata": {},
     "output_type": "execute_result"
    }
   ],
   "source": [
    "u.D"
   ]
  },
  {
   "cell_type": "code",
   "execution_count": 27,
   "id": "expensive-bumper",
   "metadata": {
    "execution": {
     "iopub.execute_input": "2021-02-07T06:57:58.285714Z",
     "iopub.status.busy": "2021-02-07T06:57:58.285492Z",
     "iopub.status.idle": "2021-02-07T06:57:58.311463Z",
     "shell.execute_reply": "2021-02-07T06:57:58.310642Z",
     "shell.execute_reply.started": "2021-02-07T06:57:58.285689Z"
    }
   },
   "outputs": [
    {
     "data": {
      "text/plain": [
       "True"
      ]
     },
     "execution_count": 27,
     "metadata": {},
     "output_type": "execute_result"
    }
   ],
   "source": [
    "isinstance(M, Mat)"
   ]
  },
  {
   "cell_type": "code",
   "execution_count": 28,
   "id": "early-gospel",
   "metadata": {
    "execution": {
     "iopub.execute_input": "2021-02-07T06:57:58.312899Z",
     "iopub.status.busy": "2021-02-07T06:57:58.312654Z",
     "iopub.status.idle": "2021-02-07T06:57:58.338632Z",
     "shell.execute_reply": "2021-02-07T06:57:58.337621Z",
     "shell.execute_reply.started": "2021-02-07T06:57:58.312867Z"
    }
   },
   "outputs": [
    {
     "data": {
      "text/plain": [
       "Vec({'water', 'concrete', 'plastic', 'metal', 'electricity'}, {'water': 373.1, 'concrete': 312.0, 'plastic': 215.4, 'metal': 51.0, 'electricity': 356.0})"
      ]
     },
     "execution_count": 28,
     "metadata": {},
     "output_type": "execute_result"
    }
   ],
   "source": [
    "u * M"
   ]
  },
  {
   "cell_type": "code",
   "execution_count": 29,
   "id": "mysterious-muscle",
   "metadata": {
    "execution": {
     "iopub.execute_input": "2021-02-07T06:57:58.340613Z",
     "iopub.status.busy": "2021-02-07T06:57:58.340330Z",
     "iopub.status.idle": "2021-02-07T06:57:58.369038Z",
     "shell.execute_reply": "2021-02-07T06:57:58.368372Z",
     "shell.execute_reply.started": "2021-02-07T06:57:58.340571Z"
    }
   },
   "outputs": [
    {
     "data": {
      "text/plain": [
       "({0, 1}, {0, 1, 2, 3})"
      ]
     },
     "execution_count": 29,
     "metadata": {},
     "output_type": "execute_result"
    }
   ],
   "source": [
    "A.D"
   ]
  },
  {
   "cell_type": "code",
   "execution_count": 30,
   "id": "biblical-bobby",
   "metadata": {
    "execution": {
     "iopub.execute_input": "2021-02-07T06:57:58.370355Z",
     "iopub.status.busy": "2021-02-07T06:57:58.370150Z",
     "iopub.status.idle": "2021-02-07T06:57:58.396402Z",
     "shell.execute_reply": "2021-02-07T06:57:58.395744Z",
     "shell.execute_reply.started": "2021-02-07T06:57:58.370331Z"
    }
   },
   "outputs": [
    {
     "data": {
      "text/plain": [
       "[(0, 0), (0, 1), (0, 2), (0, 3), (1, 0), (1, 1), (1, 2), (1, 3)]"
      ]
     },
     "execution_count": 30,
     "metadata": {},
     "output_type": "execute_result"
    }
   ],
   "source": [
    "sorted(A.f.keys())"
   ]
  },
  {
   "cell_type": "code",
   "execution_count": 31,
   "id": "working-mention",
   "metadata": {
    "execution": {
     "iopub.execute_input": "2021-02-07T06:57:58.397728Z",
     "iopub.status.busy": "2021-02-07T06:57:58.397411Z",
     "iopub.status.idle": "2021-02-07T06:57:58.424050Z",
     "shell.execute_reply": "2021-02-07T06:57:58.423427Z",
     "shell.execute_reply.started": "2021-02-07T06:57:58.397702Z"
    }
   },
   "outputs": [
    {
     "data": {
      "text/plain": [
       "{(0, 0): 10,\n",
       " (0, 1): 20,\n",
       " (0, 2): 30,\n",
       " (0, 3): 40,\n",
       " (1, 0): 50,\n",
       " (1, 1): 60,\n",
       " (1, 2): 70,\n",
       " (1, 3): 80}"
      ]
     },
     "execution_count": 31,
     "metadata": {},
     "output_type": "execute_result"
    }
   ],
   "source": [
    "{k: A.f[k] for k in sorted(A.f)}"
   ]
  },
  {
   "cell_type": "code",
   "execution_count": 32,
   "id": "relevant-water",
   "metadata": {
    "execution": {
     "iopub.execute_input": "2021-02-07T06:57:58.425429Z",
     "iopub.status.busy": "2021-02-07T06:57:58.425251Z",
     "iopub.status.idle": "2021-02-07T06:57:58.450245Z",
     "shell.execute_reply": "2021-02-07T06:57:58.449625Z",
     "shell.execute_reply.started": "2021-02-07T06:57:58.425406Z"
    }
   },
   "outputs": [
    {
     "data": {
      "text/plain": [
       "[(0, 0), (0, 1), (1, 0)]"
      ]
     },
     "execution_count": 32,
     "metadata": {},
     "output_type": "execute_result"
    }
   ],
   "source": [
    "sorted([(1, 0), (0, 0), (0, 1)])"
   ]
  },
  {
   "cell_type": "code",
   "execution_count": 33,
   "id": "secure-billion",
   "metadata": {
    "execution": {
     "iopub.execute_input": "2021-02-07T06:57:58.451459Z",
     "iopub.status.busy": "2021-02-07T06:57:58.451277Z",
     "iopub.status.idle": "2021-02-07T06:57:58.473605Z",
     "shell.execute_reply": "2021-02-07T06:57:58.472965Z",
     "shell.execute_reply.started": "2021-02-07T06:57:58.451438Z"
    }
   },
   "outputs": [
    {
     "data": {
      "text/plain": [
       "dict_keys([(0, 0), (0, 1), (0, 2), (0, 3), (1, 0), (1, 1), (1, 2), (1, 3)])"
      ]
     },
     "execution_count": 33,
     "metadata": {},
     "output_type": "execute_result"
    }
   ],
   "source": [
    "A.f.keys()"
   ]
  },
  {
   "cell_type": "code",
   "execution_count": 34,
   "id": "greenhouse-brand",
   "metadata": {
    "execution": {
     "iopub.execute_input": "2021-02-07T06:57:58.474713Z",
     "iopub.status.busy": "2021-02-07T06:57:58.474467Z",
     "iopub.status.idle": "2021-02-07T06:57:58.495629Z",
     "shell.execute_reply": "2021-02-07T06:57:58.494921Z",
     "shell.execute_reply.started": "2021-02-07T06:57:58.474692Z"
    }
   },
   "outputs": [],
   "source": [
    "import sys\n",
    "sys.path.append('../coding_the_matrix/mat')"
   ]
  },
  {
   "cell_type": "code",
   "execution_count": 35,
   "id": "interesting-scott",
   "metadata": {
    "execution": {
     "iopub.execute_input": "2021-02-07T06:57:58.497970Z",
     "iopub.status.busy": "2021-02-07T06:57:58.497796Z",
     "iopub.status.idle": "2021-02-07T06:57:58.643220Z",
     "shell.execute_reply": "2021-02-07T06:57:58.642307Z",
     "shell.execute_reply.started": "2021-02-07T06:57:58.497950Z"
    }
   },
   "outputs": [
    {
     "ename": "ImportError",
     "evalue": "Unsupported Python version",
     "output_type": "error",
     "traceback": [
      "\u001b[0;31m---------------------------------------------------------------------------\u001b[0m",
      "\u001b[0;31mImportError\u001b[0m                               Traceback (most recent call last)",
      "\u001b[0;32m<ipython-input-35-117915c2d638>\u001b[0m in \u001b[0;36m<module>\u001b[0;34m\u001b[0m\n\u001b[0;32m----> 1\u001b[0;31m \u001b[0;32mfrom\u001b[0m \u001b[0mcoding_the_matrix\u001b[0m \u001b[0;32mimport\u001b[0m \u001b[0msolver\u001b[0m\u001b[0;34m\u001b[0m\u001b[0;34m\u001b[0m\u001b[0m\n\u001b[0m",
      "\u001b[0;32m~/github.com/banbiossa/coding-the-matrix/coding_the_matrix/solver.py\u001b[0m in \u001b[0;36m<module>\u001b[0;34m\u001b[0m\n\u001b[1;32m     28\u001b[0m \u001b[0;34m\u001b[0m\u001b[0m\n\u001b[1;32m     29\u001b[0m \u001b[0;34m\u001b[0m\u001b[0m\n\u001b[0;32m---> 30\u001b[0;31m \u001b[0mexec\u001b[0m\u001b[0;34m(\u001b[0m\u001b[0m_get_module\u001b[0m\u001b[0;34m(\u001b[0m\u001b[0;34m)\u001b[0m\u001b[0;34m)\u001b[0m\u001b[0;34m\u001b[0m\u001b[0;34m\u001b[0m\u001b[0m\n\u001b[0m",
      "\u001b[0;32m~/github.com/banbiossa/coding-the-matrix/coding_the_matrix/solver.py\u001b[0m in \u001b[0;36m_get_module\u001b[0;34m()\u001b[0m\n\u001b[1;32m     16\u001b[0m         \u001b[0moffset\u001b[0m \u001b[0;34m=\u001b[0m \u001b[0;36m12\u001b[0m\u001b[0;34m\u001b[0m\u001b[0;34m\u001b[0m\u001b[0m\n\u001b[1;32m     17\u001b[0m     \u001b[0;32melse\u001b[0m\u001b[0;34m:\u001b[0m\u001b[0;34m\u001b[0m\u001b[0;34m\u001b[0m\u001b[0m\n\u001b[0;32m---> 18\u001b[0;31m         \u001b[0;32mraise\u001b[0m \u001b[0mImportError\u001b[0m\u001b[0;34m(\u001b[0m\u001b[0;34m\"Unsupported Python version\"\u001b[0m\u001b[0;34m)\u001b[0m\u001b[0;34m\u001b[0m\u001b[0;34m\u001b[0m\u001b[0m\n\u001b[0m\u001b[1;32m     19\u001b[0m \u001b[0;34m\u001b[0m\u001b[0m\n\u001b[1;32m     20\u001b[0m     \u001b[0mpycData\u001b[0m \u001b[0;34m=\u001b[0m \u001b[0mbase64\u001b[0m\u001b[0;34m.\u001b[0m\u001b[0mdecodebytes\u001b[0m\u001b[0;34m(\u001b[0m\u001b[0mpycData\u001b[0m\u001b[0;34m)\u001b[0m\u001b[0;34m\u001b[0m\u001b[0;34m\u001b[0m\u001b[0m\n",
      "\u001b[0;31mImportError\u001b[0m: Unsupported Python version"
     ]
    }
   ],
   "source": [
    "from coding_the_matrix import solver"
   ]
  },
  {
   "cell_type": "code",
   "execution_count": null,
   "id": "shared-preparation",
   "metadata": {
    "execution": {
     "iopub.status.busy": "2021-02-07T06:57:58.644086Z",
     "iopub.status.idle": "2021-02-07T06:57:58.644485Z",
     "shell.execute_reply": "2021-02-07T06:57:58.644324Z"
    }
   },
   "outputs": [],
   "source": [
    "solver.solve()"
   ]
  },
  {
   "cell_type": "code",
   "execution_count": 36,
   "id": "nominated-standard",
   "metadata": {
    "execution": {
     "iopub.execute_input": "2021-02-07T06:57:59.228225Z",
     "iopub.status.busy": "2021-02-07T06:57:59.227983Z",
     "iopub.status.idle": "2021-02-07T06:57:59.253779Z",
     "shell.execute_reply": "2021-02-07T06:57:59.253088Z",
     "shell.execute_reply.started": "2021-02-07T06:57:59.228197Z"
    }
   },
   "outputs": [],
   "source": [
    "b = Vec({'metal', 'concrete', 'water', 'electricity', 'plastic'}, {'metal': 51.0, 'concrete': 312.0, 'water': 373.1, 'electricity': 356.0, 'plastic': 215.4})"
   ]
  },
  {
   "cell_type": "code",
   "execution_count": 37,
   "id": "statewide-belgium",
   "metadata": {
    "execution": {
     "iopub.execute_input": "2021-02-07T06:57:59.361775Z",
     "iopub.status.busy": "2021-02-07T06:57:59.361510Z",
     "iopub.status.idle": "2021-02-07T06:57:59.388018Z",
     "shell.execute_reply": "2021-02-07T06:57:59.387300Z",
     "shell.execute_reply.started": "2021-02-07T06:57:59.361741Z"
    }
   },
   "outputs": [
    {
     "data": {
      "text/plain": [
       "Mat(({'water', 'concrete', 'plastic', 'metal', 'electricity'}, {'slinky', 'hoop', 'putty', 'gnome', 'shooter'}), {('water', 'gnome'): 0.8, ('concrete', 'gnome'): 1.3, ('plastic', 'gnome'): 0.2, ('metal', 'gnome'): 0, ('electricity', 'gnome'): 0.4, ('water', 'hoop'): 0.4, ('concrete', 'hoop'): 0, ('plastic', 'hoop'): 1.5, ('metal', 'hoop'): 0, ('electricity', 'hoop'): 0.3, ('water', 'slinky'): 0.2, ('concrete', 'slinky'): 0, ('plastic', 'slinky'): 0, ('metal', 'slinky'): 0.25, ('electricity', 'slinky'): 0.7, ('water', 'putty'): 0.7, ('concrete', 'putty'): 0, ('plastic', 'putty'): 0.3, ('metal', 'putty'): 0, ('electricity', 'putty'): 0.5, ('water', 'shooter'): 0.4, ('concrete', 'shooter'): 0, ('plastic', 'shooter'): 0.5, ('metal', 'shooter'): 0.15, ('electricity', 'shooter'): 0.8})"
      ]
     },
     "execution_count": 37,
     "metadata": {},
     "output_type": "execute_result"
    }
   ],
   "source": [
    "M.transpose()"
   ]
  },
  {
   "cell_type": "code",
   "execution_count": 38,
   "id": "compatible-sheep",
   "metadata": {
    "execution": {
     "iopub.execute_input": "2021-02-07T06:57:59.553956Z",
     "iopub.status.busy": "2021-02-07T06:57:59.553728Z",
     "iopub.status.idle": "2021-02-07T06:57:59.581173Z",
     "shell.execute_reply": "2021-02-07T06:57:59.580097Z",
     "shell.execute_reply.started": "2021-02-07T06:57:59.553932Z"
    }
   },
   "outputs": [
    {
     "ename": "NameError",
     "evalue": "name 'solver' is not defined",
     "output_type": "error",
     "traceback": [
      "\u001b[0;31m---------------------------------------------------------------------------\u001b[0m",
      "\u001b[0;31mNameError\u001b[0m                                 Traceback (most recent call last)",
      "\u001b[0;32m<ipython-input-38-52af9100c0d5>\u001b[0m in \u001b[0;36m<module>\u001b[0;34m\u001b[0m\n\u001b[0;32m----> 1\u001b[0;31m \u001b[0msolution\u001b[0m \u001b[0;34m=\u001b[0m \u001b[0msolver\u001b[0m\u001b[0;34m.\u001b[0m\u001b[0msolve\u001b[0m\u001b[0;34m(\u001b[0m\u001b[0mM\u001b[0m\u001b[0;34m.\u001b[0m\u001b[0mtranspose\u001b[0m\u001b[0;34m(\u001b[0m\u001b[0;34m)\u001b[0m\u001b[0;34m,\u001b[0m \u001b[0mb\u001b[0m\u001b[0;34m)\u001b[0m\u001b[0;34m\u001b[0m\u001b[0;34m\u001b[0m\u001b[0m\n\u001b[0m",
      "\u001b[0;31mNameError\u001b[0m: name 'solver' is not defined"
     ]
    }
   ],
   "source": [
    "solution = solver.solve(M.transpose(), b)"
   ]
  },
  {
   "cell_type": "code",
   "execution_count": 39,
   "id": "respiratory-sociology",
   "metadata": {
    "execution": {
     "iopub.execute_input": "2021-02-07T06:57:59.705125Z",
     "iopub.status.busy": "2021-02-07T06:57:59.704899Z",
     "iopub.status.idle": "2021-02-07T06:57:59.729117Z",
     "shell.execute_reply": "2021-02-07T06:57:59.728440Z",
     "shell.execute_reply.started": "2021-02-07T06:57:59.705101Z"
    }
   },
   "outputs": [],
   "source": [
    "A = M.transpose()"
   ]
  },
  {
   "cell_type": "code",
   "execution_count": 40,
   "id": "reliable-warning",
   "metadata": {
    "execution": {
     "iopub.execute_input": "2021-02-07T06:57:59.827905Z",
     "iopub.status.busy": "2021-02-07T06:57:59.827673Z",
     "iopub.status.idle": "2021-02-07T06:57:59.854041Z",
     "shell.execute_reply": "2021-02-07T06:57:59.853356Z",
     "shell.execute_reply.started": "2021-02-07T06:57:59.827879Z"
    }
   },
   "outputs": [
    {
     "data": {
      "text/plain": [
       "Mat(({'water', 'concrete', 'plastic', 'metal', 'electricity'}, {'slinky', 'hoop', 'putty', 'gnome', 'shooter'}), {('water', 'gnome'): 0.8, ('concrete', 'gnome'): 1.3, ('plastic', 'gnome'): 0.2, ('metal', 'gnome'): 0, ('electricity', 'gnome'): 0.4, ('water', 'hoop'): 0.4, ('concrete', 'hoop'): 0, ('plastic', 'hoop'): 1.5, ('metal', 'hoop'): 0, ('electricity', 'hoop'): 0.3, ('water', 'slinky'): 0.2, ('concrete', 'slinky'): 0, ('plastic', 'slinky'): 0, ('metal', 'slinky'): 0.25, ('electricity', 'slinky'): 0.7, ('water', 'putty'): 0.7, ('concrete', 'putty'): 0, ('plastic', 'putty'): 0.3, ('metal', 'putty'): 0, ('electricity', 'putty'): 0.5, ('water', 'shooter'): 0.4, ('concrete', 'shooter'): 0, ('plastic', 'shooter'): 0.5, ('metal', 'shooter'): 0.15, ('electricity', 'shooter'): 0.8})"
      ]
     },
     "execution_count": 40,
     "metadata": {},
     "output_type": "execute_result"
    }
   ],
   "source": [
    "A"
   ]
  },
  {
   "cell_type": "code",
   "execution_count": 41,
   "id": "arctic-lending",
   "metadata": {
    "execution": {
     "iopub.execute_input": "2021-02-07T06:58:00.112796Z",
     "iopub.status.busy": "2021-02-07T06:58:00.112547Z",
     "iopub.status.idle": "2021-02-07T06:58:00.139032Z",
     "shell.execute_reply": "2021-02-07T06:58:00.138249Z",
     "shell.execute_reply.started": "2021-02-07T06:58:00.112770Z"
    }
   },
   "outputs": [
    {
     "data": {
      "text/plain": [
       "Vec({'water', 'concrete', 'plastic', 'metal', 'electricity'}, {'metal': 51.0, 'concrete': 312.0, 'water': 373.1, 'electricity': 356.0, 'plastic': 215.4})"
      ]
     },
     "execution_count": 41,
     "metadata": {},
     "output_type": "execute_result"
    }
   ],
   "source": [
    "b"
   ]
  },
  {
   "cell_type": "code",
   "execution_count": 42,
   "id": "vietnamese-moderator",
   "metadata": {
    "execution": {
     "iopub.execute_input": "2021-02-07T06:58:00.266816Z",
     "iopub.status.busy": "2021-02-07T06:58:00.266534Z",
     "iopub.status.idle": "2021-02-07T06:58:00.292546Z",
     "shell.execute_reply": "2021-02-07T06:58:00.291888Z",
     "shell.execute_reply.started": "2021-02-07T06:58:00.266784Z"
    }
   },
   "outputs": [],
   "source": [
    "rowdict = mat2rowdict(A)"
   ]
  },
  {
   "cell_type": "code",
   "execution_count": 43,
   "id": "distinct-reconstruction",
   "metadata": {
    "execution": {
     "iopub.execute_input": "2021-02-07T06:58:00.379869Z",
     "iopub.status.busy": "2021-02-07T06:58:00.379626Z",
     "iopub.status.idle": "2021-02-07T06:58:00.406701Z",
     "shell.execute_reply": "2021-02-07T06:58:00.405940Z",
     "shell.execute_reply.started": "2021-02-07T06:58:00.379843Z"
    }
   },
   "outputs": [
    {
     "data": {
      "text/plain": [
       "{'water': Vec({'slinky', 'hoop', 'putty', 'gnome', 'shooter'}, {'slinky': 0.2, 'hoop': 0.4, 'putty': 0.7, 'gnome': 0.8, 'shooter': 0.4}),\n",
       " 'concrete': Vec({'slinky', 'hoop', 'putty', 'gnome', 'shooter'}, {'slinky': 0, 'hoop': 0, 'putty': 0, 'gnome': 1.3, 'shooter': 0}),\n",
       " 'plastic': Vec({'slinky', 'hoop', 'putty', 'gnome', 'shooter'}, {'slinky': 0, 'hoop': 1.5, 'putty': 0.3, 'gnome': 0.2, 'shooter': 0.5}),\n",
       " 'metal': Vec({'slinky', 'hoop', 'putty', 'gnome', 'shooter'}, {'slinky': 0.25, 'hoop': 0, 'putty': 0, 'gnome': 0, 'shooter': 0.15}),\n",
       " 'electricity': Vec({'slinky', 'hoop', 'putty', 'gnome', 'shooter'}, {'slinky': 0.7, 'hoop': 0.3, 'putty': 0.5, 'gnome': 0.4, 'shooter': 0.8})}"
      ]
     },
     "execution_count": 43,
     "metadata": {},
     "output_type": "execute_result"
    }
   ],
   "source": [
    "rowdict"
   ]
  },
  {
   "cell_type": "code",
   "execution_count": 44,
   "id": "charitable-webster",
   "metadata": {
    "execution": {
     "iopub.execute_input": "2021-02-07T06:58:00.559598Z",
     "iopub.status.busy": "2021-02-07T06:58:00.559362Z",
     "iopub.status.idle": "2021-02-07T06:58:00.586066Z",
     "shell.execute_reply": "2021-02-07T06:58:00.585371Z",
     "shell.execute_reply.started": "2021-02-07T06:58:00.559571Z"
    }
   },
   "outputs": [
    {
     "data": {
      "text/plain": [
       "Vec({'water', 'concrete', 'plastic', 'metal', 'electricity'}, {'metal': 51.0, 'concrete': 312.0, 'water': 373.1, 'electricity': 356.0, 'plastic': 215.4})"
      ]
     },
     "execution_count": 44,
     "metadata": {},
     "output_type": "execute_result"
    }
   ],
   "source": [
    "b"
   ]
  },
  {
   "cell_type": "code",
   "execution_count": 45,
   "id": "jewish-melbourne",
   "metadata": {
    "execution": {
     "iopub.execute_input": "2021-02-07T06:58:00.720198Z",
     "iopub.status.busy": "2021-02-07T06:58:00.719958Z",
     "iopub.status.idle": "2021-02-07T06:58:00.746719Z",
     "shell.execute_reply": "2021-02-07T06:58:00.746011Z",
     "shell.execute_reply.started": "2021-02-07T06:58:00.720172Z"
    }
   },
   "outputs": [
    {
     "data": {
      "text/plain": [
       "{'concrete', 'electricity', 'metal', 'plastic', 'water'}"
      ]
     },
     "execution_count": 45,
     "metadata": {},
     "output_type": "execute_result"
    }
   ],
   "source": [
    "b.D"
   ]
  },
  {
   "cell_type": "code",
   "execution_count": 46,
   "id": "powerful-spelling",
   "metadata": {
    "execution": {
     "iopub.execute_input": "2021-02-07T06:58:01.608938Z",
     "iopub.status.busy": "2021-02-07T06:58:01.608698Z",
     "iopub.status.idle": "2021-02-07T06:58:01.634734Z",
     "shell.execute_reply": "2021-02-07T06:58:01.633926Z",
     "shell.execute_reply.started": "2021-02-07T06:58:01.608912Z"
    }
   },
   "outputs": [],
   "source": [
    "R, C = A.D\n",
    "assert len(R) == len(C)\n",
    "N = len(R)"
   ]
  },
  {
   "cell_type": "code",
   "execution_count": 47,
   "id": "thirty-identifier",
   "metadata": {
    "execution": {
     "iopub.execute_input": "2021-02-07T06:58:01.731997Z",
     "iopub.status.busy": "2021-02-07T06:58:01.731745Z",
     "iopub.status.idle": "2021-02-07T06:58:01.758255Z",
     "shell.execute_reply": "2021-02-07T06:58:01.757493Z",
     "shell.execute_reply.started": "2021-02-07T06:58:01.731972Z"
    }
   },
   "outputs": [
    {
     "data": {
      "text/plain": [
       "{'concrete', 'electricity', 'metal', 'plastic', 'water'}"
      ]
     },
     "execution_count": 47,
     "metadata": {},
     "output_type": "execute_result"
    }
   ],
   "source": [
    "R"
   ]
  },
  {
   "cell_type": "code",
   "execution_count": 48,
   "id": "linear-robertson",
   "metadata": {
    "execution": {
     "iopub.execute_input": "2021-02-07T06:58:01.885988Z",
     "iopub.status.busy": "2021-02-07T06:58:01.885758Z",
     "iopub.status.idle": "2021-02-07T06:58:01.912285Z",
     "shell.execute_reply": "2021-02-07T06:58:01.911508Z",
     "shell.execute_reply.started": "2021-02-07T06:58:01.885963Z"
    }
   },
   "outputs": [
    {
     "data": {
      "text/plain": [
       "Vec({'water', 'concrete', 'plastic', 'metal', 'electricity'}, {'metal': 51.0, 'concrete': 312.0, 'water': 373.1, 'electricity': 356.0, 'plastic': 215.4})"
      ]
     },
     "execution_count": 48,
     "metadata": {},
     "output_type": "execute_result"
    }
   ],
   "source": [
    "b"
   ]
  },
  {
   "cell_type": "code",
   "execution_count": 92,
   "id": "dimensional-zoning",
   "metadata": {
    "execution": {
     "iopub.execute_input": "2021-02-07T07:11:22.630376Z",
     "iopub.status.busy": "2021-02-07T07:11:22.630141Z",
     "iopub.status.idle": "2021-02-07T07:11:22.657322Z",
     "shell.execute_reply": "2021-02-07T07:11:22.656582Z",
     "shell.execute_reply.started": "2021-02-07T07:11:22.630349Z"
    }
   },
   "outputs": [],
   "source": [
    "from typing import Tuple\n",
    "def get_max_row(col, rowdict, used=None) -> Tuple[str, Vec]:\n",
    "    \"\"\"get row from rowdict where col is max\"\"\"\n",
    "    rowdict = rowdict.copy()\n",
    "    if used is not None:\n",
    "        [rowdict.pop(key) for key in used]\n",
    "    return sorted(rowdict.items(), key= lambda x: x[1].f[col])[-1]"
   ]
  },
  {
   "cell_type": "code",
   "execution_count": 96,
   "id": "rolled-wisconsin",
   "metadata": {
    "execution": {
     "iopub.execute_input": "2021-02-07T07:11:25.181703Z",
     "iopub.status.busy": "2021-02-07T07:11:25.181458Z",
     "iopub.status.idle": "2021-02-07T07:11:25.209638Z",
     "shell.execute_reply": "2021-02-07T07:11:25.208874Z",
     "shell.execute_reply.started": "2021-02-07T07:11:25.181676Z"
    }
   },
   "outputs": [
    {
     "data": {
      "text/plain": [
       "{'water': Vec({'slinky', 'hoop', 'putty', 'gnome', 'shooter'}, {'slinky': 0.0, 'hoop': 0.0, 'putty': 1.0, 'gnome': 0.0, 'shooter': 0.0}),\n",
       " 'concrete': Vec({'slinky', 'hoop', 'putty', 'gnome', 'shooter'}, {'slinky': 0.0, 'hoop': 0.0, 'putty': 0.0, 'gnome': 1.0, 'shooter': 0.0}),\n",
       " 'plastic': Vec({'slinky', 'hoop', 'putty', 'gnome', 'shooter'}, {'slinky': 0.0, 'hoop': 1.0, 'putty': 0.0, 'gnome': 0.0, 'shooter': 0.0}),\n",
       " 'metal': Vec({'slinky', 'hoop', 'putty', 'gnome', 'shooter'}, {'slinky': -0.0, 'hoop': -0.0, 'putty': -0.0, 'gnome': -0.0, 'shooter': 1.0}),\n",
       " 'electricity': Vec({'slinky', 'hoop', 'putty', 'gnome', 'shooter'}, {'slinky': 1.0, 'hoop': 0.0, 'putty': 0.0, 'gnome': 0.0, 'shooter': 0.0})}"
      ]
     },
     "execution_count": 96,
     "metadata": {},
     "output_type": "execute_result"
    }
   ],
   "source": [
    "rowdict"
   ]
  },
  {
   "cell_type": "code",
   "execution_count": 123,
   "id": "naked-motion",
   "metadata": {
    "execution": {
     "iopub.execute_input": "2021-02-07T07:18:14.418023Z",
     "iopub.status.busy": "2021-02-07T07:18:14.417778Z",
     "iopub.status.idle": "2021-02-07T07:18:14.447102Z",
     "shell.execute_reply": "2021-02-07T07:18:14.446416Z",
     "shell.execute_reply.started": "2021-02-07T07:18:14.417996Z"
    }
   },
   "outputs": [],
   "source": [
    "rowdict = mat2rowdict(A)\n",
    "b = Vec({'metal', 'concrete', 'water', 'electricity', 'plastic'}, {'metal': 51.0, 'concrete': 312.0, 'water': 373.1, 'electricity': 356.0, 'plastic': 215.4})\n",
    "upper_triangle = {}  # 結果をいれる\n",
    "\n",
    "# select col to operate on\n",
    "for col in C:\n",
    "    # get row where col is max value\n",
    "    row, rowvec = get_max_row(col, rowdict, used=upper_triangle.keys())\n",
    "    # rowdict.pop(row)\n",
    "    \n",
    "    # update yourself (to one)\n",
    "    coef = 1 / rowvec[col]\n",
    "    rowvec *= coef\n",
    "    assert rowvec[col] == 1\n",
    "    b[row] *= coef\n",
    "    rowdict[row] = rowvec\n",
    "    \n",
    "    # iterate over the rows\n",
    "    for other, othervec in rowdict.items():\n",
    "        if row == other:\n",
    "            continue\n",
    "            \n",
    "        # coef\n",
    "        coef = othervec[col]/rowvec[col]\n",
    "\n",
    "        # update rowvec\n",
    "        othervec -= coef * rowvec\n",
    "        rowdict[other] = othervec\n",
    "\n",
    "        # update b\n",
    "        b[other] -= coef * b[row]"
   ]
  },
  {
   "cell_type": "code",
   "execution_count": 137,
   "id": "latin-arcade",
   "metadata": {
    "execution": {
     "iopub.execute_input": "2021-02-07T14:49:04.439676Z",
     "iopub.status.busy": "2021-02-07T14:49:04.439432Z",
     "iopub.status.idle": "2021-02-07T14:49:04.468074Z",
     "shell.execute_reply": "2021-02-07T14:49:04.467368Z",
     "shell.execute_reply.started": "2021-02-07T14:49:04.439648Z"
    }
   },
   "outputs": [],
   "source": [
    "D = {\"metal\", \"concrete\", \"plastic\", \"water\", \"electricity\"}\n",
    "v_gnome = Vec(\n",
    "    D, {\"concrete\": 1.3, \"plastic\": 0.2, \"water\": 0.8, \"electricity\": 0.4}\n",
    ")\n",
    "v_hoop = Vec(D, {\"plastic\": 1.5, \"water\": 0.4, \"electricity\": 0.3})\n",
    "v_slinky = Vec(D, {\"metal\": 0.25, \"water\": 0.2, \"electricity\": 0.7})\n",
    "v_putty = Vec(D, {\"plastic\": 0.3, \"water\": 0.7, \"electricity\": 0.5})\n",
    "v_shooter = Vec(\n",
    "    D, {\"metal\": 0.15, \"plastic\": 0.5, \"water\": 0.4, \"electricity\": 0.8}\n",
    ")\n",
    "rowdict = {\n",
    "    \"gnome\": v_gnome,\n",
    "    \"hoop\": v_hoop,\n",
    "    \"slinky\": v_slinky,\n",
    "    \"putty\": v_putty,\n",
    "    \"shooter\": v_shooter,\n",
    "}\n",
    "M = rowdict2mat(rowdict)\n",
    "b = Vec(\n",
    "    {\"metal\", \"concrete\", \"water\", \"electricity\", \"plastic\"},\n",
    "    {\n",
    "        \"metal\": 51.0,\n",
    "        \"concrete\": 312.0,\n",
    "        \"water\": 373.1,\n",
    "        \"electricity\": 356.0,\n",
    "        \"plastic\": 215.4,\n",
    "    },\n",
    ")"
   ]
  },
  {
   "cell_type": "code",
   "execution_count": 138,
   "id": "otherwise-checklist",
   "metadata": {
    "execution": {
     "iopub.execute_input": "2021-02-07T14:49:12.905711Z",
     "iopub.status.busy": "2021-02-07T14:49:12.905465Z",
     "iopub.status.idle": "2021-02-07T14:49:12.931365Z",
     "shell.execute_reply": "2021-02-07T14:49:12.930688Z",
     "shell.execute_reply.started": "2021-02-07T14:49:12.905684Z"
    }
   },
   "outputs": [],
   "source": [
    "from coding_the_matrix.solve import solve"
   ]
  },
  {
   "cell_type": "code",
   "execution_count": 139,
   "id": "aerial-plastic",
   "metadata": {
    "execution": {
     "iopub.execute_input": "2021-02-07T14:49:14.559976Z",
     "iopub.status.busy": "2021-02-07T14:49:14.559729Z",
     "iopub.status.idle": "2021-02-07T14:49:14.657027Z",
     "shell.execute_reply": "2021-02-07T14:49:14.656523Z",
     "shell.execute_reply.started": "2021-02-07T14:49:14.559949Z"
    }
   },
   "outputs": [
    {
     "name": "stdout",
     "output_type": "stream",
     "text": [
      " shooter  gnome  putty  slinky  hoop\n",
      "    90.0  240.0  133.0   150.0  55.0\n"
     ]
    }
   ],
   "source": [
    "A = M.transpose()\n",
    "x = solve(A, b)\n",
    "residual = b - x * M\n",
    "assert np.isclose(residual * residual, 0)\n",
    "print(x)"
   ]
  },
  {
   "cell_type": "code",
   "execution_count": 133,
   "id": "twelve-district",
   "metadata": {
    "execution": {
     "iopub.execute_input": "2021-02-07T07:19:32.193810Z",
     "iopub.status.busy": "2021-02-07T07:19:32.193566Z",
     "iopub.status.idle": "2021-02-07T07:19:32.220021Z",
     "shell.execute_reply": "2021-02-07T07:19:32.219194Z",
     "shell.execute_reply.started": "2021-02-07T07:19:32.193785Z"
    }
   },
   "outputs": [
    {
     "data": {
      "text/plain": [
       "'electricity'"
      ]
     },
     "execution_count": 133,
     "metadata": {},
     "output_type": "execute_result"
    }
   ],
   "source": [
    "row"
   ]
  },
  {
   "cell_type": "code",
   "execution_count": 134,
   "id": "returning-classification",
   "metadata": {
    "execution": {
     "iopub.execute_input": "2021-02-07T07:19:34.337115Z",
     "iopub.status.busy": "2021-02-07T07:19:34.336841Z",
     "iopub.status.idle": "2021-02-07T07:19:34.364187Z",
     "shell.execute_reply": "2021-02-07T07:19:34.363547Z",
     "shell.execute_reply.started": "2021-02-07T07:19:34.337085Z"
    }
   },
   "outputs": [
    {
     "data": {
      "text/plain": [
       "'electricity'"
      ]
     },
     "execution_count": 134,
     "metadata": {},
     "output_type": "execute_result"
    }
   ],
   "source": [
    "other"
   ]
  },
  {
   "cell_type": "code",
   "execution_count": 131,
   "id": "acknowledged-presence",
   "metadata": {
    "execution": {
     "iopub.execute_input": "2021-02-07T07:19:18.785408Z",
     "iopub.status.busy": "2021-02-07T07:19:18.785165Z",
     "iopub.status.idle": "2021-02-07T07:19:18.812487Z",
     "shell.execute_reply": "2021-02-07T07:19:18.811783Z",
     "shell.execute_reply.started": "2021-02-07T07:19:18.785381Z"
    }
   },
   "outputs": [
    {
     "data": {
      "text/plain": [
       "Vec({'slinky', 'hoop', 'putty', 'gnome', 'shooter'}, {'slinky': 0.9999999999999997, 'hoop': 0.0, 'putty': 0.6285714285714283, 'gnome': 0.0, 'shooter': 1.0})"
      ]
     },
     "execution_count": 131,
     "metadata": {},
     "output_type": "execute_result"
    }
   ],
   "source": [
    "othervec"
   ]
  },
  {
   "cell_type": "code",
   "execution_count": 132,
   "id": "novel-calcium",
   "metadata": {
    "execution": {
     "iopub.execute_input": "2021-02-07T07:19:19.041724Z",
     "iopub.status.busy": "2021-02-07T07:19:19.041484Z",
     "iopub.status.idle": "2021-02-07T07:19:19.068326Z",
     "shell.execute_reply": "2021-02-07T07:19:19.067564Z",
     "shell.execute_reply.started": "2021-02-07T07:19:19.041699Z"
    }
   },
   "outputs": [
    {
     "data": {
      "text/plain": [
       "Vec({'slinky', 'hoop', 'putty', 'gnome', 'shooter'}, {'slinky': 0.9999999999999997, 'hoop': 0.0, 'putty': 0.6285714285714283, 'gnome': 0.0, 'shooter': 1.0})"
      ]
     },
     "execution_count": 132,
     "metadata": {},
     "output_type": "execute_result"
    }
   ],
   "source": [
    "rowvec"
   ]
  },
  {
   "cell_type": "code",
   "execution_count": 128,
   "id": "interstate-activity",
   "metadata": {
    "execution": {
     "iopub.execute_input": "2021-02-07T07:18:38.684862Z",
     "iopub.status.busy": "2021-02-07T07:18:38.684613Z",
     "iopub.status.idle": "2021-02-07T07:18:38.712287Z",
     "shell.execute_reply": "2021-02-07T07:18:38.711522Z",
     "shell.execute_reply.started": "2021-02-07T07:18:38.684836Z"
    }
   },
   "outputs": [
    {
     "data": {
      "text/plain": [
       "{'water': Vec({'slinky', 'hoop', 'putty', 'gnome', 'shooter'}, {'slinky': -0.06666666666666665, 'hoop': 0.0, 'putty': 0.4523809523809524, 'gnome': 0.0, 'shooter': 0.0}),\n",
       " 'concrete': Vec({'slinky', 'hoop', 'putty', 'gnome', 'shooter'}, {'slinky': 0.0, 'hoop': 0.0, 'putty': 0.0, 'gnome': 1.0, 'shooter': 0.0}),\n",
       " 'plastic': Vec({'slinky', 'hoop', 'putty', 'gnome', 'shooter'}, {'slinky': -0.3333333333333332, 'hoop': 1.0, 'putty': -0.009523809523809441, 'gnome': 0.0, 'shooter': 0.0}),\n",
       " 'metal': Vec({'slinky', 'hoop', 'putty', 'gnome', 'shooter'}, {'slinky': 0.09999999999999998, 'hoop': 0.0, 'putty': -0.0942857142857143, 'gnome': 0.0, 'shooter': 0.0}),\n",
       " 'electricity': Vec({'slinky', 'hoop', 'putty', 'gnome', 'shooter'}, {'slinky': 0.9999999999999997, 'hoop': 0.0, 'putty': 0.6285714285714283, 'gnome': 0.0, 'shooter': 1.0})}"
      ]
     },
     "execution_count": 128,
     "metadata": {},
     "output_type": "execute_result"
    }
   ],
   "source": [
    "rowdict"
   ]
  },
  {
   "cell_type": "code",
   "execution_count": 127,
   "id": "brief-shade",
   "metadata": {
    "execution": {
     "iopub.execute_input": "2021-02-07T07:18:23.379165Z",
     "iopub.status.busy": "2021-02-07T07:18:23.378923Z",
     "iopub.status.idle": "2021-02-07T07:18:23.405123Z",
     "shell.execute_reply": "2021-02-07T07:18:23.404464Z",
     "shell.execute_reply.started": "2021-02-07T07:18:23.379137Z"
    }
   },
   "outputs": [
    {
     "data": {
      "text/plain": [
       "323.5999999999999"
      ]
     },
     "execution_count": 127,
     "metadata": {},
     "output_type": "execute_result"
    }
   ],
   "source": [
    "b[row]"
   ]
  },
  {
   "cell_type": "code",
   "execution_count": 124,
   "id": "neural-helen",
   "metadata": {
    "execution": {
     "iopub.execute_input": "2021-02-07T07:18:14.916215Z",
     "iopub.status.busy": "2021-02-07T07:18:14.915971Z",
     "iopub.status.idle": "2021-02-07T07:18:14.943223Z",
     "shell.execute_reply": "2021-02-07T07:18:14.942498Z",
     "shell.execute_reply.started": "2021-02-07T07:18:14.916189Z"
    }
   },
   "outputs": [
    {
     "data": {
      "text/plain": [
       "Vec({'slinky', 'hoop', 'putty', 'gnome', 'shooter'}, {'slinky': 0.9999999999999997, 'hoop': 0.0, 'putty': 0.6285714285714283, 'gnome': 0.0, 'shooter': 1.0})"
      ]
     },
     "execution_count": 124,
     "metadata": {},
     "output_type": "execute_result"
    }
   ],
   "source": [
    "othervec"
   ]
  },
  {
   "cell_type": "code",
   "execution_count": 125,
   "id": "smooth-dutch",
   "metadata": {
    "execution": {
     "iopub.execute_input": "2021-02-07T07:18:15.217605Z",
     "iopub.status.busy": "2021-02-07T07:18:15.217366Z",
     "iopub.status.idle": "2021-02-07T07:18:15.244067Z",
     "shell.execute_reply": "2021-02-07T07:18:15.243341Z",
     "shell.execute_reply.started": "2021-02-07T07:18:15.217579Z"
    }
   },
   "outputs": [
    {
     "data": {
      "text/plain": [
       "'electricity'"
      ]
     },
     "execution_count": 125,
     "metadata": {},
     "output_type": "execute_result"
    }
   ],
   "source": [
    "row"
   ]
  },
  {
   "cell_type": "code",
   "execution_count": 113,
   "id": "closing-anniversary",
   "metadata": {
    "execution": {
     "iopub.execute_input": "2021-02-07T07:15:44.104190Z",
     "iopub.status.busy": "2021-02-07T07:15:44.103948Z",
     "iopub.status.idle": "2021-02-07T07:15:44.130787Z",
     "shell.execute_reply": "2021-02-07T07:15:44.130058Z",
     "shell.execute_reply.started": "2021-02-07T07:15:44.104163Z"
    }
   },
   "outputs": [
    {
     "data": {
      "text/plain": [
       "323.5999999999999"
      ]
     },
     "execution_count": 113,
     "metadata": {},
     "output_type": "execute_result"
    }
   ],
   "source": [
    "b[row]"
   ]
  },
  {
   "cell_type": "code",
   "execution_count": 116,
   "id": "certified-karaoke",
   "metadata": {
    "execution": {
     "iopub.execute_input": "2021-02-07T07:15:58.391430Z",
     "iopub.status.busy": "2021-02-07T07:15:58.391184Z",
     "iopub.status.idle": "2021-02-07T07:15:58.417077Z",
     "shell.execute_reply": "2021-02-07T07:15:58.416378Z",
     "shell.execute_reply.started": "2021-02-07T07:15:58.391404Z"
    }
   },
   "outputs": [],
   "source": [
    "b[row] *= coef"
   ]
  },
  {
   "cell_type": "code",
   "execution_count": 117,
   "id": "processed-farmer",
   "metadata": {
    "execution": {
     "iopub.execute_input": "2021-02-07T07:16:00.415264Z",
     "iopub.status.busy": "2021-02-07T07:16:00.415036Z",
     "iopub.status.idle": "2021-02-07T07:16:00.437866Z",
     "shell.execute_reply": "2021-02-07T07:16:00.437268Z",
     "shell.execute_reply.started": "2021-02-07T07:16:00.415241Z"
    }
   },
   "outputs": [
    {
     "data": {
      "text/plain": [
       "0.15000000000000008"
      ]
     },
     "execution_count": 117,
     "metadata": {},
     "output_type": "execute_result"
    }
   ],
   "source": [
    "coef"
   ]
  },
  {
   "cell_type": "code",
   "execution_count": 119,
   "id": "about-liechtenstein",
   "metadata": {
    "execution": {
     "iopub.execute_input": "2021-02-07T07:16:06.241985Z",
     "iopub.status.busy": "2021-02-07T07:16:06.241751Z",
     "iopub.status.idle": "2021-02-07T07:16:06.267897Z",
     "shell.execute_reply": "2021-02-07T07:16:06.267126Z",
     "shell.execute_reply.started": "2021-02-07T07:16:06.241960Z"
    }
   },
   "outputs": [
    {
     "data": {
      "text/plain": [
       "48.54000000000001"
      ]
     },
     "execution_count": 119,
     "metadata": {},
     "output_type": "execute_result"
    }
   ],
   "source": [
    "b[row]"
   ]
  },
  {
   "cell_type": "code",
   "execution_count": 109,
   "id": "athletic-heather",
   "metadata": {
    "execution": {
     "iopub.execute_input": "2021-02-07T07:14:58.771130Z",
     "iopub.status.busy": "2021-02-07T07:14:58.770887Z",
     "iopub.status.idle": "2021-02-07T07:14:58.797610Z",
     "shell.execute_reply": "2021-02-07T07:14:58.796950Z",
     "shell.execute_reply.started": "2021-02-07T07:14:58.771104Z"
    }
   },
   "outputs": [
    {
     "data": {
      "text/plain": [
       "{'water': Vec({'slinky', 'hoop', 'putty', 'gnome', 'shooter'}, {'slinky': -0.06666666666666665, 'hoop': 0.0, 'putty': 0.4523809523809524, 'gnome': 0.0, 'shooter': 0.0}),\n",
       " 'concrete': Vec({'slinky', 'hoop', 'putty', 'gnome', 'shooter'}, {'slinky': 0.0, 'hoop': 0.0, 'putty': 0.0, 'gnome': 1.0, 'shooter': 0.0}),\n",
       " 'plastic': Vec({'slinky', 'hoop', 'putty', 'gnome', 'shooter'}, {'slinky': -0.3333333333333332, 'hoop': 1.0, 'putty': -0.009523809523809441, 'gnome': 0.0, 'shooter': 0.0}),\n",
       " 'metal': Vec({'slinky', 'hoop', 'putty', 'gnome', 'shooter'}, {'slinky': 0.09999999999999998, 'hoop': 0.0, 'putty': -0.0942857142857143, 'gnome': 0.0, 'shooter': 0.0}),\n",
       " 'electricity': Vec({'slinky', 'hoop', 'putty', 'gnome', 'shooter'}, {'slinky': 0.9999999999999997, 'hoop': 0.0, 'putty': 0.6285714285714283, 'gnome': 0.0, 'shooter': 1.0})}"
      ]
     },
     "execution_count": 109,
     "metadata": {},
     "output_type": "execute_result"
    }
   ],
   "source": [
    "rowdict"
   ]
  },
  {
   "cell_type": "code",
   "execution_count": 110,
   "id": "accredited-graph",
   "metadata": {
    "execution": {
     "iopub.execute_input": "2021-02-07T07:15:01.393524Z",
     "iopub.status.busy": "2021-02-07T07:15:01.393278Z",
     "iopub.status.idle": "2021-02-07T07:15:01.420750Z",
     "shell.execute_reply": "2021-02-07T07:15:01.420014Z",
     "shell.execute_reply.started": "2021-02-07T07:15:01.393497Z"
    }
   },
   "outputs": [
    {
     "data": {
      "text/plain": [
       "Vec({'water', 'concrete', 'plastic', 'metal', 'electricity'}, {'metal': 2.460000000000001, 'concrete': 239.99999999999997, 'water': 50.166666666666714, 'electricity': 323.5999999999999, 'plastic': 3.7333333333333627})"
      ]
     },
     "execution_count": 110,
     "metadata": {},
     "output_type": "execute_result"
    }
   ],
   "source": [
    "b"
   ]
  },
  {
   "cell_type": "code",
   "execution_count": 95,
   "id": "conservative-hughes",
   "metadata": {
    "execution": {
     "iopub.execute_input": "2021-02-07T07:11:23.665022Z",
     "iopub.status.busy": "2021-02-07T07:11:23.664783Z",
     "iopub.status.idle": "2021-02-07T07:11:23.691078Z",
     "shell.execute_reply": "2021-02-07T07:11:23.690309Z",
     "shell.execute_reply.started": "2021-02-07T07:11:23.664996Z"
    }
   },
   "outputs": [
    {
     "name": "stdout",
     "output_type": "stream",
     "text": [
      "slinky\n",
      "hoop\n",
      "putty\n",
      "gnome\n",
      "shooter\n"
     ]
    }
   ],
   "source": [
    "for col in C:\n",
    "    print(col)"
   ]
  },
  {
   "cell_type": "code",
   "execution_count": 111,
   "id": "increased-rotation",
   "metadata": {
    "execution": {
     "iopub.execute_input": "2021-02-07T07:15:08.820635Z",
     "iopub.status.busy": "2021-02-07T07:15:08.820396Z",
     "iopub.status.idle": "2021-02-07T07:15:08.847172Z",
     "shell.execute_reply": "2021-02-07T07:15:08.846517Z",
     "shell.execute_reply.started": "2021-02-07T07:15:08.820609Z"
    }
   },
   "outputs": [
    {
     "data": {
      "text/plain": [
       "{}"
      ]
     },
     "execution_count": 111,
     "metadata": {},
     "output_type": "execute_result"
    }
   ],
   "source": [
    "upper_triangle"
   ]
  },
  {
   "cell_type": "code",
   "execution_count": 98,
   "id": "provincial-peninsula",
   "metadata": {
    "execution": {
     "iopub.execute_input": "2021-02-07T07:11:28.774353Z",
     "iopub.status.busy": "2021-02-07T07:11:28.774134Z",
     "iopub.status.idle": "2021-02-07T07:11:28.796763Z",
     "shell.execute_reply": "2021-02-07T07:11:28.796189Z",
     "shell.execute_reply.started": "2021-02-07T07:11:28.774330Z"
    }
   },
   "outputs": [],
   "source": [
    "M2 = rowdict2mat(upper_triangle)"
   ]
  },
  {
   "cell_type": "code",
   "execution_count": 99,
   "id": "weekly-magnet",
   "metadata": {
    "execution": {
     "iopub.execute_input": "2021-02-07T07:11:29.064036Z",
     "iopub.status.busy": "2021-02-07T07:11:29.063794Z",
     "iopub.status.idle": "2021-02-07T07:11:29.093678Z",
     "shell.execute_reply": "2021-02-07T07:11:29.092938Z",
     "shell.execute_reply.started": "2021-02-07T07:11:29.064010Z"
    }
   },
   "outputs": [
    {
     "name": "stdout",
     "output_type": "stream",
     "text": [
      "             slinky      hoop     putty     gnome   shooter\n",
      "water           0.0  0.000000  1.000000  1.302505  0.134875\n",
      "metal          -0.0 -0.000000 -0.000000 -0.000000  1.000000\n",
      "concrete        0.0  0.000000  0.000000  1.000000  0.000000\n",
      "plastic         0.0  1.000000  0.200000  0.133333  0.333333\n",
      "electricity     1.0  0.428571  0.714286  0.571429  1.142857\n"
     ]
    }
   ],
   "source": [
    "print(M2)"
   ]
  },
  {
   "cell_type": "code",
   "execution_count": 100,
   "id": "grateful-computer",
   "metadata": {
    "execution": {
     "iopub.execute_input": "2021-02-07T07:11:39.185366Z",
     "iopub.status.busy": "2021-02-07T07:11:39.185120Z",
     "iopub.status.idle": "2021-02-07T07:11:39.211355Z",
     "shell.execute_reply": "2021-02-07T07:11:39.210627Z",
     "shell.execute_reply.started": "2021-02-07T07:11:39.185339Z"
    }
   },
   "outputs": [],
   "source": [
    "df = M2.to_pandas()"
   ]
  },
  {
   "cell_type": "code",
   "execution_count": 101,
   "id": "bulgarian-immunology",
   "metadata": {
    "execution": {
     "iopub.execute_input": "2021-02-07T07:11:39.378093Z",
     "iopub.status.busy": "2021-02-07T07:11:39.377816Z",
     "iopub.status.idle": "2021-02-07T07:11:39.409331Z",
     "shell.execute_reply": "2021-02-07T07:11:39.408482Z",
     "shell.execute_reply.started": "2021-02-07T07:11:39.378062Z"
    }
   },
   "outputs": [
    {
     "data": {
      "text/html": [
       "<div>\n",
       "<style scoped>\n",
       "    .dataframe tbody tr th:only-of-type {\n",
       "        vertical-align: middle;\n",
       "    }\n",
       "\n",
       "    .dataframe tbody tr th {\n",
       "        vertical-align: top;\n",
       "    }\n",
       "\n",
       "    .dataframe thead th {\n",
       "        text-align: right;\n",
       "    }\n",
       "</style>\n",
       "<table border=\"1\" class=\"dataframe\">\n",
       "  <thead>\n",
       "    <tr style=\"text-align: right;\">\n",
       "      <th></th>\n",
       "      <th>slinky</th>\n",
       "      <th>hoop</th>\n",
       "      <th>putty</th>\n",
       "      <th>gnome</th>\n",
       "      <th>shooter</th>\n",
       "    </tr>\n",
       "  </thead>\n",
       "  <tbody>\n",
       "    <tr>\n",
       "      <th>water</th>\n",
       "      <td>0.0</td>\n",
       "      <td>0.000000</td>\n",
       "      <td>1.000000</td>\n",
       "      <td>1.302505</td>\n",
       "      <td>0.134875</td>\n",
       "    </tr>\n",
       "    <tr>\n",
       "      <th>metal</th>\n",
       "      <td>-0.0</td>\n",
       "      <td>-0.000000</td>\n",
       "      <td>-0.000000</td>\n",
       "      <td>-0.000000</td>\n",
       "      <td>1.000000</td>\n",
       "    </tr>\n",
       "    <tr>\n",
       "      <th>concrete</th>\n",
       "      <td>0.0</td>\n",
       "      <td>0.000000</td>\n",
       "      <td>0.000000</td>\n",
       "      <td>1.000000</td>\n",
       "      <td>0.000000</td>\n",
       "    </tr>\n",
       "    <tr>\n",
       "      <th>plastic</th>\n",
       "      <td>0.0</td>\n",
       "      <td>1.000000</td>\n",
       "      <td>0.200000</td>\n",
       "      <td>0.133333</td>\n",
       "      <td>0.333333</td>\n",
       "    </tr>\n",
       "    <tr>\n",
       "      <th>electricity</th>\n",
       "      <td>1.0</td>\n",
       "      <td>0.428571</td>\n",
       "      <td>0.714286</td>\n",
       "      <td>0.571429</td>\n",
       "      <td>1.142857</td>\n",
       "    </tr>\n",
       "  </tbody>\n",
       "</table>\n",
       "</div>"
      ],
      "text/plain": [
       "             slinky      hoop     putty     gnome   shooter\n",
       "water           0.0  0.000000  1.000000  1.302505  0.134875\n",
       "metal          -0.0 -0.000000 -0.000000 -0.000000  1.000000\n",
       "concrete        0.0  0.000000  0.000000  1.000000  0.000000\n",
       "plastic         0.0  1.000000  0.200000  0.133333  0.333333\n",
       "electricity     1.0  0.428571  0.714286  0.571429  1.142857"
      ]
     },
     "execution_count": 101,
     "metadata": {},
     "output_type": "execute_result"
    }
   ],
   "source": [
    "df"
   ]
  },
  {
   "cell_type": "code",
   "execution_count": 102,
   "id": "framed-warren",
   "metadata": {
    "execution": {
     "iopub.execute_input": "2021-02-07T07:11:39.568522Z",
     "iopub.status.busy": "2021-02-07T07:11:39.568321Z",
     "iopub.status.idle": "2021-02-07T07:11:39.590181Z",
     "shell.execute_reply": "2021-02-07T07:11:39.589668Z",
     "shell.execute_reply.started": "2021-02-07T07:11:39.568501Z"
    }
   },
   "outputs": [
    {
     "data": {
      "text/plain": [
       "{'concrete', 'electricity', 'metal', 'plastic', 'water'}"
      ]
     },
     "execution_count": 102,
     "metadata": {},
     "output_type": "execute_result"
    }
   ],
   "source": [
    "M2.D[0]"
   ]
  },
  {
   "cell_type": "code",
   "execution_count": null,
   "id": "afraid-hunger",
   "metadata": {},
   "outputs": [],
   "source": []
  },
  {
   "cell_type": "code",
   "execution_count": 103,
   "id": "fluid-decade",
   "metadata": {
    "execution": {
     "iopub.execute_input": "2021-02-07T07:11:41.142638Z",
     "iopub.status.busy": "2021-02-07T07:11:41.142398Z",
     "iopub.status.idle": "2021-02-07T07:11:41.176017Z",
     "shell.execute_reply": "2021-02-07T07:11:41.175321Z",
     "shell.execute_reply.started": "2021-02-07T07:11:41.142611Z"
    }
   },
   "outputs": [
    {
     "data": {
      "text/html": [
       "<div>\n",
       "<style scoped>\n",
       "    .dataframe tbody tr th:only-of-type {\n",
       "        vertical-align: middle;\n",
       "    }\n",
       "\n",
       "    .dataframe tbody tr th {\n",
       "        vertical-align: top;\n",
       "    }\n",
       "\n",
       "    .dataframe thead th {\n",
       "        text-align: right;\n",
       "    }\n",
       "</style>\n",
       "<table border=\"1\" class=\"dataframe\">\n",
       "  <thead>\n",
       "    <tr style=\"text-align: right;\">\n",
       "      <th></th>\n",
       "      <th>slinky</th>\n",
       "      <th>hoop</th>\n",
       "      <th>putty</th>\n",
       "      <th>gnome</th>\n",
       "      <th>shooter</th>\n",
       "    </tr>\n",
       "  </thead>\n",
       "  <tbody>\n",
       "    <tr>\n",
       "      <th>electricity</th>\n",
       "      <td>1.0</td>\n",
       "      <td>0.428571</td>\n",
       "      <td>0.714286</td>\n",
       "      <td>0.571429</td>\n",
       "      <td>1.142857</td>\n",
       "    </tr>\n",
       "    <tr>\n",
       "      <th>plastic</th>\n",
       "      <td>0.0</td>\n",
       "      <td>1.000000</td>\n",
       "      <td>0.200000</td>\n",
       "      <td>0.133333</td>\n",
       "      <td>0.333333</td>\n",
       "    </tr>\n",
       "    <tr>\n",
       "      <th>water</th>\n",
       "      <td>0.0</td>\n",
       "      <td>0.000000</td>\n",
       "      <td>1.000000</td>\n",
       "      <td>1.302505</td>\n",
       "      <td>0.134875</td>\n",
       "    </tr>\n",
       "    <tr>\n",
       "      <th>concrete</th>\n",
       "      <td>0.0</td>\n",
       "      <td>0.000000</td>\n",
       "      <td>0.000000</td>\n",
       "      <td>1.000000</td>\n",
       "      <td>0.000000</td>\n",
       "    </tr>\n",
       "    <tr>\n",
       "      <th>metal</th>\n",
       "      <td>-0.0</td>\n",
       "      <td>-0.000000</td>\n",
       "      <td>-0.000000</td>\n",
       "      <td>-0.000000</td>\n",
       "      <td>1.000000</td>\n",
       "    </tr>\n",
       "  </tbody>\n",
       "</table>\n",
       "</div>"
      ],
      "text/plain": [
       "             slinky      hoop     putty     gnome   shooter\n",
       "electricity     1.0  0.428571  0.714286  0.571429  1.142857\n",
       "plastic         0.0  1.000000  0.200000  0.133333  0.333333\n",
       "water           0.0  0.000000  1.000000  1.302505  0.134875\n",
       "concrete        0.0  0.000000  0.000000  1.000000  0.000000\n",
       "metal          -0.0 -0.000000 -0.000000 -0.000000  1.000000"
      ]
     },
     "execution_count": 103,
     "metadata": {},
     "output_type": "execute_result"
    }
   ],
   "source": [
    "df.loc[list(upper_triangle.keys()) , :]"
   ]
  },
  {
   "cell_type": "code",
   "execution_count": 61,
   "id": "proved-sperm",
   "metadata": {
    "execution": {
     "iopub.execute_input": "2021-02-07T06:59:18.862172Z",
     "iopub.status.busy": "2021-02-07T06:59:18.861922Z",
     "iopub.status.idle": "2021-02-07T06:59:18.888293Z",
     "shell.execute_reply": "2021-02-07T06:59:18.887636Z",
     "shell.execute_reply.started": "2021-02-07T06:59:18.862144Z"
    }
   },
   "outputs": [
    {
     "data": {
      "text/plain": [
       "Vec({'water', 'concrete', 'plastic', 'metal', 'electricity'}, {'metal': -7.092485549132924, 'concrete': 312.0, 'water': 226.25428571428574, 'electricity': 356.0, 'plastic': 215.4})"
      ]
     },
     "execution_count": 61,
     "metadata": {},
     "output_type": "execute_result"
    }
   ],
   "source": [
    "b"
   ]
  },
  {
   "cell_type": "code",
   "execution_count": 63,
   "id": "cheap-landing",
   "metadata": {
    "execution": {
     "iopub.execute_input": "2021-02-07T06:49:03.950669Z",
     "iopub.status.busy": "2021-02-07T06:49:03.950464Z",
     "iopub.status.idle": "2021-02-07T06:49:03.973423Z",
     "shell.execute_reply": "2021-02-07T06:49:03.972639Z",
     "shell.execute_reply.started": "2021-02-07T06:49:03.950646Z"
    }
   },
   "outputs": [
    {
     "data": {
      "text/plain": [
       "({'concrete', 'electricity', 'metal', 'plastic', 'water'},\n",
       " {'gnome', 'hoop', 'putty', 'shooter', 'slinky'})"
      ]
     },
     "execution_count": 63,
     "metadata": {},
     "output_type": "execute_result"
    }
   ],
   "source": [
    "M2.D"
   ]
  },
  {
   "cell_type": "code",
   "execution_count": null,
   "id": "silent-delhi",
   "metadata": {},
   "outputs": [],
   "source": []
  },
  {
   "cell_type": "code",
   "execution_count": null,
   "id": "sophisticated-regard",
   "metadata": {},
   "outputs": [],
   "source": []
  },
  {
   "cell_type": "code",
   "execution_count": 210,
   "id": "special-fairy",
   "metadata": {},
   "outputs": [],
   "source": [
    "# coef\n",
    "coef = othervec[col]/rowvec[col]\n",
    "\n",
    "# update rowvec\n",
    "othervec -= coef * rowvec\n",
    "rowdict[other] = othervec\n",
    "\n",
    "# update b\n",
    "b[other] -= coef * b[row]"
   ]
  },
  {
   "cell_type": "code",
   "execution_count": 213,
   "id": "disabled-somewhere",
   "metadata": {},
   "outputs": [
    {
     "data": {
      "text/plain": [
       "Vec({'metal', 'concrete', 'water', 'electricity', 'plastic'}, {'metal': 51.0, 'concrete': 312.0, 'water': 373.1, 'electricity': 356.0, 'plastic': 215.4})"
      ]
     },
     "execution_count": 213,
     "metadata": {},
     "output_type": "execute_result"
    }
   ],
   "source": [
    "b"
   ]
  },
  {
   "cell_type": "code",
   "execution_count": 220,
   "id": "rental-victory",
   "metadata": {},
   "outputs": [
    {
     "data": {
      "text/plain": [
       "('electricity', 356.0, 'metal', 51.0)"
      ]
     },
     "execution_count": 220,
     "metadata": {},
     "output_type": "execute_result"
    }
   ],
   "source": [
    "row, b[row], other, b[other]"
   ]
  },
  {
   "cell_type": "code",
   "execution_count": 222,
   "id": "cheap-mistress",
   "metadata": {},
   "outputs": [],
   "source": []
  },
  {
   "cell_type": "code",
   "execution_count": 221,
   "id": "revolutionary-romantic",
   "metadata": {},
   "outputs": [
    {
     "data": {
      "text/plain": [
       "0.0"
      ]
     },
     "execution_count": 221,
     "metadata": {},
     "output_type": "execute_result"
    }
   ],
   "source": [
    "coef"
   ]
  },
  {
   "cell_type": "code",
   "execution_count": 219,
   "id": "apart-flight",
   "metadata": {},
   "outputs": [
    {
     "name": "stdout",
     "output_type": "stream",
     "text": [
      "             shooter  hoop  putty  slinky  gnome\n",
      "metal           0.15   0.0    0.0    0.25    0.0\n",
      "concrete        0.00   0.0    0.0    0.00    1.3\n",
      "water           0.40   0.4    0.7    0.20    0.8\n",
      "electricity     0.80   0.3    0.5    0.70    0.4\n",
      "plastic         0.50   1.5    0.3    0.00    0.2\n"
     ]
    }
   ],
   "source": [
    "print(A)"
   ]
  },
  {
   "cell_type": "code",
   "execution_count": 217,
   "id": "substantial-supplement",
   "metadata": {},
   "outputs": [
    {
     "data": {
      "text/plain": [
       "'shooter'"
      ]
     },
     "execution_count": 217,
     "metadata": {},
     "output_type": "execute_result"
    }
   ],
   "source": [
    "col"
   ]
  },
  {
   "cell_type": "code",
   "execution_count": 211,
   "id": "above-carol",
   "metadata": {},
   "outputs": [
    {
     "data": {
      "text/plain": [
       "'metal'"
      ]
     },
     "execution_count": 211,
     "metadata": {},
     "output_type": "execute_result"
    }
   ],
   "source": [
    "other"
   ]
  },
  {
   "cell_type": "code",
   "execution_count": 212,
   "id": "competent-survey",
   "metadata": {},
   "outputs": [
    {
     "data": {
      "text/plain": [
       "{'metal': Vec({'shooter', 'hoop', 'putty', 'slinky', 'gnome'}, {'shooter': 0.0, 'hoop': -0.05624999999999999, 'putty': -0.09374999999999999, 'slinky': 0.11875000000000002, 'gnome': -0.075}),\n",
       " 'concrete': Vec({'shooter', 'hoop', 'putty', 'slinky', 'gnome'}, {'shooter': 0, 'hoop': 0, 'putty': 0, 'slinky': 0, 'gnome': 1.3}),\n",
       " 'water': Vec({'shooter', 'hoop', 'putty', 'slinky', 'gnome'}, {'shooter': 0.4, 'hoop': 0.4, 'putty': 0.7, 'slinky': 0.2, 'gnome': 0.8}),\n",
       " 'plastic': Vec({'shooter', 'hoop', 'putty', 'slinky', 'gnome'}, {'shooter': 0.5, 'hoop': 1.5, 'putty': 0.3, 'slinky': 0, 'gnome': 0.2})}"
      ]
     },
     "execution_count": 212,
     "metadata": {},
     "output_type": "execute_result"
    }
   ],
   "source": [
    "rowdict"
   ]
  },
  {
   "cell_type": "code",
   "execution_count": null,
   "id": "sticky-throw",
   "metadata": {},
   "outputs": [],
   "source": []
  },
  {
   "cell_type": "code",
   "execution_count": 175,
   "id": "ranging-rhythm",
   "metadata": {},
   "outputs": [
    {
     "data": {
      "text/plain": [
       "Vec({'shooter', 'hoop', 'putty', 'slinky', 'gnome'}, {'shooter': 0, 'hoop': 0, 'putty': 0, 'slinky': 0, 'gnome': 1.3})"
      ]
     },
     "execution_count": 175,
     "metadata": {},
     "output_type": "execute_result"
    }
   ],
   "source": [
    "rowvec"
   ]
  },
  {
   "cell_type": "code",
   "execution_count": 173,
   "id": "british-indiana",
   "metadata": {},
   "outputs": [
    {
     "data": {
      "text/plain": [
       "Vec({'shooter', 'hoop', 'putty', 'slinky', 'gnome'}, {'shooter': 0.8, 'hoop': 0.3, 'putty': 0.5, 'slinky': 0.7, 'gnome': 0.4})"
      ]
     },
     "execution_count": 173,
     "metadata": {},
     "output_type": "execute_result"
    }
   ],
   "source": [
    "othervec"
   ]
  },
  {
   "cell_type": "code",
   "execution_count": 176,
   "id": "early-recipe",
   "metadata": {},
   "outputs": [
    {
     "data": {
      "text/plain": [
       "1.3"
      ]
     },
     "execution_count": 176,
     "metadata": {},
     "output_type": "execute_result"
    }
   ],
   "source": [
    "rowvec[col]"
   ]
  },
  {
   "cell_type": "code",
   "execution_count": 182,
   "id": "precise-restaurant",
   "metadata": {},
   "outputs": [
    {
     "data": {
      "text/plain": [
       "{'concrete': Vec({'shooter', 'hoop', 'putty', 'slinky', 'gnome'}, {'shooter': 0, 'hoop': 0, 'putty': 0, 'slinky': 0, 'gnome': 1.3}),\n",
       " 'electricity': Vec({'shooter', 'hoop', 'putty', 'slinky', 'gnome'}, {'shooter': 0.8, 'hoop': 0.3, 'putty': 0.5, 'slinky': 0.7, 'gnome': 0.4}),\n",
       " 'metal': Vec({'shooter', 'hoop', 'putty', 'slinky', 'gnome'}, {'shooter': 0.15, 'hoop': 0, 'putty': 0, 'slinky': 0.25, 'gnome': 0}),\n",
       " 'plastic': Vec({'shooter', 'hoop', 'putty', 'slinky', 'gnome'}, {'shooter': 0.5, 'hoop': 1.5, 'putty': 0.3, 'slinky': 0, 'gnome': 0.2}),\n",
       " 'water': Vec({'shooter', 'hoop', 'putty', 'slinky', 'gnome'}, {'shooter': 0.4, 'hoop': 0.4, 'putty': 0.7, 'slinky': 0.2, 'gnome': 0.8})}"
      ]
     },
     "execution_count": 182,
     "metadata": {},
     "output_type": "execute_result"
    }
   ],
   "source": [
    "rowdict"
   ]
  },
  {
   "cell_type": "code",
   "execution_count": null,
   "id": "initial-marsh",
   "metadata": {},
   "outputs": [],
   "source": []
  },
  {
   "cell_type": "code",
   "execution_count": null,
   "id": "integrated-belle",
   "metadata": {},
   "outputs": [],
   "source": []
  },
  {
   "cell_type": "code",
   "execution_count": null,
   "id": "accredited-guyana",
   "metadata": {},
   "outputs": [],
   "source": [
    "sol"
   ]
  },
  {
   "cell_type": "code",
   "execution_count": null,
   "id": "introductory-juvenile",
   "metadata": {},
   "outputs": [],
   "source": [
    "solver"
   ]
  },
  {
   "cell_type": "code",
   "execution_count": 105,
   "id": "tired-disabled",
   "metadata": {},
   "outputs": [
    {
     "data": {
      "text/plain": [
       "<code object solve at 0x16835e150, file \"../resources/private/solver.py\", line 186>"
      ]
     },
     "execution_count": 105,
     "metadata": {},
     "output_type": "execute_result"
    }
   ],
   "source": [
    "solver.solve.__code__"
   ]
  },
  {
   "cell_type": "code",
   "execution_count": 106,
   "id": "excited-assistant",
   "metadata": {},
   "outputs": [],
   "source": [
    "import inspect"
   ]
  },
  {
   "cell_type": "code",
   "execution_count": 108,
   "id": "smoking-potato",
   "metadata": {},
   "outputs": [
    {
     "data": {
      "text/plain": [
       "\u001b[0;31mSignature:\u001b[0m \u001b[0msolver\u001b[0m\u001b[0;34m.\u001b[0m\u001b[0msolve\u001b[0m\u001b[0;34m(\u001b[0m\u001b[0mA\u001b[0m\u001b[0;34m,\u001b[0m \u001b[0mb\u001b[0m\u001b[0;34m,\u001b[0m \u001b[0meps\u001b[0m\u001b[0;34m=\u001b[0m\u001b[0;36m1e-15\u001b[0m\u001b[0;34m)\u001b[0m\u001b[0;34m\u001b[0m\u001b[0m\n",
       "\u001b[0;31mDocstring:\u001b[0m\n",
       "Solve the matrix-vector equation Ax = b.\n",
       "\n",
       "If a solution to Ax = b does not exist, then the vector returned by\n",
       "solve(A, b) is not a solution.  Please verify that Ax = b.\n",
       "\n",
       "Args:\n",
       "    A: A matrix of type Mat.\n",
       "    b: A vector of type Vec.\n",
       "    eps: A threshold.  Optional.\n",
       "\n",
       "Returns:\n",
       "    x: A vector of type Vec.\n",
       "\n",
       "Raises:\n",
       "    AssertionError: An error occurs when A is not a matrix of type Mat.\n",
       "    AssertionError: An error occurs when b is not a vector of type Vec.\n",
       "    AssertionError: An error occurs when A.D[0] != b.D.\n",
       "\n",
       "Example 1: Solve Ax = b and verify that x is close to b.\n",
       ">>> from vec import Vec\n",
       ">>> from mat import Mat\n",
       ">>> A = mat.Mat(({0, 1, 2}, {0, 1}), {(0, 1): 2, (2, 0): 10, (1, 0): 3, (0, 0): 1, (1, 1): 4})\n",
       ">>> b = vec.Vec({0, 1, 2},{0: 1, 1: 5, 2: 30})\n",
       ">>> A.D[0] == b.D\n",
       "True\n",
       ">>> x = solve(A, b)\n",
       ">>> A.D[1] == x.D\n",
       "True\n",
       ">>> (b-A*x).is_almost_zero()\n",
       "True\n",
       "\n",
       "Example 2: Solve Ax = b and see that x is not a valid solution.\n",
       ">>> A = mat.Mat(({0, 1}, {0, 1}), {(1, 1): 1})\n",
       ">>> b = vec.Vec({0, 1},{0: 2, 1: 3})\n",
       ">>> A.D[0] == b.D\n",
       "True\n",
       ">>> x = solve(A, b)\n",
       ">>> A.D[1] == x.D\n",
       "True\n",
       ">>> (b-A*x).is_almost_zero()\n",
       "False\n",
       "\n",
       "Example 3: Solve when A and b are over GF(2).\n",
       ">>> from GF2 import one\n",
       ">>> A = Mat(({'a','b'},{'A','B'}), {('a','A'):one, ('a','B'):one, ('b','B'):one})\n",
       ">>> b = Vec({'a','b'}, {'a':one})\n",
       ">>> x = solve(A, b)\n",
       ">>> A*x==b\n",
       "True\n",
       ">>> (b-A*x).is_almost_zero()\n",
       "True\n",
       "\u001b[0;31mFile:\u001b[0m      ~/github.com/banbiossa/coding-the-matrix/resources/private/solver.py\n",
       "\u001b[0;31mType:\u001b[0m      function\n"
      ]
     },
     "metadata": {},
     "output_type": "display_data"
    }
   ],
   "source": [
    "solver.solve?"
   ]
  },
  {
   "cell_type": "code",
   "execution_count": 101,
   "id": "exterior-society",
   "metadata": {},
   "outputs": [
    {
     "data": {
      "text/plain": [
       "Vec({'metal', 'concrete', 'water', 'electricity', 'plastic'}, {'metal': 51.0, 'concrete': 312.0, 'water': 373.1, 'electricity': 356.0, 'plastic': 215.4})"
      ]
     },
     "execution_count": 101,
     "metadata": {},
     "output_type": "execute_result"
    }
   ],
   "source": [
    "b"
   ]
  },
  {
   "cell_type": "code",
   "execution_count": 102,
   "id": "several-clear",
   "metadata": {},
   "outputs": [
    {
     "data": {
      "text/plain": [
       "Mat(({'metal', 'concrete', 'water', 'electricity', 'plastic'}, {'shooter', 'hoop', 'putty', 'slinky', 'gnome'}), {('concrete', 'gnome'): 1.3, ('concrete', 'hoop'): 0, ('concrete', 'putty'): 0, ('concrete', 'shooter'): 0, ('concrete', 'slinky'): 0, ('electricity', 'gnome'): 0.4, ('electricity', 'hoop'): 0.3, ('electricity', 'putty'): 0.5, ('electricity', 'shooter'): 0.8, ('electricity', 'slinky'): 0.7, ('metal', 'gnome'): 0, ('metal', 'hoop'): 0, ('metal', 'putty'): 0, ('metal', 'shooter'): 0.15, ('metal', 'slinky'): 0.25, ('plastic', 'gnome'): 0.2, ('plastic', 'hoop'): 1.5, ('plastic', 'putty'): 0.3, ('plastic', 'shooter'): 0.5, ('plastic', 'slinky'): 0, ('water', 'gnome'): 0.8, ('water', 'hoop'): 0.4, ('water', 'putty'): 0.7, ('water', 'shooter'): 0.4, ('water', 'slinky'): 0.2})"
      ]
     },
     "execution_count": 102,
     "metadata": {},
     "output_type": "execute_result"
    }
   ],
   "source": [
    "M.transpose()"
   ]
  },
  {
   "cell_type": "code",
   "execution_count": 97,
   "id": "scientific-imagination",
   "metadata": {},
   "outputs": [
    {
     "data": {
      "text/plain": [
       "Vec({'metal', 'concrete', 'water', 'electricity', 'plastic'}, {'metal': 51.0, 'concrete': 312.0, 'water': 373.1, 'electricity': 356.0, 'plastic': 215.4})"
      ]
     },
     "execution_count": 97,
     "metadata": {},
     "output_type": "execute_result"
    }
   ],
   "source": []
  },
  {
   "cell_type": "code",
   "execution_count": null,
   "id": "solar-zealand",
   "metadata": {},
   "outputs": [],
   "source": [
    "solution"
   ]
  },
  {
   "cell_type": "code",
   "execution_count": null,
   "id": "dependent-savage",
   "metadata": {},
   "outputs": [],
   "source": [
    "residual = b - solution * M"
   ]
  },
  {
   "cell_type": "code",
   "execution_count": null,
   "id": "incomplete-killer",
   "metadata": {},
   "outputs": [],
   "source": [
    "assert residual * residual < 1e-10"
   ]
  },
  {
   "cell_type": "code",
   "execution_count": 49,
   "id": "occupied-insight",
   "metadata": {
    "execution": {
     "iopub.execute_input": "2021-02-06T10:12:21.083996Z",
     "iopub.status.busy": "2021-02-06T10:12:21.083738Z",
     "iopub.status.idle": "2021-02-06T10:12:21.114158Z",
     "shell.execute_reply": "2021-02-06T10:12:21.113071Z",
     "shell.execute_reply.started": "2021-02-06T10:12:21.083970Z"
    }
   },
   "outputs": [
    {
     "name": "stdout",
     "output_type": "stream",
     "text": [
      "         metal  concrete  water  electricity  plastic\n",
      "hoop      0.00       0.0    0.4          0.3      1.5\n",
      "gnome     0.00       1.3    0.8          0.4      0.2\n",
      "putty     0.00       0.0    0.7          0.5      0.3\n",
      "slinky    0.25       0.0    0.2          0.7      0.0\n",
      "shooter   0.15       0.0    0.4          0.8      0.5\n"
     ]
    }
   ],
   "source": [
    "print(M)"
   ]
  },
  {
   "cell_type": "code",
   "execution_count": null,
   "id": "polyphonic-scratch",
   "metadata": {},
   "outputs": [],
   "source": [
    "M.tra"
   ]
  },
  {
   "cell_type": "code",
   "execution_count": 50,
   "id": "straight-mills",
   "metadata": {},
   "outputs": [],
   "source": [
    "M = coldict2mat({0:Vec({0,1},{0:1,1:2}),1:Vec({0,1},{0:3,1:4})})"
   ]
  },
  {
   "cell_type": "code",
   "execution_count": 54,
   "id": "extensive-probability",
   "metadata": {},
   "outputs": [],
   "source": [
    "b = Vec({0, 1}, {0: 5, 1: 6})"
   ]
  },
  {
   "cell_type": "code",
   "execution_count": 57,
   "id": "yellow-conversion",
   "metadata": {},
   "outputs": [
    {
     "data": {
      "text/plain": [
       "Vec({0, 1}, {0: 5, 1: 6})"
      ]
     },
     "execution_count": 57,
     "metadata": {},
     "output_type": "execute_result"
    }
   ],
   "source": [
    "b"
   ]
  },
  {
   "cell_type": "code",
   "execution_count": 53,
   "id": "macro-gothic",
   "metadata": {},
   "outputs": [
    {
     "data": {
      "text/plain": [
       "({0, 1}, {0, 1})"
      ]
     },
     "execution_count": 53,
     "metadata": {},
     "output_type": "execute_result"
    }
   ],
   "source": [
    "M.D"
   ]
  },
  {
   "cell_type": "code",
   "execution_count": 52,
   "id": "broke-butler",
   "metadata": {},
   "outputs": [
    {
     "name": "stdout",
     "output_type": "stream",
     "text": [
      "   0  1\n",
      "0  1  3\n",
      "1  2  4\n"
     ]
    }
   ],
   "source": [
    "print(M)"
   ]
  },
  {
   "cell_type": "code",
   "execution_count": 61,
   "id": "cultural-wrist",
   "metadata": {},
   "outputs": [],
   "source": [
    "rowdict = mat2rowdict(M)"
   ]
  },
  {
   "cell_type": "code",
   "execution_count": 62,
   "id": "adapted-arrangement",
   "metadata": {},
   "outputs": [
    {
     "data": {
      "text/plain": [
       "{0: Vec({0, 1}, {0: 1, 1: 3}), 1: Vec({0, 1}, {0: 2, 1: 4})}"
      ]
     },
     "execution_count": 62,
     "metadata": {},
     "output_type": "execute_result"
    }
   ],
   "source": [
    "rowdict"
   ]
  },
  {
   "cell_type": "code",
   "execution_count": 78,
   "id": "foreign-arbor",
   "metadata": {},
   "outputs": [],
   "source": [
    "R = sorted(M.D[0])\n",
    "C = sorted(M.D[1])"
   ]
  },
  {
   "cell_type": "code",
   "execution_count": 80,
   "id": "coordinated-procurement",
   "metadata": {},
   "outputs": [
    {
     "data": {
      "text/plain": [
       "[0, 1]"
      ]
     },
     "execution_count": 80,
     "metadata": {},
     "output_type": "execute_result"
    }
   ],
   "source": [
    "C"
   ]
  },
  {
   "cell_type": "code",
   "execution_count": 79,
   "id": "ranking-parcel",
   "metadata": {},
   "outputs": [],
   "source": [
    "vec = rowdict[R[0]]"
   ]
  },
  {
   "cell_type": "code",
   "execution_count": 74,
   "id": "decimal-withdrawal",
   "metadata": {},
   "outputs": [
    {
     "data": {
      "text/plain": [
       "Vec({0, 1}, {0: 1, 1: 3})"
      ]
     },
     "execution_count": 74,
     "metadata": {},
     "output_type": "execute_result"
    }
   ],
   "source": [
    "vec"
   ]
  },
  {
   "cell_type": "code",
   "execution_count": null,
   "id": "greater-sampling",
   "metadata": {},
   "outputs": [],
   "source": [
    "# get a vec\n",
    "# get the domain of the vec\n",
    "# get a "
   ]
  },
  {
   "cell_type": "code",
   "execution_count": null,
   "id": "legendary-arctic",
   "metadata": {},
   "outputs": [],
   "source": []
  },
  {
   "cell_type": "code",
   "execution_count": null,
   "id": "accessible-rough",
   "metadata": {},
   "outputs": [],
   "source": []
  },
  {
   "cell_type": "code",
   "execution_count": 14,
   "id": "cultural-joining",
   "metadata": {
    "execution": {
     "iopub.execute_input": "2021-02-03T13:25:54.128140Z",
     "iopub.status.busy": "2021-02-03T13:25:54.127890Z",
     "iopub.status.idle": "2021-02-03T13:25:54.154776Z",
     "shell.execute_reply": "2021-02-03T13:25:54.153901Z",
     "shell.execute_reply.started": "2021-02-03T13:25:54.128113Z"
    }
   },
   "outputs": [
    {
     "name": "stdout",
     "output_type": "stream",
     "text": [
      "('a', '@'): ,\n",
      "('a', '#'): ,\n",
      "('a', '?'): ,\n",
      "('b', '@'): ,\n",
      "('b', '#'): ,\n",
      "('b', '?'): ,\n"
     ]
    }
   ],
   "source": [
    "import itertools\n",
    "for r, c in itertools.product(*D):\n",
    "    print(f\"('{r}', '{c}'): ,\")"
   ]
  },
  {
   "cell_type": "code",
   "execution_count": 7,
   "id": "sensitive-portrait",
   "metadata": {
    "execution": {
     "iopub.execute_input": "2021-02-03T13:24:09.444793Z",
     "iopub.status.busy": "2021-02-03T13:24:09.444554Z",
     "iopub.status.idle": "2021-02-03T13:24:09.472347Z",
     "shell.execute_reply": "2021-02-03T13:24:09.471488Z",
     "shell.execute_reply.started": "2021-02-03T13:24:09.444767Z"
    }
   },
   "outputs": [],
   "source": [
    "D = ({'a', 'b'}, {'@', '#', '?'})"
   ]
  },
  {
   "cell_type": "code",
   "execution_count": 12,
   "id": "spoken-penalty",
   "metadata": {
    "execution": {
     "iopub.execute_input": "2021-02-03T13:25:44.829319Z",
     "iopub.status.busy": "2021-02-03T13:25:44.829065Z",
     "iopub.status.idle": "2021-02-03T13:25:44.855801Z",
     "shell.execute_reply": "2021-02-03T13:25:44.855031Z",
     "shell.execute_reply.started": "2021-02-03T13:25:44.829290Z"
    }
   },
   "outputs": [],
   "source": [
    "f = {\n",
    "    (\"a\", \"@\"): 1,\n",
    "    (\"a\", \"#\"): 2,\n",
    "    (\"a\", \"?\"): 3,\n",
    "    (\"b\", \"@\"): 10,\n",
    "    (\"b\", \"#\"): 20,\n",
    "    (\"b\", \"?\"): 30,\n",
    "}"
   ]
  },
  {
   "cell_type": "code",
   "execution_count": 13,
   "id": "future-newfoundland",
   "metadata": {
    "execution": {
     "iopub.execute_input": "2021-02-03T13:25:48.985926Z",
     "iopub.status.busy": "2021-02-03T13:25:48.985685Z",
     "iopub.status.idle": "2021-02-03T13:25:49.014776Z",
     "shell.execute_reply": "2021-02-03T13:25:49.013878Z",
     "shell.execute_reply.started": "2021-02-03T13:25:48.985899Z"
    }
   },
   "outputs": [],
   "source": [
    "M = Mat(D, f)"
   ]
  },
  {
   "cell_type": "code",
   "execution_count": 6,
   "id": "bearing-portfolio",
   "metadata": {
    "execution": {
     "iopub.execute_input": "2021-02-03T13:23:39.065325Z",
     "iopub.status.busy": "2021-02-03T13:23:39.065075Z",
     "iopub.status.idle": "2021-02-03T13:23:39.091019Z",
     "shell.execute_reply": "2021-02-03T13:23:39.090314Z",
     "shell.execute_reply.started": "2021-02-03T13:23:39.065298Z"
    }
   },
   "outputs": [],
   "source": []
  },
  {
   "cell_type": "code",
   "execution_count": 31,
   "id": "difficult-cartoon",
   "metadata": {
    "execution": {
     "iopub.execute_input": "2021-02-03T13:31:09.979247Z",
     "iopub.status.busy": "2021-02-03T13:31:09.978986Z",
     "iopub.status.idle": "2021-02-03T13:31:10.006379Z",
     "shell.execute_reply": "2021-02-03T13:31:10.005521Z",
     "shell.execute_reply.started": "2021-02-03T13:31:09.979217Z"
    }
   },
   "outputs": [],
   "source": [
    "def mat2rowdict(M):\n",
    "    \"\"\"return the rowdict representation of M\"\"\"\n",
    "    R, C = M.D\n",
    "    return {r: Vec(C, {c: M.f[(r, c)] for c in C}) for r in R}"
   ]
  },
  {
   "cell_type": "code",
   "execution_count": 32,
   "id": "intelligent-istanbul",
   "metadata": {
    "execution": {
     "iopub.execute_input": "2021-02-03T13:31:20.058226Z",
     "iopub.status.busy": "2021-02-03T13:31:20.057975Z",
     "iopub.status.idle": "2021-02-03T13:31:20.086372Z",
     "shell.execute_reply": "2021-02-03T13:31:20.085512Z",
     "shell.execute_reply.started": "2021-02-03T13:31:20.058198Z"
    }
   },
   "outputs": [
    {
     "data": {
      "text/plain": [
       "{'a': Vec({'@', '#', '?'}, {'@': 1, '#': 2, '?': 3}),\n",
       " 'b': Vec({'@', '#', '?'}, {'@': 10, '#': 20, '?': 30})}"
      ]
     },
     "execution_count": 32,
     "metadata": {},
     "output_type": "execute_result"
    }
   ],
   "source": [
    "mat2rowdict(M)"
   ]
  },
  {
   "cell_type": "code",
   "execution_count": 33,
   "id": "hundred-cover",
   "metadata": {
    "execution": {
     "iopub.execute_input": "2021-02-03T13:32:46.309348Z",
     "iopub.status.busy": "2021-02-03T13:32:46.309090Z",
     "iopub.status.idle": "2021-02-03T13:32:46.336632Z",
     "shell.execute_reply": "2021-02-03T13:32:46.335671Z",
     "shell.execute_reply.started": "2021-02-03T13:32:46.309319Z"
    }
   },
   "outputs": [],
   "source": [
    "def mat2coldict(M):\n",
    "    \"\"\"return the coldict representation of M\"\"\"\n",
    "    R, C = M.D\n",
    "    return {c: Vec(R, {r: M.f[(r, c)] for r in R}) for c in C}"
   ]
  },
  {
   "cell_type": "code",
   "execution_count": 34,
   "id": "czech-hypothesis",
   "metadata": {
    "execution": {
     "iopub.execute_input": "2021-02-03T13:32:51.022435Z",
     "iopub.status.busy": "2021-02-03T13:32:51.022166Z",
     "iopub.status.idle": "2021-02-03T13:32:51.050175Z",
     "shell.execute_reply": "2021-02-03T13:32:51.049509Z",
     "shell.execute_reply.started": "2021-02-03T13:32:51.022406Z"
    }
   },
   "outputs": [
    {
     "data": {
      "text/plain": [
       "{'@': Vec({'a', 'b'}, {'a': 1, 'b': 10}),\n",
       " '#': Vec({'a', 'b'}, {'a': 2, 'b': 20}),\n",
       " '?': Vec({'a', 'b'}, {'a': 3, 'b': 30})}"
      ]
     },
     "execution_count": 34,
     "metadata": {},
     "output_type": "execute_result"
    }
   ],
   "source": [
    "mat2coldict(M)"
   ]
  },
  {
   "cell_type": "code",
   "execution_count": null,
   "id": "animal-naples",
   "metadata": {},
   "outputs": [],
   "source": []
  },
  {
   "cell_type": "code",
   "execution_count": null,
   "id": "blank-portugal",
   "metadata": {},
   "outputs": [],
   "source": []
  },
  {
   "cell_type": "code",
   "execution_count": null,
   "id": "champion-seventh",
   "metadata": {},
   "outputs": [],
   "source": []
  },
  {
   "cell_type": "code",
   "execution_count": null,
   "id": "treated-defeat",
   "metadata": {},
   "outputs": [],
   "source": []
  }
 ],
 "metadata": {
  "kernelspec": {
   "display_name": "Python 3",
   "language": "python",
   "name": "python3"
  },
  "language_info": {
   "codemirror_mode": {
    "name": "ipython",
    "version": 3
   },
   "file_extension": ".py",
   "mimetype": "text/x-python",
   "name": "python",
   "nbconvert_exporter": "python",
   "pygments_lexer": "ipython3",
   "version": "3.9.0"
  }
 },
 "nbformat": 4,
 "nbformat_minor": 5
}
