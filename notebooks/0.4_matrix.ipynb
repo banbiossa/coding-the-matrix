{
 "cells": [
  {
   "cell_type": "markdown",
   "id": "sealed-vinyl",
   "metadata": {},
   "source": [
    "# 0.4_matrix"
   ]
  },
  {
   "cell_type": "code",
   "execution_count": 28,
   "id": "detected-friendly",
   "metadata": {
    "execution": {
     "iopub.execute_input": "2021-02-06T09:52:09.756614Z",
     "iopub.status.busy": "2021-02-06T09:52:09.756374Z",
     "iopub.status.idle": "2021-02-06T09:52:09.792349Z",
     "shell.execute_reply": "2021-02-06T09:52:09.791044Z",
     "shell.execute_reply.started": "2021-02-06T09:52:09.756588Z"
    }
   },
   "outputs": [
    {
     "name": "stdout",
     "output_type": "stream",
     "text": [
      "The autoreload extension is already loaded. To reload it, use:\n",
      "  %reload_ext autoreload\n",
      "The blackcellmagic extension is already loaded. To reload it, use:\n",
      "  %reload_ext blackcellmagic\n"
     ]
    }
   ],
   "source": [
    "%load_ext autoreload\n",
    "%autoreload 2\n",
    "%matplotlib inline\n",
    "%load_ext blackcellmagic\n",
    "\n",
    "import pandas as pd\n",
    "import numpy as np\n",
    "import seaborn as sns\n",
    "import matplotlib.pyplot as plt\n",
    "\n",
    "def nrows(n):\n",
    "    pd.options.display.max_rows = n\n",
    "\n",
    "nrows(5)\n",
    "\n",
    "import itertools\n",
    "from coding_the_matrix.Vec import Vec\n",
    "from coding_the_matrix.Mat import Mat\n",
    "from coding_the_matrix.matutil import listlist2mat, value, keys, coldict2mat, rowdict2mat\n",
    "from coding_the_matrix.vecutil import *\n",
    "from coding_the_matrix.GF2 import *"
   ]
  },
  {
   "cell_type": "code",
   "execution_count": 2,
   "id": "clear-luther",
   "metadata": {
    "execution": {
     "iopub.execute_input": "2021-02-06T09:18:02.502570Z",
     "iopub.status.busy": "2021-02-06T09:18:02.502395Z",
     "iopub.status.idle": "2021-02-06T09:18:02.524467Z",
     "shell.execute_reply": "2021-02-06T09:18:02.523731Z",
     "shell.execute_reply.started": "2021-02-06T09:18:02.502549Z"
    }
   },
   "outputs": [],
   "source": [
    "A = listlist2mat([[10, 20, 30, 40], [50, 60, 70, 80]])"
   ]
  },
  {
   "cell_type": "code",
   "execution_count": 3,
   "id": "preceding-encoding",
   "metadata": {
    "execution": {
     "iopub.execute_input": "2021-02-06T09:18:02.526100Z",
     "iopub.status.busy": "2021-02-06T09:18:02.525901Z",
     "iopub.status.idle": "2021-02-06T09:18:02.567949Z",
     "shell.execute_reply": "2021-02-06T09:18:02.567294Z",
     "shell.execute_reply.started": "2021-02-06T09:18:02.526077Z"
    }
   },
   "outputs": [
    {
     "name": "stdout",
     "output_type": "stream",
     "text": [
      "    0   1   2   3\n",
      "0  10  20  30  40\n",
      "1  50  60  70  80\n"
     ]
    }
   ],
   "source": [
    "print(A)"
   ]
  },
  {
   "cell_type": "code",
   "execution_count": 4,
   "id": "forced-mainstream",
   "metadata": {
    "execution": {
     "iopub.execute_input": "2021-02-06T09:18:02.569405Z",
     "iopub.status.busy": "2021-02-06T09:18:02.569187Z",
     "iopub.status.idle": "2021-02-06T09:18:02.594924Z",
     "shell.execute_reply": "2021-02-06T09:18:02.594095Z",
     "shell.execute_reply.started": "2021-02-06T09:18:02.569380Z"
    }
   },
   "outputs": [],
   "source": [
    "def mat2Vec(M):\n",
    "    R, C = M.D\n",
    "    return Vec({(r,c) for r in R for c in C}, M.f) "
   ]
  },
  {
   "cell_type": "code",
   "execution_count": 5,
   "id": "talented-winner",
   "metadata": {
    "execution": {
     "iopub.execute_input": "2021-02-06T09:18:02.596451Z",
     "iopub.status.busy": "2021-02-06T09:18:02.596241Z",
     "iopub.status.idle": "2021-02-06T09:18:02.622119Z",
     "shell.execute_reply": "2021-02-06T09:18:02.621166Z",
     "shell.execute_reply.started": "2021-02-06T09:18:02.596427Z"
    }
   },
   "outputs": [],
   "source": [
    "def tranpose(M):\n",
    "    R, C = M.D\n",
    "    D = (C, R)\n",
    "    f = {(c, r): v for (r, c), v in M.f.items()}\n",
    "    return Mat(D, f)"
   ]
  },
  {
   "cell_type": "code",
   "execution_count": 6,
   "id": "noticed-client",
   "metadata": {
    "execution": {
     "iopub.execute_input": "2021-02-06T09:18:02.625323Z",
     "iopub.status.busy": "2021-02-06T09:18:02.625057Z",
     "iopub.status.idle": "2021-02-06T09:18:02.653015Z",
     "shell.execute_reply": "2021-02-06T09:18:02.652394Z",
     "shell.execute_reply.started": "2021-02-06T09:18:02.625291Z"
    }
   },
   "outputs": [
    {
     "name": "stdout",
     "output_type": "stream",
     "text": [
      "    0   1\n",
      "0  10  50\n",
      "1  20  60\n",
      "2  30  70\n",
      "3  40  80\n"
     ]
    }
   ],
   "source": [
    "print(tranpose(A))"
   ]
  },
  {
   "cell_type": "code",
   "execution_count": 19,
   "id": "integrated-adjustment",
   "metadata": {
    "execution": {
     "iopub.execute_input": "2021-02-06T09:51:58.493101Z",
     "iopub.status.busy": "2021-02-06T09:51:58.492863Z",
     "iopub.status.idle": "2021-02-06T09:51:58.520001Z",
     "shell.execute_reply": "2021-02-06T09:51:58.519324Z",
     "shell.execute_reply.started": "2021-02-06T09:51:58.493075Z"
    }
   },
   "outputs": [],
   "source": [
    "def button_vectors(n):\n",
    "    D = {(x, y) for x, y in itertools.product(range(n), range(n))}\n",
    "    vecdict = {\n",
    "        (i, j): Vec(\n",
    "            D,\n",
    "            dict([((x, j), one) for x in range(max(i - 1, 0), min(i + 2, n))]) | \n",
    "            dict([((i, y), one) for y in range(max(j - 1, 0), min(j + 2, n))]),\n",
    "        )\n",
    "        for (i, j) in D\n",
    "    }\n",
    "    return vecdict"
   ]
  },
  {
   "cell_type": "code",
   "execution_count": 20,
   "id": "greater-distinction",
   "metadata": {
    "execution": {
     "iopub.execute_input": "2021-02-06T09:51:58.649209Z",
     "iopub.status.busy": "2021-02-06T09:51:58.648977Z",
     "iopub.status.idle": "2021-02-06T09:51:58.673707Z",
     "shell.execute_reply": "2021-02-06T09:51:58.673026Z",
     "shell.execute_reply.started": "2021-02-06T09:51:58.649184Z"
    }
   },
   "outputs": [],
   "source": [
    "vectors = button_vectors(5)"
   ]
  },
  {
   "cell_type": "code",
   "execution_count": 21,
   "id": "seeing-championship",
   "metadata": {
    "execution": {
     "iopub.execute_input": "2021-02-06T09:51:58.799792Z",
     "iopub.status.busy": "2021-02-06T09:51:58.799563Z",
     "iopub.status.idle": "2021-02-06T09:51:58.825359Z",
     "shell.execute_reply": "2021-02-06T09:51:58.824689Z",
     "shell.execute_reply.started": "2021-02-06T09:51:58.799767Z"
    }
   },
   "outputs": [
    {
     "data": {
      "text/plain": [
       "Vec({(4, 0), (3, 4), (4, 3), (3, 1), (0, 2), (2, 2), (1, 0), (1, 3), (4, 2), (3, 0), (3, 3), (0, 1), (2, 4), (1, 2), (0, 4), (2, 1), (3, 2), (4, 1), (4, 4), (0, 0), (1, 1), (0, 3), (2, 0), (1, 4), (2, 3)}, {(3, 0): 1, (4, 0): 1, (4, 1): 1})"
      ]
     },
     "execution_count": 21,
     "metadata": {},
     "output_type": "execute_result"
    }
   ],
   "source": [
    "value(vectors)"
   ]
  },
  {
   "cell_type": "code",
   "execution_count": 22,
   "id": "convenient-generic",
   "metadata": {
    "execution": {
     "iopub.execute_input": "2021-02-06T09:51:58.963533Z",
     "iopub.status.busy": "2021-02-06T09:51:58.963301Z",
     "iopub.status.idle": "2021-02-06T09:51:58.988948Z",
     "shell.execute_reply": "2021-02-06T09:51:58.988246Z",
     "shell.execute_reply.started": "2021-02-06T09:51:58.963507Z"
    }
   },
   "outputs": [
    {
     "data": {
      "text/plain": [
       "dict_keys([(4, 0), (3, 4), (4, 3), (3, 1), (0, 2), (2, 2), (1, 0), (1, 3), (4, 2), (3, 0), (3, 3), (0, 1), (2, 4), (1, 2), (0, 4), (2, 1), (3, 2), (4, 1), (4, 4), (0, 0), (1, 1), (0, 3), (2, 0), (1, 4), (2, 3)])"
      ]
     },
     "execution_count": 22,
     "metadata": {},
     "output_type": "execute_result"
    }
   ],
   "source": [
    "keys(vectors)"
   ]
  },
  {
   "cell_type": "code",
   "execution_count": 23,
   "id": "thousand-graphic",
   "metadata": {
    "execution": {
     "iopub.execute_input": "2021-02-06T09:51:59.165101Z",
     "iopub.status.busy": "2021-02-06T09:51:59.164871Z",
     "iopub.status.idle": "2021-02-06T09:51:59.190953Z",
     "shell.execute_reply": "2021-02-06T09:51:59.189954Z",
     "shell.execute_reply.started": "2021-02-06T09:51:59.165076Z"
    }
   },
   "outputs": [
    {
     "data": {
      "text/plain": [
       "25"
      ]
     },
     "execution_count": 23,
     "metadata": {},
     "output_type": "execute_result"
    }
   ],
   "source": [
    "len(vectors)"
   ]
  },
  {
   "cell_type": "code",
   "execution_count": 24,
   "id": "deadly-british",
   "metadata": {
    "execution": {
     "iopub.execute_input": "2021-02-06T09:51:59.303894Z",
     "iopub.status.busy": "2021-02-06T09:51:59.303694Z",
     "iopub.status.idle": "2021-02-06T09:51:59.325142Z",
     "shell.execute_reply": "2021-02-06T09:51:59.324374Z",
     "shell.execute_reply.started": "2021-02-06T09:51:59.303872Z"
    }
   },
   "outputs": [],
   "source": [
    "b = vectors[(0, 0)]"
   ]
  },
  {
   "cell_type": "code",
   "execution_count": 25,
   "id": "finite-potential",
   "metadata": {
    "execution": {
     "iopub.execute_input": "2021-02-06T09:51:59.446154Z",
     "iopub.status.busy": "2021-02-06T09:51:59.445921Z",
     "iopub.status.idle": "2021-02-06T09:51:59.471998Z",
     "shell.execute_reply": "2021-02-06T09:51:59.471234Z",
     "shell.execute_reply.started": "2021-02-06T09:51:59.446128Z"
    }
   },
   "outputs": [
    {
     "data": {
      "text/plain": [
       "{4: 1}"
      ]
     },
     "execution_count": 25,
     "metadata": {},
     "output_type": "execute_result"
    }
   ],
   "source": [
    "dict([(4, 3)]) | dict([(4, 1)])"
   ]
  },
  {
   "cell_type": "code",
   "execution_count": 29,
   "id": "fantastic-trace",
   "metadata": {
    "execution": {
     "iopub.execute_input": "2021-02-06T09:52:14.280252Z",
     "iopub.status.busy": "2021-02-06T09:52:14.280002Z",
     "iopub.status.idle": "2021-02-06T09:52:14.306054Z",
     "shell.execute_reply": "2021-02-06T09:52:14.305128Z",
     "shell.execute_reply.started": "2021-02-06T09:52:14.280224Z"
    }
   },
   "outputs": [],
   "source": [
    "B = coldict2mat(button_vectors(5))"
   ]
  },
  {
   "cell_type": "code",
   "execution_count": 30,
   "id": "finished-market",
   "metadata": {
    "execution": {
     "iopub.execute_input": "2021-02-06T09:52:14.412164Z",
     "iopub.status.busy": "2021-02-06T09:52:14.411925Z",
     "iopub.status.idle": "2021-02-06T09:52:14.436326Z",
     "shell.execute_reply": "2021-02-06T09:52:14.435498Z",
     "shell.execute_reply.started": "2021-02-06T09:52:14.412139Z"
    }
   },
   "outputs": [],
   "source": [
    "s = Vec(b.D, {(2, 2): one})"
   ]
  },
  {
   "cell_type": "markdown",
   "id": "artificial-prediction",
   "metadata": {},
   "source": [
    "## Gnome"
   ]
  },
  {
   "cell_type": "code",
   "execution_count": 31,
   "id": "rapid-optimization",
   "metadata": {
    "execution": {
     "iopub.execute_input": "2021-02-06T09:52:16.243724Z",
     "iopub.status.busy": "2021-02-06T09:52:16.243472Z",
     "iopub.status.idle": "2021-02-06T09:52:16.271217Z",
     "shell.execute_reply": "2021-02-06T09:52:16.270521Z",
     "shell.execute_reply.started": "2021-02-06T09:52:16.243697Z"
    }
   },
   "outputs": [],
   "source": [
    "D = {'metal', 'concrete', 'plastic', 'water', 'electricity'}\n",
    "v_gnome = Vec(D, {'concrete': 1.3, 'plastic': .2, 'water': .8, 'electricity': .4})\n",
    "v_hoop = Vec(D, {'plastic': 1.5, 'water': .4, 'electricity': .3})\n",
    "v_slinky = Vec(D, {'metal': .25, 'water': .2, 'electricity': .7})\n",
    "v_putty = Vec(D, {'plastic': .3, 'water': .7, 'electricity': .5})\n",
    "v_shooter = Vec(D, {'metal': .15, 'plastic': .5, 'water': .4, 'electricity': .8})"
   ]
  },
  {
   "cell_type": "code",
   "execution_count": 32,
   "id": "unauthorized-intranet",
   "metadata": {
    "execution": {
     "iopub.execute_input": "2021-02-06T09:52:16.875347Z",
     "iopub.status.busy": "2021-02-06T09:52:16.875100Z",
     "iopub.status.idle": "2021-02-06T09:52:16.901925Z",
     "shell.execute_reply": "2021-02-06T09:52:16.901140Z",
     "shell.execute_reply.started": "2021-02-06T09:52:16.875321Z"
    }
   },
   "outputs": [
    {
     "data": {
      "text/plain": [
       "Vec({'metal', 'concrete', 'water', 'electricity', 'plastic'}, {'plastic': 130.5, 'concrete': 312.0, 'water': 214.0, 'electricity': 112.5})"
      ]
     },
     "execution_count": 32,
     "metadata": {},
     "output_type": "execute_result"
    }
   ],
   "source": [
    "240*v_gnome + 55 * v_hoop"
   ]
  },
  {
   "cell_type": "code",
   "execution_count": 33,
   "id": "educational-million",
   "metadata": {
    "execution": {
     "iopub.execute_input": "2021-02-06T09:52:17.142502Z",
     "iopub.status.busy": "2021-02-06T09:52:17.142258Z",
     "iopub.status.idle": "2021-02-06T09:52:17.167655Z",
     "shell.execute_reply": "2021-02-06T09:52:17.166847Z",
     "shell.execute_reply.started": "2021-02-06T09:52:17.142476Z"
    }
   },
   "outputs": [],
   "source": [
    "rowdict = {\n",
    "    'gnome': v_gnome,\n",
    "    'hoop': v_hoop,\n",
    "    'slinky': v_slinky,\n",
    "    'putty': v_putty,\n",
    "    'shooter': v_shooter,\n",
    "}"
   ]
  },
  {
   "cell_type": "code",
   "execution_count": 50,
   "id": "boring-counter",
   "metadata": {
    "execution": {
     "iopub.execute_input": "2021-02-06T10:13:58.601918Z",
     "iopub.status.busy": "2021-02-06T10:13:58.601720Z",
     "iopub.status.idle": "2021-02-06T10:13:58.637398Z",
     "shell.execute_reply": "2021-02-06T10:13:58.636760Z",
     "shell.execute_reply.started": "2021-02-06T10:13:58.601896Z"
    }
   },
   "outputs": [],
   "source": [
    "M = rowdict2mat(rowdict)"
   ]
  },
  {
   "cell_type": "code",
   "execution_count": 35,
   "id": "perfect-belarus",
   "metadata": {
    "execution": {
     "iopub.execute_input": "2021-02-06T09:52:18.329547Z",
     "iopub.status.busy": "2021-02-06T09:52:18.329322Z",
     "iopub.status.idle": "2021-02-06T09:52:18.361186Z",
     "shell.execute_reply": "2021-02-06T09:52:18.360291Z",
     "shell.execute_reply.started": "2021-02-06T09:52:18.329522Z"
    }
   },
   "outputs": [
    {
     "name": "stdout",
     "output_type": "stream",
     "text": [
      "         metal  concrete  water  electricity  plastic\n",
      "hoop      0.00       0.0    0.4          0.3      1.5\n",
      "gnome     0.00       1.3    0.8          0.4      0.2\n",
      "putty     0.00       0.0    0.7          0.5      0.3\n",
      "slinky    0.25       0.0    0.2          0.7      0.0\n",
      "shooter   0.15       0.0    0.4          0.8      0.5\n"
     ]
    }
   ],
   "source": [
    "print(M)"
   ]
  },
  {
   "cell_type": "code",
   "execution_count": 36,
   "id": "greenhouse-overall",
   "metadata": {
    "execution": {
     "iopub.execute_input": "2021-02-06T09:52:20.131084Z",
     "iopub.status.busy": "2021-02-06T09:52:20.130817Z",
     "iopub.status.idle": "2021-02-06T09:52:20.156548Z",
     "shell.execute_reply": "2021-02-06T09:52:20.155498Z",
     "shell.execute_reply.started": "2021-02-06T09:52:20.131057Z"
    }
   },
   "outputs": [],
   "source": [
    "R = set(rowdict.keys())"
   ]
  },
  {
   "cell_type": "code",
   "execution_count": 46,
   "id": "engaging-objective",
   "metadata": {
    "execution": {
     "iopub.execute_input": "2021-02-06T10:11:34.711889Z",
     "iopub.status.busy": "2021-02-06T10:11:34.711650Z",
     "iopub.status.idle": "2021-02-06T10:11:34.738046Z",
     "shell.execute_reply": "2021-02-06T10:11:34.737361Z",
     "shell.execute_reply.started": "2021-02-06T10:11:34.711863Z"
    }
   },
   "outputs": [],
   "source": [
    "C = M.D[1]"
   ]
  },
  {
   "cell_type": "code",
   "execution_count": null,
   "id": "plastic-orchestra",
   "metadata": {},
   "outputs": [],
   "source": [
    "b = Vec(C, {'water'})"
   ]
  },
  {
   "cell_type": "code",
   "execution_count": 37,
   "id": "lasting-moment",
   "metadata": {
    "execution": {
     "iopub.execute_input": "2021-02-06T09:52:20.473013Z",
     "iopub.status.busy": "2021-02-06T09:52:20.472774Z",
     "iopub.status.idle": "2021-02-06T09:52:20.497544Z",
     "shell.execute_reply": "2021-02-06T09:52:20.496581Z",
     "shell.execute_reply.started": "2021-02-06T09:52:20.472988Z"
    }
   },
   "outputs": [],
   "source": [
    "u = Vec(R, {'putty': 133, 'gnome': 240, 'slinky': 150, 'hoop': 55, 'shooter': 90})"
   ]
  },
  {
   "cell_type": "code",
   "execution_count": 38,
   "id": "adjacent-forth",
   "metadata": {
    "execution": {
     "iopub.execute_input": "2021-02-06T09:52:20.760961Z",
     "iopub.status.busy": "2021-02-06T09:52:20.760719Z",
     "iopub.status.idle": "2021-02-06T09:52:20.787223Z",
     "shell.execute_reply": "2021-02-06T09:52:20.786319Z",
     "shell.execute_reply.started": "2021-02-06T09:52:20.760935Z"
    }
   },
   "outputs": [
    {
     "data": {
      "text/plain": [
       "({'gnome', 'hoop', 'putty', 'shooter', 'slinky'},\n",
       " {'concrete', 'electricity', 'metal', 'plastic', 'water'})"
      ]
     },
     "execution_count": 38,
     "metadata": {},
     "output_type": "execute_result"
    }
   ],
   "source": [
    "M.D"
   ]
  },
  {
   "cell_type": "markdown",
   "id": "loving-charm",
   "metadata": {
    "execution": {
     "iopub.execute_input": "2021-02-06T08:48:29.173620Z",
     "iopub.status.busy": "2021-02-06T08:48:29.173381Z",
     "iopub.status.idle": "2021-02-06T08:48:29.199990Z",
     "shell.execute_reply": "2021-02-06T08:48:29.199165Z",
     "shell.execute_reply.started": "2021-02-06T08:48:29.173598Z"
    }
   },
   "source": [
    "Vec(M.D[1], {k: u * vec for k, vec in mat2coldict(M).items()})"
   ]
  },
  {
   "cell_type": "code",
   "execution_count": 39,
   "id": "functional-discovery",
   "metadata": {
    "execution": {
     "iopub.execute_input": "2021-02-06T09:52:23.969429Z",
     "iopub.status.busy": "2021-02-06T09:52:23.969188Z",
     "iopub.status.idle": "2021-02-06T09:52:23.995536Z",
     "shell.execute_reply": "2021-02-06T09:52:23.994795Z",
     "shell.execute_reply.started": "2021-02-06T09:52:23.969402Z"
    }
   },
   "outputs": [
    {
     "data": {
      "text/plain": [
       "{'gnome', 'hoop', 'putty', 'shooter', 'slinky'}"
      ]
     },
     "execution_count": 39,
     "metadata": {},
     "output_type": "execute_result"
    }
   ],
   "source": [
    "u.D"
   ]
  },
  {
   "cell_type": "code",
   "execution_count": 40,
   "id": "polish-rebound",
   "metadata": {
    "execution": {
     "iopub.execute_input": "2021-02-06T09:52:24.419194Z",
     "iopub.status.busy": "2021-02-06T09:52:24.418957Z",
     "iopub.status.idle": "2021-02-06T09:52:24.444805Z",
     "shell.execute_reply": "2021-02-06T09:52:24.443799Z",
     "shell.execute_reply.started": "2021-02-06T09:52:24.419168Z"
    }
   },
   "outputs": [
    {
     "data": {
      "text/plain": [
       "True"
      ]
     },
     "execution_count": 40,
     "metadata": {},
     "output_type": "execute_result"
    }
   ],
   "source": [
    "isinstance(M, Mat)"
   ]
  },
  {
   "cell_type": "code",
   "execution_count": 42,
   "id": "expired-chuck",
   "metadata": {
    "execution": {
     "iopub.execute_input": "2021-02-06T09:53:10.765203Z",
     "iopub.status.busy": "2021-02-06T09:53:10.764971Z",
     "iopub.status.idle": "2021-02-06T09:53:10.803813Z",
     "shell.execute_reply": "2021-02-06T09:53:10.802892Z",
     "shell.execute_reply.started": "2021-02-06T09:53:10.765178Z"
    }
   },
   "outputs": [
    {
     "data": {
      "text/plain": [
       "Vec({'metal', 'concrete', 'water', 'electricity', 'plastic'}, {'metal': 51.0, 'concrete': 312.0, 'water': 373.1, 'electricity': 356.0, 'plastic': 215.4})"
      ]
     },
     "execution_count": 42,
     "metadata": {},
     "output_type": "execute_result"
    }
   ],
   "source": [
    "u * M"
   ]
  },
  {
   "cell_type": "code",
   "execution_count": null,
   "id": "peaceful-haiti",
   "metadata": {},
   "outputs": [],
   "source": []
  },
  {
   "cell_type": "code",
   "execution_count": 179,
   "id": "freelance-holder",
   "metadata": {
    "execution": {
     "iopub.execute_input": "2021-02-06T08:55:17.582036Z",
     "iopub.status.busy": "2021-02-06T08:55:17.581794Z",
     "iopub.status.idle": "2021-02-06T08:55:17.608966Z",
     "shell.execute_reply": "2021-02-06T08:55:17.608145Z",
     "shell.execute_reply.started": "2021-02-06T08:55:17.582010Z"
    }
   },
   "outputs": [
    {
     "data": {
      "text/plain": [
       "({0, 1}, {0, 1, 2, 3})"
      ]
     },
     "execution_count": 179,
     "metadata": {},
     "output_type": "execute_result"
    }
   ],
   "source": [
    "A.D"
   ]
  },
  {
   "cell_type": "code",
   "execution_count": 5,
   "id": "internal-threat",
   "metadata": {
    "execution": {
     "iopub.execute_input": "2021-02-04T13:43:33.952771Z",
     "iopub.status.busy": "2021-02-04T13:43:33.952528Z",
     "iopub.status.idle": "2021-02-04T13:43:33.982470Z",
     "shell.execute_reply": "2021-02-04T13:43:33.981593Z",
     "shell.execute_reply.started": "2021-02-04T13:43:33.952744Z"
    }
   },
   "outputs": [
    {
     "data": {
      "text/plain": [
       "dict_keys([(0, 0), (0, 1), (0, 2), (0, 3), (1, 0), (1, 1), (1, 2), (1, 3)])"
      ]
     },
     "execution_count": 5,
     "metadata": {},
     "output_type": "execute_result"
    }
   ],
   "source": [
    "A.f.keys()"
   ]
  },
  {
   "cell_type": "code",
   "execution_count": 43,
   "id": "proud-equality",
   "metadata": {
    "execution": {
     "iopub.execute_input": "2021-02-06T09:59:25.281767Z",
     "iopub.status.busy": "2021-02-06T09:59:25.281522Z",
     "iopub.status.idle": "2021-02-06T09:59:25.316537Z",
     "shell.execute_reply": "2021-02-06T09:59:25.315430Z",
     "shell.execute_reply.started": "2021-02-06T09:59:25.281740Z"
    }
   },
   "outputs": [
    {
     "ename": "ImportError",
     "evalue": "Unsupported Python version",
     "output_type": "error",
     "traceback": [
      "\u001b[0;31m---------------------------------------------------------------------------\u001b[0m",
      "\u001b[0;31mImportError\u001b[0m                               Traceback (most recent call last)",
      "\u001b[0;32m<ipython-input-43-117915c2d638>\u001b[0m in \u001b[0;36m<module>\u001b[0;34m\u001b[0m\n\u001b[0;32m----> 1\u001b[0;31m \u001b[0;32mfrom\u001b[0m \u001b[0mcoding_the_matrix\u001b[0m \u001b[0;32mimport\u001b[0m \u001b[0msolver\u001b[0m\u001b[0;34m\u001b[0m\u001b[0;34m\u001b[0m\u001b[0m\n\u001b[0m",
      "\u001b[0;32m~/github.com/banbiossa/coding-the-matrix/coding_the_matrix/solver.py\u001b[0m in \u001b[0;36m<module>\u001b[0;34m\u001b[0m\n\u001b[1;32m     28\u001b[0m \u001b[0;34m\u001b[0m\u001b[0m\n\u001b[1;32m     29\u001b[0m \u001b[0;34m\u001b[0m\u001b[0m\n\u001b[0;32m---> 30\u001b[0;31m \u001b[0mexec\u001b[0m\u001b[0;34m(\u001b[0m\u001b[0m_get_module\u001b[0m\u001b[0;34m(\u001b[0m\u001b[0;34m)\u001b[0m\u001b[0;34m)\u001b[0m\u001b[0;34m\u001b[0m\u001b[0;34m\u001b[0m\u001b[0m\n\u001b[0m",
      "\u001b[0;32m~/github.com/banbiossa/coding-the-matrix/coding_the_matrix/solver.py\u001b[0m in \u001b[0;36m_get_module\u001b[0;34m()\u001b[0m\n\u001b[1;32m     16\u001b[0m         \u001b[0moffset\u001b[0m \u001b[0;34m=\u001b[0m \u001b[0;36m12\u001b[0m\u001b[0;34m\u001b[0m\u001b[0;34m\u001b[0m\u001b[0m\n\u001b[1;32m     17\u001b[0m     \u001b[0;32melse\u001b[0m\u001b[0;34m:\u001b[0m\u001b[0;34m\u001b[0m\u001b[0;34m\u001b[0m\u001b[0m\n\u001b[0;32m---> 18\u001b[0;31m         \u001b[0;32mraise\u001b[0m \u001b[0mImportError\u001b[0m\u001b[0;34m(\u001b[0m\u001b[0;34m\"Unsupported Python version\"\u001b[0m\u001b[0;34m)\u001b[0m\u001b[0;34m\u001b[0m\u001b[0;34m\u001b[0m\u001b[0m\n\u001b[0m\u001b[1;32m     19\u001b[0m \u001b[0;34m\u001b[0m\u001b[0m\n\u001b[1;32m     20\u001b[0m     \u001b[0mpycData\u001b[0m \u001b[0;34m=\u001b[0m \u001b[0mbase64\u001b[0m\u001b[0;34m.\u001b[0m\u001b[0mdecodebytes\u001b[0m\u001b[0;34m(\u001b[0m\u001b[0mpycData\u001b[0m\u001b[0;34m)\u001b[0m\u001b[0;34m\u001b[0m\u001b[0;34m\u001b[0m\u001b[0m\n",
      "\u001b[0;31mImportError\u001b[0m: Unsupported Python version"
     ]
    }
   ],
   "source": [
    "from coding_the_matrix import solver"
   ]
  },
  {
   "cell_type": "code",
   "execution_count": 47,
   "id": "ecological-official",
   "metadata": {
    "execution": {
     "iopub.execute_input": "2021-02-06T10:11:56.181850Z",
     "iopub.status.busy": "2021-02-06T10:11:56.181604Z",
     "iopub.status.idle": "2021-02-06T10:11:56.207527Z",
     "shell.execute_reply": "2021-02-06T10:11:56.206567Z",
     "shell.execute_reply.started": "2021-02-06T10:11:56.181823Z"
    }
   },
   "outputs": [],
   "source": [
    "b = Vec({'metal', 'concrete', 'water', 'electricity', 'plastic'}, {'metal': 51.0, 'concrete': 312.0, 'water': 373.1, 'electricity': 356.0, 'plastic': 215.4})"
   ]
  },
  {
   "cell_type": "code",
   "execution_count": 51,
   "id": "recreational-jimmy",
   "metadata": {
    "execution": {
     "iopub.execute_input": "2021-02-06T10:14:09.128313Z",
     "iopub.status.busy": "2021-02-06T10:14:09.128063Z",
     "iopub.status.idle": "2021-02-06T10:14:09.155279Z",
     "shell.execute_reply": "2021-02-06T10:14:09.154354Z",
     "shell.execute_reply.started": "2021-02-06T10:14:09.128286Z"
    }
   },
   "outputs": [
    {
     "data": {
      "text/plain": [
       "<coding_the_matrix.Mat.Mat at 0x16a580700>"
      ]
     },
     "execution_count": 51,
     "metadata": {},
     "output_type": "execute_result"
    }
   ],
   "source": [
    "M.transpose()"
   ]
  },
  {
   "cell_type": "code",
   "execution_count": 52,
   "id": "broadband-yahoo",
   "metadata": {
    "execution": {
     "iopub.execute_input": "2021-02-06T10:14:18.515010Z",
     "iopub.status.busy": "2021-02-06T10:14:18.514764Z",
     "iopub.status.idle": "2021-02-06T10:14:18.546286Z",
     "shell.execute_reply": "2021-02-06T10:14:18.545256Z",
     "shell.execute_reply.started": "2021-02-06T10:14:18.514984Z"
    }
   },
   "outputs": [
    {
     "ename": "NameError",
     "evalue": "name 'solve' is not defined",
     "output_type": "error",
     "traceback": [
      "\u001b[0;31m---------------------------------------------------------------------------\u001b[0m",
      "\u001b[0;31mNameError\u001b[0m                                 Traceback (most recent call last)",
      "\u001b[0;32m<ipython-input-52-b5dee093449c>\u001b[0m in \u001b[0;36m<module>\u001b[0;34m\u001b[0m\n\u001b[0;32m----> 1\u001b[0;31m \u001b[0msolution\u001b[0m \u001b[0;34m=\u001b[0m \u001b[0msolve\u001b[0m\u001b[0;34m(\u001b[0m\u001b[0mM\u001b[0m\u001b[0;34m.\u001b[0m\u001b[0mtranspose\u001b[0m\u001b[0;34m(\u001b[0m\u001b[0;34m)\u001b[0m\u001b[0;34m,\u001b[0m \u001b[0mb\u001b[0m\u001b[0;34m)\u001b[0m\u001b[0;34m\u001b[0m\u001b[0;34m\u001b[0m\u001b[0m\n\u001b[0m",
      "\u001b[0;31mNameError\u001b[0m: name 'solve' is not defined"
     ]
    }
   ],
   "source": [
    "solution = solve(M.transpose(), b)"
   ]
  },
  {
   "cell_type": "code",
   "execution_count": null,
   "id": "later-magnet",
   "metadata": {},
   "outputs": [],
   "source": [
    "solution"
   ]
  },
  {
   "cell_type": "code",
   "execution_count": null,
   "id": "developmental-positive",
   "metadata": {},
   "outputs": [],
   "source": [
    "residual = b - solution * M"
   ]
  },
  {
   "cell_type": "code",
   "execution_count": null,
   "id": "weird-swing",
   "metadata": {},
   "outputs": [],
   "source": [
    "assert residual * residual < 1e-10"
   ]
  },
  {
   "cell_type": "code",
   "execution_count": 49,
   "id": "connected-charger",
   "metadata": {
    "execution": {
     "iopub.execute_input": "2021-02-06T10:12:21.083996Z",
     "iopub.status.busy": "2021-02-06T10:12:21.083738Z",
     "iopub.status.idle": "2021-02-06T10:12:21.114158Z",
     "shell.execute_reply": "2021-02-06T10:12:21.113071Z",
     "shell.execute_reply.started": "2021-02-06T10:12:21.083970Z"
    }
   },
   "outputs": [
    {
     "name": "stdout",
     "output_type": "stream",
     "text": [
      "         metal  concrete  water  electricity  plastic\n",
      "hoop      0.00       0.0    0.4          0.3      1.5\n",
      "gnome     0.00       1.3    0.8          0.4      0.2\n",
      "putty     0.00       0.0    0.7          0.5      0.3\n",
      "slinky    0.25       0.0    0.2          0.7      0.0\n",
      "shooter   0.15       0.0    0.4          0.8      0.5\n"
     ]
    }
   ],
   "source": [
    "print(M)"
   ]
  },
  {
   "cell_type": "code",
   "execution_count": null,
   "id": "given-acrobat",
   "metadata": {},
   "outputs": [],
   "source": [
    "M.tra"
   ]
  },
  {
   "cell_type": "code",
   "execution_count": null,
   "id": "hidden-valley",
   "metadata": {},
   "outputs": [],
   "source": []
  },
  {
   "cell_type": "code",
   "execution_count": null,
   "id": "large-insert",
   "metadata": {},
   "outputs": [],
   "source": []
  },
  {
   "cell_type": "code",
   "execution_count": null,
   "id": "marine-wheel",
   "metadata": {},
   "outputs": [],
   "source": []
  },
  {
   "cell_type": "code",
   "execution_count": 14,
   "id": "fiscal-protest",
   "metadata": {
    "execution": {
     "iopub.execute_input": "2021-02-03T13:25:54.128140Z",
     "iopub.status.busy": "2021-02-03T13:25:54.127890Z",
     "iopub.status.idle": "2021-02-03T13:25:54.154776Z",
     "shell.execute_reply": "2021-02-03T13:25:54.153901Z",
     "shell.execute_reply.started": "2021-02-03T13:25:54.128113Z"
    }
   },
   "outputs": [
    {
     "name": "stdout",
     "output_type": "stream",
     "text": [
      "('a', '@'): ,\n",
      "('a', '#'): ,\n",
      "('a', '?'): ,\n",
      "('b', '@'): ,\n",
      "('b', '#'): ,\n",
      "('b', '?'): ,\n"
     ]
    }
   ],
   "source": [
    "import itertools\n",
    "for r, c in itertools.product(*D):\n",
    "    print(f\"('{r}', '{c}'): ,\")"
   ]
  },
  {
   "cell_type": "code",
   "execution_count": 7,
   "id": "fuzzy-knight",
   "metadata": {
    "execution": {
     "iopub.execute_input": "2021-02-03T13:24:09.444793Z",
     "iopub.status.busy": "2021-02-03T13:24:09.444554Z",
     "iopub.status.idle": "2021-02-03T13:24:09.472347Z",
     "shell.execute_reply": "2021-02-03T13:24:09.471488Z",
     "shell.execute_reply.started": "2021-02-03T13:24:09.444767Z"
    }
   },
   "outputs": [],
   "source": [
    "D = ({'a', 'b'}, {'@', '#', '?'})"
   ]
  },
  {
   "cell_type": "code",
   "execution_count": 12,
   "id": "advisory-thickness",
   "metadata": {
    "execution": {
     "iopub.execute_input": "2021-02-03T13:25:44.829319Z",
     "iopub.status.busy": "2021-02-03T13:25:44.829065Z",
     "iopub.status.idle": "2021-02-03T13:25:44.855801Z",
     "shell.execute_reply": "2021-02-03T13:25:44.855031Z",
     "shell.execute_reply.started": "2021-02-03T13:25:44.829290Z"
    }
   },
   "outputs": [],
   "source": [
    "f = {\n",
    "    (\"a\", \"@\"): 1,\n",
    "    (\"a\", \"#\"): 2,\n",
    "    (\"a\", \"?\"): 3,\n",
    "    (\"b\", \"@\"): 10,\n",
    "    (\"b\", \"#\"): 20,\n",
    "    (\"b\", \"?\"): 30,\n",
    "}"
   ]
  },
  {
   "cell_type": "code",
   "execution_count": 13,
   "id": "contrary-harmony",
   "metadata": {
    "execution": {
     "iopub.execute_input": "2021-02-03T13:25:48.985926Z",
     "iopub.status.busy": "2021-02-03T13:25:48.985685Z",
     "iopub.status.idle": "2021-02-03T13:25:49.014776Z",
     "shell.execute_reply": "2021-02-03T13:25:49.013878Z",
     "shell.execute_reply.started": "2021-02-03T13:25:48.985899Z"
    }
   },
   "outputs": [],
   "source": [
    "M = Mat(D, f)"
   ]
  },
  {
   "cell_type": "code",
   "execution_count": 6,
   "id": "married-impression",
   "metadata": {
    "execution": {
     "iopub.execute_input": "2021-02-03T13:23:39.065325Z",
     "iopub.status.busy": "2021-02-03T13:23:39.065075Z",
     "iopub.status.idle": "2021-02-03T13:23:39.091019Z",
     "shell.execute_reply": "2021-02-03T13:23:39.090314Z",
     "shell.execute_reply.started": "2021-02-03T13:23:39.065298Z"
    }
   },
   "outputs": [],
   "source": []
  },
  {
   "cell_type": "code",
   "execution_count": 31,
   "id": "modern-quality",
   "metadata": {
    "execution": {
     "iopub.execute_input": "2021-02-03T13:31:09.979247Z",
     "iopub.status.busy": "2021-02-03T13:31:09.978986Z",
     "iopub.status.idle": "2021-02-03T13:31:10.006379Z",
     "shell.execute_reply": "2021-02-03T13:31:10.005521Z",
     "shell.execute_reply.started": "2021-02-03T13:31:09.979217Z"
    }
   },
   "outputs": [],
   "source": [
    "def mat2rowdict(M):\n",
    "    \"\"\"return the rowdict representation of M\"\"\"\n",
    "    R, C = M.D\n",
    "    return {r: Vec(C, {c: M.f[(r, c)] for c in C}) for r in R}"
   ]
  },
  {
   "cell_type": "code",
   "execution_count": 32,
   "id": "happy-foster",
   "metadata": {
    "execution": {
     "iopub.execute_input": "2021-02-03T13:31:20.058226Z",
     "iopub.status.busy": "2021-02-03T13:31:20.057975Z",
     "iopub.status.idle": "2021-02-03T13:31:20.086372Z",
     "shell.execute_reply": "2021-02-03T13:31:20.085512Z",
     "shell.execute_reply.started": "2021-02-03T13:31:20.058198Z"
    }
   },
   "outputs": [
    {
     "data": {
      "text/plain": [
       "{'a': Vec({'@', '#', '?'}, {'@': 1, '#': 2, '?': 3}),\n",
       " 'b': Vec({'@', '#', '?'}, {'@': 10, '#': 20, '?': 30})}"
      ]
     },
     "execution_count": 32,
     "metadata": {},
     "output_type": "execute_result"
    }
   ],
   "source": [
    "mat2rowdict(M)"
   ]
  },
  {
   "cell_type": "code",
   "execution_count": 33,
   "id": "compressed-guide",
   "metadata": {
    "execution": {
     "iopub.execute_input": "2021-02-03T13:32:46.309348Z",
     "iopub.status.busy": "2021-02-03T13:32:46.309090Z",
     "iopub.status.idle": "2021-02-03T13:32:46.336632Z",
     "shell.execute_reply": "2021-02-03T13:32:46.335671Z",
     "shell.execute_reply.started": "2021-02-03T13:32:46.309319Z"
    }
   },
   "outputs": [],
   "source": [
    "def mat2coldict(M):\n",
    "    \"\"\"return the coldict representation of M\"\"\"\n",
    "    R, C = M.D\n",
    "    return {c: Vec(R, {r: M.f[(r, c)] for r in R}) for c in C}"
   ]
  },
  {
   "cell_type": "code",
   "execution_count": 34,
   "id": "typical-willow",
   "metadata": {
    "execution": {
     "iopub.execute_input": "2021-02-03T13:32:51.022435Z",
     "iopub.status.busy": "2021-02-03T13:32:51.022166Z",
     "iopub.status.idle": "2021-02-03T13:32:51.050175Z",
     "shell.execute_reply": "2021-02-03T13:32:51.049509Z",
     "shell.execute_reply.started": "2021-02-03T13:32:51.022406Z"
    }
   },
   "outputs": [
    {
     "data": {
      "text/plain": [
       "{'@': Vec({'a', 'b'}, {'a': 1, 'b': 10}),\n",
       " '#': Vec({'a', 'b'}, {'a': 2, 'b': 20}),\n",
       " '?': Vec({'a', 'b'}, {'a': 3, 'b': 30})}"
      ]
     },
     "execution_count": 34,
     "metadata": {},
     "output_type": "execute_result"
    }
   ],
   "source": [
    "mat2coldict(M)"
   ]
  },
  {
   "cell_type": "code",
   "execution_count": null,
   "id": "younger-brand",
   "metadata": {},
   "outputs": [],
   "source": []
  },
  {
   "cell_type": "code",
   "execution_count": null,
   "id": "confirmed-phone",
   "metadata": {},
   "outputs": [],
   "source": []
  },
  {
   "cell_type": "code",
   "execution_count": null,
   "id": "breathing-coating",
   "metadata": {},
   "outputs": [],
   "source": []
  },
  {
   "cell_type": "code",
   "execution_count": null,
   "id": "fifty-silly",
   "metadata": {},
   "outputs": [],
   "source": []
  }
 ],
 "metadata": {
  "kernelspec": {
   "display_name": "Python 3",
   "language": "python",
   "name": "python3"
  },
  "language_info": {
   "codemirror_mode": {
    "name": "ipython",
    "version": 3
   },
   "file_extension": ".py",
   "mimetype": "text/x-python",
   "name": "python",
   "nbconvert_exporter": "python",
   "pygments_lexer": "ipython3",
   "version": "3.9.0"
  }
 },
 "nbformat": 4,
 "nbformat_minor": 5
}
