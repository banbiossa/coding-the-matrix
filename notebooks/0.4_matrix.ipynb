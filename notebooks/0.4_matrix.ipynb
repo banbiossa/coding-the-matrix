{
 "cells": [
  {
   "cell_type": "markdown",
   "id": "bigger-brighton",
   "metadata": {},
   "source": [
    "# 0.4_matrix"
   ]
  },
  {
   "cell_type": "code",
   "execution_count": 1,
   "id": "rolled-express",
   "metadata": {
    "execution": {
     "iopub.execute_input": "2021-02-04T13:41:49.925815Z",
     "iopub.status.busy": "2021-02-04T13:41:49.925546Z",
     "iopub.status.idle": "2021-02-04T13:41:53.272421Z",
     "shell.execute_reply": "2021-02-04T13:41:53.271848Z",
     "shell.execute_reply.started": "2021-02-04T13:41:49.925746Z"
    }
   },
   "outputs": [],
   "source": [
    "%load_ext autoreload\n",
    "%autoreload 2\n",
    "%matplotlib inline\n",
    "%load_ext blackcellmagic\n",
    "\n",
    "import pandas as pd\n",
    "import numpy as np\n",
    "import seaborn as sns\n",
    "import matplotlib.pyplot as plt\n",
    "\n",
    "def nrows(n):\n",
    "    pd.options.display.max_rows = n\n",
    "\n",
    "nrows(5)\n",
    "\n",
    "from coding_the_matrix import *"
   ]
  },
  {
   "cell_type": "code",
   "execution_count": 69,
   "id": "boxed-nashville",
   "metadata": {
    "execution": {
     "iopub.execute_input": "2021-02-04T14:27:33.493680Z",
     "iopub.status.busy": "2021-02-04T14:27:33.493437Z",
     "iopub.status.idle": "2021-02-04T14:27:33.559056Z",
     "shell.execute_reply": "2021-02-04T14:27:33.558099Z",
     "shell.execute_reply.started": "2021-02-04T14:27:33.493652Z"
    }
   },
   "outputs": [],
   "source": [
    "A = listlist2mat([[10, 20, 30, 40], [50, 60, 70, 80]])"
   ]
  },
  {
   "cell_type": "code",
   "execution_count": 72,
   "id": "raised-vitamin",
   "metadata": {
    "execution": {
     "iopub.execute_input": "2021-02-04T14:27:45.732268Z",
     "iopub.status.busy": "2021-02-04T14:27:45.732044Z",
     "iopub.status.idle": "2021-02-04T14:27:45.757829Z",
     "shell.execute_reply": "2021-02-04T14:27:45.756736Z",
     "shell.execute_reply.started": "2021-02-04T14:27:45.732244Z"
    }
   },
   "outputs": [
    {
     "name": "stdout",
     "output_type": "stream",
     "text": [
      "    0   1   2   3\n",
      "0  10  20  30  40\n",
      "1  50  60  70  80\n"
     ]
    }
   ],
   "source": [
    "print(A)"
   ]
  },
  {
   "cell_type": "code",
   "execution_count": 12,
   "id": "accompanied-subscriber",
   "metadata": {
    "execution": {
     "iopub.execute_input": "2021-02-04T13:47:20.410680Z",
     "iopub.status.busy": "2021-02-04T13:47:20.410440Z",
     "iopub.status.idle": "2021-02-04T13:47:20.437494Z",
     "shell.execute_reply": "2021-02-04T13:47:20.436561Z",
     "shell.execute_reply.started": "2021-02-04T13:47:20.410653Z"
    }
   },
   "outputs": [],
   "source": [
    "def mat2Vec(M):\n",
    "    R, C = M.D\n",
    "    return Vec({(r,c) for r in R for c in C}, M.f) "
   ]
  },
  {
   "cell_type": "code",
   "execution_count": 28,
   "id": "departmental-dylan",
   "metadata": {
    "execution": {
     "iopub.execute_input": "2021-02-04T13:51:58.855426Z",
     "iopub.status.busy": "2021-02-04T13:51:58.855160Z",
     "iopub.status.idle": "2021-02-04T13:51:58.882417Z",
     "shell.execute_reply": "2021-02-04T13:51:58.881563Z",
     "shell.execute_reply.started": "2021-02-04T13:51:58.855396Z"
    }
   },
   "outputs": [],
   "source": [
    "def tranpose(M):\n",
    "    R, C = M.D\n",
    "    D = (C, R)\n",
    "    f = {(c, r): v for (r, c), v in M.f.items()}\n",
    "    return Mat(D, f)"
   ]
  },
  {
   "cell_type": "code",
   "execution_count": 74,
   "id": "regulated-surfing",
   "metadata": {
    "execution": {
     "iopub.execute_input": "2021-02-04T14:28:29.283916Z",
     "iopub.status.busy": "2021-02-04T14:28:29.283657Z",
     "iopub.status.idle": "2021-02-04T14:28:29.312159Z",
     "shell.execute_reply": "2021-02-04T14:28:29.311006Z",
     "shell.execute_reply.started": "2021-02-04T14:28:29.283888Z"
    }
   },
   "outputs": [
    {
     "name": "stdout",
     "output_type": "stream",
     "text": [
      "    0   1\n",
      "0  10  50\n",
      "1  20  60\n",
      "2  30  70\n",
      "3  40  80\n"
     ]
    }
   ],
   "source": [
    "print(tranpose(A))"
   ]
  },
  {
   "cell_type": "code",
   "execution_count": null,
   "id": "junior-trout",
   "metadata": {},
   "outputs": [],
   "source": []
  },
  {
   "cell_type": "code",
   "execution_count": null,
   "id": "former-playback",
   "metadata": {},
   "outputs": [],
   "source": []
  },
  {
   "cell_type": "code",
   "execution_count": null,
   "id": "wanted-study",
   "metadata": {},
   "outputs": [],
   "source": []
  },
  {
   "cell_type": "code",
   "execution_count": null,
   "id": "printable-andrews",
   "metadata": {},
   "outputs": [],
   "source": []
  },
  {
   "cell_type": "code",
   "execution_count": 3,
   "id": "developed-thriller",
   "metadata": {
    "execution": {
     "iopub.execute_input": "2021-02-04T13:42:06.336585Z",
     "iopub.status.busy": "2021-02-04T13:42:06.336343Z",
     "iopub.status.idle": "2021-02-04T13:42:06.365178Z",
     "shell.execute_reply": "2021-02-04T13:42:06.364528Z",
     "shell.execute_reply.started": "2021-02-04T13:42:06.336557Z"
    }
   },
   "outputs": [
    {
     "data": {
      "text/plain": [
       "({0, 1}, {0, 1, 2, 3})"
      ]
     },
     "execution_count": 3,
     "metadata": {},
     "output_type": "execute_result"
    }
   ],
   "source": [
    "A.D"
   ]
  },
  {
   "cell_type": "code",
   "execution_count": 5,
   "id": "accurate-alloy",
   "metadata": {
    "execution": {
     "iopub.execute_input": "2021-02-04T13:43:33.952771Z",
     "iopub.status.busy": "2021-02-04T13:43:33.952528Z",
     "iopub.status.idle": "2021-02-04T13:43:33.982470Z",
     "shell.execute_reply": "2021-02-04T13:43:33.981593Z",
     "shell.execute_reply.started": "2021-02-04T13:43:33.952744Z"
    }
   },
   "outputs": [
    {
     "data": {
      "text/plain": [
       "dict_keys([(0, 0), (0, 1), (0, 2), (0, 3), (1, 0), (1, 1), (1, 2), (1, 3)])"
      ]
     },
     "execution_count": 5,
     "metadata": {},
     "output_type": "execute_result"
    }
   ],
   "source": [
    "A.f.keys()"
   ]
  },
  {
   "cell_type": "code",
   "execution_count": null,
   "id": "frozen-lucas",
   "metadata": {},
   "outputs": [],
   "source": []
  },
  {
   "cell_type": "code",
   "execution_count": 14,
   "id": "abandoned-enclosure",
   "metadata": {
    "execution": {
     "iopub.execute_input": "2021-02-03T13:25:54.128140Z",
     "iopub.status.busy": "2021-02-03T13:25:54.127890Z",
     "iopub.status.idle": "2021-02-03T13:25:54.154776Z",
     "shell.execute_reply": "2021-02-03T13:25:54.153901Z",
     "shell.execute_reply.started": "2021-02-03T13:25:54.128113Z"
    }
   },
   "outputs": [
    {
     "name": "stdout",
     "output_type": "stream",
     "text": [
      "('a', '@'): ,\n",
      "('a', '#'): ,\n",
      "('a', '?'): ,\n",
      "('b', '@'): ,\n",
      "('b', '#'): ,\n",
      "('b', '?'): ,\n"
     ]
    }
   ],
   "source": [
    "import itertools\n",
    "for r, c in itertools.product(*D):\n",
    "    print(f\"('{r}', '{c}'): ,\")"
   ]
  },
  {
   "cell_type": "code",
   "execution_count": 7,
   "id": "fatal-helmet",
   "metadata": {
    "execution": {
     "iopub.execute_input": "2021-02-03T13:24:09.444793Z",
     "iopub.status.busy": "2021-02-03T13:24:09.444554Z",
     "iopub.status.idle": "2021-02-03T13:24:09.472347Z",
     "shell.execute_reply": "2021-02-03T13:24:09.471488Z",
     "shell.execute_reply.started": "2021-02-03T13:24:09.444767Z"
    }
   },
   "outputs": [],
   "source": [
    "D = ({'a', 'b'}, {'@', '#', '?'})"
   ]
  },
  {
   "cell_type": "code",
   "execution_count": 12,
   "id": "representative-perception",
   "metadata": {
    "execution": {
     "iopub.execute_input": "2021-02-03T13:25:44.829319Z",
     "iopub.status.busy": "2021-02-03T13:25:44.829065Z",
     "iopub.status.idle": "2021-02-03T13:25:44.855801Z",
     "shell.execute_reply": "2021-02-03T13:25:44.855031Z",
     "shell.execute_reply.started": "2021-02-03T13:25:44.829290Z"
    }
   },
   "outputs": [],
   "source": [
    "f = {\n",
    "    (\"a\", \"@\"): 1,\n",
    "    (\"a\", \"#\"): 2,\n",
    "    (\"a\", \"?\"): 3,\n",
    "    (\"b\", \"@\"): 10,\n",
    "    (\"b\", \"#\"): 20,\n",
    "    (\"b\", \"?\"): 30,\n",
    "}"
   ]
  },
  {
   "cell_type": "code",
   "execution_count": 13,
   "id": "dimensional-breakdown",
   "metadata": {
    "execution": {
     "iopub.execute_input": "2021-02-03T13:25:48.985926Z",
     "iopub.status.busy": "2021-02-03T13:25:48.985685Z",
     "iopub.status.idle": "2021-02-03T13:25:49.014776Z",
     "shell.execute_reply": "2021-02-03T13:25:49.013878Z",
     "shell.execute_reply.started": "2021-02-03T13:25:48.985899Z"
    }
   },
   "outputs": [],
   "source": [
    "M = Mat(D, f)"
   ]
  },
  {
   "cell_type": "code",
   "execution_count": 6,
   "id": "bottom-chassis",
   "metadata": {
    "execution": {
     "iopub.execute_input": "2021-02-03T13:23:39.065325Z",
     "iopub.status.busy": "2021-02-03T13:23:39.065075Z",
     "iopub.status.idle": "2021-02-03T13:23:39.091019Z",
     "shell.execute_reply": "2021-02-03T13:23:39.090314Z",
     "shell.execute_reply.started": "2021-02-03T13:23:39.065298Z"
    }
   },
   "outputs": [],
   "source": []
  },
  {
   "cell_type": "code",
   "execution_count": 31,
   "id": "gentle-trick",
   "metadata": {
    "execution": {
     "iopub.execute_input": "2021-02-03T13:31:09.979247Z",
     "iopub.status.busy": "2021-02-03T13:31:09.978986Z",
     "iopub.status.idle": "2021-02-03T13:31:10.006379Z",
     "shell.execute_reply": "2021-02-03T13:31:10.005521Z",
     "shell.execute_reply.started": "2021-02-03T13:31:09.979217Z"
    }
   },
   "outputs": [],
   "source": [
    "def mat2rowdict(M):\n",
    "    \"\"\"return the rowdict representation of M\"\"\"\n",
    "    R, C = M.D\n",
    "    return {r: Vec(C, {c: M.f[(r, c)] for c in C}) for r in R}"
   ]
  },
  {
   "cell_type": "code",
   "execution_count": 32,
   "id": "agreed-forth",
   "metadata": {
    "execution": {
     "iopub.execute_input": "2021-02-03T13:31:20.058226Z",
     "iopub.status.busy": "2021-02-03T13:31:20.057975Z",
     "iopub.status.idle": "2021-02-03T13:31:20.086372Z",
     "shell.execute_reply": "2021-02-03T13:31:20.085512Z",
     "shell.execute_reply.started": "2021-02-03T13:31:20.058198Z"
    }
   },
   "outputs": [
    {
     "data": {
      "text/plain": [
       "{'a': Vec({'@', '#', '?'}, {'@': 1, '#': 2, '?': 3}),\n",
       " 'b': Vec({'@', '#', '?'}, {'@': 10, '#': 20, '?': 30})}"
      ]
     },
     "execution_count": 32,
     "metadata": {},
     "output_type": "execute_result"
    }
   ],
   "source": [
    "mat2rowdict(M)"
   ]
  },
  {
   "cell_type": "code",
   "execution_count": 33,
   "id": "joined-fighter",
   "metadata": {
    "execution": {
     "iopub.execute_input": "2021-02-03T13:32:46.309348Z",
     "iopub.status.busy": "2021-02-03T13:32:46.309090Z",
     "iopub.status.idle": "2021-02-03T13:32:46.336632Z",
     "shell.execute_reply": "2021-02-03T13:32:46.335671Z",
     "shell.execute_reply.started": "2021-02-03T13:32:46.309319Z"
    }
   },
   "outputs": [],
   "source": [
    "def mat2coldict(M):\n",
    "    \"\"\"return the coldict representation of M\"\"\"\n",
    "    R, C = M.D\n",
    "    return {c: Vec(R, {r: M.f[(r, c)] for r in R}) for c in C}"
   ]
  },
  {
   "cell_type": "code",
   "execution_count": 34,
   "id": "efficient-midwest",
   "metadata": {
    "execution": {
     "iopub.execute_input": "2021-02-03T13:32:51.022435Z",
     "iopub.status.busy": "2021-02-03T13:32:51.022166Z",
     "iopub.status.idle": "2021-02-03T13:32:51.050175Z",
     "shell.execute_reply": "2021-02-03T13:32:51.049509Z",
     "shell.execute_reply.started": "2021-02-03T13:32:51.022406Z"
    }
   },
   "outputs": [
    {
     "data": {
      "text/plain": [
       "{'@': Vec({'a', 'b'}, {'a': 1, 'b': 10}),\n",
       " '#': Vec({'a', 'b'}, {'a': 2, 'b': 20}),\n",
       " '?': Vec({'a', 'b'}, {'a': 3, 'b': 30})}"
      ]
     },
     "execution_count": 34,
     "metadata": {},
     "output_type": "execute_result"
    }
   ],
   "source": [
    "mat2coldict(M)"
   ]
  },
  {
   "cell_type": "code",
   "execution_count": null,
   "id": "reliable-piece",
   "metadata": {},
   "outputs": [],
   "source": []
  },
  {
   "cell_type": "code",
   "execution_count": null,
   "id": "upper-aviation",
   "metadata": {},
   "outputs": [],
   "source": []
  },
  {
   "cell_type": "code",
   "execution_count": null,
   "id": "pleasant-coordinate",
   "metadata": {},
   "outputs": [],
   "source": []
  },
  {
   "cell_type": "code",
   "execution_count": null,
   "id": "front-tactics",
   "metadata": {},
   "outputs": [],
   "source": []
  }
 ],
 "metadata": {
  "kernelspec": {
   "display_name": "Python 3",
   "language": "python",
   "name": "python3"
  },
  "language_info": {
   "codemirror_mode": {
    "name": "ipython",
    "version": 3
   },
   "file_extension": ".py",
   "mimetype": "text/x-python",
   "name": "python",
   "nbconvert_exporter": "python",
   "pygments_lexer": "ipython3",
   "version": "3.9.0"
  }
 },
 "nbformat": 4,
 "nbformat_minor": 5
}
