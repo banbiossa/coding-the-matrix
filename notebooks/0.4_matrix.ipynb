{
 "cells": [
  {
   "cell_type": "markdown",
   "id": "complex-racing",
   "metadata": {},
   "source": [
    "# 0.4_matrix"
   ]
  },
  {
   "cell_type": "code",
   "execution_count": 153,
   "id": "national-schedule",
   "metadata": {
    "execution": {
     "iopub.execute_input": "2021-02-06T08:51:29.170805Z",
     "iopub.status.busy": "2021-02-06T08:51:29.170570Z",
     "iopub.status.idle": "2021-02-06T08:51:29.204208Z",
     "shell.execute_reply": "2021-02-06T08:51:29.203294Z",
     "shell.execute_reply.started": "2021-02-06T08:51:29.170779Z"
    }
   },
   "outputs": [
    {
     "name": "stdout",
     "output_type": "stream",
     "text": [
      "The autoreload extension is already loaded. To reload it, use:\n",
      "  %reload_ext autoreload\n",
      "The blackcellmagic extension is already loaded. To reload it, use:\n",
      "  %reload_ext blackcellmagic\n"
     ]
    }
   ],
   "source": [
    "%load_ext autoreload\n",
    "%autoreload 2\n",
    "%matplotlib inline\n",
    "%load_ext blackcellmagic\n",
    "\n",
    "import pandas as pd\n",
    "import numpy as np\n",
    "import seaborn as sns\n",
    "import matplotlib.pyplot as plt\n",
    "\n",
    "def nrows(n):\n",
    "    pd.options.display.max_rows = n\n",
    "\n",
    "nrows(5)\n",
    "\n",
    "from coding_the_matrix import *"
   ]
  },
  {
   "cell_type": "code",
   "execution_count": 2,
   "id": "configured-judge",
   "metadata": {
    "execution": {
     "iopub.execute_input": "2021-02-05T15:38:25.823200Z",
     "iopub.status.busy": "2021-02-05T15:38:25.822884Z",
     "iopub.status.idle": "2021-02-05T15:38:25.848706Z",
     "shell.execute_reply": "2021-02-05T15:38:25.848027Z",
     "shell.execute_reply.started": "2021-02-05T15:38:25.823170Z"
    }
   },
   "outputs": [],
   "source": [
    "A = listlist2mat([[10, 20, 30, 40], [50, 60, 70, 80]])"
   ]
  },
  {
   "cell_type": "code",
   "execution_count": 4,
   "id": "separate-eclipse",
   "metadata": {
    "execution": {
     "iopub.execute_input": "2021-02-05T15:38:25.890771Z",
     "iopub.status.busy": "2021-02-05T15:38:25.890406Z",
     "iopub.status.idle": "2021-02-05T15:38:25.918597Z",
     "shell.execute_reply": "2021-02-05T15:38:25.917625Z",
     "shell.execute_reply.started": "2021-02-05T15:38:25.890741Z"
    }
   },
   "outputs": [
    {
     "name": "stdout",
     "output_type": "stream",
     "text": [
      "    0   1   2   3\n",
      "0  10  20  30  40\n",
      "1  50  60  70  80\n"
     ]
    }
   ],
   "source": [
    "print(A)"
   ]
  },
  {
   "cell_type": "code",
   "execution_count": 5,
   "id": "consistent-tower",
   "metadata": {
    "execution": {
     "iopub.execute_input": "2021-02-05T15:38:25.922557Z",
     "iopub.status.busy": "2021-02-05T15:38:25.922299Z",
     "iopub.status.idle": "2021-02-05T15:38:25.950131Z",
     "shell.execute_reply": "2021-02-05T15:38:25.949036Z",
     "shell.execute_reply.started": "2021-02-05T15:38:25.922532Z"
    }
   },
   "outputs": [],
   "source": [
    "def mat2Vec(M):\n",
    "    R, C = M.D\n",
    "    return Vec({(r,c) for r in R for c in C}, M.f) "
   ]
  },
  {
   "cell_type": "code",
   "execution_count": 6,
   "id": "wireless-training",
   "metadata": {
    "execution": {
     "iopub.execute_input": "2021-02-05T15:38:25.954188Z",
     "iopub.status.busy": "2021-02-05T15:38:25.953836Z",
     "iopub.status.idle": "2021-02-05T15:38:25.982426Z",
     "shell.execute_reply": "2021-02-05T15:38:25.981458Z",
     "shell.execute_reply.started": "2021-02-05T15:38:25.954144Z"
    }
   },
   "outputs": [],
   "source": [
    "def tranpose(M):\n",
    "    R, C = M.D\n",
    "    D = (C, R)\n",
    "    f = {(c, r): v for (r, c), v in M.f.items()}\n",
    "    return Mat(D, f)"
   ]
  },
  {
   "cell_type": "code",
   "execution_count": 7,
   "id": "respiratory-atmosphere",
   "metadata": {
    "execution": {
     "iopub.execute_input": "2021-02-05T15:38:26.056201Z",
     "iopub.status.busy": "2021-02-05T15:38:26.055998Z",
     "iopub.status.idle": "2021-02-05T15:38:26.080379Z",
     "shell.execute_reply": "2021-02-05T15:38:26.079616Z",
     "shell.execute_reply.started": "2021-02-05T15:38:26.056180Z"
    }
   },
   "outputs": [
    {
     "name": "stdout",
     "output_type": "stream",
     "text": [
      "    0   1\n",
      "0  10  50\n",
      "1  20  60\n",
      "2  30  70\n",
      "3  40  80\n"
     ]
    }
   ],
   "source": [
    "print(tranpose(A))"
   ]
  },
  {
   "cell_type": "code",
   "execution_count": 39,
   "id": "decreased-afternoon",
   "metadata": {
    "execution": {
     "iopub.execute_input": "2021-02-06T04:00:04.247636Z",
     "iopub.status.busy": "2021-02-06T04:00:04.247392Z",
     "iopub.status.idle": "2021-02-06T04:00:04.274864Z",
     "shell.execute_reply": "2021-02-06T04:00:04.273958Z",
     "shell.execute_reply.started": "2021-02-06T04:00:04.247609Z"
    }
   },
   "outputs": [],
   "source": [
    "def button_vectors(n):\n",
    "    D = {(x, y) for x, y in itertools.product(range(n), range(n))}\n",
    "    vecdict = {\n",
    "        (i, j): Vec(\n",
    "            D,\n",
    "            dict([((x, j), one) for x in range(max(i - 1, 0), min(i + 2, n))]) | \n",
    "            dict([((i, y), one) for y in range(max(j - 1, 0), min(j + 2, n))]),\n",
    "        )\n",
    "        for (i, j) in D\n",
    "    }\n",
    "    return vecdict"
   ]
  },
  {
   "cell_type": "code",
   "execution_count": 78,
   "id": "accessory-monster",
   "metadata": {
    "execution": {
     "iopub.execute_input": "2021-02-06T07:47:38.306471Z",
     "iopub.status.busy": "2021-02-06T07:47:38.306231Z",
     "iopub.status.idle": "2021-02-06T07:47:38.333749Z",
     "shell.execute_reply": "2021-02-06T07:47:38.332909Z",
     "shell.execute_reply.started": "2021-02-06T07:47:38.306446Z"
    }
   },
   "outputs": [
    {
     "data": {
      "text/plain": [
       "Vec({(4, 0), (3, 4), (4, 3), (3, 1), (0, 2), (2, 2), (1, 0), (1, 3), (4, 2), (3, 0), (3, 3), (0, 1), (2, 4), (1, 2), (0, 4), (2, 1), (3, 2), (4, 1), (4, 4), (0, 0), (1, 1), (0, 3), (2, 0), (1, 4), (2, 3)}, {(3, 0): 1, (4, 0): 1, (4, 1): 1})"
      ]
     },
     "execution_count": 78,
     "metadata": {},
     "output_type": "execute_result"
    }
   ],
   "source": [
    "value(vectors)"
   ]
  },
  {
   "cell_type": "code",
   "execution_count": 67,
   "id": "collective-eligibility",
   "metadata": {
    "execution": {
     "iopub.execute_input": "2021-02-06T04:12:49.438651Z",
     "iopub.status.busy": "2021-02-06T04:12:49.438413Z",
     "iopub.status.idle": "2021-02-06T04:12:49.464849Z",
     "shell.execute_reply": "2021-02-06T04:12:49.463981Z",
     "shell.execute_reply.started": "2021-02-06T04:12:49.438625Z"
    }
   },
   "outputs": [
    {
     "data": {
      "text/plain": [
       "dict_keys([(4, 0), (3, 4), (4, 3), (3, 1), (0, 2), (2, 2), (1, 0), (1, 3), (4, 2), (3, 0), (3, 3), (0, 1), (2, 4), (1, 2), (0, 4), (2, 1), (3, 2), (4, 1), (4, 4), (0, 0), (1, 1), (0, 3), (2, 0), (1, 4), (2, 3)])"
      ]
     },
     "execution_count": 67,
     "metadata": {},
     "output_type": "execute_result"
    }
   ],
   "source": [
    "keys(vectors)"
   ]
  },
  {
   "cell_type": "code",
   "execution_count": 49,
   "id": "future-composition",
   "metadata": {
    "execution": {
     "iopub.execute_input": "2021-02-06T04:04:12.856081Z",
     "iopub.status.busy": "2021-02-06T04:04:12.855785Z",
     "iopub.status.idle": "2021-02-06T04:04:12.884580Z",
     "shell.execute_reply": "2021-02-06T04:04:12.883661Z",
     "shell.execute_reply.started": "2021-02-06T04:04:12.856049Z"
    }
   },
   "outputs": [],
   "source": [
    "vectors = button_vectors(5)"
   ]
  },
  {
   "cell_type": "code",
   "execution_count": 51,
   "id": "divided-virgin",
   "metadata": {
    "execution": {
     "iopub.execute_input": "2021-02-06T04:04:17.839879Z",
     "iopub.status.busy": "2021-02-06T04:04:17.839647Z",
     "iopub.status.idle": "2021-02-06T04:04:17.866251Z",
     "shell.execute_reply": "2021-02-06T04:04:17.865556Z",
     "shell.execute_reply.started": "2021-02-06T04:04:17.839854Z"
    }
   },
   "outputs": [
    {
     "data": {
      "text/plain": [
       "25"
      ]
     },
     "execution_count": 51,
     "metadata": {},
     "output_type": "execute_result"
    }
   ],
   "source": [
    "len(vectors)"
   ]
  },
  {
   "cell_type": "code",
   "execution_count": 59,
   "id": "instructional-victoria",
   "metadata": {
    "execution": {
     "iopub.execute_input": "2021-02-06T04:08:01.204684Z",
     "iopub.status.busy": "2021-02-06T04:08:01.204439Z",
     "iopub.status.idle": "2021-02-06T04:08:01.232587Z",
     "shell.execute_reply": "2021-02-06T04:08:01.231664Z",
     "shell.execute_reply.started": "2021-02-06T04:08:01.204657Z"
    }
   },
   "outputs": [],
   "source": [
    "b = vectors[(0, 0)]"
   ]
  },
  {
   "cell_type": "code",
   "execution_count": 40,
   "id": "statistical-steering",
   "metadata": {
    "execution": {
     "iopub.execute_input": "2021-02-06T04:00:06.120889Z",
     "iopub.status.busy": "2021-02-06T04:00:06.120650Z",
     "iopub.status.idle": "2021-02-06T04:00:06.147220Z",
     "shell.execute_reply": "2021-02-06T04:00:06.146457Z",
     "shell.execute_reply.started": "2021-02-06T04:00:06.120862Z"
    }
   },
   "outputs": [
    {
     "data": {
      "text/plain": [
       "{4: 1}"
      ]
     },
     "execution_count": 40,
     "metadata": {},
     "output_type": "execute_result"
    }
   ],
   "source": [
    "dict([(4, 3)]) | dict([(4, 1)])"
   ]
  },
  {
   "cell_type": "code",
   "execution_count": 42,
   "id": "weird-spending",
   "metadata": {
    "execution": {
     "iopub.execute_input": "2021-02-06T04:00:19.203402Z",
     "iopub.status.busy": "2021-02-06T04:00:19.203162Z",
     "iopub.status.idle": "2021-02-06T04:00:19.228801Z",
     "shell.execute_reply": "2021-02-06T04:00:19.227919Z",
     "shell.execute_reply.started": "2021-02-06T04:00:19.203376Z"
    }
   },
   "outputs": [],
   "source": [
    "B = coldict2mat(button_vectors(5))"
   ]
  },
  {
   "cell_type": "code",
   "execution_count": 60,
   "id": "critical-neighbor",
   "metadata": {
    "execution": {
     "iopub.execute_input": "2021-02-06T04:08:04.501187Z",
     "iopub.status.busy": "2021-02-06T04:08:04.500940Z",
     "iopub.status.idle": "2021-02-06T04:08:04.526662Z",
     "shell.execute_reply": "2021-02-06T04:08:04.525691Z",
     "shell.execute_reply.started": "2021-02-06T04:08:04.501159Z"
    }
   },
   "outputs": [],
   "source": [
    "s = Vec(b.D, {(2, 2): one})"
   ]
  },
  {
   "cell_type": "markdown",
   "id": "bronze-drain",
   "metadata": {},
   "source": [
    "## Gnome"
   ]
  },
  {
   "cell_type": "code",
   "execution_count": 82,
   "id": "increasing-industry",
   "metadata": {
    "execution": {
     "iopub.execute_input": "2021-02-06T08:03:03.733048Z",
     "iopub.status.busy": "2021-02-06T08:03:03.732805Z",
     "iopub.status.idle": "2021-02-06T08:03:03.760646Z",
     "shell.execute_reply": "2021-02-06T08:03:03.759726Z",
     "shell.execute_reply.started": "2021-02-06T08:03:03.733022Z"
    }
   },
   "outputs": [],
   "source": [
    "D = {'metal', 'concrete', 'plastic', 'water', 'electricity'}\n",
    "v_gnome = Vec(D, {'concrete': 1.3, 'plastic': .2, 'water': .8, 'electricity': .4})\n",
    "v_hoop = Vec(D, {'plastic': 1.5, 'water': .4, 'electricity': .3})\n",
    "v_slinky = Vec(D, {'metal': .25, 'water': .2, 'electricity': .7})\n",
    "v_putty = Vec(D, {'plastic': .3, 'water': .7, 'electricity': .5})\n",
    "v_shooter = Vec(D, {'metal': .15, 'plastic': .5, 'water': .4, 'electricity': .8})"
   ]
  },
  {
   "cell_type": "code",
   "execution_count": 83,
   "id": "political-bidder",
   "metadata": {
    "execution": {
     "iopub.execute_input": "2021-02-06T08:03:15.843129Z",
     "iopub.status.busy": "2021-02-06T08:03:15.842875Z",
     "iopub.status.idle": "2021-02-06T08:03:15.870897Z",
     "shell.execute_reply": "2021-02-06T08:03:15.869955Z",
     "shell.execute_reply.started": "2021-02-06T08:03:15.843101Z"
    }
   },
   "outputs": [
    {
     "data": {
      "text/plain": [
       "Vec({'electricity', 'metal', 'plastic', 'concrete', 'water'}, {'electricity': 112.5, 'plastic': 130.5, 'concrete': 312.0, 'water': 214.0})"
      ]
     },
     "execution_count": 83,
     "metadata": {},
     "output_type": "execute_result"
    }
   ],
   "source": [
    "240*v_gnome + 55 * v_hoop"
   ]
  },
  {
   "cell_type": "code",
   "execution_count": 145,
   "id": "unnecessary-twist",
   "metadata": {
    "execution": {
     "iopub.execute_input": "2021-02-06T08:50:57.389577Z",
     "iopub.status.busy": "2021-02-06T08:50:57.389345Z",
     "iopub.status.idle": "2021-02-06T08:50:57.414138Z",
     "shell.execute_reply": "2021-02-06T08:50:57.413326Z",
     "shell.execute_reply.started": "2021-02-06T08:50:57.389551Z"
    }
   },
   "outputs": [],
   "source": [
    "rowdict = {\n",
    "    'gnome': v_gnome,\n",
    "    'hoop': v_hoop,\n",
    "    'slinky': v_slinky,\n",
    "    'putty': v_putty,\n",
    "    'shooter': v_shooter,\n",
    "}"
   ]
  },
  {
   "cell_type": "code",
   "execution_count": 146,
   "id": "every-friendly",
   "metadata": {
    "execution": {
     "iopub.execute_input": "2021-02-06T08:50:57.555530Z",
     "iopub.status.busy": "2021-02-06T08:50:57.555289Z",
     "iopub.status.idle": "2021-02-06T08:50:57.581066Z",
     "shell.execute_reply": "2021-02-06T08:50:57.580243Z",
     "shell.execute_reply.started": "2021-02-06T08:50:57.555504Z"
    }
   },
   "outputs": [],
   "source": [
    "M = rowdict2mat(rowdict)"
   ]
  },
  {
   "cell_type": "code",
   "execution_count": 147,
   "id": "august-narrative",
   "metadata": {
    "execution": {
     "iopub.execute_input": "2021-02-06T08:50:57.753296Z",
     "iopub.status.busy": "2021-02-06T08:50:57.753062Z",
     "iopub.status.idle": "2021-02-06T08:50:57.783030Z",
     "shell.execute_reply": "2021-02-06T08:50:57.782179Z",
     "shell.execute_reply.started": "2021-02-06T08:50:57.753270Z"
    }
   },
   "outputs": [
    {
     "name": "stdout",
     "output_type": "stream",
     "text": [
      "         electricity  metal  plastic  concrete  water\n",
      "gnome            0.4   0.00      0.2       1.3    0.8\n",
      "hoop             0.3   0.00      1.5       0.0    0.4\n",
      "shooter          0.8   0.15      0.5       0.0    0.4\n",
      "slinky           0.7   0.25      0.0       0.0    0.2\n",
      "putty            0.5   0.00      0.3       0.0    0.7\n"
     ]
    }
   ],
   "source": [
    "print(M)"
   ]
  },
  {
   "cell_type": "code",
   "execution_count": 148,
   "id": "thirty-society",
   "metadata": {
    "execution": {
     "iopub.execute_input": "2021-02-06T08:50:58.006540Z",
     "iopub.status.busy": "2021-02-06T08:50:58.006279Z",
     "iopub.status.idle": "2021-02-06T08:50:58.031452Z",
     "shell.execute_reply": "2021-02-06T08:50:58.030757Z",
     "shell.execute_reply.started": "2021-02-06T08:50:58.006514Z"
    }
   },
   "outputs": [],
   "source": [
    "R = set(rowdict.keys())"
   ]
  },
  {
   "cell_type": "code",
   "execution_count": 149,
   "id": "professional-brunei",
   "metadata": {
    "execution": {
     "iopub.execute_input": "2021-02-06T08:50:58.112300Z",
     "iopub.status.busy": "2021-02-06T08:50:58.112101Z",
     "iopub.status.idle": "2021-02-06T08:50:58.134039Z",
     "shell.execute_reply": "2021-02-06T08:50:58.133267Z",
     "shell.execute_reply.started": "2021-02-06T08:50:58.112279Z"
    }
   },
   "outputs": [],
   "source": [
    "u = Vec(R, {'putty': 133, 'gnome': 240, 'slinky': 150, 'hoop': 55, 'shooter': 90})"
   ]
  },
  {
   "cell_type": "code",
   "execution_count": 150,
   "id": "systematic-feedback",
   "metadata": {
    "execution": {
     "iopub.execute_input": "2021-02-06T08:50:58.273112Z",
     "iopub.status.busy": "2021-02-06T08:50:58.272872Z",
     "iopub.status.idle": "2021-02-06T08:50:58.299782Z",
     "shell.execute_reply": "2021-02-06T08:50:58.299147Z",
     "shell.execute_reply.started": "2021-02-06T08:50:58.273086Z"
    }
   },
   "outputs": [
    {
     "data": {
      "text/plain": [
       "({'gnome', 'hoop', 'putty', 'shooter', 'slinky'},\n",
       " {'concrete', 'electricity', 'metal', 'plastic', 'water'})"
      ]
     },
     "execution_count": 150,
     "metadata": {},
     "output_type": "execute_result"
    }
   ],
   "source": [
    "M.D"
   ]
  },
  {
   "cell_type": "markdown",
   "id": "defined-economy",
   "metadata": {
    "execution": {
     "iopub.execute_input": "2021-02-06T08:48:29.173620Z",
     "iopub.status.busy": "2021-02-06T08:48:29.173381Z",
     "iopub.status.idle": "2021-02-06T08:48:29.199990Z",
     "shell.execute_reply": "2021-02-06T08:48:29.199165Z",
     "shell.execute_reply.started": "2021-02-06T08:48:29.173598Z"
    }
   },
   "source": [
    "Vec(M.D[1], {k: u * vec for k, vec in mat2coldict(M).items()})"
   ]
  },
  {
   "cell_type": "code",
   "execution_count": 151,
   "id": "afraid-injection",
   "metadata": {
    "execution": {
     "iopub.execute_input": "2021-02-06T08:50:58.558193Z",
     "iopub.status.busy": "2021-02-06T08:50:58.557953Z",
     "iopub.status.idle": "2021-02-06T08:50:58.585150Z",
     "shell.execute_reply": "2021-02-06T08:50:58.584142Z",
     "shell.execute_reply.started": "2021-02-06T08:50:58.558167Z"
    }
   },
   "outputs": [
    {
     "data": {
      "text/plain": [
       "{'gnome', 'hoop', 'putty', 'shooter', 'slinky'}"
      ]
     },
     "execution_count": 151,
     "metadata": {},
     "output_type": "execute_result"
    }
   ],
   "source": [
    "u.D"
   ]
  },
  {
   "cell_type": "code",
   "execution_count": 152,
   "id": "static-tonight",
   "metadata": {
    "execution": {
     "iopub.execute_input": "2021-02-06T08:50:58.828690Z",
     "iopub.status.busy": "2021-02-06T08:50:58.828457Z",
     "iopub.status.idle": "2021-02-06T08:50:58.863642Z",
     "shell.execute_reply": "2021-02-06T08:50:58.862477Z",
     "shell.execute_reply.started": "2021-02-06T08:50:58.828665Z"
    }
   },
   "outputs": [
    {
     "ename": "TypeError",
     "evalue": "unsupported operand type(s) for *: 'int' and 'Mat'",
     "output_type": "error",
     "traceback": [
      "\u001b[0;31m---------------------------------------------------------------------------\u001b[0m",
      "\u001b[0;31mTypeError\u001b[0m                                 Traceback (most recent call last)",
      "\u001b[0;32m<ipython-input-152-189dd519714d>\u001b[0m in \u001b[0;36m<module>\u001b[0;34m\u001b[0m\n\u001b[0;32m----> 1\u001b[0;31m \u001b[0mu\u001b[0m \u001b[0;34m*\u001b[0m \u001b[0mM\u001b[0m\u001b[0;34m\u001b[0m\u001b[0;34m\u001b[0m\u001b[0m\n\u001b[0m",
      "\u001b[0;32m~/github.com/banbiossa/coding-the-matrix/coding_the_matrix/Vec.py\u001b[0m in \u001b[0;36m__mul__\u001b[0;34m(self, other)\u001b[0m\n\u001b[1;32m    252\u001b[0m \u001b[0;34m\u001b[0m\u001b[0m\n\u001b[1;32m    253\u001b[0m         \u001b[0;31m# invokes rmul\u001b[0m\u001b[0;34m\u001b[0m\u001b[0;34m\u001b[0m\u001b[0;34m\u001b[0m\u001b[0m\n\u001b[0;32m--> 254\u001b[0;31m         \u001b[0;32mreturn\u001b[0m \u001b[0mself\u001b[0m\u001b[0;34m.\u001b[0m\u001b[0m__rmul__\u001b[0m\u001b[0;34m(\u001b[0m\u001b[0mother\u001b[0m\u001b[0;34m)\u001b[0m\u001b[0;34m\u001b[0m\u001b[0;34m\u001b[0m\u001b[0m\n\u001b[0m\u001b[1;32m    255\u001b[0m \u001b[0;34m\u001b[0m\u001b[0m\n\u001b[1;32m    256\u001b[0m     \u001b[0m__rmul__\u001b[0m \u001b[0;34m=\u001b[0m \u001b[0mscalar_mul\u001b[0m\u001b[0;34m\u001b[0m\u001b[0;34m\u001b[0m\u001b[0m\n",
      "\u001b[0;32m~/github.com/banbiossa/coding-the-matrix/coding_the_matrix/Vec.py\u001b[0m in \u001b[0;36mscalar_mul\u001b[0;34m(v, alpha)\u001b[0m\n\u001b[1;32m    187\u001b[0m     \u001b[0;32mTrue\u001b[0m\u001b[0;34m\u001b[0m\u001b[0;34m\u001b[0m\u001b[0m\n\u001b[1;32m    188\u001b[0m     \"\"\"\n\u001b[0;32m--> 189\u001b[0;31m     \u001b[0;32mreturn\u001b[0m \u001b[0mVec\u001b[0m\u001b[0;34m(\u001b[0m\u001b[0mv\u001b[0m\u001b[0;34m.\u001b[0m\u001b[0mD\u001b[0m\u001b[0;34m,\u001b[0m \u001b[0;34m{\u001b[0m\u001b[0mk\u001b[0m\u001b[0;34m:\u001b[0m \u001b[0mvalue\u001b[0m \u001b[0;34m*\u001b[0m \u001b[0malpha\u001b[0m \u001b[0;32mfor\u001b[0m \u001b[0mk\u001b[0m\u001b[0;34m,\u001b[0m \u001b[0mvalue\u001b[0m \u001b[0;32min\u001b[0m \u001b[0mv\u001b[0m\u001b[0;34m.\u001b[0m\u001b[0mf\u001b[0m\u001b[0;34m.\u001b[0m\u001b[0mitems\u001b[0m\u001b[0;34m(\u001b[0m\u001b[0;34m)\u001b[0m\u001b[0;34m}\u001b[0m\u001b[0;34m)\u001b[0m\u001b[0;34m\u001b[0m\u001b[0;34m\u001b[0m\u001b[0m\n\u001b[0m\u001b[1;32m    190\u001b[0m \u001b[0;34m\u001b[0m\u001b[0m\n\u001b[1;32m    191\u001b[0m \u001b[0;34m\u001b[0m\u001b[0m\n",
      "\u001b[0;32m~/github.com/banbiossa/coding-the-matrix/coding_the_matrix/Vec.py\u001b[0m in \u001b[0;36m<dictcomp>\u001b[0;34m(.0)\u001b[0m\n\u001b[1;32m    187\u001b[0m     \u001b[0;32mTrue\u001b[0m\u001b[0;34m\u001b[0m\u001b[0;34m\u001b[0m\u001b[0m\n\u001b[1;32m    188\u001b[0m     \"\"\"\n\u001b[0;32m--> 189\u001b[0;31m     \u001b[0;32mreturn\u001b[0m \u001b[0mVec\u001b[0m\u001b[0;34m(\u001b[0m\u001b[0mv\u001b[0m\u001b[0;34m.\u001b[0m\u001b[0mD\u001b[0m\u001b[0;34m,\u001b[0m \u001b[0;34m{\u001b[0m\u001b[0mk\u001b[0m\u001b[0;34m:\u001b[0m \u001b[0mvalue\u001b[0m \u001b[0;34m*\u001b[0m \u001b[0malpha\u001b[0m \u001b[0;32mfor\u001b[0m \u001b[0mk\u001b[0m\u001b[0;34m,\u001b[0m \u001b[0mvalue\u001b[0m \u001b[0;32min\u001b[0m \u001b[0mv\u001b[0m\u001b[0;34m.\u001b[0m\u001b[0mf\u001b[0m\u001b[0;34m.\u001b[0m\u001b[0mitems\u001b[0m\u001b[0;34m(\u001b[0m\u001b[0;34m)\u001b[0m\u001b[0;34m}\u001b[0m\u001b[0;34m)\u001b[0m\u001b[0;34m\u001b[0m\u001b[0;34m\u001b[0m\u001b[0m\n\u001b[0m\u001b[1;32m    190\u001b[0m \u001b[0;34m\u001b[0m\u001b[0m\n\u001b[1;32m    191\u001b[0m \u001b[0;34m\u001b[0m\u001b[0m\n",
      "\u001b[0;31mTypeError\u001b[0m: unsupported operand type(s) for *: 'int' and 'Mat'"
     ]
    }
   ],
   "source": [
    "u * M"
   ]
  },
  {
   "cell_type": "code",
   "execution_count": 3,
   "id": "outdoor-montgomery",
   "metadata": {
    "execution": {
     "iopub.execute_input": "2021-02-04T13:42:06.336585Z",
     "iopub.status.busy": "2021-02-04T13:42:06.336343Z",
     "iopub.status.idle": "2021-02-04T13:42:06.365178Z",
     "shell.execute_reply": "2021-02-04T13:42:06.364528Z",
     "shell.execute_reply.started": "2021-02-04T13:42:06.336557Z"
    }
   },
   "outputs": [
    {
     "data": {
      "text/plain": [
       "({0, 1}, {0, 1, 2, 3})"
      ]
     },
     "execution_count": 3,
     "metadata": {},
     "output_type": "execute_result"
    }
   ],
   "source": [
    "A.D"
   ]
  },
  {
   "cell_type": "code",
   "execution_count": 5,
   "id": "assigned-criticism",
   "metadata": {
    "execution": {
     "iopub.execute_input": "2021-02-04T13:43:33.952771Z",
     "iopub.status.busy": "2021-02-04T13:43:33.952528Z",
     "iopub.status.idle": "2021-02-04T13:43:33.982470Z",
     "shell.execute_reply": "2021-02-04T13:43:33.981593Z",
     "shell.execute_reply.started": "2021-02-04T13:43:33.952744Z"
    }
   },
   "outputs": [
    {
     "data": {
      "text/plain": [
       "dict_keys([(0, 0), (0, 1), (0, 2), (0, 3), (1, 0), (1, 1), (1, 2), (1, 3)])"
      ]
     },
     "execution_count": 5,
     "metadata": {},
     "output_type": "execute_result"
    }
   ],
   "source": [
    "A.f.keys()"
   ]
  },
  {
   "cell_type": "code",
   "execution_count": null,
   "id": "human-agent",
   "metadata": {},
   "outputs": [],
   "source": []
  },
  {
   "cell_type": "code",
   "execution_count": 14,
   "id": "conceptual-genius",
   "metadata": {
    "execution": {
     "iopub.execute_input": "2021-02-03T13:25:54.128140Z",
     "iopub.status.busy": "2021-02-03T13:25:54.127890Z",
     "iopub.status.idle": "2021-02-03T13:25:54.154776Z",
     "shell.execute_reply": "2021-02-03T13:25:54.153901Z",
     "shell.execute_reply.started": "2021-02-03T13:25:54.128113Z"
    }
   },
   "outputs": [
    {
     "name": "stdout",
     "output_type": "stream",
     "text": [
      "('a', '@'): ,\n",
      "('a', '#'): ,\n",
      "('a', '?'): ,\n",
      "('b', '@'): ,\n",
      "('b', '#'): ,\n",
      "('b', '?'): ,\n"
     ]
    }
   ],
   "source": [
    "import itertools\n",
    "for r, c in itertools.product(*D):\n",
    "    print(f\"('{r}', '{c}'): ,\")"
   ]
  },
  {
   "cell_type": "code",
   "execution_count": 7,
   "id": "general-explosion",
   "metadata": {
    "execution": {
     "iopub.execute_input": "2021-02-03T13:24:09.444793Z",
     "iopub.status.busy": "2021-02-03T13:24:09.444554Z",
     "iopub.status.idle": "2021-02-03T13:24:09.472347Z",
     "shell.execute_reply": "2021-02-03T13:24:09.471488Z",
     "shell.execute_reply.started": "2021-02-03T13:24:09.444767Z"
    }
   },
   "outputs": [],
   "source": [
    "D = ({'a', 'b'}, {'@', '#', '?'})"
   ]
  },
  {
   "cell_type": "code",
   "execution_count": 12,
   "id": "broadband-truth",
   "metadata": {
    "execution": {
     "iopub.execute_input": "2021-02-03T13:25:44.829319Z",
     "iopub.status.busy": "2021-02-03T13:25:44.829065Z",
     "iopub.status.idle": "2021-02-03T13:25:44.855801Z",
     "shell.execute_reply": "2021-02-03T13:25:44.855031Z",
     "shell.execute_reply.started": "2021-02-03T13:25:44.829290Z"
    }
   },
   "outputs": [],
   "source": [
    "f = {\n",
    "    (\"a\", \"@\"): 1,\n",
    "    (\"a\", \"#\"): 2,\n",
    "    (\"a\", \"?\"): 3,\n",
    "    (\"b\", \"@\"): 10,\n",
    "    (\"b\", \"#\"): 20,\n",
    "    (\"b\", \"?\"): 30,\n",
    "}"
   ]
  },
  {
   "cell_type": "code",
   "execution_count": 13,
   "id": "obvious-report",
   "metadata": {
    "execution": {
     "iopub.execute_input": "2021-02-03T13:25:48.985926Z",
     "iopub.status.busy": "2021-02-03T13:25:48.985685Z",
     "iopub.status.idle": "2021-02-03T13:25:49.014776Z",
     "shell.execute_reply": "2021-02-03T13:25:49.013878Z",
     "shell.execute_reply.started": "2021-02-03T13:25:48.985899Z"
    }
   },
   "outputs": [],
   "source": [
    "M = Mat(D, f)"
   ]
  },
  {
   "cell_type": "code",
   "execution_count": 6,
   "id": "desperate-vulnerability",
   "metadata": {
    "execution": {
     "iopub.execute_input": "2021-02-03T13:23:39.065325Z",
     "iopub.status.busy": "2021-02-03T13:23:39.065075Z",
     "iopub.status.idle": "2021-02-03T13:23:39.091019Z",
     "shell.execute_reply": "2021-02-03T13:23:39.090314Z",
     "shell.execute_reply.started": "2021-02-03T13:23:39.065298Z"
    }
   },
   "outputs": [],
   "source": []
  },
  {
   "cell_type": "code",
   "execution_count": 31,
   "id": "experienced-winner",
   "metadata": {
    "execution": {
     "iopub.execute_input": "2021-02-03T13:31:09.979247Z",
     "iopub.status.busy": "2021-02-03T13:31:09.978986Z",
     "iopub.status.idle": "2021-02-03T13:31:10.006379Z",
     "shell.execute_reply": "2021-02-03T13:31:10.005521Z",
     "shell.execute_reply.started": "2021-02-03T13:31:09.979217Z"
    }
   },
   "outputs": [],
   "source": [
    "def mat2rowdict(M):\n",
    "    \"\"\"return the rowdict representation of M\"\"\"\n",
    "    R, C = M.D\n",
    "    return {r: Vec(C, {c: M.f[(r, c)] for c in C}) for r in R}"
   ]
  },
  {
   "cell_type": "code",
   "execution_count": 32,
   "id": "synthetic-choice",
   "metadata": {
    "execution": {
     "iopub.execute_input": "2021-02-03T13:31:20.058226Z",
     "iopub.status.busy": "2021-02-03T13:31:20.057975Z",
     "iopub.status.idle": "2021-02-03T13:31:20.086372Z",
     "shell.execute_reply": "2021-02-03T13:31:20.085512Z",
     "shell.execute_reply.started": "2021-02-03T13:31:20.058198Z"
    }
   },
   "outputs": [
    {
     "data": {
      "text/plain": [
       "{'a': Vec({'@', '#', '?'}, {'@': 1, '#': 2, '?': 3}),\n",
       " 'b': Vec({'@', '#', '?'}, {'@': 10, '#': 20, '?': 30})}"
      ]
     },
     "execution_count": 32,
     "metadata": {},
     "output_type": "execute_result"
    }
   ],
   "source": [
    "mat2rowdict(M)"
   ]
  },
  {
   "cell_type": "code",
   "execution_count": 33,
   "id": "wired-roulette",
   "metadata": {
    "execution": {
     "iopub.execute_input": "2021-02-03T13:32:46.309348Z",
     "iopub.status.busy": "2021-02-03T13:32:46.309090Z",
     "iopub.status.idle": "2021-02-03T13:32:46.336632Z",
     "shell.execute_reply": "2021-02-03T13:32:46.335671Z",
     "shell.execute_reply.started": "2021-02-03T13:32:46.309319Z"
    }
   },
   "outputs": [],
   "source": [
    "def mat2coldict(M):\n",
    "    \"\"\"return the coldict representation of M\"\"\"\n",
    "    R, C = M.D\n",
    "    return {c: Vec(R, {r: M.f[(r, c)] for r in R}) for c in C}"
   ]
  },
  {
   "cell_type": "code",
   "execution_count": 34,
   "id": "handmade-luxembourg",
   "metadata": {
    "execution": {
     "iopub.execute_input": "2021-02-03T13:32:51.022435Z",
     "iopub.status.busy": "2021-02-03T13:32:51.022166Z",
     "iopub.status.idle": "2021-02-03T13:32:51.050175Z",
     "shell.execute_reply": "2021-02-03T13:32:51.049509Z",
     "shell.execute_reply.started": "2021-02-03T13:32:51.022406Z"
    }
   },
   "outputs": [
    {
     "data": {
      "text/plain": [
       "{'@': Vec({'a', 'b'}, {'a': 1, 'b': 10}),\n",
       " '#': Vec({'a', 'b'}, {'a': 2, 'b': 20}),\n",
       " '?': Vec({'a', 'b'}, {'a': 3, 'b': 30})}"
      ]
     },
     "execution_count": 34,
     "metadata": {},
     "output_type": "execute_result"
    }
   ],
   "source": [
    "mat2coldict(M)"
   ]
  },
  {
   "cell_type": "code",
   "execution_count": null,
   "id": "broke-stretch",
   "metadata": {},
   "outputs": [],
   "source": []
  },
  {
   "cell_type": "code",
   "execution_count": null,
   "id": "silver-purple",
   "metadata": {},
   "outputs": [],
   "source": []
  },
  {
   "cell_type": "code",
   "execution_count": null,
   "id": "mobile-mills",
   "metadata": {},
   "outputs": [],
   "source": []
  },
  {
   "cell_type": "code",
   "execution_count": null,
   "id": "informational-silly",
   "metadata": {},
   "outputs": [],
   "source": []
  }
 ],
 "metadata": {
  "kernelspec": {
   "display_name": "Python 3",
   "language": "python",
   "name": "python3"
  },
  "language_info": {
   "codemirror_mode": {
    "name": "ipython",
    "version": 3
   },
   "file_extension": ".py",
   "mimetype": "text/x-python",
   "name": "python",
   "nbconvert_exporter": "python",
   "pygments_lexer": "ipython3",
   "version": "3.9.0"
  }
 },
 "nbformat": 4,
 "nbformat_minor": 5
}
