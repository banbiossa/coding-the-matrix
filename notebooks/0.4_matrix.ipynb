{
 "cells": [
  {
   "cell_type": "markdown",
   "id": "seven-antique",
   "metadata": {},
   "source": [
    "# 0.4_matrix"
   ]
  },
  {
   "cell_type": "code",
   "execution_count": 58,
   "id": "naked-cleaner",
   "metadata": {
    "execution": {
     "iopub.execute_input": "2021-02-06T09:52:09.756614Z",
     "iopub.status.busy": "2021-02-06T09:52:09.756374Z",
     "iopub.status.idle": "2021-02-06T09:52:09.792349Z",
     "shell.execute_reply": "2021-02-06T09:52:09.791044Z",
     "shell.execute_reply.started": "2021-02-06T09:52:09.756588Z"
    }
   },
   "outputs": [
    {
     "name": "stdout",
     "output_type": "stream",
     "text": [
      "The autoreload extension is already loaded. To reload it, use:\n",
      "  %reload_ext autoreload\n",
      "The blackcellmagic extension is already loaded. To reload it, use:\n",
      "  %reload_ext blackcellmagic\n"
     ]
    }
   ],
   "source": [
    "%load_ext autoreload\n",
    "%autoreload 2\n",
    "%matplotlib inline\n",
    "%load_ext blackcellmagic\n",
    "\n",
    "import pandas as pd\n",
    "import numpy as np\n",
    "import seaborn as sns\n",
    "import matplotlib.pyplot as plt\n",
    "\n",
    "def nrows(n):\n",
    "    pd.options.display.max_rows = n\n",
    "\n",
    "nrows(5)\n",
    "\n",
    "import itertools\n",
    "from coding_the_matrix.Vec import Vec\n",
    "from coding_the_matrix.mat import Mat\n",
    "from coding_the_matrix.matutil import listlist2mat, value, keys, coldict2mat, rowdict2mat, mat2rowdict, mat2coldict\n",
    "from coding_the_matrix.vecutil import *\n",
    "from coding_the_matrix.GF2 import *"
   ]
  },
  {
   "cell_type": "code",
   "execution_count": 3,
   "id": "undefined-medicaid",
   "metadata": {
    "execution": {
     "iopub.execute_input": "2021-02-06T09:18:02.502570Z",
     "iopub.status.busy": "2021-02-06T09:18:02.502395Z",
     "iopub.status.idle": "2021-02-06T09:18:02.524467Z",
     "shell.execute_reply": "2021-02-06T09:18:02.523731Z",
     "shell.execute_reply.started": "2021-02-06T09:18:02.502549Z"
    }
   },
   "outputs": [],
   "source": [
    "A = listlist2mat([[10, 20, 30, 40], [50, 60, 70, 80]])"
   ]
  },
  {
   "cell_type": "code",
   "execution_count": 4,
   "id": "outdoor-macro",
   "metadata": {
    "execution": {
     "iopub.execute_input": "2021-02-06T09:18:02.526100Z",
     "iopub.status.busy": "2021-02-06T09:18:02.525901Z",
     "iopub.status.idle": "2021-02-06T09:18:02.567949Z",
     "shell.execute_reply": "2021-02-06T09:18:02.567294Z",
     "shell.execute_reply.started": "2021-02-06T09:18:02.526077Z"
    }
   },
   "outputs": [
    {
     "name": "stdout",
     "output_type": "stream",
     "text": [
      "    0   1   2   3\n",
      "0  10  20  30  40\n",
      "1  50  60  70  80\n"
     ]
    }
   ],
   "source": [
    "print(A)"
   ]
  },
  {
   "cell_type": "code",
   "execution_count": 5,
   "id": "whole-outline",
   "metadata": {
    "execution": {
     "iopub.execute_input": "2021-02-06T09:18:02.569405Z",
     "iopub.status.busy": "2021-02-06T09:18:02.569187Z",
     "iopub.status.idle": "2021-02-06T09:18:02.594924Z",
     "shell.execute_reply": "2021-02-06T09:18:02.594095Z",
     "shell.execute_reply.started": "2021-02-06T09:18:02.569380Z"
    }
   },
   "outputs": [],
   "source": [
    "def mat2Vec(M):\n",
    "    R, C = M.D\n",
    "    return Vec({(r,c) for r in R for c in C}, M.f) "
   ]
  },
  {
   "cell_type": "code",
   "execution_count": 6,
   "id": "dressed-flower",
   "metadata": {
    "execution": {
     "iopub.execute_input": "2021-02-06T09:18:02.596451Z",
     "iopub.status.busy": "2021-02-06T09:18:02.596241Z",
     "iopub.status.idle": "2021-02-06T09:18:02.622119Z",
     "shell.execute_reply": "2021-02-06T09:18:02.621166Z",
     "shell.execute_reply.started": "2021-02-06T09:18:02.596427Z"
    }
   },
   "outputs": [],
   "source": [
    "def tranpose(M):\n",
    "    R, C = M.D\n",
    "    D = (C, R)\n",
    "    f = {(c, r): v for (r, c), v in M.f.items()}\n",
    "    return Mat(D, f)"
   ]
  },
  {
   "cell_type": "code",
   "execution_count": 7,
   "id": "acting-birth",
   "metadata": {
    "execution": {
     "iopub.execute_input": "2021-02-06T09:18:02.625323Z",
     "iopub.status.busy": "2021-02-06T09:18:02.625057Z",
     "iopub.status.idle": "2021-02-06T09:18:02.653015Z",
     "shell.execute_reply": "2021-02-06T09:18:02.652394Z",
     "shell.execute_reply.started": "2021-02-06T09:18:02.625291Z"
    }
   },
   "outputs": [
    {
     "name": "stdout",
     "output_type": "stream",
     "text": [
      "    0   1\n",
      "0  10  50\n",
      "1  20  60\n",
      "2  30  70\n",
      "3  40  80\n"
     ]
    }
   ],
   "source": [
    "print(tranpose(A))"
   ]
  },
  {
   "cell_type": "code",
   "execution_count": 8,
   "id": "antique-explorer",
   "metadata": {
    "execution": {
     "iopub.execute_input": "2021-02-06T09:51:58.493101Z",
     "iopub.status.busy": "2021-02-06T09:51:58.492863Z",
     "iopub.status.idle": "2021-02-06T09:51:58.520001Z",
     "shell.execute_reply": "2021-02-06T09:51:58.519324Z",
     "shell.execute_reply.started": "2021-02-06T09:51:58.493075Z"
    }
   },
   "outputs": [],
   "source": [
    "def button_vectors(n):\n",
    "    D = {(x, y) for x, y in itertools.product(range(n), range(n))}\n",
    "    vecdict = {\n",
    "        (i, j): Vec(\n",
    "            D,\n",
    "            dict([((x, j), one) for x in range(max(i - 1, 0), min(i + 2, n))]+\n",
    "            [((i, y), one) for y in range(max(j - 1, 0), min(j + 2, n))]),\n",
    "        )\n",
    "        for (i, j) in D\n",
    "    }\n",
    "    return vecdict"
   ]
  },
  {
   "cell_type": "code",
   "execution_count": 9,
   "id": "announced-swedish",
   "metadata": {
    "execution": {
     "iopub.execute_input": "2021-02-06T09:51:58.649209Z",
     "iopub.status.busy": "2021-02-06T09:51:58.648977Z",
     "iopub.status.idle": "2021-02-06T09:51:58.673707Z",
     "shell.execute_reply": "2021-02-06T09:51:58.673026Z",
     "shell.execute_reply.started": "2021-02-06T09:51:58.649184Z"
    }
   },
   "outputs": [],
   "source": [
    "vectors = button_vectors(5)"
   ]
  },
  {
   "cell_type": "code",
   "execution_count": 10,
   "id": "quality-alignment",
   "metadata": {
    "execution": {
     "iopub.execute_input": "2021-02-06T09:51:58.799792Z",
     "iopub.status.busy": "2021-02-06T09:51:58.799563Z",
     "iopub.status.idle": "2021-02-06T09:51:58.825359Z",
     "shell.execute_reply": "2021-02-06T09:51:58.824689Z",
     "shell.execute_reply.started": "2021-02-06T09:51:58.799767Z"
    }
   },
   "outputs": [
    {
     "data": {
      "text/plain": [
       "Vec({(1, 3), (3, 0), (0, 2), (2, 1), (0, 3), (4, 0), (1, 2), (3, 3), (4, 4), (2, 2), (0, 4), (4, 1), (1, 1), (3, 2), (0, 0), (1, 4), (2, 3), (4, 2), (1, 0), (0, 1), (3, 1), (2, 0), (4, 3), (3, 4), (2, 4)}, {(0, 3): 1, (1, 3): 1, (2, 3): 1, (1, 2): 1, (1, 4): 1})"
      ]
     },
     "execution_count": 10,
     "metadata": {},
     "output_type": "execute_result"
    }
   ],
   "source": [
    "value(vectors)"
   ]
  },
  {
   "cell_type": "code",
   "execution_count": 11,
   "id": "timely-stupid",
   "metadata": {
    "execution": {
     "iopub.execute_input": "2021-02-06T09:51:58.963533Z",
     "iopub.status.busy": "2021-02-06T09:51:58.963301Z",
     "iopub.status.idle": "2021-02-06T09:51:58.988948Z",
     "shell.execute_reply": "2021-02-06T09:51:58.988246Z",
     "shell.execute_reply.started": "2021-02-06T09:51:58.963507Z"
    }
   },
   "outputs": [
    {
     "data": {
      "text/plain": [
       "dict_keys([(1, 3), (3, 0), (0, 2), (2, 1), (0, 3), (4, 0), (1, 2), (3, 3), (4, 4), (2, 2), (0, 4), (4, 1), (1, 1), (3, 2), (0, 0), (1, 4), (2, 3), (4, 2), (1, 0), (0, 1), (3, 1), (2, 0), (4, 3), (3, 4), (2, 4)])"
      ]
     },
     "execution_count": 11,
     "metadata": {},
     "output_type": "execute_result"
    }
   ],
   "source": [
    "keys(vectors)"
   ]
  },
  {
   "cell_type": "code",
   "execution_count": 12,
   "id": "cubic-jordan",
   "metadata": {
    "execution": {
     "iopub.execute_input": "2021-02-06T09:51:59.165101Z",
     "iopub.status.busy": "2021-02-06T09:51:59.164871Z",
     "iopub.status.idle": "2021-02-06T09:51:59.190953Z",
     "shell.execute_reply": "2021-02-06T09:51:59.189954Z",
     "shell.execute_reply.started": "2021-02-06T09:51:59.165076Z"
    }
   },
   "outputs": [
    {
     "data": {
      "text/plain": [
       "25"
      ]
     },
     "execution_count": 12,
     "metadata": {},
     "output_type": "execute_result"
    }
   ],
   "source": [
    "len(vectors)"
   ]
  },
  {
   "cell_type": "code",
   "execution_count": 13,
   "id": "visible-light",
   "metadata": {
    "execution": {
     "iopub.execute_input": "2021-02-06T09:51:59.303894Z",
     "iopub.status.busy": "2021-02-06T09:51:59.303694Z",
     "iopub.status.idle": "2021-02-06T09:51:59.325142Z",
     "shell.execute_reply": "2021-02-06T09:51:59.324374Z",
     "shell.execute_reply.started": "2021-02-06T09:51:59.303872Z"
    }
   },
   "outputs": [],
   "source": [
    "b = vectors[(0, 0)]"
   ]
  },
  {
   "cell_type": "code",
   "execution_count": 14,
   "id": "plastic-brook",
   "metadata": {
    "execution": {
     "iopub.execute_input": "2021-02-06T09:51:59.446154Z",
     "iopub.status.busy": "2021-02-06T09:51:59.445921Z",
     "iopub.status.idle": "2021-02-06T09:51:59.471998Z",
     "shell.execute_reply": "2021-02-06T09:51:59.471234Z",
     "shell.execute_reply.started": "2021-02-06T09:51:59.446128Z"
    }
   },
   "outputs": [
    {
     "data": {
      "text/plain": [
       "{4: 1}"
      ]
     },
     "execution_count": 14,
     "metadata": {},
     "output_type": "execute_result"
    }
   ],
   "source": [
    "dict([(4, 3)] + [(4, 1)])"
   ]
  },
  {
   "cell_type": "code",
   "execution_count": 15,
   "id": "present-broadway",
   "metadata": {
    "execution": {
     "iopub.execute_input": "2021-02-06T09:52:14.280252Z",
     "iopub.status.busy": "2021-02-06T09:52:14.280002Z",
     "iopub.status.idle": "2021-02-06T09:52:14.306054Z",
     "shell.execute_reply": "2021-02-06T09:52:14.305128Z",
     "shell.execute_reply.started": "2021-02-06T09:52:14.280224Z"
    }
   },
   "outputs": [],
   "source": [
    "B = coldict2mat(button_vectors(5))"
   ]
  },
  {
   "cell_type": "code",
   "execution_count": 16,
   "id": "flexible-lucas",
   "metadata": {
    "execution": {
     "iopub.execute_input": "2021-02-06T09:52:14.412164Z",
     "iopub.status.busy": "2021-02-06T09:52:14.411925Z",
     "iopub.status.idle": "2021-02-06T09:52:14.436326Z",
     "shell.execute_reply": "2021-02-06T09:52:14.435498Z",
     "shell.execute_reply.started": "2021-02-06T09:52:14.412139Z"
    }
   },
   "outputs": [],
   "source": [
    "s = Vec(b.D, {(2, 2): one})"
   ]
  },
  {
   "cell_type": "markdown",
   "id": "bigger-seeker",
   "metadata": {},
   "source": [
    "## Gnome"
   ]
  },
  {
   "cell_type": "code",
   "execution_count": 17,
   "id": "technical-substance",
   "metadata": {
    "execution": {
     "iopub.execute_input": "2021-02-06T09:52:16.243724Z",
     "iopub.status.busy": "2021-02-06T09:52:16.243472Z",
     "iopub.status.idle": "2021-02-06T09:52:16.271217Z",
     "shell.execute_reply": "2021-02-06T09:52:16.270521Z",
     "shell.execute_reply.started": "2021-02-06T09:52:16.243697Z"
    }
   },
   "outputs": [],
   "source": [
    "D = {'metal', 'concrete', 'plastic', 'water', 'electricity'}\n",
    "v_gnome = Vec(D, {'concrete': 1.3, 'plastic': .2, 'water': .8, 'electricity': .4})\n",
    "v_hoop = Vec(D, {'plastic': 1.5, 'water': .4, 'electricity': .3})\n",
    "v_slinky = Vec(D, {'metal': .25, 'water': .2, 'electricity': .7})\n",
    "v_putty = Vec(D, {'plastic': .3, 'water': .7, 'electricity': .5})\n",
    "v_shooter = Vec(D, {'metal': .15, 'plastic': .5, 'water': .4, 'electricity': .8})"
   ]
  },
  {
   "cell_type": "code",
   "execution_count": 18,
   "id": "worth-doctor",
   "metadata": {
    "execution": {
     "iopub.execute_input": "2021-02-06T09:52:16.875347Z",
     "iopub.status.busy": "2021-02-06T09:52:16.875100Z",
     "iopub.status.idle": "2021-02-06T09:52:16.901925Z",
     "shell.execute_reply": "2021-02-06T09:52:16.901140Z",
     "shell.execute_reply.started": "2021-02-06T09:52:16.875321Z"
    }
   },
   "outputs": [
    {
     "data": {
      "text/plain": [
       "Vec({'metal', 'concrete', 'water', 'electricity', 'plastic'}, {'electricity': 112.5, 'water': 214.0, 'concrete': 312.0, 'plastic': 130.5})"
      ]
     },
     "execution_count": 18,
     "metadata": {},
     "output_type": "execute_result"
    }
   ],
   "source": [
    "240*v_gnome + 55 * v_hoop"
   ]
  },
  {
   "cell_type": "code",
   "execution_count": 88,
   "id": "christian-costs",
   "metadata": {
    "execution": {
     "iopub.execute_input": "2021-02-06T09:52:17.142502Z",
     "iopub.status.busy": "2021-02-06T09:52:17.142258Z",
     "iopub.status.idle": "2021-02-06T09:52:17.167655Z",
     "shell.execute_reply": "2021-02-06T09:52:17.166847Z",
     "shell.execute_reply.started": "2021-02-06T09:52:17.142476Z"
    }
   },
   "outputs": [],
   "source": [
    "rowdict = {\n",
    "    'gnome': v_gnome,\n",
    "    'hoop': v_hoop,\n",
    "    'slinky': v_slinky,\n",
    "    'putty': v_putty,\n",
    "    'shooter': v_shooter,\n",
    "}"
   ]
  },
  {
   "cell_type": "code",
   "execution_count": 89,
   "id": "median-elizabeth",
   "metadata": {
    "execution": {
     "iopub.execute_input": "2021-02-06T10:13:58.601918Z",
     "iopub.status.busy": "2021-02-06T10:13:58.601720Z",
     "iopub.status.idle": "2021-02-06T10:13:58.637398Z",
     "shell.execute_reply": "2021-02-06T10:13:58.636760Z",
     "shell.execute_reply.started": "2021-02-06T10:13:58.601896Z"
    }
   },
   "outputs": [],
   "source": [
    "M = rowdict2mat(rowdict)"
   ]
  },
  {
   "cell_type": "code",
   "execution_count": 90,
   "id": "behavioral-boxing",
   "metadata": {
    "execution": {
     "iopub.execute_input": "2021-02-06T09:52:18.329547Z",
     "iopub.status.busy": "2021-02-06T09:52:18.329322Z",
     "iopub.status.idle": "2021-02-06T09:52:18.361186Z",
     "shell.execute_reply": "2021-02-06T09:52:18.360291Z",
     "shell.execute_reply.started": "2021-02-06T09:52:18.329522Z"
    }
   },
   "outputs": [
    {
     "name": "stdout",
     "output_type": "stream",
     "text": [
      "         metal  concrete  water  electricity  plastic\n",
      "shooter   0.15       0.0    0.4          0.8      0.5\n",
      "hoop      0.00       0.0    0.4          0.3      1.5\n",
      "putty     0.00       0.0    0.7          0.5      0.3\n",
      "slinky    0.25       0.0    0.2          0.7      0.0\n",
      "gnome     0.00       1.3    0.8          0.4      0.2\n"
     ]
    }
   ],
   "source": [
    "print(M)"
   ]
  },
  {
   "cell_type": "code",
   "execution_count": 22,
   "id": "complete-benjamin",
   "metadata": {
    "execution": {
     "iopub.execute_input": "2021-02-06T09:52:20.131084Z",
     "iopub.status.busy": "2021-02-06T09:52:20.130817Z",
     "iopub.status.idle": "2021-02-06T09:52:20.156548Z",
     "shell.execute_reply": "2021-02-06T09:52:20.155498Z",
     "shell.execute_reply.started": "2021-02-06T09:52:20.131057Z"
    }
   },
   "outputs": [],
   "source": [
    "R = set(rowdict.keys())"
   ]
  },
  {
   "cell_type": "code",
   "execution_count": 23,
   "id": "fossil-kingston",
   "metadata": {
    "execution": {
     "iopub.execute_input": "2021-02-06T10:11:34.711889Z",
     "iopub.status.busy": "2021-02-06T10:11:34.711650Z",
     "iopub.status.idle": "2021-02-06T10:11:34.738046Z",
     "shell.execute_reply": "2021-02-06T10:11:34.737361Z",
     "shell.execute_reply.started": "2021-02-06T10:11:34.711863Z"
    }
   },
   "outputs": [],
   "source": [
    "C = M.D[1]"
   ]
  },
  {
   "cell_type": "code",
   "execution_count": 24,
   "id": "cloudy-correction",
   "metadata": {
    "execution": {
     "iopub.execute_input": "2021-02-06T09:52:20.473013Z",
     "iopub.status.busy": "2021-02-06T09:52:20.472774Z",
     "iopub.status.idle": "2021-02-06T09:52:20.497544Z",
     "shell.execute_reply": "2021-02-06T09:52:20.496581Z",
     "shell.execute_reply.started": "2021-02-06T09:52:20.472988Z"
    }
   },
   "outputs": [],
   "source": [
    "u = Vec(R, {'putty': 133, 'gnome': 240, 'slinky': 150, 'hoop': 55, 'shooter': 90})"
   ]
  },
  {
   "cell_type": "code",
   "execution_count": 25,
   "id": "metallic-baghdad",
   "metadata": {
    "execution": {
     "iopub.execute_input": "2021-02-06T09:52:20.760961Z",
     "iopub.status.busy": "2021-02-06T09:52:20.760719Z",
     "iopub.status.idle": "2021-02-06T09:52:20.787223Z",
     "shell.execute_reply": "2021-02-06T09:52:20.786319Z",
     "shell.execute_reply.started": "2021-02-06T09:52:20.760935Z"
    }
   },
   "outputs": [
    {
     "data": {
      "text/plain": [
       "({'gnome', 'hoop', 'putty', 'shooter', 'slinky'},\n",
       " {'concrete', 'electricity', 'metal', 'plastic', 'water'})"
      ]
     },
     "execution_count": 25,
     "metadata": {},
     "output_type": "execute_result"
    }
   ],
   "source": [
    "M.D"
   ]
  },
  {
   "cell_type": "markdown",
   "id": "posted-panel",
   "metadata": {
    "execution": {
     "iopub.execute_input": "2021-02-06T08:48:29.173620Z",
     "iopub.status.busy": "2021-02-06T08:48:29.173381Z",
     "iopub.status.idle": "2021-02-06T08:48:29.199990Z",
     "shell.execute_reply": "2021-02-06T08:48:29.199165Z",
     "shell.execute_reply.started": "2021-02-06T08:48:29.173598Z"
    }
   },
   "source": [
    "Vec(M.D[1], {k: u * vec for k, vec in mat2coldict(M).items()})"
   ]
  },
  {
   "cell_type": "code",
   "execution_count": 26,
   "id": "aboriginal-present",
   "metadata": {
    "execution": {
     "iopub.execute_input": "2021-02-06T09:52:23.969429Z",
     "iopub.status.busy": "2021-02-06T09:52:23.969188Z",
     "iopub.status.idle": "2021-02-06T09:52:23.995536Z",
     "shell.execute_reply": "2021-02-06T09:52:23.994795Z",
     "shell.execute_reply.started": "2021-02-06T09:52:23.969402Z"
    }
   },
   "outputs": [
    {
     "data": {
      "text/plain": [
       "{'gnome', 'hoop', 'putty', 'shooter', 'slinky'}"
      ]
     },
     "execution_count": 26,
     "metadata": {},
     "output_type": "execute_result"
    }
   ],
   "source": [
    "u.D"
   ]
  },
  {
   "cell_type": "code",
   "execution_count": 27,
   "id": "bound-aging",
   "metadata": {
    "execution": {
     "iopub.execute_input": "2021-02-06T09:52:24.419194Z",
     "iopub.status.busy": "2021-02-06T09:52:24.418957Z",
     "iopub.status.idle": "2021-02-06T09:52:24.444805Z",
     "shell.execute_reply": "2021-02-06T09:52:24.443799Z",
     "shell.execute_reply.started": "2021-02-06T09:52:24.419168Z"
    }
   },
   "outputs": [
    {
     "data": {
      "text/plain": [
       "True"
      ]
     },
     "execution_count": 27,
     "metadata": {},
     "output_type": "execute_result"
    }
   ],
   "source": [
    "isinstance(M, Mat)"
   ]
  },
  {
   "cell_type": "code",
   "execution_count": 28,
   "id": "sensitive-extra",
   "metadata": {
    "execution": {
     "iopub.execute_input": "2021-02-06T09:53:10.765203Z",
     "iopub.status.busy": "2021-02-06T09:53:10.764971Z",
     "iopub.status.idle": "2021-02-06T09:53:10.803813Z",
     "shell.execute_reply": "2021-02-06T09:53:10.802892Z",
     "shell.execute_reply.started": "2021-02-06T09:53:10.765178Z"
    }
   },
   "outputs": [
    {
     "data": {
      "text/plain": [
       "Vec({'metal', 'concrete', 'water', 'electricity', 'plastic'}, {'metal': 51.0, 'concrete': 312.0, 'water': 373.1, 'electricity': 356.0, 'plastic': 215.4})"
      ]
     },
     "execution_count": 28,
     "metadata": {},
     "output_type": "execute_result"
    }
   ],
   "source": [
    "u * M"
   ]
  },
  {
   "cell_type": "code",
   "execution_count": 29,
   "id": "continuing-veteran",
   "metadata": {
    "execution": {
     "iopub.execute_input": "2021-02-06T08:55:17.582036Z",
     "iopub.status.busy": "2021-02-06T08:55:17.581794Z",
     "iopub.status.idle": "2021-02-06T08:55:17.608966Z",
     "shell.execute_reply": "2021-02-06T08:55:17.608145Z",
     "shell.execute_reply.started": "2021-02-06T08:55:17.582010Z"
    }
   },
   "outputs": [
    {
     "data": {
      "text/plain": [
       "({0, 1}, {0, 1, 2, 3})"
      ]
     },
     "execution_count": 29,
     "metadata": {},
     "output_type": "execute_result"
    }
   ],
   "source": [
    "A.D"
   ]
  },
  {
   "cell_type": "code",
   "execution_count": 40,
   "id": "negative-medicine",
   "metadata": {
    "execution": {
     "iopub.execute_input": "2021-02-04T13:43:33.952771Z",
     "iopub.status.busy": "2021-02-04T13:43:33.952528Z",
     "iopub.status.idle": "2021-02-04T13:43:33.982470Z",
     "shell.execute_reply": "2021-02-04T13:43:33.981593Z",
     "shell.execute_reply.started": "2021-02-04T13:43:33.952744Z"
    }
   },
   "outputs": [
    {
     "data": {
      "text/plain": [
       "[(0, 0), (0, 1), (0, 2), (0, 3), (1, 0), (1, 1), (1, 2), (1, 3)]"
      ]
     },
     "execution_count": 40,
     "metadata": {},
     "output_type": "execute_result"
    }
   ],
   "source": [
    "sorted(A.f.keys())"
   ]
  },
  {
   "cell_type": "code",
   "execution_count": 46,
   "id": "historic-configuration",
   "metadata": {},
   "outputs": [
    {
     "data": {
      "text/plain": [
       "{(0, 0): 10,\n",
       " (0, 1): 20,\n",
       " (0, 2): 30,\n",
       " (0, 3): 40,\n",
       " (1, 0): 50,\n",
       " (1, 1): 60,\n",
       " (1, 2): 70,\n",
       " (1, 3): 80}"
      ]
     },
     "execution_count": 46,
     "metadata": {},
     "output_type": "execute_result"
    }
   ],
   "source": [
    "{k: A.f[k] for k in sorted(A.f)}"
   ]
  },
  {
   "cell_type": "code",
   "execution_count": 42,
   "id": "substantial-scotland",
   "metadata": {},
   "outputs": [
    {
     "data": {
      "text/plain": [
       "[(0, 0), (0, 1), (1, 0)]"
      ]
     },
     "execution_count": 42,
     "metadata": {},
     "output_type": "execute_result"
    }
   ],
   "source": [
    "sorted([(1, 0), (0, 0), (0, 1)])"
   ]
  },
  {
   "cell_type": "code",
   "execution_count": 41,
   "id": "pacific-clearing",
   "metadata": {},
   "outputs": [
    {
     "data": {
      "text/plain": [
       "dict_keys([(0, 0), (0, 1), (0, 2), (0, 3), (1, 0), (1, 1), (1, 2), (1, 3)])"
      ]
     },
     "execution_count": 41,
     "metadata": {},
     "output_type": "execute_result"
    }
   ],
   "source": [
    "A.f.keys()"
   ]
  },
  {
   "cell_type": "code",
   "execution_count": 37,
   "id": "naked-vietnamese",
   "metadata": {},
   "outputs": [],
   "source": [
    "import sys\n",
    "sys.path.append('../coding_the_matrix/mat')"
   ]
  },
  {
   "cell_type": "code",
   "execution_count": 83,
   "id": "outstanding-illinois",
   "metadata": {
    "execution": {
     "iopub.execute_input": "2021-02-06T09:59:25.281767Z",
     "iopub.status.busy": "2021-02-06T09:59:25.281522Z",
     "iopub.status.idle": "2021-02-06T09:59:25.316537Z",
     "shell.execute_reply": "2021-02-06T09:59:25.315430Z",
     "shell.execute_reply.started": "2021-02-06T09:59:25.281740Z"
    }
   },
   "outputs": [],
   "source": [
    "from coding_the_matrix import solver"
   ]
  },
  {
   "cell_type": "code",
   "execution_count": 91,
   "id": "continental-growing",
   "metadata": {},
   "outputs": [
    {
     "ename": "TypeError",
     "evalue": "solve() missing 2 required positional arguments: 'A' and 'b'",
     "output_type": "error",
     "traceback": [
      "\u001b[0;31m---------------------------------------------------------------------------\u001b[0m",
      "\u001b[0;31mTypeError\u001b[0m                                 Traceback (most recent call last)",
      "\u001b[0;32m<ipython-input-91-6416c8340715>\u001b[0m in \u001b[0;36m<module>\u001b[0;34m\u001b[0m\n\u001b[0;32m----> 1\u001b[0;31m \u001b[0msolver\u001b[0m\u001b[0;34m.\u001b[0m\u001b[0msolve\u001b[0m\u001b[0;34m(\u001b[0m\u001b[0;34m)\u001b[0m\u001b[0;34m\u001b[0m\u001b[0m\n\u001b[0m",
      "\u001b[0;31mTypeError\u001b[0m: solve() missing 2 required positional arguments: 'A' and 'b'"
     ]
    }
   ],
   "source": [
    "solver.solve()"
   ]
  },
  {
   "cell_type": "code",
   "execution_count": 94,
   "id": "drawn-adobe",
   "metadata": {
    "execution": {
     "iopub.execute_input": "2021-02-06T10:11:56.181850Z",
     "iopub.status.busy": "2021-02-06T10:11:56.181604Z",
     "iopub.status.idle": "2021-02-06T10:11:56.207527Z",
     "shell.execute_reply": "2021-02-06T10:11:56.206567Z",
     "shell.execute_reply.started": "2021-02-06T10:11:56.181823Z"
    }
   },
   "outputs": [],
   "source": [
    "b = Vec({'metal', 'concrete', 'water', 'electricity', 'plastic'}, {'metal': 51.0, 'concrete': 312.0, 'water': 373.1, 'electricity': 356.0, 'plastic': 215.4})"
   ]
  },
  {
   "cell_type": "code",
   "execution_count": 95,
   "id": "personal-receptor",
   "metadata": {
    "execution": {
     "iopub.execute_input": "2021-02-06T10:14:09.128313Z",
     "iopub.status.busy": "2021-02-06T10:14:09.128063Z",
     "iopub.status.idle": "2021-02-06T10:14:09.155279Z",
     "shell.execute_reply": "2021-02-06T10:14:09.154354Z",
     "shell.execute_reply.started": "2021-02-06T10:14:09.128286Z"
    }
   },
   "outputs": [
    {
     "data": {
      "text/plain": [
       "Mat(({'metal', 'concrete', 'water', 'electricity', 'plastic'}, {'shooter', 'hoop', 'putty', 'slinky', 'gnome'}), {('concrete', 'gnome'): 1.3, ('concrete', 'hoop'): 0, ('concrete', 'putty'): 0, ('concrete', 'shooter'): 0, ('concrete', 'slinky'): 0, ('electricity', 'gnome'): 0.4, ('electricity', 'hoop'): 0.3, ('electricity', 'putty'): 0.5, ('electricity', 'shooter'): 0.8, ('electricity', 'slinky'): 0.7, ('metal', 'gnome'): 0, ('metal', 'hoop'): 0, ('metal', 'putty'): 0, ('metal', 'shooter'): 0.15, ('metal', 'slinky'): 0.25, ('plastic', 'gnome'): 0.2, ('plastic', 'hoop'): 1.5, ('plastic', 'putty'): 0.3, ('plastic', 'shooter'): 0.5, ('plastic', 'slinky'): 0, ('water', 'gnome'): 0.8, ('water', 'hoop'): 0.4, ('water', 'putty'): 0.7, ('water', 'shooter'): 0.4, ('water', 'slinky'): 0.2})"
      ]
     },
     "execution_count": 95,
     "metadata": {},
     "output_type": "execute_result"
    }
   ],
   "source": [
    "M.transpose()"
   ]
  },
  {
   "cell_type": "code",
   "execution_count": 96,
   "id": "imperial-attraction",
   "metadata": {
    "execution": {
     "iopub.execute_input": "2021-02-06T10:14:18.515010Z",
     "iopub.status.busy": "2021-02-06T10:14:18.514764Z",
     "iopub.status.idle": "2021-02-06T10:14:18.546286Z",
     "shell.execute_reply": "2021-02-06T10:14:18.545256Z",
     "shell.execute_reply.started": "2021-02-06T10:14:18.514984Z"
    }
   },
   "outputs": [
    {
     "ename": "AssertionError",
     "evalue": "",
     "output_type": "error",
     "traceback": [
      "\u001b[0;31m---------------------------------------------------------------------------\u001b[0m",
      "\u001b[0;31mAssertionError\u001b[0m                            Traceback (most recent call last)",
      "\u001b[0;32m<ipython-input-96-52af9100c0d5>\u001b[0m in \u001b[0;36m<module>\u001b[0;34m\u001b[0m\n\u001b[0;32m----> 1\u001b[0;31m \u001b[0msolution\u001b[0m \u001b[0;34m=\u001b[0m \u001b[0msolver\u001b[0m\u001b[0;34m.\u001b[0m\u001b[0msolve\u001b[0m\u001b[0;34m(\u001b[0m\u001b[0mM\u001b[0m\u001b[0;34m.\u001b[0m\u001b[0mtranspose\u001b[0m\u001b[0;34m(\u001b[0m\u001b[0;34m)\u001b[0m\u001b[0;34m,\u001b[0m \u001b[0mb\u001b[0m\u001b[0;34m)\u001b[0m\u001b[0;34m\u001b[0m\u001b[0m\n\u001b[0m",
      "\u001b[0;32m~/github.com/banbiossa/coding-the-matrix/coding_the_matrix/solver.py\u001b[0m in \u001b[0;36msolve\u001b[0;34m(A, b, eps)\u001b[0m\n",
      "\u001b[0;31mAssertionError\u001b[0m: "
     ]
    }
   ],
   "source": [
    "solution = solver.solve(M.transpose(), b)"
   ]
  },
  {
   "cell_type": "code",
   "execution_count": 113,
   "id": "bridal-reporter",
   "metadata": {},
   "outputs": [],
   "source": [
    "import dis"
   ]
  },
  {
   "cell_type": "code",
   "execution_count": 125,
   "id": "sophisticated-swaziland",
   "metadata": {},
   "outputs": [],
   "source": [
    "A = M.transpose()"
   ]
  },
  {
   "cell_type": "code",
   "execution_count": 126,
   "id": "infrared-palmer",
   "metadata": {},
   "outputs": [
    {
     "data": {
      "text/plain": [
       "Mat(({'metal', 'concrete', 'water', 'electricity', 'plastic'}, {'shooter', 'hoop', 'putty', 'slinky', 'gnome'}), {('concrete', 'gnome'): 1.3, ('concrete', 'hoop'): 0, ('concrete', 'putty'): 0, ('concrete', 'shooter'): 0, ('concrete', 'slinky'): 0, ('electricity', 'gnome'): 0.4, ('electricity', 'hoop'): 0.3, ('electricity', 'putty'): 0.5, ('electricity', 'shooter'): 0.8, ('electricity', 'slinky'): 0.7, ('metal', 'gnome'): 0, ('metal', 'hoop'): 0, ('metal', 'putty'): 0, ('metal', 'shooter'): 0.15, ('metal', 'slinky'): 0.25, ('plastic', 'gnome'): 0.2, ('plastic', 'hoop'): 1.5, ('plastic', 'putty'): 0.3, ('plastic', 'shooter'): 0.5, ('plastic', 'slinky'): 0, ('water', 'gnome'): 0.8, ('water', 'hoop'): 0.4, ('water', 'putty'): 0.7, ('water', 'shooter'): 0.4, ('water', 'slinky'): 0.2})"
      ]
     },
     "execution_count": 126,
     "metadata": {},
     "output_type": "execute_result"
    }
   ],
   "source": [
    "A"
   ]
  },
  {
   "cell_type": "code",
   "execution_count": 122,
   "id": "republican-stanford",
   "metadata": {},
   "outputs": [
    {
     "data": {
      "text/plain": [
       "Vec({'metal', 'concrete', 'water', 'electricity', 'plastic'}, {'metal': 51.0, 'concrete': 312.0, 'water': 373.1, 'electricity': 356.0, 'plastic': 215.4})"
      ]
     },
     "execution_count": 122,
     "metadata": {},
     "output_type": "execute_result"
    }
   ],
   "source": [
    "b"
   ]
  },
  {
   "cell_type": "code",
   "execution_count": 134,
   "id": "handmade-punishment",
   "metadata": {},
   "outputs": [],
   "source": [
    "rowdict = mat2rowdict(A)"
   ]
  },
  {
   "cell_type": "code",
   "execution_count": 135,
   "id": "documented-satin",
   "metadata": {},
   "outputs": [
    {
     "data": {
      "text/plain": [
       "{'concrete': Vec({'shooter', 'hoop', 'putty', 'slinky', 'gnome'}, {'shooter': 0, 'hoop': 0, 'putty': 0, 'slinky': 0, 'gnome': 1.3}),\n",
       " 'electricity': Vec({'shooter', 'hoop', 'putty', 'slinky', 'gnome'}, {'shooter': 0.8, 'hoop': 0.3, 'putty': 0.5, 'slinky': 0.7, 'gnome': 0.4}),\n",
       " 'metal': Vec({'shooter', 'hoop', 'putty', 'slinky', 'gnome'}, {'shooter': 0.15, 'hoop': 0, 'putty': 0, 'slinky': 0.25, 'gnome': 0}),\n",
       " 'plastic': Vec({'shooter', 'hoop', 'putty', 'slinky', 'gnome'}, {'shooter': 0.5, 'hoop': 1.5, 'putty': 0.3, 'slinky': 0, 'gnome': 0.2}),\n",
       " 'water': Vec({'shooter', 'hoop', 'putty', 'slinky', 'gnome'}, {'shooter': 0.4, 'hoop': 0.4, 'putty': 0.7, 'slinky': 0.2, 'gnome': 0.8})}"
      ]
     },
     "execution_count": 135,
     "metadata": {},
     "output_type": "execute_result"
    }
   ],
   "source": [
    "rowdict"
   ]
  },
  {
   "cell_type": "code",
   "execution_count": 130,
   "id": "adult-dialogue",
   "metadata": {},
   "outputs": [
    {
     "data": {
      "text/plain": [
       "Vec({'metal', 'concrete', 'water', 'electricity', 'plastic'}, {'metal': 51.0, 'concrete': 312.0, 'water': 373.1, 'electricity': 356.0, 'plastic': 215.4})"
      ]
     },
     "execution_count": 130,
     "metadata": {},
     "output_type": "execute_result"
    }
   ],
   "source": [
    "b"
   ]
  },
  {
   "cell_type": "code",
   "execution_count": 133,
   "id": "scheduled-nursery",
   "metadata": {},
   "outputs": [
    {
     "data": {
      "text/plain": [
       "{'concrete', 'electricity', 'metal', 'plastic', 'water'}"
      ]
     },
     "execution_count": 133,
     "metadata": {},
     "output_type": "execute_result"
    }
   ],
   "source": [
    "b.D"
   ]
  },
  {
   "cell_type": "code",
   "execution_count": 183,
   "id": "affiliated-sociology",
   "metadata": {},
   "outputs": [],
   "source": [
    "R, C = A.D\n",
    "assert len(R) == len(C)\n",
    "N = len(R)"
   ]
  },
  {
   "cell_type": "code",
   "execution_count": 184,
   "id": "fiscal-petite",
   "metadata": {},
   "outputs": [
    {
     "data": {
      "text/plain": [
       "{'concrete', 'electricity', 'metal', 'plastic', 'water'}"
      ]
     },
     "execution_count": 184,
     "metadata": {},
     "output_type": "execute_result"
    }
   ],
   "source": [
    "R"
   ]
  },
  {
   "cell_type": "code",
   "execution_count": 186,
   "id": "apparent-following",
   "metadata": {},
   "outputs": [
    {
     "data": {
      "text/plain": [
       "Vec({'metal', 'concrete', 'water', 'electricity', 'plastic'}, {'metal': 51.0, 'concrete': 312.0, 'water': 373.1, 'electricity': 356.0, 'plastic': 215.4})"
      ]
     },
     "execution_count": 186,
     "metadata": {},
     "output_type": "execute_result"
    }
   ],
   "source": [
    "b"
   ]
  },
  {
   "cell_type": "code",
   "execution_count": null,
   "id": "metallic-wednesday",
   "metadata": {},
   "outputs": [],
   "source": [
    "from typing import Tuple\n",
    "def get_max_row(col, rowdict) -> Tuple[str, Vec]:\n",
    "    \"\"\"get row from rowdict where col is max\"\"\"\n",
    "    return sorted(rowdict.items(), key= lambda x: x[1].f[col])[-1]"
   ]
  },
  {
   "cell_type": "code",
   "execution_count": null,
   "id": "afraid-travel",
   "metadata": {},
   "outputs": [],
   "source": []
  },
  {
   "cell_type": "code",
   "execution_count": 243,
   "id": "agricultural-damages",
   "metadata": {},
   "outputs": [],
   "source": [
    "rowdict = mat2rowdict(A)\n",
    "upper_triangle = {}  # 結果をいれる\n",
    "\n",
    "# select col to operate on\n",
    "for col in C:\n",
    "    # get row where col is max value\n",
    "    row, rowvec = get_max_row(col, rowdict)\n",
    "    rowdict.pop(row)\n",
    "    upper_triangle.update({row: rowvec}.copy())\n",
    "    \n",
    "    # iterate over the rows\n",
    "    for other, othervec in rowdict.items():\n",
    "        # coef\n",
    "        coef = othervec[col]/rowvec[col]\n",
    "\n",
    "        # update rowvec\n",
    "        othervec -= coef * rowvec\n",
    "        rowdict[other] = othervec\n",
    "\n",
    "        # update b\n",
    "        b[other] -= coef * b[row]"
   ]
  },
  {
   "cell_type": "code",
   "execution_count": 244,
   "id": "perfect-relation",
   "metadata": {},
   "outputs": [
    {
     "data": {
      "text/plain": [
       "{'electricity': Vec({'shooter', 'hoop', 'putty', 'slinky', 'gnome'}, {'shooter': 0.8, 'hoop': 0.3, 'putty': 0.5, 'slinky': 0.7, 'gnome': 0.4}),\n",
       " 'plastic': Vec({'shooter', 'hoop', 'putty', 'slinky', 'gnome'}, {'shooter': 0.0, 'hoop': 1.3125, 'putty': -0.012500000000000011, 'slinky': -0.4375, 'gnome': -0.04999999999999999}),\n",
       " 'water': Vec({'shooter', 'hoop', 'putty', 'slinky', 'gnome'}, {'shooter': 0.0, 'hoop': 0.0, 'putty': 0.45238095238095233, 'slinky': -0.06666666666666664, 'gnome': 0.6095238095238096}),\n",
       " 'metal': Vec({'shooter', 'hoop', 'putty', 'slinky', 'gnome'}, {'shooter': 0.0, 'hoop': 6.938893903907228e-18, 'putty': 0.0, 'slinky': 0.08610526315789478, 'gnome': 0.04989473684210528}),\n",
       " 'concrete': Vec({'shooter', 'hoop', 'putty', 'slinky', 'gnome'}, {'shooter': 0.0, 'hoop': 0.0, 'putty': 0.0, 'slinky': 0.0, 'gnome': 1.3})}"
      ]
     },
     "execution_count": 244,
     "metadata": {},
     "output_type": "execute_result"
    }
   ],
   "source": [
    "upper_triangle"
   ]
  },
  {
   "cell_type": "code",
   "execution_count": 250,
   "id": "juvenile-angel",
   "metadata": {},
   "outputs": [],
   "source": [
    "M2 = rowdict2mat(upper_triangle)"
   ]
  },
  {
   "cell_type": "code",
   "execution_count": 251,
   "id": "serial-hamilton",
   "metadata": {},
   "outputs": [
    {
     "name": "stdout",
     "output_type": "stream",
     "text": [
      "             shooter          hoop     putty    slinky     gnome\n",
      "metal            0.0  6.938894e-18  0.000000  0.086105  0.049895\n",
      "concrete         0.0  0.000000e+00  0.000000  0.000000  1.300000\n",
      "water            0.0  0.000000e+00  0.452381 -0.066667  0.609524\n",
      "electricity      0.8  3.000000e-01  0.500000  0.700000  0.400000\n",
      "plastic          0.0  1.312500e+00 -0.012500 -0.437500 -0.050000\n"
     ]
    }
   ],
   "source": [
    "print(M2)"
   ]
  },
  {
   "cell_type": "code",
   "execution_count": null,
   "id": "possible-england",
   "metadata": {},
   "outputs": [],
   "source": []
  },
  {
   "cell_type": "code",
   "execution_count": null,
   "id": "municipal-surveillance",
   "metadata": {},
   "outputs": [],
   "source": []
  },
  {
   "cell_type": "code",
   "execution_count": 210,
   "id": "eastern-victoria",
   "metadata": {},
   "outputs": [],
   "source": [
    "# coef\n",
    "coef = othervec[col]/rowvec[col]\n",
    "\n",
    "# update rowvec\n",
    "othervec -= coef * rowvec\n",
    "rowdict[other] = othervec\n",
    "\n",
    "# update b\n",
    "b[other] -= coef * b[row]"
   ]
  },
  {
   "cell_type": "code",
   "execution_count": 213,
   "id": "severe-bunch",
   "metadata": {},
   "outputs": [
    {
     "data": {
      "text/plain": [
       "Vec({'metal', 'concrete', 'water', 'electricity', 'plastic'}, {'metal': 51.0, 'concrete': 312.0, 'water': 373.1, 'electricity': 356.0, 'plastic': 215.4})"
      ]
     },
     "execution_count": 213,
     "metadata": {},
     "output_type": "execute_result"
    }
   ],
   "source": [
    "b"
   ]
  },
  {
   "cell_type": "code",
   "execution_count": 220,
   "id": "mounted-approach",
   "metadata": {},
   "outputs": [
    {
     "data": {
      "text/plain": [
       "('electricity', 356.0, 'metal', 51.0)"
      ]
     },
     "execution_count": 220,
     "metadata": {},
     "output_type": "execute_result"
    }
   ],
   "source": [
    "row, b[row], other, b[other]"
   ]
  },
  {
   "cell_type": "code",
   "execution_count": 222,
   "id": "varied-shame",
   "metadata": {},
   "outputs": [],
   "source": []
  },
  {
   "cell_type": "code",
   "execution_count": 221,
   "id": "cubic-german",
   "metadata": {},
   "outputs": [
    {
     "data": {
      "text/plain": [
       "0.0"
      ]
     },
     "execution_count": 221,
     "metadata": {},
     "output_type": "execute_result"
    }
   ],
   "source": [
    "coef"
   ]
  },
  {
   "cell_type": "code",
   "execution_count": 219,
   "id": "emerging-salem",
   "metadata": {},
   "outputs": [
    {
     "name": "stdout",
     "output_type": "stream",
     "text": [
      "             shooter  hoop  putty  slinky  gnome\n",
      "metal           0.15   0.0    0.0    0.25    0.0\n",
      "concrete        0.00   0.0    0.0    0.00    1.3\n",
      "water           0.40   0.4    0.7    0.20    0.8\n",
      "electricity     0.80   0.3    0.5    0.70    0.4\n",
      "plastic         0.50   1.5    0.3    0.00    0.2\n"
     ]
    }
   ],
   "source": [
    "print(A)"
   ]
  },
  {
   "cell_type": "code",
   "execution_count": 217,
   "id": "vertical-isolation",
   "metadata": {},
   "outputs": [
    {
     "data": {
      "text/plain": [
       "'shooter'"
      ]
     },
     "execution_count": 217,
     "metadata": {},
     "output_type": "execute_result"
    }
   ],
   "source": [
    "col"
   ]
  },
  {
   "cell_type": "code",
   "execution_count": 211,
   "id": "broadband-quest",
   "metadata": {},
   "outputs": [
    {
     "data": {
      "text/plain": [
       "'metal'"
      ]
     },
     "execution_count": 211,
     "metadata": {},
     "output_type": "execute_result"
    }
   ],
   "source": [
    "other"
   ]
  },
  {
   "cell_type": "code",
   "execution_count": 212,
   "id": "disciplinary-microwave",
   "metadata": {},
   "outputs": [
    {
     "data": {
      "text/plain": [
       "{'metal': Vec({'shooter', 'hoop', 'putty', 'slinky', 'gnome'}, {'shooter': 0.0, 'hoop': -0.05624999999999999, 'putty': -0.09374999999999999, 'slinky': 0.11875000000000002, 'gnome': -0.075}),\n",
       " 'concrete': Vec({'shooter', 'hoop', 'putty', 'slinky', 'gnome'}, {'shooter': 0, 'hoop': 0, 'putty': 0, 'slinky': 0, 'gnome': 1.3}),\n",
       " 'water': Vec({'shooter', 'hoop', 'putty', 'slinky', 'gnome'}, {'shooter': 0.4, 'hoop': 0.4, 'putty': 0.7, 'slinky': 0.2, 'gnome': 0.8}),\n",
       " 'plastic': Vec({'shooter', 'hoop', 'putty', 'slinky', 'gnome'}, {'shooter': 0.5, 'hoop': 1.5, 'putty': 0.3, 'slinky': 0, 'gnome': 0.2})}"
      ]
     },
     "execution_count": 212,
     "metadata": {},
     "output_type": "execute_result"
    }
   ],
   "source": [
    "rowdict"
   ]
  },
  {
   "cell_type": "code",
   "execution_count": null,
   "id": "perfect-encoding",
   "metadata": {},
   "outputs": [],
   "source": []
  },
  {
   "cell_type": "code",
   "execution_count": 175,
   "id": "quality-creek",
   "metadata": {},
   "outputs": [
    {
     "data": {
      "text/plain": [
       "Vec({'shooter', 'hoop', 'putty', 'slinky', 'gnome'}, {'shooter': 0, 'hoop': 0, 'putty': 0, 'slinky': 0, 'gnome': 1.3})"
      ]
     },
     "execution_count": 175,
     "metadata": {},
     "output_type": "execute_result"
    }
   ],
   "source": [
    "rowvec"
   ]
  },
  {
   "cell_type": "code",
   "execution_count": 173,
   "id": "straight-rescue",
   "metadata": {},
   "outputs": [
    {
     "data": {
      "text/plain": [
       "Vec({'shooter', 'hoop', 'putty', 'slinky', 'gnome'}, {'shooter': 0.8, 'hoop': 0.3, 'putty': 0.5, 'slinky': 0.7, 'gnome': 0.4})"
      ]
     },
     "execution_count": 173,
     "metadata": {},
     "output_type": "execute_result"
    }
   ],
   "source": [
    "othervec"
   ]
  },
  {
   "cell_type": "code",
   "execution_count": 176,
   "id": "structural-blind",
   "metadata": {},
   "outputs": [
    {
     "data": {
      "text/plain": [
       "1.3"
      ]
     },
     "execution_count": 176,
     "metadata": {},
     "output_type": "execute_result"
    }
   ],
   "source": [
    "rowvec[col]"
   ]
  },
  {
   "cell_type": "code",
   "execution_count": 182,
   "id": "meaning-directory",
   "metadata": {},
   "outputs": [
    {
     "data": {
      "text/plain": [
       "{'concrete': Vec({'shooter', 'hoop', 'putty', 'slinky', 'gnome'}, {'shooter': 0, 'hoop': 0, 'putty': 0, 'slinky': 0, 'gnome': 1.3}),\n",
       " 'electricity': Vec({'shooter', 'hoop', 'putty', 'slinky', 'gnome'}, {'shooter': 0.8, 'hoop': 0.3, 'putty': 0.5, 'slinky': 0.7, 'gnome': 0.4}),\n",
       " 'metal': Vec({'shooter', 'hoop', 'putty', 'slinky', 'gnome'}, {'shooter': 0.15, 'hoop': 0, 'putty': 0, 'slinky': 0.25, 'gnome': 0}),\n",
       " 'plastic': Vec({'shooter', 'hoop', 'putty', 'slinky', 'gnome'}, {'shooter': 0.5, 'hoop': 1.5, 'putty': 0.3, 'slinky': 0, 'gnome': 0.2}),\n",
       " 'water': Vec({'shooter', 'hoop', 'putty', 'slinky', 'gnome'}, {'shooter': 0.4, 'hoop': 0.4, 'putty': 0.7, 'slinky': 0.2, 'gnome': 0.8})}"
      ]
     },
     "execution_count": 182,
     "metadata": {},
     "output_type": "execute_result"
    }
   ],
   "source": [
    "rowdict"
   ]
  },
  {
   "cell_type": "code",
   "execution_count": null,
   "id": "informal-consumption",
   "metadata": {},
   "outputs": [],
   "source": []
  },
  {
   "cell_type": "code",
   "execution_count": null,
   "id": "supposed-fiction",
   "metadata": {},
   "outputs": [],
   "source": []
  },
  {
   "cell_type": "code",
   "execution_count": null,
   "id": "reverse-reach",
   "metadata": {},
   "outputs": [],
   "source": [
    "sol"
   ]
  },
  {
   "cell_type": "code",
   "execution_count": null,
   "id": "moderate-module",
   "metadata": {},
   "outputs": [],
   "source": [
    "solver"
   ]
  },
  {
   "cell_type": "code",
   "execution_count": 105,
   "id": "burning-portuguese",
   "metadata": {},
   "outputs": [
    {
     "data": {
      "text/plain": [
       "<code object solve at 0x16835e150, file \"../resources/private/solver.py\", line 186>"
      ]
     },
     "execution_count": 105,
     "metadata": {},
     "output_type": "execute_result"
    }
   ],
   "source": [
    "solver.solve.__code__"
   ]
  },
  {
   "cell_type": "code",
   "execution_count": 106,
   "id": "spare-consolidation",
   "metadata": {},
   "outputs": [],
   "source": [
    "import inspect"
   ]
  },
  {
   "cell_type": "code",
   "execution_count": 108,
   "id": "simple-wheat",
   "metadata": {},
   "outputs": [
    {
     "data": {
      "text/plain": [
       "\u001b[0;31mSignature:\u001b[0m \u001b[0msolver\u001b[0m\u001b[0;34m.\u001b[0m\u001b[0msolve\u001b[0m\u001b[0;34m(\u001b[0m\u001b[0mA\u001b[0m\u001b[0;34m,\u001b[0m \u001b[0mb\u001b[0m\u001b[0;34m,\u001b[0m \u001b[0meps\u001b[0m\u001b[0;34m=\u001b[0m\u001b[0;36m1e-15\u001b[0m\u001b[0;34m)\u001b[0m\u001b[0;34m\u001b[0m\u001b[0m\n",
       "\u001b[0;31mDocstring:\u001b[0m\n",
       "Solve the matrix-vector equation Ax = b.\n",
       "\n",
       "If a solution to Ax = b does not exist, then the vector returned by\n",
       "solve(A, b) is not a solution.  Please verify that Ax = b.\n",
       "\n",
       "Args:\n",
       "    A: A matrix of type Mat.\n",
       "    b: A vector of type Vec.\n",
       "    eps: A threshold.  Optional.\n",
       "\n",
       "Returns:\n",
       "    x: A vector of type Vec.\n",
       "\n",
       "Raises:\n",
       "    AssertionError: An error occurs when A is not a matrix of type Mat.\n",
       "    AssertionError: An error occurs when b is not a vector of type Vec.\n",
       "    AssertionError: An error occurs when A.D[0] != b.D.\n",
       "\n",
       "Example 1: Solve Ax = b and verify that x is close to b.\n",
       ">>> from vec import Vec\n",
       ">>> from mat import Mat\n",
       ">>> A = mat.Mat(({0, 1, 2}, {0, 1}), {(0, 1): 2, (2, 0): 10, (1, 0): 3, (0, 0): 1, (1, 1): 4})\n",
       ">>> b = vec.Vec({0, 1, 2},{0: 1, 1: 5, 2: 30})\n",
       ">>> A.D[0] == b.D\n",
       "True\n",
       ">>> x = solve(A, b)\n",
       ">>> A.D[1] == x.D\n",
       "True\n",
       ">>> (b-A*x).is_almost_zero()\n",
       "True\n",
       "\n",
       "Example 2: Solve Ax = b and see that x is not a valid solution.\n",
       ">>> A = mat.Mat(({0, 1}, {0, 1}), {(1, 1): 1})\n",
       ">>> b = vec.Vec({0, 1},{0: 2, 1: 3})\n",
       ">>> A.D[0] == b.D\n",
       "True\n",
       ">>> x = solve(A, b)\n",
       ">>> A.D[1] == x.D\n",
       "True\n",
       ">>> (b-A*x).is_almost_zero()\n",
       "False\n",
       "\n",
       "Example 3: Solve when A and b are over GF(2).\n",
       ">>> from GF2 import one\n",
       ">>> A = Mat(({'a','b'},{'A','B'}), {('a','A'):one, ('a','B'):one, ('b','B'):one})\n",
       ">>> b = Vec({'a','b'}, {'a':one})\n",
       ">>> x = solve(A, b)\n",
       ">>> A*x==b\n",
       "True\n",
       ">>> (b-A*x).is_almost_zero()\n",
       "True\n",
       "\u001b[0;31mFile:\u001b[0m      ~/github.com/banbiossa/coding-the-matrix/resources/private/solver.py\n",
       "\u001b[0;31mType:\u001b[0m      function\n"
      ]
     },
     "metadata": {},
     "output_type": "display_data"
    }
   ],
   "source": [
    "solver.solve?"
   ]
  },
  {
   "cell_type": "code",
   "execution_count": 101,
   "id": "dressed-tuesday",
   "metadata": {},
   "outputs": [
    {
     "data": {
      "text/plain": [
       "Vec({'metal', 'concrete', 'water', 'electricity', 'plastic'}, {'metal': 51.0, 'concrete': 312.0, 'water': 373.1, 'electricity': 356.0, 'plastic': 215.4})"
      ]
     },
     "execution_count": 101,
     "metadata": {},
     "output_type": "execute_result"
    }
   ],
   "source": [
    "b"
   ]
  },
  {
   "cell_type": "code",
   "execution_count": 102,
   "id": "binary-salvation",
   "metadata": {},
   "outputs": [
    {
     "data": {
      "text/plain": [
       "Mat(({'metal', 'concrete', 'water', 'electricity', 'plastic'}, {'shooter', 'hoop', 'putty', 'slinky', 'gnome'}), {('concrete', 'gnome'): 1.3, ('concrete', 'hoop'): 0, ('concrete', 'putty'): 0, ('concrete', 'shooter'): 0, ('concrete', 'slinky'): 0, ('electricity', 'gnome'): 0.4, ('electricity', 'hoop'): 0.3, ('electricity', 'putty'): 0.5, ('electricity', 'shooter'): 0.8, ('electricity', 'slinky'): 0.7, ('metal', 'gnome'): 0, ('metal', 'hoop'): 0, ('metal', 'putty'): 0, ('metal', 'shooter'): 0.15, ('metal', 'slinky'): 0.25, ('plastic', 'gnome'): 0.2, ('plastic', 'hoop'): 1.5, ('plastic', 'putty'): 0.3, ('plastic', 'shooter'): 0.5, ('plastic', 'slinky'): 0, ('water', 'gnome'): 0.8, ('water', 'hoop'): 0.4, ('water', 'putty'): 0.7, ('water', 'shooter'): 0.4, ('water', 'slinky'): 0.2})"
      ]
     },
     "execution_count": 102,
     "metadata": {},
     "output_type": "execute_result"
    }
   ],
   "source": [
    "M.transpose()"
   ]
  },
  {
   "cell_type": "code",
   "execution_count": 97,
   "id": "transsexual-barbados",
   "metadata": {},
   "outputs": [
    {
     "data": {
      "text/plain": [
       "Vec({'metal', 'concrete', 'water', 'electricity', 'plastic'}, {'metal': 51.0, 'concrete': 312.0, 'water': 373.1, 'electricity': 356.0, 'plastic': 215.4})"
      ]
     },
     "execution_count": 97,
     "metadata": {},
     "output_type": "execute_result"
    }
   ],
   "source": []
  },
  {
   "cell_type": "code",
   "execution_count": null,
   "id": "stylish-constitution",
   "metadata": {},
   "outputs": [],
   "source": [
    "solution"
   ]
  },
  {
   "cell_type": "code",
   "execution_count": null,
   "id": "economic-reliance",
   "metadata": {},
   "outputs": [],
   "source": [
    "residual = b - solution * M"
   ]
  },
  {
   "cell_type": "code",
   "execution_count": null,
   "id": "foster-safety",
   "metadata": {},
   "outputs": [],
   "source": [
    "assert residual * residual < 1e-10"
   ]
  },
  {
   "cell_type": "code",
   "execution_count": 49,
   "id": "available-lewis",
   "metadata": {
    "execution": {
     "iopub.execute_input": "2021-02-06T10:12:21.083996Z",
     "iopub.status.busy": "2021-02-06T10:12:21.083738Z",
     "iopub.status.idle": "2021-02-06T10:12:21.114158Z",
     "shell.execute_reply": "2021-02-06T10:12:21.113071Z",
     "shell.execute_reply.started": "2021-02-06T10:12:21.083970Z"
    }
   },
   "outputs": [
    {
     "name": "stdout",
     "output_type": "stream",
     "text": [
      "         metal  concrete  water  electricity  plastic\n",
      "hoop      0.00       0.0    0.4          0.3      1.5\n",
      "gnome     0.00       1.3    0.8          0.4      0.2\n",
      "putty     0.00       0.0    0.7          0.5      0.3\n",
      "slinky    0.25       0.0    0.2          0.7      0.0\n",
      "shooter   0.15       0.0    0.4          0.8      0.5\n"
     ]
    }
   ],
   "source": [
    "print(M)"
   ]
  },
  {
   "cell_type": "code",
   "execution_count": null,
   "id": "paperback-turning",
   "metadata": {},
   "outputs": [],
   "source": [
    "M.tra"
   ]
  },
  {
   "cell_type": "code",
   "execution_count": 50,
   "id": "foreign-necessity",
   "metadata": {},
   "outputs": [],
   "source": [
    "M = coldict2mat({0:Vec({0,1},{0:1,1:2}),1:Vec({0,1},{0:3,1:4})})"
   ]
  },
  {
   "cell_type": "code",
   "execution_count": 54,
   "id": "willing-organizer",
   "metadata": {},
   "outputs": [],
   "source": [
    "b = Vec({0, 1}, {0: 5, 1: 6})"
   ]
  },
  {
   "cell_type": "code",
   "execution_count": 57,
   "id": "spiritual-allowance",
   "metadata": {},
   "outputs": [
    {
     "data": {
      "text/plain": [
       "Vec({0, 1}, {0: 5, 1: 6})"
      ]
     },
     "execution_count": 57,
     "metadata": {},
     "output_type": "execute_result"
    }
   ],
   "source": [
    "b"
   ]
  },
  {
   "cell_type": "code",
   "execution_count": 53,
   "id": "stunning-capability",
   "metadata": {},
   "outputs": [
    {
     "data": {
      "text/plain": [
       "({0, 1}, {0, 1})"
      ]
     },
     "execution_count": 53,
     "metadata": {},
     "output_type": "execute_result"
    }
   ],
   "source": [
    "M.D"
   ]
  },
  {
   "cell_type": "code",
   "execution_count": 52,
   "id": "tough-summit",
   "metadata": {},
   "outputs": [
    {
     "name": "stdout",
     "output_type": "stream",
     "text": [
      "   0  1\n",
      "0  1  3\n",
      "1  2  4\n"
     ]
    }
   ],
   "source": [
    "print(M)"
   ]
  },
  {
   "cell_type": "code",
   "execution_count": 61,
   "id": "dominican-jacket",
   "metadata": {},
   "outputs": [],
   "source": [
    "rowdict = mat2rowdict(M)"
   ]
  },
  {
   "cell_type": "code",
   "execution_count": 62,
   "id": "going-stephen",
   "metadata": {},
   "outputs": [
    {
     "data": {
      "text/plain": [
       "{0: Vec({0, 1}, {0: 1, 1: 3}), 1: Vec({0, 1}, {0: 2, 1: 4})}"
      ]
     },
     "execution_count": 62,
     "metadata": {},
     "output_type": "execute_result"
    }
   ],
   "source": [
    "rowdict"
   ]
  },
  {
   "cell_type": "code",
   "execution_count": 78,
   "id": "dedicated-joint",
   "metadata": {},
   "outputs": [],
   "source": [
    "R = sorted(M.D[0])\n",
    "C = sorted(M.D[1])"
   ]
  },
  {
   "cell_type": "code",
   "execution_count": 80,
   "id": "controlled-header",
   "metadata": {},
   "outputs": [
    {
     "data": {
      "text/plain": [
       "[0, 1]"
      ]
     },
     "execution_count": 80,
     "metadata": {},
     "output_type": "execute_result"
    }
   ],
   "source": [
    "C"
   ]
  },
  {
   "cell_type": "code",
   "execution_count": 79,
   "id": "violent-shock",
   "metadata": {},
   "outputs": [],
   "source": [
    "vec = rowdict[R[0]]"
   ]
  },
  {
   "cell_type": "code",
   "execution_count": 74,
   "id": "liberal-student",
   "metadata": {},
   "outputs": [
    {
     "data": {
      "text/plain": [
       "Vec({0, 1}, {0: 1, 1: 3})"
      ]
     },
     "execution_count": 74,
     "metadata": {},
     "output_type": "execute_result"
    }
   ],
   "source": [
    "vec"
   ]
  },
  {
   "cell_type": "code",
   "execution_count": null,
   "id": "enhanced-cheese",
   "metadata": {},
   "outputs": [],
   "source": [
    "# get a vec\n",
    "# get the domain of the vec\n",
    "# get a "
   ]
  },
  {
   "cell_type": "code",
   "execution_count": null,
   "id": "aquatic-width",
   "metadata": {},
   "outputs": [],
   "source": []
  },
  {
   "cell_type": "code",
   "execution_count": null,
   "id": "encouraging-designation",
   "metadata": {},
   "outputs": [],
   "source": []
  },
  {
   "cell_type": "code",
   "execution_count": 14,
   "id": "furnished-updating",
   "metadata": {
    "execution": {
     "iopub.execute_input": "2021-02-03T13:25:54.128140Z",
     "iopub.status.busy": "2021-02-03T13:25:54.127890Z",
     "iopub.status.idle": "2021-02-03T13:25:54.154776Z",
     "shell.execute_reply": "2021-02-03T13:25:54.153901Z",
     "shell.execute_reply.started": "2021-02-03T13:25:54.128113Z"
    }
   },
   "outputs": [
    {
     "name": "stdout",
     "output_type": "stream",
     "text": [
      "('a', '@'): ,\n",
      "('a', '#'): ,\n",
      "('a', '?'): ,\n",
      "('b', '@'): ,\n",
      "('b', '#'): ,\n",
      "('b', '?'): ,\n"
     ]
    }
   ],
   "source": [
    "import itertools\n",
    "for r, c in itertools.product(*D):\n",
    "    print(f\"('{r}', '{c}'): ,\")"
   ]
  },
  {
   "cell_type": "code",
   "execution_count": 7,
   "id": "gross-holder",
   "metadata": {
    "execution": {
     "iopub.execute_input": "2021-02-03T13:24:09.444793Z",
     "iopub.status.busy": "2021-02-03T13:24:09.444554Z",
     "iopub.status.idle": "2021-02-03T13:24:09.472347Z",
     "shell.execute_reply": "2021-02-03T13:24:09.471488Z",
     "shell.execute_reply.started": "2021-02-03T13:24:09.444767Z"
    }
   },
   "outputs": [],
   "source": [
    "D = ({'a', 'b'}, {'@', '#', '?'})"
   ]
  },
  {
   "cell_type": "code",
   "execution_count": 12,
   "id": "demanding-serve",
   "metadata": {
    "execution": {
     "iopub.execute_input": "2021-02-03T13:25:44.829319Z",
     "iopub.status.busy": "2021-02-03T13:25:44.829065Z",
     "iopub.status.idle": "2021-02-03T13:25:44.855801Z",
     "shell.execute_reply": "2021-02-03T13:25:44.855031Z",
     "shell.execute_reply.started": "2021-02-03T13:25:44.829290Z"
    }
   },
   "outputs": [],
   "source": [
    "f = {\n",
    "    (\"a\", \"@\"): 1,\n",
    "    (\"a\", \"#\"): 2,\n",
    "    (\"a\", \"?\"): 3,\n",
    "    (\"b\", \"@\"): 10,\n",
    "    (\"b\", \"#\"): 20,\n",
    "    (\"b\", \"?\"): 30,\n",
    "}"
   ]
  },
  {
   "cell_type": "code",
   "execution_count": 13,
   "id": "coupled-shooting",
   "metadata": {
    "execution": {
     "iopub.execute_input": "2021-02-03T13:25:48.985926Z",
     "iopub.status.busy": "2021-02-03T13:25:48.985685Z",
     "iopub.status.idle": "2021-02-03T13:25:49.014776Z",
     "shell.execute_reply": "2021-02-03T13:25:49.013878Z",
     "shell.execute_reply.started": "2021-02-03T13:25:48.985899Z"
    }
   },
   "outputs": [],
   "source": [
    "M = Mat(D, f)"
   ]
  },
  {
   "cell_type": "code",
   "execution_count": 6,
   "id": "shaped-desert",
   "metadata": {
    "execution": {
     "iopub.execute_input": "2021-02-03T13:23:39.065325Z",
     "iopub.status.busy": "2021-02-03T13:23:39.065075Z",
     "iopub.status.idle": "2021-02-03T13:23:39.091019Z",
     "shell.execute_reply": "2021-02-03T13:23:39.090314Z",
     "shell.execute_reply.started": "2021-02-03T13:23:39.065298Z"
    }
   },
   "outputs": [],
   "source": []
  },
  {
   "cell_type": "code",
   "execution_count": 31,
   "id": "suspended-engineer",
   "metadata": {
    "execution": {
     "iopub.execute_input": "2021-02-03T13:31:09.979247Z",
     "iopub.status.busy": "2021-02-03T13:31:09.978986Z",
     "iopub.status.idle": "2021-02-03T13:31:10.006379Z",
     "shell.execute_reply": "2021-02-03T13:31:10.005521Z",
     "shell.execute_reply.started": "2021-02-03T13:31:09.979217Z"
    }
   },
   "outputs": [],
   "source": [
    "def mat2rowdict(M):\n",
    "    \"\"\"return the rowdict representation of M\"\"\"\n",
    "    R, C = M.D\n",
    "    return {r: Vec(C, {c: M.f[(r, c)] for c in C}) for r in R}"
   ]
  },
  {
   "cell_type": "code",
   "execution_count": 32,
   "id": "hydraulic-qualification",
   "metadata": {
    "execution": {
     "iopub.execute_input": "2021-02-03T13:31:20.058226Z",
     "iopub.status.busy": "2021-02-03T13:31:20.057975Z",
     "iopub.status.idle": "2021-02-03T13:31:20.086372Z",
     "shell.execute_reply": "2021-02-03T13:31:20.085512Z",
     "shell.execute_reply.started": "2021-02-03T13:31:20.058198Z"
    }
   },
   "outputs": [
    {
     "data": {
      "text/plain": [
       "{'a': Vec({'@', '#', '?'}, {'@': 1, '#': 2, '?': 3}),\n",
       " 'b': Vec({'@', '#', '?'}, {'@': 10, '#': 20, '?': 30})}"
      ]
     },
     "execution_count": 32,
     "metadata": {},
     "output_type": "execute_result"
    }
   ],
   "source": [
    "mat2rowdict(M)"
   ]
  },
  {
   "cell_type": "code",
   "execution_count": 33,
   "id": "necessary-track",
   "metadata": {
    "execution": {
     "iopub.execute_input": "2021-02-03T13:32:46.309348Z",
     "iopub.status.busy": "2021-02-03T13:32:46.309090Z",
     "iopub.status.idle": "2021-02-03T13:32:46.336632Z",
     "shell.execute_reply": "2021-02-03T13:32:46.335671Z",
     "shell.execute_reply.started": "2021-02-03T13:32:46.309319Z"
    }
   },
   "outputs": [],
   "source": [
    "def mat2coldict(M):\n",
    "    \"\"\"return the coldict representation of M\"\"\"\n",
    "    R, C = M.D\n",
    "    return {c: Vec(R, {r: M.f[(r, c)] for r in R}) for c in C}"
   ]
  },
  {
   "cell_type": "code",
   "execution_count": 34,
   "id": "minus-recipient",
   "metadata": {
    "execution": {
     "iopub.execute_input": "2021-02-03T13:32:51.022435Z",
     "iopub.status.busy": "2021-02-03T13:32:51.022166Z",
     "iopub.status.idle": "2021-02-03T13:32:51.050175Z",
     "shell.execute_reply": "2021-02-03T13:32:51.049509Z",
     "shell.execute_reply.started": "2021-02-03T13:32:51.022406Z"
    }
   },
   "outputs": [
    {
     "data": {
      "text/plain": [
       "{'@': Vec({'a', 'b'}, {'a': 1, 'b': 10}),\n",
       " '#': Vec({'a', 'b'}, {'a': 2, 'b': 20}),\n",
       " '?': Vec({'a', 'b'}, {'a': 3, 'b': 30})}"
      ]
     },
     "execution_count": 34,
     "metadata": {},
     "output_type": "execute_result"
    }
   ],
   "source": [
    "mat2coldict(M)"
   ]
  },
  {
   "cell_type": "code",
   "execution_count": null,
   "id": "other-mayor",
   "metadata": {},
   "outputs": [],
   "source": []
  },
  {
   "cell_type": "code",
   "execution_count": null,
   "id": "exact-blanket",
   "metadata": {},
   "outputs": [],
   "source": []
  },
  {
   "cell_type": "code",
   "execution_count": null,
   "id": "athletic-browser",
   "metadata": {},
   "outputs": [],
   "source": []
  },
  {
   "cell_type": "code",
   "execution_count": null,
   "id": "preliminary-faculty",
   "metadata": {},
   "outputs": [],
   "source": []
  }
 ],
 "metadata": {
  "kernelspec": {
   "display_name": "Python 3",
   "language": "python",
   "name": "python3"
  },
  "language_info": {
   "codemirror_mode": {
    "name": "ipython",
    "version": 3
   },
   "file_extension": ".py",
   "mimetype": "text/x-python",
   "name": "python",
   "nbconvert_exporter": "python",
   "pygments_lexer": "ipython3",
   "version": "3.6.6"
  }
 },
 "nbformat": 4,
 "nbformat_minor": 5
}
