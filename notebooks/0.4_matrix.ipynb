{
 "cells": [
  {
   "cell_type": "markdown",
   "id": "annual-chamber",
   "metadata": {},
   "source": [
    "# 0.4_matrix"
   ]
  },
  {
   "cell_type": "code",
   "execution_count": 2,
   "id": "proved-turning",
   "metadata": {
    "execution": {
     "iopub.execute_input": "2021-03-14T07:29:01.549123Z",
     "iopub.status.busy": "2021-03-14T07:29:01.548785Z",
     "iopub.status.idle": "2021-03-14T07:29:01.954608Z",
     "shell.execute_reply": "2021-03-14T07:29:01.953760Z",
     "shell.execute_reply.started": "2021-03-14T07:29:01.549081Z"
    },
    "tags": []
   },
   "outputs": [],
   "source": [
    "%load_ext autoreload\n",
    "%autoreload 2\n",
    "%matplotlib inline\n",
    "%load_ext blackcellmagic"
   ]
  },
  {
   "cell_type": "code",
   "execution_count": 3,
   "id": "ahead-bryan",
   "metadata": {
    "execution": {
     "iopub.execute_input": "2021-03-14T07:29:01.956665Z",
     "iopub.status.busy": "2021-03-14T07:29:01.956457Z",
     "iopub.status.idle": "2021-03-14T07:29:01.985945Z",
     "shell.execute_reply": "2021-03-14T07:29:01.985064Z",
     "shell.execute_reply.started": "2021-03-14T07:29:01.956641Z"
    },
    "tags": []
   },
   "outputs": [],
   "source": [
    "import pandas as pd\n",
    "import numpy as np\n",
    "import seaborn as sns\n",
    "import matplotlib.pyplot as plt\n",
    "\n",
    "import logging\n",
    "\n",
    "logging.basicConfig(level=logging.INFO)\n",
    "logger = logging.getLogger()\n",
    "logger.setLevel(logging.INFO)\n",
    "\n",
    "\n",
    "def nrows(n):\n",
    "    pd.options.display.max_rows = n\n",
    "\n",
    "\n",
    "nrows(5)\n",
    "from tqdm import tqdm\n",
    "\n",
    "import itertools\n",
    "from coding_the_matrix.Vec import Vec\n",
    "from coding_the_matrix.Mat import Mat\n",
    "from coding_the_matrix.matutil import (\n",
    "    listlist2mat,\n",
    "    value,\n",
    "    keys,\n",
    "    coldict2mat,\n",
    "    rowdict2mat,\n",
    "    mat2rowdict,\n",
    "    mat2coldict,\n",
    ")\n",
    "from coding_the_matrix.vecutil import *\n",
    "from coding_the_matrix.GF2 import *\n",
    "from coding_the_matrix.solve import solve\n",
    "from coding_the_matrix.bitutil import str2bits, bits2str, bits2mat, mat2bits, noise\n",
    "from coding_the_matrix.image_mat_util import (\n",
    "    four_corners,\n",
    "    corners_to_list,\n",
    "    rgb_to_hex,\n",
    "    mat2im,\n",
    "    fig2arr,\n",
    "    fig_size,\n",
    "    array_to_dict,\n",
    "    im2colors,\n",
    "    im2mat,\n",
    "    fig_max,\n",
    "    identity,\n",
    "    translation,\n",
    "    scale,\n",
    "    rotation,\n",
    "    rotation_about,\n",
    "    reflect_x,\n",
    "    reflect_y,\n",
    "    scale_color,\n",
    "    show,\n",
    "    grayscale,\n",
    ")\n",
    "from coding_the_matrix._image_mat_util import file2mat\n",
    "\n",
    "from PIL import Image"
   ]
  },
  {
   "cell_type": "code",
   "execution_count": 53,
   "id": "bearing-mining",
   "metadata": {
    "execution": {
     "iopub.execute_input": "2021-03-14T08:21:33.923237Z",
     "iopub.status.busy": "2021-03-14T08:21:33.922976Z",
     "iopub.status.idle": "2021-03-14T08:21:33.950634Z",
     "shell.execute_reply": "2021-03-14T08:21:33.949695Z",
     "shell.execute_reply.started": "2021-03-14T08:21:33.923211Z"
    },
    "tags": []
   },
   "outputs": [],
   "source": [
    "from coding_the_matrix.matutil import lin_comb_mat_vec_mul\n",
    "from coding_the_matrix import vecutil"
   ]
  },
  {
   "cell_type": "markdown",
   "id": "unique-windows",
   "metadata": {},
   "source": [
    "## More operations"
   ]
  },
  {
   "cell_type": "code",
   "execution_count": 18,
   "id": "competitive-prayer",
   "metadata": {
    "execution": {
     "iopub.execute_input": "2021-03-14T08:00:08.980879Z",
     "iopub.status.busy": "2021-03-14T08:00:08.980633Z",
     "iopub.status.idle": "2021-03-14T08:00:09.011290Z",
     "shell.execute_reply": "2021-03-14T08:00:09.010533Z",
     "shell.execute_reply.started": "2021-03-14T08:00:08.980853Z"
    },
    "tags": []
   },
   "outputs": [],
   "source": [
    "def metal_gnome_matrix():\n",
    "    D_list = [\"metal\", \"concrete\", \"plastic\", \"water\", \"electricity\"]\n",
    "    D = set(D_list) \n",
    "    v_gnome = Vec(\n",
    "        D, {\"concrete\": 1.3, \"plastic\": 0.2, \"water\": 0.8, \"electricity\": 0.4}\n",
    "    )\n",
    "    v_hoop = Vec(D, {\"plastic\": 1.5, \"water\": 0.4, \"electricity\": 0.3})\n",
    "    v_slinky = Vec(D, {\"metal\": 0.25, \"water\": 0.2, \"electricity\": 0.7})\n",
    "    v_putty = Vec(D, {\"plastic\": 0.3, \"water\": 0.7, \"electricity\": 0.5})\n",
    "    v_shooter = Vec(\n",
    "        D, {\"metal\": 0.15, \"plastic\": 0.5, \"water\": 0.4, \"electricity\": 0.8}\n",
    "    )\n",
    "    rowdict = {\n",
    "        \"gnome\": v_gnome,\n",
    "        \"hoop\": v_hoop,\n",
    "        \"slinky\": v_slinky,\n",
    "        \"putty\": v_putty,\n",
    "        \"shooter\": v_shooter,\n",
    "    }\n",
    "    #\n",
    "    M = matutil.rowdict2mat(rowdict, col_labels=D_list)\n",
    "    return M"
   ]
  },
  {
   "cell_type": "code",
   "execution_count": 16,
   "id": "industrial-faith",
   "metadata": {
    "execution": {
     "iopub.execute_input": "2021-03-14T07:58:58.472214Z",
     "iopub.status.busy": "2021-03-14T07:58:58.471956Z",
     "iopub.status.idle": "2021-03-14T07:58:58.500844Z",
     "shell.execute_reply": "2021-03-14T07:58:58.499656Z",
     "shell.execute_reply.started": "2021-03-14T07:58:58.472186Z"
    }
   },
   "outputs": [],
   "source": [
    "def metal_vector():\n",
    "    b = Vec(\n",
    "        {\"metal\", \"concrete\", \"water\", \"electricity\", \"plastic\"},\n",
    "        {\n",
    "            \"metal\": 51.0,\n",
    "            \"concrete\": 312.0,\n",
    "            \"water\": 373.1,\n",
    "            \"electricity\": 356.0,\n",
    "            \"plastic\": 215.4,\n",
    "        },\n",
    "    )\n",
    "    return b"
   ]
  },
  {
   "cell_type": "code",
   "execution_count": 41,
   "id": "sunset-illustration",
   "metadata": {
    "execution": {
     "iopub.execute_input": "2021-03-14T08:14:39.818125Z",
     "iopub.status.busy": "2021-03-14T08:14:39.817884Z",
     "iopub.status.idle": "2021-03-14T08:14:39.846144Z",
     "shell.execute_reply": "2021-03-14T08:14:39.845436Z",
     "shell.execute_reply.started": "2021-03-14T08:14:39.818100Z"
    },
    "tags": []
   },
   "outputs": [],
   "source": [
    "def gnome_vector():\n",
    "    v = Vec(\n",
    "        {\"gnome\", \"hoop\", \"putty\", \"shooter\", \"slinky\"},\n",
    "        {\n",
    "            \"gnome\": 1,\n",
    "            \"hoop\": 2,\n",
    "            \"slinky\": 3,\n",
    "            \"putty\": 4,\n",
    "            \"shooter\": 5,\n",
    "        },\n",
    "    )\n",
    "    return v"
   ]
  },
  {
   "cell_type": "code",
   "execution_count": 19,
   "id": "imposed-yacht",
   "metadata": {
    "execution": {
     "iopub.execute_input": "2021-03-14T08:00:09.941989Z",
     "iopub.status.busy": "2021-03-14T08:00:09.941731Z",
     "iopub.status.idle": "2021-03-14T08:00:09.975660Z",
     "shell.execute_reply": "2021-03-14T08:00:09.974616Z",
     "shell.execute_reply.started": "2021-03-14T08:00:09.941961Z"
    },
    "tags": []
   },
   "outputs": [
    {
     "name": "stdout",
     "output_type": "stream",
     "text": [
      "         metal  concrete  plastic  water  electricity\n",
      "gnome     0.00       1.3      0.2    0.8          0.4\n",
      "hoop      0.00       0.0      1.5    0.4          0.3\n",
      "slinky    0.25       0.0      0.0    0.2          0.7\n",
      "putty     0.00       0.0      0.3    0.7          0.5\n",
      "shooter   0.15       0.0      0.5    0.4          0.8\n"
     ]
    }
   ],
   "source": [
    "M = metal_gnome_matrix()\n",
    "print(M)"
   ]
  },
  {
   "cell_type": "code",
   "execution_count": 42,
   "id": "swedish-alias",
   "metadata": {
    "execution": {
     "iopub.execute_input": "2021-03-14T08:14:54.413959Z",
     "iopub.status.busy": "2021-03-14T08:14:54.413620Z",
     "iopub.status.idle": "2021-03-14T08:14:54.445775Z",
     "shell.execute_reply": "2021-03-14T08:14:54.445098Z",
     "shell.execute_reply.started": "2021-03-14T08:14:54.413919Z"
    }
   },
   "outputs": [
    {
     "name": "stdout",
     "output_type": "stream",
     "text": [
      " gnome  hoop  slinky  putty  shooter\n",
      "     1     2       3      4        5\n"
     ]
    }
   ],
   "source": [
    "v = gnome_vector()\n",
    "print(v)"
   ]
  },
  {
   "cell_type": "code",
   "execution_count": 46,
   "id": "gross-pixel",
   "metadata": {
    "execution": {
     "iopub.execute_input": "2021-03-14T08:15:11.394020Z",
     "iopub.status.busy": "2021-03-14T08:15:11.393762Z",
     "iopub.status.idle": "2021-03-14T08:15:11.423061Z",
     "shell.execute_reply": "2021-03-14T08:15:11.422448Z",
     "shell.execute_reply.started": "2021-03-14T08:15:11.393991Z"
    },
    "tags": []
   },
   "outputs": [
    {
     "data": {
      "text/plain": [
       "Vec(self.D, {'metal': 1.5, 'concrete': 1.3, 'electricity': 9.1, 'water': 7.0, 'plastic': 6.9})"
      ]
     },
     "execution_count": 46,
     "metadata": {},
     "output_type": "execute_result"
    }
   ],
   "source": [
    "lin_comb_mat_vec_mult(M.transpose(), v)"
   ]
  },
  {
   "cell_type": "code",
   "execution_count": null,
   "id": "atmospheric-third",
   "metadata": {},
   "outputs": [],
   "source": [
    "def lin_comb_mat_vec_mul(M, v):\n",
    "    \"\"\"M*v, using linear-combination definition\n",
    "    v[k] is the only operation allowed on v.\n",
    "    Use the linear combination definition.\n",
    "\n",
    "    Args:\n",
    "        M: matrix\n",
    "        v: vector\n",
    "    \"\"\"\n",
    "    R, C = M.D\n",
    "    assert v.D == C\n",
    "    result = vecutil.zero_vec(R)\n",
    "    for col in C:\n",
    "        m_col = Vec.Vec(R, {r: M[(r, col)] for r in R})\n",
    "        result += m_col * v[col]\n",
    "    return result"
   ]
  },
  {
   "cell_type": "code",
   "execution_count": 56,
   "id": "organic-audience",
   "metadata": {
    "execution": {
     "iopub.execute_input": "2021-03-14T08:21:48.145641Z",
     "iopub.status.busy": "2021-03-14T08:21:48.145402Z",
     "iopub.status.idle": "2021-03-14T08:21:48.174738Z",
     "shell.execute_reply": "2021-03-14T08:21:48.174081Z",
     "shell.execute_reply.started": "2021-03-14T08:21:48.145615Z"
    },
    "tags": []
   },
   "outputs": [],
   "source": [
    "def lin_comb_vec_mat_mul(v, M):\n",
    "    \"\"\"linear combination version of v*M\n",
    "    \"\"\"\n",
    "    R, C = M.D\n",
    "    assert v.D == R\n",
    "    result = vecutil.zero_vec(C)\n",
    "    for row in R:\n",
    "        r_col = Vec.Vec(C, {c: M[(row, c)] for c in C})\n",
    "        result += r_col * v[row]\n",
    "    return result"
   ]
  },
  {
   "cell_type": "code",
   "execution_count": 64,
   "id": "traditional-harvest",
   "metadata": {
    "execution": {
     "iopub.execute_input": "2021-03-14T08:27:41.646033Z",
     "iopub.status.busy": "2021-03-14T08:27:41.645727Z",
     "iopub.status.idle": "2021-03-14T08:27:41.676822Z",
     "shell.execute_reply": "2021-03-14T08:27:41.676148Z",
     "shell.execute_reply.started": "2021-03-14T08:27:41.646003Z"
    },
    "tags": []
   },
   "outputs": [
    {
     "data": {
      "text/plain": [
       "Vec(self.D, {'metal': 1.5, 'concrete': 1.3, 'electricity': 9.1, 'water': 7.0, 'plastic': 6.9})"
      ]
     },
     "execution_count": 64,
     "metadata": {},
     "output_type": "execute_result"
    }
   ],
   "source": [
    "answer = lin_comb_vec_mat_mul(v, M)\n",
    "answer"
   ]
  },
  {
   "cell_type": "code",
   "execution_count": 62,
   "id": "congressional-hungarian",
   "metadata": {
    "execution": {
     "iopub.execute_input": "2021-03-14T08:27:17.697350Z",
     "iopub.status.busy": "2021-03-14T08:27:17.697092Z",
     "iopub.status.idle": "2021-03-14T08:27:17.727224Z",
     "shell.execute_reply": "2021-03-14T08:27:17.726430Z",
     "shell.execute_reply.started": "2021-03-14T08:27:17.697322Z"
    },
    "tags": []
   },
   "outputs": [],
   "source": [
    "def dot_product_mat_vec_mul(M, v):\n",
    "    \"\"\"Dot product version of M *v\n",
    "    RxC * C = Rx1\n",
    "    \"\"\"\n",
    "    R, C = M.D\n",
    "    assert v.D == C\n",
    "    return Vec(R, {r: sum(M[(r, c)] * v[c] for c in C) for r in R})"
   ]
  },
  {
   "cell_type": "code",
   "execution_count": 65,
   "id": "medieval-background",
   "metadata": {
    "execution": {
     "iopub.execute_input": "2021-03-14T08:27:45.463233Z",
     "iopub.status.busy": "2021-03-14T08:27:45.462962Z",
     "iopub.status.idle": "2021-03-14T08:27:45.491844Z",
     "shell.execute_reply": "2021-03-14T08:27:45.491080Z",
     "shell.execute_reply.started": "2021-03-14T08:27:45.463201Z"
    },
    "tags": []
   },
   "outputs": [
    {
     "data": {
      "text/plain": [
       "True"
      ]
     },
     "execution_count": 65,
     "metadata": {},
     "output_type": "execute_result"
    }
   ],
   "source": [
    "dot_product_mat_vec_mul(M.transpose(), v) == answer"
   ]
  },
  {
   "cell_type": "code",
   "execution_count": null,
   "id": "unlike-nursing",
   "metadata": {},
   "outputs": [],
   "source": []
  },
  {
   "cell_type": "code",
   "execution_count": null,
   "id": "extreme-vessel",
   "metadata": {},
   "outputs": [],
   "source": []
  },
  {
   "cell_type": "code",
   "execution_count": null,
   "id": "postal-european",
   "metadata": {},
   "outputs": [],
   "source": []
  },
  {
   "cell_type": "markdown",
   "id": "following-substitute",
   "metadata": {},
   "source": [
    "## Original module"
   ]
  },
  {
   "cell_type": "code",
   "execution_count": 3,
   "id": "authorized-saturn",
   "metadata": {
    "execution": {
     "iopub.execute_input": "2021-03-06T11:12:29.479281Z",
     "iopub.status.busy": "2021-03-06T11:12:29.479072Z",
     "iopub.status.idle": "2021-03-06T11:12:29.507712Z",
     "shell.execute_reply": "2021-03-06T11:12:29.507023Z",
     "shell.execute_reply.started": "2021-03-06T11:12:29.479256Z"
    },
    "tags": []
   },
   "outputs": [],
   "source": [
    "org_loc, org_col = file2mat('image.png')"
   ]
  },
  {
   "cell_type": "code",
   "execution_count": 4,
   "id": "bibliographic-lesbian",
   "metadata": {
    "execution": {
     "iopub.execute_input": "2021-03-06T11:12:29.509951Z",
     "iopub.status.busy": "2021-03-06T11:12:29.509729Z",
     "iopub.status.idle": "2021-03-06T11:12:29.580326Z",
     "shell.execute_reply": "2021-03-06T11:12:29.574134Z",
     "shell.execute_reply.started": "2021-03-06T11:12:29.509926Z"
    },
    "tags": []
   },
   "outputs": [
    {
     "data": {
      "text/plain": [
       "(3, 25)"
      ]
     },
     "execution_count": 4,
     "metadata": {},
     "output_type": "execute_result"
    }
   ],
   "source": [
    "org_loc.shape"
   ]
  },
  {
   "cell_type": "code",
   "execution_count": 5,
   "id": "fatal-screening",
   "metadata": {
    "execution": {
     "iopub.execute_input": "2021-03-06T11:12:29.582549Z",
     "iopub.status.busy": "2021-03-06T11:12:29.582321Z",
     "iopub.status.idle": "2021-03-06T11:12:29.609835Z",
     "shell.execute_reply": "2021-03-06T11:12:29.609114Z",
     "shell.execute_reply.started": "2021-03-06T11:12:29.582524Z"
    },
    "tags": []
   },
   "outputs": [
    {
     "data": {
      "text/plain": [
       "(3, 16)"
      ]
     },
     "execution_count": 5,
     "metadata": {},
     "output_type": "execute_result"
    }
   ],
   "source": [
    "org_col.shape"
   ]
  },
  {
   "cell_type": "code",
   "execution_count": 6,
   "id": "caroline-compensation",
   "metadata": {
    "execution": {
     "iopub.execute_input": "2021-03-06T11:12:29.611326Z",
     "iopub.status.busy": "2021-03-06T11:12:29.611108Z",
     "iopub.status.idle": "2021-03-06T11:12:29.670835Z",
     "shell.execute_reply": "2021-03-06T11:12:29.670199Z",
     "shell.execute_reply.started": "2021-03-06T11:12:29.611299Z"
    },
    "tags": []
   },
   "outputs": [
    {
     "data": {
      "image/png": "[encoded data removed]",
      "text/plain": [
       "<PIL.Image.Image image mode=RGB size=4x4 at 0x11DE578E0>"
      ]
     },
     "execution_count": 6,
     "metadata": {},
     "output_type": "execute_result"
    }
   ],
   "source": [
    "mat2im(org_col, org_loc)"
   ]
  },
  {
   "cell_type": "raw",
   "id": "caring-deficit",
   "metadata": {},
   "source": [
    "honestly didn't think this would work in the first place haha\n",
    "it's loading as a 12*12 (or 13*13) data, so not complex stuff needed, just load it"
   ]
  },
  {
   "cell_type": "markdown",
   "id": "elect-cyprus",
   "metadata": {},
   "source": [
    "## Inverse problem　\n",
    "- image to matrix\n",
    "- ah, this isn't possible\n",
    "- nope, it should be"
   ]
  },
  {
   "cell_type": "raw",
   "id": "divine-paste",
   "metadata": {
    "execution": {
     "iopub.execute_input": "2021-03-06T07:29:42.977920Z",
     "iopub.status.busy": "2021-03-06T07:29:42.977667Z",
     "iopub.status.idle": "2021-03-06T07:29:43.024553Z",
     "shell.execute_reply": "2021-03-06T07:29:43.023891Z",
     "shell.execute_reply.started": "2021-03-06T07:29:42.977892Z"
    },
    "tags": []
   },
   "source": [
    "image = Image.open('image.png')\n",
    "im = np.array(image)\n",
    "colors, locations = im2mat(im)\n",
    "im_big = mat2im(colors, locations, density=6.)\n",
    "im_big.save('im_big.png')"
   ]
  },
  {
   "cell_type": "code",
   "execution_count": 7,
   "id": "medium-privacy",
   "metadata": {
    "execution": {
     "iopub.execute_input": "2021-03-06T11:12:29.672240Z",
     "iopub.status.busy": "2021-03-06T11:12:29.671965Z",
     "iopub.status.idle": "2021-03-06T11:12:29.702576Z",
     "shell.execute_reply": "2021-03-06T11:12:29.701836Z",
     "shell.execute_reply.started": "2021-03-06T11:12:29.672215Z"
    },
    "tags": []
   },
   "outputs": [],
   "source": [
    "image = Image.open('im_big.png')"
   ]
  },
  {
   "cell_type": "code",
   "execution_count": 8,
   "id": "artificial-physics",
   "metadata": {
    "execution": {
     "iopub.execute_input": "2021-03-06T11:12:29.704087Z",
     "iopub.status.busy": "2021-03-06T11:12:29.703752Z",
     "iopub.status.idle": "2021-03-06T11:12:29.732114Z",
     "shell.execute_reply": "2021-03-06T11:12:29.731254Z",
     "shell.execute_reply.started": "2021-03-06T11:12:29.704055Z"
    },
    "tags": []
   },
   "outputs": [
    {
     "data": {
      "image/png": "[encoded data removed]",
      "text/plain": [
       "<PIL.PngImagePlugin.PngImageFile image mode=RGB size=24x24 at 0x11DE9D6A0>"
      ]
     },
     "execution_count": 8,
     "metadata": {},
     "output_type": "execute_result"
    }
   ],
   "source": [
    "image"
   ]
  },
  {
   "cell_type": "code",
   "execution_count": 9,
   "id": "varied-moderator",
   "metadata": {
    "execution": {
     "iopub.execute_input": "2021-03-06T11:12:29.735148Z",
     "iopub.status.busy": "2021-03-06T11:12:29.734851Z",
     "iopub.status.idle": "2021-03-06T11:12:29.771021Z",
     "shell.execute_reply": "2021-03-06T11:12:29.770239Z",
     "shell.execute_reply.started": "2021-03-06T11:12:29.735112Z"
    },
    "tags": []
   },
   "outputs": [],
   "source": [
    "im = np.array(image)"
   ]
  },
  {
   "cell_type": "code",
   "execution_count": 10,
   "id": "offshore-prescription",
   "metadata": {
    "execution": {
     "iopub.execute_input": "2021-03-06T11:12:29.772639Z",
     "iopub.status.busy": "2021-03-06T11:12:29.772426Z",
     "iopub.status.idle": "2021-03-06T11:12:29.799359Z",
     "shell.execute_reply": "2021-03-06T11:12:29.798722Z",
     "shell.execute_reply.started": "2021-03-06T11:12:29.772613Z"
    },
    "tags": []
   },
   "outputs": [
    {
     "data": {
      "text/plain": [
       "(24, 24, 3)"
      ]
     },
     "execution_count": 10,
     "metadata": {},
     "output_type": "execute_result"
    }
   ],
   "source": [
    "im.shape"
   ]
  },
  {
   "cell_type": "code",
   "execution_count": 11,
   "id": "minute-robinson",
   "metadata": {
    "execution": {
     "iopub.execute_input": "2021-03-06T11:12:29.801032Z",
     "iopub.status.busy": "2021-03-06T11:12:29.800814Z",
     "iopub.status.idle": "2021-03-06T11:12:29.831366Z",
     "shell.execute_reply": "2021-03-06T11:12:29.830718Z",
     "shell.execute_reply.started": "2021-03-06T11:12:29.801006Z"
    },
    "tags": []
   },
   "outputs": [],
   "source": [
    "colors, locations = im2mat(im)"
   ]
  },
  {
   "cell_type": "code",
   "execution_count": 45,
   "id": "surface-medline",
   "metadata": {
    "execution": {
     "iopub.execute_input": "2021-03-06T12:24:09.753495Z",
     "iopub.status.busy": "2021-03-06T12:24:09.753238Z",
     "iopub.status.idle": "2021-03-06T12:24:09.782275Z",
     "shell.execute_reply": "2021-03-06T12:24:09.781603Z",
     "shell.execute_reply.started": "2021-03-06T12:24:09.753466Z"
    },
    "tags": []
   },
   "outputs": [
    {
     "data": {
      "text/plain": [
       "32"
      ]
     },
     "execution_count": 45,
     "metadata": {},
     "output_type": "execute_result"
    }
   ],
   "source": [
    "round(32.0)"
   ]
  },
  {
   "cell_type": "code",
   "execution_count": 49,
   "id": "compressed-contemporary",
   "metadata": {
    "execution": {
     "iopub.execute_input": "2021-03-06T12:24:30.416673Z",
     "iopub.status.busy": "2021-03-06T12:24:30.416390Z",
     "iopub.status.idle": "2021-03-06T12:24:30.446090Z",
     "shell.execute_reply": "2021-03-06T12:24:30.445206Z",
     "shell.execute_reply.started": "2021-03-06T12:24:30.416642Z"
    },
    "tags": []
   },
   "outputs": [
    {
     "data": {
      "text/plain": [
       "32"
      ]
     },
     "execution_count": 49,
     "metadata": {},
     "output_type": "execute_result"
    }
   ],
   "source": [
    "round(np.float(32.0))"
   ]
  },
  {
   "cell_type": "code",
   "execution_count": 46,
   "id": "suitable-mambo",
   "metadata": {
    "execution": {
     "iopub.execute_input": "2021-03-06T12:24:18.704259Z",
     "iopub.status.busy": "2021-03-06T12:24:18.703976Z",
     "iopub.status.idle": "2021-03-06T12:24:18.736664Z",
     "shell.execute_reply": "2021-03-06T12:24:18.735980Z",
     "shell.execute_reply.started": "2021-03-06T12:24:18.704227Z"
    }
   },
   "outputs": [
    {
     "data": {
      "text/plain": [
       "32.0"
      ]
     },
     "execution_count": 46,
     "metadata": {},
     "output_type": "execute_result"
    }
   ],
   "source": [
    "round(np.float64(32.0))"
   ]
  },
  {
   "cell_type": "markdown",
   "id": "thirty-civilian",
   "metadata": {},
   "source": [
    "### Get the location matrix (identity?)"
   ]
  },
  {
   "cell_type": "code",
   "execution_count": 12,
   "id": "radio-expert",
   "metadata": {
    "execution": {
     "iopub.execute_input": "2021-03-06T11:12:29.949666Z",
     "iopub.status.busy": "2021-03-06T11:12:29.949415Z",
     "iopub.status.idle": "2021-03-06T11:12:29.992011Z",
     "shell.execute_reply": "2021-03-06T11:12:29.991218Z",
     "shell.execute_reply.started": "2021-03-06T11:12:29.949638Z"
    },
    "tags": []
   },
   "outputs": [
    {
     "data": {
      "text/plain": [
       "True"
      ]
     },
     "execution_count": 12,
     "metadata": {},
     "output_type": "execute_result"
    }
   ],
   "source": [
    "identity() * locations == locations"
   ]
  },
  {
   "cell_type": "code",
   "execution_count": 13,
   "id": "planned-creator",
   "metadata": {
    "execution": {
     "iopub.execute_input": "2021-03-06T11:12:29.993662Z",
     "iopub.status.busy": "2021-03-06T11:12:29.993442Z",
     "iopub.status.idle": "2021-03-06T11:12:30.032769Z",
     "shell.execute_reply": "2021-03-06T11:12:30.032025Z",
     "shell.execute_reply.started": "2021-03-06T11:12:29.993634Z"
    },
    "tags": []
   },
   "outputs": [],
   "source": [
    "locations2 = translation(1, 2) * locations "
   ]
  },
  {
   "cell_type": "code",
   "execution_count": 68,
   "id": "fifty-diary",
   "metadata": {
    "execution": {
     "iopub.execute_input": "2021-03-06T12:54:09.050116Z",
     "iopub.status.busy": "2021-03-06T12:54:09.049846Z",
     "iopub.status.idle": "2021-03-06T12:54:09.249697Z",
     "shell.execute_reply": "2021-03-06T12:54:09.248976Z",
     "shell.execute_reply.started": "2021-03-06T12:54:09.050085Z"
    },
    "tags": []
   },
   "outputs": [
    {
     "data": {
      "text/plain": [
       "array(<matplotlib.image.AxesImage object at 0x11f907c40>, dtype=object)"
      ]
     },
     "execution_count": 68,
     "metadata": {},
     "output_type": "execute_result"
    },
    {
     "data": {
      "image/png": "[encoded data removed]",
      "text/plain": [
       "<Figure size 432x288 with 1 Axes>"
      ]
     },
     "metadata": {
      "needs_background": "light"
     },
     "output_type": "display_data"
    }
   ],
   "source": [
    "np.array(show(colors, locations))"
   ]
  },
  {
   "cell_type": "code",
   "execution_count": 60,
   "id": "opposed-monitor",
   "metadata": {
    "execution": {
     "iopub.execute_input": "2021-03-06T12:52:53.415341Z",
     "iopub.status.busy": "2021-03-06T12:52:53.415055Z",
     "iopub.status.idle": "2021-03-06T12:52:53.620605Z",
     "shell.execute_reply": "2021-03-06T12:52:53.619928Z",
     "shell.execute_reply.started": "2021-03-06T12:52:53.415308Z"
    }
   },
   "outputs": [
    {
     "data": {
      "text/plain": [
       "<matplotlib.image.AxesImage at 0x11fdac430>"
      ]
     },
     "execution_count": 60,
     "metadata": {},
     "output_type": "execute_result"
    },
    {
     "data": {
      "image/png": "[encoded data removed]",
      "text/plain": [
       "<Figure size 432x288 with 1 Axes>"
      ]
     },
     "metadata": {
      "needs_background": "light"
     },
     "output_type": "display_data"
    }
   ],
   "source": [
    "show(colors, locations, col_mat=grayscale())"
   ]
  },
  {
   "cell_type": "code",
   "execution_count": 57,
   "id": "endless-confidence",
   "metadata": {
    "execution": {
     "iopub.execute_input": "2021-03-06T12:52:11.049628Z",
     "iopub.status.busy": "2021-03-06T12:52:11.049292Z",
     "iopub.status.idle": "2021-03-06T12:52:11.261560Z",
     "shell.execute_reply": "2021-03-06T12:52:11.260794Z",
     "shell.execute_reply.started": "2021-03-06T12:52:11.049588Z"
    }
   },
   "outputs": [
    {
     "data": {
      "text/plain": [
       "<matplotlib.image.AxesImage at 0x11fc155e0>"
      ]
     },
     "execution_count": 57,
     "metadata": {},
     "output_type": "execute_result"
    },
    {
     "data": {
      "image/png": "[encoded data removed]",
      "text/plain": [
       "<Figure size 432x288 with 1 Axes>"
      ]
     },
     "metadata": {
      "needs_background": "light"
     },
     "output_type": "display_data"
    }
   ],
   "source": [
    "show(colors, locations, col_mat=[grayscale(), scale_color(1, 2, 4)])"
   ]
  },
  {
   "cell_type": "code",
   "execution_count": 58,
   "id": "adjusted-arizona",
   "metadata": {
    "execution": {
     "iopub.execute_input": "2021-03-06T12:52:24.950397Z",
     "iopub.status.busy": "2021-03-06T12:52:24.950106Z",
     "iopub.status.idle": "2021-03-06T12:52:25.155020Z",
     "shell.execute_reply": "2021-03-06T12:52:25.154358Z",
     "shell.execute_reply.started": "2021-03-06T12:52:24.950364Z"
    }
   },
   "outputs": [
    {
     "data": {
      "text/plain": [
       "<matplotlib.image.AxesImage at 0x11fc59700>"
      ]
     },
     "execution_count": 58,
     "metadata": {},
     "output_type": "execute_result"
    },
    {
     "data": {
      "image/png": "[encoded data removed]",
      "text/plain": [
       "<Figure size 432x288 with 1 Axes>"
      ]
     },
     "metadata": {
      "needs_background": "light"
     },
     "output_type": "display_data"
    }
   ],
   "source": [
    "show(colors, locations, col_mat=[scale_color(1, 2, 4), grayscale()])"
   ]
  },
  {
   "cell_type": "code",
   "execution_count": 26,
   "id": "novel-heart",
   "metadata": {
    "execution": {
     "iopub.execute_input": "2021-03-06T11:50:48.172295Z",
     "iopub.status.busy": "2021-03-06T11:50:48.172050Z",
     "iopub.status.idle": "2021-03-06T11:50:48.371064Z",
     "shell.execute_reply": "2021-03-06T11:50:48.370380Z",
     "shell.execute_reply.started": "2021-03-06T11:50:48.172268Z"
    },
    "tags": []
   },
   "outputs": [
    {
     "data": {
      "text/plain": [
       "<matplotlib.image.AxesImage at 0x11f0c94f0>"
      ]
     },
     "execution_count": 26,
     "metadata": {},
     "output_type": "execute_result"
    },
    {
     "data": {
      "image/png": "[encoded data removed]",
      "text/plain": [
       "<Figure size 432x288 with 1 Axes>"
      ]
     },
     "metadata": {
      "needs_background": "light"
     },
     "output_type": "display_data"
    }
   ],
   "source": [
    "show(colors, locations, col_mat=scale_color(1, 2, 4))"
   ]
  },
  {
   "cell_type": "code",
   "execution_count": 43,
   "id": "automotive-checkout",
   "metadata": {
    "execution": {
     "iopub.execute_input": "2021-03-06T12:12:29.923959Z",
     "iopub.status.busy": "2021-03-06T12:12:29.923683Z",
     "iopub.status.idle": "2021-03-06T12:12:30.126081Z",
     "shell.execute_reply": "2021-03-06T12:12:30.125434Z",
     "shell.execute_reply.started": "2021-03-06T12:12:29.923930Z"
    },
    "tags": []
   },
   "outputs": [
    {
     "data": {
      "text/plain": [
       "<matplotlib.image.AxesImage at 0x11fa7e070>"
      ]
     },
     "execution_count": 43,
     "metadata": {},
     "output_type": "execute_result"
    },
    {
     "data": {
      "image/png": "[encoded data removed]",
      "text/plain": [
       "<Figure size 432x288 with 1 Axes>"
      ]
     },
     "metadata": {
      "needs_background": "light"
     },
     "output_type": "display_data"
    }
   ],
   "source": [
    "show(colors, locations, col_mat=scale_color(1/2, 2, 12))"
   ]
  },
  {
   "cell_type": "code",
   "execution_count": null,
   "id": "nonprofit-description",
   "metadata": {},
   "outputs": [],
   "source": [
    "show(colors, locations, col_mat=scale_color(1/2, 2, 12))"
   ]
  },
  {
   "cell_type": "code",
   "execution_count": 32,
   "id": "transparent-point",
   "metadata": {
    "execution": {
     "iopub.execute_input": "2021-03-06T08:00:32.389819Z",
     "iopub.status.busy": "2021-03-06T08:00:32.389555Z",
     "iopub.status.idle": "2021-03-06T08:00:32.575147Z",
     "shell.execute_reply": "2021-03-06T08:00:32.574495Z",
     "shell.execute_reply.started": "2021-03-06T08:00:32.389789Z"
    },
    "tags": []
   },
   "outputs": [
    {
     "data": {
      "text/plain": [
       "<matplotlib.image.AxesImage at 0x122a7cb20>"
      ]
     },
     "execution_count": 32,
     "metadata": {},
     "output_type": "execute_result"
    },
    {
     "data": {
      "image/png": "[encoded data removed]",
      "text/plain": [
       "<Figure size 432x288 with 1 Axes>"
      ]
     },
     "metadata": {
      "needs_background": "light"
     },
     "output_type": "display_data"
    }
   ],
   "source": [
    "show(translation(1, 2))"
   ]
  },
  {
   "cell_type": "code",
   "execution_count": 33,
   "id": "equipped-street",
   "metadata": {
    "execution": {
     "iopub.execute_input": "2021-03-06T08:00:43.186316Z",
     "iopub.status.busy": "2021-03-06T08:00:43.186008Z",
     "iopub.status.idle": "2021-03-06T08:00:43.357662Z",
     "shell.execute_reply": "2021-03-06T08:00:43.356893Z",
     "shell.execute_reply.started": "2021-03-06T08:00:43.186284Z"
    }
   },
   "outputs": [
    {
     "data": {
      "text/plain": [
       "<matplotlib.image.AxesImage at 0x12343b760>"
      ]
     },
     "execution_count": 33,
     "metadata": {},
     "output_type": "execute_result"
    },
    {
     "data": {
      "image/png": "[encoded data removed]",
      "text/plain": [
       "<Figure size 432x288 with 1 Axes>"
      ]
     },
     "metadata": {
      "needs_background": "light"
     },
     "output_type": "display_data"
    }
   ],
   "source": [
    "show(scale(1, 2))"
   ]
  },
  {
   "cell_type": "code",
   "execution_count": 34,
   "id": "infinite-label",
   "metadata": {
    "execution": {
     "iopub.execute_input": "2021-03-06T08:00:50.358621Z",
     "iopub.status.busy": "2021-03-06T08:00:50.358360Z",
     "iopub.status.idle": "2021-03-06T08:00:50.545122Z",
     "shell.execute_reply": "2021-03-06T08:00:50.544488Z",
     "shell.execute_reply.started": "2021-03-06T08:00:50.358591Z"
    },
    "tags": []
   },
   "outputs": [
    {
     "data": {
      "text/plain": [
       "<matplotlib.image.AxesImage at 0x123428f10>"
      ]
     },
     "execution_count": 34,
     "metadata": {},
     "output_type": "execute_result"
    },
    {
     "data": {
      "image/png": "[encoded data removed]",
      "text/plain": [
       "<Figure size 432x288 with 1 Axes>"
      ]
     },
     "metadata": {
      "needs_background": "light"
     },
     "output_type": "display_data"
    }
   ],
   "source": [
    "show(scale(2, 1))"
   ]
  },
  {
   "cell_type": "code",
   "execution_count": 83,
   "id": "foreign-witness",
   "metadata": {
    "execution": {
     "iopub.execute_input": "2021-03-06T08:56:51.389098Z",
     "iopub.status.busy": "2021-03-06T08:56:51.388853Z",
     "iopub.status.idle": "2021-03-06T08:56:51.577823Z",
     "shell.execute_reply": "2021-03-06T08:56:51.576854Z",
     "shell.execute_reply.started": "2021-03-06T08:56:51.389071Z"
    },
    "tags": []
   },
   "outputs": [
    {
     "data": {
      "text/plain": [
       "<matplotlib.image.AxesImage at 0x1233b58e0>"
      ]
     },
     "execution_count": 83,
     "metadata": {},
     "output_type": "execute_result"
    },
    {
     "data": {
      "image/png": "[encoded data removed]",
      "text/plain": [
       "<Figure size 432x288 with 1 Axes>"
      ]
     },
     "metadata": {
      "needs_background": "light"
     },
     "output_type": "display_data"
    }
   ],
   "source": [
    "show(rotation_about(np.pi/6, 10, 5))"
   ]
  },
  {
   "cell_type": "code",
   "execution_count": 94,
   "id": "frozen-cricket",
   "metadata": {
    "execution": {
     "iopub.execute_input": "2021-03-06T10:57:26.354702Z",
     "iopub.status.busy": "2021-03-06T10:57:26.354450Z",
     "iopub.status.idle": "2021-03-06T10:57:26.563816Z",
     "shell.execute_reply": "2021-03-06T10:57:26.563166Z",
     "shell.execute_reply.started": "2021-03-06T10:57:26.354674Z"
    },
    "tags": []
   },
   "outputs": [
    {
     "data": {
      "text/plain": [
       "<matplotlib.image.AxesImage at 0x123e76790>"
      ]
     },
     "execution_count": 94,
     "metadata": {},
     "output_type": "execute_result"
    },
    {
     "data": {
      "image/png": "[encoded data removed]",
      "text/plain": [
       "<Figure size 432x288 with 1 Axes>"
      ]
     },
     "metadata": {
      "needs_background": "light"
     },
     "output_type": "display_data"
    }
   ],
   "source": [
    "show(rotation_about(np.pi/7, 10, 0))"
   ]
  },
  {
   "cell_type": "code",
   "execution_count": 95,
   "id": "cleared-producer",
   "metadata": {
    "execution": {
     "iopub.execute_input": "2021-03-06T10:57:28.090327Z",
     "iopub.status.busy": "2021-03-06T10:57:28.090083Z",
     "iopub.status.idle": "2021-03-06T10:57:28.285259Z",
     "shell.execute_reply": "2021-03-06T10:57:28.284504Z",
     "shell.execute_reply.started": "2021-03-06T10:57:28.090300Z"
    },
    "tags": []
   },
   "outputs": [
    {
     "data": {
      "text/plain": [
       "<matplotlib.image.AxesImage at 0x123eca6d0>"
      ]
     },
     "execution_count": 95,
     "metadata": {},
     "output_type": "execute_result"
    },
    {
     "data": {
      "image/png": "[encoded data removed]",
      "text/plain": [
       "<Figure size 432x288 with 1 Axes>"
      ]
     },
     "metadata": {
      "needs_background": "light"
     },
     "output_type": "display_data"
    }
   ],
   "source": [
    "show(rotation_about(np.pi/7, 12, 12))"
   ]
  },
  {
   "cell_type": "code",
   "execution_count": 96,
   "id": "utility-financing",
   "metadata": {
    "execution": {
     "iopub.execute_input": "2021-03-06T10:57:30.054799Z",
     "iopub.status.busy": "2021-03-06T10:57:30.054544Z",
     "iopub.status.idle": "2021-03-06T10:57:30.234560Z",
     "shell.execute_reply": "2021-03-06T10:57:30.233871Z",
     "shell.execute_reply.started": "2021-03-06T10:57:30.054771Z"
    },
    "tags": []
   },
   "outputs": [
    {
     "data": {
      "text/plain": [
       "<matplotlib.image.AxesImage at 0x123f61df0>"
      ]
     },
     "execution_count": 96,
     "metadata": {},
     "output_type": "execute_result"
    },
    {
     "data": {
      "image/png": "[encoded data removed]",
      "text/plain": [
       "<Figure size 432x288 with 1 Axes>"
      ]
     },
     "metadata": {
      "needs_background": "light"
     },
     "output_type": "display_data"
    }
   ],
   "source": [
    "show()"
   ]
  },
  {
   "cell_type": "code",
   "execution_count": 97,
   "id": "little-messaging",
   "metadata": {
    "execution": {
     "iopub.execute_input": "2021-03-06T10:58:53.668058Z",
     "iopub.status.busy": "2021-03-06T10:58:53.667815Z",
     "iopub.status.idle": "2021-03-06T10:58:53.845896Z",
     "shell.execute_reply": "2021-03-06T10:58:53.845013Z",
     "shell.execute_reply.started": "2021-03-06T10:58:53.668031Z"
    },
    "tags": []
   },
   "outputs": [
    {
     "data": {
      "text/plain": [
       "<matplotlib.image.AxesImage at 0x123eeeb80>"
      ]
     },
     "execution_count": 97,
     "metadata": {},
     "output_type": "execute_result"
    },
    {
     "data": {
      "image/png": "[encoded data removed]",
      "text/plain": [
       "<Figure size 432x288 with 1 Axes>"
      ]
     },
     "metadata": {
      "needs_background": "light"
     },
     "output_type": "display_data"
    }
   ],
   "source": [
    "show(translation(100, 0) * reflection())"
   ]
  },
  {
   "cell_type": "code",
   "execution_count": 71,
   "id": "dried-office",
   "metadata": {
    "execution": {
     "iopub.execute_input": "2021-03-07T04:01:09.021602Z",
     "iopub.status.busy": "2021-03-07T04:01:09.021362Z",
     "iopub.status.idle": "2021-03-07T04:01:09.049759Z",
     "shell.execute_reply": "2021-03-07T04:01:09.049003Z",
     "shell.execute_reply.started": "2021-03-07T04:01:09.021575Z"
    },
    "tags": []
   },
   "outputs": [
    {
     "data": {
      "text/plain": [
       "0.3217505543966422"
      ]
     },
     "execution_count": 71,
     "metadata": {},
     "output_type": "execute_result"
    }
   ],
   "source": [
    "np.arctan(1/3)"
   ]
  },
  {
   "cell_type": "code",
   "execution_count": 72,
   "id": "dependent-arena",
   "metadata": {
    "execution": {
     "iopub.execute_input": "2021-03-07T04:01:17.038477Z",
     "iopub.status.busy": "2021-03-07T04:01:17.038163Z",
     "iopub.status.idle": "2021-03-07T04:01:17.069868Z",
     "shell.execute_reply": "2021-03-07T04:01:17.069199Z",
     "shell.execute_reply.started": "2021-03-07T04:01:17.038440Z"
    }
   },
   "outputs": [
    {
     "data": {
      "text/plain": [
       "0.7853981633974483"
      ]
     },
     "execution_count": 72,
     "metadata": {},
     "output_type": "execute_result"
    }
   ],
   "source": [
    "np.arctan(1)"
   ]
  },
  {
   "cell_type": "code",
   "execution_count": 73,
   "id": "voluntary-investigator",
   "metadata": {
    "execution": {
     "iopub.execute_input": "2021-03-07T04:01:31.188535Z",
     "iopub.status.busy": "2021-03-07T04:01:31.188201Z",
     "iopub.status.idle": "2021-03-07T04:01:31.219404Z",
     "shell.execute_reply": "2021-03-07T04:01:31.218587Z",
     "shell.execute_reply.started": "2021-03-07T04:01:31.188498Z"
    }
   },
   "outputs": [
    {
     "data": {
      "text/plain": [
       "1.5707963267948966"
      ]
     },
     "execution_count": 73,
     "metadata": {},
     "output_type": "execute_result"
    }
   ],
   "source": [
    "np.arctan(np.inf)"
   ]
  },
  {
   "cell_type": "code",
   "execution_count": 74,
   "id": "present-lover",
   "metadata": {
    "execution": {
     "iopub.execute_input": "2021-03-07T04:01:59.191855Z",
     "iopub.status.busy": "2021-03-07T04:01:59.191554Z",
     "iopub.status.idle": "2021-03-07T04:01:59.224151Z",
     "shell.execute_reply": "2021-03-07T04:01:59.223382Z",
     "shell.execute_reply.started": "2021-03-07T04:01:59.191821Z"
    }
   },
   "outputs": [
    {
     "data": {
      "text/plain": [
       "1.5707963267948966"
      ]
     },
     "execution_count": 74,
     "metadata": {},
     "output_type": "execute_result"
    }
   ],
   "source": [
    "np.arctan2(1, 0)"
   ]
  },
  {
   "cell_type": "code",
   "execution_count": 75,
   "id": "median-stopping",
   "metadata": {
    "execution": {
     "iopub.execute_input": "2021-03-07T04:02:08.446327Z",
     "iopub.status.busy": "2021-03-07T04:02:08.446063Z",
     "iopub.status.idle": "2021-03-07T04:02:08.475548Z",
     "shell.execute_reply": "2021-03-07T04:02:08.474868Z",
     "shell.execute_reply.started": "2021-03-07T04:02:08.446297Z"
    }
   },
   "outputs": [
    {
     "data": {
      "text/plain": [
       "-1.5707963267948966"
      ]
     },
     "execution_count": 75,
     "metadata": {},
     "output_type": "execute_result"
    }
   ],
   "source": [
    "np.arctan2(-1, 0)"
   ]
  },
  {
   "cell_type": "code",
   "execution_count": null,
   "id": "processed-label",
   "metadata": {},
   "outputs": [],
   "source": [
    "np.arctan(1/3)"
   ]
  },
  {
   "cell_type": "code",
   "execution_count": null,
   "id": "differential-lindsay",
   "metadata": {},
   "outputs": [],
   "source": []
  },
  {
   "cell_type": "code",
   "execution_count": 36,
   "id": "occasional-corporation",
   "metadata": {
    "execution": {
     "iopub.execute_input": "2021-03-06T08:01:40.084686Z",
     "iopub.status.busy": "2021-03-06T08:01:40.084487Z",
     "iopub.status.idle": "2021-03-06T08:01:40.108206Z",
     "shell.execute_reply": "2021-03-06T08:01:40.107280Z",
     "shell.execute_reply.started": "2021-03-06T08:01:40.084663Z"
    }
   },
   "outputs": [],
   "source": [
    "rot = rotation(np.pi)"
   ]
  },
  {
   "cell_type": "code",
   "execution_count": 38,
   "id": "optional-island",
   "metadata": {
    "execution": {
     "iopub.execute_input": "2021-03-06T08:01:46.741799Z",
     "iopub.status.busy": "2021-03-06T08:01:46.741536Z",
     "iopub.status.idle": "2021-03-06T08:01:46.776451Z",
     "shell.execute_reply": "2021-03-06T08:01:46.775788Z",
     "shell.execute_reply.started": "2021-03-06T08:01:46.741771Z"
    },
    "tags": []
   },
   "outputs": [
    {
     "name": "stdout",
     "output_type": "stream",
     "text": [
      "              x             y  u\n",
      "x -1.000000e+00 -1.224647e-16  0\n",
      "y  1.224647e-16 -1.000000e+00  0\n",
      "u  0.000000e+00  0.000000e+00  1\n"
     ]
    }
   ],
   "source": [
    "print(rot)"
   ]
  },
  {
   "cell_type": "code",
   "execution_count": 66,
   "id": "lined-simpson",
   "metadata": {
    "execution": {
     "iopub.execute_input": "2021-03-06T08:19:49.427460Z",
     "iopub.status.busy": "2021-03-06T08:19:49.427216Z",
     "iopub.status.idle": "2021-03-06T08:19:49.496080Z",
     "shell.execute_reply": "2021-03-06T08:19:49.495359Z",
     "shell.execute_reply.started": "2021-03-06T08:19:49.427433Z"
    },
    "tags": []
   },
   "outputs": [],
   "source": [
    "rotated = rot * locations"
   ]
  },
  {
   "cell_type": "code",
   "execution_count": 73,
   "id": "analyzed-cause",
   "metadata": {
    "execution": {
     "iopub.execute_input": "2021-03-06T08:21:03.946246Z",
     "iopub.status.busy": "2021-03-06T08:21:03.946008Z",
     "iopub.status.idle": "2021-03-06T08:21:03.975528Z",
     "shell.execute_reply": "2021-03-06T08:21:03.974760Z",
     "shell.execute_reply.started": "2021-03-06T08:21:03.946219Z"
    },
    "tags": []
   },
   "outputs": [],
   "source": [
    "vec = value(mat2coldict(rotated))"
   ]
  },
  {
   "cell_type": "code",
   "execution_count": 80,
   "id": "pharmaceutical-yeast",
   "metadata": {
    "execution": {
     "iopub.execute_input": "2021-03-06T08:24:16.158884Z",
     "iopub.status.busy": "2021-03-06T08:24:16.158621Z",
     "iopub.status.idle": "2021-03-06T08:24:16.200165Z",
     "shell.execute_reply": "2021-03-06T08:24:16.198962Z",
     "shell.execute_reply.started": "2021-03-06T08:24:16.158854Z"
    },
    "tags": []
   },
   "outputs": [
    {
     "ename": "RuntimeError",
     "evalue": "All values are minus, need at least one to print. Consider translation(+x, +y)",
     "output_type": "error",
     "traceback": [
      "\u001b[0;31m---------------------------------------------------------------------------\u001b[0m",
      "\u001b[0;31mRuntimeError\u001b[0m                              Traceback (most recent call last)",
      "\u001b[0;32m<ipython-input-80-e9dc36ac6216>\u001b[0m in \u001b[0;36m<module>\u001b[0;34m\u001b[0m\n\u001b[1;32m      1\u001b[0m \u001b[0;32mif\u001b[0m \u001b[0;32mnot\u001b[0m \u001b[0many\u001b[0m\u001b[0;34m(\u001b[0m\u001b[0mvec\u001b[0m\u001b[0;34m[\u001b[0m\u001b[0;34m'x'\u001b[0m\u001b[0;34m]\u001b[0m \u001b[0;34m>\u001b[0m \u001b[0;36m0\u001b[0m \u001b[0;32mand\u001b[0m \u001b[0mvec\u001b[0m\u001b[0;34m[\u001b[0m\u001b[0;34m'y'\u001b[0m\u001b[0;34m]\u001b[0m \u001b[0;34m>\u001b[0m \u001b[0;36m0\u001b[0m \u001b[0;32mfor\u001b[0m \u001b[0mvec\u001b[0m \u001b[0;32min\u001b[0m \u001b[0mmat2coldict\u001b[0m\u001b[0;34m(\u001b[0m\u001b[0mrotated\u001b[0m\u001b[0;34m)\u001b[0m\u001b[0;34m.\u001b[0m\u001b[0mvalues\u001b[0m\u001b[0;34m(\u001b[0m\u001b[0;34m)\u001b[0m\u001b[0;34m)\u001b[0m\u001b[0;34m:\u001b[0m\u001b[0;34m\u001b[0m\u001b[0;34m\u001b[0m\u001b[0m\n\u001b[0;32m----> 2\u001b[0;31m     \u001b[0;32mraise\u001b[0m \u001b[0mRuntimeError\u001b[0m\u001b[0;34m(\u001b[0m\u001b[0;34m\"All values are minus, need at least one to print. Consider translation(+x, +y)\"\u001b[0m\u001b[0;34m)\u001b[0m\u001b[0;34m\u001b[0m\u001b[0;34m\u001b[0m\u001b[0m\n\u001b[0m",
      "\u001b[0;31mRuntimeError\u001b[0m: All values are minus, need at least one to print. Consider translation(+x, +y)"
     ]
    }
   ],
   "source": [
    "if not any(vec['x'] > 0 and vec['y'] > 0 for vec in mat2coldict(rotated).values()):\n",
    "    raise RuntimeError(\"All values are minus, need at least one to print. Consider translation(+x, +y)\")"
   ]
  },
  {
   "cell_type": "code",
   "execution_count": null,
   "id": "abroad-cursor",
   "metadata": {},
   "outputs": [],
   "source": []
  },
  {
   "cell_type": "code",
   "execution_count": 54,
   "id": "covered-employee",
   "metadata": {
    "execution": {
     "iopub.execute_input": "2021-03-06T08:09:33.905954Z",
     "iopub.status.busy": "2021-03-06T08:09:33.905684Z",
     "iopub.status.idle": "2021-03-06T08:09:33.982169Z",
     "shell.execute_reply": "2021-03-06T08:09:33.981513Z",
     "shell.execute_reply.started": "2021-03-06T08:09:33.905922Z"
    },
    "tags": []
   },
   "outputs": [
    {
     "data": {
      "image/png": "[encoded data removed]",
      "text/plain": [
       "<PIL.Image.Image image mode=RGB size=112x133 at 0x1237C3610>"
      ]
     },
     "execution_count": 54,
     "metadata": {},
     "output_type": "execute_result"
    }
   ],
   "source": [
    "mat2im(colors, translation(100, 100) * rotation (np.pi/3) *locations)"
   ]
  },
  {
   "cell_type": "code",
   "execution_count": 52,
   "id": "perceived-clark",
   "metadata": {
    "execution": {
     "iopub.execute_input": "2021-03-06T08:09:28.873746Z",
     "iopub.status.busy": "2021-03-06T08:09:28.873482Z",
     "iopub.status.idle": "2021-03-06T08:09:28.950921Z",
     "shell.execute_reply": "2021-03-06T08:09:28.950265Z",
     "shell.execute_reply.started": "2021-03-06T08:09:28.873716Z"
    }
   },
   "outputs": [
    {
     "data": {
      "image/png": "[encoded data removed]",
      "text/plain": [
       "<PIL.Image.Image image mode=RGB size=124x124 at 0x1237C3370>"
      ]
     },
     "execution_count": 52,
     "metadata": {},
     "output_type": "execute_result"
    }
   ],
   "source": [
    "mat2im(colors, translation(100, 100) * rotation (0) *locations)"
   ]
  },
  {
   "cell_type": "code",
   "execution_count": null,
   "id": "crude-czech",
   "metadata": {},
   "outputs": [],
   "source": []
  },
  {
   "cell_type": "code",
   "execution_count": null,
   "id": "dietary-shelter",
   "metadata": {},
   "outputs": [],
   "source": []
  },
  {
   "cell_type": "code",
   "execution_count": null,
   "id": "sized-frame",
   "metadata": {},
   "outputs": [],
   "source": []
  },
  {
   "cell_type": "code",
   "execution_count": null,
   "id": "characteristic-poland",
   "metadata": {},
   "outputs": [],
   "source": []
  },
  {
   "cell_type": "code",
   "execution_count": null,
   "id": "measured-woman",
   "metadata": {},
   "outputs": [],
   "source": []
  },
  {
   "cell_type": "code",
   "execution_count": null,
   "id": "activated-married",
   "metadata": {},
   "outputs": [],
   "source": []
  },
  {
   "cell_type": "code",
   "execution_count": null,
   "id": "polyphonic-broadway",
   "metadata": {},
   "outputs": [],
   "source": [
    "plt.imshow(mat2im(colors, translation(1, 2) * locations))"
   ]
  },
  {
   "cell_type": "code",
   "execution_count": 144,
   "id": "noble-queensland",
   "metadata": {
    "execution": {
     "iopub.execute_input": "2021-03-06T07:32:14.620306Z",
     "iopub.status.busy": "2021-03-06T07:32:14.620061Z",
     "iopub.status.idle": "2021-03-06T07:32:14.647712Z",
     "shell.execute_reply": "2021-03-06T07:32:14.646701Z",
     "shell.execute_reply.started": "2021-03-06T07:32:14.620279Z"
    },
    "tags": []
   },
   "outputs": [],
   "source": [
    "all_locations = [\n",
    "    locations,\n",
    "    locations2,\n",
    "]"
   ]
  },
  {
   "cell_type": "code",
   "execution_count": 153,
   "id": "further-trustee",
   "metadata": {
    "execution": {
     "iopub.execute_input": "2021-03-06T07:33:22.500627Z",
     "iopub.status.busy": "2021-03-06T07:33:22.500375Z",
     "iopub.status.idle": "2021-03-06T07:33:22.532596Z",
     "shell.execute_reply": "2021-03-06T07:33:22.531627Z",
     "shell.execute_reply.started": "2021-03-06T07:33:22.500600Z"
    },
    "tags": []
   },
   "outputs": [],
   "source": [
    "canvas = Image.new(\n",
    "    mode=\"RGB\",\n",
    "    size=tuple(fig_max(all_locations)),\n",
    "    color=\"white\",\n",
    ")"
   ]
  },
  {
   "cell_type": "code",
   "execution_count": 154,
   "id": "impaired-estimate",
   "metadata": {
    "execution": {
     "iopub.execute_input": "2021-03-06T07:33:26.802906Z",
     "iopub.status.busy": "2021-03-06T07:33:26.802664Z",
     "iopub.status.idle": "2021-03-06T07:33:26.830754Z",
     "shell.execute_reply": "2021-03-06T07:33:26.830084Z",
     "shell.execute_reply.started": "2021-03-06T07:33:26.802880Z"
    },
    "tags": []
   },
   "outputs": [
    {
     "data": {
      "image/png": "[encoded data removed]",
      "text/plain": [
       "<PIL.Image.Image image mode=RGB size=25x26 at 0x124D330A0>"
      ]
     },
     "execution_count": 154,
     "metadata": {},
     "output_type": "execute_result"
    }
   ],
   "source": [
    "canvas"
   ]
  },
  {
   "cell_type": "code",
   "execution_count": 155,
   "id": "damaged-integrity",
   "metadata": {
    "execution": {
     "iopub.execute_input": "2021-03-06T07:33:33.540870Z",
     "iopub.status.busy": "2021-03-06T07:33:33.540599Z",
     "iopub.status.idle": "2021-03-06T07:33:33.626048Z",
     "shell.execute_reply": "2021-03-06T07:33:33.625377Z",
     "shell.execute_reply.started": "2021-03-06T07:33:33.540840Z"
    },
    "tags": []
   },
   "outputs": [
    {
     "data": {
      "image/png": "[encoded data removed]",
      "text/plain": [
       "<PIL.Image.Image image mode=RGB size=25x26 at 0x124D330A0>"
      ]
     },
     "execution_count": 155,
     "metadata": {},
     "output_type": "execute_result"
    }
   ],
   "source": [
    "mat2im(colors, locations, canvas)\n",
    "mat2im(colors, locations2, canvas)"
   ]
  },
  {
   "cell_type": "code",
   "execution_count": 87,
   "id": "incomplete-chest",
   "metadata": {
    "execution": {
     "iopub.execute_input": "2021-03-06T07:20:33.221024Z",
     "iopub.status.busy": "2021-03-06T07:20:33.220760Z",
     "iopub.status.idle": "2021-03-06T07:20:33.251864Z",
     "shell.execute_reply": "2021-03-06T07:20:33.250976Z",
     "shell.execute_reply.started": "2021-03-06T07:20:33.220994Z"
    },
    "tags": []
   },
   "outputs": [
    {
     "data": {
      "text/plain": [
       "dict_values([5, 6])"
      ]
     },
     "execution_count": 87,
     "metadata": {},
     "output_type": "execute_result"
    }
   ],
   "source": [
    "fig_max(all_locations)"
   ]
  },
  {
   "cell_type": "code",
   "execution_count": 41,
   "id": "micro-growing",
   "metadata": {
    "execution": {
     "iopub.execute_input": "2021-03-06T04:37:06.583178Z",
     "iopub.status.busy": "2021-03-06T04:37:06.582936Z",
     "iopub.status.idle": "2021-03-06T04:37:06.611046Z",
     "shell.execute_reply": "2021-03-06T04:37:06.610272Z",
     "shell.execute_reply.started": "2021-03-06T04:37:06.583151Z"
    },
    "tags": []
   },
   "outputs": [],
   "source": [
    "im2 = mat2im(colors, translation(1, 2) * locations)"
   ]
  },
  {
   "cell_type": "code",
   "execution_count": 45,
   "id": "altered-empire",
   "metadata": {
    "execution": {
     "iopub.execute_input": "2021-03-06T04:37:24.550172Z",
     "iopub.status.busy": "2021-03-06T04:37:24.549927Z",
     "iopub.status.idle": "2021-03-06T04:37:24.577535Z",
     "shell.execute_reply": "2021-03-06T04:37:24.576895Z",
     "shell.execute_reply.started": "2021-03-06T04:37:24.550145Z"
    },
    "tags": []
   },
   "outputs": [
    {
     "data": {
      "text/plain": [
       "(24, 24, 3)"
      ]
     },
     "execution_count": 45,
     "metadata": {},
     "output_type": "execute_result"
    }
   ],
   "source": [
    "np.array(im2).shape"
   ]
  },
  {
   "cell_type": "code",
   "execution_count": 31,
   "id": "central-belfast",
   "metadata": {
    "execution": {
     "iopub.execute_input": "2021-03-06T04:14:15.423963Z",
     "iopub.status.busy": "2021-03-06T04:14:15.423681Z",
     "iopub.status.idle": "2021-03-06T04:14:15.455100Z",
     "shell.execute_reply": "2021-03-06T04:14:15.454319Z",
     "shell.execute_reply.started": "2021-03-06T04:14:15.423931Z"
    }
   },
   "outputs": [
    {
     "data": {
      "image/png": "[encoded data removed]",
      "text/plain": [
       "<PIL.Image.Image image mode=RGB size=24x24 at 0x1252EC970>"
      ]
     },
     "execution_count": 31,
     "metadata": {},
     "output_type": "execute_result"
    }
   ],
   "source": [
    "mat2im(colors, locations)"
   ]
  },
  {
   "cell_type": "code",
   "execution_count": 46,
   "id": "flexible-delicious",
   "metadata": {
    "execution": {
     "iopub.execute_input": "2021-03-06T04:38:07.579534Z",
     "iopub.status.busy": "2021-03-06T04:38:07.579267Z",
     "iopub.status.idle": "2021-03-06T04:38:07.607273Z",
     "shell.execute_reply": "2021-03-06T04:38:07.606365Z",
     "shell.execute_reply.started": "2021-03-06T04:38:07.579505Z"
    }
   },
   "outputs": [],
   "source": [
    "locations2 = translation(1, 2) * locations"
   ]
  },
  {
   "cell_type": "code",
   "execution_count": 47,
   "id": "wanted-knowing",
   "metadata": {
    "execution": {
     "iopub.execute_input": "2021-03-06T04:38:14.320086Z",
     "iopub.status.busy": "2021-03-06T04:38:14.319811Z",
     "iopub.status.idle": "2021-03-06T04:38:14.359994Z",
     "shell.execute_reply": "2021-03-06T04:38:14.359136Z",
     "shell.execute_reply.started": "2021-03-06T04:38:14.320056Z"
    }
   },
   "outputs": [
    {
     "name": "stdout",
     "output_type": "stream",
     "text": [
      "   (0, 0)  (0, 1)  (0, 2)  (0, 3)  (0, 4)  (1, 0)  (1, 1)  (1, 2)  (1, 3)  (1, 4)  (2, 0)  (2, 1)  (2, 2)  (2, 3)  (2, 4)  (3, 0)  (3, 1)  (3, 2)  (3, 3)  (3, 4)  (4, 0)  (4, 1)  (4, 2)  (4, 3)  (4, 4)\n",
      "y       2       3       4       5       6       2       3       4       5       6       2       3       4       5       6       2       3       4       5       6       2       3       4       5       6\n",
      "x       1       1       1       1       1       2       2       2       2       2       3       3       3       3       3       4       4       4       4       4       5       5       5       5       5\n",
      "u       1       1       1       1       1       1       1       1       1       1       1       1       1       1       1       1       1       1       1       1       1       1       1       1       1\n"
     ]
    }
   ],
   "source": [
    "print(locations2)"
   ]
  },
  {
   "cell_type": "code",
   "execution_count": 32,
   "id": "amazing-program",
   "metadata": {
    "execution": {
     "iopub.execute_input": "2021-03-06T04:14:37.020749Z",
     "iopub.status.busy": "2021-03-06T04:14:37.020478Z",
     "iopub.status.idle": "2021-03-06T04:14:37.052166Z",
     "shell.execute_reply": "2021-03-06T04:14:37.051469Z",
     "shell.execute_reply.started": "2021-03-06T04:14:37.020719Z"
    }
   },
   "outputs": [
    {
     "data": {
      "image/png": "[encoded data removed]",
      "text/plain": [
       "<PIL.Image.Image image mode=RGB size=24x24 at 0x1252EC940>"
      ]
     },
     "execution_count": 32,
     "metadata": {},
     "output_type": "execute_result"
    }
   ],
   "source": [
    "mat2im(colors, translation(1, 2) * locations)"
   ]
  },
  {
   "cell_type": "code",
   "execution_count": null,
   "id": "artificial-companion",
   "metadata": {},
   "outputs": [],
   "source": []
  },
  {
   "cell_type": "code",
   "execution_count": null,
   "id": "killing-prophet",
   "metadata": {},
   "outputs": [],
   "source": []
  },
  {
   "cell_type": "code",
   "execution_count": 39,
   "id": "verified-quebec",
   "metadata": {
    "execution": {
     "iopub.execute_input": "2021-03-06T04:21:00.142684Z",
     "iopub.status.busy": "2021-03-06T04:21:00.142421Z",
     "iopub.status.idle": "2021-03-06T04:21:00.211178Z",
     "shell.execute_reply": "2021-03-06T04:21:00.210458Z",
     "shell.execute_reply.started": "2021-03-06T04:21:00.142655Z"
    },
    "tags": []
   },
   "outputs": [
    {
     "name": "stdout",
     "output_type": "stream",
     "text": [
      "   (0, 0)  (0, 1)  (0, 2)  (0, 3)  (0, 4)  (1, 0)  (1, 1)  (1, 2)  (1, 3)  (1, 4)  (2, 0)  (2, 1)  (2, 2)  (2, 3)  (2, 4)  (3, 0)  (3, 1)  (3, 2)  (3, 3)  (3, 4)  (4, 0)  (4, 1)  (4, 2)  (4, 3)  (4, 4)\n",
      "y       2       3       4       5       6       2       3       4       5       6       2       3       4       5       6       2       3       4       5       6       2       3       4       5       6\n",
      "x       1       1       1       1       1       2       2       2       2       2       3       3       3       3       3       4       4       4       4       4       5       5       5       5       5\n",
      "u       1       1       1       1       1       1       1       1       1       1       1       1       1       1       1       1       1       1       1       1       1       1       1       1       1\n"
     ]
    }
   ],
   "source": [
    "print(translation(1, 2) * locations)"
   ]
  },
  {
   "cell_type": "code",
   "execution_count": null,
   "id": "unavailable-theme",
   "metadata": {},
   "outputs": [],
   "source": []
  },
  {
   "cell_type": "code",
   "execution_count": 65,
   "id": "structural-savings",
   "metadata": {
    "execution": {
     "iopub.execute_input": "2021-02-28T09:25:35.383544Z",
     "iopub.status.busy": "2021-02-28T09:25:35.383300Z",
     "iopub.status.idle": "2021-02-28T09:25:35.412070Z",
     "shell.execute_reply": "2021-02-28T09:25:35.411227Z",
     "shell.execute_reply.started": "2021-02-28T09:25:35.383516Z"
    }
   },
   "outputs": [
    {
     "data": {
      "text/plain": [
       "\u001b[0;31mSignature:\u001b[0m \u001b[0mrowdict2mat\u001b[0m\u001b[0;34m(\u001b[0m\u001b[0mrowdict\u001b[0m\u001b[0;34m,\u001b[0m \u001b[0mcol_labels\u001b[0m\u001b[0;34m=\u001b[0m\u001b[0;32mNone\u001b[0m\u001b[0;34m)\u001b[0m\u001b[0;34m\u001b[0m\u001b[0;34m\u001b[0m\u001b[0m\n",
       "\u001b[0;31mDocstring:\u001b[0m\n",
       "Given a dictionary or list whose values are Vecs, returns the Mat having these\n",
       "Vecs as its rows.  This is the inverse of mat2rowdict.\n",
       "Assumes all the Vecs have the same label-set.\n",
       "Assumes row_dict is nonempty.\n",
       "If rowdict is a dictionary then its keys will be the row-labels of the Mat.\n",
       "If rowdict is a list then {0...len(rowdict)-1} will be the row-labels of the Mat.\n",
       "e.g.:\n",
       "\n",
       ">>> A = {0:Vec.Vec({0,1},{0:1,1:2}),1:Vec.Vec({0,1},{0:3,1:4})}\n",
       ">>> B = [Vec.Vec({0,1},{0:1,1:2}),Vec.Vec({0,1},{0:3,1:4})]\n",
       ">>> mat2rowdict(rowdict2mat(A)) == A\n",
       "True\n",
       ">>> rowdict2mat(A)\n",
       "Mat(({0, 1}, {0, 1}), {(0, 1): 2, (1, 0): 3, (0, 0): 1, (1, 1): 4})\n",
       ">>> rowdict2mat(A) == rowdict2mat(B)\n",
       "True\n",
       "\u001b[0;31mFile:\u001b[0m      ~/github.com/banbiossa/coding-the-matrix/coding_the_matrix/matutil.py\n",
       "\u001b[0;31mType:\u001b[0m      function\n"
      ]
     },
     "metadata": {},
     "output_type": "display_data"
    }
   ],
   "source": [
    "rowdict2mat?"
   ]
  },
  {
   "cell_type": "code",
   "execution_count": 64,
   "id": "lyric-silence",
   "metadata": {
    "execution": {
     "iopub.execute_input": "2021-02-28T09:23:52.221418Z",
     "iopub.status.busy": "2021-02-28T09:23:52.221186Z",
     "iopub.status.idle": "2021-02-28T09:23:52.307935Z",
     "shell.execute_reply": "2021-02-28T09:23:52.307177Z",
     "shell.execute_reply.started": "2021-02-28T09:23:52.221393Z"
    }
   },
   "outputs": [
    {
     "data": {
      "text/plain": [
       "\u001b[0;31mInit signature:\u001b[0m \u001b[0mVec\u001b[0m\u001b[0;34m(\u001b[0m\u001b[0mdomain\u001b[0m\u001b[0;34m:\u001b[0m \u001b[0mset\u001b[0m\u001b[0;34m,\u001b[0m \u001b[0mfunction\u001b[0m\u001b[0;34m:\u001b[0m \u001b[0mdict\u001b[0m\u001b[0;34m)\u001b[0m\u001b[0;34m\u001b[0m\u001b[0;34m\u001b[0m\u001b[0m\n",
       "\u001b[0;31mDocstring:\u001b[0m      <no docstring>\n",
       "\u001b[0;31mInit docstring:\u001b[0m A vector is a function f from domain D to a field\n",
       "\u001b[0;31mFile:\u001b[0m           ~/github.com/banbiossa/coding-the-matrix/coding_the_matrix/Vec.py\n",
       "\u001b[0;31mType:\u001b[0m           type\n",
       "\u001b[0;31mSubclasses:\u001b[0m     \n"
      ]
     },
     "metadata": {},
     "output_type": "display_data"
    }
   ],
   "source": [
    "Vec?"
   ]
  },
  {
   "cell_type": "code",
   "execution_count": null,
   "id": "correct-engineer",
   "metadata": {},
   "outputs": [],
   "source": []
  },
  {
   "cell_type": "code",
   "execution_count": 61,
   "id": "regional-superior",
   "metadata": {
    "execution": {
     "iopub.execute_input": "2021-02-28T09:14:49.334884Z",
     "iopub.status.busy": "2021-02-28T09:14:49.334610Z",
     "iopub.status.idle": "2021-02-28T09:14:49.378277Z",
     "shell.execute_reply": "2021-02-28T09:14:49.377445Z",
     "shell.execute_reply.started": "2021-02-28T09:14:49.334852Z"
    },
    "tags": []
   },
   "outputs": [
    {
     "name": "stdout",
     "output_type": "stream",
     "text": [
      "   (0, 0)  (0, 1)  (0, 2)  (0, 3)  (0, 4)  (1, 0)  (1, 1)  (1, 2)  (1, 3)  (1, 4)  (2, 0)  (2, 1)  (2, 2)  (2, 3)  (2, 4)  (3, 0)  (3, 1)  (3, 2)  (3, 3)  (3, 4)  (4, 0)  (4, 1)  (4, 2)  (4, 3)  (4, 4)\n",
      "x       0       0       0       0       0       1       1       1       1       1       2       2       2       2       2       3       3       3       3       3       4       4       4       4       4\n",
      "y       0       1       2       3       4       0       1       2       3       4       0       1       2       3       4       0       1       2       3       4       0       1       2       3       4\n",
      "u       1       1       1       1       1       1       1       1       1       1       1       1       1       1       1       1       1       1       1       1       1       1       1       1       1\n"
     ]
    }
   ],
   "source": [
    "print(locations)"
   ]
  },
  {
   "cell_type": "code",
   "execution_count": 19,
   "id": "treated-amateur",
   "metadata": {
    "execution": {
     "iopub.execute_input": "2021-02-28T07:55:10.559573Z",
     "iopub.status.busy": "2021-02-28T07:55:10.559327Z",
     "iopub.status.idle": "2021-02-28T07:55:10.587177Z",
     "shell.execute_reply": "2021-02-28T07:55:10.586419Z",
     "shell.execute_reply.started": "2021-02-28T07:55:10.559546Z"
    },
    "tags": []
   },
   "outputs": [],
   "source": [
    "r = im[:, :, 0]\n",
    "r_dict = array_to_dict(r)"
   ]
  },
  {
   "cell_type": "code",
   "execution_count": 35,
   "id": "adaptive-approval",
   "metadata": {
    "execution": {
     "iopub.execute_input": "2021-02-28T07:59:48.226311Z",
     "iopub.status.busy": "2021-02-28T07:59:48.226141Z",
     "iopub.status.idle": "2021-02-28T07:59:48.250966Z",
     "shell.execute_reply": "2021-02-28T07:59:48.250041Z",
     "shell.execute_reply.started": "2021-02-28T07:59:48.226293Z"
    },
    "tags": []
   },
   "outputs": [],
   "source": [
    "x = Vec(domain=None, function={key: key[0] for key in r_dict.keys()})\n",
    "y = Vec(domain=None, function={key: key[1] for key in r_dict.keys()})\n",
    "u = Vec(domain=None, function={key: 1 for key in r_dict.keys()})"
   ]
  },
  {
   "cell_type": "code",
   "execution_count": 39,
   "id": "increasing-singles",
   "metadata": {
    "execution": {
     "iopub.execute_input": "2021-02-28T08:00:58.698954Z",
     "iopub.status.busy": "2021-02-28T08:00:58.698688Z",
     "iopub.status.idle": "2021-02-28T08:00:58.736200Z",
     "shell.execute_reply": "2021-02-28T08:00:58.735339Z",
     "shell.execute_reply.started": "2021-02-28T08:00:58.698924Z"
    },
    "tags": []
   },
   "outputs": [
    {
     "name": "stdout",
     "output_type": "stream",
     "text": [
      "   (0, 0)  (1, 0)  (2, 0)  (3, 0)  (0, 1)  (1, 1)  (2, 1)  (3, 1)  (0, 2)  (1, 2)  (2, 2)  (3, 2)  (0, 3)  (1, 3)  (2, 3)  (3, 3)\n",
      "x       0       1       2       3       0       1       2       3       0       1       2       3       0       1       2       3\n",
      "y       0       0       0       0       1       1       1       1       2       2       2       2       3       3       3       3\n",
      "u       1       1       1       1       1       1       1       1       1       1       1       1       1       1       1       1\n"
     ]
    }
   ],
   "source": [
    "print(rowdict2mat({\n",
    "    'x': x,\n",
    "    'y': y,\n",
    "    'u': u\n",
    "}, col_labels = list(r_dict.keys())))"
   ]
  },
  {
   "cell_type": "code",
   "execution_count": 41,
   "id": "dramatic-corruption",
   "metadata": {
    "execution": {
     "iopub.execute_input": "2021-02-28T08:01:13.760021Z",
     "iopub.status.busy": "2021-02-28T08:01:13.759760Z",
     "iopub.status.idle": "2021-02-28T08:01:13.799911Z",
     "shell.execute_reply": "2021-02-28T08:01:13.798995Z",
     "shell.execute_reply.started": "2021-02-28T08:01:13.759991Z"
    },
    "tags": []
   },
   "outputs": [
    {
     "name": "stdout",
     "output_type": "stream",
     "text": [
      "   0  2  4  1  3  0  4  3  2  0  2  1  3  1  4     0  1  0  2  4  3  1  2  3\n",
      "   1  4  0  2  4  4  3  1  1  2  2  0  2  3  1  4  0  1  3  0  2  0  4  3  3\n",
      "y  1  4  0  2  4  4  3  1  1  2  2  0  2  3  1  4  0  1  3  0  2  0  4  3  3\n",
      "x  0  2  4  1  3  0  4  3  2  0  2  1  3  1  4  4  0  1  0  2  4  3  1  2  3\n",
      "u  1  1  1  1  1  1  1  1  1  1  1  1  1  1  1  1  1  1  1  1  1  1  1  1  1\n"
     ]
    }
   ],
   "source": [
    "print(org_loc)"
   ]
  },
  {
   "cell_type": "code",
   "execution_count": null,
   "id": "advisory-manchester",
   "metadata": {},
   "outputs": [],
   "source": []
  },
  {
   "cell_type": "code",
   "execution_count": 25,
   "id": "black-patient",
   "metadata": {
    "execution": {
     "iopub.execute_input": "2021-02-22T07:55:19.285035Z",
     "iopub.status.busy": "2021-02-22T07:55:19.283309Z",
     "iopub.status.idle": "2021-02-22T07:55:19.380923Z",
     "shell.execute_reply": "2021-02-22T07:55:19.380068Z",
     "shell.execute_reply.started": "2021-02-22T07:55:19.284918Z"
    }
   },
   "outputs": [],
   "source": [
    "stride = 6"
   ]
  },
  {
   "cell_type": "code",
   "execution_count": 30,
   "id": "genuine-connection",
   "metadata": {
    "execution": {
     "iopub.execute_input": "2021-02-22T07:57:10.037981Z",
     "iopub.status.busy": "2021-02-22T07:57:10.035718Z",
     "iopub.status.idle": "2021-02-22T07:57:10.210156Z",
     "shell.execute_reply": "2021-02-22T07:57:10.208670Z",
     "shell.execute_reply.started": "2021-02-22T07:57:10.037868Z"
    },
    "tags": []
   },
   "outputs": [],
   "source": [
    "size = [int(length/ stride) for length in r.shape]"
   ]
  },
  {
   "cell_type": "code",
   "execution_count": 31,
   "id": "employed-vector",
   "metadata": {
    "execution": {
     "iopub.execute_input": "2021-02-22T07:57:12.615409Z",
     "iopub.status.busy": "2021-02-22T07:57:12.615162Z",
     "iopub.status.idle": "2021-02-22T07:57:12.645410Z",
     "shell.execute_reply": "2021-02-22T07:57:12.644507Z",
     "shell.execute_reply.started": "2021-02-22T07:57:12.615385Z"
    }
   },
   "outputs": [
    {
     "data": {
      "text/plain": [
       "[2, 2]"
      ]
     },
     "execution_count": 31,
     "metadata": {},
     "output_type": "execute_result"
    }
   ],
   "source": [
    "size"
   ]
  },
  {
   "cell_type": "code",
   "execution_count": 35,
   "id": "given-breathing",
   "metadata": {
    "execution": {
     "iopub.execute_input": "2021-02-22T08:19:15.852452Z",
     "iopub.status.busy": "2021-02-22T08:19:15.852181Z",
     "iopub.status.idle": "2021-02-22T08:19:15.894442Z",
     "shell.execute_reply": "2021-02-22T08:19:15.893491Z",
     "shell.execute_reply.started": "2021-02-22T08:19:15.852430Z"
    },
    "tags": []
   },
   "outputs": [],
   "source": [
    "points = [(x, y) for x, y in itertools.product(*[range(s) for s in size])]"
   ]
  },
  {
   "cell_type": "code",
   "execution_count": 36,
   "id": "collectible-focus",
   "metadata": {
    "execution": {
     "iopub.execute_input": "2021-02-22T08:19:19.672317Z",
     "iopub.status.busy": "2021-02-22T08:19:19.672122Z",
     "iopub.status.idle": "2021-02-22T08:19:19.699623Z",
     "shell.execute_reply": "2021-02-22T08:19:19.699073Z",
     "shell.execute_reply.started": "2021-02-22T08:19:19.672296Z"
    }
   },
   "outputs": [
    {
     "data": {
      "text/plain": [
       "[(0, 0), (0, 1), (1, 0), (1, 1)]"
      ]
     },
     "execution_count": 36,
     "metadata": {},
     "output_type": "execute_result"
    }
   ],
   "source": [
    "points"
   ]
  },
  {
   "cell_type": "code",
   "execution_count": 39,
   "id": "secure-duration",
   "metadata": {
    "execution": {
     "iopub.execute_input": "2021-02-22T08:26:57.604523Z",
     "iopub.status.busy": "2021-02-22T08:26:57.604274Z",
     "iopub.status.idle": "2021-02-22T08:26:57.634527Z",
     "shell.execute_reply": "2021-02-22T08:26:57.633223Z",
     "shell.execute_reply.started": "2021-02-22T08:26:57.604497Z"
    },
    "tags": []
   },
   "outputs": [],
   "source": [
    "indexes = [(x * stride, y * stride) for x, y in points]"
   ]
  },
  {
   "cell_type": "code",
   "execution_count": 62,
   "id": "annoying-jones",
   "metadata": {
    "execution": {
     "iopub.execute_input": "2021-02-22T08:32:16.403487Z",
     "iopub.status.busy": "2021-02-22T08:32:16.403173Z",
     "iopub.status.idle": "2021-02-22T08:32:16.849027Z",
     "shell.execute_reply": "2021-02-22T08:32:16.848448Z",
     "shell.execute_reply.started": "2021-02-22T08:32:16.403458Z"
    },
    "tags": []
   },
   "outputs": [],
   "source": [
    "rgb = [[im[:, :, i][index] for index in indexes] for i in range(3)]\n",
    "# rs = [r[index] for index in indexes]\n",
    "# gs = [g[index] for index in indexes]\n",
    "# bs = [b[index] for index in indexes]"
   ]
  },
  {
   "cell_type": "code",
   "execution_count": 63,
   "id": "faced-understanding",
   "metadata": {
    "execution": {
     "iopub.execute_input": "2021-02-22T08:32:27.900706Z",
     "iopub.status.busy": "2021-02-22T08:32:27.900465Z",
     "iopub.status.idle": "2021-02-22T08:32:27.927838Z",
     "shell.execute_reply": "2021-02-22T08:32:27.926981Z",
     "shell.execute_reply.started": "2021-02-22T08:32:27.900680Z"
    },
    "tags": []
   },
   "outputs": [],
   "source": [
    "colors = listlist2mat(rgb, rows=['r', 'g', 'b'], cols=points)"
   ]
  },
  {
   "cell_type": "code",
   "execution_count": 60,
   "id": "sized-yacht",
   "metadata": {
    "execution": {
     "iopub.execute_input": "2021-02-22T08:31:51.467174Z",
     "iopub.status.busy": "2021-02-22T08:31:51.466916Z",
     "iopub.status.idle": "2021-02-22T08:31:51.508953Z",
     "shell.execute_reply": "2021-02-22T08:31:51.508108Z",
     "shell.execute_reply.started": "2021-02-22T08:31:51.467147Z"
    },
    "tags": []
   },
   "outputs": [
    {
     "name": "stdout",
     "output_type": "stream",
     "text": [
      "   (0, 0)  (0, 1)  (1, 0)  (1, 1)\n",
      "r     225     175     125      75\n",
      "g     225     175     125      75\n",
      "b     225     175     125      75\n"
     ]
    }
   ],
   "source": [
    "print(colors)"
   ]
  },
  {
   "cell_type": "code",
   "execution_count": null,
   "id": "checked-saudi",
   "metadata": {},
   "outputs": [],
   "source": []
  },
  {
   "cell_type": "markdown",
   "id": "coordinate-expression",
   "metadata": {},
   "source": [
    "## Direct problem\n",
    "- matrix to image"
   ]
  },
  {
   "cell_type": "code",
   "execution_count": 16,
   "id": "rapid-elizabeth",
   "metadata": {
    "execution": {
     "iopub.execute_input": "2021-02-25T00:04:24.986966Z",
     "iopub.status.busy": "2021-02-25T00:04:24.986722Z",
     "iopub.status.idle": "2021-02-25T00:04:25.016128Z",
     "shell.execute_reply": "2021-02-25T00:04:25.015325Z",
     "shell.execute_reply.started": "2021-02-25T00:04:24.986939Z"
    },
    "tags": []
   },
   "outputs": [],
   "source": [
    "numbers = [\"000111222\", \"012\" * 3, \"1\" * 9]\n",
    "input_list = [[int(c) for c in number] for number in numbers]\n",
    "locations = listlist2mat(\n",
    "    input_list,\n",
    "    rows=[\"x\", \"y\", \"u\"],\n",
    "    cols=[(x, y) for x, y in itertools.product(range(3), range(3))],\n",
    "    # cols=[(0, 0), (0, 1), (0, 2), (1, 0), (1, 1), (1, 2), (2, 0), (2, 1), (2, 2)],\n",
    ")\n",
    "colors = listlist2mat(\n",
    "    # this becomes gray\n",
    "    [[225, 125, 175, 75] for _ in range(3)],\n",
    "    rows=[\"r\", \"g\", \"b\"],\n",
    "    cols=[(x, y) for x, y in itertools.product(range(2), range(2))],\n",
    ")"
   ]
  },
  {
   "cell_type": "code",
   "execution_count": 17,
   "id": "recorded-toddler",
   "metadata": {
    "execution": {
     "iopub.execute_input": "2021-02-25T00:04:25.984232Z",
     "iopub.status.busy": "2021-02-25T00:04:25.983981Z",
     "iopub.status.idle": "2021-02-25T00:04:26.026211Z",
     "shell.execute_reply": "2021-02-25T00:04:26.025556Z",
     "shell.execute_reply.started": "2021-02-25T00:04:25.984204Z"
    },
    "tags": []
   },
   "outputs": [
    {
     "name": "stdout",
     "output_type": "stream",
     "text": [
      "   (0, 0)  (0, 1)  (0, 2)  (1, 0)  (1, 1)  (1, 2)  (2, 0)  (2, 1)  (2, 2)\n",
      "x       0       0       0       1       1       1       2       2       2\n",
      "y       0       1       2       0       1       2       0       1       2\n",
      "u       1       1       1       1       1       1       1       1       1\n"
     ]
    }
   ],
   "source": [
    "print(locations)"
   ]
  },
  {
   "cell_type": "code",
   "execution_count": 18,
   "id": "sufficient-relations",
   "metadata": {
    "execution": {
     "iopub.execute_input": "2021-02-25T00:04:26.808988Z",
     "iopub.status.busy": "2021-02-25T00:04:26.808740Z",
     "iopub.status.idle": "2021-02-25T00:04:26.838667Z",
     "shell.execute_reply": "2021-02-25T00:04:26.837871Z",
     "shell.execute_reply.started": "2021-02-25T00:04:26.808959Z"
    },
    "tags": []
   },
   "outputs": [
    {
     "name": "stdout",
     "output_type": "stream",
     "text": [
      "   (0, 0)  (0, 1)  (1, 0)  (1, 1)\n",
      "r     225     125     175      75\n",
      "g     225     125     175      75\n",
      "b     225     125     175      75\n"
     ]
    }
   ],
   "source": [
    "print(colors)"
   ]
  },
  {
   "cell_type": "code",
   "execution_count": 21,
   "id": "spatial-tissue",
   "metadata": {
    "execution": {
     "iopub.execute_input": "2021-02-25T00:04:38.554331Z",
     "iopub.status.busy": "2021-02-25T00:04:38.554091Z",
     "iopub.status.idle": "2021-02-25T00:04:38.582688Z",
     "shell.execute_reply": "2021-02-25T00:04:38.581837Z",
     "shell.execute_reply.started": "2021-02-25T00:04:38.554304Z"
    },
    "tags": []
   },
   "outputs": [
    {
     "data": {
      "image/png": "[encoded data removed]",
      "text/plain": [
       "<PIL.Image.Image image mode=RGB size=4x4 at 0x11EC2D9A0>"
      ]
     },
     "execution_count": 21,
     "metadata": {},
     "output_type": "execute_result"
    }
   ],
   "source": [
    "im = mat2im(colors, locations, density=2)\n",
    "im"
   ]
  },
  {
   "cell_type": "code",
   "execution_count": 23,
   "id": "republican-independence",
   "metadata": {
    "execution": {
     "iopub.execute_input": "2021-02-25T00:05:27.529227Z",
     "iopub.status.busy": "2021-02-25T00:05:27.528945Z",
     "iopub.status.idle": "2021-02-25T00:05:27.556725Z",
     "shell.execute_reply": "2021-02-25T00:05:27.555836Z",
     "shell.execute_reply.started": "2021-02-25T00:05:27.529197Z"
    }
   },
   "outputs": [],
   "source": [
    "im.save('image.png')"
   ]
  },
  {
   "cell_type": "code",
   "execution_count": null,
   "id": "detailed-equipment",
   "metadata": {},
   "outputs": [],
   "source": []
  },
  {
   "cell_type": "code",
   "execution_count": null,
   "id": "meaning-burns",
   "metadata": {},
   "outputs": [],
   "source": []
  },
  {
   "cell_type": "code",
   "execution_count": null,
   "id": "extended-biotechnology",
   "metadata": {},
   "outputs": [],
   "source": []
  },
  {
   "cell_type": "code",
   "execution_count": 22,
   "id": "institutional-concentration",
   "metadata": {
    "execution": {
     "iopub.execute_input": "2021-02-25T00:04:46.355086Z",
     "iopub.status.busy": "2021-02-25T00:04:46.354843Z",
     "iopub.status.idle": "2021-02-25T00:04:46.543628Z",
     "shell.execute_reply": "2021-02-25T00:04:46.542933Z",
     "shell.execute_reply.started": "2021-02-25T00:04:46.355058Z"
    },
    "tags": []
   },
   "outputs": [
    {
     "data": {
      "text/plain": [
       "<matplotlib.image.AxesImage at 0x11fa1c610>"
      ]
     },
     "execution_count": 22,
     "metadata": {},
     "output_type": "execute_result"
    },
    {
     "data": {
      "image/png": "[encoded data removed]",
      "text/plain": [
       "<Figure size 432x288 with 1 Axes>"
      ]
     },
     "metadata": {
      "needs_background": "light"
     },
     "output_type": "display_data"
    }
   ],
   "source": [
    "plt.imshow(np.array(im))"
   ]
  },
  {
   "cell_type": "code",
   "execution_count": 227,
   "id": "electronic-technology",
   "metadata": {
    "execution": {
     "iopub.execute_input": "2021-02-22T07:28:20.973279Z",
     "iopub.status.busy": "2021-02-22T07:28:20.957362Z",
     "iopub.status.idle": "2021-02-22T07:28:21.418889Z",
     "shell.execute_reply": "2021-02-22T07:28:21.417845Z",
     "shell.execute_reply.started": "2021-02-22T07:28:20.971108Z"
    },
    "tags": []
   },
   "outputs": [],
   "source": [
    "data = np.array(im)"
   ]
  },
  {
   "cell_type": "code",
   "execution_count": 208,
   "id": "champion-parts",
   "metadata": {
    "execution": {
     "iopub.execute_input": "2021-02-22T06:47:28.900900Z",
     "iopub.status.busy": "2021-02-22T06:47:28.900623Z",
     "iopub.status.idle": "2021-02-22T06:47:28.929050Z",
     "shell.execute_reply": "2021-02-22T06:47:28.928350Z",
     "shell.execute_reply.started": "2021-02-22T06:47:28.900874Z"
    },
    "tags": []
   },
   "outputs": [
    {
     "data": {
      "text/plain": [
       "[(1, 1), (2, 1), (2, 2), (1, 2)]"
      ]
     },
     "execution_count": 208,
     "metadata": {},
     "output_type": "execute_result"
    }
   ],
   "source": [
    "corner_tuples"
   ]
  },
  {
   "cell_type": "code",
   "execution_count": 194,
   "id": "alpine-hollywood",
   "metadata": {
    "execution": {
     "iopub.execute_input": "2021-02-22T06:43:27.127922Z",
     "iopub.status.busy": "2021-02-22T06:43:27.127718Z",
     "iopub.status.idle": "2021-02-22T06:43:27.151202Z",
     "shell.execute_reply": "2021-02-22T06:43:27.150511Z",
     "shell.execute_reply.started": "2021-02-22T06:43:27.127901Z"
    }
   },
   "outputs": [],
   "source": []
  },
  {
   "cell_type": "code",
   "execution_count": 195,
   "id": "altered-spare",
   "metadata": {
    "execution": {
     "iopub.execute_input": "2021-02-22T06:43:27.661745Z",
     "iopub.status.busy": "2021-02-22T06:43:27.661545Z",
     "iopub.status.idle": "2021-02-22T06:43:27.686261Z",
     "shell.execute_reply": "2021-02-22T06:43:27.685615Z",
     "shell.execute_reply.started": "2021-02-22T06:43:27.661723Z"
    },
    "tags": []
   },
   "outputs": [],
   "source": []
  },
  {
   "cell_type": "code",
   "execution_count": 198,
   "id": "supported-breath",
   "metadata": {
    "execution": {
     "iopub.execute_input": "2021-02-22T06:43:36.423200Z",
     "iopub.status.busy": "2021-02-22T06:43:36.422970Z",
     "iopub.status.idle": "2021-02-22T06:43:36.456018Z",
     "shell.execute_reply": "2021-02-22T06:43:36.455331Z",
     "shell.execute_reply.started": "2021-02-22T06:43:36.423174Z"
    },
    "tags": []
   },
   "outputs": [
    {
     "data": {
      "text/plain": [
       "PIL.Image.Image"
      ]
     },
     "execution_count": 198,
     "metadata": {},
     "output_type": "execute_result"
    }
   ],
   "source": [
    "type(im)"
   ]
  },
  {
   "cell_type": "code",
   "execution_count": null,
   "id": "cleared-crossing",
   "metadata": {},
   "outputs": [],
   "source": []
  },
  {
   "cell_type": "code",
   "execution_count": null,
   "id": "verbal-bargain",
   "metadata": {},
   "outputs": [],
   "source": []
  },
  {
   "cell_type": "code",
   "execution_count": 169,
   "id": "suspended-roberts",
   "metadata": {
    "execution": {
     "iopub.execute_input": "2021-02-22T05:17:53.014833Z",
     "iopub.status.busy": "2021-02-22T05:17:53.013108Z",
     "iopub.status.idle": "2021-02-22T05:17:53.399690Z",
     "shell.execute_reply": "2021-02-22T05:17:53.398691Z",
     "shell.execute_reply.started": "2021-02-22T05:17:53.014721Z"
    },
    "tags": []
   },
   "outputs": [
    {
     "data": {
      "image/png": "[encoded data removed]",
      "text/plain": [
       "<Figure size 72x72 with 1 Axes>"
      ]
     },
     "metadata": {
      "needs_background": "light"
     },
     "output_type": "display_data"
    }
   ],
   "source": [
    "fig = show_colors(colors, locations);"
   ]
  },
  {
   "cell_type": "code",
   "execution_count": 170,
   "id": "north-basis",
   "metadata": {
    "execution": {
     "iopub.execute_input": "2021-02-22T05:18:03.112644Z",
     "iopub.status.busy": "2021-02-22T05:18:03.112403Z",
     "iopub.status.idle": "2021-02-22T05:18:03.161341Z",
     "shell.execute_reply": "2021-02-22T05:18:03.160210Z",
     "shell.execute_reply.started": "2021-02-22T05:18:03.112616Z"
    }
   },
   "outputs": [],
   "source": [
    "data = fig2arr(fig)"
   ]
  },
  {
   "cell_type": "code",
   "execution_count": 173,
   "id": "sapphire-gospel",
   "metadata": {
    "execution": {
     "iopub.execute_input": "2021-02-22T05:18:09.040953Z",
     "iopub.status.busy": "2021-02-22T05:18:09.040715Z",
     "iopub.status.idle": "2021-02-22T05:18:09.071058Z",
     "shell.execute_reply": "2021-02-22T05:18:09.070368Z",
     "shell.execute_reply.started": "2021-02-22T05:18:09.040925Z"
    },
    "tags": []
   },
   "outputs": [
    {
     "data": {
      "text/plain": [
       "(72, 72, 3)"
      ]
     },
     "execution_count": 173,
     "metadata": {},
     "output_type": "execute_result"
    }
   ],
   "source": [
    "data.shape"
   ]
  },
  {
   "cell_type": "code",
   "execution_count": null,
   "id": "numerous-financing",
   "metadata": {},
   "outputs": [],
   "source": []
  },
  {
   "cell_type": "code",
   "execution_count": null,
   "id": "million-qatar",
   "metadata": {},
   "outputs": [],
   "source": []
  },
  {
   "cell_type": "code",
   "execution_count": 7,
   "id": "reasonable-indian",
   "metadata": {
    "execution": {
     "iopub.execute_input": "2021-02-22T03:43:14.336699Z",
     "iopub.status.busy": "2021-02-22T03:43:14.336437Z",
     "iopub.status.idle": "2021-02-22T03:43:14.428019Z",
     "shell.execute_reply": "2021-02-22T03:43:14.427273Z",
     "shell.execute_reply.started": "2021-02-22T03:43:14.336671Z"
    },
    "tags": []
   },
   "outputs": [],
   "source": [
    "data = fig_to_array(fig)"
   ]
  },
  {
   "cell_type": "code",
   "execution_count": 8,
   "id": "banned-level",
   "metadata": {
    "execution": {
     "iopub.execute_input": "2021-02-22T03:43:15.362129Z",
     "iopub.status.busy": "2021-02-22T03:43:15.361875Z",
     "iopub.status.idle": "2021-02-22T03:43:15.390516Z",
     "shell.execute_reply": "2021-02-22T03:43:15.389725Z",
     "shell.execute_reply.started": "2021-02-22T03:43:15.362101Z"
    },
    "tags": []
   },
   "outputs": [
    {
     "data": {
      "text/plain": [
       "(288, 432, 4)"
      ]
     },
     "execution_count": 8,
     "metadata": {},
     "output_type": "execute_result"
    }
   ],
   "source": [
    "data.shape"
   ]
  },
  {
   "cell_type": "code",
   "execution_count": 9,
   "id": "fiscal-permit",
   "metadata": {
    "execution": {
     "iopub.execute_input": "2021-02-22T03:43:20.205474Z",
     "iopub.status.busy": "2021-02-22T03:43:20.205168Z",
     "iopub.status.idle": "2021-02-22T03:43:20.237811Z",
     "shell.execute_reply": "2021-02-22T03:43:20.236925Z",
     "shell.execute_reply.started": "2021-02-22T03:43:20.205439Z"
    },
    "tags": []
   },
   "outputs": [],
   "source": [
    "r = data[:, :, 0]"
   ]
  },
  {
   "cell_type": "code",
   "execution_count": 10,
   "id": "false-omaha",
   "metadata": {
    "execution": {
     "iopub.execute_input": "2021-02-22T03:43:20.361059Z",
     "iopub.status.busy": "2021-02-22T03:43:20.360778Z",
     "iopub.status.idle": "2021-02-22T03:43:20.394331Z",
     "shell.execute_reply": "2021-02-22T03:43:20.393456Z",
     "shell.execute_reply.started": "2021-02-22T03:43:20.361027Z"
    },
    "tags": []
   },
   "outputs": [
    {
     "data": {
      "text/plain": [
       "(288, 432)"
      ]
     },
     "execution_count": 10,
     "metadata": {},
     "output_type": "execute_result"
    }
   ],
   "source": [
    "r.shape"
   ]
  },
  {
   "cell_type": "code",
   "execution_count": 11,
   "id": "hawaiian-particle",
   "metadata": {
    "execution": {
     "iopub.execute_input": "2021-02-22T03:43:20.538838Z",
     "iopub.status.busy": "2021-02-22T03:43:20.538545Z",
     "iopub.status.idle": "2021-02-22T03:43:20.574246Z",
     "shell.execute_reply": "2021-02-22T03:43:20.573286Z",
     "shell.execute_reply.started": "2021-02-22T03:43:20.538805Z"
    },
    "tags": []
   },
   "outputs": [
    {
     "data": {
      "text/plain": [
       "array([[125, 125],\n",
       "       [125, 125]], dtype=uint8)"
      ]
     },
     "execution_count": 11,
     "metadata": {},
     "output_type": "execute_result"
    }
   ],
   "source": [
    "r[50:52, 50:52]"
   ]
  },
  {
   "cell_type": "code",
   "execution_count": 12,
   "id": "closed-farming",
   "metadata": {
    "execution": {
     "iopub.execute_input": "2021-02-22T03:43:20.856346Z",
     "iopub.status.busy": "2021-02-22T03:43:20.856069Z",
     "iopub.status.idle": "2021-02-22T03:43:20.888065Z",
     "shell.execute_reply": "2021-02-22T03:43:20.887275Z",
     "shell.execute_reply.started": "2021-02-22T03:43:20.856315Z"
    },
    "tags": []
   },
   "outputs": [
    {
     "data": {
      "text/plain": [
       "array([[75, 75],\n",
       "       [75, 75]], dtype=uint8)"
      ]
     },
     "execution_count": 12,
     "metadata": {},
     "output_type": "execute_result"
    }
   ],
   "source": [
    "r[50:52, 250:252]"
   ]
  },
  {
   "cell_type": "code",
   "execution_count": 13,
   "id": "fresh-southwest",
   "metadata": {
    "execution": {
     "iopub.execute_input": "2021-02-22T03:43:21.087006Z",
     "iopub.status.busy": "2021-02-22T03:43:21.086710Z",
     "iopub.status.idle": "2021-02-22T03:43:21.121033Z",
     "shell.execute_reply": "2021-02-22T03:43:21.120144Z",
     "shell.execute_reply.started": "2021-02-22T03:43:21.086973Z"
    },
    "tags": []
   },
   "outputs": [
    {
     "data": {
      "text/plain": [
       "array([[225, 225],\n",
       "       [225, 225]], dtype=uint8)"
      ]
     },
     "execution_count": 13,
     "metadata": {},
     "output_type": "execute_result"
    }
   ],
   "source": [
    "r[250:252, 50:52]"
   ]
  },
  {
   "cell_type": "code",
   "execution_count": 14,
   "id": "listed-essay",
   "metadata": {
    "execution": {
     "iopub.execute_input": "2021-02-22T03:43:21.332768Z",
     "iopub.status.busy": "2021-02-22T03:43:21.332493Z",
     "iopub.status.idle": "2021-02-22T03:43:21.366299Z",
     "shell.execute_reply": "2021-02-22T03:43:21.365464Z",
     "shell.execute_reply.started": "2021-02-22T03:43:21.332736Z"
    },
    "tags": []
   },
   "outputs": [
    {
     "data": {
      "text/plain": [
       "array([[175, 175],\n",
       "       [175, 175]], dtype=uint8)"
      ]
     },
     "execution_count": 14,
     "metadata": {},
     "output_type": "execute_result"
    }
   ],
   "source": [
    "r[250:252, 250:252]"
   ]
  },
  {
   "cell_type": "code",
   "execution_count": 15,
   "id": "billion-zoning",
   "metadata": {
    "execution": {
     "iopub.execute_input": "2021-02-22T03:43:21.660373Z",
     "iopub.status.busy": "2021-02-22T03:43:21.659966Z",
     "iopub.status.idle": "2021-02-22T03:43:21.695683Z",
     "shell.execute_reply": "2021-02-22T03:43:21.694774Z",
     "shell.execute_reply.started": "2021-02-22T03:43:21.660335Z"
    },
    "tags": []
   },
   "outputs": [
    {
     "name": "stdout",
     "output_type": "stream",
     "text": [
      "   (0, 0)  (0, 1)  (1, 0)  (1, 1)\n",
      "r     225     125     175      75\n",
      "g     225     125     175      75\n",
      "b     225     125     175      75\n"
     ]
    }
   ],
   "source": [
    "print(colors)"
   ]
  },
  {
   "cell_type": "code",
   "execution_count": 20,
   "id": "expensive-creek",
   "metadata": {
    "execution": {
     "iopub.execute_input": "2021-02-22T03:45:19.521920Z",
     "iopub.status.busy": "2021-02-22T03:45:19.521588Z",
     "iopub.status.idle": "2021-02-22T03:45:19.543873Z",
     "shell.execute_reply": "2021-02-22T03:45:19.543185Z",
     "shell.execute_reply.started": "2021-02-22T03:45:19.521899Z"
    }
   },
   "outputs": [],
   "source": [
    "color_dict = mat2coldict(colors)\n",
    "location_dict = mat2coldict(locations)"
   ]
  },
  {
   "cell_type": "code",
   "execution_count": 22,
   "id": "imposed-continuity",
   "metadata": {
    "execution": {
     "iopub.execute_input": "2021-02-22T03:45:45.386211Z",
     "iopub.status.busy": "2021-02-22T03:45:45.385930Z",
     "iopub.status.idle": "2021-02-22T03:45:45.410837Z",
     "shell.execute_reply": "2021-02-22T03:45:45.410081Z",
     "shell.execute_reply.started": "2021-02-22T03:45:45.386176Z"
    },
    "tags": []
   },
   "outputs": [],
   "source": [
    "for top_left_point in sorted(color_dict):\n",
    "    # color\n",
    "    color = color_dict[top_left_point]\n",
    "    hex_color = rgb_to_hex(color)\n",
    "\n",
    "    # 4 points\n",
    "    corner_index = four_corners(*top_left_point)\n",
    "    corners = [location_dict[corner] for corner in corner_index]\n",
    "    x, y, u = corners_to_list(corners)\n",
    "    break"
   ]
  },
  {
   "cell_type": "code",
   "execution_count": 24,
   "id": "exterior-dynamics",
   "metadata": {
    "execution": {
     "iopub.execute_input": "2021-02-22T03:45:55.293829Z",
     "iopub.status.busy": "2021-02-22T03:45:55.293632Z",
     "iopub.status.idle": "2021-02-22T03:45:55.317607Z",
     "shell.execute_reply": "2021-02-22T03:45:55.316807Z",
     "shell.execute_reply.started": "2021-02-22T03:45:55.293809Z"
    }
   },
   "outputs": [
    {
     "data": {
      "text/plain": [
       "([0, 1, 1, 0], [0, 0, 1, 1], [1, 1, 1, 1])"
      ]
     },
     "execution_count": 24,
     "metadata": {},
     "output_type": "execute_result"
    }
   ],
   "source": [
    "x, y, u"
   ]
  },
  {
   "cell_type": "code",
   "execution_count": 23,
   "id": "eastern-buffalo",
   "metadata": {
    "execution": {
     "iopub.execute_input": "2021-02-22T03:45:49.115946Z",
     "iopub.status.busy": "2021-02-22T03:45:49.115735Z",
     "iopub.status.idle": "2021-02-22T03:45:49.139356Z",
     "shell.execute_reply": "2021-02-22T03:45:49.138742Z",
     "shell.execute_reply.started": "2021-02-22T03:45:49.115927Z"
    }
   },
   "outputs": [
    {
     "data": {
      "text/plain": [
       "[Vec(self.D, {'u': 1}),\n",
       " Vec(self.D, {'x': 1, 'u': 1}),\n",
       " Vec(self.D, {'x': 1, 'y': 1, 'u': 1}),\n",
       " Vec(self.D, {'y': 1, 'u': 1})]"
      ]
     },
     "execution_count": 23,
     "metadata": {},
     "output_type": "execute_result"
    }
   ],
   "source": [
    "corners"
   ]
  },
  {
   "cell_type": "code",
   "execution_count": null,
   "id": "ethical-colonial",
   "metadata": {},
   "outputs": [],
   "source": []
  },
  {
   "cell_type": "code",
   "execution_count": 111,
   "id": "alien-knife",
   "metadata": {
    "execution": {
     "iopub.execute_input": "2021-02-22T04:40:56.203928Z",
     "iopub.status.busy": "2021-02-22T04:40:56.203683Z",
     "iopub.status.idle": "2021-02-22T04:40:56.348209Z",
     "shell.execute_reply": "2021-02-22T04:40:56.347521Z",
     "shell.execute_reply.started": "2021-02-22T04:40:56.203899Z"
    },
    "tags": []
   },
   "outputs": [
    {
     "name": "stderr",
     "output_type": "stream",
     "text": [
      "<ipython-input-111-800c7a81bfa2>:5: UserWarning: Tight layout not applied. The left and right margins cannot be made large enough to accommodate all axes decorations. \n",
      "  plt.tight_layout(pad=0)\n"
     ]
    },
    {
     "data": {
      "image/png": "[encoded data removed]",
      "text/plain": [
       "<Figure size 14.4x14.4 with 1 Axes>"
      ]
     },
     "metadata": {
      "needs_background": "light"
     },
     "output_type": "display_data"
    }
   ],
   "source": [
    "color_dict = mat2coldict(colors)\n",
    "location_dict = mat2coldict(locations)\n",
    "\n",
    "fig, ax = plt.subplots(figsize=(.2, .2))\n",
    "plt.tight_layout(pad=0)\n",
    "plt.margins(x=0, y=0)\n",
    "# ax.set_aspect('equal')\n",
    "for top_left_point in sorted(color_dict):\n",
    "    # color\n",
    "    color = color_dict[top_left_point]\n",
    "    hex_color = rgb_to_hex(color)\n",
    "\n",
    "    # 4 points\n",
    "    corner_index = four_corners(*top_left_point)\n",
    "    corners = [location_dict[corner] for corner in corner_index]\n",
    "    x, y, u = corners_to_list(corners)\n",
    "    ax.fill(x, y, color=hex_color)"
   ]
  },
  {
   "cell_type": "code",
   "execution_count": 144,
   "id": "agreed-genetics",
   "metadata": {
    "execution": {
     "iopub.execute_input": "2021-02-22T05:10:55.760230Z",
     "iopub.status.busy": "2021-02-22T05:10:55.758710Z",
     "iopub.status.idle": "2021-02-22T05:10:55.961278Z",
     "shell.execute_reply": "2021-02-22T05:10:55.960275Z",
     "shell.execute_reply.started": "2021-02-22T05:10:55.760129Z"
    }
   },
   "outputs": [
    {
     "data": {
      "image/png": "[encoded data removed]",
      "text/plain": [
       "<Figure size 14.4x14.4 with 1 Axes>"
      ]
     },
     "execution_count": 144,
     "metadata": {},
     "output_type": "execute_result"
    }
   ],
   "source": [
    "fig"
   ]
  },
  {
   "cell_type": "code",
   "execution_count": 164,
   "id": "looking-sally",
   "metadata": {
    "execution": {
     "iopub.execute_input": "2021-02-22T05:14:29.066095Z",
     "iopub.status.busy": "2021-02-22T05:14:29.065835Z",
     "iopub.status.idle": "2021-02-22T05:14:29.096568Z",
     "shell.execute_reply": "2021-02-22T05:14:29.095664Z",
     "shell.execute_reply.started": "2021-02-22T05:14:29.066067Z"
    },
    "tags": []
   },
   "outputs": [],
   "source": [
    "import io\n",
    "def fig2img(fig):\n",
    "    \"\"\"Convert a Matplotlib figure to a PIL Image and return it\"\"\"\n",
    "    with io.BytesIO() as buf:\n",
    "        fig.savefig(buf)\n",
    "        buf.seek(0)\n",
    "        img = Image.open(buf).convert('RGB')\n",
    "        return np.array(img)"
   ]
  },
  {
   "cell_type": "code",
   "execution_count": 166,
   "id": "negative-testimony",
   "metadata": {
    "execution": {
     "iopub.execute_input": "2021-02-22T05:14:34.048961Z",
     "iopub.status.busy": "2021-02-22T05:14:34.048682Z",
     "iopub.status.idle": "2021-02-22T05:14:34.092646Z",
     "shell.execute_reply": "2021-02-22T05:14:34.091848Z",
     "shell.execute_reply.started": "2021-02-22T05:14:34.048932Z"
    },
    "tags": []
   },
   "outputs": [],
   "source": [
    "img = fig2img(fig)"
   ]
  },
  {
   "cell_type": "code",
   "execution_count": null,
   "id": "academic-intelligence",
   "metadata": {},
   "outputs": [],
   "source": [
    "data = fig_to_array(fig)"
   ]
  },
  {
   "cell_type": "code",
   "execution_count": 122,
   "id": "dimensional-ottawa",
   "metadata": {
    "execution": {
     "iopub.execute_input": "2021-02-22T04:46:38.358116Z",
     "iopub.status.busy": "2021-02-22T04:46:38.357870Z",
     "iopub.status.idle": "2021-02-22T04:46:38.390060Z",
     "shell.execute_reply": "2021-02-22T04:46:38.389216Z",
     "shell.execute_reply.started": "2021-02-22T04:46:38.358091Z"
    },
    "tags": []
   },
   "outputs": [
    {
     "data": {
      "text/plain": [
       "array([[255, 255, 255],\n",
       "       [255, 255, 255],\n",
       "       [255, 255, 255],\n",
       "       [255, 255, 255],\n",
       "       [255, 255, 255],\n",
       "       [255, 255, 255],\n",
       "       [255, 255, 255],\n",
       "       [255, 255, 255],\n",
       "       [255, 255, 255],\n",
       "       [255, 255, 255],\n",
       "       [255, 255, 255],\n",
       "       [255, 255, 255],\n",
       "       [255, 255, 255],\n",
       "       [255, 255, 255]], dtype=uint8)"
      ]
     },
     "execution_count": 122,
     "metadata": {},
     "output_type": "execute_result"
    }
   ],
   "source": [
    "np.array(Image.fromarray(data).convert('RGB'))[0]"
   ]
  },
  {
   "cell_type": "code",
   "execution_count": 123,
   "id": "extra-house",
   "metadata": {
    "execution": {
     "iopub.execute_input": "2021-02-22T04:46:44.181482Z",
     "iopub.status.busy": "2021-02-22T04:46:44.181240Z",
     "iopub.status.idle": "2021-02-22T04:46:44.209379Z",
     "shell.execute_reply": "2021-02-22T04:46:44.208143Z",
     "shell.execute_reply.started": "2021-02-22T04:46:44.181457Z"
    }
   },
   "outputs": [
    {
     "data": {
      "text/plain": [
       "array([[ 0,  0,  0],\n",
       "       [ 0,  0,  0],\n",
       "       [ 6,  6,  6],\n",
       "       [25, 25, 25],\n",
       "       [25, 25, 25],\n",
       "       [25, 25, 25],\n",
       "       [25, 25, 25],\n",
       "       [16, 16, 16],\n",
       "       [15, 15, 15],\n",
       "       [15, 15, 15],\n",
       "       [15, 15, 15],\n",
       "       [15, 15, 15],\n",
       "       [15, 15, 15],\n",
       "       [ 0,  0,  0]], dtype=uint8)"
      ]
     },
     "execution_count": 123,
     "metadata": {},
     "output_type": "execute_result"
    }
   ],
   "source": [
    "np.array(Image.fromarray(data).convert('RGB'))[1]"
   ]
  },
  {
   "cell_type": "code",
   "execution_count": 124,
   "id": "permanent-garlic",
   "metadata": {
    "execution": {
     "iopub.execute_input": "2021-02-22T04:46:49.345819Z",
     "iopub.status.busy": "2021-02-22T04:46:49.345577Z",
     "iopub.status.idle": "2021-02-22T04:46:49.375814Z",
     "shell.execute_reply": "2021-02-22T04:46:49.375028Z",
     "shell.execute_reply.started": "2021-02-22T04:46:49.345793Z"
    }
   },
   "outputs": [
    {
     "data": {
      "text/plain": [
       "array([[255, 255, 255],\n",
       "       [255, 255, 255],\n",
       "       [ 25,  25,  25],\n",
       "       [125, 125, 125],\n",
       "       [125, 125, 125],\n",
       "       [125, 125, 125],\n",
       "       [125, 125, 125],\n",
       "       [ 75,  75,  75],\n",
       "       [ 75,  75,  75],\n",
       "       [ 75,  75,  75],\n",
       "       [ 75,  75,  75],\n",
       "       [ 75,  75,  75],\n",
       "       [ 75,  75,  75],\n",
       "       [  0,   0,   0]], dtype=uint8)"
      ]
     },
     "execution_count": 124,
     "metadata": {},
     "output_type": "execute_result"
    }
   ],
   "source": [
    "np.array(Image.fromarray(data).convert('RGB'))[2]"
   ]
  },
  {
   "cell_type": "code",
   "execution_count": 69,
   "id": "anonymous-italian",
   "metadata": {
    "execution": {
     "iopub.execute_input": "2021-02-22T04:03:38.037994Z",
     "iopub.status.busy": "2021-02-22T04:03:38.037680Z",
     "iopub.status.idle": "2021-02-22T04:03:38.159920Z",
     "shell.execute_reply": "2021-02-22T04:03:38.158808Z",
     "shell.execute_reply.started": "2021-02-22T04:03:38.037962Z"
    },
    "tags": []
   },
   "outputs": [
    {
     "data": {
      "image/png": "[encoded data removed]",
      "text/plain": [
       "<Figure size 21.6x21.6 with 1 Axes>"
      ]
     },
     "metadata": {
      "needs_background": "light"
     },
     "output_type": "display_data"
    }
   ],
   "source": [
    "fig, ax = plt.subplots(figsize=(.3, .3))\n",
    "plt.tight_layout(pad=0)"
   ]
  },
  {
   "cell_type": "code",
   "execution_count": 83,
   "id": "chief-speed",
   "metadata": {
    "execution": {
     "iopub.execute_input": "2021-02-22T04:21:43.590202Z",
     "iopub.status.busy": "2021-02-22T04:21:43.589977Z",
     "iopub.status.idle": "2021-02-22T04:21:43.685022Z",
     "shell.execute_reply": "2021-02-22T04:21:43.684312Z",
     "shell.execute_reply.started": "2021-02-22T04:21:43.590176Z"
    }
   },
   "outputs": [
    {
     "data": {
      "image/png": "[encoded data removed]",
      "text/plain": [
       "<Figure size 72x72 with 1 Axes>"
      ]
     },
     "execution_count": 83,
     "metadata": {},
     "output_type": "execute_result"
    }
   ],
   "source": [
    "fig"
   ]
  },
  {
   "cell_type": "code",
   "execution_count": null,
   "id": "adverse-venture",
   "metadata": {},
   "outputs": [],
   "source": [
    "fig.savefig"
   ]
  },
  {
   "cell_type": "code",
   "execution_count": 100,
   "id": "structural-marriage",
   "metadata": {
    "execution": {
     "iopub.execute_input": "2021-02-22T04:39:53.313505Z",
     "iopub.status.busy": "2021-02-22T04:39:53.309982Z",
     "iopub.status.idle": "2021-02-22T04:39:53.543141Z",
     "shell.execute_reply": "2021-02-22T04:39:53.541696Z",
     "shell.execute_reply.started": "2021-02-22T04:39:53.313412Z"
    },
    "tags": []
   },
   "outputs": [],
   "source": [
    "import io\n",
    "with io.BytesIO() as buf:\n",
    "    fig.savefig(buf, format='png')\n",
    "    buf.seek(0)\n",
    "    # im = Image.open(buf)\n",
    "    im = plt.imread(buf)"
   ]
  },
  {
   "cell_type": "code",
   "execution_count": 127,
   "id": "czech-spanish",
   "metadata": {
    "execution": {
     "iopub.execute_input": "2021-02-22T04:50:00.409245Z",
     "iopub.status.busy": "2021-02-22T04:50:00.407564Z",
     "iopub.status.idle": "2021-02-22T04:50:00.615324Z",
     "shell.execute_reply": "2021-02-22T04:50:00.613761Z",
     "shell.execute_reply.started": "2021-02-22T04:50:00.409149Z"
    }
   },
   "outputs": [],
   "source": [
    "from PIL import Image, ImageDraw"
   ]
  },
  {
   "cell_type": "code",
   "execution_count": 133,
   "id": "neural-budget",
   "metadata": {
    "execution": {
     "iopub.execute_input": "2021-02-22T04:53:51.756969Z",
     "iopub.status.busy": "2021-02-22T04:53:51.756716Z",
     "iopub.status.idle": "2021-02-22T04:53:51.789306Z",
     "shell.execute_reply": "2021-02-22T04:53:51.788478Z",
     "shell.execute_reply.started": "2021-02-22T04:53:51.756940Z"
    },
    "tags": []
   },
   "outputs": [],
   "source": [
    "im = Image.new(mode='RGB', size=(12, 12))\n"
   ]
  },
  {
   "cell_type": "code",
   "execution_count": 136,
   "id": "sapphire-locking",
   "metadata": {
    "execution": {
     "iopub.execute_input": "2021-02-22T04:54:15.532761Z",
     "iopub.status.busy": "2021-02-22T04:54:15.532522Z",
     "iopub.status.idle": "2021-02-22T04:54:15.564702Z",
     "shell.execute_reply": "2021-02-22T04:54:15.563788Z",
     "shell.execute_reply.started": "2021-02-22T04:54:15.532733Z"
    },
    "tags": []
   },
   "outputs": [
    {
     "data": {
      "text/plain": [
       "(12, 12, 3)"
      ]
     },
     "execution_count": 136,
     "metadata": {},
     "output_type": "execute_result"
    }
   ],
   "source": [
    "np.array(im).shape"
   ]
  },
  {
   "cell_type": "code",
   "execution_count": 85,
   "id": "certified-dollar",
   "metadata": {
    "execution": {
     "iopub.execute_input": "2021-02-22T04:22:03.462715Z",
     "iopub.status.busy": "2021-02-22T04:22:03.462351Z",
     "iopub.status.idle": "2021-02-22T04:22:03.550378Z",
     "shell.execute_reply": "2021-02-22T04:22:03.549762Z",
     "shell.execute_reply.started": "2021-02-22T04:22:03.462680Z"
    },
    "tags": []
   },
   "outputs": [
    {
     "data": {
      "image/png": "[encoded data removed]",
      "text/plain": [
       "<Figure size 72x72 with 1 Axes>"
      ]
     },
     "execution_count": 85,
     "metadata": {},
     "output_type": "execute_result"
    }
   ],
   "source": [
    "fig"
   ]
  },
  {
   "cell_type": "code",
   "execution_count": 113,
   "id": "exceptional-progressive",
   "metadata": {
    "execution": {
     "iopub.execute_input": "2021-02-22T04:41:12.530661Z",
     "iopub.status.busy": "2021-02-22T04:41:12.530415Z",
     "iopub.status.idle": "2021-02-22T04:41:12.575385Z",
     "shell.execute_reply": "2021-02-22T04:41:12.574771Z",
     "shell.execute_reply.started": "2021-02-22T04:41:12.530634Z"
    },
    "tags": []
   },
   "outputs": [],
   "source": [
    "data = fig_to_array(fig)"
   ]
  },
  {
   "cell_type": "code",
   "execution_count": 114,
   "id": "coordinated-pottery",
   "metadata": {
    "execution": {
     "iopub.execute_input": "2021-02-22T04:41:13.155695Z",
     "iopub.status.busy": "2021-02-22T04:41:13.155458Z",
     "iopub.status.idle": "2021-02-22T04:41:13.183211Z",
     "shell.execute_reply": "2021-02-22T04:41:13.182197Z",
     "shell.execute_reply.started": "2021-02-22T04:41:13.155668Z"
    },
    "tags": []
   },
   "outputs": [
    {
     "data": {
      "text/plain": [
       "(14, 14, 4)"
      ]
     },
     "execution_count": 114,
     "metadata": {},
     "output_type": "execute_result"
    }
   ],
   "source": [
    "data.shape"
   ]
  },
  {
   "cell_type": "code",
   "execution_count": 68,
   "id": "expanded-positive",
   "metadata": {
    "execution": {
     "iopub.execute_input": "2021-02-22T04:03:19.075363Z",
     "iopub.status.busy": "2021-02-22T04:03:19.075054Z",
     "iopub.status.idle": "2021-02-22T04:03:19.113658Z",
     "shell.execute_reply": "2021-02-22T04:03:19.112662Z",
     "shell.execute_reply.started": "2021-02-22T04:03:19.075326Z"
    }
   },
   "outputs": [
    {
     "data": {
      "image/png": "[encoded data removed]",
      "text/plain": [
       "<PIL.Image.Image image mode=RGBA size=72x72 at 0x12EC7B7C0>"
      ]
     },
     "execution_count": 68,
     "metadata": {},
     "output_type": "execute_result"
    }
   ],
   "source": [
    "Image.fromarray(data)"
   ]
  },
  {
   "cell_type": "code",
   "execution_count": null,
   "id": "macro-commerce",
   "metadata": {},
   "outputs": [],
   "source": []
  },
  {
   "cell_type": "code",
   "execution_count": null,
   "id": "selective-missile",
   "metadata": {},
   "outputs": [],
   "source": []
  },
  {
   "cell_type": "code",
   "execution_count": 57,
   "id": "cardiac-conjunction",
   "metadata": {
    "execution": {
     "iopub.execute_input": "2021-02-21T07:01:53.196145Z",
     "iopub.status.busy": "2021-02-21T07:01:53.195898Z",
     "iopub.status.idle": "2021-02-21T07:01:53.222974Z",
     "shell.execute_reply": "2021-02-21T07:01:53.222292Z",
     "shell.execute_reply.started": "2021-02-21T07:01:53.196119Z"
    }
   },
   "outputs": [
    {
     "data": {
      "text/plain": [
       "Vec(self.D, {'g': 125, 'b': 125, 'r': 125})"
      ]
     },
     "execution_count": 57,
     "metadata": {},
     "output_type": "execute_result"
    }
   ],
   "source": [
    "color"
   ]
  },
  {
   "cell_type": "code",
   "execution_count": 60,
   "id": "adolescent-equivalent",
   "metadata": {
    "execution": {
     "iopub.execute_input": "2021-02-21T07:10:10.535543Z",
     "iopub.status.busy": "2021-02-21T07:10:10.535295Z",
     "iopub.status.idle": "2021-02-21T07:10:10.562470Z",
     "shell.execute_reply": "2021-02-21T07:10:10.561621Z",
     "shell.execute_reply.started": "2021-02-21T07:10:10.535516Z"
    }
   },
   "outputs": [
    {
     "data": {
      "text/plain": [
       "'#7d7d7d'"
      ]
     },
     "execution_count": 60,
     "metadata": {},
     "output_type": "execute_result"
    }
   ],
   "source": [
    "hex_color"
   ]
  },
  {
   "cell_type": "code",
   "execution_count": 90,
   "id": "enclosed-answer",
   "metadata": {
    "execution": {
     "iopub.execute_input": "2021-02-21T09:53:32.825183Z",
     "iopub.status.busy": "2021-02-21T09:53:32.824945Z",
     "iopub.status.idle": "2021-02-21T09:53:32.851601Z",
     "shell.execute_reply": "2021-02-21T09:53:32.850812Z",
     "shell.execute_reply.started": "2021-02-21T09:53:32.825156Z"
    }
   },
   "outputs": [],
   "source": [
    "corners = mat2rowdict(listlist2mat([[0, 1, 1], [1, 0, 1]], cols=[\"x\", \"y\", \"u\"]))"
   ]
  },
  {
   "cell_type": "code",
   "execution_count": null,
   "id": "manufactured-framing",
   "metadata": {},
   "outputs": [],
   "source": []
  },
  {
   "cell_type": "code",
   "execution_count": 91,
   "id": "fewer-declaration",
   "metadata": {
    "execution": {
     "iopub.execute_input": "2021-02-21T09:53:35.959408Z",
     "iopub.status.busy": "2021-02-21T09:53:35.959154Z",
     "iopub.status.idle": "2021-02-21T09:53:35.986713Z",
     "shell.execute_reply": "2021-02-21T09:53:35.985795Z",
     "shell.execute_reply.started": "2021-02-21T09:53:35.959380Z"
    }
   },
   "outputs": [
    {
     "data": {
      "text/plain": [
       "{0: Vec(self.D, {'y': 1, 'u': 1}), 1: Vec(self.D, {'x': 1, 'u': 1})}"
      ]
     },
     "execution_count": 91,
     "metadata": {},
     "output_type": "execute_result"
    }
   ],
   "source": [
    "corners"
   ]
  },
  {
   "cell_type": "code",
   "execution_count": null,
   "id": "attended-editor",
   "metadata": {},
   "outputs": [],
   "source": []
  },
  {
   "cell_type": "code",
   "execution_count": null,
   "id": "variable-plenty",
   "metadata": {},
   "outputs": [],
   "source": []
  },
  {
   "cell_type": "code",
   "execution_count": 7,
   "id": "downtown-webmaster",
   "metadata": {
    "execution": {
     "iopub.execute_input": "2021-02-20T08:51:21.029189Z",
     "iopub.status.busy": "2021-02-20T08:51:21.028946Z",
     "iopub.status.idle": "2021-02-20T08:51:21.060598Z",
     "shell.execute_reply": "2021-02-20T08:51:21.059898Z",
     "shell.execute_reply.started": "2021-02-20T08:51:21.029161Z"
    }
   },
   "outputs": [
    {
     "data": {
      "text/plain": [
       "[(0, 0), (0, 1), (0, 2), (1, 0), (1, 1), (1, 2), (2, 0), (2, 1), (2, 2)]"
      ]
     },
     "execution_count": 7,
     "metadata": {},
     "output_type": "execute_result"
    }
   ],
   "source": [
    "[(x, y) for x, y in itertools.product(range(3), range(3))]"
   ]
  },
  {
   "cell_type": "code",
   "execution_count": 24,
   "id": "framed-question",
   "metadata": {
    "execution": {
     "iopub.execute_input": "2021-02-20T09:40:45.319345Z",
     "iopub.status.busy": "2021-02-20T09:40:45.319106Z",
     "iopub.status.idle": "2021-02-20T09:40:45.346372Z",
     "shell.execute_reply": "2021-02-20T09:40:45.345493Z",
     "shell.execute_reply.started": "2021-02-20T09:40:45.319318Z"
    }
   },
   "outputs": [],
   "source": [
    "input_list = [\n",
    "    [0, 0, 0, 1, 1, 1, 2, 2, 2, ],\n",
    "    [0, 1, 2, 0, 1, 2, 0, 1, 2, ],\n",
    "    [1, 1, 1, 1, 1, 1, 1, 1, 1, ],\n",
    "]"
   ]
  },
  {
   "cell_type": "code",
   "execution_count": 38,
   "id": "christian-adelaide",
   "metadata": {
    "execution": {
     "iopub.execute_input": "2021-02-20T09:49:11.030225Z",
     "iopub.status.busy": "2021-02-20T09:49:11.029950Z",
     "iopub.status.idle": "2021-02-20T09:49:11.060663Z",
     "shell.execute_reply": "2021-02-20T09:49:11.059581Z",
     "shell.execute_reply.started": "2021-02-20T09:49:11.030194Z"
    }
   },
   "outputs": [],
   "source": []
  },
  {
   "cell_type": "code",
   "execution_count": 40,
   "id": "developmental-forward",
   "metadata": {
    "execution": {
     "iopub.execute_input": "2021-02-20T09:49:44.574209Z",
     "iopub.status.busy": "2021-02-20T09:49:44.573958Z",
     "iopub.status.idle": "2021-02-20T09:49:44.602918Z",
     "shell.execute_reply": "2021-02-20T09:49:44.602193Z",
     "shell.execute_reply.started": "2021-02-20T09:49:44.574181Z"
    }
   },
   "outputs": [
    {
     "data": {
      "text/plain": [
       "[[0, 0, 0, 1, 1, 1, 2, 2, 2],\n",
       " [0, 1, 2, 0, 1, 2, 0, 1, 2],\n",
       " [1, 1, 1, 1, 1, 1, 1, 1, 1]]"
      ]
     },
     "execution_count": 40,
     "metadata": {},
     "output_type": "execute_result"
    }
   ],
   "source": [
    "numbers = [\"000111222\", '012'*3,'1'*9]\n",
    "[ [int(c) for c in number] for number in numbers]"
   ]
  },
  {
   "cell_type": "code",
   "execution_count": 33,
   "id": "documented-input",
   "metadata": {
    "execution": {
     "iopub.execute_input": "2021-02-20T09:47:58.268794Z",
     "iopub.status.busy": "2021-02-20T09:47:58.268532Z",
     "iopub.status.idle": "2021-02-20T09:47:58.295884Z",
     "shell.execute_reply": "2021-02-20T09:47:58.295091Z",
     "shell.execute_reply.started": "2021-02-20T09:47:58.268767Z"
    }
   },
   "outputs": [
    {
     "data": {
      "text/plain": [
       "['000111222', '012012012', '111111111']"
      ]
     },
     "execution_count": 33,
     "metadata": {},
     "output_type": "execute_result"
    }
   ],
   "source": [
    "strings"
   ]
  },
  {
   "cell_type": "code",
   "execution_count": 50,
   "id": "varying-transsexual",
   "metadata": {
    "execution": {
     "iopub.execute_input": "2021-02-20T09:58:41.212401Z",
     "iopub.status.busy": "2021-02-20T09:58:41.212157Z",
     "iopub.status.idle": "2021-02-20T09:58:41.239413Z",
     "shell.execute_reply": "2021-02-20T09:58:41.238592Z",
     "shell.execute_reply.started": "2021-02-20T09:58:41.212372Z"
    }
   },
   "outputs": [],
   "source": [
    "color = listlist2mat(\n",
    "    [[225, 125, 175, 75] for _ in range(3)],\n",
    "    rows=[\"b\", \"g\", \"r\"],\n",
    "    cols=[(x, y) for x, y in itertools.product(range(2), range(2))],\n",
    ")"
   ]
  },
  {
   "cell_type": "code",
   "execution_count": 51,
   "id": "suspected-curtis",
   "metadata": {
    "execution": {
     "iopub.execute_input": "2021-02-20T09:58:41.936579Z",
     "iopub.status.busy": "2021-02-20T09:58:41.936264Z",
     "iopub.status.idle": "2021-02-20T09:58:41.966599Z",
     "shell.execute_reply": "2021-02-20T09:58:41.965542Z",
     "shell.execute_reply.started": "2021-02-20T09:58:41.936549Z"
    }
   },
   "outputs": [
    {
     "name": "stdout",
     "output_type": "stream",
     "text": [
      "   (0, 0)  (0, 1)  (1, 0)  (1, 1)\n",
      "b     225     125     175      75\n",
      "g     225     125     175      75\n",
      "r     225     125     175      75\n"
     ]
    }
   ],
   "source": [
    "print(color)"
   ]
  },
  {
   "cell_type": "code",
   "execution_count": 52,
   "id": "descending-order",
   "metadata": {
    "execution": {
     "iopub.execute_input": "2021-02-20T12:44:23.559627Z",
     "iopub.status.busy": "2021-02-20T12:44:23.559387Z",
     "iopub.status.idle": "2021-02-20T12:44:23.589010Z",
     "shell.execute_reply": "2021-02-20T12:44:23.588248Z",
     "shell.execute_reply.started": "2021-02-20T12:44:23.559600Z"
    }
   },
   "outputs": [],
   "source": [
    "import matplotlib.pyplot as plt\n",
    "%matplotlib inline"
   ]
  },
  {
   "cell_type": "code",
   "execution_count": 54,
   "id": "fitting-cameroon",
   "metadata": {
    "execution": {
     "iopub.execute_input": "2021-02-20T12:50:08.797323Z",
     "iopub.status.busy": "2021-02-20T12:50:08.797068Z",
     "iopub.status.idle": "2021-02-20T12:50:08.826017Z",
     "shell.execute_reply": "2021-02-20T12:50:08.825391Z",
     "shell.execute_reply.started": "2021-02-20T12:50:08.797294Z"
    }
   },
   "outputs": [],
   "source": [
    "file = plt.imread('0.png')"
   ]
  },
  {
   "cell_type": "code",
   "execution_count": 56,
   "id": "saving-dutch",
   "metadata": {
    "execution": {
     "iopub.execute_input": "2021-02-20T12:50:16.834503Z",
     "iopub.status.busy": "2021-02-20T12:50:16.834247Z",
     "iopub.status.idle": "2021-02-20T12:50:16.861703Z",
     "shell.execute_reply": "2021-02-20T12:50:16.860986Z",
     "shell.execute_reply.started": "2021-02-20T12:50:16.834473Z"
    }
   },
   "outputs": [
    {
     "data": {
      "text/plain": [
       "(238, 238, 4)"
      ]
     },
     "execution_count": 56,
     "metadata": {},
     "output_type": "execute_result"
    }
   ],
   "source": [
    "file.shape  # rgb"
   ]
  },
  {
   "cell_type": "code",
   "execution_count": 60,
   "id": "yellow-gauge",
   "metadata": {
    "execution": {
     "iopub.execute_input": "2021-02-20T12:52:31.927668Z",
     "iopub.status.busy": "2021-02-20T12:52:31.927410Z",
     "iopub.status.idle": "2021-02-20T12:52:31.961863Z",
     "shell.execute_reply": "2021-02-20T12:52:31.960785Z",
     "shell.execute_reply.started": "2021-02-20T12:52:31.927640Z"
    }
   },
   "outputs": [
    {
     "ename": "ValueError",
     "evalue": "too many values to unpack (expected 4)",
     "output_type": "error",
     "traceback": [
      "\u001b[0;31m---------------------------------------------------------------------------\u001b[0m",
      "\u001b[0;31mValueError\u001b[0m                                Traceback (most recent call last)",
      "\u001b[0;32m<ipython-input-60-a845671d6f70>\u001b[0m in \u001b[0;36m<module>\u001b[0;34m\u001b[0m\n\u001b[0;32m----> 1\u001b[0;31m \u001b[0mr\u001b[0m\u001b[0;34m,\u001b[0m\u001b[0mg\u001b[0m\u001b[0;34m,\u001b[0m\u001b[0mb\u001b[0m\u001b[0;34m,\u001b[0m\u001b[0m_\u001b[0m \u001b[0;34m=\u001b[0m \u001b[0mfile\u001b[0m\u001b[0;34m\u001b[0m\u001b[0;34m\u001b[0m\u001b[0m\n\u001b[0m",
      "\u001b[0;31mValueError\u001b[0m: too many values to unpack (expected 4)"
     ]
    }
   ],
   "source": [
    "r,g,b,_ = file"
   ]
  },
  {
   "cell_type": "code",
   "execution_count": 58,
   "id": "continental-waste",
   "metadata": {
    "execution": {
     "iopub.execute_input": "2021-02-20T12:50:48.814910Z",
     "iopub.status.busy": "2021-02-20T12:50:48.814609Z",
     "iopub.status.idle": "2021-02-20T12:50:49.129227Z",
     "shell.execute_reply": "2021-02-20T12:50:49.128550Z",
     "shell.execute_reply.started": "2021-02-20T12:50:48.814877Z"
    }
   },
   "outputs": [
    {
     "data": {
      "text/plain": [
       "<matplotlib.image.AxesImage at 0x16a52bbe0>"
      ]
     },
     "execution_count": 58,
     "metadata": {},
     "output_type": "execute_result"
    },
    {
     "data": {
      "image/png": "[encoded data removed]",
      "text/plain": [
       "<Figure size 432x288 with 1 Axes>"
      ]
     },
     "metadata": {
      "needs_background": "light"
     },
     "output_type": "display_data"
    }
   ],
   "source": [
    "plt.imshow(file)"
   ]
  },
  {
   "cell_type": "code",
   "execution_count": null,
   "id": "white-signature",
   "metadata": {},
   "outputs": [],
   "source": []
  },
  {
   "cell_type": "code",
   "execution_count": 29,
   "id": "immune-still",
   "metadata": {
    "execution": {
     "iopub.execute_input": "2021-02-20T09:46:43.388785Z",
     "iopub.status.busy": "2021-02-20T09:46:43.388545Z",
     "iopub.status.idle": "2021-02-20T09:46:43.416562Z",
     "shell.execute_reply": "2021-02-20T09:46:43.415710Z",
     "shell.execute_reply.started": "2021-02-20T09:46:43.388759Z"
    }
   },
   "outputs": [
    {
     "data": {
      "text/plain": [
       "[0, 0, 0, 1, 1, 1, 2, 2, 2]"
      ]
     },
     "execution_count": 29,
     "metadata": {},
     "output_type": "execute_result"
    }
   ],
   "source": [
    "[\n",
    " [int(c) for c in \"000111222\"],\n",
    " [int(c) for c in \"012\"*3],\n",
    " [int(c) for c in \"1\" * 9],\n",
    "]\n",
    " "
   ]
  },
  {
   "cell_type": "code",
   "execution_count": 25,
   "id": "nasty-barbados",
   "metadata": {
    "execution": {
     "iopub.execute_input": "2021-02-20T09:40:45.682477Z",
     "iopub.status.busy": "2021-02-20T09:40:45.682240Z",
     "iopub.status.idle": "2021-02-20T09:40:45.709483Z",
     "shell.execute_reply": "2021-02-20T09:40:45.708600Z",
     "shell.execute_reply.started": "2021-02-20T09:40:45.682450Z"
    }
   },
   "outputs": [],
   "source": [
    "A = listlist2mat(\n",
    "    input_list,\n",
    "    rows=[\"x\", \"y\", \"u\"],\n",
    "    cols=[(0, 0), (0, 1), (0, 2), (1, 0), (1, 1), (1, 2), (2, 0), (2, 1), (2, 2)],\n",
    ")"
   ]
  },
  {
   "cell_type": "code",
   "execution_count": 26,
   "id": "floppy-portland",
   "metadata": {
    "execution": {
     "iopub.execute_input": "2021-02-20T09:40:45.986669Z",
     "iopub.status.busy": "2021-02-20T09:40:45.986429Z",
     "iopub.status.idle": "2021-02-20T09:40:46.017578Z",
     "shell.execute_reply": "2021-02-20T09:40:46.016433Z",
     "shell.execute_reply.started": "2021-02-20T09:40:45.986641Z"
    }
   },
   "outputs": [
    {
     "name": "stdout",
     "output_type": "stream",
     "text": [
      "   (0, 0)  (0, 1)  (0, 2)  (1, 0)  (1, 1)  (1, 2)  (2, 0)  (2, 1)  (2, 2)\n",
      "x       0       0       0       1       1       1       2       2       2\n",
      "y       0       1       2       0       1       2       0       1       2\n",
      "u       1       1       1       1       1       1       1       1       1\n"
     ]
    }
   ],
   "source": [
    "print(A)"
   ]
  },
  {
   "cell_type": "code",
   "execution_count": 6,
   "id": "built-austin",
   "metadata": {
    "execution": {
     "iopub.execute_input": "2021-02-20T08:43:52.649098Z",
     "iopub.status.busy": "2021-02-20T08:43:52.648851Z",
     "iopub.status.idle": "2021-02-20T08:43:52.729985Z",
     "shell.execute_reply": "2021-02-20T08:43:52.729284Z",
     "shell.execute_reply.started": "2021-02-20T08:43:52.649071Z"
    }
   },
   "outputs": [
    {
     "data": {
      "text/plain": [
       "\u001b[0;31mSignature:\u001b[0m \u001b[0misinstance\u001b[0m\u001b[0;34m(\u001b[0m\u001b[0mobj\u001b[0m\u001b[0;34m,\u001b[0m \u001b[0mclass_or_tuple\u001b[0m\u001b[0;34m,\u001b[0m \u001b[0;34m/\u001b[0m\u001b[0;34m)\u001b[0m\u001b[0;34m\u001b[0m\u001b[0;34m\u001b[0m\u001b[0m\n",
       "\u001b[0;31mDocstring:\u001b[0m\n",
       "Return whether an object is an instance of a class or of a subclass thereof.\n",
       "\n",
       "A tuple, as in ``isinstance(x, (A, B, ...))``, may be given as the target to\n",
       "check against. This is equivalent to ``isinstance(x, A) or isinstance(x, B)\n",
       "or ...`` etc.\n",
       "\u001b[0;31mType:\u001b[0m      builtin_function_or_method\n"
      ]
     },
     "metadata": {},
     "output_type": "display_data"
    }
   ],
   "source": []
  },
  {
   "cell_type": "code",
   "execution_count": 3,
   "id": "reasonable-jewel",
   "metadata": {
    "execution": {
     "iopub.execute_input": "2021-02-17T15:08:49.373755Z",
     "iopub.status.busy": "2021-02-17T15:08:49.373519Z",
     "iopub.status.idle": "2021-02-17T15:08:49.402102Z",
     "shell.execute_reply": "2021-02-17T15:08:49.401371Z",
     "shell.execute_reply.started": "2021-02-17T15:08:49.373729Z"
    }
   },
   "outputs": [
    {
     "data": {
      "text/plain": [
       "97"
      ]
     },
     "execution_count": 3,
     "metadata": {},
     "output_type": "execute_result"
    }
   ],
   "source": [
    "ord('a')"
   ]
  },
  {
   "cell_type": "code",
   "execution_count": 4,
   "id": "precious-drive",
   "metadata": {
    "execution": {
     "iopub.execute_input": "2021-02-17T15:08:54.074557Z",
     "iopub.status.busy": "2021-02-17T15:08:54.074308Z",
     "iopub.status.idle": "2021-02-17T15:08:54.101504Z",
     "shell.execute_reply": "2021-02-17T15:08:54.100764Z",
     "shell.execute_reply.started": "2021-02-17T15:08:54.074528Z"
    }
   },
   "outputs": [
    {
     "data": {
      "text/plain": [
       "65"
      ]
     },
     "execution_count": 4,
     "metadata": {},
     "output_type": "execute_result"
    }
   ],
   "source": [
    "ord('A')"
   ]
  },
  {
   "cell_type": "code",
   "execution_count": 5,
   "id": "bored-radiation",
   "metadata": {
    "execution": {
     "iopub.execute_input": "2021-02-17T15:09:00.164611Z",
     "iopub.status.busy": "2021-02-17T15:09:00.164334Z",
     "iopub.status.idle": "2021-02-17T15:09:00.192574Z",
     "shell.execute_reply": "2021-02-17T15:09:00.191889Z",
     "shell.execute_reply.started": "2021-02-17T15:09:00.164575Z"
    }
   },
   "outputs": [
    {
     "data": {
      "text/plain": [
       "32"
      ]
     },
     "execution_count": 5,
     "metadata": {},
     "output_type": "execute_result"
    }
   ],
   "source": [
    "ord(' ')"
   ]
  },
  {
   "cell_type": "code",
   "execution_count": 8,
   "id": "manufactured-welsh",
   "metadata": {
    "execution": {
     "iopub.execute_input": "2021-02-17T15:09:31.197226Z",
     "iopub.status.busy": "2021-02-17T15:09:31.196992Z",
     "iopub.status.idle": "2021-02-17T15:09:31.223717Z",
     "shell.execute_reply": "2021-02-17T15:09:31.222818Z",
     "shell.execute_reply.started": "2021-02-17T15:09:31.197200Z"
    }
   },
   "outputs": [
    {
     "name": "stdout",
     "output_type": "stream",
     "text": [
      "\u0000\u0001\u0002\u0003\u0004\u0005\u0006\t\n",
      "\u000e\u000f\u0010\u0011\u0012\u0013\u0014\u0015\u0016\u0017\u0018\u0019\u001a\u001b\u001c",
      "\u001d",
      "\u001e",
      "\u001f !\"#$%&'()*+,-./0123456789:;<=>?@ABCDEFGHIJKLMNOPQRSTUVWXYZ[\\]^_`abcdefghijklmnopqrstuvwxyz{|}~",
      " ¡¢£¤¥¦§¨©ª«¬­®¯°±²³´µ¶·¸¹º»¼½¾¿ÀÁÂÃÄÅÆÇÈÉÊËÌÍÎÏÐÑÒÓÔÕÖ×ØÙÚÛÜÝÞßàáâãäåæçèéêëìíîïðñòóôõö÷øùúûüýþÿ\n"
     ]
    }
   ],
   "source": [
    "s = ''.join([chr(i) for i in range(256)])\n",
    "print(s)"
   ]
  },
  {
   "cell_type": "code",
   "execution_count": 11,
   "id": "secret-uruguay",
   "metadata": {
    "execution": {
     "iopub.execute_input": "2021-02-17T15:14:04.719977Z",
     "iopub.status.busy": "2021-02-17T15:14:04.719740Z",
     "iopub.status.idle": "2021-02-17T15:14:04.745498Z",
     "shell.execute_reply": "2021-02-17T15:14:04.744755Z",
     "shell.execute_reply.started": "2021-02-17T15:14:04.719950Z"
    }
   },
   "outputs": [],
   "source": [
    "a = str2bits(s)"
   ]
  },
  {
   "cell_type": "code",
   "execution_count": 13,
   "id": "binary-extension",
   "metadata": {
    "execution": {
     "iopub.execute_input": "2021-02-17T15:14:17.708697Z",
     "iopub.status.busy": "2021-02-17T15:14:17.708454Z",
     "iopub.status.idle": "2021-02-17T15:14:17.734966Z",
     "shell.execute_reply": "2021-02-17T15:14:17.734118Z",
     "shell.execute_reply.started": "2021-02-17T15:14:17.708671Z"
    }
   },
   "outputs": [
    {
     "name": "stdout",
     "output_type": "stream",
     "text": [
      "\u0000\u0001\u0002\u0003\u0004\u0005\u0006\t\n",
      "\u000e\u000f\u0010\u0011\u0012\u0013\u0014\u0015\u0016\u0017\u0018\u0019\u001a\u001b\u001c",
      "\u001d",
      "\u001e",
      "\u001f !\"#$%&'()*+,-./0123456789:;<=>?@ABCDEFGHIJKLMNOPQRSTUVWXYZ[\\]^_`abcdefghijklmnopqrstuvwxyz{|}~",
      " ¡¢£¤¥¦§¨©ª«¬­®¯°±²³´µ¶·¸¹º»¼½¾¿ÀÁÂÃÄÅÆÇÈÉÊËÌÍÎÏÐÑÒÓÔÕÖ×ØÙÚÛÜÝÞßàáâãäåæçèéêëìíîïðñòóôõö÷øùúûüýþÿ\n"
     ]
    }
   ],
   "source": [
    "print(bits2str(a))"
   ]
  },
  {
   "cell_type": "code",
   "execution_count": 14,
   "id": "ambient-cooling",
   "metadata": {
    "execution": {
     "iopub.execute_input": "2021-02-17T15:16:48.747687Z",
     "iopub.status.busy": "2021-02-17T15:16:48.747440Z",
     "iopub.status.idle": "2021-02-17T15:16:48.773653Z",
     "shell.execute_reply": "2021-02-17T15:16:48.772995Z",
     "shell.execute_reply.started": "2021-02-17T15:16:48.747660Z"
    }
   },
   "outputs": [],
   "source": [
    "word = 'string'"
   ]
  },
  {
   "cell_type": "code",
   "execution_count": 15,
   "id": "structural-invalid",
   "metadata": {
    "execution": {
     "iopub.execute_input": "2021-02-17T15:17:06.320129Z",
     "iopub.status.busy": "2021-02-17T15:17:06.319886Z",
     "iopub.status.idle": "2021-02-17T15:17:06.345728Z",
     "shell.execute_reply": "2021-02-17T15:17:06.344826Z",
     "shell.execute_reply.started": "2021-02-17T15:17:06.320103Z"
    }
   },
   "outputs": [],
   "source": [
    "bits = str2bits(word)"
   ]
  },
  {
   "cell_type": "code",
   "execution_count": 17,
   "id": "speaking-budapest",
   "metadata": {
    "execution": {
     "iopub.execute_input": "2021-02-17T15:18:01.025125Z",
     "iopub.status.busy": "2021-02-17T15:18:01.024920Z",
     "iopub.status.idle": "2021-02-17T15:18:01.049995Z",
     "shell.execute_reply": "2021-02-17T15:18:01.049280Z",
     "shell.execute_reply.started": "2021-02-17T15:18:01.025102Z"
    }
   },
   "outputs": [],
   "source": [
    "p = bits2mat(bits)"
   ]
  },
  {
   "cell_type": "code",
   "execution_count": 19,
   "id": "unusual-hybrid",
   "metadata": {
    "execution": {
     "iopub.execute_input": "2021-02-17T15:18:12.268957Z",
     "iopub.status.busy": "2021-02-17T15:18:12.268720Z",
     "iopub.status.idle": "2021-02-17T15:18:12.311346Z",
     "shell.execute_reply": "2021-02-17T15:18:12.310746Z",
     "shell.execute_reply.started": "2021-02-17T15:18:12.268930Z"
    }
   },
   "outputs": [
    {
     "name": "stdout",
     "output_type": "stream",
     "text": [
      "  0  1  2  3  4  5  6  7  8  9  10 11\n",
      "0  1  1  0  1  0  1  1  0  0  0  1  0\n",
      "1  1  1  0  1  1  1  0  1  1  1  1  1\n",
      "2  0  1  1  1  0  1  0  1  1  1  1  1\n",
      "3  0  0  0  0  0  0  1  0  1  0  0  0\n"
     ]
    }
   ],
   "source": [
    "print(p)"
   ]
  },
  {
   "cell_type": "code",
   "execution_count": 21,
   "id": "guided-nutrition",
   "metadata": {
    "execution": {
     "iopub.execute_input": "2021-02-17T15:18:39.126556Z",
     "iopub.status.busy": "2021-02-17T15:18:39.126311Z",
     "iopub.status.idle": "2021-02-17T15:18:39.155722Z",
     "shell.execute_reply": "2021-02-17T15:18:39.154918Z",
     "shell.execute_reply.started": "2021-02-17T15:18:39.126529Z"
    }
   },
   "outputs": [],
   "source": [
    "b_bits = mat2bits(p)"
   ]
  },
  {
   "cell_type": "code",
   "execution_count": 22,
   "id": "complete-error",
   "metadata": {
    "execution": {
     "iopub.execute_input": "2021-02-17T15:18:49.821753Z",
     "iopub.status.busy": "2021-02-17T15:18:49.821545Z",
     "iopub.status.idle": "2021-02-17T15:18:49.845120Z",
     "shell.execute_reply": "2021-02-17T15:18:49.844534Z",
     "shell.execute_reply.started": "2021-02-17T15:18:49.821731Z"
    }
   },
   "outputs": [
    {
     "data": {
      "text/plain": [
       "'string'"
      ]
     },
     "execution_count": 22,
     "metadata": {},
     "output_type": "execute_result"
    }
   ],
   "source": [
    "bits2str(b_bits)"
   ]
  },
  {
   "cell_type": "code",
   "execution_count": 24,
   "id": "tropical-reporter",
   "metadata": {
    "execution": {
     "iopub.execute_input": "2021-02-17T15:22:46.026574Z",
     "iopub.status.busy": "2021-02-17T15:22:46.026329Z",
     "iopub.status.idle": "2021-02-17T15:22:46.052007Z",
     "shell.execute_reply": "2021-02-17T15:22:46.051134Z",
     "shell.execute_reply.started": "2021-02-17T15:22:46.026547Z"
    }
   },
   "outputs": [],
   "source": [
    "sentence = \"\"\"I'm trying to free your mind, Neo. But I can only show you the door. You're the one that has to walk through it.\"\"\""
   ]
  },
  {
   "cell_type": "code",
   "execution_count": 29,
   "id": "popular-programming",
   "metadata": {
    "execution": {
     "iopub.execute_input": "2021-02-17T15:23:39.068841Z",
     "iopub.status.busy": "2021-02-17T15:23:39.068579Z",
     "iopub.status.idle": "2021-02-17T15:23:39.095705Z",
     "shell.execute_reply": "2021-02-17T15:23:39.094837Z",
     "shell.execute_reply.started": "2021-02-17T15:23:39.068811Z"
    }
   },
   "outputs": [],
   "source": [
    "P = bits2mat(str2bits(sentence))"
   ]
  },
  {
   "cell_type": "code",
   "execution_count": 30,
   "id": "standard-stadium",
   "metadata": {
    "execution": {
     "iopub.execute_input": "2021-02-17T15:23:39.253553Z",
     "iopub.status.busy": "2021-02-17T15:23:39.253311Z",
     "iopub.status.idle": "2021-02-17T15:23:39.368076Z",
     "shell.execute_reply": "2021-02-17T15:23:39.367236Z",
     "shell.execute_reply.started": "2021-02-17T15:23:39.253526Z"
    }
   },
   "outputs": [
    {
     "name": "stdout",
     "output_type": "stream",
     "text": [
      "  0   1   2   3   4   5    6   7   8   9   10  11  12  13  14  15  16  17  18  19   20  21  22  23  24  25   26  27  28  29  30  31  32  33  34  35   36  37  38  39  40  41  42  43  44  45   46  47  48  49  50  51  52  53  54  55  56  57   58  59  60  61  62  63  64  65  66  67   68  69  70  71  72  73  74  75   76  77  78  79   80  81  82  83  84  85  86  87   88  89  90  91  92  93  94  95  96  97   98  99  100 101 102 103 104 105 106 107  108 109 110 111 112 113 114 115  116 117 118 119 120 121 122 123  124 125 126 127 128 129 130 131 132 133 134 135  136 137 138 139 140 141 142 143 144 145 146 147 148 149  150 151 152 153 154 155 156 157  158 159 160 161 162 163 164 165  166 167 168 169 170 171 172 173 174 175  176 177 178 179 180 181 182 183  184 185 186 187 188 189  190 191 192 193 194 195 196 197 198 199  200 201 202 203 204 205 206 207 208 209 210 211 212 213 214 215  216 217 218 219 220 221 222 223\n",
      "0   1   0   1   0   1   0    0   0   0   1   0   1   1   1   1   0   0   0   1   0    0   0   0   1   1   0    0   0   0   0   0   1   1   0   1   0    0   0   1   1   1   0   1   1   0   1    0   0   1   0   1   0   0   0   0   0   0   0    0   0   0   0   1   0   1   0   0   0    0   0   0   0   1   1   0   1    0   0   1   0    0   0   1   0   1   0   0   0    0   0   1   0   0   0   0   0   1   1    0   0   1   1   0   0   1   0   1   1    0   0   1   1   1   0   1   1    0   0   0   1   0   0   1   0    0   0   0   0   1   0   1   0   0   1   0   0    0   0   1   1   1   0   1   1   1   0   0   1   1   0    0   0   0   1   0   0   1   0    0   0   1   0   0   0   1   0    0   0   0   1   0   0   1   0   0   1    0   0   0   0   1   0   1   1    0   0   0   1   1   0    0   0   1   1   1   0   0   0   1   0    0   0   0   1   0   0   0   1   1   0   1   1   1   0   0   0    0   0   1   0   0   1   0   0\n",
      "1   0   0   1   1   0   1    0   1   0   1   1   1   0   1   0   1   1   1   1   1    0   1   0   1   1   1    0   1   1   1   1   1   0   1   0   1    0   1   0   1   1   1   0   1   1   1    0   1   0   1   0   1   1   1   0   1   0   1    0   1   1   0   0   1   1   1   1   1    0   1   1   0   0   1   0   1    0   1   0   0    0   1   1   1   0   1   1   1    0   1   1   1   1   1   0   1   0   1    0   1   1   1   0   1   1   1   1   1    0   1   0   1   1   1   0   1    0   1   0   1   0   1   0   1    0   1   0   1   1   1   1   1   1   1   1   1    0   1   0   0   1   1   0   1   1   1   1   1   0   1    0   1   0   1   0   1   0   1    0   1   1   1   1   1   0   1    0   1   0   1   0   1   0   1   0   1    0   1   0   1   0   1   1   1    0   1   0   1   1   1    0   1   1   1   0   1   0   1   1   1    0   1   0   1   0   1   1   1   1   1   0   1   1   1   0   1    0   1   0   1   0   1   1   1\n",
      "2   0   1   1   0   1   1    0   0   1   1   0   1   0   1   0   1   1   1   1   1    0   0   1   1   1   1    0   0   1   1   0   1   1   1   1   1    0   0   0   1   1   1   1   1   0   1    0   0   1   1   0   1   1   1   1   1   1   0    0   0   1   1   1   1   1   1   1   0    0   0   0   1   1   1   1   1    0   0   0   1    0   0   0   1   0   1   1   1    0   0   1   1   1   1   1   1   0   1    0   0   0   1   0   1   1   1   1   1    0   0   0   1   1   1   1   1    0   0   1   1   0   1   1   1    0   0   1   1   1   1   1   1   0   1   1   0    0   0   0   1   1   1   1   1   1   0   0   1   1   1    0   0   1   1   0   1   1   1    0   0   1   1   1   1   1   1    0   0   1   1   0   1   0   1   1   1    0   0   0   1   0   1   0   1    0   0   1   1   1   1    0   0   1   1   0   1   1   1   0   1    0   0   1   1   0   1   0   1   1   1   1   1   1   1   0   1    0   0   0   1   1   1   1   0\n",
      "3   1   0   0   0   1   0    0   0   0   0   0   0   1   0   1   0   1   0   0   0    0   0   0   0   1   0    0   0   0   0   0   0   0   0   0   0    0   0   1   0   1   0   0   0   0   0    0   0   1   0   1   0   1   0   0   0   1   0    0   0   1   0   0   0   1   0   1   0    0   0   0   0   0   0   0   0    0   0   1   0    0   0   0   0   0   0   1   0    0   0   1   0   1   0   1   0   1   0    0   0   0   0   1   0   1   0   0   0    0   0   1   0   1   0   0   0    0   0   0   0   1   0   0   0    0   0   0   0   1   0   1   0   0   0   1   0    0   0   1   0   1   0   0   0   0   0   0   0   0   0    0   0   0   0   1   0   0   0    0   0   1   0   1   0   0   0    0   0   0   0   1   0   0   0   0   0    0   0   1   0   0   0   0   0    0   0   0   0   1   0    0   0   0   0   0   0   1   0   1   0    0   0   0   0   1   0   0   0   1   0   0   0   0   0   1   0    0   0   1   0   0   0   1   0\n"
     ]
    }
   ],
   "source": [
    "print(P)"
   ]
  },
  {
   "cell_type": "code",
   "execution_count": 33,
   "id": "hired-emergency",
   "metadata": {
    "execution": {
     "iopub.execute_input": "2021-02-17T15:24:35.224922Z",
     "iopub.status.busy": "2021-02-17T15:24:35.224663Z",
     "iopub.status.idle": "2021-02-17T15:24:35.251105Z",
     "shell.execute_reply": "2021-02-17T15:24:35.250232Z",
     "shell.execute_reply.started": "2021-02-17T15:24:35.224893Z"
    }
   },
   "outputs": [],
   "source": [
    "E = noise(P, .02)"
   ]
  },
  {
   "cell_type": "code",
   "execution_count": 35,
   "id": "documented-commons",
   "metadata": {
    "execution": {
     "iopub.execute_input": "2021-02-17T15:28:43.907956Z",
     "iopub.status.busy": "2021-02-17T15:28:43.907717Z",
     "iopub.status.idle": "2021-02-17T15:28:43.972337Z",
     "shell.execute_reply": "2021-02-17T15:28:43.971606Z",
     "shell.execute_reply.started": "2021-02-17T15:28:43.907930Z"
    }
   },
   "outputs": [
    {
     "data": {
      "text/plain": [
       "\"I'm trying to`free your mind, Neo. But I can only show you The door. You%re the one tèat has tg ualk(tirough it.\""
      ]
     },
     "execution_count": 35,
     "metadata": {},
     "output_type": "execute_result"
    }
   ],
   "source": [
    "bits2str(mat2bits(E+P))"
   ]
  },
  {
   "cell_type": "code",
   "execution_count": 58,
   "id": "proprietary-genome",
   "metadata": {
    "execution": {
     "iopub.execute_input": "2021-02-17T15:50:34.520012Z",
     "iopub.status.busy": "2021-02-17T15:50:34.519771Z",
     "iopub.status.idle": "2021-02-17T15:50:34.547560Z",
     "shell.execute_reply": "2021-02-17T15:50:34.546766Z",
     "shell.execute_reply.started": "2021-02-17T15:50:34.519986Z"
    }
   },
   "outputs": [
    {
     "data": {
      "text/plain": [
       "(4, 224)"
      ]
     },
     "execution_count": 58,
     "metadata": {},
     "output_type": "execute_result"
    }
   ],
   "source": [
    "P.shape"
   ]
  },
  {
   "cell_type": "code",
   "execution_count": 45,
   "id": "infrared-minneapolis",
   "metadata": {
    "execution": {
     "iopub.execute_input": "2021-02-17T15:44:54.303371Z",
     "iopub.status.busy": "2021-02-17T15:44:54.303108Z",
     "iopub.status.idle": "2021-02-17T15:44:54.331229Z",
     "shell.execute_reply": "2021-02-17T15:44:54.330394Z",
     "shell.execute_reply.started": "2021-02-17T15:44:54.303342Z"
    }
   },
   "outputs": [],
   "source": [
    "G = listlist2mat([\n",
    "    [one, 0, one, one],\n",
    "    [one, one, 0, one],\n",
    "    [0, 0, 0, one],\n",
    "    [one, one, one, 0],\n",
    "    [0, 0, one, 0],\n",
    "    [0, one, 0, 0],\n",
    "    [one, 0, 0, 0],\n",
    "])"
   ]
  },
  {
   "cell_type": "code",
   "execution_count": 46,
   "id": "sorted-perfume",
   "metadata": {
    "execution": {
     "iopub.execute_input": "2021-02-17T15:44:54.629682Z",
     "iopub.status.busy": "2021-02-17T15:44:54.629449Z",
     "iopub.status.idle": "2021-02-17T15:44:54.655962Z",
     "shell.execute_reply": "2021-02-17T15:44:54.655189Z",
     "shell.execute_reply.started": "2021-02-17T15:44:54.629656Z"
    }
   },
   "outputs": [
    {
     "data": {
      "text/plain": [
       "(7, 4)"
      ]
     },
     "execution_count": 46,
     "metadata": {},
     "output_type": "execute_result"
    }
   ],
   "source": [
    "G.shape"
   ]
  },
  {
   "cell_type": "code",
   "execution_count": 48,
   "id": "arctic-martin",
   "metadata": {
    "execution": {
     "iopub.execute_input": "2021-02-17T15:45:06.591057Z",
     "iopub.status.busy": "2021-02-17T15:45:06.590790Z",
     "iopub.status.idle": "2021-02-17T15:45:06.633183Z",
     "shell.execute_reply": "2021-02-17T15:45:06.632436Z",
     "shell.execute_reply.started": "2021-02-17T15:45:06.591028Z"
    }
   },
   "outputs": [],
   "source": [
    "C = G * P"
   ]
  },
  {
   "cell_type": "code",
   "execution_count": 49,
   "id": "respiratory-basin",
   "metadata": {
    "execution": {
     "iopub.execute_input": "2021-02-17T15:45:09.404508Z",
     "iopub.status.busy": "2021-02-17T15:45:09.404259Z",
     "iopub.status.idle": "2021-02-17T15:45:09.431307Z",
     "shell.execute_reply": "2021-02-17T15:45:09.430633Z",
     "shell.execute_reply.started": "2021-02-17T15:45:09.404481Z"
    }
   },
   "outputs": [
    {
     "data": {
      "text/plain": [
       "(7, 224)"
      ]
     },
     "execution_count": 49,
     "metadata": {},
     "output_type": "execute_result"
    }
   ],
   "source": [
    "C.shape"
   ]
  },
  {
   "cell_type": "code",
   "execution_count": 50,
   "id": "executive-nashville",
   "metadata": {
    "execution": {
     "iopub.execute_input": "2021-02-17T15:48:09.729493Z",
     "iopub.status.busy": "2021-02-17T15:48:09.729244Z",
     "iopub.status.idle": "2021-02-17T15:48:09.756640Z",
     "shell.execute_reply": "2021-02-17T15:48:09.755784Z",
     "shell.execute_reply.started": "2021-02-17T15:48:09.729465Z"
    }
   },
   "outputs": [],
   "source": [
    "E = noise(C, .02)"
   ]
  },
  {
   "cell_type": "code",
   "execution_count": 128,
   "id": "banner-blast",
   "metadata": {
    "execution": {
     "iopub.execute_input": "2021-02-18T03:04:08.606770Z",
     "iopub.status.busy": "2021-02-18T03:04:08.606530Z",
     "iopub.status.idle": "2021-02-18T03:04:08.634649Z",
     "shell.execute_reply": "2021-02-18T03:04:08.633672Z",
     "shell.execute_reply.started": "2021-02-18T03:04:08.606743Z"
    }
   },
   "outputs": [],
   "source": [
    "def change_error_rate(C, error_rate):\n",
    "    E = noise(C, error_rate)\n",
    "    C_tilde = C + E\n",
    "    message_made = correct(C_tilde)\n",
    "    # want to see 224 sums\n",
    "    coldict = mat2coldict(E)\n",
    "    num_errors = pd.Series([vec.non_null() for vec in coldict.values()]).value_counts()\n",
    "    return bits2str(mat2bits(message_made)), num_errors"
   ]
  },
  {
   "cell_type": "code",
   "execution_count": 129,
   "id": "sticky-reform",
   "metadata": {
    "execution": {
     "iopub.execute_input": "2021-02-18T03:04:08.915466Z",
     "iopub.status.busy": "2021-02-18T03:04:08.915232Z",
     "iopub.status.idle": "2021-02-18T03:04:08.942151Z",
     "shell.execute_reply": "2021-02-18T03:04:08.941473Z",
     "shell.execute_reply.started": "2021-02-18T03:04:08.915441Z"
    }
   },
   "outputs": [
    {
     "data": {
      "text/plain": [
       "array([0.  , 0.01, 0.02, 0.03, 0.04, 0.05, 0.06, 0.07, 0.08, 0.09, 0.1 ])"
      ]
     },
     "execution_count": 129,
     "metadata": {},
     "output_type": "execute_result"
    }
   ],
   "source": [
    "np.linspace(0, .1, 11)"
   ]
  },
  {
   "cell_type": "code",
   "execution_count": 130,
   "id": "finnish-place",
   "metadata": {
    "execution": {
     "iopub.execute_input": "2021-02-18T03:04:09.017580Z",
     "iopub.status.busy": "2021-02-18T03:04:09.017335Z",
     "iopub.status.idle": "2021-02-18T03:04:09.463877Z",
     "shell.execute_reply": "2021-02-18T03:04:09.463168Z",
     "shell.execute_reply.started": "2021-02-18T03:04:09.017553Z"
    }
   },
   "outputs": [
    {
     "name": "stdout",
     "output_type": "stream",
     "text": [
      "0.0 (\"I'm trying to free your mind, Neo. But I can only show you the door. You're the one that has to walk through it.\", 0    224\n",
      "dtype: int64)\n",
      "0.01 (\"I'm trying to free your mind, Neo. But I can only show you the door. You're the one that has to walk through it.\", 0    205\n",
      "1     19\n",
      "dtype: int64)\n",
      "0.02 (\"I'm tr{ing to free your mind, Neo. But I can only show`you the door. You're the one that has to walk through it.\", 0    189\n",
      "1     33\n",
      "2      2\n",
      "dtype: int64)\n",
      "0.03 (\"I'm trying to free yo{r mind, Ngo. Lut I can only show you the door. You're the one that(has to walk through iT.\", 0    175\n",
      "1     44\n",
      "2      5\n",
      "dtype: int64)\n",
      "0.04 (\"I'm tryiNg to frne*your iind, Neo. But I mag only sh/w you the(door. You're the one that has to\\x10walk $èroug` it.\", 0    160\n",
      "1     52\n",
      "2     10\n",
      "3      2\n",
      "dtype: int64)\n",
      "0.05 (\"Igm trzing to frfe your mind, Nmo. But I can only show you the door. You're the on\\x85 that `as t/ ralk thâou7h it.\", 0    159\n",
      "1     55\n",
      "2     10\n",
      "dtype: int64)\n",
      "0.06 (\"I'm trying to free your mind,`Nao. But I can onlw`show you the doar. You'rU thõ one that (as to walk \\x94hrough it.\", 0    148\n",
      "1     67\n",
      "2      8\n",
      "3      1\n",
      "dtype: int64)\n",
      "0.07 (\"I'm tryimn to fuee°your mmnd, Neo. Bu4 I con o.ly phow yoE qhe door. You'\\x7fe the one phaô has\\x00to wa\\\\k through\\xa0it.\", 0    145\n",
      "1     62\n",
      "2     15\n",
      "3      2\n",
      "dtype: int64)\n",
      "0.08 (\"É'm }rying to free)yïur cind, Neo. Bu$ I han ondù sh/w \\x7fou$tme\\x10dÿor. You·re thf-one that\\x00hbs to°walk tèrounh\\x80it.\", 0    121\n",
      "1     79\n",
      "2     17\n",
      "3      6\n",
      "4      1\n",
      "dtype: int64)\n",
      "0.09 (\"I'm t{ying%to\\x15öreg)ymur mifd, Neo. Bpt I cÿn\\xa0only\\xa0ãhow y/\\x95°the dmor. Yo|'re $he$one ¶hat.has*tÿ walk ähqough i~.\", 0    103\n",
      "1     91\n",
      "2     25\n",
      "3      4\n",
      "4      1\n",
      "dtype: int64)\n",
      "0.1 ('I\\'m#}ryi^W to\"crle ymqr mild, Nkf. B|t G\\xa0San oÞ<I show yiu thm dooB. Yo|\\'re#the one ähav has ô? waük\\x10throuÇh i4.', 0    117\n",
      "1     75\n",
      "2     27\n",
      "3      3\n",
      "4      2\n",
      "dtype: int64)\n"
     ]
    }
   ],
   "source": [
    "for error_rate in np.linspace(0, .1, 11):\n",
    "    print(error_rate, change_error_rate(C, error_rate))"
   ]
  },
  {
   "cell_type": "code",
   "execution_count": 131,
   "id": "searching-cabin",
   "metadata": {
    "execution": {
     "iopub.execute_input": "2021-02-18T03:04:09.465577Z",
     "iopub.status.busy": "2021-02-18T03:04:09.465377Z",
     "iopub.status.idle": "2021-02-18T03:04:09.491258Z",
     "shell.execute_reply": "2021-02-18T03:04:09.490463Z",
     "shell.execute_reply.started": "2021-02-18T03:04:09.465553Z"
    }
   },
   "outputs": [
    {
     "data": {
      "text/plain": [
       "(7, 224)"
      ]
     },
     "execution_count": 131,
     "metadata": {},
     "output_type": "execute_result"
    }
   ],
   "source": [
    "E.shape"
   ]
  },
  {
   "cell_type": "code",
   "execution_count": 118,
   "id": "given-forty",
   "metadata": {
    "execution": {
     "iopub.execute_input": "2021-02-18T02:58:57.422859Z",
     "iopub.status.busy": "2021-02-18T02:58:57.422615Z",
     "iopub.status.idle": "2021-02-18T02:58:57.515311Z",
     "shell.execute_reply": "2021-02-18T02:58:57.514498Z",
     "shell.execute_reply.started": "2021-02-18T02:58:57.422832Z"
    }
   },
   "outputs": [
    {
     "data": {
      "text/plain": [
       "0    194\n",
       "1     28\n",
       "2      2\n",
       "dtype: int64"
      ]
     },
     "execution_count": 118,
     "metadata": {},
     "output_type": "execute_result"
    }
   ],
   "source": [
    "# want to see 224 sums\n",
    "coldict = mat2coldict(E)\n",
    "pd.Series([vec.non_null() for vec in coldict.values()]).value_counts()"
   ]
  },
  {
   "cell_type": "code",
   "execution_count": null,
   "id": "sustainable-cable",
   "metadata": {},
   "outputs": [],
   "source": []
  },
  {
   "cell_type": "code",
   "execution_count": 51,
   "id": "announced-applicant",
   "metadata": {
    "execution": {
     "iopub.execute_input": "2021-02-17T15:48:31.847889Z",
     "iopub.status.busy": "2021-02-17T15:48:31.847579Z",
     "iopub.status.idle": "2021-02-17T15:48:31.876857Z",
     "shell.execute_reply": "2021-02-17T15:48:31.876099Z",
     "shell.execute_reply.started": "2021-02-17T15:48:31.847856Z"
    }
   },
   "outputs": [],
   "source": [
    "C_tilde = C + E"
   ]
  },
  {
   "cell_type": "code",
   "execution_count": 53,
   "id": "accessory-pioneer",
   "metadata": {
    "execution": {
     "iopub.execute_input": "2021-02-17T15:49:52.552910Z",
     "iopub.status.busy": "2021-02-17T15:49:52.552650Z",
     "iopub.status.idle": "2021-02-17T15:49:52.579939Z",
     "shell.execute_reply": "2021-02-17T15:49:52.579114Z",
     "shell.execute_reply.started": "2021-02-17T15:49:52.552880Z"
    }
   },
   "outputs": [],
   "source": [
    "H = listlist2mat([\n",
    "    [0, 0, 0, one, one, one, one],\n",
    "    [0, one, one, 0, 0, one, one],\n",
    "    [one, 0, one, 0, one, 0, one],\n",
    "])"
   ]
  },
  {
   "cell_type": "code",
   "execution_count": 64,
   "id": "hollow-lingerie",
   "metadata": {
    "execution": {
     "iopub.execute_input": "2021-02-17T15:57:54.642884Z",
     "iopub.status.busy": "2021-02-17T15:57:54.642652Z",
     "iopub.status.idle": "2021-02-17T15:57:54.668445Z",
     "shell.execute_reply": "2021-02-17T15:57:54.667744Z",
     "shell.execute_reply.started": "2021-02-17T15:57:54.642860Z"
    }
   },
   "outputs": [],
   "source": [
    "R = listlist2mat([\n",
    "    [0, 0, 0, 0, 0, 0, one],\n",
    "    [0, 0, 0, 0, 0, one, 0],\n",
    "    [0, 0, 0, 0, one, 0, 0],\n",
    "    [0, 0, one, 0, 0, 0, 0],\n",
    "])"
   ]
  },
  {
   "cell_type": "code",
   "execution_count": 65,
   "id": "nasty-thailand",
   "metadata": {
    "execution": {
     "iopub.execute_input": "2021-02-17T15:57:55.504287Z",
     "iopub.status.busy": "2021-02-17T15:57:55.504056Z",
     "iopub.status.idle": "2021-02-17T15:57:55.533792Z",
     "shell.execute_reply": "2021-02-17T15:57:55.533112Z",
     "shell.execute_reply.started": "2021-02-17T15:57:55.504262Z"
    }
   },
   "outputs": [
    {
     "data": {
      "text/plain": [
       "(4, 7)"
      ]
     },
     "execution_count": 65,
     "metadata": {},
     "output_type": "execute_result"
    }
   ],
   "source": [
    "R.shape"
   ]
  },
  {
   "cell_type": "code",
   "execution_count": 55,
   "id": "massive-adoption",
   "metadata": {
    "execution": {
     "iopub.execute_input": "2021-02-17T15:50:00.591481Z",
     "iopub.status.busy": "2021-02-17T15:50:00.591230Z",
     "iopub.status.idle": "2021-02-17T15:50:00.618820Z",
     "shell.execute_reply": "2021-02-17T15:50:00.618200Z",
     "shell.execute_reply.started": "2021-02-17T15:50:00.591453Z"
    }
   },
   "outputs": [
    {
     "data": {
      "text/plain": [
       "(7, 224)"
      ]
     },
     "execution_count": 55,
     "metadata": {},
     "output_type": "execute_result"
    }
   ],
   "source": [
    "C_tilde.shape"
   ]
  },
  {
   "cell_type": "code",
   "execution_count": 66,
   "id": "similar-reference",
   "metadata": {
    "execution": {
     "iopub.execute_input": "2021-02-17T15:58:12.069521Z",
     "iopub.status.busy": "2021-02-17T15:58:12.069282Z",
     "iopub.status.idle": "2021-02-17T15:58:12.109489Z",
     "shell.execute_reply": "2021-02-17T15:58:12.108780Z",
     "shell.execute_reply.started": "2021-02-17T15:58:12.069495Z"
    }
   },
   "outputs": [
    {
     "data": {
      "text/plain": [
       "'I\\x0fm trqifg to free\"your mind, Neo.`But I can ojly\\x02show\\x00xou tHe door, You\\'ra thE one ôhat has tO walk T(rough$it.'"
      ]
     },
     "execution_count": 66,
     "metadata": {},
     "output_type": "execute_result"
    }
   ],
   "source": [
    "bits2str(mat2bits(R * C_tilde))"
   ]
  },
  {
   "cell_type": "code",
   "execution_count": 103,
   "id": "separated-economics",
   "metadata": {
    "execution": {
     "iopub.execute_input": "2021-02-18T02:52:51.372102Z",
     "iopub.status.busy": "2021-02-18T02:52:51.371839Z",
     "iopub.status.idle": "2021-02-18T02:52:51.398869Z",
     "shell.execute_reply": "2021-02-18T02:52:51.398107Z",
     "shell.execute_reply.started": "2021-02-18T02:52:51.372073Z"
    }
   },
   "outputs": [],
   "source": [
    "from coding_the_matrix.hamming import correct"
   ]
  },
  {
   "cell_type": "code",
   "execution_count": 105,
   "id": "liable-channel",
   "metadata": {
    "execution": {
     "iopub.execute_input": "2021-02-18T02:53:11.226847Z",
     "iopub.status.busy": "2021-02-18T02:53:11.226588Z",
     "iopub.status.idle": "2021-02-18T02:53:11.289715Z",
     "shell.execute_reply": "2021-02-18T02:53:11.288985Z",
     "shell.execute_reply.started": "2021-02-18T02:53:11.226818Z"
    }
   },
   "outputs": [],
   "source": [
    "message_made = correct(C_tilde)"
   ]
  },
  {
   "cell_type": "code",
   "execution_count": 106,
   "id": "distributed-bahrain",
   "metadata": {
    "execution": {
     "iopub.execute_input": "2021-02-18T02:53:27.229998Z",
     "iopub.status.busy": "2021-02-18T02:53:27.229729Z",
     "iopub.status.idle": "2021-02-18T02:53:27.258937Z",
     "shell.execute_reply": "2021-02-18T02:53:27.258226Z",
     "shell.execute_reply.started": "2021-02-18T02:53:27.229967Z"
    }
   },
   "outputs": [
    {
     "data": {
      "text/plain": [
       "\"I'm trping to free your mind, Neo. But I can only show you tXe door. You're the one that has to walk through it.\""
      ]
     },
     "execution_count": 106,
     "metadata": {},
     "output_type": "execute_result"
    }
   ],
   "source": [
    "bits2str(mat2bits(message_made))"
   ]
  },
  {
   "cell_type": "code",
   "execution_count": 68,
   "id": "permanent-thanksgiving",
   "metadata": {
    "execution": {
     "iopub.execute_input": "2021-02-18T02:22:39.679525Z",
     "iopub.status.busy": "2021-02-18T02:22:39.679255Z",
     "iopub.status.idle": "2021-02-18T02:22:39.706062Z",
     "shell.execute_reply": "2021-02-18T02:22:39.705399Z",
     "shell.execute_reply.started": "2021-02-18T02:22:39.679492Z"
    }
   },
   "outputs": [],
   "source": [
    "A = C_tilde.copy()"
   ]
  },
  {
   "cell_type": "code",
   "execution_count": 72,
   "id": "comprehensive-master",
   "metadata": {
    "execution": {
     "iopub.execute_input": "2021-02-18T02:23:30.364432Z",
     "iopub.status.busy": "2021-02-18T02:23:30.364225Z",
     "iopub.status.idle": "2021-02-18T02:23:30.413086Z",
     "shell.execute_reply": "2021-02-18T02:23:30.412499Z",
     "shell.execute_reply.started": "2021-02-18T02:23:30.364410Z"
    }
   },
   "outputs": [],
   "source": [
    "from coding_the_matrix.hamming import find_error_matrix"
   ]
  },
  {
   "cell_type": "code",
   "execution_count": 75,
   "id": "moderate-hudson",
   "metadata": {
    "execution": {
     "iopub.execute_input": "2021-02-18T02:23:59.045192Z",
     "iopub.status.busy": "2021-02-18T02:23:59.044960Z",
     "iopub.status.idle": "2021-02-18T02:23:59.075989Z",
     "shell.execute_reply": "2021-02-18T02:23:59.075053Z",
     "shell.execute_reply.started": "2021-02-18T02:23:59.045166Z"
    }
   },
   "outputs": [
    {
     "data": {
      "text/plain": [
       "(7, 224)"
      ]
     },
     "execution_count": 75,
     "metadata": {},
     "output_type": "execute_result"
    }
   ],
   "source": [
    "A.shape"
   ]
  },
  {
   "cell_type": "code",
   "execution_count": null,
   "id": "young-graphic",
   "metadata": {},
   "outputs": [],
   "source": []
  },
  {
   "cell_type": "code",
   "execution_count": 82,
   "id": "played-inspector",
   "metadata": {
    "execution": {
     "iopub.execute_input": "2021-02-18T02:33:45.756076Z",
     "iopub.status.busy": "2021-02-18T02:33:45.755836Z",
     "iopub.status.idle": "2021-02-18T02:33:45.792101Z",
     "shell.execute_reply": "2021-02-18T02:33:45.791428Z",
     "shell.execute_reply.started": "2021-02-18T02:33:45.756050Z"
    }
   },
   "outputs": [],
   "source": [
    "decoded_matrix = H * A"
   ]
  },
  {
   "cell_type": "code",
   "execution_count": 84,
   "id": "minor-squad",
   "metadata": {
    "execution": {
     "iopub.execute_input": "2021-02-18T02:33:54.705340Z",
     "iopub.status.busy": "2021-02-18T02:33:54.705080Z",
     "iopub.status.idle": "2021-02-18T02:33:54.733058Z",
     "shell.execute_reply": "2021-02-18T02:33:54.732281Z",
     "shell.execute_reply.started": "2021-02-18T02:33:54.705311Z"
    }
   },
   "outputs": [
    {
     "data": {
      "text/plain": [
       "(3, 224)"
      ]
     },
     "execution_count": 84,
     "metadata": {},
     "output_type": "execute_result"
    }
   ],
   "source": [
    "decoded_matrix.shape"
   ]
  },
  {
   "cell_type": "code",
   "execution_count": 86,
   "id": "smoking-moscow",
   "metadata": {
    "execution": {
     "iopub.execute_input": "2021-02-18T02:34:02.733326Z",
     "iopub.status.busy": "2021-02-18T02:34:02.733062Z",
     "iopub.status.idle": "2021-02-18T02:34:02.771540Z",
     "shell.execute_reply": "2021-02-18T02:34:02.770895Z",
     "shell.execute_reply.started": "2021-02-18T02:34:02.733298Z"
    }
   },
   "outputs": [],
   "source": [
    "error_matrix = find_error_matrix(decoded_matrix)"
   ]
  },
  {
   "cell_type": "code",
   "execution_count": 87,
   "id": "august-broad",
   "metadata": {
    "execution": {
     "iopub.execute_input": "2021-02-18T02:34:08.035699Z",
     "iopub.status.busy": "2021-02-18T02:34:08.035455Z",
     "iopub.status.idle": "2021-02-18T02:34:08.063141Z",
     "shell.execute_reply": "2021-02-18T02:34:08.062476Z",
     "shell.execute_reply.started": "2021-02-18T02:34:08.035672Z"
    }
   },
   "outputs": [
    {
     "data": {
      "text/plain": [
       "(7, 224)"
      ]
     },
     "execution_count": 87,
     "metadata": {},
     "output_type": "execute_result"
    }
   ],
   "source": [
    "error_matrix.shape"
   ]
  },
  {
   "cell_type": "code",
   "execution_count": 93,
   "id": "endangered-integration",
   "metadata": {
    "execution": {
     "iopub.execute_input": "2021-02-18T02:38:53.257396Z",
     "iopub.status.busy": "2021-02-18T02:38:53.257146Z",
     "iopub.status.idle": "2021-02-18T02:38:53.334639Z",
     "shell.execute_reply": "2021-02-18T02:38:53.333752Z",
     "shell.execute_reply.started": "2021-02-18T02:38:53.257368Z"
    }
   },
   "outputs": [],
   "source": [
    "corrected_matrix = A - error_matrix"
   ]
  },
  {
   "cell_type": "code",
   "execution_count": 99,
   "id": "complete-copying",
   "metadata": {
    "execution": {
     "iopub.execute_input": "2021-02-18T02:39:53.122845Z",
     "iopub.status.busy": "2021-02-18T02:39:53.122574Z",
     "iopub.status.idle": "2021-02-18T02:39:53.161461Z",
     "shell.execute_reply": "2021-02-18T02:39:53.160822Z",
     "shell.execute_reply.started": "2021-02-18T02:39:53.122817Z"
    }
   },
   "outputs": [],
   "source": [
    "message_matrix = R * corrected_matrix"
   ]
  },
  {
   "cell_type": "code",
   "execution_count": 101,
   "id": "selected-scheduling",
   "metadata": {
    "execution": {
     "iopub.execute_input": "2021-02-18T02:40:02.879520Z",
     "iopub.status.busy": "2021-02-18T02:40:02.879241Z",
     "iopub.status.idle": "2021-02-18T02:40:02.907602Z",
     "shell.execute_reply": "2021-02-18T02:40:02.906955Z",
     "shell.execute_reply.started": "2021-02-18T02:40:02.879486Z"
    }
   },
   "outputs": [
    {
     "data": {
      "text/plain": [
       "\"I'm trping to free your mind, Neo. But I can only show you tXe door. You're the one that has to walk through it.\""
      ]
     },
     "execution_count": 101,
     "metadata": {},
     "output_type": "execute_result"
    }
   ],
   "source": [
    "bits2str(mat2bits(message_matrix))"
   ]
  },
  {
   "cell_type": "code",
   "execution_count": null,
   "id": "classified-seeking",
   "metadata": {},
   "outputs": [],
   "source": []
  },
  {
   "cell_type": "code",
   "execution_count": 95,
   "id": "returning-steps",
   "metadata": {
    "execution": {
     "iopub.execute_input": "2021-02-18T02:39:00.426239Z",
     "iopub.status.busy": "2021-02-18T02:39:00.425966Z",
     "iopub.status.idle": "2021-02-18T02:39:00.454925Z",
     "shell.execute_reply": "2021-02-18T02:39:00.454097Z",
     "shell.execute_reply.started": "2021-02-18T02:39:00.426209Z"
    }
   },
   "outputs": [
    {
     "name": "stdout",
     "output_type": "stream",
     "text": [
      "Ì\f",
      "^U\u0001T\u0019¼\n",
      "\u000fÀ3g´\u0019~\u0006Peðÿ\u0019@5©ðÒt\u0006P1ñÿ\u0014¯Â\u0003TÕ\u0019sFef\u001e",
      "\u0015@EËHgÿ\u0019M\u0005P©2R|\u0006\u000fP13\u0000Ux¶Ñf\u0000ÕFyfL<@\u0015Æ\u001ffÿ\u0019\u001e",
      "\u000fP1ñÿ\u0014\u000fPeð\u0007©t\u0006PefÿÙ¦ÂÓT\u0000\u0015SúIñx\n",
      "/\u0001T\u0019üa&\u0001Tÿ\u0019m&\u0001T\u0019üa¶eð\u0000Õa¶",
      "ñ\u0000U\u0006ÿ\u0001Txüræg\u0000U\u0006©ðÿ\u0014\u001d",
      "f\u0000\u0015sÁÓT\n"
     ]
    }
   ],
   "source": [
    "print(bits2str(mat2bits(corrected_matrix)))"
   ]
  },
  {
   "cell_type": "code",
   "execution_count": null,
   "id": "scenic-click",
   "metadata": {},
   "outputs": [],
   "source": [
    "A_tilda = A - "
   ]
  },
  {
   "cell_type": "code",
   "execution_count": null,
   "id": "controversial-nylon",
   "metadata": {},
   "outputs": [],
   "source": []
  },
  {
   "cell_type": "code",
   "execution_count": null,
   "id": "considerable-moment",
   "metadata": {},
   "outputs": [],
   "source": []
  },
  {
   "cell_type": "code",
   "execution_count": null,
   "id": "temporal-maximum",
   "metadata": {},
   "outputs": [],
   "source": []
  },
  {
   "cell_type": "code",
   "execution_count": 6,
   "id": "blind-carnival",
   "metadata": {
    "execution": {
     "iopub.execute_input": "2021-02-17T01:09:45.298719Z",
     "iopub.status.busy": "2021-02-17T01:09:45.298491Z",
     "iopub.status.idle": "2021-02-17T01:09:45.324984Z",
     "shell.execute_reply": "2021-02-17T01:09:45.324293Z",
     "shell.execute_reply.started": "2021-02-17T01:09:45.298693Z"
    }
   },
   "outputs": [],
   "source": [
    "message = list2vec([one, 0, 0, one])"
   ]
  },
  {
   "cell_type": "code",
   "execution_count": 11,
   "id": "animated-footwear",
   "metadata": {
    "execution": {
     "iopub.execute_input": "2021-02-17T01:16:24.181163Z",
     "iopub.status.busy": "2021-02-17T01:16:24.180923Z",
     "iopub.status.idle": "2021-02-17T01:16:24.208403Z",
     "shell.execute_reply": "2021-02-17T01:16:24.207515Z",
     "shell.execute_reply.started": "2021-02-17T01:16:24.181137Z"
    }
   },
   "outputs": [],
   "source": [
    "encoded = (G * message)"
   ]
  },
  {
   "cell_type": "code",
   "execution_count": 13,
   "id": "infectious-judgment",
   "metadata": {
    "execution": {
     "iopub.execute_input": "2021-02-17T01:16:31.571310Z",
     "iopub.status.busy": "2021-02-17T01:16:31.571058Z",
     "iopub.status.idle": "2021-02-17T01:16:31.611029Z",
     "shell.execute_reply": "2021-02-17T01:16:31.598263Z",
     "shell.execute_reply.started": "2021-02-17T01:16:31.571282Z"
    }
   },
   "outputs": [
    {
     "data": {
      "text/plain": [
       "dict_values([0, 0, 1, 1, 0, 0, 1])"
      ]
     },
     "execution_count": 13,
     "metadata": {},
     "output_type": "execute_result"
    }
   ],
   "source": [
    "encoded.f.values()"
   ]
  },
  {
   "cell_type": "code",
   "execution_count": 10,
   "id": "appreciated-entertainment",
   "metadata": {
    "execution": {
     "iopub.execute_input": "2021-02-17T01:10:52.622384Z",
     "iopub.status.busy": "2021-02-17T01:10:52.622154Z",
     "iopub.status.idle": "2021-02-17T01:10:52.650236Z",
     "shell.execute_reply": "2021-02-17T01:10:52.649388Z",
     "shell.execute_reply.started": "2021-02-17T01:10:52.622358Z"
    }
   },
   "outputs": [
    {
     "data": {
      "text/plain": [
       "dict_values([0, 1, 1, 1, 1, 0, 0])"
      ]
     },
     "execution_count": 10,
     "metadata": {},
     "output_type": "execute_result"
    }
   ],
   "source": [
    "(G * list2vec([0, 0, 1, 1])).f.values()"
   ]
  },
  {
   "cell_type": "code",
   "execution_count": 26,
   "id": "preceding-carrier",
   "metadata": {
    "execution": {
     "iopub.execute_input": "2021-02-17T01:18:35.656018Z",
     "iopub.status.busy": "2021-02-17T01:18:35.655779Z",
     "iopub.status.idle": "2021-02-17T01:18:35.682632Z",
     "shell.execute_reply": "2021-02-17T01:18:35.681652Z",
     "shell.execute_reply.started": "2021-02-17T01:18:35.655992Z"
    }
   },
   "outputs": [],
   "source": [
    "R = listlist2mat([\n",
    "    [0, 0, 0, 0, 0, 0, one],\n",
    "    [0, 0, 0, 0, 0, one, 0],\n",
    "    [0, 0, 0, 0, one, 0, 0],\n",
    "    [0, 0, one, 0, 0, 0, 0],\n",
    "])"
   ]
  },
  {
   "cell_type": "code",
   "execution_count": 27,
   "id": "facial-standard",
   "metadata": {
    "execution": {
     "iopub.execute_input": "2021-02-17T01:18:36.192311Z",
     "iopub.status.busy": "2021-02-17T01:18:36.192059Z",
     "iopub.status.idle": "2021-02-17T01:18:36.219485Z",
     "shell.execute_reply": "2021-02-17T01:18:36.218777Z",
     "shell.execute_reply.started": "2021-02-17T01:18:36.192283Z"
    }
   },
   "outputs": [
    {
     "data": {
      "text/plain": [
       "Vec(self.D, {2: 1, 3: 1, 6: 1})"
      ]
     },
     "execution_count": 27,
     "metadata": {},
     "output_type": "execute_result"
    }
   ],
   "source": [
    "encoded"
   ]
  },
  {
   "cell_type": "code",
   "execution_count": 28,
   "id": "independent-philip",
   "metadata": {
    "execution": {
     "iopub.execute_input": "2021-02-17T01:18:36.331865Z",
     "iopub.status.busy": "2021-02-17T01:18:36.331618Z",
     "iopub.status.idle": "2021-02-17T01:18:36.358920Z",
     "shell.execute_reply": "2021-02-17T01:18:36.357988Z",
     "shell.execute_reply.started": "2021-02-17T01:18:36.331839Z"
    }
   },
   "outputs": [
    {
     "data": {
      "text/plain": [
       "Vec(self.D, {0: 1, 3: 1})"
      ]
     },
     "execution_count": 28,
     "metadata": {},
     "output_type": "execute_result"
    }
   ],
   "source": [
    "message"
   ]
  },
  {
   "cell_type": "code",
   "execution_count": 29,
   "id": "approved-alpha",
   "metadata": {
    "execution": {
     "iopub.execute_input": "2021-02-17T01:18:36.483890Z",
     "iopub.status.busy": "2021-02-17T01:18:36.483648Z",
     "iopub.status.idle": "2021-02-17T01:18:36.510638Z",
     "shell.execute_reply": "2021-02-17T01:18:36.509838Z",
     "shell.execute_reply.started": "2021-02-17T01:18:36.483864Z"
    }
   },
   "outputs": [
    {
     "data": {
      "text/plain": [
       "Vec(self.D, {0: 1, 3: 1})"
      ]
     },
     "execution_count": 29,
     "metadata": {},
     "output_type": "execute_result"
    }
   ],
   "source": [
    "R * encoded"
   ]
  },
  {
   "cell_type": "code",
   "execution_count": 32,
   "id": "constitutional-duration",
   "metadata": {
    "execution": {
     "iopub.execute_input": "2021-02-17T01:48:09.588434Z",
     "iopub.status.busy": "2021-02-17T01:48:09.588191Z",
     "iopub.status.idle": "2021-02-17T01:48:09.628447Z",
     "shell.execute_reply": "2021-02-17T01:48:09.627814Z",
     "shell.execute_reply.started": "2021-02-17T01:48:09.588407Z"
    }
   },
   "outputs": [
    {
     "name": "stdout",
     "output_type": "stream",
     "text": [
      "   0  1  2  3\n",
      "0  1  0  0  0\n",
      "1  0  1  0  0\n",
      "2  0  0  1  0\n",
      "3  0  0  0  1\n"
     ]
    }
   ],
   "source": [
    "print(R*G)"
   ]
  },
  {
   "cell_type": "code",
   "execution_count": 73,
   "id": "changing-flour",
   "metadata": {
    "execution": {
     "iopub.execute_input": "2021-02-17T02:26:38.204974Z",
     "iopub.status.busy": "2021-02-17T02:26:38.204695Z",
     "iopub.status.idle": "2021-02-17T02:26:38.231379Z",
     "shell.execute_reply": "2021-02-17T02:26:38.230600Z",
     "shell.execute_reply.started": "2021-02-17T02:26:38.204942Z"
    }
   },
   "outputs": [],
   "source": [
    "H = listlist2mat([\n",
    "    [0, 0, 0, one, one, one, one],\n",
    "    [0, one, one, 0, 0, one, one],\n",
    "    [one, 0, one, 0, one, 0, one],\n",
    "])"
   ]
  },
  {
   "cell_type": "code",
   "execution_count": 74,
   "id": "marked-south",
   "metadata": {
    "execution": {
     "iopub.execute_input": "2021-02-17T02:26:40.233049Z",
     "iopub.status.busy": "2021-02-17T02:26:40.232808Z",
     "iopub.status.idle": "2021-02-17T02:26:40.262185Z",
     "shell.execute_reply": "2021-02-17T02:26:40.261272Z",
     "shell.execute_reply.started": "2021-02-17T02:26:40.233022Z"
    }
   },
   "outputs": [
    {
     "name": "stdout",
     "output_type": "stream",
     "text": [
      "   0  1  2  3\n",
      "0  0  0  0  0\n",
      "1  0  0  0  0\n",
      "2  0  0  0  0\n"
     ]
    }
   ],
   "source": [
    "print(H * G)"
   ]
  },
  {
   "cell_type": "code",
   "execution_count": 40,
   "id": "studied-arctic",
   "metadata": {
    "execution": {
     "iopub.execute_input": "2021-02-17T01:52:46.403584Z",
     "iopub.status.busy": "2021-02-17T01:52:46.403342Z",
     "iopub.status.idle": "2021-02-17T01:52:46.429327Z",
     "shell.execute_reply": "2021-02-17T01:52:46.428389Z",
     "shell.execute_reply.started": "2021-02-17T01:52:46.403558Z"
    }
   },
   "outputs": [],
   "source": [
    "e = list2vec([0, 0, 0, 0, 0, 0, 1])"
   ]
  },
  {
   "cell_type": "code",
   "execution_count": 42,
   "id": "everyday-oriental",
   "metadata": {
    "execution": {
     "iopub.execute_input": "2021-02-17T01:59:06.094144Z",
     "iopub.status.busy": "2021-02-17T01:59:06.093946Z",
     "iopub.status.idle": "2021-02-17T01:59:06.135750Z",
     "shell.execute_reply": "2021-02-17T01:59:06.135058Z",
     "shell.execute_reply.started": "2021-02-17T01:59:06.094123Z"
    }
   },
   "outputs": [],
   "source": [
    "zeros = [0 for i in range(7)]"
   ]
  },
  {
   "cell_type": "code",
   "execution_count": 45,
   "id": "gorgeous-helicopter",
   "metadata": {
    "execution": {
     "iopub.execute_input": "2021-02-17T01:59:48.030456Z",
     "iopub.status.busy": "2021-02-17T01:59:48.030186Z",
     "iopub.status.idle": "2021-02-17T01:59:48.061259Z",
     "shell.execute_reply": "2021-02-17T01:59:48.060512Z",
     "shell.execute_reply.started": "2021-02-17T01:59:48.030423Z"
    }
   },
   "outputs": [],
   "source": [
    "E = []\n",
    "for i in range(7):\n",
    "    zeros = [0 for i in range(7)]\n",
    "    zeros[i] = 1\n",
    "    E.append(zeros.copy())"
   ]
  },
  {
   "cell_type": "code",
   "execution_count": 49,
   "id": "greatest-conflict",
   "metadata": {
    "execution": {
     "iopub.execute_input": "2021-02-17T02:00:20.501380Z",
     "iopub.status.busy": "2021-02-17T02:00:20.501147Z",
     "iopub.status.idle": "2021-02-17T02:00:20.554405Z",
     "shell.execute_reply": "2021-02-17T02:00:20.553865Z",
     "shell.execute_reply.started": "2021-02-17T02:00:20.501357Z"
    }
   },
   "outputs": [
    {
     "name": "stdout",
     "output_type": "stream",
     "text": [
      "   0  1  2  3  4  5  6\n",
      "0  0  0  0  1  1  1  1\n",
      "1  0  1  1  0  0  1  1\n",
      "2  1  0  1  0  1  0  1\n"
     ]
    }
   ],
   "source": [
    "print(H * listlist2mat(E))"
   ]
  },
  {
   "cell_type": "code",
   "execution_count": 105,
   "id": "narrative-boating",
   "metadata": {
    "execution": {
     "iopub.execute_input": "2021-02-17T02:45:53.074460Z",
     "iopub.status.busy": "2021-02-17T02:45:53.074192Z",
     "iopub.status.idle": "2021-02-17T02:45:53.101761Z",
     "shell.execute_reply": "2021-02-17T02:45:53.100970Z",
     "shell.execute_reply.started": "2021-02-17T02:45:53.074431Z"
    }
   },
   "outputs": [],
   "source": [
    "def find_error(error_syndrome):\n",
    "    coldict = mat2coldict(H)\n",
    "    for i, col in coldict.items():\n",
    "        if error_syndrome == col:\n",
    "            zeros = [0 for i in range(7)]\n",
    "            zeros[i] = one\n",
    "            return list2vec(zeros)"
   ]
  },
  {
   "cell_type": "code",
   "execution_count": 41,
   "id": "australian-insured",
   "metadata": {
    "execution": {
     "iopub.execute_input": "2021-02-17T01:52:46.755858Z",
     "iopub.status.busy": "2021-02-17T01:52:46.755626Z",
     "iopub.status.idle": "2021-02-17T01:52:46.782594Z",
     "shell.execute_reply": "2021-02-17T01:52:46.781821Z",
     "shell.execute_reply.started": "2021-02-17T01:52:46.755832Z"
    }
   },
   "outputs": [
    {
     "data": {
      "text/plain": [
       "Vec(self.D, {0: 1, 1: 1, 2: 1})"
      ]
     },
     "execution_count": 41,
     "metadata": {},
     "output_type": "execute_result"
    }
   ],
   "source": [
    "H * e"
   ]
  },
  {
   "cell_type": "code",
   "execution_count": 86,
   "id": "nominated-cargo",
   "metadata": {
    "execution": {
     "iopub.execute_input": "2021-02-17T02:31:01.848800Z",
     "iopub.status.busy": "2021-02-17T02:31:01.848552Z",
     "iopub.status.idle": "2021-02-17T02:31:01.920219Z",
     "shell.execute_reply": "2021-02-17T02:31:01.919046Z",
     "shell.execute_reply.started": "2021-02-17T02:31:01.848773Z"
    }
   },
   "outputs": [],
   "source": [
    "message = list2vec([one, 0, one, one, 0, one, one])"
   ]
  },
  {
   "cell_type": "code",
   "execution_count": 87,
   "id": "satisfactory-treat",
   "metadata": {
    "execution": {
     "iopub.execute_input": "2021-02-17T02:31:02.030425Z",
     "iopub.status.busy": "2021-02-17T02:31:02.030184Z",
     "iopub.status.idle": "2021-02-17T02:31:02.057769Z",
     "shell.execute_reply": "2021-02-17T02:31:02.056908Z",
     "shell.execute_reply.started": "2021-02-17T02:31:02.030398Z"
    }
   },
   "outputs": [
    {
     "data": {
      "text/plain": [
       "7"
      ]
     },
     "execution_count": 87,
     "metadata": {},
     "output_type": "execute_result"
    }
   ],
   "source": [
    "len(message)"
   ]
  },
  {
   "cell_type": "code",
   "execution_count": 91,
   "id": "dependent-officer",
   "metadata": {
    "execution": {
     "iopub.execute_input": "2021-02-17T02:33:59.058436Z",
     "iopub.status.busy": "2021-02-17T02:33:59.058193Z",
     "iopub.status.idle": "2021-02-17T02:33:59.129970Z",
     "shell.execute_reply": "2021-02-17T02:33:59.129117Z",
     "shell.execute_reply.started": "2021-02-17T02:33:59.058409Z"
    }
   },
   "outputs": [],
   "source": [
    "error_syndrome = H * message"
   ]
  },
  {
   "cell_type": "code",
   "execution_count": 137,
   "id": "collect-worker",
   "metadata": {
    "execution": {
     "iopub.execute_input": "2021-02-17T03:30:01.365458Z",
     "iopub.status.busy": "2021-02-17T03:30:01.365208Z",
     "iopub.status.idle": "2021-02-17T03:30:01.392897Z",
     "shell.execute_reply": "2021-02-17T03:30:01.391932Z",
     "shell.execute_reply.started": "2021-02-17T03:30:01.365430Z"
    }
   },
   "outputs": [
    {
     "data": {
      "text/plain": [
       "Vec(self.D, {0: 1, 1: 1, 2: 1})"
      ]
     },
     "execution_count": 137,
     "metadata": {},
     "output_type": "execute_result"
    }
   ],
   "source": [
    "error_syndrome"
   ]
  },
  {
   "cell_type": "code",
   "execution_count": 99,
   "id": "adjusted-coach",
   "metadata": {
    "execution": {
     "iopub.execute_input": "2021-02-17T02:44:43.038567Z",
     "iopub.status.busy": "2021-02-17T02:44:43.038299Z",
     "iopub.status.idle": "2021-02-17T02:44:43.066606Z",
     "shell.execute_reply": "2021-02-17T02:44:43.065827Z",
     "shell.execute_reply.started": "2021-02-17T02:44:43.038537Z"
    }
   },
   "outputs": [
    {
     "data": {
      "text/plain": [
       "Mat(({0, 1, 2}, {0, 1, 2, 3, 4, 5, 6}), {(0, 0): 0, (0, 1): 0, (0, 2): 0, (0, 3): 1, (0, 4): 1, (0, 5): 1, (0, 6): 1, (1, 0): 0, (1, 1): 1, (1, 2): 1, (1, 3): 0, (1, 4): 0, (1, 5): 1, (1, 6): 1, (2, 0): 1, (2, 1): 0, (2, 2): 1, (2, 3): 0, (2, 4): 1, (2, 5): 0, (2, 6): 1})"
      ]
     },
     "execution_count": 99,
     "metadata": {},
     "output_type": "execute_result"
    }
   ],
   "source": [
    "H"
   ]
  },
  {
   "cell_type": "code",
   "execution_count": 106,
   "id": "signed-crime",
   "metadata": {
    "execution": {
     "iopub.execute_input": "2021-02-17T02:45:55.167764Z",
     "iopub.status.busy": "2021-02-17T02:45:55.167524Z",
     "iopub.status.idle": "2021-02-17T02:45:55.195125Z",
     "shell.execute_reply": "2021-02-17T02:45:55.194355Z",
     "shell.execute_reply.started": "2021-02-17T02:45:55.167737Z"
    }
   },
   "outputs": [
    {
     "data": {
      "text/plain": [
       "Vec(self.D, {6: 1})"
      ]
     },
     "execution_count": 106,
     "metadata": {},
     "output_type": "execute_result"
    }
   ],
   "source": [
    "e = find_error(error_syndrome)\n",
    "e"
   ]
  },
  {
   "cell_type": "code",
   "execution_count": 108,
   "id": "laden-mandate",
   "metadata": {
    "execution": {
     "iopub.execute_input": "2021-02-17T02:46:01.213879Z",
     "iopub.status.busy": "2021-02-17T02:46:01.213638Z",
     "iopub.status.idle": "2021-02-17T02:46:01.240719Z",
     "shell.execute_reply": "2021-02-17T02:46:01.240024Z",
     "shell.execute_reply.started": "2021-02-17T02:46:01.213852Z"
    }
   },
   "outputs": [],
   "source": [
    "clean_message = message + e"
   ]
  },
  {
   "cell_type": "code",
   "execution_count": 110,
   "id": "surprised-curtis",
   "metadata": {
    "execution": {
     "iopub.execute_input": "2021-02-17T02:46:23.211963Z",
     "iopub.status.busy": "2021-02-17T02:46:23.211713Z",
     "iopub.status.idle": "2021-02-17T02:46:23.242663Z",
     "shell.execute_reply": "2021-02-17T02:46:23.241890Z",
     "shell.execute_reply.started": "2021-02-17T02:46:23.211935Z"
    }
   },
   "outputs": [
    {
     "name": "stdout",
     "output_type": "stream",
     "text": [
      "0 1 2 3\n",
      "0 1 0 1\n"
     ]
    }
   ],
   "source": [
    "print(R * clean_message)"
   ]
  },
  {
   "cell_type": "code",
   "execution_count": 136,
   "id": "clean-persian",
   "metadata": {
    "execution": {
     "iopub.execute_input": "2021-02-17T03:29:54.653727Z",
     "iopub.status.busy": "2021-02-17T03:29:54.653499Z",
     "iopub.status.idle": "2021-02-17T03:29:54.679332Z",
     "shell.execute_reply": "2021-02-17T03:29:54.678478Z",
     "shell.execute_reply.started": "2021-02-17T03:29:54.653702Z"
    }
   },
   "outputs": [],
   "source": [
    "def find_error_matrix(S):\n",
    "    \"\"\"\n",
    "    Args:\n",
    "        S: columns are error syndromes\n",
    "    Returns:\n",
    "        a matrix whose column is the error coressponding to the column of S\n",
    "    \"\"\"\n",
    "    coldict = mat2coldict(S)\n",
    "    errors = {k: find_error(v) for k, v in coldict.items()}\n",
    "    return coldict2mat(errors)"
   ]
  },
  {
   "cell_type": "code",
   "execution_count": 151,
   "id": "fifty-necklace",
   "metadata": {
    "execution": {
     "iopub.execute_input": "2021-02-17T03:31:48.030148Z",
     "iopub.status.busy": "2021-02-17T03:31:48.029887Z",
     "iopub.status.idle": "2021-02-17T03:31:48.061669Z",
     "shell.execute_reply": "2021-02-17T03:31:48.060952Z",
     "shell.execute_reply.started": "2021-02-17T03:31:48.030120Z"
    }
   },
   "outputs": [],
   "source": [
    "M = listlist2mat(\n",
    "    [\n",
    "        [\n",
    "            one,\n",
    "            one,\n",
    "            one,\n",
    "        ],\n",
    "        [0, 0, one],\n",
    "    ]\n",
    ").transpose()"
   ]
  },
  {
   "cell_type": "code",
   "execution_count": 144,
   "id": "billion-settlement",
   "metadata": {
    "execution": {
     "iopub.execute_input": "2021-02-17T03:31:14.721103Z",
     "iopub.status.busy": "2021-02-17T03:31:14.720851Z",
     "iopub.status.idle": "2021-02-17T03:31:14.750739Z",
     "shell.execute_reply": "2021-02-17T03:31:14.749720Z",
     "shell.execute_reply.started": "2021-02-17T03:31:14.721075Z"
    }
   },
   "outputs": [
    {
     "name": "stdout",
     "output_type": "stream",
     "text": [
      "   0  1\n",
      "0  1  0\n",
      "1  1  0\n",
      "2  1  1\n"
     ]
    }
   ],
   "source": [
    "print(M)"
   ]
  },
  {
   "cell_type": "code",
   "execution_count": 145,
   "id": "elementary-eligibility",
   "metadata": {
    "execution": {
     "iopub.execute_input": "2021-02-17T03:31:15.071114Z",
     "iopub.status.busy": "2021-02-17T03:31:15.070884Z",
     "iopub.status.idle": "2021-02-17T03:31:15.097166Z",
     "shell.execute_reply": "2021-02-17T03:31:15.096299Z",
     "shell.execute_reply.started": "2021-02-17T03:31:15.071088Z"
    }
   },
   "outputs": [],
   "source": [
    "coldict = mat2coldict(M)"
   ]
  },
  {
   "cell_type": "code",
   "execution_count": 149,
   "id": "public-catholic",
   "metadata": {
    "execution": {
     "iopub.execute_input": "2021-02-17T03:31:28.966781Z",
     "iopub.status.busy": "2021-02-17T03:31:28.966543Z",
     "iopub.status.idle": "2021-02-17T03:31:28.993022Z",
     "shell.execute_reply": "2021-02-17T03:31:28.992164Z",
     "shell.execute_reply.started": "2021-02-17T03:31:28.966755Z"
    }
   },
   "outputs": [],
   "source": [
    "EM = find_error_matrix(M)"
   ]
  },
  {
   "cell_type": "code",
   "execution_count": 150,
   "id": "statistical-gathering",
   "metadata": {
    "execution": {
     "iopub.execute_input": "2021-02-17T03:31:30.901241Z",
     "iopub.status.busy": "2021-02-17T03:31:30.900959Z",
     "iopub.status.idle": "2021-02-17T03:31:30.930771Z",
     "shell.execute_reply": "2021-02-17T03:31:30.930054Z",
     "shell.execute_reply.started": "2021-02-17T03:31:30.901211Z"
    }
   },
   "outputs": [
    {
     "name": "stdout",
     "output_type": "stream",
     "text": [
      "   0  1\n",
      "0  0  1\n",
      "1  0  0\n",
      "2  0  0\n",
      "3  0  0\n",
      "4  0  0\n",
      "5  0  0\n",
      "6  1  0\n"
     ]
    }
   ],
   "source": [
    "print(EM)"
   ]
  },
  {
   "cell_type": "code",
   "execution_count": null,
   "id": "treated-straight",
   "metadata": {},
   "outputs": [],
   "source": []
  },
  {
   "cell_type": "code",
   "execution_count": null,
   "id": "elect-cover",
   "metadata": {},
   "outputs": [],
   "source": []
  },
  {
   "cell_type": "code",
   "execution_count": null,
   "id": "dying-modem",
   "metadata": {},
   "outputs": [],
   "source": []
  },
  {
   "cell_type": "code",
   "execution_count": null,
   "id": "equivalent-cinema",
   "metadata": {},
   "outputs": [],
   "source": []
  },
  {
   "cell_type": "code",
   "execution_count": null,
   "id": "purple-proxy",
   "metadata": {},
   "outputs": [],
   "source": []
  },
  {
   "cell_type": "code",
   "execution_count": 22,
   "id": "compact-picture",
   "metadata": {
    "execution": {
     "iopub.execute_input": "2021-02-14T03:42:22.094271Z",
     "iopub.status.busy": "2021-02-14T03:42:22.094026Z",
     "iopub.status.idle": "2021-02-14T03:42:22.147276Z",
     "shell.execute_reply": "2021-02-14T03:42:22.146490Z",
     "shell.execute_reply.started": "2021-02-14T03:42:22.094244Z"
    }
   },
   "outputs": [],
   "source": [
    "A = Mat(\n",
    "    (\n",
    "        {'a', 'b', 'c'}, {'#', '@', '?'}\n",
    "    ),\n",
    "    {\n",
    "        ('a', '#'): 2,\n",
    "        ('a', '?'): 3,\n",
    "        ('b', '@'): 10,\n",
    "        ('b', '#'): 20,\n",
    "        ('b', '?'): 30,\n",
    "        ('c', '#'): 35,\n",
    "    }\n",
    ")"
   ]
  },
  {
   "cell_type": "code",
   "execution_count": 23,
   "id": "assigned-upset",
   "metadata": {
    "execution": {
     "iopub.execute_input": "2021-02-14T03:42:22.250859Z",
     "iopub.status.busy": "2021-02-14T03:42:22.250621Z",
     "iopub.status.idle": "2021-02-14T03:42:22.278332Z",
     "shell.execute_reply": "2021-02-14T03:42:22.277667Z",
     "shell.execute_reply.started": "2021-02-14T03:42:22.250832Z"
    }
   },
   "outputs": [
    {
     "name": "stdout",
     "output_type": "stream",
     "text": [
      "    #   ?   @\n",
      "a   2   3   0\n",
      "c  35   0   0\n",
      "b  20  30  10\n"
     ]
    }
   ],
   "source": [
    "print(A)"
   ]
  },
  {
   "cell_type": "code",
   "execution_count": 24,
   "id": "incident-listing",
   "metadata": {
    "execution": {
     "iopub.execute_input": "2021-02-14T03:42:22.835227Z",
     "iopub.status.busy": "2021-02-14T03:42:22.834990Z",
     "iopub.status.idle": "2021-02-14T03:42:22.877000Z",
     "shell.execute_reply": "2021-02-14T03:42:22.876322Z",
     "shell.execute_reply.started": "2021-02-14T03:42:22.835201Z"
    }
   },
   "outputs": [
    {
     "data": {
      "text/html": [
       "<div>\n",
       "<style scoped>\n",
       "    .dataframe tbody tr th:only-of-type {\n",
       "        vertical-align: middle;\n",
       "    }\n",
       "\n",
       "    .dataframe tbody tr th {\n",
       "        vertical-align: top;\n",
       "    }\n",
       "\n",
       "    .dataframe thead th {\n",
       "        text-align: right;\n",
       "    }\n",
       "</style>\n",
       "<table border=\"1\" class=\"dataframe\">\n",
       "  <thead>\n",
       "    <tr style=\"text-align: right;\">\n",
       "      <th></th>\n",
       "      <th>@</th>\n",
       "      <th>?</th>\n",
       "      <th>#</th>\n",
       "    </tr>\n",
       "  </thead>\n",
       "  <tbody>\n",
       "    <tr>\n",
       "      <th>b</th>\n",
       "      <td>10</td>\n",
       "      <td>30</td>\n",
       "      <td>20</td>\n",
       "    </tr>\n",
       "    <tr>\n",
       "      <th>a</th>\n",
       "      <td>0</td>\n",
       "      <td>3</td>\n",
       "      <td>2</td>\n",
       "    </tr>\n",
       "    <tr>\n",
       "      <th>c</th>\n",
       "      <td>0</td>\n",
       "      <td>0</td>\n",
       "      <td>35</td>\n",
       "    </tr>\n",
       "  </tbody>\n",
       "</table>\n",
       "</div>"
      ],
      "text/plain": [
       "    @   ?   #\n",
       "b  10  30  20\n",
       "a   0   3   2\n",
       "c   0   0  35"
      ]
     },
     "execution_count": 24,
     "metadata": {},
     "output_type": "execute_result"
    }
   ],
   "source": [
    "A.pprint(['b', 'a', 'c'], ['@', '?', '#'])"
   ]
  },
  {
   "cell_type": "code",
   "execution_count": 88,
   "id": "timely-rouge",
   "metadata": {
    "execution": {
     "iopub.execute_input": "2021-02-14T11:16:58.909711Z",
     "iopub.status.busy": "2021-02-14T11:16:58.909485Z",
     "iopub.status.idle": "2021-02-14T11:16:58.937116Z",
     "shell.execute_reply": "2021-02-14T11:16:58.936338Z",
     "shell.execute_reply.started": "2021-02-14T11:16:58.909686Z"
    }
   },
   "outputs": [],
   "source": [
    "def is_triangular(M):\n",
    "    R_orig, C_orig = M.D\n",
    "    # for a certain R -> C mapping\n",
    "    for R, C in tqdm(itertools.product(itertools.permutations(R_orig), itertools.permutations(C_orig))):\n",
    "        # if f == 0 for all j > i, return True\n",
    "        if all(\n",
    "            [\n",
    "                M[(R[i], C[j])] == 0\n",
    "                for (i, j) in itertools.product(range(len(R)), range(len(C)))\n",
    "                if i > j\n",
    "            ]\n",
    "        ):\n",
    "            return True, R, C\n",
    "    return False, None, None"
   ]
  },
  {
   "cell_type": "code",
   "execution_count": 89,
   "id": "musical-pottery",
   "metadata": {
    "execution": {
     "iopub.execute_input": "2021-02-14T11:17:05.753910Z",
     "iopub.status.busy": "2021-02-14T11:17:05.753630Z",
     "iopub.status.idle": "2021-02-14T11:17:05.784076Z",
     "shell.execute_reply": "2021-02-14T11:17:05.783486Z",
     "shell.execute_reply.started": "2021-02-14T11:17:05.753880Z"
    }
   },
   "outputs": [
    {
     "name": "stderr",
     "output_type": "stream",
     "text": [
      "29it [00:00, 137440.47it/s]\n"
     ]
    },
    {
     "data": {
      "text/plain": [
       "(True, ('b', 'a', 'c'), ('@', '?', '#'))"
      ]
     },
     "execution_count": 89,
     "metadata": {},
     "output_type": "execute_result"
    }
   ],
   "source": [
    "is_triangular(M)"
   ]
  },
  {
   "cell_type": "code",
   "execution_count": 85,
   "id": "second-tucson",
   "metadata": {
    "execution": {
     "iopub.execute_input": "2021-02-14T11:09:56.905235Z",
     "iopub.status.busy": "2021-02-14T11:09:56.904994Z",
     "iopub.status.idle": "2021-02-14T11:09:56.931629Z",
     "shell.execute_reply": "2021-02-14T11:09:56.930699Z",
     "shell.execute_reply.started": "2021-02-14T11:09:56.905209Z"
    }
   },
   "outputs": [],
   "source": [
    "C = ['@', '?', '#'] \n",
    "C = ['?', '@', '#']"
   ]
  },
  {
   "cell_type": "code",
   "execution_count": 86,
   "id": "sensitive-dealing",
   "metadata": {
    "execution": {
     "iopub.execute_input": "2021-02-14T11:09:57.113389Z",
     "iopub.status.busy": "2021-02-14T11:09:57.113158Z",
     "iopub.status.idle": "2021-02-14T11:09:57.139489Z",
     "shell.execute_reply": "2021-02-14T11:09:57.138785Z",
     "shell.execute_reply.started": "2021-02-14T11:09:57.113363Z"
    }
   },
   "outputs": [],
   "source": [
    "R = ['b', 'a', 'c']\n",
    "R = ['a', 'b', 'c']"
   ]
  },
  {
   "cell_type": "code",
   "execution_count": 87,
   "id": "fresh-shield",
   "metadata": {
    "execution": {
     "iopub.execute_input": "2021-02-14T11:09:57.543545Z",
     "iopub.status.busy": "2021-02-14T11:09:57.543298Z",
     "iopub.status.idle": "2021-02-14T11:09:57.572546Z",
     "shell.execute_reply": "2021-02-14T11:09:57.571643Z",
     "shell.execute_reply.started": "2021-02-14T11:09:57.543518Z"
    }
   },
   "outputs": [
    {
     "data": {
      "text/plain": [
       "False"
      ]
     },
     "execution_count": 87,
     "metadata": {},
     "output_type": "execute_result"
    }
   ],
   "source": [
    "all([M[(R[i], C[j])] == 0 for (i, j) in itertools.product(range(len(R)), range(len(C))) if i > j])"
   ]
  },
  {
   "cell_type": "code",
   "execution_count": 84,
   "id": "sexual-navigation",
   "metadata": {
    "execution": {
     "iopub.execute_input": "2021-02-14T11:09:32.957325Z",
     "iopub.status.busy": "2021-02-14T11:09:32.957064Z",
     "iopub.status.idle": "2021-02-14T11:09:32.985771Z",
     "shell.execute_reply": "2021-02-14T11:09:32.984951Z",
     "shell.execute_reply.started": "2021-02-14T11:09:32.957297Z"
    }
   },
   "outputs": [
    {
     "data": {
      "text/plain": [
       "[('@', '?', '#'),\n",
       " ('@', '#', '?'),\n",
       " ('?', '@', '#'),\n",
       " ('?', '#', '@'),\n",
       " ('#', '@', '?'),\n",
       " ('#', '?', '@')]"
      ]
     },
     "execution_count": 84,
     "metadata": {},
     "output_type": "execute_result"
    }
   ],
   "source": [
    "[c for c in itertools.permutations(C)]"
   ]
  },
  {
   "cell_type": "code",
   "execution_count": 65,
   "id": "dressed-surprise",
   "metadata": {
    "execution": {
     "iopub.execute_input": "2021-02-14T11:04:40.318042Z",
     "iopub.status.busy": "2021-02-14T11:04:40.317806Z",
     "iopub.status.idle": "2021-02-14T11:04:40.343505Z",
     "shell.execute_reply": "2021-02-14T11:04:40.342830Z",
     "shell.execute_reply.started": "2021-02-14T11:04:40.318016Z"
    }
   },
   "outputs": [],
   "source": []
  },
  {
   "cell_type": "code",
   "execution_count": 66,
   "id": "smart-literacy",
   "metadata": {
    "execution": {
     "iopub.execute_input": "2021-02-14T11:04:40.498448Z",
     "iopub.status.busy": "2021-02-14T11:04:40.498244Z",
     "iopub.status.idle": "2021-02-14T11:04:40.521186Z",
     "shell.execute_reply": "2021-02-14T11:04:40.520557Z",
     "shell.execute_reply.started": "2021-02-14T11:04:40.498427Z"
    }
   },
   "outputs": [
    {
     "data": {
      "text/plain": [
       "Mat(({'a', 'c', 'b'}, {'#', '?', '@'}), {('a', '#'): 2, ('a', '?'): 3, ('b', '@'): 10, ('b', '#'): 20, ('b', '?'): 30, ('c', '#'): 35})"
      ]
     },
     "execution_count": 66,
     "metadata": {},
     "output_type": "execute_result"
    }
   ],
   "source": [
    "M"
   ]
  },
  {
   "cell_type": "code",
   "execution_count": 67,
   "id": "involved-family",
   "metadata": {
    "execution": {
     "iopub.execute_input": "2021-02-14T11:04:40.744759Z",
     "iopub.status.busy": "2021-02-14T11:04:40.744507Z",
     "iopub.status.idle": "2021-02-14T11:04:40.819647Z",
     "shell.execute_reply": "2021-02-14T11:04:40.818791Z",
     "shell.execute_reply.started": "2021-02-14T11:04:40.744732Z"
    }
   },
   "outputs": [
    {
     "name": "stderr",
     "output_type": "stream",
     "text": [
      "6it [00:00, 12342.24it/s]\n"
     ]
    },
    {
     "data": {
      "text/plain": [
       "(False, None, None)"
      ]
     },
     "execution_count": 67,
     "metadata": {},
     "output_type": "execute_result"
    }
   ],
   "source": [
    "is_triangular(M)"
   ]
  },
  {
   "cell_type": "code",
   "execution_count": 30,
   "id": "pointed-british",
   "metadata": {
    "execution": {
     "iopub.execute_input": "2021-02-14T10:53:08.969571Z",
     "iopub.status.busy": "2021-02-14T10:53:08.969325Z",
     "iopub.status.idle": "2021-02-14T10:53:08.996016Z",
     "shell.execute_reply": "2021-02-14T10:53:08.995311Z",
     "shell.execute_reply.started": "2021-02-14T10:53:08.969544Z"
    }
   },
   "outputs": [],
   "source": [
    "M = A.copy()"
   ]
  },
  {
   "cell_type": "code",
   "execution_count": 31,
   "id": "delayed-music",
   "metadata": {
    "execution": {
     "iopub.execute_input": "2021-02-14T10:53:10.924685Z",
     "iopub.status.busy": "2021-02-14T10:53:10.924442Z",
     "iopub.status.idle": "2021-02-14T10:53:10.950513Z",
     "shell.execute_reply": "2021-02-14T10:53:10.949884Z",
     "shell.execute_reply.started": "2021-02-14T10:53:10.924658Z"
    }
   },
   "outputs": [],
   "source": [
    "R, C = M.D"
   ]
  },
  {
   "cell_type": "code",
   "execution_count": 34,
   "id": "unauthorized-least",
   "metadata": {
    "execution": {
     "iopub.execute_input": "2021-02-14T10:53:26.654576Z",
     "iopub.status.busy": "2021-02-14T10:53:26.654326Z",
     "iopub.status.idle": "2021-02-14T10:53:26.681110Z",
     "shell.execute_reply": "2021-02-14T10:53:26.680130Z",
     "shell.execute_reply.started": "2021-02-14T10:53:26.654550Z"
    }
   },
   "outputs": [],
   "source": [
    "R = sorted(list(R))"
   ]
  },
  {
   "cell_type": "code",
   "execution_count": 36,
   "id": "recorded-canadian",
   "metadata": {
    "execution": {
     "iopub.execute_input": "2021-02-14T10:53:41.971689Z",
     "iopub.status.busy": "2021-02-14T10:53:41.971457Z",
     "iopub.status.idle": "2021-02-14T10:53:41.999223Z",
     "shell.execute_reply": "2021-02-14T10:53:41.998487Z",
     "shell.execute_reply.started": "2021-02-14T10:53:41.971664Z"
    }
   },
   "outputs": [],
   "source": [
    "C = sorted(list(C))"
   ]
  },
  {
   "cell_type": "code",
   "execution_count": 40,
   "id": "retired-ozone",
   "metadata": {
    "execution": {
     "iopub.execute_input": "2021-02-14T10:54:02.566668Z",
     "iopub.status.busy": "2021-02-14T10:54:02.566428Z",
     "iopub.status.idle": "2021-02-14T10:54:02.594460Z",
     "shell.execute_reply": "2021-02-14T10:54:02.593825Z",
     "shell.execute_reply.started": "2021-02-14T10:54:02.566642Z"
    }
   },
   "outputs": [
    {
     "data": {
      "text/plain": [
       "[('#', '?', '@'),\n",
       " ('#', '@', '?'),\n",
       " ('?', '#', '@'),\n",
       " ('?', '@', '#'),\n",
       " ('@', '#', '?'),\n",
       " ('@', '?', '#')]"
      ]
     },
     "execution_count": 40,
     "metadata": {},
     "output_type": "execute_result"
    }
   ],
   "source": [
    "[c for c in itertools.permutations(C)]"
   ]
  },
  {
   "cell_type": "code",
   "execution_count": 43,
   "id": "static-morning",
   "metadata": {
    "execution": {
     "iopub.execute_input": "2021-02-14T10:56:29.162816Z",
     "iopub.status.busy": "2021-02-14T10:56:29.162568Z",
     "iopub.status.idle": "2021-02-14T10:56:29.190628Z",
     "shell.execute_reply": "2021-02-14T10:56:29.189790Z",
     "shell.execute_reply.started": "2021-02-14T10:56:29.162789Z"
    }
   },
   "outputs": [
    {
     "data": {
      "text/plain": [
       "(['a', 'b', 'c'], ['#', '?', '@'])"
      ]
     },
     "execution_count": 43,
     "metadata": {},
     "output_type": "execute_result"
    }
   ],
   "source": [
    "R, C"
   ]
  },
  {
   "cell_type": "code",
   "execution_count": 55,
   "id": "formal-croatia",
   "metadata": {
    "execution": {
     "iopub.execute_input": "2021-02-14T11:01:01.898507Z",
     "iopub.status.busy": "2021-02-14T11:01:01.898267Z",
     "iopub.status.idle": "2021-02-14T11:01:01.926468Z",
     "shell.execute_reply": "2021-02-14T11:01:01.925632Z",
     "shell.execute_reply.started": "2021-02-14T11:01:01.898481Z"
    }
   },
   "outputs": [
    {
     "data": {
      "text/plain": [
       "False"
      ]
     },
     "execution_count": 55,
     "metadata": {},
     "output_type": "execute_result"
    }
   ],
   "source": [
    "if all(\n",
    "    [\n",
    "        M[(R[i], C[j])] == 0\n",
    "        for (i, j) in itertools.product(range(len(R)), range(len(C)))\n",
    "        if j > i\n",
    "    ]\n",
    "):\n",
    "    return True"
   ]
  },
  {
   "cell_type": "code",
   "execution_count": 51,
   "id": "surprised-tenant",
   "metadata": {
    "execution": {
     "iopub.execute_input": "2021-02-14T11:00:33.761582Z",
     "iopub.status.busy": "2021-02-14T11:00:33.761339Z",
     "iopub.status.idle": "2021-02-14T11:00:33.788538Z",
     "shell.execute_reply": "2021-02-14T11:00:33.787631Z",
     "shell.execute_reply.started": "2021-02-14T11:00:33.761556Z"
    }
   },
   "outputs": [
    {
     "data": {
      "text/plain": [
       "0"
      ]
     },
     "execution_count": 51,
     "metadata": {},
     "output_type": "execute_result"
    }
   ],
   "source": [
    "M[('a', '@')]"
   ]
  },
  {
   "cell_type": "code",
   "execution_count": null,
   "id": "surface-secondary",
   "metadata": {},
   "outputs": [],
   "source": []
  },
  {
   "cell_type": "code",
   "execution_count": 25,
   "id": "personal-arrow",
   "metadata": {
    "execution": {
     "iopub.execute_input": "2021-02-14T04:25:57.068419Z",
     "iopub.status.busy": "2021-02-14T04:25:57.068180Z",
     "iopub.status.idle": "2021-02-14T04:25:57.115248Z",
     "shell.execute_reply": "2021-02-14T04:25:57.114611Z",
     "shell.execute_reply.started": "2021-02-14T04:25:57.068394Z"
    }
   },
   "outputs": [
    {
     "data": {
      "text/plain": [
       "Mat(({'a', 'c', 'b'}, {'#', '?', '@'}), {('a', '#'): 2, ('a', '?'): 3, ('b', '@'): 10, ('b', '#'): 20, ('b', '?'): 30, ('c', '#'): 35})"
      ]
     },
     "execution_count": 25,
     "metadata": {},
     "output_type": "execute_result"
    }
   ],
   "source": [
    "A"
   ]
  },
  {
   "cell_type": "code",
   "execution_count": null,
   "id": "about-jamaica",
   "metadata": {},
   "outputs": [],
   "source": []
  },
  {
   "cell_type": "code",
   "execution_count": 2,
   "id": "controlled-bacon",
   "metadata": {
    "execution": {
     "iopub.execute_input": "2021-02-14T03:07:54.748902Z",
     "iopub.status.busy": "2021-02-14T03:07:54.748672Z",
     "iopub.status.idle": "2021-02-14T03:07:54.775172Z",
     "shell.execute_reply": "2021-02-14T03:07:54.774499Z",
     "shell.execute_reply.started": "2021-02-14T03:07:54.748877Z"
    }
   },
   "outputs": [],
   "source": [
    "D = {'radio', 'sensor', 'memory', 'CPU'}\n",
    "v0 = Vec(D, {'radio': .1, 'CPU': .3})\n",
    "v1 = Vec(D, {'sensor': .2, 'CPU': .4})\n",
    "v2 = Vec(D, {'memory': .3, 'CPU': .1})\n",
    "v3 = Vec(D, {'memory': .5, 'CPU': .4})\n",
    "v4 = Vec(D, {'radio': .2, 'CPU': .5})"
   ]
  },
  {
   "cell_type": "code",
   "execution_count": 10,
   "id": "addressed-territory",
   "metadata": {
    "execution": {
     "iopub.execute_input": "2021-02-14T03:10:33.265281Z",
     "iopub.status.busy": "2021-02-14T03:10:33.265041Z",
     "iopub.status.idle": "2021-02-14T03:10:33.290559Z",
     "shell.execute_reply": "2021-02-14T03:10:33.289697Z",
     "shell.execute_reply.started": "2021-02-14T03:10:33.265255Z"
    }
   },
   "outputs": [],
   "source": [
    "b = Vec(set(range(5)), {0: 140., 1: 170., 2: 60., 3: 170., 4:250.})"
   ]
  },
  {
   "cell_type": "code",
   "execution_count": 4,
   "id": "previous-aviation",
   "metadata": {
    "execution": {
     "iopub.execute_input": "2021-02-14T03:09:04.022755Z",
     "iopub.status.busy": "2021-02-14T03:09:04.022483Z",
     "iopub.status.idle": "2021-02-14T03:09:04.049637Z",
     "shell.execute_reply": "2021-02-14T03:09:04.048709Z",
     "shell.execute_reply.started": "2021-02-14T03:09:04.022725Z"
    }
   },
   "outputs": [],
   "source": [
    "A = rowdict2mat([v0, v1, v2, v3, v4])"
   ]
  },
  {
   "cell_type": "code",
   "execution_count": 6,
   "id": "foreign-coordination",
   "metadata": {
    "execution": {
     "iopub.execute_input": "2021-02-14T03:09:09.861931Z",
     "iopub.status.busy": "2021-02-14T03:09:09.861690Z",
     "iopub.status.idle": "2021-02-14T03:09:09.895523Z",
     "shell.execute_reply": "2021-02-14T03:09:09.894808Z",
     "shell.execute_reply.started": "2021-02-14T03:09:09.861905Z"
    }
   },
   "outputs": [
    {
     "name": "stdout",
     "output_type": "stream",
     "text": [
      "   CPU  radio  memory  sensor\n",
      "0  0.3    0.1     0.0     0.0\n",
      "1  0.4    0.0     0.0     0.2\n",
      "2  0.1    0.0     0.3     0.0\n",
      "3  0.4    0.0     0.5     0.0\n",
      "4  0.5    0.2     0.0     0.0\n"
     ]
    }
   ],
   "source": [
    "print(A)"
   ]
  },
  {
   "cell_type": "code",
   "execution_count": 12,
   "id": "nutritional-construction",
   "metadata": {
    "execution": {
     "iopub.execute_input": "2021-02-14T03:10:41.216823Z",
     "iopub.status.busy": "2021-02-14T03:10:41.216583Z",
     "iopub.status.idle": "2021-02-14T03:10:41.300587Z",
     "shell.execute_reply": "2021-02-14T03:10:41.299366Z",
     "shell.execute_reply.started": "2021-02-14T03:10:41.216798Z"
    }
   },
   "outputs": [
    {
     "ename": "AssertionError",
     "evalue": "",
     "output_type": "error",
     "traceback": [
      "\u001b[0;31m---------------------------------------------------------------------------\u001b[0m",
      "\u001b[0;31mAssertionError\u001b[0m                            Traceback (most recent call last)",
      "\u001b[0;32m<ipython-input-12-6544a5a4e2aa>\u001b[0m in \u001b[0;36m<module>\u001b[0;34m\u001b[0m\n\u001b[0;32m----> 1\u001b[0;31m \u001b[0mrate\u001b[0m \u001b[0;34m=\u001b[0m \u001b[0msolve\u001b[0m\u001b[0;34m(\u001b[0m\u001b[0mA\u001b[0m\u001b[0;34m,\u001b[0m \u001b[0mb\u001b[0m\u001b[0;34m)\u001b[0m\u001b[0;34m\u001b[0m\u001b[0;34m\u001b[0m\u001b[0m\n\u001b[0m",
      "\u001b[0;32m~/github.com/banbiossa/coding-the-matrix/coding_the_matrix/solve.py\u001b[0m in \u001b[0;36msolve\u001b[0;34m(M, b, eps)\u001b[0m\n\u001b[1;32m    101\u001b[0m     \u001b[0;31m# map the vectors to the right domain\u001b[0m\u001b[0;34m\u001b[0m\u001b[0;34m\u001b[0m\u001b[0;34m\u001b[0m\u001b[0m\n\u001b[1;32m    102\u001b[0m     \u001b[0;31m# map the row -> value to col -> value as the final vector\u001b[0m\u001b[0;34m\u001b[0m\u001b[0;34m\u001b[0m\u001b[0;34m\u001b[0m\u001b[0m\n\u001b[0;32m--> 103\u001b[0;31m     \u001b[0;32massert\u001b[0m \u001b[0mset\u001b[0m\u001b[0;34m(\u001b[0m\u001b[0mused\u001b[0m\u001b[0;34m.\u001b[0m\u001b[0mkeys\u001b[0m\u001b[0;34m(\u001b[0m\u001b[0;34m)\u001b[0m\u001b[0;34m)\u001b[0m \u001b[0;34m==\u001b[0m \u001b[0mA\u001b[0m\u001b[0;34m.\u001b[0m\u001b[0mD\u001b[0m\u001b[0;34m[\u001b[0m\u001b[0;36m0\u001b[0m\u001b[0;34m]\u001b[0m\u001b[0;34m\u001b[0m\u001b[0;34m\u001b[0m\u001b[0m\n\u001b[0m\u001b[1;32m    104\u001b[0m     \u001b[0;32massert\u001b[0m \u001b[0mset\u001b[0m\u001b[0;34m(\u001b[0m\u001b[0mused\u001b[0m\u001b[0;34m.\u001b[0m\u001b[0mvalues\u001b[0m\u001b[0;34m(\u001b[0m\u001b[0;34m)\u001b[0m\u001b[0;34m)\u001b[0m \u001b[0;34m==\u001b[0m \u001b[0mA\u001b[0m\u001b[0;34m.\u001b[0m\u001b[0mD\u001b[0m\u001b[0;34m[\u001b[0m\u001b[0;36m1\u001b[0m\u001b[0;34m]\u001b[0m\u001b[0;34m\u001b[0m\u001b[0;34m\u001b[0m\u001b[0m\n\u001b[1;32m    105\u001b[0m     \u001b[0mx\u001b[0m \u001b[0;34m=\u001b[0m \u001b[0mVec\u001b[0m\u001b[0;34m.\u001b[0m\u001b[0mVec\u001b[0m\u001b[0;34m(\u001b[0m\u001b[0mA\u001b[0m\u001b[0;34m.\u001b[0m\u001b[0mD\u001b[0m\u001b[0;34m[\u001b[0m\u001b[0;36m1\u001b[0m\u001b[0;34m]\u001b[0m\u001b[0;34m,\u001b[0m \u001b[0;34m{\u001b[0m\u001b[0mused\u001b[0m\u001b[0;34m[\u001b[0m\u001b[0mk\u001b[0m\u001b[0;34m]\u001b[0m\u001b[0;34m:\u001b[0m \u001b[0mv\u001b[0m \u001b[0;32mfor\u001b[0m \u001b[0mk\u001b[0m\u001b[0;34m,\u001b[0m \u001b[0mv\u001b[0m \u001b[0;32min\u001b[0m \u001b[0mb\u001b[0m\u001b[0;34m.\u001b[0m\u001b[0mf\u001b[0m\u001b[0;34m.\u001b[0m\u001b[0mitems\u001b[0m\u001b[0;34m(\u001b[0m\u001b[0;34m)\u001b[0m\u001b[0;34m}\u001b[0m\u001b[0;34m)\u001b[0m\u001b[0;34m\u001b[0m\u001b[0;34m\u001b[0m\u001b[0m\n",
      "\u001b[0;31mAssertionError\u001b[0m: "
     ]
    }
   ],
   "source": [
    "rate = solve(A, b)"
   ]
  },
  {
   "cell_type": "code",
   "execution_count": 13,
   "id": "earlier-progress",
   "metadata": {
    "execution": {
     "iopub.execute_input": "2021-02-14T03:10:42.984974Z",
     "iopub.status.busy": "2021-02-14T03:10:42.984727Z",
     "iopub.status.idle": "2021-02-14T03:10:43.012863Z",
     "shell.execute_reply": "2021-02-14T03:10:43.012124Z",
     "shell.execute_reply.started": "2021-02-14T03:10:42.984947Z"
    }
   },
   "outputs": [
    {
     "data": {
      "text/plain": [
       "{0, 1, 2, 3, 4}"
      ]
     },
     "execution_count": 13,
     "metadata": {},
     "output_type": "execute_result"
    }
   ],
   "source": [
    "b.D"
   ]
  },
  {
   "cell_type": "code",
   "execution_count": 16,
   "id": "convenient-jones",
   "metadata": {
    "execution": {
     "iopub.execute_input": "2021-02-14T03:10:53.454709Z",
     "iopub.status.busy": "2021-02-14T03:10:53.454472Z",
     "iopub.status.idle": "2021-02-14T03:10:53.481771Z",
     "shell.execute_reply": "2021-02-14T03:10:53.481128Z",
     "shell.execute_reply.started": "2021-02-14T03:10:53.454683Z"
    }
   },
   "outputs": [
    {
     "data": {
      "text/plain": [
       "True"
      ]
     },
     "execution_count": 16,
     "metadata": {},
     "output_type": "execute_result"
    }
   ],
   "source": [
    "A.D[0] == b.D"
   ]
  },
  {
   "cell_type": "code",
   "execution_count": null,
   "id": "incoming-defense",
   "metadata": {},
   "outputs": [],
   "source": []
  },
  {
   "cell_type": "code",
   "execution_count": null,
   "id": "guided-converter",
   "metadata": {},
   "outputs": [],
   "source": []
  },
  {
   "cell_type": "code",
   "execution_count": null,
   "id": "aerial-portland",
   "metadata": {},
   "outputs": [],
   "source": []
  },
  {
   "cell_type": "code",
   "execution_count": null,
   "id": "martial-affair",
   "metadata": {},
   "outputs": [],
   "source": []
  },
  {
   "cell_type": "code",
   "execution_count": null,
   "id": "average-clark",
   "metadata": {},
   "outputs": [],
   "source": []
  },
  {
   "cell_type": "code",
   "execution_count": null,
   "id": "designed-substitute",
   "metadata": {},
   "outputs": [],
   "source": []
  },
  {
   "cell_type": "code",
   "execution_count": 2,
   "id": "unsigned-dividend",
   "metadata": {
    "execution": {
     "iopub.execute_input": "2021-02-13T02:54:24.810334Z",
     "iopub.status.busy": "2021-02-13T02:54:24.810093Z",
     "iopub.status.idle": "2021-02-13T02:54:24.836460Z",
     "shell.execute_reply": "2021-02-13T02:54:24.835638Z",
     "shell.execute_reply.started": "2021-02-13T02:54:24.810308Z"
    }
   },
   "outputs": [],
   "source": [
    "A = listlist2mat([[10, 20, 30, 40], [50, 60, 70, 80]])"
   ]
  },
  {
   "cell_type": "code",
   "execution_count": 3,
   "id": "raised-trash",
   "metadata": {
    "execution": {
     "iopub.execute_input": "2021-02-13T02:54:25.081990Z",
     "iopub.status.busy": "2021-02-13T02:54:25.081750Z",
     "iopub.status.idle": "2021-02-13T02:54:25.112739Z",
     "shell.execute_reply": "2021-02-13T02:54:25.111995Z",
     "shell.execute_reply.started": "2021-02-13T02:54:25.081963Z"
    }
   },
   "outputs": [
    {
     "name": "stdout",
     "output_type": "stream",
     "text": [
      "    0   1   2   3\n",
      "0  10  20  30  40\n",
      "1  50  60  70  80\n"
     ]
    }
   ],
   "source": [
    "print(A)"
   ]
  },
  {
   "cell_type": "code",
   "execution_count": 4,
   "id": "simplified-astrology",
   "metadata": {
    "execution": {
     "iopub.execute_input": "2021-02-13T02:54:25.740885Z",
     "iopub.status.busy": "2021-02-13T02:54:25.740647Z",
     "iopub.status.idle": "2021-02-13T02:54:25.766694Z",
     "shell.execute_reply": "2021-02-13T02:54:25.765964Z",
     "shell.execute_reply.started": "2021-02-13T02:54:25.740859Z"
    }
   },
   "outputs": [],
   "source": [
    "def mat2Vec(M):\n",
    "    R, C = M.D\n",
    "    return Vec({(r,c) for r in R for c in C}, M.f) "
   ]
  },
  {
   "cell_type": "code",
   "execution_count": 5,
   "id": "acceptable-substance",
   "metadata": {
    "execution": {
     "iopub.execute_input": "2021-02-13T02:54:26.097744Z",
     "iopub.status.busy": "2021-02-13T02:54:26.097506Z",
     "iopub.status.idle": "2021-02-13T02:54:26.122662Z",
     "shell.execute_reply": "2021-02-13T02:54:26.121948Z",
     "shell.execute_reply.started": "2021-02-13T02:54:26.097719Z"
    }
   },
   "outputs": [],
   "source": [
    "def tranpose(M):\n",
    "    R, C = M.D\n",
    "    D = (C, R)\n",
    "    f = {(c, r): v for (r, c), v in M.f.items()}\n",
    "    return Mat(D, f)"
   ]
  },
  {
   "cell_type": "code",
   "execution_count": 6,
   "id": "rental-seventh",
   "metadata": {
    "execution": {
     "iopub.execute_input": "2021-02-13T02:54:26.375876Z",
     "iopub.status.busy": "2021-02-13T02:54:26.375637Z",
     "iopub.status.idle": "2021-02-13T02:54:26.404050Z",
     "shell.execute_reply": "2021-02-13T02:54:26.403190Z",
     "shell.execute_reply.started": "2021-02-13T02:54:26.375850Z"
    }
   },
   "outputs": [
    {
     "name": "stdout",
     "output_type": "stream",
     "text": [
      "    0   1\n",
      "0  10  50\n",
      "1  20  60\n",
      "2  30  70\n",
      "3  40  80\n"
     ]
    }
   ],
   "source": [
    "print(tranpose(A))"
   ]
  },
  {
   "cell_type": "code",
   "execution_count": 7,
   "id": "satisfied-annotation",
   "metadata": {
    "execution": {
     "iopub.execute_input": "2021-02-13T02:54:26.701139Z",
     "iopub.status.busy": "2021-02-13T02:54:26.700842Z",
     "iopub.status.idle": "2021-02-13T02:54:26.734401Z",
     "shell.execute_reply": "2021-02-13T02:54:26.733417Z",
     "shell.execute_reply.started": "2021-02-13T02:54:26.701108Z"
    }
   },
   "outputs": [],
   "source": [
    "def button_vectors(n):\n",
    "    D = {(x, y) for x, y in itertools.product(range(n), range(n))}\n",
    "    vecdict = {\n",
    "        (i, j): Vec(\n",
    "            D,\n",
    "            dict([((x, j), one) for x in range(max(i - 1, 0), min(i + 2, n))]+\n",
    "            [((i, y), one) for y in range(max(j - 1, 0), min(j + 2, n))]),\n",
    "        )\n",
    "        for (i, j) in D\n",
    "    }\n",
    "    return vecdict"
   ]
  },
  {
   "cell_type": "code",
   "execution_count": 10,
   "id": "strange-astronomy",
   "metadata": {
    "execution": {
     "iopub.execute_input": "2021-02-13T02:54:30.556728Z",
     "iopub.status.busy": "2021-02-13T02:54:30.556490Z",
     "iopub.status.idle": "2021-02-13T02:54:30.582696Z",
     "shell.execute_reply": "2021-02-13T02:54:30.581837Z",
     "shell.execute_reply.started": "2021-02-13T02:54:30.556702Z"
    }
   },
   "outputs": [],
   "source": [
    "vectors = button_vectors(5)"
   ]
  },
  {
   "cell_type": "code",
   "execution_count": 11,
   "id": "similar-suffering",
   "metadata": {
    "execution": {
     "iopub.execute_input": "2021-02-13T02:54:31.099070Z",
     "iopub.status.busy": "2021-02-13T02:54:31.098821Z",
     "iopub.status.idle": "2021-02-13T02:54:31.124535Z",
     "shell.execute_reply": "2021-02-13T02:54:31.123856Z",
     "shell.execute_reply.started": "2021-02-13T02:54:31.099043Z"
    }
   },
   "outputs": [],
   "source": [
    "b = value(vectors)"
   ]
  },
  {
   "cell_type": "code",
   "execution_count": 12,
   "id": "broad-distributor",
   "metadata": {
    "execution": {
     "iopub.execute_input": "2021-02-13T02:54:31.649749Z",
     "iopub.status.busy": "2021-02-13T02:54:31.649494Z",
     "iopub.status.idle": "2021-02-13T02:54:31.675769Z",
     "shell.execute_reply": "2021-02-13T02:54:31.675117Z",
     "shell.execute_reply.started": "2021-02-13T02:54:31.649719Z"
    }
   },
   "outputs": [],
   "source": [
    "s = Vec(b.D, {(2, 2): one})"
   ]
  },
  {
   "cell_type": "code",
   "execution_count": 13,
   "id": "general-bermuda",
   "metadata": {
    "execution": {
     "iopub.execute_input": "2021-02-13T02:54:32.370685Z",
     "iopub.status.busy": "2021-02-13T02:54:32.370446Z",
     "iopub.status.idle": "2021-02-13T02:54:32.396496Z",
     "shell.execute_reply": "2021-02-13T02:54:32.395493Z",
     "shell.execute_reply.started": "2021-02-13T02:54:32.370659Z"
    }
   },
   "outputs": [],
   "source": [
    "M = rowdict2mat(vectors)"
   ]
  },
  {
   "cell_type": "code",
   "execution_count": 33,
   "id": "massive-knight",
   "metadata": {
    "execution": {
     "iopub.execute_input": "2021-02-13T03:36:41.779151Z",
     "iopub.status.busy": "2021-02-13T03:36:41.778910Z",
     "iopub.status.idle": "2021-02-13T03:36:49.865549Z",
     "shell.execute_reply": "2021-02-13T03:36:49.864619Z",
     "shell.execute_reply.started": "2021-02-13T03:36:41.779124Z"
    }
   },
   "outputs": [
    {
     "name": "stderr",
     "output_type": "stream",
     "text": [
      "ERROR:coding_the_matrix.solve:rowvec=Vec({(4, 0), (3, 4), (4, 3), (3, 1), (0, 2), (2, 2), (1, 0), (1, 3), (4, 2), (3, 0), (3, 3), (0, 1), (2, 4), (1, 2), (0, 4), (2, 1), (3, 2), (4, 1), (4, 4), (0, 0), (1, 1), (0, 3), (2, 0), (1, 4), (2, 3)}, {(4, 0): 0, (3, 4): 0, (4, 3): 0, (3, 1): 0, (0, 2): 0, (2, 2): 0, (1, 0): 0, (1, 3): 0, (4, 2): 0, (3, 0): 0, (3, 3): 0, (0, 1): 0, (2, 4): 0, (1, 2): 0, (0, 4): 0, (2, 1): 0, (3, 2): 0, (4, 1): 0, (4, 4): 0, (0, 0): 0, (1, 1): 0, (0, 3): 0, (2, 0): 0, (1, 4): 0, (2, 3): 0}) has zero at col=(1, 4)\n",
      "ERROR:coding_the_matrix.solve:rowvec=Vec({(4, 0), (3, 4), (4, 3), (3, 1), (0, 2), (2, 2), (1, 0), (1, 3), (4, 2), (3, 0), (3, 3), (0, 1), (2, 4), (1, 2), (0, 4), (2, 1), (3, 2), (4, 1), (4, 4), (0, 0), (1, 1), (0, 3), (2, 0), (1, 4), (2, 3)}, {(4, 0): 0, (3, 4): 0, (4, 3): 0, (3, 1): 0, (0, 2): 0, (2, 2): 0, (1, 0): 0, (1, 3): 0, (4, 2): 0, (3, 0): 0, (3, 3): 0, (0, 1): 0, (2, 4): 0, (1, 2): 0, (0, 4): 0, (2, 1): 0, (3, 2): 0, (4, 1): 0, (4, 4): 0, (0, 0): 0, (1, 1): 0, (0, 3): 0, (2, 0): 0, (1, 4): 0, (2, 3): 0}) has zero at col=(2, 3)\n"
     ]
    }
   ],
   "source": [
    "sol, A = solve(M, s)"
   ]
  },
  {
   "cell_type": "code",
   "execution_count": 41,
   "id": "italic-sessions",
   "metadata": {
    "execution": {
     "iopub.execute_input": "2021-02-13T03:45:59.960888Z",
     "iopub.status.busy": "2021-02-13T03:45:59.960647Z",
     "iopub.status.idle": "2021-02-13T03:45:59.989059Z",
     "shell.execute_reply": "2021-02-13T03:45:59.988227Z",
     "shell.execute_reply.started": "2021-02-13T03:45:59.960862Z"
    }
   },
   "outputs": [
    {
     "data": {
      "text/plain": [
       "45"
      ]
     },
     "execution_count": 41,
     "metadata": {},
     "output_type": "execute_result"
    }
   ],
   "source": [
    "len([(k, v) for k, v in A.f.items() if v != 0])"
   ]
  },
  {
   "cell_type": "code",
   "execution_count": 42,
   "id": "promising-transparency",
   "metadata": {
    "execution": {
     "iopub.execute_input": "2021-02-13T03:46:06.316762Z",
     "iopub.status.busy": "2021-02-13T03:46:06.316511Z",
     "iopub.status.idle": "2021-02-13T03:46:06.350415Z",
     "shell.execute_reply": "2021-02-13T03:46:06.349643Z",
     "shell.execute_reply.started": "2021-02-13T03:46:06.316736Z"
    }
   },
   "outputs": [
    {
     "data": {
      "text/plain": [
       "[(((4, 3), (0, 3)), 1),\n",
       " (((4, 3), (2, 3)), 1),\n",
       " (((3, 1), (2, 0)), 1),\n",
       " (((3, 1), (2, 3)), 1),\n",
       " (((0, 2), (1, 1)), 1),\n",
       " (((2, 2), (4, 4)), 1),\n",
       " (((2, 2), (1, 4)), 1),\n",
       " (((2, 2), (2, 3)), 1),\n",
       " (((1, 0), (4, 1)), 1),\n",
       " (((1, 0), (2, 3)), 1),\n",
       " (((1, 3), (3, 2)), 1),\n",
       " (((1, 3), (1, 4)), 1),\n",
       " (((4, 2), (0, 0)), 1),\n",
       " (((4, 2), (1, 4)), 1),\n",
       " (((4, 2), (2, 3)), 1),\n",
       " (((3, 0), (2, 4)), 1),\n",
       " (((3, 0), (2, 3)), 1),\n",
       " (((3, 3), (2, 1)), 1),\n",
       " (((3, 3), (2, 3)), 1),\n",
       " (((0, 1), (0, 1)), 1),\n",
       " (((0, 1), (2, 3)), 1),\n",
       " (((2, 4), (4, 3)), 1),\n",
       " (((2, 4), (2, 3)), 1),\n",
       " (((1, 2), (3, 3)), 1),\n",
       " (((0, 4), (0, 4)), 1),\n",
       " (((0, 4), (1, 4)), 1),\n",
       " (((0, 4), (2, 3)), 1),\n",
       " (((2, 1), (4, 2)), 1),\n",
       " (((2, 1), (1, 4)), 1),\n",
       " (((3, 2), (3, 1)), 1),\n",
       " (((4, 1), (4, 0)), 1),\n",
       " (((4, 1), (1, 4)), 1),\n",
       " (((4, 1), (2, 3)), 1),\n",
       " (((4, 4), (3, 4)), 1),\n",
       " (((4, 4), (1, 4)), 1),\n",
       " (((0, 0), (1, 2)), 1),\n",
       " (((0, 0), (1, 4)), 1),\n",
       " (((1, 1), (3, 0)), 1),\n",
       " (((1, 1), (1, 4)), 1),\n",
       " (((0, 3), (0, 2)), 1),\n",
       " (((0, 3), (1, 4)), 1),\n",
       " (((2, 0), (1, 0)), 1),\n",
       " (((2, 0), (1, 4)), 1),\n",
       " (((1, 4), (1, 3)), 1),\n",
       " (((2, 3), (2, 2)), 1)]"
      ]
     },
     "execution_count": 42,
     "metadata": {},
     "output_type": "execute_result"
    }
   ],
   "source": [
    "[(k, v) for k, v in A.f.items() if v != 0]"
   ]
  },
  {
   "cell_type": "code",
   "execution_count": 32,
   "id": "described-messenger",
   "metadata": {
    "execution": {
     "iopub.execute_input": "2021-02-13T03:31:16.013200Z",
     "iopub.status.busy": "2021-02-13T03:31:16.012994Z",
     "iopub.status.idle": "2021-02-13T03:31:16.037315Z",
     "shell.execute_reply": "2021-02-13T03:31:16.036686Z",
     "shell.execute_reply.started": "2021-02-13T03:31:16.013183Z"
    }
   },
   "outputs": [
    {
     "data": {
      "text/plain": [
       "False"
      ]
     },
     "execution_count": 32,
     "metadata": {},
     "output_type": "execute_result"
    }
   ],
   "source": [
    "M*sol == s"
   ]
  },
  {
   "cell_type": "code",
   "execution_count": 10,
   "id": "seeing-investigation",
   "metadata": {
    "execution": {
     "iopub.execute_input": "2021-02-07T06:57:57.821040Z",
     "iopub.status.busy": "2021-02-07T06:57:57.820855Z",
     "iopub.status.idle": "2021-02-07T06:57:57.849836Z",
     "shell.execute_reply": "2021-02-07T06:57:57.849237Z",
     "shell.execute_reply.started": "2021-02-07T06:57:57.821019Z"
    }
   },
   "outputs": [
    {
     "data": {
      "text/plain": [
       "Vec({(4, 0), (3, 4), (4, 3), (3, 1), (0, 2), (2, 2), (1, 0), (1, 3), (4, 2), (3, 0), (3, 3), (0, 1), (2, 4), (1, 2), (0, 4), (2, 1), (3, 2), (4, 1), (4, 4), (0, 0), (1, 1), (0, 3), (2, 0), (1, 4), (2, 3)}, {(3, 0): 1, (4, 0): 1, (4, 1): 1})"
      ]
     },
     "execution_count": 10,
     "metadata": {},
     "output_type": "execute_result"
    }
   ],
   "source": [
    "value(vectors)"
   ]
  },
  {
   "cell_type": "code",
   "execution_count": 11,
   "id": "accredited-recommendation",
   "metadata": {
    "execution": {
     "iopub.execute_input": "2021-02-07T06:57:57.851287Z",
     "iopub.status.busy": "2021-02-07T06:57:57.850985Z",
     "iopub.status.idle": "2021-02-07T06:57:57.877708Z",
     "shell.execute_reply": "2021-02-07T06:57:57.877045Z",
     "shell.execute_reply.started": "2021-02-07T06:57:57.851257Z"
    }
   },
   "outputs": [
    {
     "data": {
      "text/plain": [
       "dict_keys([(4, 0), (3, 4), (4, 3), (3, 1), (0, 2), (2, 2), (1, 0), (1, 3), (4, 2), (3, 0), (3, 3), (0, 1), (2, 4), (1, 2), (0, 4), (2, 1), (3, 2), (4, 1), (4, 4), (0, 0), (1, 1), (0, 3), (2, 0), (1, 4), (2, 3)])"
      ]
     },
     "execution_count": 11,
     "metadata": {},
     "output_type": "execute_result"
    }
   ],
   "source": [
    "keys(vectors)"
   ]
  },
  {
   "cell_type": "code",
   "execution_count": 12,
   "id": "enhanced-announcement",
   "metadata": {
    "execution": {
     "iopub.execute_input": "2021-02-07T06:57:57.879080Z",
     "iopub.status.busy": "2021-02-07T06:57:57.878871Z",
     "iopub.status.idle": "2021-02-07T06:57:57.903113Z",
     "shell.execute_reply": "2021-02-07T06:57:57.902589Z",
     "shell.execute_reply.started": "2021-02-07T06:57:57.879056Z"
    }
   },
   "outputs": [
    {
     "data": {
      "text/plain": [
       "25"
      ]
     },
     "execution_count": 12,
     "metadata": {},
     "output_type": "execute_result"
    }
   ],
   "source": [
    "len(vectors)"
   ]
  },
  {
   "cell_type": "code",
   "execution_count": 13,
   "id": "massive-electricity",
   "metadata": {
    "execution": {
     "iopub.execute_input": "2021-02-07T06:57:57.904196Z",
     "iopub.status.busy": "2021-02-07T06:57:57.904022Z",
     "iopub.status.idle": "2021-02-07T06:57:57.926325Z",
     "shell.execute_reply": "2021-02-07T06:57:57.925805Z",
     "shell.execute_reply.started": "2021-02-07T06:57:57.904176Z"
    }
   },
   "outputs": [],
   "source": [
    "b = vectors[(0, 0)]"
   ]
  },
  {
   "cell_type": "code",
   "execution_count": 14,
   "id": "unauthorized-basis",
   "metadata": {
    "execution": {
     "iopub.execute_input": "2021-02-07T06:57:57.927257Z",
     "iopub.status.busy": "2021-02-07T06:57:57.927095Z",
     "iopub.status.idle": "2021-02-07T06:57:57.950406Z",
     "shell.execute_reply": "2021-02-07T06:57:57.949701Z",
     "shell.execute_reply.started": "2021-02-07T06:57:57.927238Z"
    }
   },
   "outputs": [
    {
     "data": {
      "text/plain": [
       "{4: 1}"
      ]
     },
     "execution_count": 14,
     "metadata": {},
     "output_type": "execute_result"
    }
   ],
   "source": [
    "dict([(4, 3)] + [(4, 1)])"
   ]
  },
  {
   "cell_type": "code",
   "execution_count": 15,
   "id": "flush-dancing",
   "metadata": {
    "execution": {
     "iopub.execute_input": "2021-02-07T06:57:57.951946Z",
     "iopub.status.busy": "2021-02-07T06:57:57.951730Z",
     "iopub.status.idle": "2021-02-07T06:57:57.978042Z",
     "shell.execute_reply": "2021-02-07T06:57:57.977349Z",
     "shell.execute_reply.started": "2021-02-07T06:57:57.951920Z"
    }
   },
   "outputs": [],
   "source": [
    "B = coldict2mat(button_vectors(5))"
   ]
  },
  {
   "cell_type": "code",
   "execution_count": 16,
   "id": "saved-isaac",
   "metadata": {
    "execution": {
     "iopub.execute_input": "2021-02-07T06:57:57.979402Z",
     "iopub.status.busy": "2021-02-07T06:57:57.979197Z",
     "iopub.status.idle": "2021-02-07T06:57:58.004765Z",
     "shell.execute_reply": "2021-02-07T06:57:58.003926Z",
     "shell.execute_reply.started": "2021-02-07T06:57:57.979379Z"
    }
   },
   "outputs": [],
   "source": [
    "s = Vec(b.D, {(2, 2): one})"
   ]
  },
  {
   "cell_type": "markdown",
   "id": "union-installation",
   "metadata": {},
   "source": [
    "## Gnome"
   ]
  },
  {
   "cell_type": "code",
   "execution_count": 17,
   "id": "another-offer",
   "metadata": {
    "execution": {
     "iopub.execute_input": "2021-02-07T06:57:58.006402Z",
     "iopub.status.busy": "2021-02-07T06:57:58.006143Z",
     "iopub.status.idle": "2021-02-07T06:57:58.034134Z",
     "shell.execute_reply": "2021-02-07T06:57:58.033331Z",
     "shell.execute_reply.started": "2021-02-07T06:57:58.006370Z"
    }
   },
   "outputs": [],
   "source": [
    "D = {'metal', 'concrete', 'plastic', 'water', 'electricity'}\n",
    "v_gnome = Vec(D, {'concrete': 1.3, 'plastic': .2, 'water': .8, 'electricity': .4})\n",
    "v_hoop = Vec(D, {'plastic': 1.5, 'water': .4, 'electricity': .3})\n",
    "v_slinky = Vec(D, {'metal': .25, 'water': .2, 'electricity': .7})\n",
    "v_putty = Vec(D, {'plastic': .3, 'water': .7, 'electricity': .5})\n",
    "v_shooter = Vec(D, {'metal': .15, 'plastic': .5, 'water': .4, 'electricity': .8})"
   ]
  },
  {
   "cell_type": "code",
   "execution_count": 18,
   "id": "surgical-collaboration",
   "metadata": {
    "execution": {
     "iopub.execute_input": "2021-02-07T06:57:58.035428Z",
     "iopub.status.busy": "2021-02-07T06:57:58.035212Z",
     "iopub.status.idle": "2021-02-07T06:57:58.061730Z",
     "shell.execute_reply": "2021-02-07T06:57:58.060994Z",
     "shell.execute_reply.started": "2021-02-07T06:57:58.035402Z"
    }
   },
   "outputs": [
    {
     "data": {
      "text/plain": [
       "Vec({'water', 'concrete', 'plastic', 'metal', 'electricity'}, {'concrete': 312.0, 'plastic': 130.5, 'electricity': 112.5, 'water': 214.0})"
      ]
     },
     "execution_count": 18,
     "metadata": {},
     "output_type": "execute_result"
    }
   ],
   "source": [
    "240*v_gnome + 55 * v_hoop"
   ]
  },
  {
   "cell_type": "code",
   "execution_count": 19,
   "id": "transparent-transportation",
   "metadata": {
    "execution": {
     "iopub.execute_input": "2021-02-07T06:57:58.063091Z",
     "iopub.status.busy": "2021-02-07T06:57:58.062767Z",
     "iopub.status.idle": "2021-02-07T06:57:58.088688Z",
     "shell.execute_reply": "2021-02-07T06:57:58.088035Z",
     "shell.execute_reply.started": "2021-02-07T06:57:58.063066Z"
    }
   },
   "outputs": [],
   "source": [
    "rowdict = {\n",
    "    'gnome': v_gnome,\n",
    "    'hoop': v_hoop,\n",
    "    'slinky': v_slinky,\n",
    "    'putty': v_putty,\n",
    "    'shooter': v_shooter,\n",
    "}"
   ]
  },
  {
   "cell_type": "code",
   "execution_count": 20,
   "id": "sharing-medicare",
   "metadata": {
    "execution": {
     "iopub.execute_input": "2021-02-07T06:57:58.090277Z",
     "iopub.status.busy": "2021-02-07T06:57:58.089935Z",
     "iopub.status.idle": "2021-02-07T06:57:58.115175Z",
     "shell.execute_reply": "2021-02-07T06:57:58.114417Z",
     "shell.execute_reply.started": "2021-02-07T06:57:58.090245Z"
    }
   },
   "outputs": [],
   "source": [
    "M = rowdict2mat(rowdict)"
   ]
  },
  {
   "cell_type": "code",
   "execution_count": 21,
   "id": "infrared-spread",
   "metadata": {
    "execution": {
     "iopub.execute_input": "2021-02-07T06:57:58.116616Z",
     "iopub.status.busy": "2021-02-07T06:57:58.116334Z",
     "iopub.status.idle": "2021-02-07T06:57:58.144949Z",
     "shell.execute_reply": "2021-02-07T06:57:58.144321Z",
     "shell.execute_reply.started": "2021-02-07T06:57:58.116570Z"
    }
   },
   "outputs": [
    {
     "name": "stdout",
     "output_type": "stream",
     "text": [
      "         water  concrete  plastic  metal  electricity\n",
      "slinky     0.2       0.0      0.0   0.25          0.7\n",
      "hoop       0.4       0.0      1.5   0.00          0.3\n",
      "putty      0.7       0.0      0.3   0.00          0.5\n",
      "gnome      0.8       1.3      0.2   0.00          0.4\n",
      "shooter    0.4       0.0      0.5   0.15          0.8\n"
     ]
    }
   ],
   "source": [
    "print(M)"
   ]
  },
  {
   "cell_type": "code",
   "execution_count": 22,
   "id": "cubic-spider",
   "metadata": {
    "execution": {
     "iopub.execute_input": "2021-02-07T06:57:58.146222Z",
     "iopub.status.busy": "2021-02-07T06:57:58.146002Z",
     "iopub.status.idle": "2021-02-07T06:57:58.170351Z",
     "shell.execute_reply": "2021-02-07T06:57:58.169567Z",
     "shell.execute_reply.started": "2021-02-07T06:57:58.146199Z"
    }
   },
   "outputs": [],
   "source": [
    "R = set(rowdict.keys())"
   ]
  },
  {
   "cell_type": "code",
   "execution_count": 23,
   "id": "catholic-auction",
   "metadata": {
    "execution": {
     "iopub.execute_input": "2021-02-07T06:57:58.171876Z",
     "iopub.status.busy": "2021-02-07T06:57:58.171623Z",
     "iopub.status.idle": "2021-02-07T06:57:58.197948Z",
     "shell.execute_reply": "2021-02-07T06:57:58.197247Z",
     "shell.execute_reply.started": "2021-02-07T06:57:58.171841Z"
    }
   },
   "outputs": [],
   "source": [
    "C = M.D[1]"
   ]
  },
  {
   "cell_type": "code",
   "execution_count": 24,
   "id": "white-trigger",
   "metadata": {
    "execution": {
     "iopub.execute_input": "2021-02-07T06:57:58.203644Z",
     "iopub.status.busy": "2021-02-07T06:57:58.203418Z",
     "iopub.status.idle": "2021-02-07T06:57:58.228409Z",
     "shell.execute_reply": "2021-02-07T06:57:58.227753Z",
     "shell.execute_reply.started": "2021-02-07T06:57:58.203619Z"
    }
   },
   "outputs": [],
   "source": [
    "u = Vec(R, {'putty': 133, 'gnome': 240, 'slinky': 150, 'hoop': 55, 'shooter': 90})"
   ]
  },
  {
   "cell_type": "code",
   "execution_count": 25,
   "id": "deadly-enzyme",
   "metadata": {
    "execution": {
     "iopub.execute_input": "2021-02-07T06:57:58.230311Z",
     "iopub.status.busy": "2021-02-07T06:57:58.230035Z",
     "iopub.status.idle": "2021-02-07T06:57:58.256032Z",
     "shell.execute_reply": "2021-02-07T06:57:58.255397Z",
     "shell.execute_reply.started": "2021-02-07T06:57:58.230281Z"
    }
   },
   "outputs": [
    {
     "data": {
      "text/plain": [
       "({'gnome', 'hoop', 'putty', 'shooter', 'slinky'},\n",
       " {'concrete', 'electricity', 'metal', 'plastic', 'water'})"
      ]
     },
     "execution_count": 25,
     "metadata": {},
     "output_type": "execute_result"
    }
   ],
   "source": [
    "M.D"
   ]
  },
  {
   "cell_type": "markdown",
   "id": "reported-victory",
   "metadata": {
    "execution": {
     "iopub.execute_input": "2021-02-06T08:48:29.173620Z",
     "iopub.status.busy": "2021-02-06T08:48:29.173381Z",
     "iopub.status.idle": "2021-02-06T08:48:29.199990Z",
     "shell.execute_reply": "2021-02-06T08:48:29.199165Z",
     "shell.execute_reply.started": "2021-02-06T08:48:29.173598Z"
    }
   },
   "source": [
    "Vec(M.D[1], {k: u * vec for k, vec in mat2coldict(M).items()})"
   ]
  },
  {
   "cell_type": "code",
   "execution_count": 26,
   "id": "electronic-bride",
   "metadata": {
    "execution": {
     "iopub.execute_input": "2021-02-07T06:57:58.257328Z",
     "iopub.status.busy": "2021-02-07T06:57:58.257034Z",
     "iopub.status.idle": "2021-02-07T06:57:58.284122Z",
     "shell.execute_reply": "2021-02-07T06:57:58.283320Z",
     "shell.execute_reply.started": "2021-02-07T06:57:58.257302Z"
    }
   },
   "outputs": [
    {
     "data": {
      "text/plain": [
       "{'gnome', 'hoop', 'putty', 'shooter', 'slinky'}"
      ]
     },
     "execution_count": 26,
     "metadata": {},
     "output_type": "execute_result"
    }
   ],
   "source": [
    "u.D"
   ]
  },
  {
   "cell_type": "code",
   "execution_count": 27,
   "id": "focused-brother",
   "metadata": {
    "execution": {
     "iopub.execute_input": "2021-02-07T06:57:58.285714Z",
     "iopub.status.busy": "2021-02-07T06:57:58.285492Z",
     "iopub.status.idle": "2021-02-07T06:57:58.311463Z",
     "shell.execute_reply": "2021-02-07T06:57:58.310642Z",
     "shell.execute_reply.started": "2021-02-07T06:57:58.285689Z"
    }
   },
   "outputs": [
    {
     "data": {
      "text/plain": [
       "True"
      ]
     },
     "execution_count": 27,
     "metadata": {},
     "output_type": "execute_result"
    }
   ],
   "source": [
    "isinstance(M, Mat)"
   ]
  },
  {
   "cell_type": "code",
   "execution_count": 28,
   "id": "statistical-indiana",
   "metadata": {
    "execution": {
     "iopub.execute_input": "2021-02-07T06:57:58.312899Z",
     "iopub.status.busy": "2021-02-07T06:57:58.312654Z",
     "iopub.status.idle": "2021-02-07T06:57:58.338632Z",
     "shell.execute_reply": "2021-02-07T06:57:58.337621Z",
     "shell.execute_reply.started": "2021-02-07T06:57:58.312867Z"
    }
   },
   "outputs": [
    {
     "data": {
      "text/plain": [
       "Vec({'water', 'concrete', 'plastic', 'metal', 'electricity'}, {'water': 373.1, 'concrete': 312.0, 'plastic': 215.4, 'metal': 51.0, 'electricity': 356.0})"
      ]
     },
     "execution_count": 28,
     "metadata": {},
     "output_type": "execute_result"
    }
   ],
   "source": [
    "u * M"
   ]
  },
  {
   "cell_type": "code",
   "execution_count": 29,
   "id": "dependent-robert",
   "metadata": {
    "execution": {
     "iopub.execute_input": "2021-02-07T06:57:58.340613Z",
     "iopub.status.busy": "2021-02-07T06:57:58.340330Z",
     "iopub.status.idle": "2021-02-07T06:57:58.369038Z",
     "shell.execute_reply": "2021-02-07T06:57:58.368372Z",
     "shell.execute_reply.started": "2021-02-07T06:57:58.340571Z"
    }
   },
   "outputs": [
    {
     "data": {
      "text/plain": [
       "({0, 1}, {0, 1, 2, 3})"
      ]
     },
     "execution_count": 29,
     "metadata": {},
     "output_type": "execute_result"
    }
   ],
   "source": [
    "A.D"
   ]
  },
  {
   "cell_type": "code",
   "execution_count": 30,
   "id": "pretty-connecticut",
   "metadata": {
    "execution": {
     "iopub.execute_input": "2021-02-07T06:57:58.370355Z",
     "iopub.status.busy": "2021-02-07T06:57:58.370150Z",
     "iopub.status.idle": "2021-02-07T06:57:58.396402Z",
     "shell.execute_reply": "2021-02-07T06:57:58.395744Z",
     "shell.execute_reply.started": "2021-02-07T06:57:58.370331Z"
    }
   },
   "outputs": [
    {
     "data": {
      "text/plain": [
       "[(0, 0), (0, 1), (0, 2), (0, 3), (1, 0), (1, 1), (1, 2), (1, 3)]"
      ]
     },
     "execution_count": 30,
     "metadata": {},
     "output_type": "execute_result"
    }
   ],
   "source": [
    "sorted(A.f.keys())"
   ]
  },
  {
   "cell_type": "code",
   "execution_count": 31,
   "id": "fiscal-skating",
   "metadata": {
    "execution": {
     "iopub.execute_input": "2021-02-07T06:57:58.397728Z",
     "iopub.status.busy": "2021-02-07T06:57:58.397411Z",
     "iopub.status.idle": "2021-02-07T06:57:58.424050Z",
     "shell.execute_reply": "2021-02-07T06:57:58.423427Z",
     "shell.execute_reply.started": "2021-02-07T06:57:58.397702Z"
    }
   },
   "outputs": [
    {
     "data": {
      "text/plain": [
       "{(0, 0): 10,\n",
       " (0, 1): 20,\n",
       " (0, 2): 30,\n",
       " (0, 3): 40,\n",
       " (1, 0): 50,\n",
       " (1, 1): 60,\n",
       " (1, 2): 70,\n",
       " (1, 3): 80}"
      ]
     },
     "execution_count": 31,
     "metadata": {},
     "output_type": "execute_result"
    }
   ],
   "source": [
    "{k: A.f[k] for k in sorted(A.f)}"
   ]
  },
  {
   "cell_type": "code",
   "execution_count": 32,
   "id": "moved-fisher",
   "metadata": {
    "execution": {
     "iopub.execute_input": "2021-02-07T06:57:58.425429Z",
     "iopub.status.busy": "2021-02-07T06:57:58.425251Z",
     "iopub.status.idle": "2021-02-07T06:57:58.450245Z",
     "shell.execute_reply": "2021-02-07T06:57:58.449625Z",
     "shell.execute_reply.started": "2021-02-07T06:57:58.425406Z"
    }
   },
   "outputs": [
    {
     "data": {
      "text/plain": [
       "[(0, 0), (0, 1), (1, 0)]"
      ]
     },
     "execution_count": 32,
     "metadata": {},
     "output_type": "execute_result"
    }
   ],
   "source": [
    "sorted([(1, 0), (0, 0), (0, 1)])"
   ]
  },
  {
   "cell_type": "code",
   "execution_count": 33,
   "id": "looking-gentleman",
   "metadata": {
    "execution": {
     "iopub.execute_input": "2021-02-07T06:57:58.451459Z",
     "iopub.status.busy": "2021-02-07T06:57:58.451277Z",
     "iopub.status.idle": "2021-02-07T06:57:58.473605Z",
     "shell.execute_reply": "2021-02-07T06:57:58.472965Z",
     "shell.execute_reply.started": "2021-02-07T06:57:58.451438Z"
    }
   },
   "outputs": [
    {
     "data": {
      "text/plain": [
       "dict_keys([(0, 0), (0, 1), (0, 2), (0, 3), (1, 0), (1, 1), (1, 2), (1, 3)])"
      ]
     },
     "execution_count": 33,
     "metadata": {},
     "output_type": "execute_result"
    }
   ],
   "source": [
    "A.f.keys()"
   ]
  },
  {
   "cell_type": "code",
   "execution_count": 34,
   "id": "warming-israeli",
   "metadata": {
    "execution": {
     "iopub.execute_input": "2021-02-07T06:57:58.474713Z",
     "iopub.status.busy": "2021-02-07T06:57:58.474467Z",
     "iopub.status.idle": "2021-02-07T06:57:58.495629Z",
     "shell.execute_reply": "2021-02-07T06:57:58.494921Z",
     "shell.execute_reply.started": "2021-02-07T06:57:58.474692Z"
    }
   },
   "outputs": [],
   "source": [
    "import sys\n",
    "sys.path.append('../coding_the_matrix/mat')"
   ]
  },
  {
   "cell_type": "code",
   "execution_count": 35,
   "id": "opposed-scheme",
   "metadata": {
    "execution": {
     "iopub.execute_input": "2021-02-07T06:57:58.497970Z",
     "iopub.status.busy": "2021-02-07T06:57:58.497796Z",
     "iopub.status.idle": "2021-02-07T06:57:58.643220Z",
     "shell.execute_reply": "2021-02-07T06:57:58.642307Z",
     "shell.execute_reply.started": "2021-02-07T06:57:58.497950Z"
    }
   },
   "outputs": [
    {
     "ename": "ImportError",
     "evalue": "Unsupported Python version",
     "output_type": "error",
     "traceback": [
      "\u001b[0;31m---------------------------------------------------------------------------\u001b[0m",
      "\u001b[0;31mImportError\u001b[0m                               Traceback (most recent call last)",
      "\u001b[0;32m<ipython-input-35-117915c2d638>\u001b[0m in \u001b[0;36m<module>\u001b[0;34m\u001b[0m\n\u001b[0;32m----> 1\u001b[0;31m \u001b[0;32mfrom\u001b[0m \u001b[0mcoding_the_matrix\u001b[0m \u001b[0;32mimport\u001b[0m \u001b[0msolver\u001b[0m\u001b[0;34m\u001b[0m\u001b[0;34m\u001b[0m\u001b[0m\n\u001b[0m",
      "\u001b[0;32m~/github.com/banbiossa/coding-the-matrix/coding_the_matrix/solver.py\u001b[0m in \u001b[0;36m<module>\u001b[0;34m\u001b[0m\n\u001b[1;32m     28\u001b[0m \u001b[0;34m\u001b[0m\u001b[0m\n\u001b[1;32m     29\u001b[0m \u001b[0;34m\u001b[0m\u001b[0m\n\u001b[0;32m---> 30\u001b[0;31m \u001b[0mexec\u001b[0m\u001b[0;34m(\u001b[0m\u001b[0m_get_module\u001b[0m\u001b[0;34m(\u001b[0m\u001b[0;34m)\u001b[0m\u001b[0;34m)\u001b[0m\u001b[0;34m\u001b[0m\u001b[0;34m\u001b[0m\u001b[0m\n\u001b[0m",
      "\u001b[0;32m~/github.com/banbiossa/coding-the-matrix/coding_the_matrix/solver.py\u001b[0m in \u001b[0;36m_get_module\u001b[0;34m()\u001b[0m\n\u001b[1;32m     16\u001b[0m         \u001b[0moffset\u001b[0m \u001b[0;34m=\u001b[0m \u001b[0;36m12\u001b[0m\u001b[0;34m\u001b[0m\u001b[0;34m\u001b[0m\u001b[0m\n\u001b[1;32m     17\u001b[0m     \u001b[0;32melse\u001b[0m\u001b[0;34m:\u001b[0m\u001b[0;34m\u001b[0m\u001b[0;34m\u001b[0m\u001b[0m\n\u001b[0;32m---> 18\u001b[0;31m         \u001b[0;32mraise\u001b[0m \u001b[0mImportError\u001b[0m\u001b[0;34m(\u001b[0m\u001b[0;34m\"Unsupported Python version\"\u001b[0m\u001b[0;34m)\u001b[0m\u001b[0;34m\u001b[0m\u001b[0;34m\u001b[0m\u001b[0m\n\u001b[0m\u001b[1;32m     19\u001b[0m \u001b[0;34m\u001b[0m\u001b[0m\n\u001b[1;32m     20\u001b[0m     \u001b[0mpycData\u001b[0m \u001b[0;34m=\u001b[0m \u001b[0mbase64\u001b[0m\u001b[0;34m.\u001b[0m\u001b[0mdecodebytes\u001b[0m\u001b[0;34m(\u001b[0m\u001b[0mpycData\u001b[0m\u001b[0;34m)\u001b[0m\u001b[0;34m\u001b[0m\u001b[0;34m\u001b[0m\u001b[0m\n",
      "\u001b[0;31mImportError\u001b[0m: Unsupported Python version"
     ]
    }
   ],
   "source": [
    "from coding_the_matrix import solver"
   ]
  },
  {
   "cell_type": "code",
   "execution_count": null,
   "id": "subtle-screening",
   "metadata": {
    "execution": {
     "iopub.status.busy": "2021-02-07T06:57:58.644086Z",
     "iopub.status.idle": "2021-02-07T06:57:58.644485Z",
     "shell.execute_reply": "2021-02-07T06:57:58.644324Z"
    }
   },
   "outputs": [],
   "source": [
    "solver.solve()"
   ]
  },
  {
   "cell_type": "code",
   "execution_count": 36,
   "id": "binding-vietnamese",
   "metadata": {
    "execution": {
     "iopub.execute_input": "2021-02-07T06:57:59.228225Z",
     "iopub.status.busy": "2021-02-07T06:57:59.227983Z",
     "iopub.status.idle": "2021-02-07T06:57:59.253779Z",
     "shell.execute_reply": "2021-02-07T06:57:59.253088Z",
     "shell.execute_reply.started": "2021-02-07T06:57:59.228197Z"
    }
   },
   "outputs": [],
   "source": [
    "b = Vec({'metal', 'concrete', 'water', 'electricity', 'plastic'}, {'metal': 51.0, 'concrete': 312.0, 'water': 373.1, 'electricity': 356.0, 'plastic': 215.4})"
   ]
  },
  {
   "cell_type": "code",
   "execution_count": 37,
   "id": "structural-teaching",
   "metadata": {
    "execution": {
     "iopub.execute_input": "2021-02-07T06:57:59.361775Z",
     "iopub.status.busy": "2021-02-07T06:57:59.361510Z",
     "iopub.status.idle": "2021-02-07T06:57:59.388018Z",
     "shell.execute_reply": "2021-02-07T06:57:59.387300Z",
     "shell.execute_reply.started": "2021-02-07T06:57:59.361741Z"
    }
   },
   "outputs": [
    {
     "data": {
      "text/plain": [
       "Mat(({'water', 'concrete', 'plastic', 'metal', 'electricity'}, {'slinky', 'hoop', 'putty', 'gnome', 'shooter'}), {('water', 'gnome'): 0.8, ('concrete', 'gnome'): 1.3, ('plastic', 'gnome'): 0.2, ('metal', 'gnome'): 0, ('electricity', 'gnome'): 0.4, ('water', 'hoop'): 0.4, ('concrete', 'hoop'): 0, ('plastic', 'hoop'): 1.5, ('metal', 'hoop'): 0, ('electricity', 'hoop'): 0.3, ('water', 'slinky'): 0.2, ('concrete', 'slinky'): 0, ('plastic', 'slinky'): 0, ('metal', 'slinky'): 0.25, ('electricity', 'slinky'): 0.7, ('water', 'putty'): 0.7, ('concrete', 'putty'): 0, ('plastic', 'putty'): 0.3, ('metal', 'putty'): 0, ('electricity', 'putty'): 0.5, ('water', 'shooter'): 0.4, ('concrete', 'shooter'): 0, ('plastic', 'shooter'): 0.5, ('metal', 'shooter'): 0.15, ('electricity', 'shooter'): 0.8})"
      ]
     },
     "execution_count": 37,
     "metadata": {},
     "output_type": "execute_result"
    }
   ],
   "source": [
    "M.transpose()"
   ]
  },
  {
   "cell_type": "code",
   "execution_count": 38,
   "id": "facial-mouse",
   "metadata": {
    "execution": {
     "iopub.execute_input": "2021-02-07T06:57:59.553956Z",
     "iopub.status.busy": "2021-02-07T06:57:59.553728Z",
     "iopub.status.idle": "2021-02-07T06:57:59.581173Z",
     "shell.execute_reply": "2021-02-07T06:57:59.580097Z",
     "shell.execute_reply.started": "2021-02-07T06:57:59.553932Z"
    }
   },
   "outputs": [
    {
     "ename": "NameError",
     "evalue": "name 'solver' is not defined",
     "output_type": "error",
     "traceback": [
      "\u001b[0;31m---------------------------------------------------------------------------\u001b[0m",
      "\u001b[0;31mNameError\u001b[0m                                 Traceback (most recent call last)",
      "\u001b[0;32m<ipython-input-38-52af9100c0d5>\u001b[0m in \u001b[0;36m<module>\u001b[0;34m\u001b[0m\n\u001b[0;32m----> 1\u001b[0;31m \u001b[0msolution\u001b[0m \u001b[0;34m=\u001b[0m \u001b[0msolver\u001b[0m\u001b[0;34m.\u001b[0m\u001b[0msolve\u001b[0m\u001b[0;34m(\u001b[0m\u001b[0mM\u001b[0m\u001b[0;34m.\u001b[0m\u001b[0mtranspose\u001b[0m\u001b[0;34m(\u001b[0m\u001b[0;34m)\u001b[0m\u001b[0;34m,\u001b[0m \u001b[0mb\u001b[0m\u001b[0;34m)\u001b[0m\u001b[0;34m\u001b[0m\u001b[0;34m\u001b[0m\u001b[0m\n\u001b[0m",
      "\u001b[0;31mNameError\u001b[0m: name 'solver' is not defined"
     ]
    }
   ],
   "source": [
    "solution = solver.solve(M.transpose(), b)"
   ]
  },
  {
   "cell_type": "code",
   "execution_count": 39,
   "id": "expressed-jefferson",
   "metadata": {
    "execution": {
     "iopub.execute_input": "2021-02-07T06:57:59.705125Z",
     "iopub.status.busy": "2021-02-07T06:57:59.704899Z",
     "iopub.status.idle": "2021-02-07T06:57:59.729117Z",
     "shell.execute_reply": "2021-02-07T06:57:59.728440Z",
     "shell.execute_reply.started": "2021-02-07T06:57:59.705101Z"
    }
   },
   "outputs": [],
   "source": [
    "A = M.transpose()"
   ]
  },
  {
   "cell_type": "code",
   "execution_count": 40,
   "id": "entire-internship",
   "metadata": {
    "execution": {
     "iopub.execute_input": "2021-02-07T06:57:59.827905Z",
     "iopub.status.busy": "2021-02-07T06:57:59.827673Z",
     "iopub.status.idle": "2021-02-07T06:57:59.854041Z",
     "shell.execute_reply": "2021-02-07T06:57:59.853356Z",
     "shell.execute_reply.started": "2021-02-07T06:57:59.827879Z"
    }
   },
   "outputs": [
    {
     "data": {
      "text/plain": [
       "Mat(({'water', 'concrete', 'plastic', 'metal', 'electricity'}, {'slinky', 'hoop', 'putty', 'gnome', 'shooter'}), {('water', 'gnome'): 0.8, ('concrete', 'gnome'): 1.3, ('plastic', 'gnome'): 0.2, ('metal', 'gnome'): 0, ('electricity', 'gnome'): 0.4, ('water', 'hoop'): 0.4, ('concrete', 'hoop'): 0, ('plastic', 'hoop'): 1.5, ('metal', 'hoop'): 0, ('electricity', 'hoop'): 0.3, ('water', 'slinky'): 0.2, ('concrete', 'slinky'): 0, ('plastic', 'slinky'): 0, ('metal', 'slinky'): 0.25, ('electricity', 'slinky'): 0.7, ('water', 'putty'): 0.7, ('concrete', 'putty'): 0, ('plastic', 'putty'): 0.3, ('metal', 'putty'): 0, ('electricity', 'putty'): 0.5, ('water', 'shooter'): 0.4, ('concrete', 'shooter'): 0, ('plastic', 'shooter'): 0.5, ('metal', 'shooter'): 0.15, ('electricity', 'shooter'): 0.8})"
      ]
     },
     "execution_count": 40,
     "metadata": {},
     "output_type": "execute_result"
    }
   ],
   "source": [
    "A"
   ]
  },
  {
   "cell_type": "code",
   "execution_count": 41,
   "id": "threatened-chambers",
   "metadata": {
    "execution": {
     "iopub.execute_input": "2021-02-07T06:58:00.112796Z",
     "iopub.status.busy": "2021-02-07T06:58:00.112547Z",
     "iopub.status.idle": "2021-02-07T06:58:00.139032Z",
     "shell.execute_reply": "2021-02-07T06:58:00.138249Z",
     "shell.execute_reply.started": "2021-02-07T06:58:00.112770Z"
    }
   },
   "outputs": [
    {
     "data": {
      "text/plain": [
       "Vec({'water', 'concrete', 'plastic', 'metal', 'electricity'}, {'metal': 51.0, 'concrete': 312.0, 'water': 373.1, 'electricity': 356.0, 'plastic': 215.4})"
      ]
     },
     "execution_count": 41,
     "metadata": {},
     "output_type": "execute_result"
    }
   ],
   "source": [
    "b"
   ]
  },
  {
   "cell_type": "code",
   "execution_count": 42,
   "id": "rational-officer",
   "metadata": {
    "execution": {
     "iopub.execute_input": "2021-02-07T06:58:00.266816Z",
     "iopub.status.busy": "2021-02-07T06:58:00.266534Z",
     "iopub.status.idle": "2021-02-07T06:58:00.292546Z",
     "shell.execute_reply": "2021-02-07T06:58:00.291888Z",
     "shell.execute_reply.started": "2021-02-07T06:58:00.266784Z"
    }
   },
   "outputs": [],
   "source": [
    "rowdict = mat2rowdict(A)"
   ]
  },
  {
   "cell_type": "code",
   "execution_count": 43,
   "id": "seven-screen",
   "metadata": {
    "execution": {
     "iopub.execute_input": "2021-02-07T06:58:00.379869Z",
     "iopub.status.busy": "2021-02-07T06:58:00.379626Z",
     "iopub.status.idle": "2021-02-07T06:58:00.406701Z",
     "shell.execute_reply": "2021-02-07T06:58:00.405940Z",
     "shell.execute_reply.started": "2021-02-07T06:58:00.379843Z"
    }
   },
   "outputs": [
    {
     "data": {
      "text/plain": [
       "{'water': Vec({'slinky', 'hoop', 'putty', 'gnome', 'shooter'}, {'slinky': 0.2, 'hoop': 0.4, 'putty': 0.7, 'gnome': 0.8, 'shooter': 0.4}),\n",
       " 'concrete': Vec({'slinky', 'hoop', 'putty', 'gnome', 'shooter'}, {'slinky': 0, 'hoop': 0, 'putty': 0, 'gnome': 1.3, 'shooter': 0}),\n",
       " 'plastic': Vec({'slinky', 'hoop', 'putty', 'gnome', 'shooter'}, {'slinky': 0, 'hoop': 1.5, 'putty': 0.3, 'gnome': 0.2, 'shooter': 0.5}),\n",
       " 'metal': Vec({'slinky', 'hoop', 'putty', 'gnome', 'shooter'}, {'slinky': 0.25, 'hoop': 0, 'putty': 0, 'gnome': 0, 'shooter': 0.15}),\n",
       " 'electricity': Vec({'slinky', 'hoop', 'putty', 'gnome', 'shooter'}, {'slinky': 0.7, 'hoop': 0.3, 'putty': 0.5, 'gnome': 0.4, 'shooter': 0.8})}"
      ]
     },
     "execution_count": 43,
     "metadata": {},
     "output_type": "execute_result"
    }
   ],
   "source": [
    "rowdict"
   ]
  },
  {
   "cell_type": "code",
   "execution_count": 44,
   "id": "antique-cleaning",
   "metadata": {
    "execution": {
     "iopub.execute_input": "2021-02-07T06:58:00.559598Z",
     "iopub.status.busy": "2021-02-07T06:58:00.559362Z",
     "iopub.status.idle": "2021-02-07T06:58:00.586066Z",
     "shell.execute_reply": "2021-02-07T06:58:00.585371Z",
     "shell.execute_reply.started": "2021-02-07T06:58:00.559571Z"
    }
   },
   "outputs": [
    {
     "data": {
      "text/plain": [
       "Vec({'water', 'concrete', 'plastic', 'metal', 'electricity'}, {'metal': 51.0, 'concrete': 312.0, 'water': 373.1, 'electricity': 356.0, 'plastic': 215.4})"
      ]
     },
     "execution_count": 44,
     "metadata": {},
     "output_type": "execute_result"
    }
   ],
   "source": [
    "b"
   ]
  },
  {
   "cell_type": "code",
   "execution_count": 45,
   "id": "incomplete-minnesota",
   "metadata": {
    "execution": {
     "iopub.execute_input": "2021-02-07T06:58:00.720198Z",
     "iopub.status.busy": "2021-02-07T06:58:00.719958Z",
     "iopub.status.idle": "2021-02-07T06:58:00.746719Z",
     "shell.execute_reply": "2021-02-07T06:58:00.746011Z",
     "shell.execute_reply.started": "2021-02-07T06:58:00.720172Z"
    }
   },
   "outputs": [
    {
     "data": {
      "text/plain": [
       "{'concrete', 'electricity', 'metal', 'plastic', 'water'}"
      ]
     },
     "execution_count": 45,
     "metadata": {},
     "output_type": "execute_result"
    }
   ],
   "source": [
    "b.D"
   ]
  },
  {
   "cell_type": "code",
   "execution_count": 46,
   "id": "sexual-highway",
   "metadata": {
    "execution": {
     "iopub.execute_input": "2021-02-07T06:58:01.608938Z",
     "iopub.status.busy": "2021-02-07T06:58:01.608698Z",
     "iopub.status.idle": "2021-02-07T06:58:01.634734Z",
     "shell.execute_reply": "2021-02-07T06:58:01.633926Z",
     "shell.execute_reply.started": "2021-02-07T06:58:01.608912Z"
    }
   },
   "outputs": [],
   "source": [
    "R, C = A.D\n",
    "assert len(R) == len(C)\n",
    "N = len(R)"
   ]
  },
  {
   "cell_type": "code",
   "execution_count": 47,
   "id": "naval-cricket",
   "metadata": {
    "execution": {
     "iopub.execute_input": "2021-02-07T06:58:01.731997Z",
     "iopub.status.busy": "2021-02-07T06:58:01.731745Z",
     "iopub.status.idle": "2021-02-07T06:58:01.758255Z",
     "shell.execute_reply": "2021-02-07T06:58:01.757493Z",
     "shell.execute_reply.started": "2021-02-07T06:58:01.731972Z"
    }
   },
   "outputs": [
    {
     "data": {
      "text/plain": [
       "{'concrete', 'electricity', 'metal', 'plastic', 'water'}"
      ]
     },
     "execution_count": 47,
     "metadata": {},
     "output_type": "execute_result"
    }
   ],
   "source": [
    "R"
   ]
  },
  {
   "cell_type": "code",
   "execution_count": 48,
   "id": "little-winner",
   "metadata": {
    "execution": {
     "iopub.execute_input": "2021-02-07T06:58:01.885988Z",
     "iopub.status.busy": "2021-02-07T06:58:01.885758Z",
     "iopub.status.idle": "2021-02-07T06:58:01.912285Z",
     "shell.execute_reply": "2021-02-07T06:58:01.911508Z",
     "shell.execute_reply.started": "2021-02-07T06:58:01.885963Z"
    }
   },
   "outputs": [
    {
     "data": {
      "text/plain": [
       "Vec({'water', 'concrete', 'plastic', 'metal', 'electricity'}, {'metal': 51.0, 'concrete': 312.0, 'water': 373.1, 'electricity': 356.0, 'plastic': 215.4})"
      ]
     },
     "execution_count": 48,
     "metadata": {},
     "output_type": "execute_result"
    }
   ],
   "source": [
    "b"
   ]
  },
  {
   "cell_type": "code",
   "execution_count": 92,
   "id": "parliamentary-indicator",
   "metadata": {
    "execution": {
     "iopub.execute_input": "2021-02-07T07:11:22.630376Z",
     "iopub.status.busy": "2021-02-07T07:11:22.630141Z",
     "iopub.status.idle": "2021-02-07T07:11:22.657322Z",
     "shell.execute_reply": "2021-02-07T07:11:22.656582Z",
     "shell.execute_reply.started": "2021-02-07T07:11:22.630349Z"
    }
   },
   "outputs": [],
   "source": [
    "from typing import Tuple\n",
    "def get_max_row(col, rowdict, used=None) -> Tuple[str, Vec]:\n",
    "    \"\"\"get row from rowdict where col is max\"\"\"\n",
    "    rowdict = rowdict.copy()\n",
    "    if used is not None:\n",
    "        [rowdict.pop(key) for key in used]\n",
    "    return sorted(rowdict.items(), key= lambda x: x[1].f[col])[-1]"
   ]
  },
  {
   "cell_type": "code",
   "execution_count": 96,
   "id": "finite-trust",
   "metadata": {
    "execution": {
     "iopub.execute_input": "2021-02-07T07:11:25.181703Z",
     "iopub.status.busy": "2021-02-07T07:11:25.181458Z",
     "iopub.status.idle": "2021-02-07T07:11:25.209638Z",
     "shell.execute_reply": "2021-02-07T07:11:25.208874Z",
     "shell.execute_reply.started": "2021-02-07T07:11:25.181676Z"
    }
   },
   "outputs": [
    {
     "data": {
      "text/plain": [
       "{'water': Vec({'slinky', 'hoop', 'putty', 'gnome', 'shooter'}, {'slinky': 0.0, 'hoop': 0.0, 'putty': 1.0, 'gnome': 0.0, 'shooter': 0.0}),\n",
       " 'concrete': Vec({'slinky', 'hoop', 'putty', 'gnome', 'shooter'}, {'slinky': 0.0, 'hoop': 0.0, 'putty': 0.0, 'gnome': 1.0, 'shooter': 0.0}),\n",
       " 'plastic': Vec({'slinky', 'hoop', 'putty', 'gnome', 'shooter'}, {'slinky': 0.0, 'hoop': 1.0, 'putty': 0.0, 'gnome': 0.0, 'shooter': 0.0}),\n",
       " 'metal': Vec({'slinky', 'hoop', 'putty', 'gnome', 'shooter'}, {'slinky': -0.0, 'hoop': -0.0, 'putty': -0.0, 'gnome': -0.0, 'shooter': 1.0}),\n",
       " 'electricity': Vec({'slinky', 'hoop', 'putty', 'gnome', 'shooter'}, {'slinky': 1.0, 'hoop': 0.0, 'putty': 0.0, 'gnome': 0.0, 'shooter': 0.0})}"
      ]
     },
     "execution_count": 96,
     "metadata": {},
     "output_type": "execute_result"
    }
   ],
   "source": [
    "rowdict"
   ]
  },
  {
   "cell_type": "code",
   "execution_count": 123,
   "id": "suffering-cabinet",
   "metadata": {
    "execution": {
     "iopub.execute_input": "2021-02-07T07:18:14.418023Z",
     "iopub.status.busy": "2021-02-07T07:18:14.417778Z",
     "iopub.status.idle": "2021-02-07T07:18:14.447102Z",
     "shell.execute_reply": "2021-02-07T07:18:14.446416Z",
     "shell.execute_reply.started": "2021-02-07T07:18:14.417996Z"
    }
   },
   "outputs": [],
   "source": [
    "rowdict = mat2rowdict(A)\n",
    "b = Vec({'metal', 'concrete', 'water', 'electricity', 'plastic'}, {'metal': 51.0, 'concrete': 312.0, 'water': 373.1, 'electricity': 356.0, 'plastic': 215.4})\n",
    "upper_triangle = {}  # 結果をいれる\n",
    "\n",
    "# select col to operate on\n",
    "for col in C:\n",
    "    # get row where col is max value\n",
    "    row, rowvec = get_max_row(col, rowdict, used=upper_triangle.keys())\n",
    "    # rowdict.pop(row)\n",
    "    \n",
    "    # update yourself (to one)\n",
    "    coef = 1 / rowvec[col]\n",
    "    rowvec *= coef\n",
    "    assert rowvec[col] == 1\n",
    "    b[row] *= coef\n",
    "    rowdict[row] = rowvec\n",
    "    \n",
    "    # iterate over the rows\n",
    "    for other, othervec in rowdict.items():\n",
    "        if row == other:\n",
    "            continue\n",
    "            \n",
    "        # coef\n",
    "        coef = othervec[col]/rowvec[col]\n",
    "\n",
    "        # update rowvec\n",
    "        othervec -= coef * rowvec\n",
    "        rowdict[other] = othervec\n",
    "\n",
    "        # update b\n",
    "        b[other] -= coef * b[row]"
   ]
  },
  {
   "cell_type": "code",
   "execution_count": 137,
   "id": "straight-average",
   "metadata": {
    "execution": {
     "iopub.execute_input": "2021-02-07T14:49:04.439676Z",
     "iopub.status.busy": "2021-02-07T14:49:04.439432Z",
     "iopub.status.idle": "2021-02-07T14:49:04.468074Z",
     "shell.execute_reply": "2021-02-07T14:49:04.467368Z",
     "shell.execute_reply.started": "2021-02-07T14:49:04.439648Z"
    }
   },
   "outputs": [],
   "source": [
    "D = {\"metal\", \"concrete\", \"plastic\", \"water\", \"electricity\"}\n",
    "v_gnome = Vec(\n",
    "    D, {\"concrete\": 1.3, \"plastic\": 0.2, \"water\": 0.8, \"electricity\": 0.4}\n",
    ")\n",
    "v_hoop = Vec(D, {\"plastic\": 1.5, \"water\": 0.4, \"electricity\": 0.3})\n",
    "v_slinky = Vec(D, {\"metal\": 0.25, \"water\": 0.2, \"electricity\": 0.7})\n",
    "v_putty = Vec(D, {\"plastic\": 0.3, \"water\": 0.7, \"electricity\": 0.5})\n",
    "v_shooter = Vec(\n",
    "    D, {\"metal\": 0.15, \"plastic\": 0.5, \"water\": 0.4, \"electricity\": 0.8}\n",
    ")\n",
    "rowdict = {\n",
    "    \"gnome\": v_gnome,\n",
    "    \"hoop\": v_hoop,\n",
    "    \"slinky\": v_slinky,\n",
    "    \"putty\": v_putty,\n",
    "    \"shooter\": v_shooter,\n",
    "}\n",
    "M = rowdict2mat(rowdict)\n",
    "b = Vec(\n",
    "    {\"metal\", \"concrete\", \"water\", \"electricity\", \"plastic\"},\n",
    "    {\n",
    "        \"metal\": 51.0,\n",
    "        \"concrete\": 312.0,\n",
    "        \"water\": 373.1,\n",
    "        \"electricity\": 356.0,\n",
    "        \"plastic\": 215.4,\n",
    "    },\n",
    ")"
   ]
  },
  {
   "cell_type": "code",
   "execution_count": 138,
   "id": "expired-disaster",
   "metadata": {
    "execution": {
     "iopub.execute_input": "2021-02-07T14:49:12.905711Z",
     "iopub.status.busy": "2021-02-07T14:49:12.905465Z",
     "iopub.status.idle": "2021-02-07T14:49:12.931365Z",
     "shell.execute_reply": "2021-02-07T14:49:12.930688Z",
     "shell.execute_reply.started": "2021-02-07T14:49:12.905684Z"
    }
   },
   "outputs": [],
   "source": [
    "from coding_the_matrix.solve import solve"
   ]
  },
  {
   "cell_type": "code",
   "execution_count": 139,
   "id": "selected-russia",
   "metadata": {
    "execution": {
     "iopub.execute_input": "2021-02-07T14:49:14.559976Z",
     "iopub.status.busy": "2021-02-07T14:49:14.559729Z",
     "iopub.status.idle": "2021-02-07T14:49:14.657027Z",
     "shell.execute_reply": "2021-02-07T14:49:14.656523Z",
     "shell.execute_reply.started": "2021-02-07T14:49:14.559949Z"
    }
   },
   "outputs": [
    {
     "name": "stdout",
     "output_type": "stream",
     "text": [
      " shooter  gnome  putty  slinky  hoop\n",
      "    90.0  240.0  133.0   150.0  55.0\n"
     ]
    }
   ],
   "source": [
    "A = M.transpose()\n",
    "x = solve(A, b)\n",
    "residual = b - x * M\n",
    "assert np.isclose(residual * residual, 0)\n",
    "print(x)"
   ]
  },
  {
   "cell_type": "code",
   "execution_count": 133,
   "id": "regional-general",
   "metadata": {
    "execution": {
     "iopub.execute_input": "2021-02-07T07:19:32.193810Z",
     "iopub.status.busy": "2021-02-07T07:19:32.193566Z",
     "iopub.status.idle": "2021-02-07T07:19:32.220021Z",
     "shell.execute_reply": "2021-02-07T07:19:32.219194Z",
     "shell.execute_reply.started": "2021-02-07T07:19:32.193785Z"
    }
   },
   "outputs": [
    {
     "data": {
      "text/plain": [
       "'electricity'"
      ]
     },
     "execution_count": 133,
     "metadata": {},
     "output_type": "execute_result"
    }
   ],
   "source": [
    "row"
   ]
  },
  {
   "cell_type": "code",
   "execution_count": 134,
   "id": "neural-place",
   "metadata": {
    "execution": {
     "iopub.execute_input": "2021-02-07T07:19:34.337115Z",
     "iopub.status.busy": "2021-02-07T07:19:34.336841Z",
     "iopub.status.idle": "2021-02-07T07:19:34.364187Z",
     "shell.execute_reply": "2021-02-07T07:19:34.363547Z",
     "shell.execute_reply.started": "2021-02-07T07:19:34.337085Z"
    }
   },
   "outputs": [
    {
     "data": {
      "text/plain": [
       "'electricity'"
      ]
     },
     "execution_count": 134,
     "metadata": {},
     "output_type": "execute_result"
    }
   ],
   "source": [
    "other"
   ]
  },
  {
   "cell_type": "code",
   "execution_count": 131,
   "id": "sound-tractor",
   "metadata": {
    "execution": {
     "iopub.execute_input": "2021-02-07T07:19:18.785408Z",
     "iopub.status.busy": "2021-02-07T07:19:18.785165Z",
     "iopub.status.idle": "2021-02-07T07:19:18.812487Z",
     "shell.execute_reply": "2021-02-07T07:19:18.811783Z",
     "shell.execute_reply.started": "2021-02-07T07:19:18.785381Z"
    }
   },
   "outputs": [
    {
     "data": {
      "text/plain": [
       "Vec({'slinky', 'hoop', 'putty', 'gnome', 'shooter'}, {'slinky': 0.9999999999999997, 'hoop': 0.0, 'putty': 0.6285714285714283, 'gnome': 0.0, 'shooter': 1.0})"
      ]
     },
     "execution_count": 131,
     "metadata": {},
     "output_type": "execute_result"
    }
   ],
   "source": [
    "othervec"
   ]
  },
  {
   "cell_type": "code",
   "execution_count": 132,
   "id": "round-discussion",
   "metadata": {
    "execution": {
     "iopub.execute_input": "2021-02-07T07:19:19.041724Z",
     "iopub.status.busy": "2021-02-07T07:19:19.041484Z",
     "iopub.status.idle": "2021-02-07T07:19:19.068326Z",
     "shell.execute_reply": "2021-02-07T07:19:19.067564Z",
     "shell.execute_reply.started": "2021-02-07T07:19:19.041699Z"
    }
   },
   "outputs": [
    {
     "data": {
      "text/plain": [
       "Vec({'slinky', 'hoop', 'putty', 'gnome', 'shooter'}, {'slinky': 0.9999999999999997, 'hoop': 0.0, 'putty': 0.6285714285714283, 'gnome': 0.0, 'shooter': 1.0})"
      ]
     },
     "execution_count": 132,
     "metadata": {},
     "output_type": "execute_result"
    }
   ],
   "source": [
    "rowvec"
   ]
  },
  {
   "cell_type": "code",
   "execution_count": 128,
   "id": "trained-swimming",
   "metadata": {
    "execution": {
     "iopub.execute_input": "2021-02-07T07:18:38.684862Z",
     "iopub.status.busy": "2021-02-07T07:18:38.684613Z",
     "iopub.status.idle": "2021-02-07T07:18:38.712287Z",
     "shell.execute_reply": "2021-02-07T07:18:38.711522Z",
     "shell.execute_reply.started": "2021-02-07T07:18:38.684836Z"
    }
   },
   "outputs": [
    {
     "data": {
      "text/plain": [
       "{'water': Vec({'slinky', 'hoop', 'putty', 'gnome', 'shooter'}, {'slinky': -0.06666666666666665, 'hoop': 0.0, 'putty': 0.4523809523809524, 'gnome': 0.0, 'shooter': 0.0}),\n",
       " 'concrete': Vec({'slinky', 'hoop', 'putty', 'gnome', 'shooter'}, {'slinky': 0.0, 'hoop': 0.0, 'putty': 0.0, 'gnome': 1.0, 'shooter': 0.0}),\n",
       " 'plastic': Vec({'slinky', 'hoop', 'putty', 'gnome', 'shooter'}, {'slinky': -0.3333333333333332, 'hoop': 1.0, 'putty': -0.009523809523809441, 'gnome': 0.0, 'shooter': 0.0}),\n",
       " 'metal': Vec({'slinky', 'hoop', 'putty', 'gnome', 'shooter'}, {'slinky': 0.09999999999999998, 'hoop': 0.0, 'putty': -0.0942857142857143, 'gnome': 0.0, 'shooter': 0.0}),\n",
       " 'electricity': Vec({'slinky', 'hoop', 'putty', 'gnome', 'shooter'}, {'slinky': 0.9999999999999997, 'hoop': 0.0, 'putty': 0.6285714285714283, 'gnome': 0.0, 'shooter': 1.0})}"
      ]
     },
     "execution_count": 128,
     "metadata": {},
     "output_type": "execute_result"
    }
   ],
   "source": [
    "rowdict"
   ]
  },
  {
   "cell_type": "code",
   "execution_count": 127,
   "id": "light-consumption",
   "metadata": {
    "execution": {
     "iopub.execute_input": "2021-02-07T07:18:23.379165Z",
     "iopub.status.busy": "2021-02-07T07:18:23.378923Z",
     "iopub.status.idle": "2021-02-07T07:18:23.405123Z",
     "shell.execute_reply": "2021-02-07T07:18:23.404464Z",
     "shell.execute_reply.started": "2021-02-07T07:18:23.379137Z"
    }
   },
   "outputs": [
    {
     "data": {
      "text/plain": [
       "323.5999999999999"
      ]
     },
     "execution_count": 127,
     "metadata": {},
     "output_type": "execute_result"
    }
   ],
   "source": [
    "b[row]"
   ]
  },
  {
   "cell_type": "code",
   "execution_count": 124,
   "id": "handled-davis",
   "metadata": {
    "execution": {
     "iopub.execute_input": "2021-02-07T07:18:14.916215Z",
     "iopub.status.busy": "2021-02-07T07:18:14.915971Z",
     "iopub.status.idle": "2021-02-07T07:18:14.943223Z",
     "shell.execute_reply": "2021-02-07T07:18:14.942498Z",
     "shell.execute_reply.started": "2021-02-07T07:18:14.916189Z"
    }
   },
   "outputs": [
    {
     "data": {
      "text/plain": [
       "Vec({'slinky', 'hoop', 'putty', 'gnome', 'shooter'}, {'slinky': 0.9999999999999997, 'hoop': 0.0, 'putty': 0.6285714285714283, 'gnome': 0.0, 'shooter': 1.0})"
      ]
     },
     "execution_count": 124,
     "metadata": {},
     "output_type": "execute_result"
    }
   ],
   "source": [
    "othervec"
   ]
  },
  {
   "cell_type": "code",
   "execution_count": 125,
   "id": "miniature-spring",
   "metadata": {
    "execution": {
     "iopub.execute_input": "2021-02-07T07:18:15.217605Z",
     "iopub.status.busy": "2021-02-07T07:18:15.217366Z",
     "iopub.status.idle": "2021-02-07T07:18:15.244067Z",
     "shell.execute_reply": "2021-02-07T07:18:15.243341Z",
     "shell.execute_reply.started": "2021-02-07T07:18:15.217579Z"
    }
   },
   "outputs": [
    {
     "data": {
      "text/plain": [
       "'electricity'"
      ]
     },
     "execution_count": 125,
     "metadata": {},
     "output_type": "execute_result"
    }
   ],
   "source": [
    "row"
   ]
  },
  {
   "cell_type": "code",
   "execution_count": 113,
   "id": "compound-maple",
   "metadata": {
    "execution": {
     "iopub.execute_input": "2021-02-07T07:15:44.104190Z",
     "iopub.status.busy": "2021-02-07T07:15:44.103948Z",
     "iopub.status.idle": "2021-02-07T07:15:44.130787Z",
     "shell.execute_reply": "2021-02-07T07:15:44.130058Z",
     "shell.execute_reply.started": "2021-02-07T07:15:44.104163Z"
    }
   },
   "outputs": [
    {
     "data": {
      "text/plain": [
       "323.5999999999999"
      ]
     },
     "execution_count": 113,
     "metadata": {},
     "output_type": "execute_result"
    }
   ],
   "source": [
    "b[row]"
   ]
  },
  {
   "cell_type": "code",
   "execution_count": 116,
   "id": "nasty-ethics",
   "metadata": {
    "execution": {
     "iopub.execute_input": "2021-02-07T07:15:58.391430Z",
     "iopub.status.busy": "2021-02-07T07:15:58.391184Z",
     "iopub.status.idle": "2021-02-07T07:15:58.417077Z",
     "shell.execute_reply": "2021-02-07T07:15:58.416378Z",
     "shell.execute_reply.started": "2021-02-07T07:15:58.391404Z"
    }
   },
   "outputs": [],
   "source": [
    "b[row] *= coef"
   ]
  },
  {
   "cell_type": "code",
   "execution_count": 117,
   "id": "leading-moore",
   "metadata": {
    "execution": {
     "iopub.execute_input": "2021-02-07T07:16:00.415264Z",
     "iopub.status.busy": "2021-02-07T07:16:00.415036Z",
     "iopub.status.idle": "2021-02-07T07:16:00.437866Z",
     "shell.execute_reply": "2021-02-07T07:16:00.437268Z",
     "shell.execute_reply.started": "2021-02-07T07:16:00.415241Z"
    }
   },
   "outputs": [
    {
     "data": {
      "text/plain": [
       "0.15000000000000008"
      ]
     },
     "execution_count": 117,
     "metadata": {},
     "output_type": "execute_result"
    }
   ],
   "source": [
    "coef"
   ]
  },
  {
   "cell_type": "code",
   "execution_count": 119,
   "id": "attached-moisture",
   "metadata": {
    "execution": {
     "iopub.execute_input": "2021-02-07T07:16:06.241985Z",
     "iopub.status.busy": "2021-02-07T07:16:06.241751Z",
     "iopub.status.idle": "2021-02-07T07:16:06.267897Z",
     "shell.execute_reply": "2021-02-07T07:16:06.267126Z",
     "shell.execute_reply.started": "2021-02-07T07:16:06.241960Z"
    }
   },
   "outputs": [
    {
     "data": {
      "text/plain": [
       "48.54000000000001"
      ]
     },
     "execution_count": 119,
     "metadata": {},
     "output_type": "execute_result"
    }
   ],
   "source": [
    "b[row]"
   ]
  },
  {
   "cell_type": "code",
   "execution_count": 109,
   "id": "eligible-gibraltar",
   "metadata": {
    "execution": {
     "iopub.execute_input": "2021-02-07T07:14:58.771130Z",
     "iopub.status.busy": "2021-02-07T07:14:58.770887Z",
     "iopub.status.idle": "2021-02-07T07:14:58.797610Z",
     "shell.execute_reply": "2021-02-07T07:14:58.796950Z",
     "shell.execute_reply.started": "2021-02-07T07:14:58.771104Z"
    }
   },
   "outputs": [
    {
     "data": {
      "text/plain": [
       "{'water': Vec({'slinky', 'hoop', 'putty', 'gnome', 'shooter'}, {'slinky': -0.06666666666666665, 'hoop': 0.0, 'putty': 0.4523809523809524, 'gnome': 0.0, 'shooter': 0.0}),\n",
       " 'concrete': Vec({'slinky', 'hoop', 'putty', 'gnome', 'shooter'}, {'slinky': 0.0, 'hoop': 0.0, 'putty': 0.0, 'gnome': 1.0, 'shooter': 0.0}),\n",
       " 'plastic': Vec({'slinky', 'hoop', 'putty', 'gnome', 'shooter'}, {'slinky': -0.3333333333333332, 'hoop': 1.0, 'putty': -0.009523809523809441, 'gnome': 0.0, 'shooter': 0.0}),\n",
       " 'metal': Vec({'slinky', 'hoop', 'putty', 'gnome', 'shooter'}, {'slinky': 0.09999999999999998, 'hoop': 0.0, 'putty': -0.0942857142857143, 'gnome': 0.0, 'shooter': 0.0}),\n",
       " 'electricity': Vec({'slinky', 'hoop', 'putty', 'gnome', 'shooter'}, {'slinky': 0.9999999999999997, 'hoop': 0.0, 'putty': 0.6285714285714283, 'gnome': 0.0, 'shooter': 1.0})}"
      ]
     },
     "execution_count": 109,
     "metadata": {},
     "output_type": "execute_result"
    }
   ],
   "source": [
    "rowdict"
   ]
  },
  {
   "cell_type": "code",
   "execution_count": 110,
   "id": "recorded-vocabulary",
   "metadata": {
    "execution": {
     "iopub.execute_input": "2021-02-07T07:15:01.393524Z",
     "iopub.status.busy": "2021-02-07T07:15:01.393278Z",
     "iopub.status.idle": "2021-02-07T07:15:01.420750Z",
     "shell.execute_reply": "2021-02-07T07:15:01.420014Z",
     "shell.execute_reply.started": "2021-02-07T07:15:01.393497Z"
    }
   },
   "outputs": [
    {
     "data": {
      "text/plain": [
       "Vec({'water', 'concrete', 'plastic', 'metal', 'electricity'}, {'metal': 2.460000000000001, 'concrete': 239.99999999999997, 'water': 50.166666666666714, 'electricity': 323.5999999999999, 'plastic': 3.7333333333333627})"
      ]
     },
     "execution_count": 110,
     "metadata": {},
     "output_type": "execute_result"
    }
   ],
   "source": [
    "b"
   ]
  },
  {
   "cell_type": "code",
   "execution_count": 95,
   "id": "changing-fireplace",
   "metadata": {
    "execution": {
     "iopub.execute_input": "2021-02-07T07:11:23.665022Z",
     "iopub.status.busy": "2021-02-07T07:11:23.664783Z",
     "iopub.status.idle": "2021-02-07T07:11:23.691078Z",
     "shell.execute_reply": "2021-02-07T07:11:23.690309Z",
     "shell.execute_reply.started": "2021-02-07T07:11:23.664996Z"
    }
   },
   "outputs": [
    {
     "name": "stdout",
     "output_type": "stream",
     "text": [
      "slinky\n",
      "hoop\n",
      "putty\n",
      "gnome\n",
      "shooter\n"
     ]
    }
   ],
   "source": [
    "for col in C:\n",
    "    print(col)"
   ]
  },
  {
   "cell_type": "code",
   "execution_count": 111,
   "id": "suburban-orientation",
   "metadata": {
    "execution": {
     "iopub.execute_input": "2021-02-07T07:15:08.820635Z",
     "iopub.status.busy": "2021-02-07T07:15:08.820396Z",
     "iopub.status.idle": "2021-02-07T07:15:08.847172Z",
     "shell.execute_reply": "2021-02-07T07:15:08.846517Z",
     "shell.execute_reply.started": "2021-02-07T07:15:08.820609Z"
    }
   },
   "outputs": [
    {
     "data": {
      "text/plain": [
       "{}"
      ]
     },
     "execution_count": 111,
     "metadata": {},
     "output_type": "execute_result"
    }
   ],
   "source": [
    "upper_triangle"
   ]
  },
  {
   "cell_type": "code",
   "execution_count": 98,
   "id": "extreme-contribution",
   "metadata": {
    "execution": {
     "iopub.execute_input": "2021-02-07T07:11:28.774353Z",
     "iopub.status.busy": "2021-02-07T07:11:28.774134Z",
     "iopub.status.idle": "2021-02-07T07:11:28.796763Z",
     "shell.execute_reply": "2021-02-07T07:11:28.796189Z",
     "shell.execute_reply.started": "2021-02-07T07:11:28.774330Z"
    }
   },
   "outputs": [],
   "source": [
    "M2 = rowdict2mat(upper_triangle)"
   ]
  },
  {
   "cell_type": "code",
   "execution_count": 99,
   "id": "blessed-diploma",
   "metadata": {
    "execution": {
     "iopub.execute_input": "2021-02-07T07:11:29.064036Z",
     "iopub.status.busy": "2021-02-07T07:11:29.063794Z",
     "iopub.status.idle": "2021-02-07T07:11:29.093678Z",
     "shell.execute_reply": "2021-02-07T07:11:29.092938Z",
     "shell.execute_reply.started": "2021-02-07T07:11:29.064010Z"
    }
   },
   "outputs": [
    {
     "name": "stdout",
     "output_type": "stream",
     "text": [
      "             slinky      hoop     putty     gnome   shooter\n",
      "water           0.0  0.000000  1.000000  1.302505  0.134875\n",
      "metal          -0.0 -0.000000 -0.000000 -0.000000  1.000000\n",
      "concrete        0.0  0.000000  0.000000  1.000000  0.000000\n",
      "plastic         0.0  1.000000  0.200000  0.133333  0.333333\n",
      "electricity     1.0  0.428571  0.714286  0.571429  1.142857\n"
     ]
    }
   ],
   "source": [
    "print(M2)"
   ]
  },
  {
   "cell_type": "code",
   "execution_count": 100,
   "id": "gross-dimension",
   "metadata": {
    "execution": {
     "iopub.execute_input": "2021-02-07T07:11:39.185366Z",
     "iopub.status.busy": "2021-02-07T07:11:39.185120Z",
     "iopub.status.idle": "2021-02-07T07:11:39.211355Z",
     "shell.execute_reply": "2021-02-07T07:11:39.210627Z",
     "shell.execute_reply.started": "2021-02-07T07:11:39.185339Z"
    }
   },
   "outputs": [],
   "source": [
    "df = M2.to_pandas()"
   ]
  },
  {
   "cell_type": "code",
   "execution_count": 101,
   "id": "motivated-johns",
   "metadata": {
    "execution": {
     "iopub.execute_input": "2021-02-07T07:11:39.378093Z",
     "iopub.status.busy": "2021-02-07T07:11:39.377816Z",
     "iopub.status.idle": "2021-02-07T07:11:39.409331Z",
     "shell.execute_reply": "2021-02-07T07:11:39.408482Z",
     "shell.execute_reply.started": "2021-02-07T07:11:39.378062Z"
    }
   },
   "outputs": [
    {
     "data": {
      "text/html": [
       "<div>\n",
       "<style scoped>\n",
       "    .dataframe tbody tr th:only-of-type {\n",
       "        vertical-align: middle;\n",
       "    }\n",
       "\n",
       "    .dataframe tbody tr th {\n",
       "        vertical-align: top;\n",
       "    }\n",
       "\n",
       "    .dataframe thead th {\n",
       "        text-align: right;\n",
       "    }\n",
       "</style>\n",
       "<table border=\"1\" class=\"dataframe\">\n",
       "  <thead>\n",
       "    <tr style=\"text-align: right;\">\n",
       "      <th></th>\n",
       "      <th>slinky</th>\n",
       "      <th>hoop</th>\n",
       "      <th>putty</th>\n",
       "      <th>gnome</th>\n",
       "      <th>shooter</th>\n",
       "    </tr>\n",
       "  </thead>\n",
       "  <tbody>\n",
       "    <tr>\n",
       "      <th>water</th>\n",
       "      <td>0.0</td>\n",
       "      <td>0.000000</td>\n",
       "      <td>1.000000</td>\n",
       "      <td>1.302505</td>\n",
       "      <td>0.134875</td>\n",
       "    </tr>\n",
       "    <tr>\n",
       "      <th>metal</th>\n",
       "      <td>-0.0</td>\n",
       "      <td>-0.000000</td>\n",
       "      <td>-0.000000</td>\n",
       "      <td>-0.000000</td>\n",
       "      <td>1.000000</td>\n",
       "    </tr>\n",
       "    <tr>\n",
       "      <th>concrete</th>\n",
       "      <td>0.0</td>\n",
       "      <td>0.000000</td>\n",
       "      <td>0.000000</td>\n",
       "      <td>1.000000</td>\n",
       "      <td>0.000000</td>\n",
       "    </tr>\n",
       "    <tr>\n",
       "      <th>plastic</th>\n",
       "      <td>0.0</td>\n",
       "      <td>1.000000</td>\n",
       "      <td>0.200000</td>\n",
       "      <td>0.133333</td>\n",
       "      <td>0.333333</td>\n",
       "    </tr>\n",
       "    <tr>\n",
       "      <th>electricity</th>\n",
       "      <td>1.0</td>\n",
       "      <td>0.428571</td>\n",
       "      <td>0.714286</td>\n",
       "      <td>0.571429</td>\n",
       "      <td>1.142857</td>\n",
       "    </tr>\n",
       "  </tbody>\n",
       "</table>\n",
       "</div>"
      ],
      "text/plain": [
       "             slinky      hoop     putty     gnome   shooter\n",
       "water           0.0  0.000000  1.000000  1.302505  0.134875\n",
       "metal          -0.0 -0.000000 -0.000000 -0.000000  1.000000\n",
       "concrete        0.0  0.000000  0.000000  1.000000  0.000000\n",
       "plastic         0.0  1.000000  0.200000  0.133333  0.333333\n",
       "electricity     1.0  0.428571  0.714286  0.571429  1.142857"
      ]
     },
     "execution_count": 101,
     "metadata": {},
     "output_type": "execute_result"
    }
   ],
   "source": [
    "df"
   ]
  },
  {
   "cell_type": "code",
   "execution_count": 102,
   "id": "advance-course",
   "metadata": {
    "execution": {
     "iopub.execute_input": "2021-02-07T07:11:39.568522Z",
     "iopub.status.busy": "2021-02-07T07:11:39.568321Z",
     "iopub.status.idle": "2021-02-07T07:11:39.590181Z",
     "shell.execute_reply": "2021-02-07T07:11:39.589668Z",
     "shell.execute_reply.started": "2021-02-07T07:11:39.568501Z"
    }
   },
   "outputs": [
    {
     "data": {
      "text/plain": [
       "{'concrete', 'electricity', 'metal', 'plastic', 'water'}"
      ]
     },
     "execution_count": 102,
     "metadata": {},
     "output_type": "execute_result"
    }
   ],
   "source": [
    "M2.D[0]"
   ]
  },
  {
   "cell_type": "code",
   "execution_count": null,
   "id": "japanese-overhead",
   "metadata": {},
   "outputs": [],
   "source": []
  },
  {
   "cell_type": "code",
   "execution_count": 103,
   "id": "willing-density",
   "metadata": {
    "execution": {
     "iopub.execute_input": "2021-02-07T07:11:41.142638Z",
     "iopub.status.busy": "2021-02-07T07:11:41.142398Z",
     "iopub.status.idle": "2021-02-07T07:11:41.176017Z",
     "shell.execute_reply": "2021-02-07T07:11:41.175321Z",
     "shell.execute_reply.started": "2021-02-07T07:11:41.142611Z"
    }
   },
   "outputs": [
    {
     "data": {
      "text/html": [
       "<div>\n",
       "<style scoped>\n",
       "    .dataframe tbody tr th:only-of-type {\n",
       "        vertical-align: middle;\n",
       "    }\n",
       "\n",
       "    .dataframe tbody tr th {\n",
       "        vertical-align: top;\n",
       "    }\n",
       "\n",
       "    .dataframe thead th {\n",
       "        text-align: right;\n",
       "    }\n",
       "</style>\n",
       "<table border=\"1\" class=\"dataframe\">\n",
       "  <thead>\n",
       "    <tr style=\"text-align: right;\">\n",
       "      <th></th>\n",
       "      <th>slinky</th>\n",
       "      <th>hoop</th>\n",
       "      <th>putty</th>\n",
       "      <th>gnome</th>\n",
       "      <th>shooter</th>\n",
       "    </tr>\n",
       "  </thead>\n",
       "  <tbody>\n",
       "    <tr>\n",
       "      <th>electricity</th>\n",
       "      <td>1.0</td>\n",
       "      <td>0.428571</td>\n",
       "      <td>0.714286</td>\n",
       "      <td>0.571429</td>\n",
       "      <td>1.142857</td>\n",
       "    </tr>\n",
       "    <tr>\n",
       "      <th>plastic</th>\n",
       "      <td>0.0</td>\n",
       "      <td>1.000000</td>\n",
       "      <td>0.200000</td>\n",
       "      <td>0.133333</td>\n",
       "      <td>0.333333</td>\n",
       "    </tr>\n",
       "    <tr>\n",
       "      <th>water</th>\n",
       "      <td>0.0</td>\n",
       "      <td>0.000000</td>\n",
       "      <td>1.000000</td>\n",
       "      <td>1.302505</td>\n",
       "      <td>0.134875</td>\n",
       "    </tr>\n",
       "    <tr>\n",
       "      <th>concrete</th>\n",
       "      <td>0.0</td>\n",
       "      <td>0.000000</td>\n",
       "      <td>0.000000</td>\n",
       "      <td>1.000000</td>\n",
       "      <td>0.000000</td>\n",
       "    </tr>\n",
       "    <tr>\n",
       "      <th>metal</th>\n",
       "      <td>-0.0</td>\n",
       "      <td>-0.000000</td>\n",
       "      <td>-0.000000</td>\n",
       "      <td>-0.000000</td>\n",
       "      <td>1.000000</td>\n",
       "    </tr>\n",
       "  </tbody>\n",
       "</table>\n",
       "</div>"
      ],
      "text/plain": [
       "             slinky      hoop     putty     gnome   shooter\n",
       "electricity     1.0  0.428571  0.714286  0.571429  1.142857\n",
       "plastic         0.0  1.000000  0.200000  0.133333  0.333333\n",
       "water           0.0  0.000000  1.000000  1.302505  0.134875\n",
       "concrete        0.0  0.000000  0.000000  1.000000  0.000000\n",
       "metal          -0.0 -0.000000 -0.000000 -0.000000  1.000000"
      ]
     },
     "execution_count": 103,
     "metadata": {},
     "output_type": "execute_result"
    }
   ],
   "source": [
    "df.loc[list(upper_triangle.keys()) , :]"
   ]
  },
  {
   "cell_type": "code",
   "execution_count": 61,
   "id": "unexpected-ambassador",
   "metadata": {
    "execution": {
     "iopub.execute_input": "2021-02-07T06:59:18.862172Z",
     "iopub.status.busy": "2021-02-07T06:59:18.861922Z",
     "iopub.status.idle": "2021-02-07T06:59:18.888293Z",
     "shell.execute_reply": "2021-02-07T06:59:18.887636Z",
     "shell.execute_reply.started": "2021-02-07T06:59:18.862144Z"
    }
   },
   "outputs": [
    {
     "data": {
      "text/plain": [
       "Vec({'water', 'concrete', 'plastic', 'metal', 'electricity'}, {'metal': -7.092485549132924, 'concrete': 312.0, 'water': 226.25428571428574, 'electricity': 356.0, 'plastic': 215.4})"
      ]
     },
     "execution_count": 61,
     "metadata": {},
     "output_type": "execute_result"
    }
   ],
   "source": [
    "b"
   ]
  },
  {
   "cell_type": "code",
   "execution_count": 63,
   "id": "declared-today",
   "metadata": {
    "execution": {
     "iopub.execute_input": "2021-02-07T06:49:03.950669Z",
     "iopub.status.busy": "2021-02-07T06:49:03.950464Z",
     "iopub.status.idle": "2021-02-07T06:49:03.973423Z",
     "shell.execute_reply": "2021-02-07T06:49:03.972639Z",
     "shell.execute_reply.started": "2021-02-07T06:49:03.950646Z"
    }
   },
   "outputs": [
    {
     "data": {
      "text/plain": [
       "({'concrete', 'electricity', 'metal', 'plastic', 'water'},\n",
       " {'gnome', 'hoop', 'putty', 'shooter', 'slinky'})"
      ]
     },
     "execution_count": 63,
     "metadata": {},
     "output_type": "execute_result"
    }
   ],
   "source": [
    "M2.D"
   ]
  },
  {
   "cell_type": "code",
   "execution_count": null,
   "id": "desirable-ministry",
   "metadata": {},
   "outputs": [],
   "source": []
  },
  {
   "cell_type": "code",
   "execution_count": null,
   "id": "spatial-judges",
   "metadata": {},
   "outputs": [],
   "source": []
  },
  {
   "cell_type": "code",
   "execution_count": 210,
   "id": "fifth-lightning",
   "metadata": {},
   "outputs": [],
   "source": [
    "# coef\n",
    "coef = othervec[col]/rowvec[col]\n",
    "\n",
    "# update rowvec\n",
    "othervec -= coef * rowvec\n",
    "rowdict[other] = othervec\n",
    "\n",
    "# update b\n",
    "b[other] -= coef * b[row]"
   ]
  },
  {
   "cell_type": "code",
   "execution_count": 213,
   "id": "patient-indian",
   "metadata": {},
   "outputs": [
    {
     "data": {
      "text/plain": [
       "Vec({'metal', 'concrete', 'water', 'electricity', 'plastic'}, {'metal': 51.0, 'concrete': 312.0, 'water': 373.1, 'electricity': 356.0, 'plastic': 215.4})"
      ]
     },
     "execution_count": 213,
     "metadata": {},
     "output_type": "execute_result"
    }
   ],
   "source": [
    "b"
   ]
  },
  {
   "cell_type": "code",
   "execution_count": 220,
   "id": "environmental-victory",
   "metadata": {},
   "outputs": [
    {
     "data": {
      "text/plain": [
       "('electricity', 356.0, 'metal', 51.0)"
      ]
     },
     "execution_count": 220,
     "metadata": {},
     "output_type": "execute_result"
    }
   ],
   "source": [
    "row, b[row], other, b[other]"
   ]
  },
  {
   "cell_type": "code",
   "execution_count": 222,
   "id": "regular-coordinator",
   "metadata": {},
   "outputs": [],
   "source": []
  },
  {
   "cell_type": "code",
   "execution_count": 221,
   "id": "effective-fluid",
   "metadata": {},
   "outputs": [
    {
     "data": {
      "text/plain": [
       "0.0"
      ]
     },
     "execution_count": 221,
     "metadata": {},
     "output_type": "execute_result"
    }
   ],
   "source": [
    "coef"
   ]
  },
  {
   "cell_type": "code",
   "execution_count": 219,
   "id": "appreciated-breach",
   "metadata": {},
   "outputs": [
    {
     "name": "stdout",
     "output_type": "stream",
     "text": [
      "             shooter  hoop  putty  slinky  gnome\n",
      "metal           0.15   0.0    0.0    0.25    0.0\n",
      "concrete        0.00   0.0    0.0    0.00    1.3\n",
      "water           0.40   0.4    0.7    0.20    0.8\n",
      "electricity     0.80   0.3    0.5    0.70    0.4\n",
      "plastic         0.50   1.5    0.3    0.00    0.2\n"
     ]
    }
   ],
   "source": [
    "print(A)"
   ]
  },
  {
   "cell_type": "code",
   "execution_count": 217,
   "id": "liberal-clear",
   "metadata": {},
   "outputs": [
    {
     "data": {
      "text/plain": [
       "'shooter'"
      ]
     },
     "execution_count": 217,
     "metadata": {},
     "output_type": "execute_result"
    }
   ],
   "source": [
    "col"
   ]
  },
  {
   "cell_type": "code",
   "execution_count": 211,
   "id": "piano-breakfast",
   "metadata": {},
   "outputs": [
    {
     "data": {
      "text/plain": [
       "'metal'"
      ]
     },
     "execution_count": 211,
     "metadata": {},
     "output_type": "execute_result"
    }
   ],
   "source": [
    "other"
   ]
  },
  {
   "cell_type": "code",
   "execution_count": 212,
   "id": "promotional-cameroon",
   "metadata": {},
   "outputs": [
    {
     "data": {
      "text/plain": [
       "{'metal': Vec({'shooter', 'hoop', 'putty', 'slinky', 'gnome'}, {'shooter': 0.0, 'hoop': -0.05624999999999999, 'putty': -0.09374999999999999, 'slinky': 0.11875000000000002, 'gnome': -0.075}),\n",
       " 'concrete': Vec({'shooter', 'hoop', 'putty', 'slinky', 'gnome'}, {'shooter': 0, 'hoop': 0, 'putty': 0, 'slinky': 0, 'gnome': 1.3}),\n",
       " 'water': Vec({'shooter', 'hoop', 'putty', 'slinky', 'gnome'}, {'shooter': 0.4, 'hoop': 0.4, 'putty': 0.7, 'slinky': 0.2, 'gnome': 0.8}),\n",
       " 'plastic': Vec({'shooter', 'hoop', 'putty', 'slinky', 'gnome'}, {'shooter': 0.5, 'hoop': 1.5, 'putty': 0.3, 'slinky': 0, 'gnome': 0.2})}"
      ]
     },
     "execution_count": 212,
     "metadata": {},
     "output_type": "execute_result"
    }
   ],
   "source": [
    "rowdict"
   ]
  },
  {
   "cell_type": "code",
   "execution_count": null,
   "id": "surface-sailing",
   "metadata": {},
   "outputs": [],
   "source": []
  },
  {
   "cell_type": "code",
   "execution_count": 175,
   "id": "proprietary-empty",
   "metadata": {},
   "outputs": [
    {
     "data": {
      "text/plain": [
       "Vec({'shooter', 'hoop', 'putty', 'slinky', 'gnome'}, {'shooter': 0, 'hoop': 0, 'putty': 0, 'slinky': 0, 'gnome': 1.3})"
      ]
     },
     "execution_count": 175,
     "metadata": {},
     "output_type": "execute_result"
    }
   ],
   "source": [
    "rowvec"
   ]
  },
  {
   "cell_type": "code",
   "execution_count": 173,
   "id": "contrary-place",
   "metadata": {},
   "outputs": [
    {
     "data": {
      "text/plain": [
       "Vec({'shooter', 'hoop', 'putty', 'slinky', 'gnome'}, {'shooter': 0.8, 'hoop': 0.3, 'putty': 0.5, 'slinky': 0.7, 'gnome': 0.4})"
      ]
     },
     "execution_count": 173,
     "metadata": {},
     "output_type": "execute_result"
    }
   ],
   "source": [
    "othervec"
   ]
  },
  {
   "cell_type": "code",
   "execution_count": 176,
   "id": "blind-delay",
   "metadata": {},
   "outputs": [
    {
     "data": {
      "text/plain": [
       "1.3"
      ]
     },
     "execution_count": 176,
     "metadata": {},
     "output_type": "execute_result"
    }
   ],
   "source": [
    "rowvec[col]"
   ]
  },
  {
   "cell_type": "code",
   "execution_count": 182,
   "id": "elder-syracuse",
   "metadata": {},
   "outputs": [
    {
     "data": {
      "text/plain": [
       "{'concrete': Vec({'shooter', 'hoop', 'putty', 'slinky', 'gnome'}, {'shooter': 0, 'hoop': 0, 'putty': 0, 'slinky': 0, 'gnome': 1.3}),\n",
       " 'electricity': Vec({'shooter', 'hoop', 'putty', 'slinky', 'gnome'}, {'shooter': 0.8, 'hoop': 0.3, 'putty': 0.5, 'slinky': 0.7, 'gnome': 0.4}),\n",
       " 'metal': Vec({'shooter', 'hoop', 'putty', 'slinky', 'gnome'}, {'shooter': 0.15, 'hoop': 0, 'putty': 0, 'slinky': 0.25, 'gnome': 0}),\n",
       " 'plastic': Vec({'shooter', 'hoop', 'putty', 'slinky', 'gnome'}, {'shooter': 0.5, 'hoop': 1.5, 'putty': 0.3, 'slinky': 0, 'gnome': 0.2}),\n",
       " 'water': Vec({'shooter', 'hoop', 'putty', 'slinky', 'gnome'}, {'shooter': 0.4, 'hoop': 0.4, 'putty': 0.7, 'slinky': 0.2, 'gnome': 0.8})}"
      ]
     },
     "execution_count": 182,
     "metadata": {},
     "output_type": "execute_result"
    }
   ],
   "source": [
    "rowdict"
   ]
  },
  {
   "cell_type": "code",
   "execution_count": null,
   "id": "acknowledged-patch",
   "metadata": {},
   "outputs": [],
   "source": []
  },
  {
   "cell_type": "code",
   "execution_count": null,
   "id": "going-narrow",
   "metadata": {},
   "outputs": [],
   "source": []
  },
  {
   "cell_type": "code",
   "execution_count": null,
   "id": "surgical-precipitation",
   "metadata": {},
   "outputs": [],
   "source": [
    "sol"
   ]
  },
  {
   "cell_type": "code",
   "execution_count": null,
   "id": "treated-vampire",
   "metadata": {},
   "outputs": [],
   "source": [
    "solver"
   ]
  },
  {
   "cell_type": "code",
   "execution_count": 105,
   "id": "arbitrary-xerox",
   "metadata": {},
   "outputs": [
    {
     "data": {
      "text/plain": [
       "<code object solve at 0x16835e150, file \"../resources/private/solver.py\", line 186>"
      ]
     },
     "execution_count": 105,
     "metadata": {},
     "output_type": "execute_result"
    }
   ],
   "source": [
    "solver.solve.__code__"
   ]
  },
  {
   "cell_type": "code",
   "execution_count": 106,
   "id": "pointed-davis",
   "metadata": {},
   "outputs": [],
   "source": [
    "import inspect"
   ]
  },
  {
   "cell_type": "code",
   "execution_count": 108,
   "id": "artistic-sampling",
   "metadata": {},
   "outputs": [
    {
     "data": {
      "text/plain": [
       "\u001b[0;31mSignature:\u001b[0m \u001b[0msolver\u001b[0m\u001b[0;34m.\u001b[0m\u001b[0msolve\u001b[0m\u001b[0;34m(\u001b[0m\u001b[0mA\u001b[0m\u001b[0;34m,\u001b[0m \u001b[0mb\u001b[0m\u001b[0;34m,\u001b[0m \u001b[0meps\u001b[0m\u001b[0;34m=\u001b[0m\u001b[0;36m1e-15\u001b[0m\u001b[0;34m)\u001b[0m\u001b[0;34m\u001b[0m\u001b[0m\n",
       "\u001b[0;31mDocstring:\u001b[0m\n",
       "Solve the matrix-vector equation Ax = b.\n",
       "\n",
       "If a solution to Ax = b does not exist, then the vector returned by\n",
       "solve(A, b) is not a solution.  Please verify that Ax = b.\n",
       "\n",
       "Args:\n",
       "    A: A matrix of type Mat.\n",
       "    b: A vector of type Vec.\n",
       "    eps: A threshold.  Optional.\n",
       "\n",
       "Returns:\n",
       "    x: A vector of type Vec.\n",
       "\n",
       "Raises:\n",
       "    AssertionError: An error occurs when A is not a matrix of type Mat.\n",
       "    AssertionError: An error occurs when b is not a vector of type Vec.\n",
       "    AssertionError: An error occurs when A.D[0] != b.D.\n",
       "\n",
       "Example 1: Solve Ax = b and verify that x is close to b.\n",
       ">>> from vec import Vec\n",
       ">>> from mat import Mat\n",
       ">>> A = mat.Mat(({0, 1, 2}, {0, 1}), {(0, 1): 2, (2, 0): 10, (1, 0): 3, (0, 0): 1, (1, 1): 4})\n",
       ">>> b = vec.Vec({0, 1, 2},{0: 1, 1: 5, 2: 30})\n",
       ">>> A.D[0] == b.D\n",
       "True\n",
       ">>> x = solve(A, b)\n",
       ">>> A.D[1] == x.D\n",
       "True\n",
       ">>> (b-A*x).is_almost_zero()\n",
       "True\n",
       "\n",
       "Example 2: Solve Ax = b and see that x is not a valid solution.\n",
       ">>> A = mat.Mat(({0, 1}, {0, 1}), {(1, 1): 1})\n",
       ">>> b = vec.Vec({0, 1},{0: 2, 1: 3})\n",
       ">>> A.D[0] == b.D\n",
       "True\n",
       ">>> x = solve(A, b)\n",
       ">>> A.D[1] == x.D\n",
       "True\n",
       ">>> (b-A*x).is_almost_zero()\n",
       "False\n",
       "\n",
       "Example 3: Solve when A and b are over GF(2).\n",
       ">>> from GF2 import one\n",
       ">>> A = Mat(({'a','b'},{'A','B'}), {('a','A'):one, ('a','B'):one, ('b','B'):one})\n",
       ">>> b = Vec({'a','b'}, {'a':one})\n",
       ">>> x = solve(A, b)\n",
       ">>> A*x==b\n",
       "True\n",
       ">>> (b-A*x).is_almost_zero()\n",
       "True\n",
       "\u001b[0;31mFile:\u001b[0m      ~/github.com/banbiossa/coding-the-matrix/resources/private/solver.py\n",
       "\u001b[0;31mType:\u001b[0m      function\n"
      ]
     },
     "metadata": {},
     "output_type": "display_data"
    }
   ],
   "source": [
    "solver.solve?"
   ]
  },
  {
   "cell_type": "code",
   "execution_count": 101,
   "id": "nominated-confirmation",
   "metadata": {},
   "outputs": [
    {
     "data": {
      "text/plain": [
       "Vec({'metal', 'concrete', 'water', 'electricity', 'plastic'}, {'metal': 51.0, 'concrete': 312.0, 'water': 373.1, 'electricity': 356.0, 'plastic': 215.4})"
      ]
     },
     "execution_count": 101,
     "metadata": {},
     "output_type": "execute_result"
    }
   ],
   "source": [
    "b"
   ]
  },
  {
   "cell_type": "code",
   "execution_count": 102,
   "id": "split-pathology",
   "metadata": {},
   "outputs": [
    {
     "data": {
      "text/plain": [
       "Mat(({'metal', 'concrete', 'water', 'electricity', 'plastic'}, {'shooter', 'hoop', 'putty', 'slinky', 'gnome'}), {('concrete', 'gnome'): 1.3, ('concrete', 'hoop'): 0, ('concrete', 'putty'): 0, ('concrete', 'shooter'): 0, ('concrete', 'slinky'): 0, ('electricity', 'gnome'): 0.4, ('electricity', 'hoop'): 0.3, ('electricity', 'putty'): 0.5, ('electricity', 'shooter'): 0.8, ('electricity', 'slinky'): 0.7, ('metal', 'gnome'): 0, ('metal', 'hoop'): 0, ('metal', 'putty'): 0, ('metal', 'shooter'): 0.15, ('metal', 'slinky'): 0.25, ('plastic', 'gnome'): 0.2, ('plastic', 'hoop'): 1.5, ('plastic', 'putty'): 0.3, ('plastic', 'shooter'): 0.5, ('plastic', 'slinky'): 0, ('water', 'gnome'): 0.8, ('water', 'hoop'): 0.4, ('water', 'putty'): 0.7, ('water', 'shooter'): 0.4, ('water', 'slinky'): 0.2})"
      ]
     },
     "execution_count": 102,
     "metadata": {},
     "output_type": "execute_result"
    }
   ],
   "source": [
    "M.transpose()"
   ]
  },
  {
   "cell_type": "code",
   "execution_count": 97,
   "id": "alternative-marks",
   "metadata": {},
   "outputs": [
    {
     "data": {
      "text/plain": [
       "Vec({'metal', 'concrete', 'water', 'electricity', 'plastic'}, {'metal': 51.0, 'concrete': 312.0, 'water': 373.1, 'electricity': 356.0, 'plastic': 215.4})"
      ]
     },
     "execution_count": 97,
     "metadata": {},
     "output_type": "execute_result"
    }
   ],
   "source": []
  },
  {
   "cell_type": "code",
   "execution_count": null,
   "id": "lesbian-floating",
   "metadata": {},
   "outputs": [],
   "source": [
    "solution"
   ]
  },
  {
   "cell_type": "code",
   "execution_count": null,
   "id": "directed-consolidation",
   "metadata": {},
   "outputs": [],
   "source": [
    "residual = b - solution * M"
   ]
  },
  {
   "cell_type": "code",
   "execution_count": null,
   "id": "binary-today",
   "metadata": {},
   "outputs": [],
   "source": [
    "assert residual * residual < 1e-10"
   ]
  },
  {
   "cell_type": "code",
   "execution_count": 49,
   "id": "published-reservation",
   "metadata": {
    "execution": {
     "iopub.execute_input": "2021-02-06T10:12:21.083996Z",
     "iopub.status.busy": "2021-02-06T10:12:21.083738Z",
     "iopub.status.idle": "2021-02-06T10:12:21.114158Z",
     "shell.execute_reply": "2021-02-06T10:12:21.113071Z",
     "shell.execute_reply.started": "2021-02-06T10:12:21.083970Z"
    }
   },
   "outputs": [
    {
     "name": "stdout",
     "output_type": "stream",
     "text": [
      "         metal  concrete  water  electricity  plastic\n",
      "hoop      0.00       0.0    0.4          0.3      1.5\n",
      "gnome     0.00       1.3    0.8          0.4      0.2\n",
      "putty     0.00       0.0    0.7          0.5      0.3\n",
      "slinky    0.25       0.0    0.2          0.7      0.0\n",
      "shooter   0.15       0.0    0.4          0.8      0.5\n"
     ]
    }
   ],
   "source": [
    "print(M)"
   ]
  },
  {
   "cell_type": "code",
   "execution_count": null,
   "id": "boxed-probability",
   "metadata": {},
   "outputs": [],
   "source": [
    "M.tra"
   ]
  },
  {
   "cell_type": "code",
   "execution_count": 50,
   "id": "athletic-plymouth",
   "metadata": {},
   "outputs": [],
   "source": [
    "M = coldict2mat({0:Vec({0,1},{0:1,1:2}),1:Vec({0,1},{0:3,1:4})})"
   ]
  },
  {
   "cell_type": "code",
   "execution_count": 54,
   "id": "willing-pierre",
   "metadata": {},
   "outputs": [],
   "source": [
    "b = Vec({0, 1}, {0: 5, 1: 6})"
   ]
  },
  {
   "cell_type": "code",
   "execution_count": 57,
   "id": "comfortable-picnic",
   "metadata": {},
   "outputs": [
    {
     "data": {
      "text/plain": [
       "Vec({0, 1}, {0: 5, 1: 6})"
      ]
     },
     "execution_count": 57,
     "metadata": {},
     "output_type": "execute_result"
    }
   ],
   "source": [
    "b"
   ]
  },
  {
   "cell_type": "code",
   "execution_count": 53,
   "id": "frequent-pricing",
   "metadata": {},
   "outputs": [
    {
     "data": {
      "text/plain": [
       "({0, 1}, {0, 1})"
      ]
     },
     "execution_count": 53,
     "metadata": {},
     "output_type": "execute_result"
    }
   ],
   "source": [
    "M.D"
   ]
  },
  {
   "cell_type": "code",
   "execution_count": 52,
   "id": "annoying-machinery",
   "metadata": {},
   "outputs": [
    {
     "name": "stdout",
     "output_type": "stream",
     "text": [
      "   0  1\n",
      "0  1  3\n",
      "1  2  4\n"
     ]
    }
   ],
   "source": [
    "print(M)"
   ]
  },
  {
   "cell_type": "code",
   "execution_count": 61,
   "id": "waiting-intensity",
   "metadata": {},
   "outputs": [],
   "source": [
    "rowdict = mat2rowdict(M)"
   ]
  },
  {
   "cell_type": "code",
   "execution_count": 62,
   "id": "moving-frequency",
   "metadata": {},
   "outputs": [
    {
     "data": {
      "text/plain": [
       "{0: Vec({0, 1}, {0: 1, 1: 3}), 1: Vec({0, 1}, {0: 2, 1: 4})}"
      ]
     },
     "execution_count": 62,
     "metadata": {},
     "output_type": "execute_result"
    }
   ],
   "source": [
    "rowdict"
   ]
  },
  {
   "cell_type": "code",
   "execution_count": 78,
   "id": "micro-indianapolis",
   "metadata": {},
   "outputs": [],
   "source": [
    "R = sorted(M.D[0])\n",
    "C = sorted(M.D[1])"
   ]
  },
  {
   "cell_type": "code",
   "execution_count": 80,
   "id": "previous-color",
   "metadata": {},
   "outputs": [
    {
     "data": {
      "text/plain": [
       "[0, 1]"
      ]
     },
     "execution_count": 80,
     "metadata": {},
     "output_type": "execute_result"
    }
   ],
   "source": [
    "C"
   ]
  },
  {
   "cell_type": "code",
   "execution_count": 79,
   "id": "brilliant-avenue",
   "metadata": {},
   "outputs": [],
   "source": [
    "vec = rowdict[R[0]]"
   ]
  },
  {
   "cell_type": "code",
   "execution_count": 74,
   "id": "amateur-bicycle",
   "metadata": {},
   "outputs": [
    {
     "data": {
      "text/plain": [
       "Vec({0, 1}, {0: 1, 1: 3})"
      ]
     },
     "execution_count": 74,
     "metadata": {},
     "output_type": "execute_result"
    }
   ],
   "source": [
    "vec"
   ]
  },
  {
   "cell_type": "code",
   "execution_count": null,
   "id": "scenic-spokesman",
   "metadata": {},
   "outputs": [],
   "source": [
    "# get a vec\n",
    "# get the domain of the vec\n",
    "# get a "
   ]
  },
  {
   "cell_type": "code",
   "execution_count": null,
   "id": "relative-throw",
   "metadata": {},
   "outputs": [],
   "source": []
  },
  {
   "cell_type": "code",
   "execution_count": null,
   "id": "white-honor",
   "metadata": {},
   "outputs": [],
   "source": []
  },
  {
   "cell_type": "code",
   "execution_count": 14,
   "id": "quarterly-superior",
   "metadata": {
    "execution": {
     "iopub.execute_input": "2021-02-03T13:25:54.128140Z",
     "iopub.status.busy": "2021-02-03T13:25:54.127890Z",
     "iopub.status.idle": "2021-02-03T13:25:54.154776Z",
     "shell.execute_reply": "2021-02-03T13:25:54.153901Z",
     "shell.execute_reply.started": "2021-02-03T13:25:54.128113Z"
    }
   },
   "outputs": [
    {
     "name": "stdout",
     "output_type": "stream",
     "text": [
      "('a', '@'): ,\n",
      "('a', '#'): ,\n",
      "('a', '?'): ,\n",
      "('b', '@'): ,\n",
      "('b', '#'): ,\n",
      "('b', '?'): ,\n"
     ]
    }
   ],
   "source": [
    "import itertools\n",
    "for r, c in itertools.product(*D):\n",
    "    print(f\"('{r}', '{c}'): ,\")"
   ]
  },
  {
   "cell_type": "code",
   "execution_count": 7,
   "id": "trained-admission",
   "metadata": {
    "execution": {
     "iopub.execute_input": "2021-02-03T13:24:09.444793Z",
     "iopub.status.busy": "2021-02-03T13:24:09.444554Z",
     "iopub.status.idle": "2021-02-03T13:24:09.472347Z",
     "shell.execute_reply": "2021-02-03T13:24:09.471488Z",
     "shell.execute_reply.started": "2021-02-03T13:24:09.444767Z"
    }
   },
   "outputs": [],
   "source": [
    "D = ({'a', 'b'}, {'@', '#', '?'})"
   ]
  },
  {
   "cell_type": "code",
   "execution_count": 12,
   "id": "fabulous-associate",
   "metadata": {
    "execution": {
     "iopub.execute_input": "2021-02-03T13:25:44.829319Z",
     "iopub.status.busy": "2021-02-03T13:25:44.829065Z",
     "iopub.status.idle": "2021-02-03T13:25:44.855801Z",
     "shell.execute_reply": "2021-02-03T13:25:44.855031Z",
     "shell.execute_reply.started": "2021-02-03T13:25:44.829290Z"
    }
   },
   "outputs": [],
   "source": [
    "f = {\n",
    "    (\"a\", \"@\"): 1,\n",
    "    (\"a\", \"#\"): 2,\n",
    "    (\"a\", \"?\"): 3,\n",
    "    (\"b\", \"@\"): 10,\n",
    "    (\"b\", \"#\"): 20,\n",
    "    (\"b\", \"?\"): 30,\n",
    "}"
   ]
  },
  {
   "cell_type": "code",
   "execution_count": 13,
   "id": "adopted-advocacy",
   "metadata": {
    "execution": {
     "iopub.execute_input": "2021-02-03T13:25:48.985926Z",
     "iopub.status.busy": "2021-02-03T13:25:48.985685Z",
     "iopub.status.idle": "2021-02-03T13:25:49.014776Z",
     "shell.execute_reply": "2021-02-03T13:25:49.013878Z",
     "shell.execute_reply.started": "2021-02-03T13:25:48.985899Z"
    }
   },
   "outputs": [],
   "source": [
    "M = Mat(D, f)"
   ]
  },
  {
   "cell_type": "code",
   "execution_count": 6,
   "id": "jewish-bermuda",
   "metadata": {
    "execution": {
     "iopub.execute_input": "2021-02-03T13:23:39.065325Z",
     "iopub.status.busy": "2021-02-03T13:23:39.065075Z",
     "iopub.status.idle": "2021-02-03T13:23:39.091019Z",
     "shell.execute_reply": "2021-02-03T13:23:39.090314Z",
     "shell.execute_reply.started": "2021-02-03T13:23:39.065298Z"
    }
   },
   "outputs": [],
   "source": []
  },
  {
   "cell_type": "code",
   "execution_count": 31,
   "id": "brilliant-bracelet",
   "metadata": {
    "execution": {
     "iopub.execute_input": "2021-02-03T13:31:09.979247Z",
     "iopub.status.busy": "2021-02-03T13:31:09.978986Z",
     "iopub.status.idle": "2021-02-03T13:31:10.006379Z",
     "shell.execute_reply": "2021-02-03T13:31:10.005521Z",
     "shell.execute_reply.started": "2021-02-03T13:31:09.979217Z"
    }
   },
   "outputs": [],
   "source": [
    "def mat2rowdict(M):\n",
    "    \"\"\"return the rowdict representation of M\"\"\"\n",
    "    R, C = M.D\n",
    "    return {r: Vec(C, {c: M.f[(r, c)] for c in C}) for r in R}"
   ]
  },
  {
   "cell_type": "code",
   "execution_count": 32,
   "id": "indie-florida",
   "metadata": {
    "execution": {
     "iopub.execute_input": "2021-02-03T13:31:20.058226Z",
     "iopub.status.busy": "2021-02-03T13:31:20.057975Z",
     "iopub.status.idle": "2021-02-03T13:31:20.086372Z",
     "shell.execute_reply": "2021-02-03T13:31:20.085512Z",
     "shell.execute_reply.started": "2021-02-03T13:31:20.058198Z"
    }
   },
   "outputs": [
    {
     "data": {
      "text/plain": [
       "{'a': Vec({'@', '#', '?'}, {'@': 1, '#': 2, '?': 3}),\n",
       " 'b': Vec({'@', '#', '?'}, {'@': 10, '#': 20, '?': 30})}"
      ]
     },
     "execution_count": 32,
     "metadata": {},
     "output_type": "execute_result"
    }
   ],
   "source": [
    "mat2rowdict(M)"
   ]
  },
  {
   "cell_type": "code",
   "execution_count": 33,
   "id": "threaded-stuart",
   "metadata": {
    "execution": {
     "iopub.execute_input": "2021-02-03T13:32:46.309348Z",
     "iopub.status.busy": "2021-02-03T13:32:46.309090Z",
     "iopub.status.idle": "2021-02-03T13:32:46.336632Z",
     "shell.execute_reply": "2021-02-03T13:32:46.335671Z",
     "shell.execute_reply.started": "2021-02-03T13:32:46.309319Z"
    }
   },
   "outputs": [],
   "source": [
    "def mat2coldict(M):\n",
    "    \"\"\"return the coldict representation of M\"\"\"\n",
    "    R, C = M.D\n",
    "    return {c: Vec(R, {r: M.f[(r, c)] for r in R}) for c in C}"
   ]
  },
  {
   "cell_type": "code",
   "execution_count": 34,
   "id": "blond-secondary",
   "metadata": {
    "execution": {
     "iopub.execute_input": "2021-02-03T13:32:51.022435Z",
     "iopub.status.busy": "2021-02-03T13:32:51.022166Z",
     "iopub.status.idle": "2021-02-03T13:32:51.050175Z",
     "shell.execute_reply": "2021-02-03T13:32:51.049509Z",
     "shell.execute_reply.started": "2021-02-03T13:32:51.022406Z"
    }
   },
   "outputs": [
    {
     "data": {
      "text/plain": [
       "{'@': Vec({'a', 'b'}, {'a': 1, 'b': 10}),\n",
       " '#': Vec({'a', 'b'}, {'a': 2, 'b': 20}),\n",
       " '?': Vec({'a', 'b'}, {'a': 3, 'b': 30})}"
      ]
     },
     "execution_count": 34,
     "metadata": {},
     "output_type": "execute_result"
    }
   ],
   "source": [
    "mat2coldict(M)"
   ]
  },
  {
   "cell_type": "code",
   "execution_count": null,
   "id": "seventh-holly",
   "metadata": {},
   "outputs": [],
   "source": []
  },
  {
   "cell_type": "code",
   "execution_count": null,
   "id": "lovely-fight",
   "metadata": {},
   "outputs": [],
   "source": []
  },
  {
   "cell_type": "code",
   "execution_count": null,
   "id": "signal-carbon",
   "metadata": {},
   "outputs": [],
   "source": []
  },
  {
   "cell_type": "code",
   "execution_count": null,
   "id": "employed-tractor",
   "metadata": {},
   "outputs": [],
   "source": []
  }
 ],
 "metadata": {
  "kernelspec": {
   "display_name": "Python 3",
   "language": "python",
   "name": "python3"
  },
  "language_info": {
   "codemirror_mode": {
    "name": "ipython",
    "version": 3
   },
   "file_extension": ".py",
   "mimetype": "text/x-python",
   "name": "python",
   "nbconvert_exporter": "python",
   "pygments_lexer": "ipython3",
   "version": "3.9.0"
  }
 },
 "nbformat": 4,
 "nbformat_minor": 5
}
