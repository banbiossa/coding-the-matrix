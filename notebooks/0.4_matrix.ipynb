{
 "cells": [
  {
   "cell_type": "markdown",
   "id": "common-claim",
   "metadata": {},
   "source": [
    "# 0.4_matrix"
   ]
  },
  {
   "cell_type": "code",
   "execution_count": 14,
   "id": "capital-nightmare",
   "metadata": {
    "execution": {
     "iopub.execute_input": "2021-02-06T09:18:43.385857Z",
     "iopub.status.busy": "2021-02-06T09:18:43.385625Z",
     "iopub.status.idle": "2021-02-06T09:18:43.420338Z",
     "shell.execute_reply": "2021-02-06T09:18:43.419517Z",
     "shell.execute_reply.started": "2021-02-06T09:18:43.385831Z"
    }
   },
   "outputs": [
    {
     "name": "stdout",
     "output_type": "stream",
     "text": [
      "The autoreload extension is already loaded. To reload it, use:\n",
      "  %reload_ext autoreload\n",
      "The blackcellmagic extension is already loaded. To reload it, use:\n",
      "  %reload_ext blackcellmagic\n"
     ]
    }
   ],
   "source": [
    "%load_ext autoreload\n",
    "%autoreload 2\n",
    "%matplotlib inline\n",
    "%load_ext blackcellmagic\n",
    "\n",
    "import pandas as pd\n",
    "import numpy as np\n",
    "import seaborn as sns\n",
    "import matplotlib.pyplot as plt\n",
    "\n",
    "def nrows(n):\n",
    "    pd.options.display.max_rows = n\n",
    "\n",
    "nrows(5)\n",
    "\n",
    "import itertools\n",
    "from coding_the_matrix.Vec import Vec\n",
    "from coding_the_matrix.Mat import Mat\n",
    "from coding_the_matrix.matutil import listlist2mat, value, keys\n",
    "from coding_the_matrix.vecutil import *\n",
    "from coding_the_matrix.GF2 import *"
   ]
  },
  {
   "cell_type": "code",
   "execution_count": 2,
   "id": "industrial-bride",
   "metadata": {
    "execution": {
     "iopub.execute_input": "2021-02-06T09:18:02.502570Z",
     "iopub.status.busy": "2021-02-06T09:18:02.502395Z",
     "iopub.status.idle": "2021-02-06T09:18:02.524467Z",
     "shell.execute_reply": "2021-02-06T09:18:02.523731Z",
     "shell.execute_reply.started": "2021-02-06T09:18:02.502549Z"
    }
   },
   "outputs": [],
   "source": [
    "A = listlist2mat([[10, 20, 30, 40], [50, 60, 70, 80]])"
   ]
  },
  {
   "cell_type": "code",
   "execution_count": 3,
   "id": "infrared-requirement",
   "metadata": {
    "execution": {
     "iopub.execute_input": "2021-02-06T09:18:02.526100Z",
     "iopub.status.busy": "2021-02-06T09:18:02.525901Z",
     "iopub.status.idle": "2021-02-06T09:18:02.567949Z",
     "shell.execute_reply": "2021-02-06T09:18:02.567294Z",
     "shell.execute_reply.started": "2021-02-06T09:18:02.526077Z"
    }
   },
   "outputs": [
    {
     "name": "stdout",
     "output_type": "stream",
     "text": [
      "    0   1   2   3\n",
      "0  10  20  30  40\n",
      "1  50  60  70  80\n"
     ]
    }
   ],
   "source": [
    "print(A)"
   ]
  },
  {
   "cell_type": "code",
   "execution_count": 4,
   "id": "fixed-collapse",
   "metadata": {
    "execution": {
     "iopub.execute_input": "2021-02-06T09:18:02.569405Z",
     "iopub.status.busy": "2021-02-06T09:18:02.569187Z",
     "iopub.status.idle": "2021-02-06T09:18:02.594924Z",
     "shell.execute_reply": "2021-02-06T09:18:02.594095Z",
     "shell.execute_reply.started": "2021-02-06T09:18:02.569380Z"
    }
   },
   "outputs": [],
   "source": [
    "def mat2Vec(M):\n",
    "    R, C = M.D\n",
    "    return Vec({(r,c) for r in R for c in C}, M.f) "
   ]
  },
  {
   "cell_type": "code",
   "execution_count": 5,
   "id": "meaning-distance",
   "metadata": {
    "execution": {
     "iopub.execute_input": "2021-02-06T09:18:02.596451Z",
     "iopub.status.busy": "2021-02-06T09:18:02.596241Z",
     "iopub.status.idle": "2021-02-06T09:18:02.622119Z",
     "shell.execute_reply": "2021-02-06T09:18:02.621166Z",
     "shell.execute_reply.started": "2021-02-06T09:18:02.596427Z"
    }
   },
   "outputs": [],
   "source": [
    "def tranpose(M):\n",
    "    R, C = M.D\n",
    "    D = (C, R)\n",
    "    f = {(c, r): v for (r, c), v in M.f.items()}\n",
    "    return Mat(D, f)"
   ]
  },
  {
   "cell_type": "code",
   "execution_count": 6,
   "id": "vietnamese-decline",
   "metadata": {
    "execution": {
     "iopub.execute_input": "2021-02-06T09:18:02.625323Z",
     "iopub.status.busy": "2021-02-06T09:18:02.625057Z",
     "iopub.status.idle": "2021-02-06T09:18:02.653015Z",
     "shell.execute_reply": "2021-02-06T09:18:02.652394Z",
     "shell.execute_reply.started": "2021-02-06T09:18:02.625291Z"
    }
   },
   "outputs": [
    {
     "name": "stdout",
     "output_type": "stream",
     "text": [
      "    0   1\n",
      "0  10  50\n",
      "1  20  60\n",
      "2  30  70\n",
      "3  40  80\n"
     ]
    }
   ],
   "source": [
    "print(tranpose(A))"
   ]
  },
  {
   "cell_type": "code",
   "execution_count": 7,
   "id": "quality-appearance",
   "metadata": {
    "execution": {
     "iopub.execute_input": "2021-02-06T09:18:11.988323Z",
     "iopub.status.busy": "2021-02-06T09:18:11.988084Z",
     "iopub.status.idle": "2021-02-06T09:18:12.015340Z",
     "shell.execute_reply": "2021-02-06T09:18:12.014588Z",
     "shell.execute_reply.started": "2021-02-06T09:18:11.988297Z"
    }
   },
   "outputs": [],
   "source": [
    "def button_vectors(n):\n",
    "    D = {(x, y) for x, y in itertools.product(range(n), range(n))}\n",
    "    vecdict = {\n",
    "        (i, j): Vec(\n",
    "            D,\n",
    "            dict([((x, j), one) for x in range(max(i - 1, 0), min(i + 2, n))]) | \n",
    "            dict([((i, y), one) for y in range(max(j - 1, 0), min(j + 2, n))]),\n",
    "        )\n",
    "        for (i, j) in D\n",
    "    }\n",
    "    return vecdict"
   ]
  },
  {
   "cell_type": "code",
   "execution_count": 15,
   "id": "expanded-bryan",
   "metadata": {
    "execution": {
     "iopub.execute_input": "2021-02-06T09:18:46.340223Z",
     "iopub.status.busy": "2021-02-06T09:18:46.339989Z",
     "iopub.status.idle": "2021-02-06T09:18:46.366776Z",
     "shell.execute_reply": "2021-02-06T09:18:46.365526Z",
     "shell.execute_reply.started": "2021-02-06T09:18:46.340198Z"
    }
   },
   "outputs": [],
   "source": [
    "vectors = button_vectors(5)"
   ]
  },
  {
   "cell_type": "code",
   "execution_count": 16,
   "id": "vital-petite",
   "metadata": {
    "execution": {
     "iopub.execute_input": "2021-02-06T09:18:47.136810Z",
     "iopub.status.busy": "2021-02-06T09:18:47.136572Z",
     "iopub.status.idle": "2021-02-06T09:18:47.164464Z",
     "shell.execute_reply": "2021-02-06T09:18:47.163394Z",
     "shell.execute_reply.started": "2021-02-06T09:18:47.136784Z"
    }
   },
   "outputs": [
    {
     "data": {
      "text/plain": [
       "Vec({(4, 0), (3, 4), (4, 3), (3, 1), (0, 2), (2, 2), (1, 0), (1, 3), (4, 2), (3, 0), (3, 3), (0, 1), (2, 4), (1, 2), (0, 4), (2, 1), (3, 2), (4, 1), (4, 4), (0, 0), (1, 1), (0, 3), (2, 0), (1, 4), (2, 3)}, {(3, 0): 1, (4, 0): 1, (4, 1): 1})"
      ]
     },
     "execution_count": 16,
     "metadata": {},
     "output_type": "execute_result"
    }
   ],
   "source": [
    "value(vectors)"
   ]
  },
  {
   "cell_type": "code",
   "execution_count": 17,
   "id": "nuclear-modem",
   "metadata": {
    "execution": {
     "iopub.execute_input": "2021-02-06T09:18:47.327605Z",
     "iopub.status.busy": "2021-02-06T09:18:47.327372Z",
     "iopub.status.idle": "2021-02-06T09:18:47.354610Z",
     "shell.execute_reply": "2021-02-06T09:18:47.353746Z",
     "shell.execute_reply.started": "2021-02-06T09:18:47.327580Z"
    }
   },
   "outputs": [
    {
     "data": {
      "text/plain": [
       "dict_keys([(4, 0), (3, 4), (4, 3), (3, 1), (0, 2), (2, 2), (1, 0), (1, 3), (4, 2), (3, 0), (3, 3), (0, 1), (2, 4), (1, 2), (0, 4), (2, 1), (3, 2), (4, 1), (4, 4), (0, 0), (1, 1), (0, 3), (2, 0), (1, 4), (2, 3)])"
      ]
     },
     "execution_count": 17,
     "metadata": {},
     "output_type": "execute_result"
    }
   ],
   "source": [
    "keys(vectors)"
   ]
  },
  {
   "cell_type": "code",
   "execution_count": 51,
   "id": "italic-composition",
   "metadata": {
    "execution": {
     "iopub.execute_input": "2021-02-06T04:04:17.839879Z",
     "iopub.status.busy": "2021-02-06T04:04:17.839647Z",
     "iopub.status.idle": "2021-02-06T04:04:17.866251Z",
     "shell.execute_reply": "2021-02-06T04:04:17.865556Z",
     "shell.execute_reply.started": "2021-02-06T04:04:17.839854Z"
    }
   },
   "outputs": [
    {
     "data": {
      "text/plain": [
       "25"
      ]
     },
     "execution_count": 51,
     "metadata": {},
     "output_type": "execute_result"
    }
   ],
   "source": [
    "len(vectors)"
   ]
  },
  {
   "cell_type": "code",
   "execution_count": 59,
   "id": "perceived-corner",
   "metadata": {
    "execution": {
     "iopub.execute_input": "2021-02-06T04:08:01.204684Z",
     "iopub.status.busy": "2021-02-06T04:08:01.204439Z",
     "iopub.status.idle": "2021-02-06T04:08:01.232587Z",
     "shell.execute_reply": "2021-02-06T04:08:01.231664Z",
     "shell.execute_reply.started": "2021-02-06T04:08:01.204657Z"
    }
   },
   "outputs": [],
   "source": [
    "b = vectors[(0, 0)]"
   ]
  },
  {
   "cell_type": "code",
   "execution_count": 40,
   "id": "executive-cinema",
   "metadata": {
    "execution": {
     "iopub.execute_input": "2021-02-06T04:00:06.120889Z",
     "iopub.status.busy": "2021-02-06T04:00:06.120650Z",
     "iopub.status.idle": "2021-02-06T04:00:06.147220Z",
     "shell.execute_reply": "2021-02-06T04:00:06.146457Z",
     "shell.execute_reply.started": "2021-02-06T04:00:06.120862Z"
    }
   },
   "outputs": [
    {
     "data": {
      "text/plain": [
       "{4: 1}"
      ]
     },
     "execution_count": 40,
     "metadata": {},
     "output_type": "execute_result"
    }
   ],
   "source": [
    "dict([(4, 3)]) | dict([(4, 1)])"
   ]
  },
  {
   "cell_type": "code",
   "execution_count": 42,
   "id": "current-happening",
   "metadata": {
    "execution": {
     "iopub.execute_input": "2021-02-06T04:00:19.203402Z",
     "iopub.status.busy": "2021-02-06T04:00:19.203162Z",
     "iopub.status.idle": "2021-02-06T04:00:19.228801Z",
     "shell.execute_reply": "2021-02-06T04:00:19.227919Z",
     "shell.execute_reply.started": "2021-02-06T04:00:19.203376Z"
    }
   },
   "outputs": [],
   "source": [
    "B = coldict2mat(button_vectors(5))"
   ]
  },
  {
   "cell_type": "code",
   "execution_count": 60,
   "id": "whole-anniversary",
   "metadata": {
    "execution": {
     "iopub.execute_input": "2021-02-06T04:08:04.501187Z",
     "iopub.status.busy": "2021-02-06T04:08:04.500940Z",
     "iopub.status.idle": "2021-02-06T04:08:04.526662Z",
     "shell.execute_reply": "2021-02-06T04:08:04.525691Z",
     "shell.execute_reply.started": "2021-02-06T04:08:04.501159Z"
    }
   },
   "outputs": [],
   "source": [
    "s = Vec(b.D, {(2, 2): one})"
   ]
  },
  {
   "cell_type": "markdown",
   "id": "gentle-foundation",
   "metadata": {},
   "source": [
    "## Gnome"
   ]
  },
  {
   "cell_type": "code",
   "execution_count": 166,
   "id": "loved-exhaust",
   "metadata": {
    "execution": {
     "iopub.execute_input": "2021-02-06T08:55:14.836465Z",
     "iopub.status.busy": "2021-02-06T08:55:14.836222Z",
     "iopub.status.idle": "2021-02-06T08:55:14.864128Z",
     "shell.execute_reply": "2021-02-06T08:55:14.863332Z",
     "shell.execute_reply.started": "2021-02-06T08:55:14.836439Z"
    }
   },
   "outputs": [],
   "source": [
    "D = {'metal', 'concrete', 'plastic', 'water', 'electricity'}\n",
    "v_gnome = Vec(D, {'concrete': 1.3, 'plastic': .2, 'water': .8, 'electricity': .4})\n",
    "v_hoop = Vec(D, {'plastic': 1.5, 'water': .4, 'electricity': .3})\n",
    "v_slinky = Vec(D, {'metal': .25, 'water': .2, 'electricity': .7})\n",
    "v_putty = Vec(D, {'plastic': .3, 'water': .7, 'electricity': .5})\n",
    "v_shooter = Vec(D, {'metal': .15, 'plastic': .5, 'water': .4, 'electricity': .8})"
   ]
  },
  {
   "cell_type": "code",
   "execution_count": 167,
   "id": "ancient-membership",
   "metadata": {
    "execution": {
     "iopub.execute_input": "2021-02-06T08:55:14.987662Z",
     "iopub.status.busy": "2021-02-06T08:55:14.987437Z",
     "iopub.status.idle": "2021-02-06T08:55:15.014088Z",
     "shell.execute_reply": "2021-02-06T08:55:15.013325Z",
     "shell.execute_reply.started": "2021-02-06T08:55:14.987638Z"
    }
   },
   "outputs": [
    {
     "data": {
      "text/plain": [
       "Vec({'electricity', 'metal', 'plastic', 'concrete', 'water'}, {'electricity': 112.5, 'plastic': 130.5, 'concrete': 312.0, 'water': 214.0})"
      ]
     },
     "execution_count": 167,
     "metadata": {},
     "output_type": "execute_result"
    }
   ],
   "source": [
    "240*v_gnome + 55 * v_hoop"
   ]
  },
  {
   "cell_type": "code",
   "execution_count": 168,
   "id": "featured-monster",
   "metadata": {
    "execution": {
     "iopub.execute_input": "2021-02-06T08:55:15.173374Z",
     "iopub.status.busy": "2021-02-06T08:55:15.173145Z",
     "iopub.status.idle": "2021-02-06T08:55:15.198660Z",
     "shell.execute_reply": "2021-02-06T08:55:15.197826Z",
     "shell.execute_reply.started": "2021-02-06T08:55:15.173349Z"
    }
   },
   "outputs": [],
   "source": [
    "rowdict = {\n",
    "    'gnome': v_gnome,\n",
    "    'hoop': v_hoop,\n",
    "    'slinky': v_slinky,\n",
    "    'putty': v_putty,\n",
    "    'shooter': v_shooter,\n",
    "}"
   ]
  },
  {
   "cell_type": "code",
   "execution_count": 169,
   "id": "lasting-ottawa",
   "metadata": {
    "execution": {
     "iopub.execute_input": "2021-02-06T08:55:15.286736Z",
     "iopub.status.busy": "2021-02-06T08:55:15.286488Z",
     "iopub.status.idle": "2021-02-06T08:55:15.310038Z",
     "shell.execute_reply": "2021-02-06T08:55:15.309248Z",
     "shell.execute_reply.started": "2021-02-06T08:55:15.286711Z"
    }
   },
   "outputs": [],
   "source": [
    "M = rowdict2mat(rowdict)"
   ]
  },
  {
   "cell_type": "code",
   "execution_count": 170,
   "id": "polar-cleanup",
   "metadata": {
    "execution": {
     "iopub.execute_input": "2021-02-06T08:55:15.458193Z",
     "iopub.status.busy": "2021-02-06T08:55:15.457960Z",
     "iopub.status.idle": "2021-02-06T08:55:15.488611Z",
     "shell.execute_reply": "2021-02-06T08:55:15.487699Z",
     "shell.execute_reply.started": "2021-02-06T08:55:15.458168Z"
    }
   },
   "outputs": [
    {
     "name": "stdout",
     "output_type": "stream",
     "text": [
      "         electricity  metal  plastic  concrete  water\n",
      "gnome            0.4   0.00      0.2       1.3    0.8\n",
      "hoop             0.3   0.00      1.5       0.0    0.4\n",
      "shooter          0.8   0.15      0.5       0.0    0.4\n",
      "slinky           0.7   0.25      0.0       0.0    0.2\n",
      "putty            0.5   0.00      0.3       0.0    0.7\n"
     ]
    }
   ],
   "source": [
    "print(M)"
   ]
  },
  {
   "cell_type": "code",
   "execution_count": 171,
   "id": "phantom-alabama",
   "metadata": {
    "execution": {
     "iopub.execute_input": "2021-02-06T08:55:15.692250Z",
     "iopub.status.busy": "2021-02-06T08:55:15.692011Z",
     "iopub.status.idle": "2021-02-06T08:55:15.717282Z",
     "shell.execute_reply": "2021-02-06T08:55:15.716552Z",
     "shell.execute_reply.started": "2021-02-06T08:55:15.692224Z"
    }
   },
   "outputs": [],
   "source": [
    "R = set(rowdict.keys())"
   ]
  },
  {
   "cell_type": "code",
   "execution_count": 172,
   "id": "dietary-rebel",
   "metadata": {
    "execution": {
     "iopub.execute_input": "2021-02-06T08:55:15.949056Z",
     "iopub.status.busy": "2021-02-06T08:55:15.948825Z",
     "iopub.status.idle": "2021-02-06T08:55:15.974512Z",
     "shell.execute_reply": "2021-02-06T08:55:15.973645Z",
     "shell.execute_reply.started": "2021-02-06T08:55:15.949031Z"
    }
   },
   "outputs": [],
   "source": [
    "u = Vec(R, {'putty': 133, 'gnome': 240, 'slinky': 150, 'hoop': 55, 'shooter': 90})"
   ]
  },
  {
   "cell_type": "code",
   "execution_count": 173,
   "id": "chicken-ocean",
   "metadata": {
    "execution": {
     "iopub.execute_input": "2021-02-06T08:55:16.080803Z",
     "iopub.status.busy": "2021-02-06T08:55:16.080573Z",
     "iopub.status.idle": "2021-02-06T08:55:16.106126Z",
     "shell.execute_reply": "2021-02-06T08:55:16.105268Z",
     "shell.execute_reply.started": "2021-02-06T08:55:16.080779Z"
    }
   },
   "outputs": [
    {
     "data": {
      "text/plain": [
       "({'gnome', 'hoop', 'putty', 'shooter', 'slinky'},\n",
       " {'concrete', 'electricity', 'metal', 'plastic', 'water'})"
      ]
     },
     "execution_count": 173,
     "metadata": {},
     "output_type": "execute_result"
    }
   ],
   "source": [
    "M.D"
   ]
  },
  {
   "cell_type": "markdown",
   "id": "standard-paragraph",
   "metadata": {
    "execution": {
     "iopub.execute_input": "2021-02-06T08:48:29.173620Z",
     "iopub.status.busy": "2021-02-06T08:48:29.173381Z",
     "iopub.status.idle": "2021-02-06T08:48:29.199990Z",
     "shell.execute_reply": "2021-02-06T08:48:29.199165Z",
     "shell.execute_reply.started": "2021-02-06T08:48:29.173598Z"
    }
   },
   "source": [
    "Vec(M.D[1], {k: u * vec for k, vec in mat2coldict(M).items()})"
   ]
  },
  {
   "cell_type": "code",
   "execution_count": 174,
   "id": "proper-apartment",
   "metadata": {
    "execution": {
     "iopub.execute_input": "2021-02-06T08:55:16.544295Z",
     "iopub.status.busy": "2021-02-06T08:55:16.544067Z",
     "iopub.status.idle": "2021-02-06T08:55:16.571153Z",
     "shell.execute_reply": "2021-02-06T08:55:16.570201Z",
     "shell.execute_reply.started": "2021-02-06T08:55:16.544270Z"
    }
   },
   "outputs": [
    {
     "data": {
      "text/plain": [
       "{'gnome', 'hoop', 'putty', 'shooter', 'slinky'}"
      ]
     },
     "execution_count": 174,
     "metadata": {},
     "output_type": "execute_result"
    }
   ],
   "source": [
    "u.D"
   ]
  },
  {
   "cell_type": "code",
   "execution_count": 175,
   "id": "buried-nursing",
   "metadata": {
    "execution": {
     "iopub.execute_input": "2021-02-06T08:55:16.787415Z",
     "iopub.status.busy": "2021-02-06T08:55:16.787176Z",
     "iopub.status.idle": "2021-02-06T08:55:16.815383Z",
     "shell.execute_reply": "2021-02-06T08:55:16.814417Z",
     "shell.execute_reply.started": "2021-02-06T08:55:16.787389Z"
    }
   },
   "outputs": [
    {
     "data": {
      "text/plain": [
       "True"
      ]
     },
     "execution_count": 175,
     "metadata": {},
     "output_type": "execute_result"
    }
   ],
   "source": [
    "isinstance(M, Mat)"
   ]
  },
  {
   "cell_type": "code",
   "execution_count": 178,
   "id": "equivalent-renewal",
   "metadata": {
    "execution": {
     "iopub.execute_input": "2021-02-06T08:55:17.369228Z",
     "iopub.status.busy": "2021-02-06T08:55:17.368998Z",
     "iopub.status.idle": "2021-02-06T08:55:17.403631Z",
     "shell.execute_reply": "2021-02-06T08:55:17.402558Z",
     "shell.execute_reply.started": "2021-02-06T08:55:17.369203Z"
    }
   },
   "outputs": [
    {
     "name": "stdout",
     "output_type": "stream",
     "text": [
      "check vec\n",
      "check mat\n"
     ]
    },
    {
     "ename": "TypeError",
     "evalue": "unsupported operand type(s) for *: 'int' and 'Mat'",
     "output_type": "error",
     "traceback": [
      "\u001b[0;31m---------------------------------------------------------------------------\u001b[0m",
      "\u001b[0;31mTypeError\u001b[0m                                 Traceback (most recent call last)",
      "\u001b[0;32m<ipython-input-178-189dd519714d>\u001b[0m in \u001b[0;36m<module>\u001b[0;34m\u001b[0m\n\u001b[0;32m----> 1\u001b[0;31m \u001b[0mu\u001b[0m \u001b[0;34m*\u001b[0m \u001b[0mM\u001b[0m\u001b[0;34m\u001b[0m\u001b[0;34m\u001b[0m\u001b[0m\n\u001b[0m",
      "\u001b[0;32m~/github.com/banbiossa/coding-the-matrix/coding_the_matrix/Vec.py\u001b[0m in \u001b[0;36m__mul__\u001b[0;34m(self, other)\u001b[0m\n\u001b[1;32m    257\u001b[0m \u001b[0;34m\u001b[0m\u001b[0m\n\u001b[1;32m    258\u001b[0m         \u001b[0;31m# invokes rmul\u001b[0m\u001b[0;34m\u001b[0m\u001b[0;34m\u001b[0m\u001b[0;34m\u001b[0m\u001b[0m\n\u001b[0;32m--> 259\u001b[0;31m         \u001b[0;32mreturn\u001b[0m \u001b[0mself\u001b[0m\u001b[0;34m.\u001b[0m\u001b[0m__rmul__\u001b[0m\u001b[0;34m(\u001b[0m\u001b[0mother\u001b[0m\u001b[0;34m)\u001b[0m\u001b[0;34m\u001b[0m\u001b[0;34m\u001b[0m\u001b[0m\n\u001b[0m\u001b[1;32m    260\u001b[0m \u001b[0;34m\u001b[0m\u001b[0m\n\u001b[1;32m    261\u001b[0m     \u001b[0m__rmul__\u001b[0m \u001b[0;34m=\u001b[0m \u001b[0mscalar_mul\u001b[0m\u001b[0;34m\u001b[0m\u001b[0;34m\u001b[0m\u001b[0m\n",
      "\u001b[0;32m~/github.com/banbiossa/coding-the-matrix/coding_the_matrix/Vec.py\u001b[0m in \u001b[0;36mscalar_mul\u001b[0;34m(v, alpha)\u001b[0m\n\u001b[1;32m    187\u001b[0m     \u001b[0;32mTrue\u001b[0m\u001b[0;34m\u001b[0m\u001b[0;34m\u001b[0m\u001b[0m\n\u001b[1;32m    188\u001b[0m     \"\"\"\n\u001b[0;32m--> 189\u001b[0;31m     \u001b[0;32mreturn\u001b[0m \u001b[0mVec\u001b[0m\u001b[0;34m(\u001b[0m\u001b[0mv\u001b[0m\u001b[0;34m.\u001b[0m\u001b[0mD\u001b[0m\u001b[0;34m,\u001b[0m \u001b[0;34m{\u001b[0m\u001b[0mk\u001b[0m\u001b[0;34m:\u001b[0m \u001b[0mvalue\u001b[0m \u001b[0;34m*\u001b[0m \u001b[0malpha\u001b[0m \u001b[0;32mfor\u001b[0m \u001b[0mk\u001b[0m\u001b[0;34m,\u001b[0m \u001b[0mvalue\u001b[0m \u001b[0;32min\u001b[0m \u001b[0mv\u001b[0m\u001b[0;34m.\u001b[0m\u001b[0mf\u001b[0m\u001b[0;34m.\u001b[0m\u001b[0mitems\u001b[0m\u001b[0;34m(\u001b[0m\u001b[0;34m)\u001b[0m\u001b[0;34m}\u001b[0m\u001b[0;34m)\u001b[0m\u001b[0;34m\u001b[0m\u001b[0;34m\u001b[0m\u001b[0m\n\u001b[0m\u001b[1;32m    190\u001b[0m \u001b[0;34m\u001b[0m\u001b[0m\n\u001b[1;32m    191\u001b[0m \u001b[0;34m\u001b[0m\u001b[0m\n",
      "\u001b[0;32m~/github.com/banbiossa/coding-the-matrix/coding_the_matrix/Vec.py\u001b[0m in \u001b[0;36m<dictcomp>\u001b[0;34m(.0)\u001b[0m\n\u001b[1;32m    187\u001b[0m     \u001b[0;32mTrue\u001b[0m\u001b[0;34m\u001b[0m\u001b[0;34m\u001b[0m\u001b[0m\n\u001b[1;32m    188\u001b[0m     \"\"\"\n\u001b[0;32m--> 189\u001b[0;31m     \u001b[0;32mreturn\u001b[0m \u001b[0mVec\u001b[0m\u001b[0;34m(\u001b[0m\u001b[0mv\u001b[0m\u001b[0;34m.\u001b[0m\u001b[0mD\u001b[0m\u001b[0;34m,\u001b[0m \u001b[0;34m{\u001b[0m\u001b[0mk\u001b[0m\u001b[0;34m:\u001b[0m \u001b[0mvalue\u001b[0m \u001b[0;34m*\u001b[0m \u001b[0malpha\u001b[0m \u001b[0;32mfor\u001b[0m \u001b[0mk\u001b[0m\u001b[0;34m,\u001b[0m \u001b[0mvalue\u001b[0m \u001b[0;32min\u001b[0m \u001b[0mv\u001b[0m\u001b[0;34m.\u001b[0m\u001b[0mf\u001b[0m\u001b[0;34m.\u001b[0m\u001b[0mitems\u001b[0m\u001b[0;34m(\u001b[0m\u001b[0;34m)\u001b[0m\u001b[0;34m}\u001b[0m\u001b[0;34m)\u001b[0m\u001b[0;34m\u001b[0m\u001b[0;34m\u001b[0m\u001b[0m\n\u001b[0m\u001b[1;32m    190\u001b[0m \u001b[0;34m\u001b[0m\u001b[0m\n\u001b[1;32m    191\u001b[0m \u001b[0;34m\u001b[0m\u001b[0m\n",
      "\u001b[0;31mTypeError\u001b[0m: unsupported operand type(s) for *: 'int' and 'Mat'"
     ]
    }
   ],
   "source": [
    "u * M"
   ]
  },
  {
   "cell_type": "code",
   "execution_count": 179,
   "id": "concerned-station",
   "metadata": {
    "execution": {
     "iopub.execute_input": "2021-02-06T08:55:17.582036Z",
     "iopub.status.busy": "2021-02-06T08:55:17.581794Z",
     "iopub.status.idle": "2021-02-06T08:55:17.608966Z",
     "shell.execute_reply": "2021-02-06T08:55:17.608145Z",
     "shell.execute_reply.started": "2021-02-06T08:55:17.582010Z"
    }
   },
   "outputs": [
    {
     "data": {
      "text/plain": [
       "({0, 1}, {0, 1, 2, 3})"
      ]
     },
     "execution_count": 179,
     "metadata": {},
     "output_type": "execute_result"
    }
   ],
   "source": [
    "A.D"
   ]
  },
  {
   "cell_type": "code",
   "execution_count": 5,
   "id": "colored-spotlight",
   "metadata": {
    "execution": {
     "iopub.execute_input": "2021-02-04T13:43:33.952771Z",
     "iopub.status.busy": "2021-02-04T13:43:33.952528Z",
     "iopub.status.idle": "2021-02-04T13:43:33.982470Z",
     "shell.execute_reply": "2021-02-04T13:43:33.981593Z",
     "shell.execute_reply.started": "2021-02-04T13:43:33.952744Z"
    }
   },
   "outputs": [
    {
     "data": {
      "text/plain": [
       "dict_keys([(0, 0), (0, 1), (0, 2), (0, 3), (1, 0), (1, 1), (1, 2), (1, 3)])"
      ]
     },
     "execution_count": 5,
     "metadata": {},
     "output_type": "execute_result"
    }
   ],
   "source": [
    "A.f.keys()"
   ]
  },
  {
   "cell_type": "code",
   "execution_count": null,
   "id": "recreational-enzyme",
   "metadata": {},
   "outputs": [],
   "source": []
  },
  {
   "cell_type": "code",
   "execution_count": 14,
   "id": "deadly-invasion",
   "metadata": {
    "execution": {
     "iopub.execute_input": "2021-02-03T13:25:54.128140Z",
     "iopub.status.busy": "2021-02-03T13:25:54.127890Z",
     "iopub.status.idle": "2021-02-03T13:25:54.154776Z",
     "shell.execute_reply": "2021-02-03T13:25:54.153901Z",
     "shell.execute_reply.started": "2021-02-03T13:25:54.128113Z"
    }
   },
   "outputs": [
    {
     "name": "stdout",
     "output_type": "stream",
     "text": [
      "('a', '@'): ,\n",
      "('a', '#'): ,\n",
      "('a', '?'): ,\n",
      "('b', '@'): ,\n",
      "('b', '#'): ,\n",
      "('b', '?'): ,\n"
     ]
    }
   ],
   "source": [
    "import itertools\n",
    "for r, c in itertools.product(*D):\n",
    "    print(f\"('{r}', '{c}'): ,\")"
   ]
  },
  {
   "cell_type": "code",
   "execution_count": 7,
   "id": "outstanding-capacity",
   "metadata": {
    "execution": {
     "iopub.execute_input": "2021-02-03T13:24:09.444793Z",
     "iopub.status.busy": "2021-02-03T13:24:09.444554Z",
     "iopub.status.idle": "2021-02-03T13:24:09.472347Z",
     "shell.execute_reply": "2021-02-03T13:24:09.471488Z",
     "shell.execute_reply.started": "2021-02-03T13:24:09.444767Z"
    }
   },
   "outputs": [],
   "source": [
    "D = ({'a', 'b'}, {'@', '#', '?'})"
   ]
  },
  {
   "cell_type": "code",
   "execution_count": 12,
   "id": "narrow-oliver",
   "metadata": {
    "execution": {
     "iopub.execute_input": "2021-02-03T13:25:44.829319Z",
     "iopub.status.busy": "2021-02-03T13:25:44.829065Z",
     "iopub.status.idle": "2021-02-03T13:25:44.855801Z",
     "shell.execute_reply": "2021-02-03T13:25:44.855031Z",
     "shell.execute_reply.started": "2021-02-03T13:25:44.829290Z"
    }
   },
   "outputs": [],
   "source": [
    "f = {\n",
    "    (\"a\", \"@\"): 1,\n",
    "    (\"a\", \"#\"): 2,\n",
    "    (\"a\", \"?\"): 3,\n",
    "    (\"b\", \"@\"): 10,\n",
    "    (\"b\", \"#\"): 20,\n",
    "    (\"b\", \"?\"): 30,\n",
    "}"
   ]
  },
  {
   "cell_type": "code",
   "execution_count": 13,
   "id": "caring-reservation",
   "metadata": {
    "execution": {
     "iopub.execute_input": "2021-02-03T13:25:48.985926Z",
     "iopub.status.busy": "2021-02-03T13:25:48.985685Z",
     "iopub.status.idle": "2021-02-03T13:25:49.014776Z",
     "shell.execute_reply": "2021-02-03T13:25:49.013878Z",
     "shell.execute_reply.started": "2021-02-03T13:25:48.985899Z"
    }
   },
   "outputs": [],
   "source": [
    "M = Mat(D, f)"
   ]
  },
  {
   "cell_type": "code",
   "execution_count": 6,
   "id": "dramatic-validity",
   "metadata": {
    "execution": {
     "iopub.execute_input": "2021-02-03T13:23:39.065325Z",
     "iopub.status.busy": "2021-02-03T13:23:39.065075Z",
     "iopub.status.idle": "2021-02-03T13:23:39.091019Z",
     "shell.execute_reply": "2021-02-03T13:23:39.090314Z",
     "shell.execute_reply.started": "2021-02-03T13:23:39.065298Z"
    }
   },
   "outputs": [],
   "source": []
  },
  {
   "cell_type": "code",
   "execution_count": 31,
   "id": "boolean-treasure",
   "metadata": {
    "execution": {
     "iopub.execute_input": "2021-02-03T13:31:09.979247Z",
     "iopub.status.busy": "2021-02-03T13:31:09.978986Z",
     "iopub.status.idle": "2021-02-03T13:31:10.006379Z",
     "shell.execute_reply": "2021-02-03T13:31:10.005521Z",
     "shell.execute_reply.started": "2021-02-03T13:31:09.979217Z"
    }
   },
   "outputs": [],
   "source": [
    "def mat2rowdict(M):\n",
    "    \"\"\"return the rowdict representation of M\"\"\"\n",
    "    R, C = M.D\n",
    "    return {r: Vec(C, {c: M.f[(r, c)] for c in C}) for r in R}"
   ]
  },
  {
   "cell_type": "code",
   "execution_count": 32,
   "id": "transsexual-metropolitan",
   "metadata": {
    "execution": {
     "iopub.execute_input": "2021-02-03T13:31:20.058226Z",
     "iopub.status.busy": "2021-02-03T13:31:20.057975Z",
     "iopub.status.idle": "2021-02-03T13:31:20.086372Z",
     "shell.execute_reply": "2021-02-03T13:31:20.085512Z",
     "shell.execute_reply.started": "2021-02-03T13:31:20.058198Z"
    }
   },
   "outputs": [
    {
     "data": {
      "text/plain": [
       "{'a': Vec({'@', '#', '?'}, {'@': 1, '#': 2, '?': 3}),\n",
       " 'b': Vec({'@', '#', '?'}, {'@': 10, '#': 20, '?': 30})}"
      ]
     },
     "execution_count": 32,
     "metadata": {},
     "output_type": "execute_result"
    }
   ],
   "source": [
    "mat2rowdict(M)"
   ]
  },
  {
   "cell_type": "code",
   "execution_count": 33,
   "id": "disturbed-blond",
   "metadata": {
    "execution": {
     "iopub.execute_input": "2021-02-03T13:32:46.309348Z",
     "iopub.status.busy": "2021-02-03T13:32:46.309090Z",
     "iopub.status.idle": "2021-02-03T13:32:46.336632Z",
     "shell.execute_reply": "2021-02-03T13:32:46.335671Z",
     "shell.execute_reply.started": "2021-02-03T13:32:46.309319Z"
    }
   },
   "outputs": [],
   "source": [
    "def mat2coldict(M):\n",
    "    \"\"\"return the coldict representation of M\"\"\"\n",
    "    R, C = M.D\n",
    "    return {c: Vec(R, {r: M.f[(r, c)] for r in R}) for c in C}"
   ]
  },
  {
   "cell_type": "code",
   "execution_count": 34,
   "id": "emerging-millennium",
   "metadata": {
    "execution": {
     "iopub.execute_input": "2021-02-03T13:32:51.022435Z",
     "iopub.status.busy": "2021-02-03T13:32:51.022166Z",
     "iopub.status.idle": "2021-02-03T13:32:51.050175Z",
     "shell.execute_reply": "2021-02-03T13:32:51.049509Z",
     "shell.execute_reply.started": "2021-02-03T13:32:51.022406Z"
    }
   },
   "outputs": [
    {
     "data": {
      "text/plain": [
       "{'@': Vec({'a', 'b'}, {'a': 1, 'b': 10}),\n",
       " '#': Vec({'a', 'b'}, {'a': 2, 'b': 20}),\n",
       " '?': Vec({'a', 'b'}, {'a': 3, 'b': 30})}"
      ]
     },
     "execution_count": 34,
     "metadata": {},
     "output_type": "execute_result"
    }
   ],
   "source": [
    "mat2coldict(M)"
   ]
  },
  {
   "cell_type": "code",
   "execution_count": null,
   "id": "closing-intranet",
   "metadata": {},
   "outputs": [],
   "source": []
  },
  {
   "cell_type": "code",
   "execution_count": null,
   "id": "aggregate-simple",
   "metadata": {},
   "outputs": [],
   "source": []
  },
  {
   "cell_type": "code",
   "execution_count": null,
   "id": "supported-crazy",
   "metadata": {},
   "outputs": [],
   "source": []
  },
  {
   "cell_type": "code",
   "execution_count": null,
   "id": "collectible-congress",
   "metadata": {},
   "outputs": [],
   "source": []
  }
 ],
 "metadata": {
  "kernelspec": {
   "display_name": "Python 3",
   "language": "python",
   "name": "python3"
  },
  "language_info": {
   "codemirror_mode": {
    "name": "ipython",
    "version": 3
   },
   "file_extension": ".py",
   "mimetype": "text/x-python",
   "name": "python",
   "nbconvert_exporter": "python",
   "pygments_lexer": "ipython3",
   "version": "3.9.0"
  }
 },
 "nbformat": 4,
 "nbformat_minor": 5
}
