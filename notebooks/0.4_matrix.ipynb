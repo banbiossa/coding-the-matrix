{
 "cells": [
  {
   "cell_type": "markdown",
   "id": "cubic-perception",
   "metadata": {},
   "source": [
    "# 0.4_matrix"
   ]
  },
  {
   "cell_type": "code",
   "execution_count": 23,
   "id": "whole-karma",
   "metadata": {
    "execution": {
     "iopub.execute_input": "2021-02-13T02:58:34.015519Z",
     "iopub.status.busy": "2021-02-13T02:58:34.015270Z",
     "iopub.status.idle": "2021-02-13T02:58:34.053773Z",
     "shell.execute_reply": "2021-02-13T02:58:34.052829Z",
     "shell.execute_reply.started": "2021-02-13T02:58:34.015491Z"
    }
   },
   "outputs": [
    {
     "name": "stdout",
     "output_type": "stream",
     "text": [
      "The autoreload extension is already loaded. To reload it, use:\n",
      "  %reload_ext autoreload\n",
      "The blackcellmagic extension is already loaded. To reload it, use:\n",
      "  %reload_ext blackcellmagic\n"
     ]
    }
   ],
   "source": [
    "%load_ext autoreload\n",
    "%autoreload 2\n",
    "%matplotlib inline\n",
    "%load_ext blackcellmagic\n",
    "\n",
    "import pandas as pd\n",
    "import numpy as np\n",
    "import seaborn as sns\n",
    "import matplotlib.pyplot as plt\n",
    "\n",
    "import logging\n",
    "logging.basicConfig(level=logging.INFO)\n",
    "logger = logging.getLogger()\n",
    "logger.setLevel(logging.INFO)\n",
    "\n",
    "def nrows(n):\n",
    "    pd.options.display.max_rows = n\n",
    "\n",
    "nrows(5)\n",
    "\n",
    "import itertools\n",
    "from coding_the_matrix.Vec import Vec\n",
    "from coding_the_matrix.Mat import Mat\n",
    "from coding_the_matrix.matutil import listlist2mat, value, keys, coldict2mat, rowdict2mat, mat2rowdict, mat2coldict\n",
    "from coding_the_matrix.vecutil import *\n",
    "from coding_the_matrix.GF2 import *\n",
    "from coding_the_matrix.solve import solve"
   ]
  },
  {
   "cell_type": "code",
   "execution_count": 2,
   "id": "musical-manufacturer",
   "metadata": {
    "execution": {
     "iopub.execute_input": "2021-02-13T02:54:24.810334Z",
     "iopub.status.busy": "2021-02-13T02:54:24.810093Z",
     "iopub.status.idle": "2021-02-13T02:54:24.836460Z",
     "shell.execute_reply": "2021-02-13T02:54:24.835638Z",
     "shell.execute_reply.started": "2021-02-13T02:54:24.810308Z"
    }
   },
   "outputs": [],
   "source": [
    "A = listlist2mat([[10, 20, 30, 40], [50, 60, 70, 80]])"
   ]
  },
  {
   "cell_type": "code",
   "execution_count": 3,
   "id": "sporting-liver",
   "metadata": {
    "execution": {
     "iopub.execute_input": "2021-02-13T02:54:25.081990Z",
     "iopub.status.busy": "2021-02-13T02:54:25.081750Z",
     "iopub.status.idle": "2021-02-13T02:54:25.112739Z",
     "shell.execute_reply": "2021-02-13T02:54:25.111995Z",
     "shell.execute_reply.started": "2021-02-13T02:54:25.081963Z"
    }
   },
   "outputs": [
    {
     "name": "stdout",
     "output_type": "stream",
     "text": [
      "    0   1   2   3\n",
      "0  10  20  30  40\n",
      "1  50  60  70  80\n"
     ]
    }
   ],
   "source": [
    "print(A)"
   ]
  },
  {
   "cell_type": "code",
   "execution_count": 4,
   "id": "spectacular-thread",
   "metadata": {
    "execution": {
     "iopub.execute_input": "2021-02-13T02:54:25.740885Z",
     "iopub.status.busy": "2021-02-13T02:54:25.740647Z",
     "iopub.status.idle": "2021-02-13T02:54:25.766694Z",
     "shell.execute_reply": "2021-02-13T02:54:25.765964Z",
     "shell.execute_reply.started": "2021-02-13T02:54:25.740859Z"
    }
   },
   "outputs": [],
   "source": [
    "def mat2Vec(M):\n",
    "    R, C = M.D\n",
    "    return Vec({(r,c) for r in R for c in C}, M.f) "
   ]
  },
  {
   "cell_type": "code",
   "execution_count": 5,
   "id": "formed-ground",
   "metadata": {
    "execution": {
     "iopub.execute_input": "2021-02-13T02:54:26.097744Z",
     "iopub.status.busy": "2021-02-13T02:54:26.097506Z",
     "iopub.status.idle": "2021-02-13T02:54:26.122662Z",
     "shell.execute_reply": "2021-02-13T02:54:26.121948Z",
     "shell.execute_reply.started": "2021-02-13T02:54:26.097719Z"
    }
   },
   "outputs": [],
   "source": [
    "def tranpose(M):\n",
    "    R, C = M.D\n",
    "    D = (C, R)\n",
    "    f = {(c, r): v for (r, c), v in M.f.items()}\n",
    "    return Mat(D, f)"
   ]
  },
  {
   "cell_type": "code",
   "execution_count": 6,
   "id": "advisory-badge",
   "metadata": {
    "execution": {
     "iopub.execute_input": "2021-02-13T02:54:26.375876Z",
     "iopub.status.busy": "2021-02-13T02:54:26.375637Z",
     "iopub.status.idle": "2021-02-13T02:54:26.404050Z",
     "shell.execute_reply": "2021-02-13T02:54:26.403190Z",
     "shell.execute_reply.started": "2021-02-13T02:54:26.375850Z"
    }
   },
   "outputs": [
    {
     "name": "stdout",
     "output_type": "stream",
     "text": [
      "    0   1\n",
      "0  10  50\n",
      "1  20  60\n",
      "2  30  70\n",
      "3  40  80\n"
     ]
    }
   ],
   "source": [
    "print(tranpose(A))"
   ]
  },
  {
   "cell_type": "code",
   "execution_count": 7,
   "id": "mighty-gossip",
   "metadata": {
    "execution": {
     "iopub.execute_input": "2021-02-13T02:54:26.701139Z",
     "iopub.status.busy": "2021-02-13T02:54:26.700842Z",
     "iopub.status.idle": "2021-02-13T02:54:26.734401Z",
     "shell.execute_reply": "2021-02-13T02:54:26.733417Z",
     "shell.execute_reply.started": "2021-02-13T02:54:26.701108Z"
    }
   },
   "outputs": [],
   "source": [
    "def button_vectors(n):\n",
    "    D = {(x, y) for x, y in itertools.product(range(n), range(n))}\n",
    "    vecdict = {\n",
    "        (i, j): Vec(\n",
    "            D,\n",
    "            dict([((x, j), one) for x in range(max(i - 1, 0), min(i + 2, n))]+\n",
    "            [((i, y), one) for y in range(max(j - 1, 0), min(j + 2, n))]),\n",
    "        )\n",
    "        for (i, j) in D\n",
    "    }\n",
    "    return vecdict"
   ]
  },
  {
   "cell_type": "code",
   "execution_count": 10,
   "id": "drawn-delivery",
   "metadata": {
    "execution": {
     "iopub.execute_input": "2021-02-13T02:54:30.556728Z",
     "iopub.status.busy": "2021-02-13T02:54:30.556490Z",
     "iopub.status.idle": "2021-02-13T02:54:30.582696Z",
     "shell.execute_reply": "2021-02-13T02:54:30.581837Z",
     "shell.execute_reply.started": "2021-02-13T02:54:30.556702Z"
    }
   },
   "outputs": [],
   "source": [
    "vectors = button_vectors(5)"
   ]
  },
  {
   "cell_type": "code",
   "execution_count": 11,
   "id": "described-basic",
   "metadata": {
    "execution": {
     "iopub.execute_input": "2021-02-13T02:54:31.099070Z",
     "iopub.status.busy": "2021-02-13T02:54:31.098821Z",
     "iopub.status.idle": "2021-02-13T02:54:31.124535Z",
     "shell.execute_reply": "2021-02-13T02:54:31.123856Z",
     "shell.execute_reply.started": "2021-02-13T02:54:31.099043Z"
    }
   },
   "outputs": [],
   "source": [
    "b = value(vectors)"
   ]
  },
  {
   "cell_type": "code",
   "execution_count": 12,
   "id": "medium-solid",
   "metadata": {
    "execution": {
     "iopub.execute_input": "2021-02-13T02:54:31.649749Z",
     "iopub.status.busy": "2021-02-13T02:54:31.649494Z",
     "iopub.status.idle": "2021-02-13T02:54:31.675769Z",
     "shell.execute_reply": "2021-02-13T02:54:31.675117Z",
     "shell.execute_reply.started": "2021-02-13T02:54:31.649719Z"
    }
   },
   "outputs": [],
   "source": [
    "s = Vec(b.D, {(2, 2): one})"
   ]
  },
  {
   "cell_type": "code",
   "execution_count": 13,
   "id": "sexual-smile",
   "metadata": {
    "execution": {
     "iopub.execute_input": "2021-02-13T02:54:32.370685Z",
     "iopub.status.busy": "2021-02-13T02:54:32.370446Z",
     "iopub.status.idle": "2021-02-13T02:54:32.396496Z",
     "shell.execute_reply": "2021-02-13T02:54:32.395493Z",
     "shell.execute_reply.started": "2021-02-13T02:54:32.370659Z"
    }
   },
   "outputs": [],
   "source": [
    "M = rowdict2mat(vectors)"
   ]
  },
  {
   "cell_type": "code",
   "execution_count": 33,
   "id": "sunrise-alexander",
   "metadata": {
    "execution": {
     "iopub.execute_input": "2021-02-13T03:36:41.779151Z",
     "iopub.status.busy": "2021-02-13T03:36:41.778910Z",
     "iopub.status.idle": "2021-02-13T03:36:49.865549Z",
     "shell.execute_reply": "2021-02-13T03:36:49.864619Z",
     "shell.execute_reply.started": "2021-02-13T03:36:41.779124Z"
    }
   },
   "outputs": [
    {
     "name": "stderr",
     "output_type": "stream",
     "text": [
      "ERROR:coding_the_matrix.solve:rowvec=Vec({(4, 0), (3, 4), (4, 3), (3, 1), (0, 2), (2, 2), (1, 0), (1, 3), (4, 2), (3, 0), (3, 3), (0, 1), (2, 4), (1, 2), (0, 4), (2, 1), (3, 2), (4, 1), (4, 4), (0, 0), (1, 1), (0, 3), (2, 0), (1, 4), (2, 3)}, {(4, 0): 0, (3, 4): 0, (4, 3): 0, (3, 1): 0, (0, 2): 0, (2, 2): 0, (1, 0): 0, (1, 3): 0, (4, 2): 0, (3, 0): 0, (3, 3): 0, (0, 1): 0, (2, 4): 0, (1, 2): 0, (0, 4): 0, (2, 1): 0, (3, 2): 0, (4, 1): 0, (4, 4): 0, (0, 0): 0, (1, 1): 0, (0, 3): 0, (2, 0): 0, (1, 4): 0, (2, 3): 0}) has zero at col=(1, 4)\n",
      "ERROR:coding_the_matrix.solve:rowvec=Vec({(4, 0), (3, 4), (4, 3), (3, 1), (0, 2), (2, 2), (1, 0), (1, 3), (4, 2), (3, 0), (3, 3), (0, 1), (2, 4), (1, 2), (0, 4), (2, 1), (3, 2), (4, 1), (4, 4), (0, 0), (1, 1), (0, 3), (2, 0), (1, 4), (2, 3)}, {(4, 0): 0, (3, 4): 0, (4, 3): 0, (3, 1): 0, (0, 2): 0, (2, 2): 0, (1, 0): 0, (1, 3): 0, (4, 2): 0, (3, 0): 0, (3, 3): 0, (0, 1): 0, (2, 4): 0, (1, 2): 0, (0, 4): 0, (2, 1): 0, (3, 2): 0, (4, 1): 0, (4, 4): 0, (0, 0): 0, (1, 1): 0, (0, 3): 0, (2, 0): 0, (1, 4): 0, (2, 3): 0}) has zero at col=(2, 3)\n"
     ]
    }
   ],
   "source": [
    "sol, A = solve(M, s)"
   ]
  },
  {
   "cell_type": "code",
   "execution_count": 41,
   "id": "earned-mercury",
   "metadata": {
    "execution": {
     "iopub.execute_input": "2021-02-13T03:45:59.960888Z",
     "iopub.status.busy": "2021-02-13T03:45:59.960647Z",
     "iopub.status.idle": "2021-02-13T03:45:59.989059Z",
     "shell.execute_reply": "2021-02-13T03:45:59.988227Z",
     "shell.execute_reply.started": "2021-02-13T03:45:59.960862Z"
    }
   },
   "outputs": [
    {
     "data": {
      "text/plain": [
       "45"
      ]
     },
     "execution_count": 41,
     "metadata": {},
     "output_type": "execute_result"
    }
   ],
   "source": [
    "len([(k, v) for k, v in A.f.items() if v != 0])"
   ]
  },
  {
   "cell_type": "code",
   "execution_count": 42,
   "id": "foreign-funds",
   "metadata": {
    "execution": {
     "iopub.execute_input": "2021-02-13T03:46:06.316762Z",
     "iopub.status.busy": "2021-02-13T03:46:06.316511Z",
     "iopub.status.idle": "2021-02-13T03:46:06.350415Z",
     "shell.execute_reply": "2021-02-13T03:46:06.349643Z",
     "shell.execute_reply.started": "2021-02-13T03:46:06.316736Z"
    }
   },
   "outputs": [
    {
     "data": {
      "text/plain": [
       "[(((4, 3), (0, 3)), 1),\n",
       " (((4, 3), (2, 3)), 1),\n",
       " (((3, 1), (2, 0)), 1),\n",
       " (((3, 1), (2, 3)), 1),\n",
       " (((0, 2), (1, 1)), 1),\n",
       " (((2, 2), (4, 4)), 1),\n",
       " (((2, 2), (1, 4)), 1),\n",
       " (((2, 2), (2, 3)), 1),\n",
       " (((1, 0), (4, 1)), 1),\n",
       " (((1, 0), (2, 3)), 1),\n",
       " (((1, 3), (3, 2)), 1),\n",
       " (((1, 3), (1, 4)), 1),\n",
       " (((4, 2), (0, 0)), 1),\n",
       " (((4, 2), (1, 4)), 1),\n",
       " (((4, 2), (2, 3)), 1),\n",
       " (((3, 0), (2, 4)), 1),\n",
       " (((3, 0), (2, 3)), 1),\n",
       " (((3, 3), (2, 1)), 1),\n",
       " (((3, 3), (2, 3)), 1),\n",
       " (((0, 1), (0, 1)), 1),\n",
       " (((0, 1), (2, 3)), 1),\n",
       " (((2, 4), (4, 3)), 1),\n",
       " (((2, 4), (2, 3)), 1),\n",
       " (((1, 2), (3, 3)), 1),\n",
       " (((0, 4), (0, 4)), 1),\n",
       " (((0, 4), (1, 4)), 1),\n",
       " (((0, 4), (2, 3)), 1),\n",
       " (((2, 1), (4, 2)), 1),\n",
       " (((2, 1), (1, 4)), 1),\n",
       " (((3, 2), (3, 1)), 1),\n",
       " (((4, 1), (4, 0)), 1),\n",
       " (((4, 1), (1, 4)), 1),\n",
       " (((4, 1), (2, 3)), 1),\n",
       " (((4, 4), (3, 4)), 1),\n",
       " (((4, 4), (1, 4)), 1),\n",
       " (((0, 0), (1, 2)), 1),\n",
       " (((0, 0), (1, 4)), 1),\n",
       " (((1, 1), (3, 0)), 1),\n",
       " (((1, 1), (1, 4)), 1),\n",
       " (((0, 3), (0, 2)), 1),\n",
       " (((0, 3), (1, 4)), 1),\n",
       " (((2, 0), (1, 0)), 1),\n",
       " (((2, 0), (1, 4)), 1),\n",
       " (((1, 4), (1, 3)), 1),\n",
       " (((2, 3), (2, 2)), 1)]"
      ]
     },
     "execution_count": 42,
     "metadata": {},
     "output_type": "execute_result"
    }
   ],
   "source": [
    "[(k, v) for k, v in A.f.items() if v != 0]"
   ]
  },
  {
   "cell_type": "code",
   "execution_count": 32,
   "id": "arctic-designer",
   "metadata": {
    "execution": {
     "iopub.execute_input": "2021-02-13T03:31:16.013200Z",
     "iopub.status.busy": "2021-02-13T03:31:16.012994Z",
     "iopub.status.idle": "2021-02-13T03:31:16.037315Z",
     "shell.execute_reply": "2021-02-13T03:31:16.036686Z",
     "shell.execute_reply.started": "2021-02-13T03:31:16.013183Z"
    }
   },
   "outputs": [
    {
     "data": {
      "text/plain": [
       "False"
      ]
     },
     "execution_count": 32,
     "metadata": {},
     "output_type": "execute_result"
    }
   ],
   "source": [
    "M*sol == s"
   ]
  },
  {
   "cell_type": "code",
   "execution_count": 10,
   "id": "eligible-andrew",
   "metadata": {
    "execution": {
     "iopub.execute_input": "2021-02-07T06:57:57.821040Z",
     "iopub.status.busy": "2021-02-07T06:57:57.820855Z",
     "iopub.status.idle": "2021-02-07T06:57:57.849836Z",
     "shell.execute_reply": "2021-02-07T06:57:57.849237Z",
     "shell.execute_reply.started": "2021-02-07T06:57:57.821019Z"
    }
   },
   "outputs": [
    {
     "data": {
      "text/plain": [
       "Vec({(4, 0), (3, 4), (4, 3), (3, 1), (0, 2), (2, 2), (1, 0), (1, 3), (4, 2), (3, 0), (3, 3), (0, 1), (2, 4), (1, 2), (0, 4), (2, 1), (3, 2), (4, 1), (4, 4), (0, 0), (1, 1), (0, 3), (2, 0), (1, 4), (2, 3)}, {(3, 0): 1, (4, 0): 1, (4, 1): 1})"
      ]
     },
     "execution_count": 10,
     "metadata": {},
     "output_type": "execute_result"
    }
   ],
   "source": [
    "value(vectors)"
   ]
  },
  {
   "cell_type": "code",
   "execution_count": 11,
   "id": "administrative-minority",
   "metadata": {
    "execution": {
     "iopub.execute_input": "2021-02-07T06:57:57.851287Z",
     "iopub.status.busy": "2021-02-07T06:57:57.850985Z",
     "iopub.status.idle": "2021-02-07T06:57:57.877708Z",
     "shell.execute_reply": "2021-02-07T06:57:57.877045Z",
     "shell.execute_reply.started": "2021-02-07T06:57:57.851257Z"
    }
   },
   "outputs": [
    {
     "data": {
      "text/plain": [
       "dict_keys([(4, 0), (3, 4), (4, 3), (3, 1), (0, 2), (2, 2), (1, 0), (1, 3), (4, 2), (3, 0), (3, 3), (0, 1), (2, 4), (1, 2), (0, 4), (2, 1), (3, 2), (4, 1), (4, 4), (0, 0), (1, 1), (0, 3), (2, 0), (1, 4), (2, 3)])"
      ]
     },
     "execution_count": 11,
     "metadata": {},
     "output_type": "execute_result"
    }
   ],
   "source": [
    "keys(vectors)"
   ]
  },
  {
   "cell_type": "code",
   "execution_count": 12,
   "id": "adolescent-claim",
   "metadata": {
    "execution": {
     "iopub.execute_input": "2021-02-07T06:57:57.879080Z",
     "iopub.status.busy": "2021-02-07T06:57:57.878871Z",
     "iopub.status.idle": "2021-02-07T06:57:57.903113Z",
     "shell.execute_reply": "2021-02-07T06:57:57.902589Z",
     "shell.execute_reply.started": "2021-02-07T06:57:57.879056Z"
    }
   },
   "outputs": [
    {
     "data": {
      "text/plain": [
       "25"
      ]
     },
     "execution_count": 12,
     "metadata": {},
     "output_type": "execute_result"
    }
   ],
   "source": [
    "len(vectors)"
   ]
  },
  {
   "cell_type": "code",
   "execution_count": 13,
   "id": "dirty-violin",
   "metadata": {
    "execution": {
     "iopub.execute_input": "2021-02-07T06:57:57.904196Z",
     "iopub.status.busy": "2021-02-07T06:57:57.904022Z",
     "iopub.status.idle": "2021-02-07T06:57:57.926325Z",
     "shell.execute_reply": "2021-02-07T06:57:57.925805Z",
     "shell.execute_reply.started": "2021-02-07T06:57:57.904176Z"
    }
   },
   "outputs": [],
   "source": [
    "b = vectors[(0, 0)]"
   ]
  },
  {
   "cell_type": "code",
   "execution_count": 14,
   "id": "answering-pixel",
   "metadata": {
    "execution": {
     "iopub.execute_input": "2021-02-07T06:57:57.927257Z",
     "iopub.status.busy": "2021-02-07T06:57:57.927095Z",
     "iopub.status.idle": "2021-02-07T06:57:57.950406Z",
     "shell.execute_reply": "2021-02-07T06:57:57.949701Z",
     "shell.execute_reply.started": "2021-02-07T06:57:57.927238Z"
    }
   },
   "outputs": [
    {
     "data": {
      "text/plain": [
       "{4: 1}"
      ]
     },
     "execution_count": 14,
     "metadata": {},
     "output_type": "execute_result"
    }
   ],
   "source": [
    "dict([(4, 3)] + [(4, 1)])"
   ]
  },
  {
   "cell_type": "code",
   "execution_count": 15,
   "id": "subjective-period",
   "metadata": {
    "execution": {
     "iopub.execute_input": "2021-02-07T06:57:57.951946Z",
     "iopub.status.busy": "2021-02-07T06:57:57.951730Z",
     "iopub.status.idle": "2021-02-07T06:57:57.978042Z",
     "shell.execute_reply": "2021-02-07T06:57:57.977349Z",
     "shell.execute_reply.started": "2021-02-07T06:57:57.951920Z"
    }
   },
   "outputs": [],
   "source": [
    "B = coldict2mat(button_vectors(5))"
   ]
  },
  {
   "cell_type": "code",
   "execution_count": 16,
   "id": "recent-native",
   "metadata": {
    "execution": {
     "iopub.execute_input": "2021-02-07T06:57:57.979402Z",
     "iopub.status.busy": "2021-02-07T06:57:57.979197Z",
     "iopub.status.idle": "2021-02-07T06:57:58.004765Z",
     "shell.execute_reply": "2021-02-07T06:57:58.003926Z",
     "shell.execute_reply.started": "2021-02-07T06:57:57.979379Z"
    }
   },
   "outputs": [],
   "source": [
    "s = Vec(b.D, {(2, 2): one})"
   ]
  },
  {
   "cell_type": "markdown",
   "id": "acquired-filling",
   "metadata": {},
   "source": [
    "## Gnome"
   ]
  },
  {
   "cell_type": "code",
   "execution_count": 17,
   "id": "configured-medication",
   "metadata": {
    "execution": {
     "iopub.execute_input": "2021-02-07T06:57:58.006402Z",
     "iopub.status.busy": "2021-02-07T06:57:58.006143Z",
     "iopub.status.idle": "2021-02-07T06:57:58.034134Z",
     "shell.execute_reply": "2021-02-07T06:57:58.033331Z",
     "shell.execute_reply.started": "2021-02-07T06:57:58.006370Z"
    }
   },
   "outputs": [],
   "source": [
    "D = {'metal', 'concrete', 'plastic', 'water', 'electricity'}\n",
    "v_gnome = Vec(D, {'concrete': 1.3, 'plastic': .2, 'water': .8, 'electricity': .4})\n",
    "v_hoop = Vec(D, {'plastic': 1.5, 'water': .4, 'electricity': .3})\n",
    "v_slinky = Vec(D, {'metal': .25, 'water': .2, 'electricity': .7})\n",
    "v_putty = Vec(D, {'plastic': .3, 'water': .7, 'electricity': .5})\n",
    "v_shooter = Vec(D, {'metal': .15, 'plastic': .5, 'water': .4, 'electricity': .8})"
   ]
  },
  {
   "cell_type": "code",
   "execution_count": 18,
   "id": "possible-controversy",
   "metadata": {
    "execution": {
     "iopub.execute_input": "2021-02-07T06:57:58.035428Z",
     "iopub.status.busy": "2021-02-07T06:57:58.035212Z",
     "iopub.status.idle": "2021-02-07T06:57:58.061730Z",
     "shell.execute_reply": "2021-02-07T06:57:58.060994Z",
     "shell.execute_reply.started": "2021-02-07T06:57:58.035402Z"
    }
   },
   "outputs": [
    {
     "data": {
      "text/plain": [
       "Vec({'water', 'concrete', 'plastic', 'metal', 'electricity'}, {'concrete': 312.0, 'plastic': 130.5, 'electricity': 112.5, 'water': 214.0})"
      ]
     },
     "execution_count": 18,
     "metadata": {},
     "output_type": "execute_result"
    }
   ],
   "source": [
    "240*v_gnome + 55 * v_hoop"
   ]
  },
  {
   "cell_type": "code",
   "execution_count": 19,
   "id": "atomic-labor",
   "metadata": {
    "execution": {
     "iopub.execute_input": "2021-02-07T06:57:58.063091Z",
     "iopub.status.busy": "2021-02-07T06:57:58.062767Z",
     "iopub.status.idle": "2021-02-07T06:57:58.088688Z",
     "shell.execute_reply": "2021-02-07T06:57:58.088035Z",
     "shell.execute_reply.started": "2021-02-07T06:57:58.063066Z"
    }
   },
   "outputs": [],
   "source": [
    "rowdict = {\n",
    "    'gnome': v_gnome,\n",
    "    'hoop': v_hoop,\n",
    "    'slinky': v_slinky,\n",
    "    'putty': v_putty,\n",
    "    'shooter': v_shooter,\n",
    "}"
   ]
  },
  {
   "cell_type": "code",
   "execution_count": 20,
   "id": "herbal-characteristic",
   "metadata": {
    "execution": {
     "iopub.execute_input": "2021-02-07T06:57:58.090277Z",
     "iopub.status.busy": "2021-02-07T06:57:58.089935Z",
     "iopub.status.idle": "2021-02-07T06:57:58.115175Z",
     "shell.execute_reply": "2021-02-07T06:57:58.114417Z",
     "shell.execute_reply.started": "2021-02-07T06:57:58.090245Z"
    }
   },
   "outputs": [],
   "source": [
    "M = rowdict2mat(rowdict)"
   ]
  },
  {
   "cell_type": "code",
   "execution_count": 21,
   "id": "extensive-farming",
   "metadata": {
    "execution": {
     "iopub.execute_input": "2021-02-07T06:57:58.116616Z",
     "iopub.status.busy": "2021-02-07T06:57:58.116334Z",
     "iopub.status.idle": "2021-02-07T06:57:58.144949Z",
     "shell.execute_reply": "2021-02-07T06:57:58.144321Z",
     "shell.execute_reply.started": "2021-02-07T06:57:58.116570Z"
    }
   },
   "outputs": [
    {
     "name": "stdout",
     "output_type": "stream",
     "text": [
      "         water  concrete  plastic  metal  electricity\n",
      "slinky     0.2       0.0      0.0   0.25          0.7\n",
      "hoop       0.4       0.0      1.5   0.00          0.3\n",
      "putty      0.7       0.0      0.3   0.00          0.5\n",
      "gnome      0.8       1.3      0.2   0.00          0.4\n",
      "shooter    0.4       0.0      0.5   0.15          0.8\n"
     ]
    }
   ],
   "source": [
    "print(M)"
   ]
  },
  {
   "cell_type": "code",
   "execution_count": 22,
   "id": "plain-blend",
   "metadata": {
    "execution": {
     "iopub.execute_input": "2021-02-07T06:57:58.146222Z",
     "iopub.status.busy": "2021-02-07T06:57:58.146002Z",
     "iopub.status.idle": "2021-02-07T06:57:58.170351Z",
     "shell.execute_reply": "2021-02-07T06:57:58.169567Z",
     "shell.execute_reply.started": "2021-02-07T06:57:58.146199Z"
    }
   },
   "outputs": [],
   "source": [
    "R = set(rowdict.keys())"
   ]
  },
  {
   "cell_type": "code",
   "execution_count": 23,
   "id": "offshore-console",
   "metadata": {
    "execution": {
     "iopub.execute_input": "2021-02-07T06:57:58.171876Z",
     "iopub.status.busy": "2021-02-07T06:57:58.171623Z",
     "iopub.status.idle": "2021-02-07T06:57:58.197948Z",
     "shell.execute_reply": "2021-02-07T06:57:58.197247Z",
     "shell.execute_reply.started": "2021-02-07T06:57:58.171841Z"
    }
   },
   "outputs": [],
   "source": [
    "C = M.D[1]"
   ]
  },
  {
   "cell_type": "code",
   "execution_count": 24,
   "id": "valid-following",
   "metadata": {
    "execution": {
     "iopub.execute_input": "2021-02-07T06:57:58.203644Z",
     "iopub.status.busy": "2021-02-07T06:57:58.203418Z",
     "iopub.status.idle": "2021-02-07T06:57:58.228409Z",
     "shell.execute_reply": "2021-02-07T06:57:58.227753Z",
     "shell.execute_reply.started": "2021-02-07T06:57:58.203619Z"
    }
   },
   "outputs": [],
   "source": [
    "u = Vec(R, {'putty': 133, 'gnome': 240, 'slinky': 150, 'hoop': 55, 'shooter': 90})"
   ]
  },
  {
   "cell_type": "code",
   "execution_count": 25,
   "id": "qualified-crossing",
   "metadata": {
    "execution": {
     "iopub.execute_input": "2021-02-07T06:57:58.230311Z",
     "iopub.status.busy": "2021-02-07T06:57:58.230035Z",
     "iopub.status.idle": "2021-02-07T06:57:58.256032Z",
     "shell.execute_reply": "2021-02-07T06:57:58.255397Z",
     "shell.execute_reply.started": "2021-02-07T06:57:58.230281Z"
    }
   },
   "outputs": [
    {
     "data": {
      "text/plain": [
       "({'gnome', 'hoop', 'putty', 'shooter', 'slinky'},\n",
       " {'concrete', 'electricity', 'metal', 'plastic', 'water'})"
      ]
     },
     "execution_count": 25,
     "metadata": {},
     "output_type": "execute_result"
    }
   ],
   "source": [
    "M.D"
   ]
  },
  {
   "cell_type": "markdown",
   "id": "smart-language",
   "metadata": {
    "execution": {
     "iopub.execute_input": "2021-02-06T08:48:29.173620Z",
     "iopub.status.busy": "2021-02-06T08:48:29.173381Z",
     "iopub.status.idle": "2021-02-06T08:48:29.199990Z",
     "shell.execute_reply": "2021-02-06T08:48:29.199165Z",
     "shell.execute_reply.started": "2021-02-06T08:48:29.173598Z"
    }
   },
   "source": [
    "Vec(M.D[1], {k: u * vec for k, vec in mat2coldict(M).items()})"
   ]
  },
  {
   "cell_type": "code",
   "execution_count": 26,
   "id": "monthly-sociology",
   "metadata": {
    "execution": {
     "iopub.execute_input": "2021-02-07T06:57:58.257328Z",
     "iopub.status.busy": "2021-02-07T06:57:58.257034Z",
     "iopub.status.idle": "2021-02-07T06:57:58.284122Z",
     "shell.execute_reply": "2021-02-07T06:57:58.283320Z",
     "shell.execute_reply.started": "2021-02-07T06:57:58.257302Z"
    }
   },
   "outputs": [
    {
     "data": {
      "text/plain": [
       "{'gnome', 'hoop', 'putty', 'shooter', 'slinky'}"
      ]
     },
     "execution_count": 26,
     "metadata": {},
     "output_type": "execute_result"
    }
   ],
   "source": [
    "u.D"
   ]
  },
  {
   "cell_type": "code",
   "execution_count": 27,
   "id": "oriental-assumption",
   "metadata": {
    "execution": {
     "iopub.execute_input": "2021-02-07T06:57:58.285714Z",
     "iopub.status.busy": "2021-02-07T06:57:58.285492Z",
     "iopub.status.idle": "2021-02-07T06:57:58.311463Z",
     "shell.execute_reply": "2021-02-07T06:57:58.310642Z",
     "shell.execute_reply.started": "2021-02-07T06:57:58.285689Z"
    }
   },
   "outputs": [
    {
     "data": {
      "text/plain": [
       "True"
      ]
     },
     "execution_count": 27,
     "metadata": {},
     "output_type": "execute_result"
    }
   ],
   "source": [
    "isinstance(M, Mat)"
   ]
  },
  {
   "cell_type": "code",
   "execution_count": 28,
   "id": "willing-surprise",
   "metadata": {
    "execution": {
     "iopub.execute_input": "2021-02-07T06:57:58.312899Z",
     "iopub.status.busy": "2021-02-07T06:57:58.312654Z",
     "iopub.status.idle": "2021-02-07T06:57:58.338632Z",
     "shell.execute_reply": "2021-02-07T06:57:58.337621Z",
     "shell.execute_reply.started": "2021-02-07T06:57:58.312867Z"
    }
   },
   "outputs": [
    {
     "data": {
      "text/plain": [
       "Vec({'water', 'concrete', 'plastic', 'metal', 'electricity'}, {'water': 373.1, 'concrete': 312.0, 'plastic': 215.4, 'metal': 51.0, 'electricity': 356.0})"
      ]
     },
     "execution_count": 28,
     "metadata": {},
     "output_type": "execute_result"
    }
   ],
   "source": [
    "u * M"
   ]
  },
  {
   "cell_type": "code",
   "execution_count": 29,
   "id": "sustained-paragraph",
   "metadata": {
    "execution": {
     "iopub.execute_input": "2021-02-07T06:57:58.340613Z",
     "iopub.status.busy": "2021-02-07T06:57:58.340330Z",
     "iopub.status.idle": "2021-02-07T06:57:58.369038Z",
     "shell.execute_reply": "2021-02-07T06:57:58.368372Z",
     "shell.execute_reply.started": "2021-02-07T06:57:58.340571Z"
    }
   },
   "outputs": [
    {
     "data": {
      "text/plain": [
       "({0, 1}, {0, 1, 2, 3})"
      ]
     },
     "execution_count": 29,
     "metadata": {},
     "output_type": "execute_result"
    }
   ],
   "source": [
    "A.D"
   ]
  },
  {
   "cell_type": "code",
   "execution_count": 30,
   "id": "pointed-geneva",
   "metadata": {
    "execution": {
     "iopub.execute_input": "2021-02-07T06:57:58.370355Z",
     "iopub.status.busy": "2021-02-07T06:57:58.370150Z",
     "iopub.status.idle": "2021-02-07T06:57:58.396402Z",
     "shell.execute_reply": "2021-02-07T06:57:58.395744Z",
     "shell.execute_reply.started": "2021-02-07T06:57:58.370331Z"
    }
   },
   "outputs": [
    {
     "data": {
      "text/plain": [
       "[(0, 0), (0, 1), (0, 2), (0, 3), (1, 0), (1, 1), (1, 2), (1, 3)]"
      ]
     },
     "execution_count": 30,
     "metadata": {},
     "output_type": "execute_result"
    }
   ],
   "source": [
    "sorted(A.f.keys())"
   ]
  },
  {
   "cell_type": "code",
   "execution_count": 31,
   "id": "coral-timeline",
   "metadata": {
    "execution": {
     "iopub.execute_input": "2021-02-07T06:57:58.397728Z",
     "iopub.status.busy": "2021-02-07T06:57:58.397411Z",
     "iopub.status.idle": "2021-02-07T06:57:58.424050Z",
     "shell.execute_reply": "2021-02-07T06:57:58.423427Z",
     "shell.execute_reply.started": "2021-02-07T06:57:58.397702Z"
    }
   },
   "outputs": [
    {
     "data": {
      "text/plain": [
       "{(0, 0): 10,\n",
       " (0, 1): 20,\n",
       " (0, 2): 30,\n",
       " (0, 3): 40,\n",
       " (1, 0): 50,\n",
       " (1, 1): 60,\n",
       " (1, 2): 70,\n",
       " (1, 3): 80}"
      ]
     },
     "execution_count": 31,
     "metadata": {},
     "output_type": "execute_result"
    }
   ],
   "source": [
    "{k: A.f[k] for k in sorted(A.f)}"
   ]
  },
  {
   "cell_type": "code",
   "execution_count": 32,
   "id": "insured-support",
   "metadata": {
    "execution": {
     "iopub.execute_input": "2021-02-07T06:57:58.425429Z",
     "iopub.status.busy": "2021-02-07T06:57:58.425251Z",
     "iopub.status.idle": "2021-02-07T06:57:58.450245Z",
     "shell.execute_reply": "2021-02-07T06:57:58.449625Z",
     "shell.execute_reply.started": "2021-02-07T06:57:58.425406Z"
    }
   },
   "outputs": [
    {
     "data": {
      "text/plain": [
       "[(0, 0), (0, 1), (1, 0)]"
      ]
     },
     "execution_count": 32,
     "metadata": {},
     "output_type": "execute_result"
    }
   ],
   "source": [
    "sorted([(1, 0), (0, 0), (0, 1)])"
   ]
  },
  {
   "cell_type": "code",
   "execution_count": 33,
   "id": "vocational-custody",
   "metadata": {
    "execution": {
     "iopub.execute_input": "2021-02-07T06:57:58.451459Z",
     "iopub.status.busy": "2021-02-07T06:57:58.451277Z",
     "iopub.status.idle": "2021-02-07T06:57:58.473605Z",
     "shell.execute_reply": "2021-02-07T06:57:58.472965Z",
     "shell.execute_reply.started": "2021-02-07T06:57:58.451438Z"
    }
   },
   "outputs": [
    {
     "data": {
      "text/plain": [
       "dict_keys([(0, 0), (0, 1), (0, 2), (0, 3), (1, 0), (1, 1), (1, 2), (1, 3)])"
      ]
     },
     "execution_count": 33,
     "metadata": {},
     "output_type": "execute_result"
    }
   ],
   "source": [
    "A.f.keys()"
   ]
  },
  {
   "cell_type": "code",
   "execution_count": 34,
   "id": "mechanical-tower",
   "metadata": {
    "execution": {
     "iopub.execute_input": "2021-02-07T06:57:58.474713Z",
     "iopub.status.busy": "2021-02-07T06:57:58.474467Z",
     "iopub.status.idle": "2021-02-07T06:57:58.495629Z",
     "shell.execute_reply": "2021-02-07T06:57:58.494921Z",
     "shell.execute_reply.started": "2021-02-07T06:57:58.474692Z"
    }
   },
   "outputs": [],
   "source": [
    "import sys\n",
    "sys.path.append('../coding_the_matrix/mat')"
   ]
  },
  {
   "cell_type": "code",
   "execution_count": 35,
   "id": "suitable-context",
   "metadata": {
    "execution": {
     "iopub.execute_input": "2021-02-07T06:57:58.497970Z",
     "iopub.status.busy": "2021-02-07T06:57:58.497796Z",
     "iopub.status.idle": "2021-02-07T06:57:58.643220Z",
     "shell.execute_reply": "2021-02-07T06:57:58.642307Z",
     "shell.execute_reply.started": "2021-02-07T06:57:58.497950Z"
    }
   },
   "outputs": [
    {
     "ename": "ImportError",
     "evalue": "Unsupported Python version",
     "output_type": "error",
     "traceback": [
      "\u001b[0;31m---------------------------------------------------------------------------\u001b[0m",
      "\u001b[0;31mImportError\u001b[0m                               Traceback (most recent call last)",
      "\u001b[0;32m<ipython-input-35-117915c2d638>\u001b[0m in \u001b[0;36m<module>\u001b[0;34m\u001b[0m\n\u001b[0;32m----> 1\u001b[0;31m \u001b[0;32mfrom\u001b[0m \u001b[0mcoding_the_matrix\u001b[0m \u001b[0;32mimport\u001b[0m \u001b[0msolver\u001b[0m\u001b[0;34m\u001b[0m\u001b[0;34m\u001b[0m\u001b[0m\n\u001b[0m",
      "\u001b[0;32m~/github.com/banbiossa/coding-the-matrix/coding_the_matrix/solver.py\u001b[0m in \u001b[0;36m<module>\u001b[0;34m\u001b[0m\n\u001b[1;32m     28\u001b[0m \u001b[0;34m\u001b[0m\u001b[0m\n\u001b[1;32m     29\u001b[0m \u001b[0;34m\u001b[0m\u001b[0m\n\u001b[0;32m---> 30\u001b[0;31m \u001b[0mexec\u001b[0m\u001b[0;34m(\u001b[0m\u001b[0m_get_module\u001b[0m\u001b[0;34m(\u001b[0m\u001b[0;34m)\u001b[0m\u001b[0;34m)\u001b[0m\u001b[0;34m\u001b[0m\u001b[0;34m\u001b[0m\u001b[0m\n\u001b[0m",
      "\u001b[0;32m~/github.com/banbiossa/coding-the-matrix/coding_the_matrix/solver.py\u001b[0m in \u001b[0;36m_get_module\u001b[0;34m()\u001b[0m\n\u001b[1;32m     16\u001b[0m         \u001b[0moffset\u001b[0m \u001b[0;34m=\u001b[0m \u001b[0;36m12\u001b[0m\u001b[0;34m\u001b[0m\u001b[0;34m\u001b[0m\u001b[0m\n\u001b[1;32m     17\u001b[0m     \u001b[0;32melse\u001b[0m\u001b[0;34m:\u001b[0m\u001b[0;34m\u001b[0m\u001b[0;34m\u001b[0m\u001b[0m\n\u001b[0;32m---> 18\u001b[0;31m         \u001b[0;32mraise\u001b[0m \u001b[0mImportError\u001b[0m\u001b[0;34m(\u001b[0m\u001b[0;34m\"Unsupported Python version\"\u001b[0m\u001b[0;34m)\u001b[0m\u001b[0;34m\u001b[0m\u001b[0;34m\u001b[0m\u001b[0m\n\u001b[0m\u001b[1;32m     19\u001b[0m \u001b[0;34m\u001b[0m\u001b[0m\n\u001b[1;32m     20\u001b[0m     \u001b[0mpycData\u001b[0m \u001b[0;34m=\u001b[0m \u001b[0mbase64\u001b[0m\u001b[0;34m.\u001b[0m\u001b[0mdecodebytes\u001b[0m\u001b[0;34m(\u001b[0m\u001b[0mpycData\u001b[0m\u001b[0;34m)\u001b[0m\u001b[0;34m\u001b[0m\u001b[0;34m\u001b[0m\u001b[0m\n",
      "\u001b[0;31mImportError\u001b[0m: Unsupported Python version"
     ]
    }
   ],
   "source": [
    "from coding_the_matrix import solver"
   ]
  },
  {
   "cell_type": "code",
   "execution_count": null,
   "id": "protective-shade",
   "metadata": {
    "execution": {
     "iopub.status.busy": "2021-02-07T06:57:58.644086Z",
     "iopub.status.idle": "2021-02-07T06:57:58.644485Z",
     "shell.execute_reply": "2021-02-07T06:57:58.644324Z"
    }
   },
   "outputs": [],
   "source": [
    "solver.solve()"
   ]
  },
  {
   "cell_type": "code",
   "execution_count": 36,
   "id": "working-patrick",
   "metadata": {
    "execution": {
     "iopub.execute_input": "2021-02-07T06:57:59.228225Z",
     "iopub.status.busy": "2021-02-07T06:57:59.227983Z",
     "iopub.status.idle": "2021-02-07T06:57:59.253779Z",
     "shell.execute_reply": "2021-02-07T06:57:59.253088Z",
     "shell.execute_reply.started": "2021-02-07T06:57:59.228197Z"
    }
   },
   "outputs": [],
   "source": [
    "b = Vec({'metal', 'concrete', 'water', 'electricity', 'plastic'}, {'metal': 51.0, 'concrete': 312.0, 'water': 373.1, 'electricity': 356.0, 'plastic': 215.4})"
   ]
  },
  {
   "cell_type": "code",
   "execution_count": 37,
   "id": "racial-execution",
   "metadata": {
    "execution": {
     "iopub.execute_input": "2021-02-07T06:57:59.361775Z",
     "iopub.status.busy": "2021-02-07T06:57:59.361510Z",
     "iopub.status.idle": "2021-02-07T06:57:59.388018Z",
     "shell.execute_reply": "2021-02-07T06:57:59.387300Z",
     "shell.execute_reply.started": "2021-02-07T06:57:59.361741Z"
    }
   },
   "outputs": [
    {
     "data": {
      "text/plain": [
       "Mat(({'water', 'concrete', 'plastic', 'metal', 'electricity'}, {'slinky', 'hoop', 'putty', 'gnome', 'shooter'}), {('water', 'gnome'): 0.8, ('concrete', 'gnome'): 1.3, ('plastic', 'gnome'): 0.2, ('metal', 'gnome'): 0, ('electricity', 'gnome'): 0.4, ('water', 'hoop'): 0.4, ('concrete', 'hoop'): 0, ('plastic', 'hoop'): 1.5, ('metal', 'hoop'): 0, ('electricity', 'hoop'): 0.3, ('water', 'slinky'): 0.2, ('concrete', 'slinky'): 0, ('plastic', 'slinky'): 0, ('metal', 'slinky'): 0.25, ('electricity', 'slinky'): 0.7, ('water', 'putty'): 0.7, ('concrete', 'putty'): 0, ('plastic', 'putty'): 0.3, ('metal', 'putty'): 0, ('electricity', 'putty'): 0.5, ('water', 'shooter'): 0.4, ('concrete', 'shooter'): 0, ('plastic', 'shooter'): 0.5, ('metal', 'shooter'): 0.15, ('electricity', 'shooter'): 0.8})"
      ]
     },
     "execution_count": 37,
     "metadata": {},
     "output_type": "execute_result"
    }
   ],
   "source": [
    "M.transpose()"
   ]
  },
  {
   "cell_type": "code",
   "execution_count": 38,
   "id": "egyptian-toronto",
   "metadata": {
    "execution": {
     "iopub.execute_input": "2021-02-07T06:57:59.553956Z",
     "iopub.status.busy": "2021-02-07T06:57:59.553728Z",
     "iopub.status.idle": "2021-02-07T06:57:59.581173Z",
     "shell.execute_reply": "2021-02-07T06:57:59.580097Z",
     "shell.execute_reply.started": "2021-02-07T06:57:59.553932Z"
    }
   },
   "outputs": [
    {
     "ename": "NameError",
     "evalue": "name 'solver' is not defined",
     "output_type": "error",
     "traceback": [
      "\u001b[0;31m---------------------------------------------------------------------------\u001b[0m",
      "\u001b[0;31mNameError\u001b[0m                                 Traceback (most recent call last)",
      "\u001b[0;32m<ipython-input-38-52af9100c0d5>\u001b[0m in \u001b[0;36m<module>\u001b[0;34m\u001b[0m\n\u001b[0;32m----> 1\u001b[0;31m \u001b[0msolution\u001b[0m \u001b[0;34m=\u001b[0m \u001b[0msolver\u001b[0m\u001b[0;34m.\u001b[0m\u001b[0msolve\u001b[0m\u001b[0;34m(\u001b[0m\u001b[0mM\u001b[0m\u001b[0;34m.\u001b[0m\u001b[0mtranspose\u001b[0m\u001b[0;34m(\u001b[0m\u001b[0;34m)\u001b[0m\u001b[0;34m,\u001b[0m \u001b[0mb\u001b[0m\u001b[0;34m)\u001b[0m\u001b[0;34m\u001b[0m\u001b[0;34m\u001b[0m\u001b[0m\n\u001b[0m",
      "\u001b[0;31mNameError\u001b[0m: name 'solver' is not defined"
     ]
    }
   ],
   "source": [
    "solution = solver.solve(M.transpose(), b)"
   ]
  },
  {
   "cell_type": "code",
   "execution_count": 39,
   "id": "responsible-winner",
   "metadata": {
    "execution": {
     "iopub.execute_input": "2021-02-07T06:57:59.705125Z",
     "iopub.status.busy": "2021-02-07T06:57:59.704899Z",
     "iopub.status.idle": "2021-02-07T06:57:59.729117Z",
     "shell.execute_reply": "2021-02-07T06:57:59.728440Z",
     "shell.execute_reply.started": "2021-02-07T06:57:59.705101Z"
    }
   },
   "outputs": [],
   "source": [
    "A = M.transpose()"
   ]
  },
  {
   "cell_type": "code",
   "execution_count": 40,
   "id": "signed-relay",
   "metadata": {
    "execution": {
     "iopub.execute_input": "2021-02-07T06:57:59.827905Z",
     "iopub.status.busy": "2021-02-07T06:57:59.827673Z",
     "iopub.status.idle": "2021-02-07T06:57:59.854041Z",
     "shell.execute_reply": "2021-02-07T06:57:59.853356Z",
     "shell.execute_reply.started": "2021-02-07T06:57:59.827879Z"
    }
   },
   "outputs": [
    {
     "data": {
      "text/plain": [
       "Mat(({'water', 'concrete', 'plastic', 'metal', 'electricity'}, {'slinky', 'hoop', 'putty', 'gnome', 'shooter'}), {('water', 'gnome'): 0.8, ('concrete', 'gnome'): 1.3, ('plastic', 'gnome'): 0.2, ('metal', 'gnome'): 0, ('electricity', 'gnome'): 0.4, ('water', 'hoop'): 0.4, ('concrete', 'hoop'): 0, ('plastic', 'hoop'): 1.5, ('metal', 'hoop'): 0, ('electricity', 'hoop'): 0.3, ('water', 'slinky'): 0.2, ('concrete', 'slinky'): 0, ('plastic', 'slinky'): 0, ('metal', 'slinky'): 0.25, ('electricity', 'slinky'): 0.7, ('water', 'putty'): 0.7, ('concrete', 'putty'): 0, ('plastic', 'putty'): 0.3, ('metal', 'putty'): 0, ('electricity', 'putty'): 0.5, ('water', 'shooter'): 0.4, ('concrete', 'shooter'): 0, ('plastic', 'shooter'): 0.5, ('metal', 'shooter'): 0.15, ('electricity', 'shooter'): 0.8})"
      ]
     },
     "execution_count": 40,
     "metadata": {},
     "output_type": "execute_result"
    }
   ],
   "source": [
    "A"
   ]
  },
  {
   "cell_type": "code",
   "execution_count": 41,
   "id": "demonstrated-rebel",
   "metadata": {
    "execution": {
     "iopub.execute_input": "2021-02-07T06:58:00.112796Z",
     "iopub.status.busy": "2021-02-07T06:58:00.112547Z",
     "iopub.status.idle": "2021-02-07T06:58:00.139032Z",
     "shell.execute_reply": "2021-02-07T06:58:00.138249Z",
     "shell.execute_reply.started": "2021-02-07T06:58:00.112770Z"
    }
   },
   "outputs": [
    {
     "data": {
      "text/plain": [
       "Vec({'water', 'concrete', 'plastic', 'metal', 'electricity'}, {'metal': 51.0, 'concrete': 312.0, 'water': 373.1, 'electricity': 356.0, 'plastic': 215.4})"
      ]
     },
     "execution_count": 41,
     "metadata": {},
     "output_type": "execute_result"
    }
   ],
   "source": [
    "b"
   ]
  },
  {
   "cell_type": "code",
   "execution_count": 42,
   "id": "sunset-bibliography",
   "metadata": {
    "execution": {
     "iopub.execute_input": "2021-02-07T06:58:00.266816Z",
     "iopub.status.busy": "2021-02-07T06:58:00.266534Z",
     "iopub.status.idle": "2021-02-07T06:58:00.292546Z",
     "shell.execute_reply": "2021-02-07T06:58:00.291888Z",
     "shell.execute_reply.started": "2021-02-07T06:58:00.266784Z"
    }
   },
   "outputs": [],
   "source": [
    "rowdict = mat2rowdict(A)"
   ]
  },
  {
   "cell_type": "code",
   "execution_count": 43,
   "id": "funny-clerk",
   "metadata": {
    "execution": {
     "iopub.execute_input": "2021-02-07T06:58:00.379869Z",
     "iopub.status.busy": "2021-02-07T06:58:00.379626Z",
     "iopub.status.idle": "2021-02-07T06:58:00.406701Z",
     "shell.execute_reply": "2021-02-07T06:58:00.405940Z",
     "shell.execute_reply.started": "2021-02-07T06:58:00.379843Z"
    }
   },
   "outputs": [
    {
     "data": {
      "text/plain": [
       "{'water': Vec({'slinky', 'hoop', 'putty', 'gnome', 'shooter'}, {'slinky': 0.2, 'hoop': 0.4, 'putty': 0.7, 'gnome': 0.8, 'shooter': 0.4}),\n",
       " 'concrete': Vec({'slinky', 'hoop', 'putty', 'gnome', 'shooter'}, {'slinky': 0, 'hoop': 0, 'putty': 0, 'gnome': 1.3, 'shooter': 0}),\n",
       " 'plastic': Vec({'slinky', 'hoop', 'putty', 'gnome', 'shooter'}, {'slinky': 0, 'hoop': 1.5, 'putty': 0.3, 'gnome': 0.2, 'shooter': 0.5}),\n",
       " 'metal': Vec({'slinky', 'hoop', 'putty', 'gnome', 'shooter'}, {'slinky': 0.25, 'hoop': 0, 'putty': 0, 'gnome': 0, 'shooter': 0.15}),\n",
       " 'electricity': Vec({'slinky', 'hoop', 'putty', 'gnome', 'shooter'}, {'slinky': 0.7, 'hoop': 0.3, 'putty': 0.5, 'gnome': 0.4, 'shooter': 0.8})}"
      ]
     },
     "execution_count": 43,
     "metadata": {},
     "output_type": "execute_result"
    }
   ],
   "source": [
    "rowdict"
   ]
  },
  {
   "cell_type": "code",
   "execution_count": 44,
   "id": "simple-chorus",
   "metadata": {
    "execution": {
     "iopub.execute_input": "2021-02-07T06:58:00.559598Z",
     "iopub.status.busy": "2021-02-07T06:58:00.559362Z",
     "iopub.status.idle": "2021-02-07T06:58:00.586066Z",
     "shell.execute_reply": "2021-02-07T06:58:00.585371Z",
     "shell.execute_reply.started": "2021-02-07T06:58:00.559571Z"
    }
   },
   "outputs": [
    {
     "data": {
      "text/plain": [
       "Vec({'water', 'concrete', 'plastic', 'metal', 'electricity'}, {'metal': 51.0, 'concrete': 312.0, 'water': 373.1, 'electricity': 356.0, 'plastic': 215.4})"
      ]
     },
     "execution_count": 44,
     "metadata": {},
     "output_type": "execute_result"
    }
   ],
   "source": [
    "b"
   ]
  },
  {
   "cell_type": "code",
   "execution_count": 45,
   "id": "desirable-delicious",
   "metadata": {
    "execution": {
     "iopub.execute_input": "2021-02-07T06:58:00.720198Z",
     "iopub.status.busy": "2021-02-07T06:58:00.719958Z",
     "iopub.status.idle": "2021-02-07T06:58:00.746719Z",
     "shell.execute_reply": "2021-02-07T06:58:00.746011Z",
     "shell.execute_reply.started": "2021-02-07T06:58:00.720172Z"
    }
   },
   "outputs": [
    {
     "data": {
      "text/plain": [
       "{'concrete', 'electricity', 'metal', 'plastic', 'water'}"
      ]
     },
     "execution_count": 45,
     "metadata": {},
     "output_type": "execute_result"
    }
   ],
   "source": [
    "b.D"
   ]
  },
  {
   "cell_type": "code",
   "execution_count": 46,
   "id": "naked-hunger",
   "metadata": {
    "execution": {
     "iopub.execute_input": "2021-02-07T06:58:01.608938Z",
     "iopub.status.busy": "2021-02-07T06:58:01.608698Z",
     "iopub.status.idle": "2021-02-07T06:58:01.634734Z",
     "shell.execute_reply": "2021-02-07T06:58:01.633926Z",
     "shell.execute_reply.started": "2021-02-07T06:58:01.608912Z"
    }
   },
   "outputs": [],
   "source": [
    "R, C = A.D\n",
    "assert len(R) == len(C)\n",
    "N = len(R)"
   ]
  },
  {
   "cell_type": "code",
   "execution_count": 47,
   "id": "sophisticated-easter",
   "metadata": {
    "execution": {
     "iopub.execute_input": "2021-02-07T06:58:01.731997Z",
     "iopub.status.busy": "2021-02-07T06:58:01.731745Z",
     "iopub.status.idle": "2021-02-07T06:58:01.758255Z",
     "shell.execute_reply": "2021-02-07T06:58:01.757493Z",
     "shell.execute_reply.started": "2021-02-07T06:58:01.731972Z"
    }
   },
   "outputs": [
    {
     "data": {
      "text/plain": [
       "{'concrete', 'electricity', 'metal', 'plastic', 'water'}"
      ]
     },
     "execution_count": 47,
     "metadata": {},
     "output_type": "execute_result"
    }
   ],
   "source": [
    "R"
   ]
  },
  {
   "cell_type": "code",
   "execution_count": 48,
   "id": "divine-marriage",
   "metadata": {
    "execution": {
     "iopub.execute_input": "2021-02-07T06:58:01.885988Z",
     "iopub.status.busy": "2021-02-07T06:58:01.885758Z",
     "iopub.status.idle": "2021-02-07T06:58:01.912285Z",
     "shell.execute_reply": "2021-02-07T06:58:01.911508Z",
     "shell.execute_reply.started": "2021-02-07T06:58:01.885963Z"
    }
   },
   "outputs": [
    {
     "data": {
      "text/plain": [
       "Vec({'water', 'concrete', 'plastic', 'metal', 'electricity'}, {'metal': 51.0, 'concrete': 312.0, 'water': 373.1, 'electricity': 356.0, 'plastic': 215.4})"
      ]
     },
     "execution_count": 48,
     "metadata": {},
     "output_type": "execute_result"
    }
   ],
   "source": [
    "b"
   ]
  },
  {
   "cell_type": "code",
   "execution_count": 92,
   "id": "smoking-harmony",
   "metadata": {
    "execution": {
     "iopub.execute_input": "2021-02-07T07:11:22.630376Z",
     "iopub.status.busy": "2021-02-07T07:11:22.630141Z",
     "iopub.status.idle": "2021-02-07T07:11:22.657322Z",
     "shell.execute_reply": "2021-02-07T07:11:22.656582Z",
     "shell.execute_reply.started": "2021-02-07T07:11:22.630349Z"
    }
   },
   "outputs": [],
   "source": [
    "from typing import Tuple\n",
    "def get_max_row(col, rowdict, used=None) -> Tuple[str, Vec]:\n",
    "    \"\"\"get row from rowdict where col is max\"\"\"\n",
    "    rowdict = rowdict.copy()\n",
    "    if used is not None:\n",
    "        [rowdict.pop(key) for key in used]\n",
    "    return sorted(rowdict.items(), key= lambda x: x[1].f[col])[-1]"
   ]
  },
  {
   "cell_type": "code",
   "execution_count": 96,
   "id": "animated-amino",
   "metadata": {
    "execution": {
     "iopub.execute_input": "2021-02-07T07:11:25.181703Z",
     "iopub.status.busy": "2021-02-07T07:11:25.181458Z",
     "iopub.status.idle": "2021-02-07T07:11:25.209638Z",
     "shell.execute_reply": "2021-02-07T07:11:25.208874Z",
     "shell.execute_reply.started": "2021-02-07T07:11:25.181676Z"
    }
   },
   "outputs": [
    {
     "data": {
      "text/plain": [
       "{'water': Vec({'slinky', 'hoop', 'putty', 'gnome', 'shooter'}, {'slinky': 0.0, 'hoop': 0.0, 'putty': 1.0, 'gnome': 0.0, 'shooter': 0.0}),\n",
       " 'concrete': Vec({'slinky', 'hoop', 'putty', 'gnome', 'shooter'}, {'slinky': 0.0, 'hoop': 0.0, 'putty': 0.0, 'gnome': 1.0, 'shooter': 0.0}),\n",
       " 'plastic': Vec({'slinky', 'hoop', 'putty', 'gnome', 'shooter'}, {'slinky': 0.0, 'hoop': 1.0, 'putty': 0.0, 'gnome': 0.0, 'shooter': 0.0}),\n",
       " 'metal': Vec({'slinky', 'hoop', 'putty', 'gnome', 'shooter'}, {'slinky': -0.0, 'hoop': -0.0, 'putty': -0.0, 'gnome': -0.0, 'shooter': 1.0}),\n",
       " 'electricity': Vec({'slinky', 'hoop', 'putty', 'gnome', 'shooter'}, {'slinky': 1.0, 'hoop': 0.0, 'putty': 0.0, 'gnome': 0.0, 'shooter': 0.0})}"
      ]
     },
     "execution_count": 96,
     "metadata": {},
     "output_type": "execute_result"
    }
   ],
   "source": [
    "rowdict"
   ]
  },
  {
   "cell_type": "code",
   "execution_count": 123,
   "id": "bizarre-defeat",
   "metadata": {
    "execution": {
     "iopub.execute_input": "2021-02-07T07:18:14.418023Z",
     "iopub.status.busy": "2021-02-07T07:18:14.417778Z",
     "iopub.status.idle": "2021-02-07T07:18:14.447102Z",
     "shell.execute_reply": "2021-02-07T07:18:14.446416Z",
     "shell.execute_reply.started": "2021-02-07T07:18:14.417996Z"
    }
   },
   "outputs": [],
   "source": [
    "rowdict = mat2rowdict(A)\n",
    "b = Vec({'metal', 'concrete', 'water', 'electricity', 'plastic'}, {'metal': 51.0, 'concrete': 312.0, 'water': 373.1, 'electricity': 356.0, 'plastic': 215.4})\n",
    "upper_triangle = {}  # 結果をいれる\n",
    "\n",
    "# select col to operate on\n",
    "for col in C:\n",
    "    # get row where col is max value\n",
    "    row, rowvec = get_max_row(col, rowdict, used=upper_triangle.keys())\n",
    "    # rowdict.pop(row)\n",
    "    \n",
    "    # update yourself (to one)\n",
    "    coef = 1 / rowvec[col]\n",
    "    rowvec *= coef\n",
    "    assert rowvec[col] == 1\n",
    "    b[row] *= coef\n",
    "    rowdict[row] = rowvec\n",
    "    \n",
    "    # iterate over the rows\n",
    "    for other, othervec in rowdict.items():\n",
    "        if row == other:\n",
    "            continue\n",
    "            \n",
    "        # coef\n",
    "        coef = othervec[col]/rowvec[col]\n",
    "\n",
    "        # update rowvec\n",
    "        othervec -= coef * rowvec\n",
    "        rowdict[other] = othervec\n",
    "\n",
    "        # update b\n",
    "        b[other] -= coef * b[row]"
   ]
  },
  {
   "cell_type": "code",
   "execution_count": 137,
   "id": "south-purple",
   "metadata": {
    "execution": {
     "iopub.execute_input": "2021-02-07T14:49:04.439676Z",
     "iopub.status.busy": "2021-02-07T14:49:04.439432Z",
     "iopub.status.idle": "2021-02-07T14:49:04.468074Z",
     "shell.execute_reply": "2021-02-07T14:49:04.467368Z",
     "shell.execute_reply.started": "2021-02-07T14:49:04.439648Z"
    }
   },
   "outputs": [],
   "source": [
    "D = {\"metal\", \"concrete\", \"plastic\", \"water\", \"electricity\"}\n",
    "v_gnome = Vec(\n",
    "    D, {\"concrete\": 1.3, \"plastic\": 0.2, \"water\": 0.8, \"electricity\": 0.4}\n",
    ")\n",
    "v_hoop = Vec(D, {\"plastic\": 1.5, \"water\": 0.4, \"electricity\": 0.3})\n",
    "v_slinky = Vec(D, {\"metal\": 0.25, \"water\": 0.2, \"electricity\": 0.7})\n",
    "v_putty = Vec(D, {\"plastic\": 0.3, \"water\": 0.7, \"electricity\": 0.5})\n",
    "v_shooter = Vec(\n",
    "    D, {\"metal\": 0.15, \"plastic\": 0.5, \"water\": 0.4, \"electricity\": 0.8}\n",
    ")\n",
    "rowdict = {\n",
    "    \"gnome\": v_gnome,\n",
    "    \"hoop\": v_hoop,\n",
    "    \"slinky\": v_slinky,\n",
    "    \"putty\": v_putty,\n",
    "    \"shooter\": v_shooter,\n",
    "}\n",
    "M = rowdict2mat(rowdict)\n",
    "b = Vec(\n",
    "    {\"metal\", \"concrete\", \"water\", \"electricity\", \"plastic\"},\n",
    "    {\n",
    "        \"metal\": 51.0,\n",
    "        \"concrete\": 312.0,\n",
    "        \"water\": 373.1,\n",
    "        \"electricity\": 356.0,\n",
    "        \"plastic\": 215.4,\n",
    "    },\n",
    ")"
   ]
  },
  {
   "cell_type": "code",
   "execution_count": 138,
   "id": "satellite-player",
   "metadata": {
    "execution": {
     "iopub.execute_input": "2021-02-07T14:49:12.905711Z",
     "iopub.status.busy": "2021-02-07T14:49:12.905465Z",
     "iopub.status.idle": "2021-02-07T14:49:12.931365Z",
     "shell.execute_reply": "2021-02-07T14:49:12.930688Z",
     "shell.execute_reply.started": "2021-02-07T14:49:12.905684Z"
    }
   },
   "outputs": [],
   "source": [
    "from coding_the_matrix.solve import solve"
   ]
  },
  {
   "cell_type": "code",
   "execution_count": 139,
   "id": "protected-intervention",
   "metadata": {
    "execution": {
     "iopub.execute_input": "2021-02-07T14:49:14.559976Z",
     "iopub.status.busy": "2021-02-07T14:49:14.559729Z",
     "iopub.status.idle": "2021-02-07T14:49:14.657027Z",
     "shell.execute_reply": "2021-02-07T14:49:14.656523Z",
     "shell.execute_reply.started": "2021-02-07T14:49:14.559949Z"
    }
   },
   "outputs": [
    {
     "name": "stdout",
     "output_type": "stream",
     "text": [
      " shooter  gnome  putty  slinky  hoop\n",
      "    90.0  240.0  133.0   150.0  55.0\n"
     ]
    }
   ],
   "source": [
    "A = M.transpose()\n",
    "x = solve(A, b)\n",
    "residual = b - x * M\n",
    "assert np.isclose(residual * residual, 0)\n",
    "print(x)"
   ]
  },
  {
   "cell_type": "code",
   "execution_count": 133,
   "id": "assisted-afghanistan",
   "metadata": {
    "execution": {
     "iopub.execute_input": "2021-02-07T07:19:32.193810Z",
     "iopub.status.busy": "2021-02-07T07:19:32.193566Z",
     "iopub.status.idle": "2021-02-07T07:19:32.220021Z",
     "shell.execute_reply": "2021-02-07T07:19:32.219194Z",
     "shell.execute_reply.started": "2021-02-07T07:19:32.193785Z"
    }
   },
   "outputs": [
    {
     "data": {
      "text/plain": [
       "'electricity'"
      ]
     },
     "execution_count": 133,
     "metadata": {},
     "output_type": "execute_result"
    }
   ],
   "source": [
    "row"
   ]
  },
  {
   "cell_type": "code",
   "execution_count": 134,
   "id": "concrete-asthma",
   "metadata": {
    "execution": {
     "iopub.execute_input": "2021-02-07T07:19:34.337115Z",
     "iopub.status.busy": "2021-02-07T07:19:34.336841Z",
     "iopub.status.idle": "2021-02-07T07:19:34.364187Z",
     "shell.execute_reply": "2021-02-07T07:19:34.363547Z",
     "shell.execute_reply.started": "2021-02-07T07:19:34.337085Z"
    }
   },
   "outputs": [
    {
     "data": {
      "text/plain": [
       "'electricity'"
      ]
     },
     "execution_count": 134,
     "metadata": {},
     "output_type": "execute_result"
    }
   ],
   "source": [
    "other"
   ]
  },
  {
   "cell_type": "code",
   "execution_count": 131,
   "id": "foreign-scratch",
   "metadata": {
    "execution": {
     "iopub.execute_input": "2021-02-07T07:19:18.785408Z",
     "iopub.status.busy": "2021-02-07T07:19:18.785165Z",
     "iopub.status.idle": "2021-02-07T07:19:18.812487Z",
     "shell.execute_reply": "2021-02-07T07:19:18.811783Z",
     "shell.execute_reply.started": "2021-02-07T07:19:18.785381Z"
    }
   },
   "outputs": [
    {
     "data": {
      "text/plain": [
       "Vec({'slinky', 'hoop', 'putty', 'gnome', 'shooter'}, {'slinky': 0.9999999999999997, 'hoop': 0.0, 'putty': 0.6285714285714283, 'gnome': 0.0, 'shooter': 1.0})"
      ]
     },
     "execution_count": 131,
     "metadata": {},
     "output_type": "execute_result"
    }
   ],
   "source": [
    "othervec"
   ]
  },
  {
   "cell_type": "code",
   "execution_count": 132,
   "id": "republican-surprise",
   "metadata": {
    "execution": {
     "iopub.execute_input": "2021-02-07T07:19:19.041724Z",
     "iopub.status.busy": "2021-02-07T07:19:19.041484Z",
     "iopub.status.idle": "2021-02-07T07:19:19.068326Z",
     "shell.execute_reply": "2021-02-07T07:19:19.067564Z",
     "shell.execute_reply.started": "2021-02-07T07:19:19.041699Z"
    }
   },
   "outputs": [
    {
     "data": {
      "text/plain": [
       "Vec({'slinky', 'hoop', 'putty', 'gnome', 'shooter'}, {'slinky': 0.9999999999999997, 'hoop': 0.0, 'putty': 0.6285714285714283, 'gnome': 0.0, 'shooter': 1.0})"
      ]
     },
     "execution_count": 132,
     "metadata": {},
     "output_type": "execute_result"
    }
   ],
   "source": [
    "rowvec"
   ]
  },
  {
   "cell_type": "code",
   "execution_count": 128,
   "id": "standing-silicon",
   "metadata": {
    "execution": {
     "iopub.execute_input": "2021-02-07T07:18:38.684862Z",
     "iopub.status.busy": "2021-02-07T07:18:38.684613Z",
     "iopub.status.idle": "2021-02-07T07:18:38.712287Z",
     "shell.execute_reply": "2021-02-07T07:18:38.711522Z",
     "shell.execute_reply.started": "2021-02-07T07:18:38.684836Z"
    }
   },
   "outputs": [
    {
     "data": {
      "text/plain": [
       "{'water': Vec({'slinky', 'hoop', 'putty', 'gnome', 'shooter'}, {'slinky': -0.06666666666666665, 'hoop': 0.0, 'putty': 0.4523809523809524, 'gnome': 0.0, 'shooter': 0.0}),\n",
       " 'concrete': Vec({'slinky', 'hoop', 'putty', 'gnome', 'shooter'}, {'slinky': 0.0, 'hoop': 0.0, 'putty': 0.0, 'gnome': 1.0, 'shooter': 0.0}),\n",
       " 'plastic': Vec({'slinky', 'hoop', 'putty', 'gnome', 'shooter'}, {'slinky': -0.3333333333333332, 'hoop': 1.0, 'putty': -0.009523809523809441, 'gnome': 0.0, 'shooter': 0.0}),\n",
       " 'metal': Vec({'slinky', 'hoop', 'putty', 'gnome', 'shooter'}, {'slinky': 0.09999999999999998, 'hoop': 0.0, 'putty': -0.0942857142857143, 'gnome': 0.0, 'shooter': 0.0}),\n",
       " 'electricity': Vec({'slinky', 'hoop', 'putty', 'gnome', 'shooter'}, {'slinky': 0.9999999999999997, 'hoop': 0.0, 'putty': 0.6285714285714283, 'gnome': 0.0, 'shooter': 1.0})}"
      ]
     },
     "execution_count": 128,
     "metadata": {},
     "output_type": "execute_result"
    }
   ],
   "source": [
    "rowdict"
   ]
  },
  {
   "cell_type": "code",
   "execution_count": 127,
   "id": "emerging-think",
   "metadata": {
    "execution": {
     "iopub.execute_input": "2021-02-07T07:18:23.379165Z",
     "iopub.status.busy": "2021-02-07T07:18:23.378923Z",
     "iopub.status.idle": "2021-02-07T07:18:23.405123Z",
     "shell.execute_reply": "2021-02-07T07:18:23.404464Z",
     "shell.execute_reply.started": "2021-02-07T07:18:23.379137Z"
    }
   },
   "outputs": [
    {
     "data": {
      "text/plain": [
       "323.5999999999999"
      ]
     },
     "execution_count": 127,
     "metadata": {},
     "output_type": "execute_result"
    }
   ],
   "source": [
    "b[row]"
   ]
  },
  {
   "cell_type": "code",
   "execution_count": 124,
   "id": "middle-terror",
   "metadata": {
    "execution": {
     "iopub.execute_input": "2021-02-07T07:18:14.916215Z",
     "iopub.status.busy": "2021-02-07T07:18:14.915971Z",
     "iopub.status.idle": "2021-02-07T07:18:14.943223Z",
     "shell.execute_reply": "2021-02-07T07:18:14.942498Z",
     "shell.execute_reply.started": "2021-02-07T07:18:14.916189Z"
    }
   },
   "outputs": [
    {
     "data": {
      "text/plain": [
       "Vec({'slinky', 'hoop', 'putty', 'gnome', 'shooter'}, {'slinky': 0.9999999999999997, 'hoop': 0.0, 'putty': 0.6285714285714283, 'gnome': 0.0, 'shooter': 1.0})"
      ]
     },
     "execution_count": 124,
     "metadata": {},
     "output_type": "execute_result"
    }
   ],
   "source": [
    "othervec"
   ]
  },
  {
   "cell_type": "code",
   "execution_count": 125,
   "id": "peaceful-flood",
   "metadata": {
    "execution": {
     "iopub.execute_input": "2021-02-07T07:18:15.217605Z",
     "iopub.status.busy": "2021-02-07T07:18:15.217366Z",
     "iopub.status.idle": "2021-02-07T07:18:15.244067Z",
     "shell.execute_reply": "2021-02-07T07:18:15.243341Z",
     "shell.execute_reply.started": "2021-02-07T07:18:15.217579Z"
    }
   },
   "outputs": [
    {
     "data": {
      "text/plain": [
       "'electricity'"
      ]
     },
     "execution_count": 125,
     "metadata": {},
     "output_type": "execute_result"
    }
   ],
   "source": [
    "row"
   ]
  },
  {
   "cell_type": "code",
   "execution_count": 113,
   "id": "round-rugby",
   "metadata": {
    "execution": {
     "iopub.execute_input": "2021-02-07T07:15:44.104190Z",
     "iopub.status.busy": "2021-02-07T07:15:44.103948Z",
     "iopub.status.idle": "2021-02-07T07:15:44.130787Z",
     "shell.execute_reply": "2021-02-07T07:15:44.130058Z",
     "shell.execute_reply.started": "2021-02-07T07:15:44.104163Z"
    }
   },
   "outputs": [
    {
     "data": {
      "text/plain": [
       "323.5999999999999"
      ]
     },
     "execution_count": 113,
     "metadata": {},
     "output_type": "execute_result"
    }
   ],
   "source": [
    "b[row]"
   ]
  },
  {
   "cell_type": "code",
   "execution_count": 116,
   "id": "macro-worst",
   "metadata": {
    "execution": {
     "iopub.execute_input": "2021-02-07T07:15:58.391430Z",
     "iopub.status.busy": "2021-02-07T07:15:58.391184Z",
     "iopub.status.idle": "2021-02-07T07:15:58.417077Z",
     "shell.execute_reply": "2021-02-07T07:15:58.416378Z",
     "shell.execute_reply.started": "2021-02-07T07:15:58.391404Z"
    }
   },
   "outputs": [],
   "source": [
    "b[row] *= coef"
   ]
  },
  {
   "cell_type": "code",
   "execution_count": 117,
   "id": "western-hypothetical",
   "metadata": {
    "execution": {
     "iopub.execute_input": "2021-02-07T07:16:00.415264Z",
     "iopub.status.busy": "2021-02-07T07:16:00.415036Z",
     "iopub.status.idle": "2021-02-07T07:16:00.437866Z",
     "shell.execute_reply": "2021-02-07T07:16:00.437268Z",
     "shell.execute_reply.started": "2021-02-07T07:16:00.415241Z"
    }
   },
   "outputs": [
    {
     "data": {
      "text/plain": [
       "0.15000000000000008"
      ]
     },
     "execution_count": 117,
     "metadata": {},
     "output_type": "execute_result"
    }
   ],
   "source": [
    "coef"
   ]
  },
  {
   "cell_type": "code",
   "execution_count": 119,
   "id": "upper-redhead",
   "metadata": {
    "execution": {
     "iopub.execute_input": "2021-02-07T07:16:06.241985Z",
     "iopub.status.busy": "2021-02-07T07:16:06.241751Z",
     "iopub.status.idle": "2021-02-07T07:16:06.267897Z",
     "shell.execute_reply": "2021-02-07T07:16:06.267126Z",
     "shell.execute_reply.started": "2021-02-07T07:16:06.241960Z"
    }
   },
   "outputs": [
    {
     "data": {
      "text/plain": [
       "48.54000000000001"
      ]
     },
     "execution_count": 119,
     "metadata": {},
     "output_type": "execute_result"
    }
   ],
   "source": [
    "b[row]"
   ]
  },
  {
   "cell_type": "code",
   "execution_count": 109,
   "id": "clean-structure",
   "metadata": {
    "execution": {
     "iopub.execute_input": "2021-02-07T07:14:58.771130Z",
     "iopub.status.busy": "2021-02-07T07:14:58.770887Z",
     "iopub.status.idle": "2021-02-07T07:14:58.797610Z",
     "shell.execute_reply": "2021-02-07T07:14:58.796950Z",
     "shell.execute_reply.started": "2021-02-07T07:14:58.771104Z"
    }
   },
   "outputs": [
    {
     "data": {
      "text/plain": [
       "{'water': Vec({'slinky', 'hoop', 'putty', 'gnome', 'shooter'}, {'slinky': -0.06666666666666665, 'hoop': 0.0, 'putty': 0.4523809523809524, 'gnome': 0.0, 'shooter': 0.0}),\n",
       " 'concrete': Vec({'slinky', 'hoop', 'putty', 'gnome', 'shooter'}, {'slinky': 0.0, 'hoop': 0.0, 'putty': 0.0, 'gnome': 1.0, 'shooter': 0.0}),\n",
       " 'plastic': Vec({'slinky', 'hoop', 'putty', 'gnome', 'shooter'}, {'slinky': -0.3333333333333332, 'hoop': 1.0, 'putty': -0.009523809523809441, 'gnome': 0.0, 'shooter': 0.0}),\n",
       " 'metal': Vec({'slinky', 'hoop', 'putty', 'gnome', 'shooter'}, {'slinky': 0.09999999999999998, 'hoop': 0.0, 'putty': -0.0942857142857143, 'gnome': 0.0, 'shooter': 0.0}),\n",
       " 'electricity': Vec({'slinky', 'hoop', 'putty', 'gnome', 'shooter'}, {'slinky': 0.9999999999999997, 'hoop': 0.0, 'putty': 0.6285714285714283, 'gnome': 0.0, 'shooter': 1.0})}"
      ]
     },
     "execution_count": 109,
     "metadata": {},
     "output_type": "execute_result"
    }
   ],
   "source": [
    "rowdict"
   ]
  },
  {
   "cell_type": "code",
   "execution_count": 110,
   "id": "institutional-regression",
   "metadata": {
    "execution": {
     "iopub.execute_input": "2021-02-07T07:15:01.393524Z",
     "iopub.status.busy": "2021-02-07T07:15:01.393278Z",
     "iopub.status.idle": "2021-02-07T07:15:01.420750Z",
     "shell.execute_reply": "2021-02-07T07:15:01.420014Z",
     "shell.execute_reply.started": "2021-02-07T07:15:01.393497Z"
    }
   },
   "outputs": [
    {
     "data": {
      "text/plain": [
       "Vec({'water', 'concrete', 'plastic', 'metal', 'electricity'}, {'metal': 2.460000000000001, 'concrete': 239.99999999999997, 'water': 50.166666666666714, 'electricity': 323.5999999999999, 'plastic': 3.7333333333333627})"
      ]
     },
     "execution_count": 110,
     "metadata": {},
     "output_type": "execute_result"
    }
   ],
   "source": [
    "b"
   ]
  },
  {
   "cell_type": "code",
   "execution_count": 95,
   "id": "south-execution",
   "metadata": {
    "execution": {
     "iopub.execute_input": "2021-02-07T07:11:23.665022Z",
     "iopub.status.busy": "2021-02-07T07:11:23.664783Z",
     "iopub.status.idle": "2021-02-07T07:11:23.691078Z",
     "shell.execute_reply": "2021-02-07T07:11:23.690309Z",
     "shell.execute_reply.started": "2021-02-07T07:11:23.664996Z"
    }
   },
   "outputs": [
    {
     "name": "stdout",
     "output_type": "stream",
     "text": [
      "slinky\n",
      "hoop\n",
      "putty\n",
      "gnome\n",
      "shooter\n"
     ]
    }
   ],
   "source": [
    "for col in C:\n",
    "    print(col)"
   ]
  },
  {
   "cell_type": "code",
   "execution_count": 111,
   "id": "soviet-cigarette",
   "metadata": {
    "execution": {
     "iopub.execute_input": "2021-02-07T07:15:08.820635Z",
     "iopub.status.busy": "2021-02-07T07:15:08.820396Z",
     "iopub.status.idle": "2021-02-07T07:15:08.847172Z",
     "shell.execute_reply": "2021-02-07T07:15:08.846517Z",
     "shell.execute_reply.started": "2021-02-07T07:15:08.820609Z"
    }
   },
   "outputs": [
    {
     "data": {
      "text/plain": [
       "{}"
      ]
     },
     "execution_count": 111,
     "metadata": {},
     "output_type": "execute_result"
    }
   ],
   "source": [
    "upper_triangle"
   ]
  },
  {
   "cell_type": "code",
   "execution_count": 98,
   "id": "informal-proceeding",
   "metadata": {
    "execution": {
     "iopub.execute_input": "2021-02-07T07:11:28.774353Z",
     "iopub.status.busy": "2021-02-07T07:11:28.774134Z",
     "iopub.status.idle": "2021-02-07T07:11:28.796763Z",
     "shell.execute_reply": "2021-02-07T07:11:28.796189Z",
     "shell.execute_reply.started": "2021-02-07T07:11:28.774330Z"
    }
   },
   "outputs": [],
   "source": [
    "M2 = rowdict2mat(upper_triangle)"
   ]
  },
  {
   "cell_type": "code",
   "execution_count": 99,
   "id": "injured-terrace",
   "metadata": {
    "execution": {
     "iopub.execute_input": "2021-02-07T07:11:29.064036Z",
     "iopub.status.busy": "2021-02-07T07:11:29.063794Z",
     "iopub.status.idle": "2021-02-07T07:11:29.093678Z",
     "shell.execute_reply": "2021-02-07T07:11:29.092938Z",
     "shell.execute_reply.started": "2021-02-07T07:11:29.064010Z"
    }
   },
   "outputs": [
    {
     "name": "stdout",
     "output_type": "stream",
     "text": [
      "             slinky      hoop     putty     gnome   shooter\n",
      "water           0.0  0.000000  1.000000  1.302505  0.134875\n",
      "metal          -0.0 -0.000000 -0.000000 -0.000000  1.000000\n",
      "concrete        0.0  0.000000  0.000000  1.000000  0.000000\n",
      "plastic         0.0  1.000000  0.200000  0.133333  0.333333\n",
      "electricity     1.0  0.428571  0.714286  0.571429  1.142857\n"
     ]
    }
   ],
   "source": [
    "print(M2)"
   ]
  },
  {
   "cell_type": "code",
   "execution_count": 100,
   "id": "spoken-richardson",
   "metadata": {
    "execution": {
     "iopub.execute_input": "2021-02-07T07:11:39.185366Z",
     "iopub.status.busy": "2021-02-07T07:11:39.185120Z",
     "iopub.status.idle": "2021-02-07T07:11:39.211355Z",
     "shell.execute_reply": "2021-02-07T07:11:39.210627Z",
     "shell.execute_reply.started": "2021-02-07T07:11:39.185339Z"
    }
   },
   "outputs": [],
   "source": [
    "df = M2.to_pandas()"
   ]
  },
  {
   "cell_type": "code",
   "execution_count": 101,
   "id": "interracial-milton",
   "metadata": {
    "execution": {
     "iopub.execute_input": "2021-02-07T07:11:39.378093Z",
     "iopub.status.busy": "2021-02-07T07:11:39.377816Z",
     "iopub.status.idle": "2021-02-07T07:11:39.409331Z",
     "shell.execute_reply": "2021-02-07T07:11:39.408482Z",
     "shell.execute_reply.started": "2021-02-07T07:11:39.378062Z"
    }
   },
   "outputs": [
    {
     "data": {
      "text/html": [
       "<div>\n",
       "<style scoped>\n",
       "    .dataframe tbody tr th:only-of-type {\n",
       "        vertical-align: middle;\n",
       "    }\n",
       "\n",
       "    .dataframe tbody tr th {\n",
       "        vertical-align: top;\n",
       "    }\n",
       "\n",
       "    .dataframe thead th {\n",
       "        text-align: right;\n",
       "    }\n",
       "</style>\n",
       "<table border=\"1\" class=\"dataframe\">\n",
       "  <thead>\n",
       "    <tr style=\"text-align: right;\">\n",
       "      <th></th>\n",
       "      <th>slinky</th>\n",
       "      <th>hoop</th>\n",
       "      <th>putty</th>\n",
       "      <th>gnome</th>\n",
       "      <th>shooter</th>\n",
       "    </tr>\n",
       "  </thead>\n",
       "  <tbody>\n",
       "    <tr>\n",
       "      <th>water</th>\n",
       "      <td>0.0</td>\n",
       "      <td>0.000000</td>\n",
       "      <td>1.000000</td>\n",
       "      <td>1.302505</td>\n",
       "      <td>0.134875</td>\n",
       "    </tr>\n",
       "    <tr>\n",
       "      <th>metal</th>\n",
       "      <td>-0.0</td>\n",
       "      <td>-0.000000</td>\n",
       "      <td>-0.000000</td>\n",
       "      <td>-0.000000</td>\n",
       "      <td>1.000000</td>\n",
       "    </tr>\n",
       "    <tr>\n",
       "      <th>concrete</th>\n",
       "      <td>0.0</td>\n",
       "      <td>0.000000</td>\n",
       "      <td>0.000000</td>\n",
       "      <td>1.000000</td>\n",
       "      <td>0.000000</td>\n",
       "    </tr>\n",
       "    <tr>\n",
       "      <th>plastic</th>\n",
       "      <td>0.0</td>\n",
       "      <td>1.000000</td>\n",
       "      <td>0.200000</td>\n",
       "      <td>0.133333</td>\n",
       "      <td>0.333333</td>\n",
       "    </tr>\n",
       "    <tr>\n",
       "      <th>electricity</th>\n",
       "      <td>1.0</td>\n",
       "      <td>0.428571</td>\n",
       "      <td>0.714286</td>\n",
       "      <td>0.571429</td>\n",
       "      <td>1.142857</td>\n",
       "    </tr>\n",
       "  </tbody>\n",
       "</table>\n",
       "</div>"
      ],
      "text/plain": [
       "             slinky      hoop     putty     gnome   shooter\n",
       "water           0.0  0.000000  1.000000  1.302505  0.134875\n",
       "metal          -0.0 -0.000000 -0.000000 -0.000000  1.000000\n",
       "concrete        0.0  0.000000  0.000000  1.000000  0.000000\n",
       "plastic         0.0  1.000000  0.200000  0.133333  0.333333\n",
       "electricity     1.0  0.428571  0.714286  0.571429  1.142857"
      ]
     },
     "execution_count": 101,
     "metadata": {},
     "output_type": "execute_result"
    }
   ],
   "source": [
    "df"
   ]
  },
  {
   "cell_type": "code",
   "execution_count": 102,
   "id": "double-acrobat",
   "metadata": {
    "execution": {
     "iopub.execute_input": "2021-02-07T07:11:39.568522Z",
     "iopub.status.busy": "2021-02-07T07:11:39.568321Z",
     "iopub.status.idle": "2021-02-07T07:11:39.590181Z",
     "shell.execute_reply": "2021-02-07T07:11:39.589668Z",
     "shell.execute_reply.started": "2021-02-07T07:11:39.568501Z"
    }
   },
   "outputs": [
    {
     "data": {
      "text/plain": [
       "{'concrete', 'electricity', 'metal', 'plastic', 'water'}"
      ]
     },
     "execution_count": 102,
     "metadata": {},
     "output_type": "execute_result"
    }
   ],
   "source": [
    "M2.D[0]"
   ]
  },
  {
   "cell_type": "code",
   "execution_count": null,
   "id": "international-conducting",
   "metadata": {},
   "outputs": [],
   "source": []
  },
  {
   "cell_type": "code",
   "execution_count": 103,
   "id": "geological-wagon",
   "metadata": {
    "execution": {
     "iopub.execute_input": "2021-02-07T07:11:41.142638Z",
     "iopub.status.busy": "2021-02-07T07:11:41.142398Z",
     "iopub.status.idle": "2021-02-07T07:11:41.176017Z",
     "shell.execute_reply": "2021-02-07T07:11:41.175321Z",
     "shell.execute_reply.started": "2021-02-07T07:11:41.142611Z"
    }
   },
   "outputs": [
    {
     "data": {
      "text/html": [
       "<div>\n",
       "<style scoped>\n",
       "    .dataframe tbody tr th:only-of-type {\n",
       "        vertical-align: middle;\n",
       "    }\n",
       "\n",
       "    .dataframe tbody tr th {\n",
       "        vertical-align: top;\n",
       "    }\n",
       "\n",
       "    .dataframe thead th {\n",
       "        text-align: right;\n",
       "    }\n",
       "</style>\n",
       "<table border=\"1\" class=\"dataframe\">\n",
       "  <thead>\n",
       "    <tr style=\"text-align: right;\">\n",
       "      <th></th>\n",
       "      <th>slinky</th>\n",
       "      <th>hoop</th>\n",
       "      <th>putty</th>\n",
       "      <th>gnome</th>\n",
       "      <th>shooter</th>\n",
       "    </tr>\n",
       "  </thead>\n",
       "  <tbody>\n",
       "    <tr>\n",
       "      <th>electricity</th>\n",
       "      <td>1.0</td>\n",
       "      <td>0.428571</td>\n",
       "      <td>0.714286</td>\n",
       "      <td>0.571429</td>\n",
       "      <td>1.142857</td>\n",
       "    </tr>\n",
       "    <tr>\n",
       "      <th>plastic</th>\n",
       "      <td>0.0</td>\n",
       "      <td>1.000000</td>\n",
       "      <td>0.200000</td>\n",
       "      <td>0.133333</td>\n",
       "      <td>0.333333</td>\n",
       "    </tr>\n",
       "    <tr>\n",
       "      <th>water</th>\n",
       "      <td>0.0</td>\n",
       "      <td>0.000000</td>\n",
       "      <td>1.000000</td>\n",
       "      <td>1.302505</td>\n",
       "      <td>0.134875</td>\n",
       "    </tr>\n",
       "    <tr>\n",
       "      <th>concrete</th>\n",
       "      <td>0.0</td>\n",
       "      <td>0.000000</td>\n",
       "      <td>0.000000</td>\n",
       "      <td>1.000000</td>\n",
       "      <td>0.000000</td>\n",
       "    </tr>\n",
       "    <tr>\n",
       "      <th>metal</th>\n",
       "      <td>-0.0</td>\n",
       "      <td>-0.000000</td>\n",
       "      <td>-0.000000</td>\n",
       "      <td>-0.000000</td>\n",
       "      <td>1.000000</td>\n",
       "    </tr>\n",
       "  </tbody>\n",
       "</table>\n",
       "</div>"
      ],
      "text/plain": [
       "             slinky      hoop     putty     gnome   shooter\n",
       "electricity     1.0  0.428571  0.714286  0.571429  1.142857\n",
       "plastic         0.0  1.000000  0.200000  0.133333  0.333333\n",
       "water           0.0  0.000000  1.000000  1.302505  0.134875\n",
       "concrete        0.0  0.000000  0.000000  1.000000  0.000000\n",
       "metal          -0.0 -0.000000 -0.000000 -0.000000  1.000000"
      ]
     },
     "execution_count": 103,
     "metadata": {},
     "output_type": "execute_result"
    }
   ],
   "source": [
    "df.loc[list(upper_triangle.keys()) , :]"
   ]
  },
  {
   "cell_type": "code",
   "execution_count": 61,
   "id": "mathematical-bullet",
   "metadata": {
    "execution": {
     "iopub.execute_input": "2021-02-07T06:59:18.862172Z",
     "iopub.status.busy": "2021-02-07T06:59:18.861922Z",
     "iopub.status.idle": "2021-02-07T06:59:18.888293Z",
     "shell.execute_reply": "2021-02-07T06:59:18.887636Z",
     "shell.execute_reply.started": "2021-02-07T06:59:18.862144Z"
    }
   },
   "outputs": [
    {
     "data": {
      "text/plain": [
       "Vec({'water', 'concrete', 'plastic', 'metal', 'electricity'}, {'metal': -7.092485549132924, 'concrete': 312.0, 'water': 226.25428571428574, 'electricity': 356.0, 'plastic': 215.4})"
      ]
     },
     "execution_count": 61,
     "metadata": {},
     "output_type": "execute_result"
    }
   ],
   "source": [
    "b"
   ]
  },
  {
   "cell_type": "code",
   "execution_count": 63,
   "id": "crazy-burns",
   "metadata": {
    "execution": {
     "iopub.execute_input": "2021-02-07T06:49:03.950669Z",
     "iopub.status.busy": "2021-02-07T06:49:03.950464Z",
     "iopub.status.idle": "2021-02-07T06:49:03.973423Z",
     "shell.execute_reply": "2021-02-07T06:49:03.972639Z",
     "shell.execute_reply.started": "2021-02-07T06:49:03.950646Z"
    }
   },
   "outputs": [
    {
     "data": {
      "text/plain": [
       "({'concrete', 'electricity', 'metal', 'plastic', 'water'},\n",
       " {'gnome', 'hoop', 'putty', 'shooter', 'slinky'})"
      ]
     },
     "execution_count": 63,
     "metadata": {},
     "output_type": "execute_result"
    }
   ],
   "source": [
    "M2.D"
   ]
  },
  {
   "cell_type": "code",
   "execution_count": null,
   "id": "stuck-nickname",
   "metadata": {},
   "outputs": [],
   "source": []
  },
  {
   "cell_type": "code",
   "execution_count": null,
   "id": "threatened-former",
   "metadata": {},
   "outputs": [],
   "source": []
  },
  {
   "cell_type": "code",
   "execution_count": 210,
   "id": "musical-steam",
   "metadata": {},
   "outputs": [],
   "source": [
    "# coef\n",
    "coef = othervec[col]/rowvec[col]\n",
    "\n",
    "# update rowvec\n",
    "othervec -= coef * rowvec\n",
    "rowdict[other] = othervec\n",
    "\n",
    "# update b\n",
    "b[other] -= coef * b[row]"
   ]
  },
  {
   "cell_type": "code",
   "execution_count": 213,
   "id": "pretty-graphics",
   "metadata": {},
   "outputs": [
    {
     "data": {
      "text/plain": [
       "Vec({'metal', 'concrete', 'water', 'electricity', 'plastic'}, {'metal': 51.0, 'concrete': 312.0, 'water': 373.1, 'electricity': 356.0, 'plastic': 215.4})"
      ]
     },
     "execution_count": 213,
     "metadata": {},
     "output_type": "execute_result"
    }
   ],
   "source": [
    "b"
   ]
  },
  {
   "cell_type": "code",
   "execution_count": 220,
   "id": "corresponding-sellers",
   "metadata": {},
   "outputs": [
    {
     "data": {
      "text/plain": [
       "('electricity', 356.0, 'metal', 51.0)"
      ]
     },
     "execution_count": 220,
     "metadata": {},
     "output_type": "execute_result"
    }
   ],
   "source": [
    "row, b[row], other, b[other]"
   ]
  },
  {
   "cell_type": "code",
   "execution_count": 222,
   "id": "structured-father",
   "metadata": {},
   "outputs": [],
   "source": []
  },
  {
   "cell_type": "code",
   "execution_count": 221,
   "id": "inclusive-hospital",
   "metadata": {},
   "outputs": [
    {
     "data": {
      "text/plain": [
       "0.0"
      ]
     },
     "execution_count": 221,
     "metadata": {},
     "output_type": "execute_result"
    }
   ],
   "source": [
    "coef"
   ]
  },
  {
   "cell_type": "code",
   "execution_count": 219,
   "id": "elder-domain",
   "metadata": {},
   "outputs": [
    {
     "name": "stdout",
     "output_type": "stream",
     "text": [
      "             shooter  hoop  putty  slinky  gnome\n",
      "metal           0.15   0.0    0.0    0.25    0.0\n",
      "concrete        0.00   0.0    0.0    0.00    1.3\n",
      "water           0.40   0.4    0.7    0.20    0.8\n",
      "electricity     0.80   0.3    0.5    0.70    0.4\n",
      "plastic         0.50   1.5    0.3    0.00    0.2\n"
     ]
    }
   ],
   "source": [
    "print(A)"
   ]
  },
  {
   "cell_type": "code",
   "execution_count": 217,
   "id": "running-electric",
   "metadata": {},
   "outputs": [
    {
     "data": {
      "text/plain": [
       "'shooter'"
      ]
     },
     "execution_count": 217,
     "metadata": {},
     "output_type": "execute_result"
    }
   ],
   "source": [
    "col"
   ]
  },
  {
   "cell_type": "code",
   "execution_count": 211,
   "id": "contemporary-parking",
   "metadata": {},
   "outputs": [
    {
     "data": {
      "text/plain": [
       "'metal'"
      ]
     },
     "execution_count": 211,
     "metadata": {},
     "output_type": "execute_result"
    }
   ],
   "source": [
    "other"
   ]
  },
  {
   "cell_type": "code",
   "execution_count": 212,
   "id": "revolutionary-enhancement",
   "metadata": {},
   "outputs": [
    {
     "data": {
      "text/plain": [
       "{'metal': Vec({'shooter', 'hoop', 'putty', 'slinky', 'gnome'}, {'shooter': 0.0, 'hoop': -0.05624999999999999, 'putty': -0.09374999999999999, 'slinky': 0.11875000000000002, 'gnome': -0.075}),\n",
       " 'concrete': Vec({'shooter', 'hoop', 'putty', 'slinky', 'gnome'}, {'shooter': 0, 'hoop': 0, 'putty': 0, 'slinky': 0, 'gnome': 1.3}),\n",
       " 'water': Vec({'shooter', 'hoop', 'putty', 'slinky', 'gnome'}, {'shooter': 0.4, 'hoop': 0.4, 'putty': 0.7, 'slinky': 0.2, 'gnome': 0.8}),\n",
       " 'plastic': Vec({'shooter', 'hoop', 'putty', 'slinky', 'gnome'}, {'shooter': 0.5, 'hoop': 1.5, 'putty': 0.3, 'slinky': 0, 'gnome': 0.2})}"
      ]
     },
     "execution_count": 212,
     "metadata": {},
     "output_type": "execute_result"
    }
   ],
   "source": [
    "rowdict"
   ]
  },
  {
   "cell_type": "code",
   "execution_count": null,
   "id": "ceramic-passport",
   "metadata": {},
   "outputs": [],
   "source": []
  },
  {
   "cell_type": "code",
   "execution_count": 175,
   "id": "recent-calendar",
   "metadata": {},
   "outputs": [
    {
     "data": {
      "text/plain": [
       "Vec({'shooter', 'hoop', 'putty', 'slinky', 'gnome'}, {'shooter': 0, 'hoop': 0, 'putty': 0, 'slinky': 0, 'gnome': 1.3})"
      ]
     },
     "execution_count": 175,
     "metadata": {},
     "output_type": "execute_result"
    }
   ],
   "source": [
    "rowvec"
   ]
  },
  {
   "cell_type": "code",
   "execution_count": 173,
   "id": "helpful-wrong",
   "metadata": {},
   "outputs": [
    {
     "data": {
      "text/plain": [
       "Vec({'shooter', 'hoop', 'putty', 'slinky', 'gnome'}, {'shooter': 0.8, 'hoop': 0.3, 'putty': 0.5, 'slinky': 0.7, 'gnome': 0.4})"
      ]
     },
     "execution_count": 173,
     "metadata": {},
     "output_type": "execute_result"
    }
   ],
   "source": [
    "othervec"
   ]
  },
  {
   "cell_type": "code",
   "execution_count": 176,
   "id": "committed-crawford",
   "metadata": {},
   "outputs": [
    {
     "data": {
      "text/plain": [
       "1.3"
      ]
     },
     "execution_count": 176,
     "metadata": {},
     "output_type": "execute_result"
    }
   ],
   "source": [
    "rowvec[col]"
   ]
  },
  {
   "cell_type": "code",
   "execution_count": 182,
   "id": "incorporated-standing",
   "metadata": {},
   "outputs": [
    {
     "data": {
      "text/plain": [
       "{'concrete': Vec({'shooter', 'hoop', 'putty', 'slinky', 'gnome'}, {'shooter': 0, 'hoop': 0, 'putty': 0, 'slinky': 0, 'gnome': 1.3}),\n",
       " 'electricity': Vec({'shooter', 'hoop', 'putty', 'slinky', 'gnome'}, {'shooter': 0.8, 'hoop': 0.3, 'putty': 0.5, 'slinky': 0.7, 'gnome': 0.4}),\n",
       " 'metal': Vec({'shooter', 'hoop', 'putty', 'slinky', 'gnome'}, {'shooter': 0.15, 'hoop': 0, 'putty': 0, 'slinky': 0.25, 'gnome': 0}),\n",
       " 'plastic': Vec({'shooter', 'hoop', 'putty', 'slinky', 'gnome'}, {'shooter': 0.5, 'hoop': 1.5, 'putty': 0.3, 'slinky': 0, 'gnome': 0.2}),\n",
       " 'water': Vec({'shooter', 'hoop', 'putty', 'slinky', 'gnome'}, {'shooter': 0.4, 'hoop': 0.4, 'putty': 0.7, 'slinky': 0.2, 'gnome': 0.8})}"
      ]
     },
     "execution_count": 182,
     "metadata": {},
     "output_type": "execute_result"
    }
   ],
   "source": [
    "rowdict"
   ]
  },
  {
   "cell_type": "code",
   "execution_count": null,
   "id": "worldwide-uganda",
   "metadata": {},
   "outputs": [],
   "source": []
  },
  {
   "cell_type": "code",
   "execution_count": null,
   "id": "lucky-pendant",
   "metadata": {},
   "outputs": [],
   "source": []
  },
  {
   "cell_type": "code",
   "execution_count": null,
   "id": "reliable-soldier",
   "metadata": {},
   "outputs": [],
   "source": [
    "sol"
   ]
  },
  {
   "cell_type": "code",
   "execution_count": null,
   "id": "regular-happiness",
   "metadata": {},
   "outputs": [],
   "source": [
    "solver"
   ]
  },
  {
   "cell_type": "code",
   "execution_count": 105,
   "id": "attempted-documentation",
   "metadata": {},
   "outputs": [
    {
     "data": {
      "text/plain": [
       "<code object solve at 0x16835e150, file \"../resources/private/solver.py\", line 186>"
      ]
     },
     "execution_count": 105,
     "metadata": {},
     "output_type": "execute_result"
    }
   ],
   "source": [
    "solver.solve.__code__"
   ]
  },
  {
   "cell_type": "code",
   "execution_count": 106,
   "id": "abroad-tissue",
   "metadata": {},
   "outputs": [],
   "source": [
    "import inspect"
   ]
  },
  {
   "cell_type": "code",
   "execution_count": 108,
   "id": "previous-monthly",
   "metadata": {},
   "outputs": [
    {
     "data": {
      "text/plain": [
       "\u001b[0;31mSignature:\u001b[0m \u001b[0msolver\u001b[0m\u001b[0;34m.\u001b[0m\u001b[0msolve\u001b[0m\u001b[0;34m(\u001b[0m\u001b[0mA\u001b[0m\u001b[0;34m,\u001b[0m \u001b[0mb\u001b[0m\u001b[0;34m,\u001b[0m \u001b[0meps\u001b[0m\u001b[0;34m=\u001b[0m\u001b[0;36m1e-15\u001b[0m\u001b[0;34m)\u001b[0m\u001b[0;34m\u001b[0m\u001b[0m\n",
       "\u001b[0;31mDocstring:\u001b[0m\n",
       "Solve the matrix-vector equation Ax = b.\n",
       "\n",
       "If a solution to Ax = b does not exist, then the vector returned by\n",
       "solve(A, b) is not a solution.  Please verify that Ax = b.\n",
       "\n",
       "Args:\n",
       "    A: A matrix of type Mat.\n",
       "    b: A vector of type Vec.\n",
       "    eps: A threshold.  Optional.\n",
       "\n",
       "Returns:\n",
       "    x: A vector of type Vec.\n",
       "\n",
       "Raises:\n",
       "    AssertionError: An error occurs when A is not a matrix of type Mat.\n",
       "    AssertionError: An error occurs when b is not a vector of type Vec.\n",
       "    AssertionError: An error occurs when A.D[0] != b.D.\n",
       "\n",
       "Example 1: Solve Ax = b and verify that x is close to b.\n",
       ">>> from vec import Vec\n",
       ">>> from mat import Mat\n",
       ">>> A = mat.Mat(({0, 1, 2}, {0, 1}), {(0, 1): 2, (2, 0): 10, (1, 0): 3, (0, 0): 1, (1, 1): 4})\n",
       ">>> b = vec.Vec({0, 1, 2},{0: 1, 1: 5, 2: 30})\n",
       ">>> A.D[0] == b.D\n",
       "True\n",
       ">>> x = solve(A, b)\n",
       ">>> A.D[1] == x.D\n",
       "True\n",
       ">>> (b-A*x).is_almost_zero()\n",
       "True\n",
       "\n",
       "Example 2: Solve Ax = b and see that x is not a valid solution.\n",
       ">>> A = mat.Mat(({0, 1}, {0, 1}), {(1, 1): 1})\n",
       ">>> b = vec.Vec({0, 1},{0: 2, 1: 3})\n",
       ">>> A.D[0] == b.D\n",
       "True\n",
       ">>> x = solve(A, b)\n",
       ">>> A.D[1] == x.D\n",
       "True\n",
       ">>> (b-A*x).is_almost_zero()\n",
       "False\n",
       "\n",
       "Example 3: Solve when A and b are over GF(2).\n",
       ">>> from GF2 import one\n",
       ">>> A = Mat(({'a','b'},{'A','B'}), {('a','A'):one, ('a','B'):one, ('b','B'):one})\n",
       ">>> b = Vec({'a','b'}, {'a':one})\n",
       ">>> x = solve(A, b)\n",
       ">>> A*x==b\n",
       "True\n",
       ">>> (b-A*x).is_almost_zero()\n",
       "True\n",
       "\u001b[0;31mFile:\u001b[0m      ~/github.com/banbiossa/coding-the-matrix/resources/private/solver.py\n",
       "\u001b[0;31mType:\u001b[0m      function\n"
      ]
     },
     "metadata": {},
     "output_type": "display_data"
    }
   ],
   "source": [
    "solver.solve?"
   ]
  },
  {
   "cell_type": "code",
   "execution_count": 101,
   "id": "suffering-plaza",
   "metadata": {},
   "outputs": [
    {
     "data": {
      "text/plain": [
       "Vec({'metal', 'concrete', 'water', 'electricity', 'plastic'}, {'metal': 51.0, 'concrete': 312.0, 'water': 373.1, 'electricity': 356.0, 'plastic': 215.4})"
      ]
     },
     "execution_count": 101,
     "metadata": {},
     "output_type": "execute_result"
    }
   ],
   "source": [
    "b"
   ]
  },
  {
   "cell_type": "code",
   "execution_count": 102,
   "id": "regulation-russian",
   "metadata": {},
   "outputs": [
    {
     "data": {
      "text/plain": [
       "Mat(({'metal', 'concrete', 'water', 'electricity', 'plastic'}, {'shooter', 'hoop', 'putty', 'slinky', 'gnome'}), {('concrete', 'gnome'): 1.3, ('concrete', 'hoop'): 0, ('concrete', 'putty'): 0, ('concrete', 'shooter'): 0, ('concrete', 'slinky'): 0, ('electricity', 'gnome'): 0.4, ('electricity', 'hoop'): 0.3, ('electricity', 'putty'): 0.5, ('electricity', 'shooter'): 0.8, ('electricity', 'slinky'): 0.7, ('metal', 'gnome'): 0, ('metal', 'hoop'): 0, ('metal', 'putty'): 0, ('metal', 'shooter'): 0.15, ('metal', 'slinky'): 0.25, ('plastic', 'gnome'): 0.2, ('plastic', 'hoop'): 1.5, ('plastic', 'putty'): 0.3, ('plastic', 'shooter'): 0.5, ('plastic', 'slinky'): 0, ('water', 'gnome'): 0.8, ('water', 'hoop'): 0.4, ('water', 'putty'): 0.7, ('water', 'shooter'): 0.4, ('water', 'slinky'): 0.2})"
      ]
     },
     "execution_count": 102,
     "metadata": {},
     "output_type": "execute_result"
    }
   ],
   "source": [
    "M.transpose()"
   ]
  },
  {
   "cell_type": "code",
   "execution_count": 97,
   "id": "injured-familiar",
   "metadata": {},
   "outputs": [
    {
     "data": {
      "text/plain": [
       "Vec({'metal', 'concrete', 'water', 'electricity', 'plastic'}, {'metal': 51.0, 'concrete': 312.0, 'water': 373.1, 'electricity': 356.0, 'plastic': 215.4})"
      ]
     },
     "execution_count": 97,
     "metadata": {},
     "output_type": "execute_result"
    }
   ],
   "source": []
  },
  {
   "cell_type": "code",
   "execution_count": null,
   "id": "individual-problem",
   "metadata": {},
   "outputs": [],
   "source": [
    "solution"
   ]
  },
  {
   "cell_type": "code",
   "execution_count": null,
   "id": "electric-trade",
   "metadata": {},
   "outputs": [],
   "source": [
    "residual = b - solution * M"
   ]
  },
  {
   "cell_type": "code",
   "execution_count": null,
   "id": "artificial-christopher",
   "metadata": {},
   "outputs": [],
   "source": [
    "assert residual * residual < 1e-10"
   ]
  },
  {
   "cell_type": "code",
   "execution_count": 49,
   "id": "adequate-multimedia",
   "metadata": {
    "execution": {
     "iopub.execute_input": "2021-02-06T10:12:21.083996Z",
     "iopub.status.busy": "2021-02-06T10:12:21.083738Z",
     "iopub.status.idle": "2021-02-06T10:12:21.114158Z",
     "shell.execute_reply": "2021-02-06T10:12:21.113071Z",
     "shell.execute_reply.started": "2021-02-06T10:12:21.083970Z"
    }
   },
   "outputs": [
    {
     "name": "stdout",
     "output_type": "stream",
     "text": [
      "         metal  concrete  water  electricity  plastic\n",
      "hoop      0.00       0.0    0.4          0.3      1.5\n",
      "gnome     0.00       1.3    0.8          0.4      0.2\n",
      "putty     0.00       0.0    0.7          0.5      0.3\n",
      "slinky    0.25       0.0    0.2          0.7      0.0\n",
      "shooter   0.15       0.0    0.4          0.8      0.5\n"
     ]
    }
   ],
   "source": [
    "print(M)"
   ]
  },
  {
   "cell_type": "code",
   "execution_count": null,
   "id": "rational-folder",
   "metadata": {},
   "outputs": [],
   "source": [
    "M.tra"
   ]
  },
  {
   "cell_type": "code",
   "execution_count": 50,
   "id": "present-exhaust",
   "metadata": {},
   "outputs": [],
   "source": [
    "M = coldict2mat({0:Vec({0,1},{0:1,1:2}),1:Vec({0,1},{0:3,1:4})})"
   ]
  },
  {
   "cell_type": "code",
   "execution_count": 54,
   "id": "personalized-environment",
   "metadata": {},
   "outputs": [],
   "source": [
    "b = Vec({0, 1}, {0: 5, 1: 6})"
   ]
  },
  {
   "cell_type": "code",
   "execution_count": 57,
   "id": "planned-suicide",
   "metadata": {},
   "outputs": [
    {
     "data": {
      "text/plain": [
       "Vec({0, 1}, {0: 5, 1: 6})"
      ]
     },
     "execution_count": 57,
     "metadata": {},
     "output_type": "execute_result"
    }
   ],
   "source": [
    "b"
   ]
  },
  {
   "cell_type": "code",
   "execution_count": 53,
   "id": "illegal-turning",
   "metadata": {},
   "outputs": [
    {
     "data": {
      "text/plain": [
       "({0, 1}, {0, 1})"
      ]
     },
     "execution_count": 53,
     "metadata": {},
     "output_type": "execute_result"
    }
   ],
   "source": [
    "M.D"
   ]
  },
  {
   "cell_type": "code",
   "execution_count": 52,
   "id": "historic-percentage",
   "metadata": {},
   "outputs": [
    {
     "name": "stdout",
     "output_type": "stream",
     "text": [
      "   0  1\n",
      "0  1  3\n",
      "1  2  4\n"
     ]
    }
   ],
   "source": [
    "print(M)"
   ]
  },
  {
   "cell_type": "code",
   "execution_count": 61,
   "id": "appointed-stick",
   "metadata": {},
   "outputs": [],
   "source": [
    "rowdict = mat2rowdict(M)"
   ]
  },
  {
   "cell_type": "code",
   "execution_count": 62,
   "id": "later-practice",
   "metadata": {},
   "outputs": [
    {
     "data": {
      "text/plain": [
       "{0: Vec({0, 1}, {0: 1, 1: 3}), 1: Vec({0, 1}, {0: 2, 1: 4})}"
      ]
     },
     "execution_count": 62,
     "metadata": {},
     "output_type": "execute_result"
    }
   ],
   "source": [
    "rowdict"
   ]
  },
  {
   "cell_type": "code",
   "execution_count": 78,
   "id": "cognitive-mentor",
   "metadata": {},
   "outputs": [],
   "source": [
    "R = sorted(M.D[0])\n",
    "C = sorted(M.D[1])"
   ]
  },
  {
   "cell_type": "code",
   "execution_count": 80,
   "id": "advance-korea",
   "metadata": {},
   "outputs": [
    {
     "data": {
      "text/plain": [
       "[0, 1]"
      ]
     },
     "execution_count": 80,
     "metadata": {},
     "output_type": "execute_result"
    }
   ],
   "source": [
    "C"
   ]
  },
  {
   "cell_type": "code",
   "execution_count": 79,
   "id": "operating-norwegian",
   "metadata": {},
   "outputs": [],
   "source": [
    "vec = rowdict[R[0]]"
   ]
  },
  {
   "cell_type": "code",
   "execution_count": 74,
   "id": "permanent-daily",
   "metadata": {},
   "outputs": [
    {
     "data": {
      "text/plain": [
       "Vec({0, 1}, {0: 1, 1: 3})"
      ]
     },
     "execution_count": 74,
     "metadata": {},
     "output_type": "execute_result"
    }
   ],
   "source": [
    "vec"
   ]
  },
  {
   "cell_type": "code",
   "execution_count": null,
   "id": "destroyed-decade",
   "metadata": {},
   "outputs": [],
   "source": [
    "# get a vec\n",
    "# get the domain of the vec\n",
    "# get a "
   ]
  },
  {
   "cell_type": "code",
   "execution_count": null,
   "id": "forbidden-metadata",
   "metadata": {},
   "outputs": [],
   "source": []
  },
  {
   "cell_type": "code",
   "execution_count": null,
   "id": "false-modem",
   "metadata": {},
   "outputs": [],
   "source": []
  },
  {
   "cell_type": "code",
   "execution_count": 14,
   "id": "common-runner",
   "metadata": {
    "execution": {
     "iopub.execute_input": "2021-02-03T13:25:54.128140Z",
     "iopub.status.busy": "2021-02-03T13:25:54.127890Z",
     "iopub.status.idle": "2021-02-03T13:25:54.154776Z",
     "shell.execute_reply": "2021-02-03T13:25:54.153901Z",
     "shell.execute_reply.started": "2021-02-03T13:25:54.128113Z"
    }
   },
   "outputs": [
    {
     "name": "stdout",
     "output_type": "stream",
     "text": [
      "('a', '@'): ,\n",
      "('a', '#'): ,\n",
      "('a', '?'): ,\n",
      "('b', '@'): ,\n",
      "('b', '#'): ,\n",
      "('b', '?'): ,\n"
     ]
    }
   ],
   "source": [
    "import itertools\n",
    "for r, c in itertools.product(*D):\n",
    "    print(f\"('{r}', '{c}'): ,\")"
   ]
  },
  {
   "cell_type": "code",
   "execution_count": 7,
   "id": "mysterious-stranger",
   "metadata": {
    "execution": {
     "iopub.execute_input": "2021-02-03T13:24:09.444793Z",
     "iopub.status.busy": "2021-02-03T13:24:09.444554Z",
     "iopub.status.idle": "2021-02-03T13:24:09.472347Z",
     "shell.execute_reply": "2021-02-03T13:24:09.471488Z",
     "shell.execute_reply.started": "2021-02-03T13:24:09.444767Z"
    }
   },
   "outputs": [],
   "source": [
    "D = ({'a', 'b'}, {'@', '#', '?'})"
   ]
  },
  {
   "cell_type": "code",
   "execution_count": 12,
   "id": "living-quality",
   "metadata": {
    "execution": {
     "iopub.execute_input": "2021-02-03T13:25:44.829319Z",
     "iopub.status.busy": "2021-02-03T13:25:44.829065Z",
     "iopub.status.idle": "2021-02-03T13:25:44.855801Z",
     "shell.execute_reply": "2021-02-03T13:25:44.855031Z",
     "shell.execute_reply.started": "2021-02-03T13:25:44.829290Z"
    }
   },
   "outputs": [],
   "source": [
    "f = {\n",
    "    (\"a\", \"@\"): 1,\n",
    "    (\"a\", \"#\"): 2,\n",
    "    (\"a\", \"?\"): 3,\n",
    "    (\"b\", \"@\"): 10,\n",
    "    (\"b\", \"#\"): 20,\n",
    "    (\"b\", \"?\"): 30,\n",
    "}"
   ]
  },
  {
   "cell_type": "code",
   "execution_count": 13,
   "id": "considerable-trick",
   "metadata": {
    "execution": {
     "iopub.execute_input": "2021-02-03T13:25:48.985926Z",
     "iopub.status.busy": "2021-02-03T13:25:48.985685Z",
     "iopub.status.idle": "2021-02-03T13:25:49.014776Z",
     "shell.execute_reply": "2021-02-03T13:25:49.013878Z",
     "shell.execute_reply.started": "2021-02-03T13:25:48.985899Z"
    }
   },
   "outputs": [],
   "source": [
    "M = Mat(D, f)"
   ]
  },
  {
   "cell_type": "code",
   "execution_count": 6,
   "id": "killing-tiger",
   "metadata": {
    "execution": {
     "iopub.execute_input": "2021-02-03T13:23:39.065325Z",
     "iopub.status.busy": "2021-02-03T13:23:39.065075Z",
     "iopub.status.idle": "2021-02-03T13:23:39.091019Z",
     "shell.execute_reply": "2021-02-03T13:23:39.090314Z",
     "shell.execute_reply.started": "2021-02-03T13:23:39.065298Z"
    }
   },
   "outputs": [],
   "source": []
  },
  {
   "cell_type": "code",
   "execution_count": 31,
   "id": "explicit-taxation",
   "metadata": {
    "execution": {
     "iopub.execute_input": "2021-02-03T13:31:09.979247Z",
     "iopub.status.busy": "2021-02-03T13:31:09.978986Z",
     "iopub.status.idle": "2021-02-03T13:31:10.006379Z",
     "shell.execute_reply": "2021-02-03T13:31:10.005521Z",
     "shell.execute_reply.started": "2021-02-03T13:31:09.979217Z"
    }
   },
   "outputs": [],
   "source": [
    "def mat2rowdict(M):\n",
    "    \"\"\"return the rowdict representation of M\"\"\"\n",
    "    R, C = M.D\n",
    "    return {r: Vec(C, {c: M.f[(r, c)] for c in C}) for r in R}"
   ]
  },
  {
   "cell_type": "code",
   "execution_count": 32,
   "id": "democratic-commissioner",
   "metadata": {
    "execution": {
     "iopub.execute_input": "2021-02-03T13:31:20.058226Z",
     "iopub.status.busy": "2021-02-03T13:31:20.057975Z",
     "iopub.status.idle": "2021-02-03T13:31:20.086372Z",
     "shell.execute_reply": "2021-02-03T13:31:20.085512Z",
     "shell.execute_reply.started": "2021-02-03T13:31:20.058198Z"
    }
   },
   "outputs": [
    {
     "data": {
      "text/plain": [
       "{'a': Vec({'@', '#', '?'}, {'@': 1, '#': 2, '?': 3}),\n",
       " 'b': Vec({'@', '#', '?'}, {'@': 10, '#': 20, '?': 30})}"
      ]
     },
     "execution_count": 32,
     "metadata": {},
     "output_type": "execute_result"
    }
   ],
   "source": [
    "mat2rowdict(M)"
   ]
  },
  {
   "cell_type": "code",
   "execution_count": 33,
   "id": "forced-director",
   "metadata": {
    "execution": {
     "iopub.execute_input": "2021-02-03T13:32:46.309348Z",
     "iopub.status.busy": "2021-02-03T13:32:46.309090Z",
     "iopub.status.idle": "2021-02-03T13:32:46.336632Z",
     "shell.execute_reply": "2021-02-03T13:32:46.335671Z",
     "shell.execute_reply.started": "2021-02-03T13:32:46.309319Z"
    }
   },
   "outputs": [],
   "source": [
    "def mat2coldict(M):\n",
    "    \"\"\"return the coldict representation of M\"\"\"\n",
    "    R, C = M.D\n",
    "    return {c: Vec(R, {r: M.f[(r, c)] for r in R}) for c in C}"
   ]
  },
  {
   "cell_type": "code",
   "execution_count": 34,
   "id": "monthly-refund",
   "metadata": {
    "execution": {
     "iopub.execute_input": "2021-02-03T13:32:51.022435Z",
     "iopub.status.busy": "2021-02-03T13:32:51.022166Z",
     "iopub.status.idle": "2021-02-03T13:32:51.050175Z",
     "shell.execute_reply": "2021-02-03T13:32:51.049509Z",
     "shell.execute_reply.started": "2021-02-03T13:32:51.022406Z"
    }
   },
   "outputs": [
    {
     "data": {
      "text/plain": [
       "{'@': Vec({'a', 'b'}, {'a': 1, 'b': 10}),\n",
       " '#': Vec({'a', 'b'}, {'a': 2, 'b': 20}),\n",
       " '?': Vec({'a', 'b'}, {'a': 3, 'b': 30})}"
      ]
     },
     "execution_count": 34,
     "metadata": {},
     "output_type": "execute_result"
    }
   ],
   "source": [
    "mat2coldict(M)"
   ]
  },
  {
   "cell_type": "code",
   "execution_count": null,
   "id": "stone-mother",
   "metadata": {},
   "outputs": [],
   "source": []
  },
  {
   "cell_type": "code",
   "execution_count": null,
   "id": "grave-character",
   "metadata": {},
   "outputs": [],
   "source": []
  },
  {
   "cell_type": "code",
   "execution_count": null,
   "id": "colored-illinois",
   "metadata": {},
   "outputs": [],
   "source": []
  },
  {
   "cell_type": "code",
   "execution_count": null,
   "id": "spoken-compensation",
   "metadata": {},
   "outputs": [],
   "source": []
  }
 ],
 "metadata": {
  "kernelspec": {
   "display_name": "Python 3",
   "language": "python",
   "name": "python3"
  },
  "language_info": {
   "codemirror_mode": {
    "name": "ipython",
    "version": 3
   },
   "file_extension": ".py",
   "mimetype": "text/x-python",
   "name": "python",
   "nbconvert_exporter": "python",
   "pygments_lexer": "ipython3",
   "version": "3.9.0"
  }
 },
 "nbformat": 4,
 "nbformat_minor": 5
}
