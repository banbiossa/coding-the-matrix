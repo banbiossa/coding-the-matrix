{
 "cells": [
  {
   "cell_type": "markdown",
   "id": "developed-debate",
   "metadata": {},
   "source": [
    "# 0.2_vectors"
   ]
  },
  {
   "cell_type": "code",
   "execution_count": 20,
   "id": "varying-messaging",
   "metadata": {
    "execution": {
     "iopub.execute_input": "2021-01-28T06:21:59.843219Z",
     "iopub.status.busy": "2021-01-28T06:21:59.842971Z",
     "iopub.status.idle": "2021-01-28T06:21:59.877613Z",
     "shell.execute_reply": "2021-01-28T06:21:59.876631Z",
     "shell.execute_reply.started": "2021-01-28T06:21:59.843192Z"
    }
   },
   "outputs": [
    {
     "name": "stdout",
     "output_type": "stream",
     "text": [
      "The autoreload extension is already loaded. To reload it, use:\n",
      "  %reload_ext autoreload\n",
      "The blackcellmagic extension is already loaded. To reload it, use:\n",
      "  %reload_ext blackcellmagic\n"
     ]
    }
   ],
   "source": [
    "%load_ext autoreload\n",
    "%autoreload 2\n",
    "%matplotlib inline\n",
    "%load_ext blackcellmagic\n",
    "\n",
    "import pandas as pd\n",
    "import numpy as np\n",
    "import seaborn as sns\n",
    "import matplotlib.pyplot as plt\n",
    "\n",
    "def nrows(n):\n",
    "    pd.options.display.max_rows = n\n",
    "\n",
    "nrows(5)\n",
    "\n",
    "from coding_the_matrix.Vec import Vec"
   ]
  },
  {
   "cell_type": "code",
   "execution_count": 540,
   "id": "bottom-shoulder",
   "metadata": {
    "execution": {
     "iopub.execute_input": "2021-01-31T03:55:21.841052Z",
     "iopub.status.busy": "2021-01-31T03:55:21.840724Z",
     "iopub.status.idle": "2021-01-31T03:55:22.150852Z",
     "shell.execute_reply": "2021-01-31T03:55:22.150013Z",
     "shell.execute_reply.started": "2021-01-31T03:55:21.840989Z"
    }
   },
   "outputs": [],
   "source": [
    "a = {'A': 1}"
   ]
  },
  {
   "cell_type": "code",
   "execution_count": 544,
   "id": "seeing-pressing",
   "metadata": {
    "execution": {
     "iopub.execute_input": "2021-01-31T03:55:44.583467Z",
     "iopub.status.busy": "2021-01-31T03:55:44.583215Z",
     "iopub.status.idle": "2021-01-31T03:55:44.616053Z",
     "shell.execute_reply": "2021-01-31T03:55:44.614922Z",
     "shell.execute_reply.started": "2021-01-31T03:55:44.583438Z"
    }
   },
   "outputs": [
    {
     "ename": "TypeError",
     "evalue": "set() argument after * must be an iterable, not builtin_function_or_method",
     "output_type": "error",
     "traceback": [
      "\u001b[0;31m---------------------------------------------------------------------------\u001b[0m",
      "\u001b[0;31mTypeError\u001b[0m                                 Traceback (most recent call last)",
      "\u001b[0;32m<ipython-input-544-8128c9b15a90>\u001b[0m in \u001b[0;36m<module>\u001b[0;34m\u001b[0m\n\u001b[0;32m----> 1\u001b[0;31m \u001b[0mset\u001b[0m\u001b[0;34m(\u001b[0m\u001b[0;34m*\u001b[0m\u001b[0ma\u001b[0m\u001b[0;34m.\u001b[0m\u001b[0mkeys\u001b[0m\u001b[0;34m)\u001b[0m\u001b[0;34m\u001b[0m\u001b[0;34m\u001b[0m\u001b[0m\n\u001b[0m",
      "\u001b[0;31mTypeError\u001b[0m: set() argument after * must be an iterable, not builtin_function_or_method"
     ]
    }
   ],
   "source": [
    "set(*a.keys)"
   ]
  },
  {
   "cell_type": "code",
   "execution_count": 11,
   "id": "editorial-burner",
   "metadata": {
    "execution": {
     "iopub.execute_input": "2021-01-28T06:15:59.744540Z",
     "iopub.status.busy": "2021-01-28T06:15:59.744310Z",
     "iopub.status.idle": "2021-01-28T06:15:59.770834Z",
     "shell.execute_reply": "2021-01-28T06:15:59.769970Z",
     "shell.execute_reply.started": "2021-01-28T06:15:59.744515Z"
    }
   },
   "outputs": [],
   "source": [
    "def segment(pt1, pt2, num=100):\n",
    "    return [get_point(pt1, pt2, i/(num-1)) for i in range(num)]"
   ]
  },
  {
   "cell_type": "code",
   "execution_count": 16,
   "id": "guilty-memory",
   "metadata": {
    "execution": {
     "iopub.execute_input": "2021-01-28T06:16:37.890971Z",
     "iopub.status.busy": "2021-01-28T06:16:37.890720Z",
     "iopub.status.idle": "2021-01-28T06:16:37.918579Z",
     "shell.execute_reply": "2021-01-28T06:16:37.917708Z",
     "shell.execute_reply.started": "2021-01-28T06:16:37.890943Z"
    }
   },
   "outputs": [],
   "source": [
    "def get_point(pt1, pt2, ratio):\n",
    "    return [pt1[i] * (1-ratio) + pt2[i] * ratio for i in range(len(pt1))]"
   ]
  },
  {
   "cell_type": "code",
   "execution_count": 17,
   "id": "standard-anatomy",
   "metadata": {
    "execution": {
     "iopub.execute_input": "2021-01-28T06:16:38.189161Z",
     "iopub.status.busy": "2021-01-28T06:16:38.188916Z",
     "iopub.status.idle": "2021-01-28T06:16:38.216449Z",
     "shell.execute_reply": "2021-01-28T06:16:38.215546Z",
     "shell.execute_reply.started": "2021-01-28T06:16:38.189134Z"
    }
   },
   "outputs": [
    {
     "data": {
      "text/plain": [
       "[2.0, 2.0]"
      ]
     },
     "execution_count": 17,
     "metadata": {},
     "output_type": "execute_result"
    }
   ],
   "source": [
    "get_point([3.5, 3], [0.5, 1], .5)"
   ]
  },
  {
   "cell_type": "code",
   "execution_count": 18,
   "id": "executive-handy",
   "metadata": {
    "execution": {
     "iopub.execute_input": "2021-01-28T06:16:38.433288Z",
     "iopub.status.busy": "2021-01-28T06:16:38.433049Z",
     "iopub.status.idle": "2021-01-28T06:16:38.461558Z",
     "shell.execute_reply": "2021-01-28T06:16:38.460810Z",
     "shell.execute_reply.started": "2021-01-28T06:16:38.433261Z"
    }
   },
   "outputs": [
    {
     "data": {
      "text/plain": [
       "100"
      ]
     },
     "execution_count": 18,
     "metadata": {},
     "output_type": "execute_result"
    }
   ],
   "source": [
    "len(segment([3.5, 3], [0.5, 1]))"
   ]
  },
  {
   "cell_type": "code",
   "execution_count": 21,
   "id": "revolutionary-citation",
   "metadata": {
    "execution": {
     "iopub.execute_input": "2021-01-28T06:22:15.785803Z",
     "iopub.status.busy": "2021-01-28T06:22:15.785565Z",
     "iopub.status.idle": "2021-01-28T06:22:15.811548Z",
     "shell.execute_reply": "2021-01-28T06:22:15.810675Z",
     "shell.execute_reply.started": "2021-01-28T06:22:15.785777Z"
    }
   },
   "outputs": [],
   "source": [
    "v = Vec({'A', 'B', 'C'}, {'A': 1})"
   ]
  },
  {
   "cell_type": "code",
   "execution_count": 22,
   "id": "intensive-knife",
   "metadata": {
    "execution": {
     "iopub.execute_input": "2021-01-28T06:22:16.671615Z",
     "iopub.status.busy": "2021-01-28T06:22:16.671332Z",
     "iopub.status.idle": "2021-01-28T06:22:16.701680Z",
     "shell.execute_reply": "2021-01-28T06:22:16.700665Z",
     "shell.execute_reply.started": "2021-01-28T06:22:16.671581Z"
    }
   },
   "outputs": [
    {
     "data": {
      "text/plain": [
       "<coding_the_matrix.Vec.Vec at 0x16fe68fd0>"
      ]
     },
     "execution_count": 22,
     "metadata": {},
     "output_type": "execute_result"
    }
   ],
   "source": [
    "v"
   ]
  },
  {
   "cell_type": "code",
   "execution_count": 27,
   "id": "reserved-timeline",
   "metadata": {
    "execution": {
     "iopub.execute_input": "2021-01-28T06:25:03.131828Z",
     "iopub.status.busy": "2021-01-28T06:25:03.131588Z",
     "iopub.status.idle": "2021-01-28T06:25:03.190665Z",
     "shell.execute_reply": "2021-01-28T06:25:03.189713Z",
     "shell.execute_reply.started": "2021-01-28T06:25:03.131801Z"
    }
   },
   "outputs": [],
   "source": [
    "def zero_vec(D):\n",
    "    \"\"\"outputs an instance of Vec representing a D-vector all of whose entries have value zero\"\"\"\n",
    "    return Vec(D, {key: 0 for key in D})"
   ]
  },
  {
   "cell_type": "code",
   "execution_count": 28,
   "id": "behavioral-river",
   "metadata": {
    "execution": {
     "iopub.execute_input": "2021-01-28T06:25:03.295801Z",
     "iopub.status.busy": "2021-01-28T06:25:03.295553Z",
     "iopub.status.idle": "2021-01-28T06:25:03.322530Z",
     "shell.execute_reply": "2021-01-28T06:25:03.321567Z",
     "shell.execute_reply.started": "2021-01-28T06:25:03.295773Z"
    }
   },
   "outputs": [
    {
     "data": {
      "text/plain": [
       "Vec({'B', 'A'}, {'B': 0, 'A': 0})"
      ]
     },
     "execution_count": 28,
     "metadata": {},
     "output_type": "execute_result"
    }
   ],
   "source": [
    "zero_vec({'A', 'B'})"
   ]
  },
  {
   "cell_type": "code",
   "execution_count": 29,
   "id": "imported-dividend",
   "metadata": {
    "execution": {
     "iopub.execute_input": "2021-01-28T06:27:23.066688Z",
     "iopub.status.busy": "2021-01-28T06:27:23.066457Z",
     "iopub.status.idle": "2021-01-28T06:27:23.127775Z",
     "shell.execute_reply": "2021-01-28T06:27:23.126828Z",
     "shell.execute_reply.started": "2021-01-28T06:27:23.066662Z"
    }
   },
   "outputs": [],
   "source": [
    "def setitem(v, d, val):\n",
    "    v.f[d] = val"
   ]
  },
  {
   "cell_type": "code",
   "execution_count": 32,
   "id": "spare-pressure",
   "metadata": {
    "execution": {
     "iopub.execute_input": "2021-01-28T06:28:23.116619Z",
     "iopub.status.busy": "2021-01-28T06:28:23.116379Z",
     "iopub.status.idle": "2021-01-28T06:28:23.142478Z",
     "shell.execute_reply": "2021-01-28T06:28:23.141585Z",
     "shell.execute_reply.started": "2021-01-28T06:28:23.116592Z"
    }
   },
   "outputs": [],
   "source": [
    "def getitem(v, d):\n",
    "    return v.f[d] if d in v.f else 0"
   ]
  },
  {
   "cell_type": "code",
   "execution_count": 33,
   "id": "cross-shield",
   "metadata": {
    "execution": {
     "iopub.execute_input": "2021-01-28T06:28:23.436555Z",
     "iopub.status.busy": "2021-01-28T06:28:23.436328Z",
     "iopub.status.idle": "2021-01-28T06:28:23.464000Z",
     "shell.execute_reply": "2021-01-28T06:28:23.463246Z",
     "shell.execute_reply.started": "2021-01-28T06:28:23.436530Z"
    }
   },
   "outputs": [
    {
     "data": {
      "text/plain": [
       "1"
      ]
     },
     "execution_count": 33,
     "metadata": {},
     "output_type": "execute_result"
    }
   ],
   "source": [
    "getitem(v, 'A')"
   ]
  },
  {
   "cell_type": "code",
   "execution_count": 41,
   "id": "angry-western",
   "metadata": {
    "execution": {
     "iopub.execute_input": "2021-01-28T06:32:35.860589Z",
     "iopub.status.busy": "2021-01-28T06:32:35.860345Z",
     "iopub.status.idle": "2021-01-28T06:32:35.887164Z",
     "shell.execute_reply": "2021-01-28T06:32:35.886316Z",
     "shell.execute_reply.started": "2021-01-28T06:32:35.860561Z"
    }
   },
   "outputs": [],
   "source": [
    "def scalar_mul(v, alpha):\n",
    "    \"\"\"\n",
    "    Args:\n",
    "        v: vector\n",
    "        alpha: scalar\n",
    "    \n",
    "    Returns:\n",
    "        a new instance of Vec that represents the scalar-vector product alpha times v\n",
    "    \"\"\"\n",
    "    return Vec(v.D, {key: alpha*value for key,value in v.f.items()})"
   ]
  },
  {
   "cell_type": "code",
   "execution_count": 42,
   "id": "bridal-palestine",
   "metadata": {
    "execution": {
     "iopub.execute_input": "2021-01-28T06:32:36.066706Z",
     "iopub.status.busy": "2021-01-28T06:32:36.066467Z",
     "iopub.status.idle": "2021-01-28T06:32:36.094263Z",
     "shell.execute_reply": "2021-01-28T06:32:36.093536Z",
     "shell.execute_reply.started": "2021-01-28T06:32:36.066679Z"
    }
   },
   "outputs": [
    {
     "data": {
      "text/plain": [
       "Vec({'B', 'A', 'C'}, {'A': 3})"
      ]
     },
     "execution_count": 42,
     "metadata": {},
     "output_type": "execute_result"
    }
   ],
   "source": [
    "scalar_mul(v, 3)"
   ]
  },
  {
   "cell_type": "code",
   "execution_count": 55,
   "id": "changed-fetish",
   "metadata": {
    "execution": {
     "iopub.execute_input": "2021-01-28T06:36:30.750485Z",
     "iopub.status.busy": "2021-01-28T06:36:30.750201Z",
     "iopub.status.idle": "2021-01-28T06:36:30.777693Z",
     "shell.execute_reply": "2021-01-28T06:36:30.777018Z",
     "shell.execute_reply.started": "2021-01-28T06:36:30.750452Z"
    }
   },
   "outputs": [],
   "source": [
    "def add(u, v):\n",
    "    \"\"\"\n",
    "    Returns:\n",
    "        Vec that is the sum of u and v\n",
    "    \"\"\"\n",
    "    return Vec(u.D, {key: u.f.get(key, 0) + v.f.get(key, 0) for key in u.D})"
   ]
  },
  {
   "cell_type": "code",
   "execution_count": 56,
   "id": "private-implement",
   "metadata": {
    "execution": {
     "iopub.execute_input": "2021-01-28T06:36:30.881930Z",
     "iopub.status.busy": "2021-01-28T06:36:30.881701Z",
     "iopub.status.idle": "2021-01-28T06:36:30.908177Z",
     "shell.execute_reply": "2021-01-28T06:36:30.907239Z",
     "shell.execute_reply.started": "2021-01-28T06:36:30.881905Z"
    }
   },
   "outputs": [],
   "source": [
    "u = Vec(v.D, {'A': 5, 'C': 10})"
   ]
  },
  {
   "cell_type": "code",
   "execution_count": 57,
   "id": "finished-necessity",
   "metadata": {
    "execution": {
     "iopub.execute_input": "2021-01-28T06:36:31.244219Z",
     "iopub.status.busy": "2021-01-28T06:36:31.243974Z",
     "iopub.status.idle": "2021-01-28T06:36:31.270945Z",
     "shell.execute_reply": "2021-01-28T06:36:31.270227Z",
     "shell.execute_reply.started": "2021-01-28T06:36:31.244191Z"
    }
   },
   "outputs": [
    {
     "data": {
      "text/plain": [
       "Vec({'B', 'A', 'C'}, {'B': 0, 'A': 6, 'C': 10})"
      ]
     },
     "execution_count": 57,
     "metadata": {},
     "output_type": "execute_result"
    }
   ],
   "source": [
    "add(u, v)"
   ]
  },
  {
   "cell_type": "code",
   "execution_count": 58,
   "id": "artificial-proportion",
   "metadata": {
    "execution": {
     "iopub.execute_input": "2021-01-28T06:44:49.324622Z",
     "iopub.status.busy": "2021-01-28T06:44:49.324381Z",
     "iopub.status.idle": "2021-01-28T06:44:49.350741Z",
     "shell.execute_reply": "2021-01-28T06:44:49.350089Z",
     "shell.execute_reply.started": "2021-01-28T06:44:49.324595Z"
    }
   },
   "outputs": [],
   "source": [
    "def neg(v):\n",
    "    return Vec(v.D ,{key: -v.f.get(key, 0) for key in u.D})"
   ]
  },
  {
   "cell_type": "code",
   "execution_count": 59,
   "id": "collected-register",
   "metadata": {
    "execution": {
     "iopub.execute_input": "2021-01-28T06:44:52.739495Z",
     "iopub.status.busy": "2021-01-28T06:44:52.739143Z",
     "iopub.status.idle": "2021-01-28T06:44:52.766728Z",
     "shell.execute_reply": "2021-01-28T06:44:52.766053Z",
     "shell.execute_reply.started": "2021-01-28T06:44:52.739460Z"
    }
   },
   "outputs": [
    {
     "data": {
      "text/plain": [
       "Vec({'B', 'A', 'C'}, {'B': 0, 'A': -1, 'C': 0})"
      ]
     },
     "execution_count": 59,
     "metadata": {},
     "output_type": "execute_result"
    }
   ],
   "source": [
    "neg(v)"
   ]
  },
  {
   "cell_type": "code",
   "execution_count": 60,
   "id": "stopped-venice",
   "metadata": {
    "execution": {
     "iopub.execute_input": "2021-01-28T06:44:59.652020Z",
     "iopub.status.busy": "2021-01-28T06:44:59.651773Z",
     "iopub.status.idle": "2021-01-28T06:44:59.678514Z",
     "shell.execute_reply": "2021-01-28T06:44:59.677682Z",
     "shell.execute_reply.started": "2021-01-28T06:44:59.651992Z"
    }
   },
   "outputs": [
    {
     "data": {
      "text/plain": [
       "Vec({'B', 'A', 'C'}, {'B': 0, 'A': 0, 'C': 0})"
      ]
     },
     "execution_count": 60,
     "metadata": {},
     "output_type": "execute_result"
    }
   ],
   "source": [
    "add(v, neg(v))"
   ]
  },
  {
   "cell_type": "code",
   "execution_count": 61,
   "id": "intense-graphics",
   "metadata": {
    "execution": {
     "iopub.execute_input": "2021-01-28T07:25:08.440690Z",
     "iopub.status.busy": "2021-01-28T07:25:08.440447Z",
     "iopub.status.idle": "2021-01-28T07:25:08.472073Z",
     "shell.execute_reply": "2021-01-28T07:25:08.471321Z",
     "shell.execute_reply.started": "2021-01-28T07:25:08.440662Z"
    }
   },
   "outputs": [],
   "source": [
    "def list_dot(u, v):\n",
    "    return sum([i*j for i, j in zip(u, v)])"
   ]
  },
  {
   "cell_type": "code",
   "execution_count": 62,
   "id": "based-projection",
   "metadata": {
    "execution": {
     "iopub.execute_input": "2021-01-28T07:57:14.190387Z",
     "iopub.status.busy": "2021-01-28T07:57:14.190134Z",
     "iopub.status.idle": "2021-01-28T07:57:14.215897Z",
     "shell.execute_reply": "2021-01-28T07:57:14.215249Z",
     "shell.execute_reply.started": "2021-01-28T07:57:14.190359Z"
    }
   },
   "outputs": [],
   "source": [
    "haystack = [1, -1, 1, 1, 1, -1, 1, 1, 1]"
   ]
  },
  {
   "cell_type": "code",
   "execution_count": 63,
   "id": "consistent-europe",
   "metadata": {
    "execution": {
     "iopub.execute_input": "2021-01-28T07:57:25.394039Z",
     "iopub.status.busy": "2021-01-28T07:57:25.393832Z",
     "iopub.status.idle": "2021-01-28T07:57:25.415571Z",
     "shell.execute_reply": "2021-01-28T07:57:25.415016Z",
     "shell.execute_reply.started": "2021-01-28T07:57:25.394016Z"
    }
   },
   "outputs": [],
   "source": [
    "needle = [1, -1, 1, 1, -1, 1]"
   ]
  },
  {
   "cell_type": "code",
   "execution_count": 72,
   "id": "artistic-north",
   "metadata": {
    "execution": {
     "iopub.execute_input": "2021-01-28T08:03:43.547983Z",
     "iopub.status.busy": "2021-01-28T08:03:43.547740Z",
     "iopub.status.idle": "2021-01-28T08:03:43.576032Z",
     "shell.execute_reply": "2021-01-28T08:03:43.575282Z",
     "shell.execute_reply.started": "2021-01-28T08:03:43.547956Z"
    }
   },
   "outputs": [
    {
     "data": {
      "text/plain": [
       "[2, 2, 0, 0, 3, 0, 1, 0, 1]"
      ]
     },
     "execution_count": 72,
     "metadata": {},
     "output_type": "execute_result"
    }
   ],
   "source": [
    "[list_dot(haystack[i:i+len(needle)], needle) for i in range(len(haystack))]"
   ]
  },
  {
   "cell_type": "code",
   "execution_count": 75,
   "id": "sharing-filing",
   "metadata": {
    "execution": {
     "iopub.execute_input": "2021-01-28T08:05:35.915172Z",
     "iopub.status.busy": "2021-01-28T08:05:35.914939Z",
     "iopub.status.idle": "2021-01-28T08:05:35.942944Z",
     "shell.execute_reply": "2021-01-28T08:05:35.942183Z",
     "shell.execute_reply.started": "2021-01-28T08:05:35.915146Z"
    }
   },
   "outputs": [
    {
     "data": {
      "text/plain": [
       "[2, 2, 0]"
      ]
     },
     "execution_count": 75,
     "metadata": {},
     "output_type": "execute_result"
    }
   ],
   "source": [
    "[list_dot(haystack[i:i+len(needle)], needle) for i in range(len(haystack)-len(needle))]"
   ]
  },
  {
   "cell_type": "code",
   "execution_count": 82,
   "id": "vertical-combine",
   "metadata": {
    "execution": {
     "iopub.execute_input": "2021-01-28T09:05:30.760453Z",
     "iopub.status.busy": "2021-01-28T09:05:30.760208Z",
     "iopub.status.idle": "2021-01-28T09:05:30.788704Z",
     "shell.execute_reply": "2021-01-28T09:05:30.787993Z",
     "shell.execute_reply.started": "2021-01-28T09:05:30.760426Z"
    }
   },
   "outputs": [],
   "source": [
    "def list2vec(L):\n",
    "    \"\"\"Vec with domain {0, 1, ..., len(L)} and v[i] = L[i]\n",
    "    \"\"\"\n",
    "    return Vec({i for i in range(len(L))}, {i: L[i] for i in range(len(L))})"
   ]
  },
  {
   "cell_type": "code",
   "execution_count": 77,
   "id": "julian-consciousness",
   "metadata": {
    "execution": {
     "iopub.execute_input": "2021-01-28T09:04:48.937599Z",
     "iopub.status.busy": "2021-01-28T09:04:48.937355Z",
     "iopub.status.idle": "2021-01-28T09:04:48.963385Z",
     "shell.execute_reply": "2021-01-28T09:04:48.962591Z",
     "shell.execute_reply.started": "2021-01-28T09:04:48.937570Z"
    }
   },
   "outputs": [],
   "source": [
    "L = [3, 3, 4]"
   ]
  },
  {
   "cell_type": "code",
   "execution_count": 83,
   "id": "buried-tribute",
   "metadata": {
    "execution": {
     "iopub.execute_input": "2021-01-28T09:05:34.927902Z",
     "iopub.status.busy": "2021-01-28T09:05:34.927691Z",
     "iopub.status.idle": "2021-01-28T09:05:34.950968Z",
     "shell.execute_reply": "2021-01-28T09:05:34.950169Z",
     "shell.execute_reply.started": "2021-01-28T09:05:34.927879Z"
    }
   },
   "outputs": [
    {
     "data": {
      "text/plain": [
       "Vec({0, 1, 2}, {0: 3, 1: 3, 2: 4})"
      ]
     },
     "execution_count": 83,
     "metadata": {},
     "output_type": "execute_result"
    }
   ],
   "source": [
    "list2vec(L)"
   ]
  },
  {
   "cell_type": "code",
   "execution_count": 87,
   "id": "miniature-flight",
   "metadata": {
    "execution": {
     "iopub.execute_input": "2021-01-29T06:42:55.710648Z",
     "iopub.status.busy": "2021-01-29T06:42:55.710412Z",
     "iopub.status.idle": "2021-01-29T06:42:55.737774Z",
     "shell.execute_reply": "2021-01-29T06:42:55.736953Z",
     "shell.execute_reply.started": "2021-01-29T06:42:55.710622Z"
    }
   },
   "outputs": [],
   "source": [
    "n = [[1, -3, -2], [0, 2, 4], [0, 0, -10]]\n",
    "b = [7, 4, 12]\n",
    "vecs = [list2vec(L) for L in n]"
   ]
  },
  {
   "cell_type": "code",
   "execution_count": 122,
   "id": "intelligent-gateway",
   "metadata": {
    "execution": {
     "iopub.execute_input": "2021-01-29T07:37:13.939087Z",
     "iopub.status.busy": "2021-01-29T07:37:13.938890Z",
     "iopub.status.idle": "2021-01-29T07:37:13.980942Z",
     "shell.execute_reply": "2021-01-29T07:37:13.980340Z",
     "shell.execute_reply.started": "2021-01-29T07:37:13.939068Z"
    }
   },
   "outputs": [],
   "source": [
    "def triangular_solve_n(rowlist, b):\n",
    "    D = rowlist[0].D\n",
    "    n = len(D)\n",
    "    assert D == set(range(n))\n",
    "    x = zero_vec(D)\n",
    "    for i in reversed(range(n)):\n",
    "        x[i] = (b[i] - dot(rowlist[i], x)) / rowlist[i][i]\n",
    "    return x"
   ]
  },
  {
   "cell_type": "code",
   "execution_count": 123,
   "id": "spare-riding",
   "metadata": {
    "execution": {
     "iopub.execute_input": "2021-01-29T07:37:14.733993Z",
     "iopub.status.busy": "2021-01-29T07:37:14.733796Z",
     "iopub.status.idle": "2021-01-29T07:37:14.756001Z",
     "shell.execute_reply": "2021-01-29T07:37:14.755414Z",
     "shell.execute_reply.started": "2021-01-29T07:37:14.733973Z"
    }
   },
   "outputs": [
    {
     "data": {
      "text/plain": [
       "[Vec({0, 1, 2}, {0: 1, 1: -3, 2: -2}),\n",
       " Vec({0, 1, 2}, {0: 0, 1: 2, 2: 4}),\n",
       " Vec({0, 1, 2}, {0: 0, 1: 0, 2: -10})]"
      ]
     },
     "execution_count": 123,
     "metadata": {},
     "output_type": "execute_result"
    }
   ],
   "source": [
    "vecs"
   ]
  },
  {
   "cell_type": "code",
   "execution_count": 127,
   "id": "supposed-shannon",
   "metadata": {
    "execution": {
     "iopub.execute_input": "2021-01-29T07:38:00.904256Z",
     "iopub.status.busy": "2021-01-29T07:38:00.904084Z",
     "iopub.status.idle": "2021-01-29T07:38:01.008732Z",
     "shell.execute_reply": "2021-01-29T07:38:01.007957Z",
     "shell.execute_reply.started": "2021-01-29T07:38:00.904238Z"
    }
   },
   "outputs": [],
   "source": [
    "from coding_the_matrix.vecutil import dot"
   ]
  },
  {
   "cell_type": "code",
   "execution_count": 128,
   "id": "hazardous-population",
   "metadata": {
    "execution": {
     "iopub.execute_input": "2021-01-29T07:38:01.070832Z",
     "iopub.status.busy": "2021-01-29T07:38:01.070601Z",
     "iopub.status.idle": "2021-01-29T07:38:01.098466Z",
     "shell.execute_reply": "2021-01-29T07:38:01.097739Z",
     "shell.execute_reply.started": "2021-01-29T07:38:01.070806Z"
    }
   },
   "outputs": [
    {
     "data": {
      "text/plain": [
       "Vec({0, 1, 2}, {0: 17.8, 1: 4.4, 2: -1.2})"
      ]
     },
     "execution_count": 128,
     "metadata": {},
     "output_type": "execute_result"
    }
   ],
   "source": [
    "triangular_solve_n(vecs, b)"
   ]
  },
  {
   "cell_type": "code",
   "execution_count": 98,
   "id": "greenhouse-german",
   "metadata": {
    "execution": {
     "iopub.execute_input": "2021-01-29T07:26:19.662490Z",
     "iopub.status.busy": "2021-01-29T07:26:19.662257Z",
     "iopub.status.idle": "2021-01-29T07:26:19.690073Z",
     "shell.execute_reply": "2021-01-29T07:26:19.689256Z",
     "shell.execute_reply.started": "2021-01-29T07:26:19.662463Z"
    }
   },
   "outputs": [],
   "source": [
    "from coding_the_matrix.vecutil import *"
   ]
  },
  {
   "cell_type": "code",
   "execution_count": 111,
   "id": "upper-unemployment",
   "metadata": {
    "execution": {
     "iopub.execute_input": "2021-01-29T07:32:50.656485Z",
     "iopub.status.busy": "2021-01-29T07:32:50.656234Z",
     "iopub.status.idle": "2021-01-29T07:32:50.732742Z",
     "shell.execute_reply": "2021-01-29T07:32:50.731651Z",
     "shell.execute_reply.started": "2021-01-29T07:32:50.656458Z"
    }
   },
   "outputs": [],
   "source": [
    "D = vecs[0].D"
   ]
  },
  {
   "cell_type": "code",
   "execution_count": 130,
   "id": "short-individual",
   "metadata": {
    "execution": {
     "iopub.execute_input": "2021-01-29T08:36:08.252832Z",
     "iopub.status.busy": "2021-01-29T08:36:08.252625Z",
     "iopub.status.idle": "2021-01-29T08:36:08.275603Z",
     "shell.execute_reply": "2021-01-29T08:36:08.274725Z",
     "shell.execute_reply.started": "2021-01-29T08:36:08.252809Z"
    }
   },
   "outputs": [],
   "source": [
    "x = zero_vec(D)"
   ]
  },
  {
   "cell_type": "code",
   "execution_count": 139,
   "id": "korean-plastic",
   "metadata": {
    "execution": {
     "iopub.execute_input": "2021-01-29T08:40:39.440863Z",
     "iopub.status.busy": "2021-01-29T08:40:39.440622Z",
     "iopub.status.idle": "2021-01-29T08:40:39.469103Z",
     "shell.execute_reply": "2021-01-29T08:40:39.468236Z",
     "shell.execute_reply.started": "2021-01-29T08:40:39.440836Z"
    }
   },
   "outputs": [],
   "source": [
    "label_list = 'a b c d'.split()\n",
    "D = set(label_list)\n",
    "rowlist = [\n",
    "    Vec(D, {'a': 4, 'b': -2, 'c': .5, 'd': 1}),\n",
    "    Vec(D, {'b': 2, 'c': 3, 'd': 3}),\n",
    "    Vec(D, {'c': 5, 'd': 1}),\n",
    "    Vec(D, {'d': 2}),\n",
    "]\n",
    "b = [6, -4, 3, -8]"
   ]
  },
  {
   "cell_type": "code",
   "execution_count": 140,
   "id": "affected-valley",
   "metadata": {
    "execution": {
     "iopub.execute_input": "2021-01-29T08:40:39.559733Z",
     "iopub.status.busy": "2021-01-29T08:40:39.559449Z",
     "iopub.status.idle": "2021-01-29T08:40:39.587836Z",
     "shell.execute_reply": "2021-01-29T08:40:39.587005Z",
     "shell.execute_reply.started": "2021-01-29T08:40:39.559699Z"
    }
   },
   "outputs": [],
   "source": [
    "def triangular_solve(rowlist, labellist, b):\n",
    "    D = rowlist[0].D\n",
    "    x = zero_vec(D)\n",
    "    for j in reversed(range(len(D))):\n",
    "        c = label_list[j]\n",
    "        row = rowlist[j]\n",
    "        x[c] = (b[j] - dot(x, row))/row[c]\n",
    "    return x"
   ]
  },
  {
   "cell_type": "code",
   "execution_count": 141,
   "id": "white-belief",
   "metadata": {
    "execution": {
     "iopub.execute_input": "2021-01-29T08:40:40.087528Z",
     "iopub.status.busy": "2021-01-29T08:40:40.087288Z",
     "iopub.status.idle": "2021-01-29T08:40:40.115363Z",
     "shell.execute_reply": "2021-01-29T08:40:40.114204Z",
     "shell.execute_reply.started": "2021-01-29T08:40:40.087502Z"
    }
   },
   "outputs": [
    {
     "data": {
      "text/plain": [
       "Vec({'a', 'b', 'd', 'c'}, {'a': 3.2750000000000004, 'b': 1.9000000000000004, 'd': -4.0, 'c': 1.4})"
      ]
     },
     "execution_count": 141,
     "metadata": {},
     "output_type": "execute_result"
    }
   ],
   "source": [
    "triangular_solve(rowlist, label_list, b)"
   ]
  },
  {
   "cell_type": "code",
   "execution_count": 142,
   "id": "accessible-bench",
   "metadata": {
    "execution": {
     "iopub.execute_input": "2021-01-29T08:49:23.099086Z",
     "iopub.status.busy": "2021-01-29T08:49:23.098861Z",
     "iopub.status.idle": "2021-01-29T08:49:23.122140Z",
     "shell.execute_reply": "2021-01-29T08:49:23.121494Z",
     "shell.execute_reply.started": "2021-01-29T08:49:23.099061Z"
    }
   },
   "outputs": [],
   "source": [
    "with open('../coding_the_matrix/data/US_Senate_voting_data_109.txt') as f:\n",
    "    mylist = list(f)"
   ]
  },
  {
   "cell_type": "code",
   "execution_count": 144,
   "id": "starting-subscription",
   "metadata": {
    "execution": {
     "iopub.execute_input": "2021-01-29T08:50:14.211062Z",
     "iopub.status.busy": "2021-01-29T08:50:14.210860Z",
     "iopub.status.idle": "2021-01-29T08:50:14.233800Z",
     "shell.execute_reply": "2021-01-29T08:50:14.233110Z",
     "shell.execute_reply.started": "2021-01-29T08:50:14.211040Z"
    }
   },
   "outputs": [],
   "source": [
    "one_string = mylist[0]"
   ]
  },
  {
   "cell_type": "code",
   "execution_count": 145,
   "id": "breathing-clearance",
   "metadata": {
    "execution": {
     "iopub.execute_input": "2021-01-29T08:50:16.172800Z",
     "iopub.status.busy": "2021-01-29T08:50:16.172555Z",
     "iopub.status.idle": "2021-01-29T08:50:16.197120Z",
     "shell.execute_reply": "2021-01-29T08:50:16.196248Z",
     "shell.execute_reply.started": "2021-01-29T08:50:16.172775Z"
    }
   },
   "outputs": [
    {
     "data": {
      "text/plain": [
       "'Akaka D HI -1 -1 1 1 1 -1 -1 1 1 1 1 1 1 1 -1 1 1 1 -1 1 1 1 1 1 -1 1 -1 -1 1 1 1 1 1 1 0 0 1 -1 -1 1 -1 1 -1 1 1 -1\\n'"
      ]
     },
     "execution_count": 145,
     "metadata": {},
     "output_type": "execute_result"
    }
   ],
   "source": [
    "one_string"
   ]
  },
  {
   "cell_type": "code",
   "execution_count": 243,
   "id": "monetary-thompson",
   "metadata": {
    "execution": {
     "iopub.execute_input": "2021-01-29T09:53:28.957088Z",
     "iopub.status.busy": "2021-01-29T09:53:28.956849Z",
     "iopub.status.idle": "2021-01-29T09:53:28.984578Z",
     "shell.execute_reply": "2021-01-29T09:53:28.983821Z",
     "shell.execute_reply.started": "2021-01-29T09:53:28.957062Z"
    }
   },
   "outputs": [],
   "source": [
    "def create_voting_dict(strlist):\n",
    "    my_list = [\n",
    "        {\n",
    "            \"name\": one_string.split()[0],\n",
    "            'something': one_string.split()[1],\n",
    "            'state': one_string.split()[2],\n",
    "            \"votes\": [int(i) for i in one_string.split()[3:]],\n",
    "        }\n",
    "        for one_string in strlist\n",
    "    ]\n",
    "    return {part['name']: part['votes'] for part in my_list}, pd.DataFrame(my_list)"
   ]
  },
  {
   "cell_type": "code",
   "execution_count": 244,
   "id": "saved-advisory",
   "metadata": {
    "execution": {
     "iopub.execute_input": "2021-01-29T09:53:29.539066Z",
     "iopub.status.busy": "2021-01-29T09:53:29.538824Z",
     "iopub.status.idle": "2021-01-29T09:53:29.567603Z",
     "shell.execute_reply": "2021-01-29T09:53:29.566902Z",
     "shell.execute_reply.started": "2021-01-29T09:53:29.539039Z"
    }
   },
   "outputs": [],
   "source": [
    "voting_dict, df = create_voting_dict(mylist)"
   ]
  },
  {
   "cell_type": "code",
   "execution_count": 182,
   "id": "nasty-james",
   "metadata": {
    "execution": {
     "iopub.execute_input": "2021-01-29T09:03:00.727588Z",
     "iopub.status.busy": "2021-01-29T09:03:00.727357Z",
     "iopub.status.idle": "2021-01-29T09:03:00.754517Z",
     "shell.execute_reply": "2021-01-29T09:03:00.753618Z",
     "shell.execute_reply.started": "2021-01-29T09:03:00.727562Z"
    }
   },
   "outputs": [],
   "source": [
    "def policy_compare(sen_a, sen_b, voting_dict):\n",
    "    vec_a = voting_dict[sen_a]\n",
    "    vec_b = voting_dict[sen_b]\n",
    "    return list_dot(vec_a, vec_b)"
   ]
  },
  {
   "cell_type": "code",
   "execution_count": 204,
   "id": "arabic-south",
   "metadata": {
    "execution": {
     "iopub.execute_input": "2021-01-29T09:08:33.734605Z",
     "iopub.status.busy": "2021-01-29T09:08:33.734364Z",
     "iopub.status.idle": "2021-01-29T09:08:33.757199Z",
     "shell.execute_reply": "2021-01-29T09:08:33.756441Z",
     "shell.execute_reply.started": "2021-01-29T09:08:33.734576Z"
    }
   },
   "outputs": [],
   "source": [
    "senetators = list(voting_dict.keys())"
   ]
  },
  {
   "cell_type": "code",
   "execution_count": 205,
   "id": "narrow-quebec",
   "metadata": {
    "execution": {
     "iopub.execute_input": "2021-01-29T09:08:34.033678Z",
     "iopub.status.busy": "2021-01-29T09:08:34.033416Z",
     "iopub.status.idle": "2021-01-29T09:08:34.061484Z",
     "shell.execute_reply": "2021-01-29T09:08:34.060704Z",
     "shell.execute_reply.started": "2021-01-29T09:08:34.033645Z"
    }
   },
   "outputs": [
    {
     "data": {
      "text/plain": [
       "11"
      ]
     },
     "execution_count": 205,
     "metadata": {},
     "output_type": "execute_result"
    }
   ],
   "source": [
    "policy_compare(senetators[0], senetators[1], voting_dict)"
   ]
  },
  {
   "cell_type": "code",
   "execution_count": 221,
   "id": "consolidated-concord",
   "metadata": {
    "execution": {
     "iopub.execute_input": "2021-01-29T09:14:00.844916Z",
     "iopub.status.busy": "2021-01-29T09:14:00.844713Z",
     "iopub.status.idle": "2021-01-29T09:14:00.870785Z",
     "shell.execute_reply": "2021-01-29T09:14:00.870159Z",
     "shell.execute_reply.started": "2021-01-29T09:14:00.844893Z"
    }
   },
   "outputs": [],
   "source": [
    "def most_similar(sen, voting_dict):\n",
    "    other_senators = set(voting_dict.keys())\n",
    "    other_senators.remove(sen)\n",
    "    \n",
    "    similarity = [(other, policy_compare(sen, other, voting_dict)) for other in other_senators]\n",
    "    similarity.sort(key = lambda x: x[1])\n",
    "    return similarity[-1]"
   ]
  },
  {
   "cell_type": "code",
   "execution_count": 225,
   "id": "planned-welding",
   "metadata": {
    "execution": {
     "iopub.execute_input": "2021-01-29T09:14:12.935518Z",
     "iopub.status.busy": "2021-01-29T09:14:12.935285Z",
     "iopub.status.idle": "2021-01-29T09:14:12.968853Z",
     "shell.execute_reply": "2021-01-29T09:14:12.968101Z",
     "shell.execute_reply.started": "2021-01-29T09:14:12.935493Z"
    }
   },
   "outputs": [
    {
     "data": {
      "text/plain": [
       "('Reed', 43)"
      ]
     },
     "execution_count": 225,
     "metadata": {},
     "output_type": "execute_result"
    }
   ],
   "source": [
    "most_similar(list(senetors)[4], voting_dict)"
   ]
  },
  {
   "cell_type": "code",
   "execution_count": 226,
   "id": "electrical-cycle",
   "metadata": {
    "execution": {
     "iopub.execute_input": "2021-01-29T09:14:44.067502Z",
     "iopub.status.busy": "2021-01-29T09:14:44.067304Z",
     "iopub.status.idle": "2021-01-29T09:14:44.092639Z",
     "shell.execute_reply": "2021-01-29T09:14:44.091908Z",
     "shell.execute_reply.started": "2021-01-29T09:14:44.067481Z"
    }
   },
   "outputs": [],
   "source": [
    "def least_similar(sen, voting_dict):\n",
    "    other_senators = set(voting_dict.keys())\n",
    "    other_senators.remove(sen)\n",
    "    \n",
    "    similarity = [(other, policy_compare(sen, other, voting_dict)) for other in other_senators]\n",
    "    similarity.sort(key = lambda x: x[1])\n",
    "    return similarity[0]"
   ]
  },
  {
   "cell_type": "code",
   "execution_count": 227,
   "id": "convinced-egyptian",
   "metadata": {
    "execution": {
     "iopub.execute_input": "2021-01-29T09:14:51.753284Z",
     "iopub.status.busy": "2021-01-29T09:14:51.753048Z",
     "iopub.status.idle": "2021-01-29T09:14:51.781392Z",
     "shell.execute_reply": "2021-01-29T09:14:51.780646Z",
     "shell.execute_reply.started": "2021-01-29T09:14:51.753258Z"
    }
   },
   "outputs": [
    {
     "data": {
      "text/plain": [
       "('Sununu', 6)"
      ]
     },
     "execution_count": 227,
     "metadata": {},
     "output_type": "execute_result"
    }
   ],
   "source": [
    "least_similar(list(senetors)[4], voting_dict)"
   ]
  },
  {
   "cell_type": "code",
   "execution_count": 230,
   "id": "rational-lounge",
   "metadata": {
    "execution": {
     "iopub.execute_input": "2021-01-29T09:50:19.360978Z",
     "iopub.status.busy": "2021-01-29T09:50:19.360731Z",
     "iopub.status.idle": "2021-01-29T09:50:19.389056Z",
     "shell.execute_reply": "2021-01-29T09:50:19.388179Z",
     "shell.execute_reply.started": "2021-01-29T09:50:19.360951Z"
    }
   },
   "outputs": [
    {
     "data": {
      "text/plain": [
       "['Chafee']"
      ]
     },
     "execution_count": 230,
     "metadata": {},
     "output_type": "execute_result"
    }
   ],
   "source": [
    "[hi for hi in senetors if 'Chaf' in hi]"
   ]
  },
  {
   "cell_type": "code",
   "execution_count": 231,
   "id": "discrete-myrtle",
   "metadata": {
    "execution": {
     "iopub.execute_input": "2021-01-29T09:50:34.084098Z",
     "iopub.status.busy": "2021-01-29T09:50:34.083851Z",
     "iopub.status.idle": "2021-01-29T09:50:34.112078Z",
     "shell.execute_reply": "2021-01-29T09:50:34.111205Z",
     "shell.execute_reply.started": "2021-01-29T09:50:34.084071Z"
    }
   },
   "outputs": [
    {
     "data": {
      "text/plain": [
       "('Jeffords', 40)"
      ]
     },
     "execution_count": 231,
     "metadata": {},
     "output_type": "execute_result"
    }
   ],
   "source": [
    "most_similar('Chafee', voting_dict)"
   ]
  },
  {
   "cell_type": "code",
   "execution_count": 232,
   "id": "unlike-elder",
   "metadata": {
    "execution": {
     "iopub.execute_input": "2021-01-29T09:50:45.569363Z",
     "iopub.status.busy": "2021-01-29T09:50:45.569122Z",
     "iopub.status.idle": "2021-01-29T09:50:45.596056Z",
     "shell.execute_reply": "2021-01-29T09:50:45.595422Z",
     "shell.execute_reply.started": "2021-01-29T09:50:45.569336Z"
    }
   },
   "outputs": [
    {
     "data": {
      "text/plain": [
       "('Feingold', 3)"
      ]
     },
     "execution_count": 232,
     "metadata": {},
     "output_type": "execute_result"
    }
   ],
   "source": [
    "least_similar('Santorum', voting_dict)"
   ]
  },
  {
   "cell_type": "code",
   "execution_count": 247,
   "id": "changing-invitation",
   "metadata": {
    "execution": {
     "iopub.execute_input": "2021-01-29T09:54:46.014695Z",
     "iopub.status.busy": "2021-01-29T09:54:46.014450Z",
     "iopub.status.idle": "2021-01-29T09:54:46.041349Z",
     "shell.execute_reply": "2021-01-29T09:54:46.040699Z",
     "shell.execute_reply.started": "2021-01-29T09:54:46.014668Z"
    }
   },
   "outputs": [
    {
     "data": {
      "text/plain": [
       "10"
      ]
     },
     "execution_count": 247,
     "metadata": {},
     "output_type": "execute_result"
    }
   ],
   "source": [
    "policy_compare(\"Biden\", 'McCain', voting_dict)"
   ]
  },
  {
   "cell_type": "code",
   "execution_count": 278,
   "id": "french-guidance",
   "metadata": {
    "execution": {
     "iopub.execute_input": "2021-01-29T10:02:02.106285Z",
     "iopub.status.busy": "2021-01-29T10:02:02.106043Z",
     "iopub.status.idle": "2021-01-29T10:02:02.132434Z",
     "shell.execute_reply": "2021-01-29T10:02:02.131650Z",
     "shell.execute_reply.started": "2021-01-29T10:02:02.106257Z"
    }
   },
   "outputs": [],
   "source": [
    "def find_average_similarity(sen, sen_set, voting_dict):\n",
    "    # if sen in sen_set:\n",
    "    #     sen_set.remove(sen)\n",
    "    similarity = [policy_compare(sen, other, voting_dict) for other in sen_set]\n",
    "    return sum(similarity) / len(similarity)"
   ]
  },
  {
   "cell_type": "code",
   "execution_count": 279,
   "id": "sublime-concord",
   "metadata": {
    "execution": {
     "iopub.execute_input": "2021-01-29T10:02:02.916450Z",
     "iopub.status.busy": "2021-01-29T10:02:02.916200Z",
     "iopub.status.idle": "2021-01-29T10:02:02.942768Z",
     "shell.execute_reply": "2021-01-29T10:02:02.942070Z",
     "shell.execute_reply.started": "2021-01-29T10:02:02.916422Z"
    }
   },
   "outputs": [],
   "source": [
    "democrats = df.loc[df.something == 'D', 'name'].values.tolist()"
   ]
  },
  {
   "cell_type": "code",
   "execution_count": 280,
   "id": "billion-progress",
   "metadata": {
    "execution": {
     "iopub.execute_input": "2021-01-29T10:02:03.075040Z",
     "iopub.status.busy": "2021-01-29T10:02:03.074844Z",
     "iopub.status.idle": "2021-01-29T10:02:03.096962Z",
     "shell.execute_reply": "2021-01-29T10:02:03.096345Z",
     "shell.execute_reply.started": "2021-01-29T10:02:03.075019Z"
    }
   },
   "outputs": [],
   "source": [
    "republicans = senetors.difference(democrats)"
   ]
  },
  {
   "cell_type": "code",
   "execution_count": 319,
   "id": "flying-seeker",
   "metadata": {
    "execution": {
     "iopub.execute_input": "2021-01-29T10:13:34.867883Z",
     "iopub.status.busy": "2021-01-29T10:13:34.867629Z",
     "iopub.status.idle": "2021-01-29T10:13:34.914847Z",
     "shell.execute_reply": "2021-01-29T10:13:34.914142Z",
     "shell.execute_reply.started": "2021-01-29T10:13:34.867855Z"
    }
   },
   "outputs": [],
   "source": [
    "similarity = [(sen, find_average_similarity(sen, set(democrats), voting_dict)) for sen in senetors]"
   ]
  },
  {
   "cell_type": "code",
   "execution_count": 320,
   "id": "flexible-snapshot",
   "metadata": {
    "execution": {
     "iopub.execute_input": "2021-01-29T10:13:35.223968Z",
     "iopub.status.busy": "2021-01-29T10:13:35.223728Z",
     "iopub.status.idle": "2021-01-29T10:13:35.249757Z",
     "shell.execute_reply": "2021-01-29T10:13:35.248977Z",
     "shell.execute_reply.started": "2021-01-29T10:13:35.223941Z"
    }
   },
   "outputs": [],
   "source": [
    "similarity.sort(key = lambda x: x[1])"
   ]
  },
  {
   "cell_type": "code",
   "execution_count": 321,
   "id": "specified-battery",
   "metadata": {
    "execution": {
     "iopub.execute_input": "2021-01-29T10:13:35.419324Z",
     "iopub.status.busy": "2021-01-29T10:13:35.419091Z",
     "iopub.status.idle": "2021-01-29T10:13:35.446146Z",
     "shell.execute_reply": "2021-01-29T10:13:35.445364Z",
     "shell.execute_reply.started": "2021-01-29T10:13:35.419298Z"
    }
   },
   "outputs": [
    {
     "data": {
      "text/plain": [
       "('Biden', 34.86046511627907)"
      ]
     },
     "execution_count": 321,
     "metadata": {},
     "output_type": "execute_result"
    }
   ],
   "source": [
    "similarity[-1]"
   ]
  },
  {
   "cell_type": "code",
   "execution_count": 307,
   "id": "charming-measure",
   "metadata": {
    "execution": {
     "iopub.execute_input": "2021-01-29T10:08:55.304191Z",
     "iopub.status.busy": "2021-01-29T10:08:55.303941Z",
     "iopub.status.idle": "2021-01-29T10:08:55.331534Z",
     "shell.execute_reply": "2021-01-29T10:08:55.330659Z",
     "shell.execute_reply.started": "2021-01-29T10:08:55.304162Z"
    }
   },
   "outputs": [],
   "source": [
    "def find_average_record(sen_set, voting_dict):\n",
    "    votes = [voting_dict[sen] for sen in sen_set]\n",
    "    total = reduce(lambda a, b: [a[i] + b[i] for i in range(len(a))], votes) \n",
    "    average = [i/len(votes) for i in total]\n",
    "    return average"
   ]
  },
  {
   "cell_type": "code",
   "execution_count": 308,
   "id": "simple-ownership",
   "metadata": {
    "execution": {
     "iopub.execute_input": "2021-01-29T10:09:15.345290Z",
     "iopub.status.busy": "2021-01-29T10:09:15.345031Z",
     "iopub.status.idle": "2021-01-29T10:09:15.371940Z",
     "shell.execute_reply": "2021-01-29T10:09:15.371140Z",
     "shell.execute_reply.started": "2021-01-29T10:09:15.345261Z"
    }
   },
   "outputs": [],
   "source": [
    "average_democrat = find_average_record(democrats, voting_dict)"
   ]
  },
  {
   "cell_type": "code",
   "execution_count": 314,
   "id": "ahead-spiritual",
   "metadata": {
    "execution": {
     "iopub.execute_input": "2021-01-29T10:12:58.238245Z",
     "iopub.status.busy": "2021-01-29T10:12:58.237977Z",
     "iopub.status.idle": "2021-01-29T10:12:58.265588Z",
     "shell.execute_reply": "2021-01-29T10:12:58.264892Z",
     "shell.execute_reply.started": "2021-01-29T10:12:58.238217Z"
    }
   },
   "outputs": [],
   "source": [
    "def most_similar_(vector, voting_dict):\n",
    "    all_similarity = [(sen, similarity(vector, sen, voting_dict)) for sen in voting_dict.keys()]\n",
    "    all_similarity.sort(key=lambda x: x[1])\n",
    "    return all_similarity[-1]"
   ]
  },
  {
   "cell_type": "code",
   "execution_count": 317,
   "id": "congressional-tulsa",
   "metadata": {
    "execution": {
     "iopub.execute_input": "2021-01-29T10:13:07.756457Z",
     "iopub.status.busy": "2021-01-29T10:13:07.756213Z",
     "iopub.status.idle": "2021-01-29T10:13:07.783255Z",
     "shell.execute_reply": "2021-01-29T10:13:07.782353Z",
     "shell.execute_reply.started": "2021-01-29T10:13:07.756431Z"
    }
   },
   "outputs": [],
   "source": [
    "def similarity(vector, sen, voting_dict):\n",
    "    return list_dot(vector, voting_dict[sen])"
   ]
  },
  {
   "cell_type": "code",
   "execution_count": 318,
   "id": "inappropriate-vietnamese",
   "metadata": {
    "execution": {
     "iopub.execute_input": "2021-01-29T10:13:07.989109Z",
     "iopub.status.busy": "2021-01-29T10:13:07.988862Z",
     "iopub.status.idle": "2021-01-29T10:13:08.017391Z",
     "shell.execute_reply": "2021-01-29T10:13:08.016720Z",
     "shell.execute_reply.started": "2021-01-29T10:13:07.989082Z"
    }
   },
   "outputs": [
    {
     "data": {
      "text/plain": [
       "('Biden', 34.860465116279066)"
      ]
     },
     "execution_count": 318,
     "metadata": {},
     "output_type": "execute_result"
    }
   ],
   "source": [
    "most_similar_(average_democrat, voting_dict)"
   ]
  },
  {
   "cell_type": "code",
   "execution_count": 286,
   "id": "fossil-orientation",
   "metadata": {
    "execution": {
     "iopub.execute_input": "2021-01-29T10:03:26.860151Z",
     "iopub.status.busy": "2021-01-29T10:03:26.859868Z",
     "iopub.status.idle": "2021-01-29T10:03:26.886593Z",
     "shell.execute_reply": "2021-01-29T10:03:26.885739Z",
     "shell.execute_reply.started": "2021-01-29T10:03:26.860120Z"
    }
   },
   "outputs": [],
   "source": [
    "sen = democrats[0]"
   ]
  },
  {
   "cell_type": "code",
   "execution_count": 287,
   "id": "annual-mortgage",
   "metadata": {
    "execution": {
     "iopub.execute_input": "2021-01-29T10:03:28.670188Z",
     "iopub.status.busy": "2021-01-29T10:03:28.669912Z",
     "iopub.status.idle": "2021-01-29T10:03:28.697839Z",
     "shell.execute_reply": "2021-01-29T10:03:28.696953Z",
     "shell.execute_reply.started": "2021-01-29T10:03:28.670155Z"
    }
   },
   "outputs": [
    {
     "data": {
      "text/plain": [
       "'Akaka'"
      ]
     },
     "execution_count": 287,
     "metadata": {},
     "output_type": "execute_result"
    }
   ],
   "source": [
    "sen"
   ]
  },
  {
   "cell_type": "code",
   "execution_count": 289,
   "id": "clinical-tackle",
   "metadata": {
    "execution": {
     "iopub.execute_input": "2021-01-29T10:05:39.664237Z",
     "iopub.status.busy": "2021-01-29T10:05:39.663701Z",
     "iopub.status.idle": "2021-01-29T10:05:39.688354Z",
     "shell.execute_reply": "2021-01-29T10:05:39.687571Z",
     "shell.execute_reply.started": "2021-01-29T10:05:39.664190Z"
    }
   },
   "outputs": [],
   "source": [
    "from functools import reduce"
   ]
  },
  {
   "cell_type": "code",
   "execution_count": 293,
   "id": "devoted-density",
   "metadata": {
    "execution": {
     "iopub.execute_input": "2021-01-29T10:06:54.795588Z",
     "iopub.status.busy": "2021-01-29T10:06:54.795326Z",
     "iopub.status.idle": "2021-01-29T10:06:54.822289Z",
     "shell.execute_reply": "2021-01-29T10:06:54.821449Z",
     "shell.execute_reply.started": "2021-01-29T10:06:54.795561Z"
    }
   },
   "outputs": [],
   "source": [
    "votes = [voting_dict[sen] for sen in sen_set]"
   ]
  },
  {
   "cell_type": "code",
   "execution_count": 301,
   "id": "homeless-taylor",
   "metadata": {
    "execution": {
     "iopub.execute_input": "2021-01-29T10:07:50.763657Z",
     "iopub.status.busy": "2021-01-29T10:07:50.763409Z",
     "iopub.status.idle": "2021-01-29T10:07:50.791596Z",
     "shell.execute_reply": "2021-01-29T10:07:50.790620Z",
     "shell.execute_reply.started": "2021-01-29T10:07:50.763629Z"
    }
   },
   "outputs": [
    {
     "data": {
      "text/plain": [
       "46"
      ]
     },
     "execution_count": 301,
     "metadata": {},
     "output_type": "execute_result"
    }
   ],
   "source": [
    "len(votes[0])"
   ]
  },
  {
   "cell_type": "code",
   "execution_count": 302,
   "id": "exceptional-mouth",
   "metadata": {
    "execution": {
     "iopub.execute_input": "2021-01-29T10:08:00.027144Z",
     "iopub.status.busy": "2021-01-29T10:08:00.026900Z",
     "iopub.status.idle": "2021-01-29T10:08:00.053785Z",
     "shell.execute_reply": "2021-01-29T10:08:00.052907Z",
     "shell.execute_reply.started": "2021-01-29T10:08:00.027118Z"
    }
   },
   "outputs": [],
   "source": [
    "total = reduce(lambda a, b: [a[i] + b[i] for i in range(len(a))], votes) "
   ]
  },
  {
   "cell_type": "code",
   "execution_count": 304,
   "id": "amber-nowhere",
   "metadata": {
    "execution": {
     "iopub.execute_input": "2021-01-29T10:08:28.951791Z",
     "iopub.status.busy": "2021-01-29T10:08:28.951553Z",
     "iopub.status.idle": "2021-01-29T10:08:28.978018Z",
     "shell.execute_reply": "2021-01-29T10:08:28.977149Z",
     "shell.execute_reply.started": "2021-01-29T10:08:28.951765Z"
    }
   },
   "outputs": [],
   "source": [
    "average = [i/len(votes) for i in total]"
   ]
  },
  {
   "cell_type": "code",
   "execution_count": 331,
   "id": "portuguese-carry",
   "metadata": {
    "execution": {
     "iopub.execute_input": "2021-01-30T09:29:58.594241Z",
     "iopub.status.busy": "2021-01-30T09:29:58.594005Z",
     "iopub.status.idle": "2021-01-30T09:29:58.620994Z",
     "shell.execute_reply": "2021-01-30T09:29:58.620170Z",
     "shell.execute_reply.started": "2021-01-30T09:29:58.594214Z"
    }
   },
   "outputs": [],
   "source": [
    "def bitter_rivals(voting_dict):\n",
    "    \"\"\"Get the 2 senators with the smallest dist\"\"\"\n",
    "    all_least_similar = [(sen, *least_similar(sen, voting_dict)) for sen in voting_dict.keys()]\n",
    "    all_least_similar.sort(key=lambda x: x[2])\n",
    "    return all_least_similar"
   ]
  },
  {
   "cell_type": "code",
   "execution_count": 334,
   "id": "asian-banana",
   "metadata": {
    "execution": {
     "iopub.execute_input": "2021-01-30T09:30:21.894999Z",
     "iopub.status.busy": "2021-01-30T09:30:21.894753Z",
     "iopub.status.idle": "2021-01-30T09:30:21.967208Z",
     "shell.execute_reply": "2021-01-30T09:30:21.966440Z",
     "shell.execute_reply.started": "2021-01-30T09:30:21.894970Z"
    }
   },
   "outputs": [
    {
     "data": {
      "text/plain": [
       "('Feingold', 'Inhofe', -3)"
      ]
     },
     "execution_count": 334,
     "metadata": {},
     "output_type": "execute_result"
    }
   ],
   "source": [
    "bitter_rivals(voting_dict)[0]"
   ]
  },
  {
   "cell_type": "code",
   "execution_count": 335,
   "id": "threatened-prerequisite",
   "metadata": {
    "execution": {
     "iopub.execute_input": "2021-01-30T09:32:18.706595Z",
     "iopub.status.busy": "2021-01-30T09:32:18.706405Z",
     "iopub.status.idle": "2021-01-30T09:32:18.732334Z",
     "shell.execute_reply": "2021-01-30T09:32:18.731642Z",
     "shell.execute_reply.started": "2021-01-30T09:32:18.706575Z"
    }
   },
   "outputs": [],
   "source": [
    "a = '1100000'\n",
    "b = '0110000'\n",
    "c = '0011000'\n",
    "d = '0001100'\n",
    "e = '0000110'\n",
    "f = '0000011'\n",
    "\n",
    "u = '0010010'\n",
    "v = '0100010'"
   ]
  },
  {
   "cell_type": "code",
   "execution_count": 345,
   "id": "bridal-performance",
   "metadata": {
    "execution": {
     "iopub.execute_input": "2021-01-30T09:35:39.785768Z",
     "iopub.status.busy": "2021-01-30T09:35:39.785523Z",
     "iopub.status.idle": "2021-01-30T09:35:39.814242Z",
     "shell.execute_reply": "2021-01-30T09:35:39.813435Z",
     "shell.execute_reply.started": "2021-01-30T09:35:39.785741Z"
    }
   },
   "outputs": [
    {
     "name": "stdout",
     "output_type": "stream",
     "text": [
      "'a': a,\n",
      "'b': b,\n",
      "'c': c,\n",
      "'d': d,\n",
      "'e': e,\n",
      "'f': f,\n"
     ]
    }
   ],
   "source": [
    "for letter in 'abcdef':\n",
    "    print(f\"'{letter}': {letter},\")"
   ]
  },
  {
   "cell_type": "code",
   "execution_count": 355,
   "id": "hollywood-mountain",
   "metadata": {
    "execution": {
     "iopub.execute_input": "2021-01-30T09:38:15.304113Z",
     "iopub.status.busy": "2021-01-30T09:38:15.303868Z",
     "iopub.status.idle": "2021-01-30T09:38:15.330926Z",
     "shell.execute_reply": "2021-01-30T09:38:15.330064Z",
     "shell.execute_reply.started": "2021-01-30T09:38:15.304087Z"
    }
   },
   "outputs": [],
   "source": [
    "alphabet_to_vector = {\n",
    "    \"a\": a,\n",
    "    \"b\": b,\n",
    "    \"c\": c,\n",
    "    \"d\": d,\n",
    "    \"e\": e,\n",
    "    \"f\": f,\n",
    "}"
   ]
  },
  {
   "cell_type": "code",
   "execution_count": 336,
   "id": "compact-stretch",
   "metadata": {
    "execution": {
     "iopub.execute_input": "2021-01-30T09:33:23.247592Z",
     "iopub.status.busy": "2021-01-30T09:33:23.247357Z",
     "iopub.status.idle": "2021-01-30T09:33:23.273395Z",
     "shell.execute_reply": "2021-01-30T09:33:23.272589Z",
     "shell.execute_reply.started": "2021-01-30T09:33:23.247566Z"
    }
   },
   "outputs": [],
   "source": [
    "# make a dict of {a, b, c} -> sum\n",
    "# and find u in sum (or result.values()) \n",
    "\n",
    "# for all permutations of a ~ f\n",
    "# sum -> "
   ]
  },
  {
   "cell_type": "code",
   "execution_count": 456,
   "id": "coordinated-karen",
   "metadata": {
    "execution": {
     "iopub.execute_input": "2021-01-30T15:10:43.086034Z",
     "iopub.status.busy": "2021-01-30T15:10:43.085782Z",
     "iopub.status.idle": "2021-01-30T15:10:43.113091Z",
     "shell.execute_reply": "2021-01-30T15:10:43.112284Z",
     "shell.execute_reply.started": "2021-01-30T15:10:43.086006Z"
    }
   },
   "outputs": [],
   "source": [
    "from coding_the_matrix.GF2 import one\n",
    "\n",
    "def list2gf(L):\n",
    "    \"\"\"Vec with domain {0, 1, ..., len(L)} and v[i] = L[i]\n",
    "    \"\"\"\n",
    "    str2gf = {\n",
    "        '0': 0,\n",
    "        '1': one,\n",
    "    }\n",
    "    return Vec(set(range(len(L))), {i: str2gf[L[i]] for i in range(len(L))})"
   ]
  },
  {
   "cell_type": "code",
   "execution_count": 525,
   "id": "worst-notebook",
   "metadata": {
    "execution": {
     "iopub.execute_input": "2021-01-30T15:28:02.944459Z",
     "iopub.status.busy": "2021-01-30T15:28:02.944201Z",
     "iopub.status.idle": "2021-01-30T15:28:03.193541Z",
     "shell.execute_reply": "2021-01-30T15:28:03.192649Z",
     "shell.execute_reply.started": "2021-01-30T15:28:02.944433Z"
    }
   },
   "outputs": [],
   "source": [
    "\n",
    "def find_all_combinations(alphabet_to_vector):\n",
    "    \n",
    "    for_df = []\n",
    "\n",
    "    for i in range(2**len(alphabet_to_vector)):\n",
    "        # find representation (the selection of a to f)\n",
    "        representation = f\"{i:06b}\"\n",
    "\n",
    "        #  select alphabets\n",
    "        selection = ['abcdef'[i] for i, c in enumerate(representation) if c == '1']\n",
    "\n",
    "        # get vectors as strings\n",
    "        strings = [alphabet_to_vector[c] for c in selection]\n",
    "\n",
    "        # vectors to GF(2)\n",
    "        vectors = [list2gf(i) for i in strings]\n",
    "\n",
    "        # find sum\n",
    "        sum_vector = reduce(lambda x, y: x + y, vectors, zero_vec(set(range(7))))\n",
    "\n",
    "        # sum as str (a vector of 7 digits)\n",
    "        sum_str = ''.join([str(i) for i in sum_vector.f.values()])\n",
    "\n",
    "        # add to answer\n",
    "        for_df.append({\n",
    "            'representation': representation,\n",
    "            'selection': selection,\n",
    "            'total': sum_vector,\n",
    "            'sum_str': sum_str,\n",
    "        }.copy())\n",
    "        \n",
    "    df = pd.DataFrame(for_df)\n",
    "    \n",
    "    return df"
   ]
  },
  {
   "cell_type": "code",
   "execution_count": 526,
   "id": "headed-ghost",
   "metadata": {
    "execution": {
     "iopub.execute_input": "2021-01-30T15:28:03.195444Z",
     "iopub.status.busy": "2021-01-30T15:28:03.195129Z",
     "iopub.status.idle": "2021-01-30T15:28:03.226402Z",
     "shell.execute_reply": "2021-01-30T15:28:03.225438Z",
     "shell.execute_reply.started": "2021-01-30T15:28:03.195406Z"
    }
   },
   "outputs": [],
   "source": [
    "df = find_all_combinations(alphabet_to_vector)"
   ]
  },
  {
   "cell_type": "code",
   "execution_count": 527,
   "id": "violent-delay",
   "metadata": {
    "execution": {
     "iopub.execute_input": "2021-01-30T15:28:03.240791Z",
     "iopub.status.busy": "2021-01-30T15:28:03.240550Z",
     "iopub.status.idle": "2021-01-30T15:28:03.277115Z",
     "shell.execute_reply": "2021-01-30T15:28:03.276393Z",
     "shell.execute_reply.started": "2021-01-30T15:28:03.240763Z"
    }
   },
   "outputs": [
    {
     "data": {
      "text/html": [
       "<div>\n",
       "<style scoped>\n",
       "    .dataframe tbody tr th:only-of-type {\n",
       "        vertical-align: middle;\n",
       "    }\n",
       "\n",
       "    .dataframe tbody tr th {\n",
       "        vertical-align: top;\n",
       "    }\n",
       "\n",
       "    .dataframe thead th {\n",
       "        text-align: right;\n",
       "    }\n",
       "</style>\n",
       "<table border=\"1\" class=\"dataframe\">\n",
       "  <thead>\n",
       "    <tr style=\"text-align: right;\">\n",
       "      <th></th>\n",
       "      <th>representation</th>\n",
       "      <th>selection</th>\n",
       "      <th>total</th>\n",
       "      <th>sum_str</th>\n",
       "    </tr>\n",
       "  </thead>\n",
       "  <tbody>\n",
       "    <tr>\n",
       "      <th>0</th>\n",
       "      <td>000000</td>\n",
       "      <td>[]</td>\n",
       "      <td>Vec({0, 1, 2, 3, 4, 5, 6}, {0: 0, 1: 0, 2: 0, ...</td>\n",
       "      <td>0000000</td>\n",
       "    </tr>\n",
       "    <tr>\n",
       "      <th>1</th>\n",
       "      <td>000001</td>\n",
       "      <td>[f]</td>\n",
       "      <td>Vec({0, 1, 2, 3, 4, 5, 6}, {0: 0, 1: 0, 2: 0, ...</td>\n",
       "      <td>0000011</td>\n",
       "    </tr>\n",
       "    <tr>\n",
       "      <th>...</th>\n",
       "      <td>...</td>\n",
       "      <td>...</td>\n",
       "      <td>...</td>\n",
       "      <td>...</td>\n",
       "    </tr>\n",
       "    <tr>\n",
       "      <th>62</th>\n",
       "      <td>111110</td>\n",
       "      <td>[a, b, c, d, e]</td>\n",
       "      <td>Vec({0, 1, 2, 3, 4, 5, 6}, {0: 1, 1: 0, 2: 0, ...</td>\n",
       "      <td>1000010</td>\n",
       "    </tr>\n",
       "    <tr>\n",
       "      <th>63</th>\n",
       "      <td>111111</td>\n",
       "      <td>[a, b, c, d, e, f]</td>\n",
       "      <td>Vec({0, 1, 2, 3, 4, 5, 6}, {0: 1, 1: 0, 2: 0, ...</td>\n",
       "      <td>1000001</td>\n",
       "    </tr>\n",
       "  </tbody>\n",
       "</table>\n",
       "<p>64 rows × 4 columns</p>\n",
       "</div>"
      ],
      "text/plain": [
       "   representation           selection  \\\n",
       "0          000000                  []   \n",
       "1          000001                 [f]   \n",
       "..            ...                 ...   \n",
       "62         111110     [a, b, c, d, e]   \n",
       "63         111111  [a, b, c, d, e, f]   \n",
       "\n",
       "                                                total  sum_str  \n",
       "0   Vec({0, 1, 2, 3, 4, 5, 6}, {0: 0, 1: 0, 2: 0, ...  0000000  \n",
       "1   Vec({0, 1, 2, 3, 4, 5, 6}, {0: 0, 1: 0, 2: 0, ...  0000011  \n",
       "..                                                ...      ...  \n",
       "62  Vec({0, 1, 2, 3, 4, 5, 6}, {0: 1, 1: 0, 2: 0, ...  1000010  \n",
       "63  Vec({0, 1, 2, 3, 4, 5, 6}, {0: 1, 1: 0, 2: 0, ...  1000001  \n",
       "\n",
       "[64 rows x 4 columns]"
      ]
     },
     "execution_count": 527,
     "metadata": {},
     "output_type": "execute_result"
    }
   ],
   "source": [
    "df"
   ]
  },
  {
   "cell_type": "code",
   "execution_count": 528,
   "id": "signal-queue",
   "metadata": {
    "execution": {
     "iopub.execute_input": "2021-01-30T15:28:03.411684Z",
     "iopub.status.busy": "2021-01-30T15:28:03.411399Z",
     "iopub.status.idle": "2021-01-30T15:28:03.441368Z",
     "shell.execute_reply": "2021-01-30T15:28:03.440567Z",
     "shell.execute_reply.started": "2021-01-30T15:28:03.411650Z"
    }
   },
   "outputs": [
    {
     "data": {
      "text/plain": [
       "True"
      ]
     },
     "execution_count": 528,
     "metadata": {},
     "output_type": "execute_result"
    }
   ],
   "source": [
    "u in df.sum_str.tolist()"
   ]
  },
  {
   "cell_type": "code",
   "execution_count": 529,
   "id": "fewer-basin",
   "metadata": {
    "execution": {
     "iopub.execute_input": "2021-01-30T15:28:03.608630Z",
     "iopub.status.busy": "2021-01-30T15:28:03.608357Z",
     "iopub.status.idle": "2021-01-30T15:28:03.636925Z",
     "shell.execute_reply": "2021-01-30T15:28:03.636043Z",
     "shell.execute_reply.started": "2021-01-30T15:28:03.608602Z"
    }
   },
   "outputs": [
    {
     "data": {
      "text/plain": [
       "False"
      ]
     },
     "execution_count": 529,
     "metadata": {},
     "output_type": "execute_result"
    }
   ],
   "source": [
    "list2gf(u) in df.total"
   ]
  },
  {
   "cell_type": "code",
   "execution_count": 530,
   "id": "hindu-mambo",
   "metadata": {
    "execution": {
     "iopub.execute_input": "2021-01-30T15:28:16.053566Z",
     "iopub.status.busy": "2021-01-30T15:28:16.053325Z",
     "iopub.status.idle": "2021-01-30T15:28:16.080923Z",
     "shell.execute_reply": "2021-01-30T15:28:16.080200Z",
     "shell.execute_reply.started": "2021-01-30T15:28:16.053539Z"
    }
   },
   "outputs": [
    {
     "data": {
      "text/plain": [
       "True"
      ]
     },
     "execution_count": 530,
     "metadata": {},
     "output_type": "execute_result"
    }
   ],
   "source": [
    "list2gf(u) in df.total.tolist()"
   ]
  },
  {
   "cell_type": "code",
   "execution_count": 531,
   "id": "needed-installation",
   "metadata": {
    "execution": {
     "iopub.execute_input": "2021-01-30T15:28:35.975951Z",
     "iopub.status.busy": "2021-01-30T15:28:35.975708Z",
     "iopub.status.idle": "2021-01-30T15:28:36.003381Z",
     "shell.execute_reply": "2021-01-30T15:28:36.002460Z",
     "shell.execute_reply.started": "2021-01-30T15:28:35.975925Z"
    }
   },
   "outputs": [
    {
     "data": {
      "text/plain": [
       "True"
      ]
     },
     "execution_count": 531,
     "metadata": {},
     "output_type": "execute_result"
    }
   ],
   "source": [
    "list2gf(v) in df.total.tolist()"
   ]
  },
  {
   "cell_type": "code",
   "execution_count": 534,
   "id": "banned-master",
   "metadata": {
    "execution": {
     "iopub.execute_input": "2021-01-30T15:37:32.496082Z",
     "iopub.status.busy": "2021-01-30T15:37:32.495847Z",
     "iopub.status.idle": "2021-01-30T15:37:32.528486Z",
     "shell.execute_reply": "2021-01-30T15:37:32.527852Z",
     "shell.execute_reply.started": "2021-01-30T15:37:32.496056Z"
    }
   },
   "outputs": [
    {
     "data": {
      "text/html": [
       "<div>\n",
       "<style scoped>\n",
       "    .dataframe tbody tr th:only-of-type {\n",
       "        vertical-align: middle;\n",
       "    }\n",
       "\n",
       "    .dataframe tbody tr th {\n",
       "        vertical-align: top;\n",
       "    }\n",
       "\n",
       "    .dataframe thead th {\n",
       "        text-align: right;\n",
       "    }\n",
       "</style>\n",
       "<table border=\"1\" class=\"dataframe\">\n",
       "  <thead>\n",
       "    <tr style=\"text-align: right;\">\n",
       "      <th></th>\n",
       "      <th>representation</th>\n",
       "      <th>selection</th>\n",
       "      <th>total</th>\n",
       "      <th>sum_str</th>\n",
       "    </tr>\n",
       "  </thead>\n",
       "  <tbody>\n",
       "    <tr>\n",
       "      <th>30</th>\n",
       "      <td>011110</td>\n",
       "      <td>[b, c, d, e]</td>\n",
       "      <td>Vec({0, 1, 2, 3, 4, 5, 6}, {0: 0, 1: 1, 2: 0, ...</td>\n",
       "      <td>0100010</td>\n",
       "    </tr>\n",
       "  </tbody>\n",
       "</table>\n",
       "</div>"
      ],
      "text/plain": [
       "   representation     selection  \\\n",
       "30         011110  [b, c, d, e]   \n",
       "\n",
       "                                                total  sum_str  \n",
       "30  Vec({0, 1, 2, 3, 4, 5, 6}, {0: 0, 1: 1, 2: 0, ...  0100010  "
      ]
     },
     "execution_count": 534,
     "metadata": {},
     "output_type": "execute_result"
    }
   ],
   "source": [
    "df[df.total == list2gf(v)]"
   ]
  },
  {
   "cell_type": "code",
   "execution_count": 535,
   "id": "engaging-window",
   "metadata": {
    "execution": {
     "iopub.execute_input": "2021-01-30T15:40:11.741928Z",
     "iopub.status.busy": "2021-01-30T15:40:11.741698Z",
     "iopub.status.idle": "2021-01-30T15:40:11.767998Z",
     "shell.execute_reply": "2021-01-30T15:40:11.767176Z",
     "shell.execute_reply.started": "2021-01-30T15:40:11.741904Z"
    }
   },
   "outputs": [],
   "source": [
    "a = '1110000'\n",
    "b = '0111000'\n",
    "c = '0011100'\n",
    "d = '0001110'\n",
    "e = '0000111'\n",
    "f = '0000011'\n",
    "\n",
    "u = '0010010'\n",
    "v = '0100010'"
   ]
  },
  {
   "cell_type": "code",
   "execution_count": 536,
   "id": "owned-gamma",
   "metadata": {
    "execution": {
     "iopub.execute_input": "2021-01-30T15:40:11.934711Z",
     "iopub.status.busy": "2021-01-30T15:40:11.934505Z",
     "iopub.status.idle": "2021-01-30T15:40:11.957364Z",
     "shell.execute_reply": "2021-01-30T15:40:11.956605Z",
     "shell.execute_reply.started": "2021-01-30T15:40:11.934688Z"
    }
   },
   "outputs": [],
   "source": [
    "alphabet_to_vector = {\n",
    "    \"a\": a,\n",
    "    \"b\": b,\n",
    "    \"c\": c,\n",
    "    \"d\": d,\n",
    "    \"e\": e,\n",
    "    \"f\": f,\n",
    "}"
   ]
  },
  {
   "cell_type": "code",
   "execution_count": 537,
   "id": "saved-banner",
   "metadata": {
    "execution": {
     "iopub.execute_input": "2021-01-30T15:40:24.285458Z",
     "iopub.status.busy": "2021-01-30T15:40:24.285168Z",
     "iopub.status.idle": "2021-01-30T15:40:24.314640Z",
     "shell.execute_reply": "2021-01-30T15:40:24.313778Z",
     "shell.execute_reply.started": "2021-01-30T15:40:24.285426Z"
    }
   },
   "outputs": [],
   "source": [
    "df = find_all_combinations(alphabet_to_vector)"
   ]
  },
  {
   "cell_type": "code",
   "execution_count": 538,
   "id": "absolute-charge",
   "metadata": {
    "execution": {
     "iopub.execute_input": "2021-01-30T15:40:33.372402Z",
     "iopub.status.busy": "2021-01-30T15:40:33.372151Z",
     "iopub.status.idle": "2021-01-30T15:40:33.405226Z",
     "shell.execute_reply": "2021-01-30T15:40:33.404478Z",
     "shell.execute_reply.started": "2021-01-30T15:40:33.372373Z"
    }
   },
   "outputs": [
    {
     "data": {
      "text/html": [
       "<div>\n",
       "<style scoped>\n",
       "    .dataframe tbody tr th:only-of-type {\n",
       "        vertical-align: middle;\n",
       "    }\n",
       "\n",
       "    .dataframe tbody tr th {\n",
       "        vertical-align: top;\n",
       "    }\n",
       "\n",
       "    .dataframe thead th {\n",
       "        text-align: right;\n",
       "    }\n",
       "</style>\n",
       "<table border=\"1\" class=\"dataframe\">\n",
       "  <thead>\n",
       "    <tr style=\"text-align: right;\">\n",
       "      <th></th>\n",
       "      <th>representation</th>\n",
       "      <th>selection</th>\n",
       "      <th>total</th>\n",
       "      <th>sum_str</th>\n",
       "    </tr>\n",
       "  </thead>\n",
       "  <tbody>\n",
       "    <tr>\n",
       "      <th>12</th>\n",
       "      <td>001100</td>\n",
       "      <td>[c, d]</td>\n",
       "      <td>Vec({0, 1, 2, 3, 4, 5, 6}, {0: 0, 1: 0, 2: 1, ...</td>\n",
       "      <td>0010010</td>\n",
       "    </tr>\n",
       "  </tbody>\n",
       "</table>\n",
       "</div>"
      ],
      "text/plain": [
       "   representation selection  \\\n",
       "12         001100    [c, d]   \n",
       "\n",
       "                                                total  sum_str  \n",
       "12  Vec({0, 1, 2, 3, 4, 5, 6}, {0: 0, 1: 0, 2: 1, ...  0010010  "
      ]
     },
     "execution_count": 538,
     "metadata": {},
     "output_type": "execute_result"
    }
   ],
   "source": [
    "df[df.total == list2gf(u)]"
   ]
  },
  {
   "cell_type": "code",
   "execution_count": 539,
   "id": "efficient-gates",
   "metadata": {
    "execution": {
     "iopub.execute_input": "2021-01-30T15:40:50.921678Z",
     "iopub.status.busy": "2021-01-30T15:40:50.921434Z",
     "iopub.status.idle": "2021-01-30T15:40:50.955218Z",
     "shell.execute_reply": "2021-01-30T15:40:50.954386Z",
     "shell.execute_reply.started": "2021-01-30T15:40:50.921650Z"
    }
   },
   "outputs": [
    {
     "data": {
      "text/html": [
       "<div>\n",
       "<style scoped>\n",
       "    .dataframe tbody tr th:only-of-type {\n",
       "        vertical-align: middle;\n",
       "    }\n",
       "\n",
       "    .dataframe tbody tr th {\n",
       "        vertical-align: top;\n",
       "    }\n",
       "\n",
       "    .dataframe thead th {\n",
       "        text-align: right;\n",
       "    }\n",
       "</style>\n",
       "<table border=\"1\" class=\"dataframe\">\n",
       "  <thead>\n",
       "    <tr style=\"text-align: right;\">\n",
       "      <th></th>\n",
       "      <th>representation</th>\n",
       "      <th>selection</th>\n",
       "      <th>total</th>\n",
       "      <th>sum_str</th>\n",
       "    </tr>\n",
       "  </thead>\n",
       "  <tbody>\n",
       "  </tbody>\n",
       "</table>\n",
       "</div>"
      ],
      "text/plain": [
       "Empty DataFrame\n",
       "Columns: [representation, selection, total, sum_str]\n",
       "Index: []"
      ]
     },
     "execution_count": 539,
     "metadata": {},
     "output_type": "execute_result"
    }
   ],
   "source": [
    "df[df.total == list2gf(v)]"
   ]
  },
  {
   "cell_type": "code",
   "execution_count": null,
   "id": "sporting-canberra",
   "metadata": {},
   "outputs": [],
   "source": []
  }
 ],
 "metadata": {
  "kernelspec": {
   "display_name": "Python 3",
   "language": "python",
   "name": "python3"
  },
  "language_info": {
   "codemirror_mode": {
    "name": "ipython",
    "version": 3
   },
   "file_extension": ".py",
   "mimetype": "text/x-python",
   "name": "python",
   "nbconvert_exporter": "python",
   "pygments_lexer": "ipython3",
   "version": "3.9.0"
  }
 },
 "nbformat": 4,
 "nbformat_minor": 5
}
